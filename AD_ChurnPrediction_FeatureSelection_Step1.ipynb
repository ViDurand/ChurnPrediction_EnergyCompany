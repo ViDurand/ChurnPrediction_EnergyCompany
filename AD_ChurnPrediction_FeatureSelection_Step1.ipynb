{
 "cells": [
  {
   "cell_type": "code",
   "execution_count": 2,
   "metadata": {},
   "outputs": [
    {
     "data": {
      "text/html": [
       "<style>.container { width:80% !important; }</style>"
      ],
      "text/plain": [
       "<IPython.core.display.HTML object>"
      ]
     },
     "metadata": {},
     "output_type": "display_data"
    }
   ],
   "source": [
    "from IPython.core.display import display, HTML\n",
    "display(HTML(\"<style>.container { width:80% !important; }</style>\"))\n",
    "python3 = True"
   ]
  },
  {
   "cell_type": "markdown",
   "metadata": {},
   "source": [
    "# 0- Intruduction: usefull actions"
   ]
  },
  {
   "cell_type": "markdown",
   "metadata": {},
   "source": [
    "The goal of this work is to build model able to predict probability for a client to leave ENEL (Churn)"
   ]
  },
  {
   "cell_type": "markdown",
   "metadata": {},
   "source": [
    "## 0.1- Import of useful packages and modules"
   ]
  },
  {
   "cell_type": "code",
   "execution_count": 3,
   "metadata": {},
   "outputs": [],
   "source": [
    "import pandas as pd, os, sys\n",
    "pd.set_option('max_colwidth', None)\n",
    "import numpy as np\n",
    "from tqdm import tqdm\n",
    "import numbers\n",
    "import subprocess\n",
    "from scipy.stats import chi2_contingency\n",
    "from scipy.stats.stats import pearsonr\n",
    "from scipy.stats.stats import spearmanr"
   ]
  },
  {
   "cell_type": "markdown",
   "metadata": {},
   "source": [
    "## 0.2- Environment variables setting"
   ]
  },
  {
   "cell_type": "code",
   "execution_count": 4,
   "metadata": {},
   "outputs": [],
   "source": [
    "# Setting environment variables\n",
    "sys.path.insert(0, os.environ[\"PYLIB\"] + \"/py4j-0.10.7-src.zip\")\n",
    "sys.path.insert(0, os.environ[\"PYLIB\"] + \"/pyspark.zip\")\n",
    "if python3: os.environ['PYSPARK_PYTHON'] = \"vsb/CI_conda_env_py3/bin/python\""
   ]
  },
  {
   "cell_type": "markdown",
   "metadata": {
    "collapsed": true
   },
   "source": [
    "## 0.2- Spark configuration "
   ]
  },
  {
   "cell_type": "code",
   "execution_count": 5,
   "metadata": {},
   "outputs": [
    {
     "name": "stdout",
     "output_type": "stream",
     "text": [
      "\n"
     ]
    }
   ],
   "source": [
    "# Importing the Spark Configurator and the Spark Session builder\n",
    "from pyspark import SparkConf\n",
    "from pyspark.sql import SparkSession\n",
    "import pyspark.sql.functions as spark_functions\n",
    "import pyspark.sql.types as types\n",
    "from pyspark.mllib.stat import Statistics\n",
    "\n",
    "# Stopping the current session if exists\n",
    "try:\n",
    "    session.stop()\n",
    "except:\n",
    "    print()\n",
    "   \n",
    "# Setting up the spark configurator  \n",
    "conf = SparkConf()\n",
    "conf.set('spark.serializer', \"org.apache.spark.serializer.KryoSerializer\")       \n",
    "conf.set('spark.executor.memory', '16g')\n",
    "conf.set('spark.driver.memory', '16g')\n",
    "conf.set('spark.executor.cores', '3')\n",
    "conf.set('spark.driver.cores', '3')\n",
    "conf.set('spark.dynamicAllocation.enabled', 'true')\n",
    "conf.set('spark.dynamicAllocation.minExecutors', '4')\n",
    "conf.set('spark.dynamicAllocation.maxExecutors', '8')\n",
    "conf.set('spark.executor.memoryOverhead', '8096')\n",
    "conf.set('spark.driver.memoryOverhead', '8096')\n",
    "conf.set('spark.driver.maxResultSize', '16g')\n",
    "conf.set('spark.kryoserializer.buffer.max', '2047')\n",
    "conf.setAppName('DA_Feature_Selection_Step1')\n",
    "if python3: conf.set(\"spark.yarn.dist.archives\", \"/home/anxadvuser/anx_adv_achurn/env_conda_py3.zip#vsb\")\n",
    "\n",
    "# Creating the spark session object\n",
    "session = SparkSession.builder.config(conf=conf).enableHiveSupport().getOrCreate()"
   ]
  },
  {
   "cell_type": "markdown",
   "metadata": {},
   "source": [
    "# 1- Feature Engineering"
   ]
  },
  {
   "cell_type": "markdown",
   "metadata": {},
   "source": [
    "The first step in the process to build our churn prediction model was feature engineering. In this step we created/merged the data to be used in the modeling step. The following steps were used in the feature Engineering process:\n",
    "        - Initial timestamps t0 have been choosen. in our case they are 14: \n",
    "            -> 2019-05-01, \n",
    "            -> 2019-06-01, \n",
    "            -> 2019-07-01, \n",
    "            -> 2019-08-01,\n",
    "            -> 2019-09-01,\n",
    "            -> 2019-10-01, \n",
    "            -> 2019-11-01, \n",
    "            -> 2019-12-01, \n",
    "            -> 2020-01-01, \n",
    "            -> 2020-02-01, \n",
    "            -> 2020-03-01, \n",
    "            -> 2020-04-01, \n",
    "            -> 2020-05-01, \n",
    "            -> 2020-06-01.\n",
    "     - A picture of the data has been taken at each instant t0.\n",
    "     - And finally, 767 features have been computed for each t0 using the data pictures\n",
    "     - We can immagine the feature computation step as an aggregator merging data from several ENEL systems (\"Fatturato\", \"CBA\", \"CRM\", ...)"
   ]
  },
  {
   "cell_type": "markdown",
   "metadata": {},
   "source": [
    "# 2- Feature selection"
   ]
  },
  {
   "cell_type": "markdown",
   "metadata": {},
   "source": [
    "## 2.1- Viewing the data"
   ]
  },
  {
   "cell_type": "markdown",
   "metadata": {
    "collapsed": true
   },
   "source": [
    "Reading the data from the hdfs"
   ]
  },
  {
   "cell_type": "code",
   "execution_count": 5,
   "metadata": {},
   "outputs": [],
   "source": [
    "#input_data = session.read.parquet(\"/bda/anx_adv_achurn/t_bda_anx_dt_ach_b2b_master_table_train\")\n",
    "input_data = session.read.parquet(\"/bda/anx_adv_achurn/t_bda_anx_dt_ach_b2b_master_table_train_test\")"
   ]
  },
  {
   "cell_type": "markdown",
   "metadata": {},
   "source": [
    "How many observations do we have in the data ?"
   ]
  },
  {
   "cell_type": "code",
   "execution_count": 6,
   "metadata": {},
   "outputs": [
    {
     "data": {
      "text/plain": [
       "26209006"
      ]
     },
     "execution_count": 6,
     "metadata": {},
     "output_type": "execute_result"
    }
   ],
   "source": [
    "input_data.count()"
   ]
  },
  {
   "cell_type": "markdown",
   "metadata": {},
   "source": [
    "We have a lot of data and it would be a great thing if the quality of the data was also good. That is wat were are going to check.\n",
    "\n",
    "How many columns do we have in the data ?"
   ]
  },
  {
   "cell_type": "code",
   "execution_count": 11,
   "metadata": {},
   "outputs": [
    {
     "data": {
      "text/plain": [
       "767"
      ]
     },
     "execution_count": 11,
     "metadata": {},
     "output_type": "execute_result"
    }
   ],
   "source": [
    "len(input_data.columns)"
   ]
  },
  {
   "cell_type": "markdown",
   "metadata": {},
   "source": [
    "We have 767 columns in the data witch is a quite big number. let's explore the columns to assess whether or not they have an impact on the target variable.\n",
    "\n",
    "Now let's have a quick look into the data."
   ]
  },
  {
   "cell_type": "code",
   "execution_count": 10,
   "metadata": {
    "collapsed": true
   },
   "outputs": [],
   "source": [
    "input_data_as_pandas_df = input_data.limit(10).toPandas()"
   ]
  },
  {
   "cell_type": "code",
   "execution_count": 11,
   "metadata": {},
   "outputs": [
    {
     "data": {
      "text/html": [
       "<div>\n",
       "<style scoped>\n",
       "    .dataframe tbody tr th:only-of-type {\n",
       "        vertical-align: middle;\n",
       "    }\n",
       "\n",
       "    .dataframe tbody tr th {\n",
       "        vertical-align: top;\n",
       "    }\n",
       "\n",
       "    .dataframe thead th {\n",
       "        text-align: right;\n",
       "    }\n",
       "</style>\n",
       "<table border=\"1\" class=\"dataframe\">\n",
       "  <thead>\n",
       "    <tr style=\"text-align: right;\">\n",
       "      <th></th>\n",
       "      <th>idn_servizio_sk</th>\n",
       "      <th>idn_cliente_sk</th>\n",
       "      <th>cdc_stato_servizio_calc</th>\n",
       "      <th>fk_cliente_unico</th>\n",
       "      <th>idc_id_key_servizio</th>\n",
       "      <th>idn_sito_sk</th>\n",
       "      <th>lds_prodotto_listino_2</th>\n",
       "      <th>sds_segmento_new</th>\n",
       "      <th>idc_id_key_cliente</th>\n",
       "      <th>lds_nome_listino</th>\n",
       "      <th>...</th>\n",
       "      <th>qta_days_incasso_fattura_today_servizio_ultima_bolletta_emessa_canale_ALL</th>\n",
       "      <th>qta_days_scadenza_fattura_pagamento_servizio_ultima_bolletta_emessa_canale_ALL</th>\n",
       "      <th>fln_fattura_non_pagata_servizio_ultima_bolletta_emessa_canale_ALL</th>\n",
       "      <th>fln_fattura_pagata_non_totalmente_servizio_ultima_bolletta_emessa_canale_ALL</th>\n",
       "      <th>fln_fattura_pagata_totalmente_in_ritardo_servizio_ultima_bolletta_emessa_canale_ALL</th>\n",
       "      <th>fln_fattura_pagata_totalmente_nei_tempi_servizio_ultima_bolletta_emessa_canale_ALL</th>\n",
       "      <th>val_fattura_non_pagato_servizio_ultima_bolletta_emessa_canale_ALL</th>\n",
       "      <th>val_fattura_servizio_ultima_bolletta_emessa_canale_ALL</th>\n",
       "      <th>val_incasso_servizio_ultima_bolletta_emessa_canale_ALL</th>\n",
       "      <th>idn_run</th>\n",
       "    </tr>\n",
       "  </thead>\n",
       "  <tbody>\n",
       "    <tr>\n",
       "      <th>0</th>\n",
       "      <td>1215</td>\n",
       "      <td>12416792</td>\n",
       "      <td>ATTIVATO</td>\n",
       "      <td>7917813</td>\n",
       "      <td>02i0Y000000kwKCQAY</td>\n",
       "      <td>24649573</td>\n",
       "      <td>ENERGIA PURA CASA</td>\n",
       "      <td>MICRO</td>\n",
       "      <td>0010Y00000G21JGQAZ</td>\n",
       "      <td>Energia Pura Casa</td>\n",
       "      <td>...</td>\n",
       "      <td>137</td>\n",
       "      <td>-6</td>\n",
       "      <td>0</td>\n",
       "      <td>0</td>\n",
       "      <td>0</td>\n",
       "      <td>1</td>\n",
       "      <td>0.00</td>\n",
       "      <td>70.13</td>\n",
       "      <td>70.13</td>\n",
       "      <td>202007040651</td>\n",
       "    </tr>\n",
       "    <tr>\n",
       "      <th>1</th>\n",
       "      <td>1215</td>\n",
       "      <td>12416792</td>\n",
       "      <td>ATTIVATO</td>\n",
       "      <td>7917813</td>\n",
       "      <td>02i0Y000000kwKCQAY</td>\n",
       "      <td>24649573</td>\n",
       "      <td>ENERGIA PURA CASA</td>\n",
       "      <td>MICRO</td>\n",
       "      <td>0010Y00000G21JGQAZ</td>\n",
       "      <td>Energia Pura Casa</td>\n",
       "      <td>...</td>\n",
       "      <td>137</td>\n",
       "      <td>-6</td>\n",
       "      <td>0</td>\n",
       "      <td>0</td>\n",
       "      <td>0</td>\n",
       "      <td>1</td>\n",
       "      <td>0.00</td>\n",
       "      <td>70.13</td>\n",
       "      <td>70.13</td>\n",
       "      <td>202007040651</td>\n",
       "    </tr>\n",
       "    <tr>\n",
       "      <th>2</th>\n",
       "      <td>4027</td>\n",
       "      <td>16189860</td>\n",
       "      <td>ATTIVATO</td>\n",
       "      <td>12510702</td>\n",
       "      <td>02i0Y000000kx3YQAQ</td>\n",
       "      <td>23786236</td>\n",
       "      <td>ANNO SICURO</td>\n",
       "      <td>MICRO</td>\n",
       "      <td>0010Y00000F6aJ7QAJ</td>\n",
       "      <td>Anno Sicuro P.A. Convenzione</td>\n",
       "      <td>...</td>\n",
       "      <td>358140</td>\n",
       "      <td>358097</td>\n",
       "      <td>1</td>\n",
       "      <td>1</td>\n",
       "      <td>0</td>\n",
       "      <td>0</td>\n",
       "      <td>184.24</td>\n",
       "      <td>184.24</td>\n",
       "      <td>0.00</td>\n",
       "      <td>202007040651</td>\n",
       "    </tr>\n",
       "    <tr>\n",
       "      <th>3</th>\n",
       "      <td>4027</td>\n",
       "      <td>16189860</td>\n",
       "      <td>ATTIVATO</td>\n",
       "      <td>12510702</td>\n",
       "      <td>02i0Y000000kx3YQAQ</td>\n",
       "      <td>23786236</td>\n",
       "      <td>ANNO SICURO</td>\n",
       "      <td>MICRO</td>\n",
       "      <td>0010Y00000F6aJ7QAJ</td>\n",
       "      <td>Anno Sicuro P.A. Convenzione</td>\n",
       "      <td>...</td>\n",
       "      <td>358140</td>\n",
       "      <td>358097</td>\n",
       "      <td>1</td>\n",
       "      <td>1</td>\n",
       "      <td>0</td>\n",
       "      <td>0</td>\n",
       "      <td>184.24</td>\n",
       "      <td>184.24</td>\n",
       "      <td>0.00</td>\n",
       "      <td>202007040651</td>\n",
       "    </tr>\n",
       "    <tr>\n",
       "      <th>4</th>\n",
       "      <td>8831</td>\n",
       "      <td>16421724</td>\n",
       "      <td>ATTIVATO</td>\n",
       "      <td>8982021</td>\n",
       "      <td>02i0Y000000kyJ2QAI</td>\n",
       "      <td>24234309</td>\n",
       "      <td>ANNO SICURO</td>\n",
       "      <td>MICRO</td>\n",
       "      <td>0010Y00000FCa3LQAT</td>\n",
       "      <td>Anno Sicuro_V3_rinnovi</td>\n",
       "      <td>...</td>\n",
       "      <td>61</td>\n",
       "      <td>8</td>\n",
       "      <td>0</td>\n",
       "      <td>0</td>\n",
       "      <td>1</td>\n",
       "      <td>0</td>\n",
       "      <td>0.00</td>\n",
       "      <td>91.59</td>\n",
       "      <td>91.59</td>\n",
       "      <td>202007040651</td>\n",
       "    </tr>\n",
       "  </tbody>\n",
       "</table>\n",
       "<p>5 rows × 767 columns</p>\n",
       "</div>"
      ],
      "text/plain": [
       "   idn_servizio_sk  idn_cliente_sk cdc_stato_servizio_calc  fk_cliente_unico  \\\n",
       "0             1215        12416792                ATTIVATO           7917813   \n",
       "1             1215        12416792                ATTIVATO           7917813   \n",
       "2             4027        16189860                ATTIVATO          12510702   \n",
       "3             4027        16189860                ATTIVATO          12510702   \n",
       "4             8831        16421724                ATTIVATO           8982021   \n",
       "\n",
       "  idc_id_key_servizio  idn_sito_sk lds_prodotto_listino_2 sds_segmento_new  \\\n",
       "0  02i0Y000000kwKCQAY     24649573      ENERGIA PURA CASA            MICRO   \n",
       "1  02i0Y000000kwKCQAY     24649573      ENERGIA PURA CASA            MICRO   \n",
       "2  02i0Y000000kx3YQAQ     23786236            ANNO SICURO            MICRO   \n",
       "3  02i0Y000000kx3YQAQ     23786236            ANNO SICURO            MICRO   \n",
       "4  02i0Y000000kyJ2QAI     24234309            ANNO SICURO            MICRO   \n",
       "\n",
       "   idc_id_key_cliente              lds_nome_listino  ...  \\\n",
       "0  0010Y00000G21JGQAZ             Energia Pura Casa  ...   \n",
       "1  0010Y00000G21JGQAZ             Energia Pura Casa  ...   \n",
       "2  0010Y00000F6aJ7QAJ  Anno Sicuro P.A. Convenzione  ...   \n",
       "3  0010Y00000F6aJ7QAJ  Anno Sicuro P.A. Convenzione  ...   \n",
       "4  0010Y00000FCa3LQAT        Anno Sicuro_V3_rinnovi  ...   \n",
       "\n",
       "  qta_days_incasso_fattura_today_servizio_ultima_bolletta_emessa_canale_ALL  \\\n",
       "0                                                137                          \n",
       "1                                                137                          \n",
       "2                                             358140                          \n",
       "3                                             358140                          \n",
       "4                                                 61                          \n",
       "\n",
       "  qta_days_scadenza_fattura_pagamento_servizio_ultima_bolletta_emessa_canale_ALL  \\\n",
       "0                                                 -6                               \n",
       "1                                                 -6                               \n",
       "2                                             358097                               \n",
       "3                                             358097                               \n",
       "4                                                  8                               \n",
       "\n",
       "   fln_fattura_non_pagata_servizio_ultima_bolletta_emessa_canale_ALL  \\\n",
       "0                                                  0                   \n",
       "1                                                  0                   \n",
       "2                                                  1                   \n",
       "3                                                  1                   \n",
       "4                                                  0                   \n",
       "\n",
       "  fln_fattura_pagata_non_totalmente_servizio_ultima_bolletta_emessa_canale_ALL  \\\n",
       "0                                                  0                             \n",
       "1                                                  0                             \n",
       "2                                                  1                             \n",
       "3                                                  1                             \n",
       "4                                                  0                             \n",
       "\n",
       "  fln_fattura_pagata_totalmente_in_ritardo_servizio_ultima_bolletta_emessa_canale_ALL  \\\n",
       "0                                                  0                                    \n",
       "1                                                  0                                    \n",
       "2                                                  0                                    \n",
       "3                                                  0                                    \n",
       "4                                                  1                                    \n",
       "\n",
       "  fln_fattura_pagata_totalmente_nei_tempi_servizio_ultima_bolletta_emessa_canale_ALL  \\\n",
       "0                                                  1                                   \n",
       "1                                                  1                                   \n",
       "2                                                  0                                   \n",
       "3                                                  0                                   \n",
       "4                                                  0                                   \n",
       "\n",
       "  val_fattura_non_pagato_servizio_ultima_bolletta_emessa_canale_ALL  \\\n",
       "0                                               0.00                  \n",
       "1                                               0.00                  \n",
       "2                                             184.24                  \n",
       "3                                             184.24                  \n",
       "4                                               0.00                  \n",
       "\n",
       "  val_fattura_servizio_ultima_bolletta_emessa_canale_ALL  \\\n",
       "0                                              70.13       \n",
       "1                                              70.13       \n",
       "2                                             184.24       \n",
       "3                                             184.24       \n",
       "4                                              91.59       \n",
       "\n",
       "  val_incasso_servizio_ultima_bolletta_emessa_canale_ALL       idn_run  \n",
       "0                                              70.13      202007040651  \n",
       "1                                              70.13      202007040651  \n",
       "2                                               0.00      202007040651  \n",
       "3                                               0.00      202007040651  \n",
       "4                                              91.59      202007040651  \n",
       "\n",
       "[5 rows x 767 columns]"
      ]
     },
     "execution_count": 11,
     "metadata": {},
     "output_type": "execute_result"
    }
   ],
   "source": [
    "input_data_as_pandas_df.head(5)"
   ]
  },
  {
   "cell_type": "markdown",
   "metadata": {},
   "source": [
    "## 2.2 Unsupervised feature selection"
   ]
  },
  {
   "cell_type": "markdown",
   "metadata": {},
   "source": [
    "The main goal of this step is to select the most suitable features for the model first by performing some simple manual analogy and then computing the correlation among features to further filter them."
   ]
  },
  {
   "cell_type": "markdown",
   "metadata": {},
   "source": [
    "We are going to perform some preliminary analysis over the entire set of features in order to understand whether or not they are relevant. \n",
    "\n",
    "First of all, let's compute the number of distict values for each column in the data set."
   ]
  },
  {
   "cell_type": "markdown",
   "metadata": {},
   "source": [
    "### 2.2.1 Distinct values number"
   ]
  },
  {
   "cell_type": "code",
   "execution_count": 12,
   "metadata": {},
   "outputs": [
    {
     "name": "stderr",
     "output_type": "stream",
     "text": [
      "100%|██████████| 767/767 [1:58:57<00:00,  8.83s/it]  \n"
     ]
    }
   ],
   "source": [
    "distinct_values_dict = {}\n",
    "for column in tqdm(input_data.columns):\n",
    "    distinct_values_dict[column] = input_data.select(column).distinct().count()"
   ]
  },
  {
   "cell_type": "code",
   "execution_count": 13,
   "metadata": {},
   "outputs": [
    {
     "data": {
      "text/html": [
       "<div>\n",
       "<style scoped>\n",
       "    .dataframe tbody tr th:only-of-type {\n",
       "        vertical-align: middle;\n",
       "    }\n",
       "\n",
       "    .dataframe tbody tr th {\n",
       "        vertical-align: top;\n",
       "    }\n",
       "\n",
       "    .dataframe thead th {\n",
       "        text-align: right;\n",
       "    }\n",
       "</style>\n",
       "<table border=\"1\" class=\"dataframe\">\n",
       "  <thead>\n",
       "    <tr style=\"text-align: right;\">\n",
       "      <th></th>\n",
       "      <th>column</th>\n",
       "      <th>n_distinct_value</th>\n",
       "    </tr>\n",
       "  </thead>\n",
       "  <tbody>\n",
       "    <tr>\n",
       "      <th>0</th>\n",
       "      <td>idn_servizio_sk</td>\n",
       "      <td>2148588</td>\n",
       "    </tr>\n",
       "    <tr>\n",
       "      <th>1</th>\n",
       "      <td>idn_cliente_sk</td>\n",
       "      <td>1626057</td>\n",
       "    </tr>\n",
       "    <tr>\n",
       "      <th>2</th>\n",
       "      <td>cdc_stato_servizio_calc</td>\n",
       "      <td>6</td>\n",
       "    </tr>\n",
       "    <tr>\n",
       "      <th>3</th>\n",
       "      <td>fk_cliente_unico</td>\n",
       "      <td>1585947</td>\n",
       "    </tr>\n",
       "    <tr>\n",
       "      <th>4</th>\n",
       "      <td>idc_id_key_servizio</td>\n",
       "      <td>2148588</td>\n",
       "    </tr>\n",
       "    <tr>\n",
       "      <th>5</th>\n",
       "      <td>idn_sito_sk</td>\n",
       "      <td>2064097</td>\n",
       "    </tr>\n",
       "    <tr>\n",
       "      <th>6</th>\n",
       "      <td>lds_prodotto_listino_2</td>\n",
       "      <td>220</td>\n",
       "    </tr>\n",
       "    <tr>\n",
       "      <th>7</th>\n",
       "      <td>sds_segmento_new</td>\n",
       "      <td>3</td>\n",
       "    </tr>\n",
       "    <tr>\n",
       "      <th>8</th>\n",
       "      <td>idc_id_key_cliente</td>\n",
       "      <td>1626055</td>\n",
       "    </tr>\n",
       "    <tr>\n",
       "      <th>9</th>\n",
       "      <td>lds_nome_listino</td>\n",
       "      <td>876</td>\n",
       "    </tr>\n",
       "  </tbody>\n",
       "</table>\n",
       "</div>"
      ],
      "text/plain": [
       "                    column  n_distinct_value\n",
       "0          idn_servizio_sk           2148588\n",
       "1           idn_cliente_sk           1626057\n",
       "2  cdc_stato_servizio_calc                 6\n",
       "3         fk_cliente_unico           1585947\n",
       "4      idc_id_key_servizio           2148588\n",
       "5              idn_sito_sk           2064097\n",
       "6   lds_prodotto_listino_2               220\n",
       "7         sds_segmento_new                 3\n",
       "8       idc_id_key_cliente           1626055\n",
       "9         lds_nome_listino               876"
      ]
     },
     "execution_count": 13,
     "metadata": {},
     "output_type": "execute_result"
    }
   ],
   "source": [
    "distinct_values = [distinct_values_dict[column] for column in input_data.columns]\n",
    "distinct_values_dict_for_pd = {'column': input_data.columns, 'n_distinct_value': distinct_values}\n",
    "distinct_values_df = pd.DataFrame.from_dict(distinct_values_dict_for_pd)\n",
    "distinct_values_df.to_csv('/userdata/durand/distinct_values_number_per_column.csv')\n",
    "distinct_values_df.head(10)"
   ]
  },
  {
   "cell_type": "markdown",
   "metadata": {},
   "source": [
    "### 2.2.2 Data types"
   ]
  },
  {
   "cell_type": "markdown",
   "metadata": {},
   "source": [
    "Now, let's compute the data type of each column in the data set"
   ]
  },
  {
   "cell_type": "code",
   "execution_count": 14,
   "metadata": {},
   "outputs": [
    {
     "name": "stderr",
     "output_type": "stream",
     "text": [
      "100%|██████████| 767/767 [00:00<00:00, 305714.26it/s]\n"
     ]
    }
   ],
   "source": [
    "dta_type_dict = {}\n",
    "for column in tqdm(input_data.columns):\n",
    "    if (column.startswith('idn_') or column.startswith('fk_') or column.startswith('qta_')\n",
    "       or column.startswith('val_') or column.startswith('fln_')):\n",
    "        dta_type_dict[column] = 'numerical'\n",
    "    else:\n",
    "        if (column.startswith('dta_')):\n",
    "            dta_type_dict[column] = 'date'\n",
    "        else:\n",
    "            dta_type_dict[column] = 'categorical'"
   ]
  },
  {
   "cell_type": "code",
   "execution_count": 15,
   "metadata": {},
   "outputs": [
    {
     "data": {
      "text/html": [
       "<div>\n",
       "<style scoped>\n",
       "    .dataframe tbody tr th:only-of-type {\n",
       "        vertical-align: middle;\n",
       "    }\n",
       "\n",
       "    .dataframe tbody tr th {\n",
       "        vertical-align: top;\n",
       "    }\n",
       "\n",
       "    .dataframe thead th {\n",
       "        text-align: right;\n",
       "    }\n",
       "</style>\n",
       "<table border=\"1\" class=\"dataframe\">\n",
       "  <thead>\n",
       "    <tr style=\"text-align: right;\">\n",
       "      <th></th>\n",
       "      <th>column</th>\n",
       "      <th>data_type</th>\n",
       "    </tr>\n",
       "  </thead>\n",
       "  <tbody>\n",
       "    <tr>\n",
       "      <th>0</th>\n",
       "      <td>idn_servizio_sk</td>\n",
       "      <td>numerical</td>\n",
       "    </tr>\n",
       "    <tr>\n",
       "      <th>1</th>\n",
       "      <td>idn_cliente_sk</td>\n",
       "      <td>numerical</td>\n",
       "    </tr>\n",
       "    <tr>\n",
       "      <th>2</th>\n",
       "      <td>cdc_stato_servizio_calc</td>\n",
       "      <td>categorical</td>\n",
       "    </tr>\n",
       "    <tr>\n",
       "      <th>3</th>\n",
       "      <td>fk_cliente_unico</td>\n",
       "      <td>numerical</td>\n",
       "    </tr>\n",
       "    <tr>\n",
       "      <th>4</th>\n",
       "      <td>idc_id_key_servizio</td>\n",
       "      <td>categorical</td>\n",
       "    </tr>\n",
       "    <tr>\n",
       "      <th>5</th>\n",
       "      <td>idn_sito_sk</td>\n",
       "      <td>numerical</td>\n",
       "    </tr>\n",
       "    <tr>\n",
       "      <th>6</th>\n",
       "      <td>lds_prodotto_listino_2</td>\n",
       "      <td>categorical</td>\n",
       "    </tr>\n",
       "    <tr>\n",
       "      <th>7</th>\n",
       "      <td>sds_segmento_new</td>\n",
       "      <td>categorical</td>\n",
       "    </tr>\n",
       "    <tr>\n",
       "      <th>8</th>\n",
       "      <td>idc_id_key_cliente</td>\n",
       "      <td>categorical</td>\n",
       "    </tr>\n",
       "    <tr>\n",
       "      <th>9</th>\n",
       "      <td>lds_nome_listino</td>\n",
       "      <td>categorical</td>\n",
       "    </tr>\n",
       "  </tbody>\n",
       "</table>\n",
       "</div>"
      ],
      "text/plain": [
       "                    column    data_type\n",
       "0          idn_servizio_sk    numerical\n",
       "1           idn_cliente_sk    numerical\n",
       "2  cdc_stato_servizio_calc  categorical\n",
       "3         fk_cliente_unico    numerical\n",
       "4      idc_id_key_servizio  categorical\n",
       "5              idn_sito_sk    numerical\n",
       "6   lds_prodotto_listino_2  categorical\n",
       "7         sds_segmento_new  categorical\n",
       "8       idc_id_key_cliente  categorical\n",
       "9         lds_nome_listino  categorical"
      ]
     },
     "execution_count": 15,
     "metadata": {},
     "output_type": "execute_result"
    }
   ],
   "source": [
    "data_types = [dta_type_dict[column] for column in input_data.columns]\n",
    "data_types_dict_for_pd = {'column': input_data.columns, 'data_type': data_types}\n",
    "data_types_df = pd.DataFrame.from_dict(data_types_dict_for_pd)\n",
    "data_types_df.to_csv('/userdata/durand/data_types_per_column.csv')\n",
    "data_types_df.head(10)"
   ]
  },
  {
   "cell_type": "markdown",
   "metadata": {},
   "source": [
    "### 2.2.3 NA proportions"
   ]
  },
  {
   "cell_type": "markdown",
   "metadata": {},
   "source": [
    "Let's compute the number of NA values for each column in the data set. \n",
    "\n",
    "Each column in the data set will have a specific NA calculation method based on the data type. The prefixes of the columns provide us some useful information about the NA calculation method to be used for that particular column. \n",
    "\n",
    "let us have a look at all the possible prefixes and establish the NA calculation formulas:"
   ]
  },
  {
   "cell_type": "code",
   "execution_count": 16,
   "metadata": {},
   "outputs": [
    {
     "data": {
      "text/plain": [
       "['lds',\n",
       " 'fln',\n",
       " 'val',\n",
       " 'sds',\n",
       " 'dta',\n",
       " 'cdc',\n",
       " 'idn',\n",
       " 'cdn',\n",
       " 'xds',\n",
       " 'qta',\n",
       " 'mds',\n",
       " 'flc',\n",
       " 'fk',\n",
       " 'idc']"
      ]
     },
     "execution_count": 16,
     "metadata": {},
     "output_type": "execute_result"
    }
   ],
   "source": [
    "prefixes = list(set([column.split('_')[0] for column in input_data.columns]))\n",
    "prefixes"
   ]
  },
  {
   "cell_type": "markdown",
   "metadata": {},
   "source": [
    "'lds' ->\n",
    "    - Long Description. \n",
    "    - Possible values: String\n",
    "    - NA values: ['***', 'NULL', null, NA, na, Na, nA, '']\n",
    "\n",
    "'fln' -> \n",
    "    - Numerical Flag. \n",
    "    - Possible values: [0, 1]\n",
    "    - NA values: [!=0 and !=1]\n",
    "\n",
    "'val' ->\n",
    "    - Numerical value.\n",
    "    - Possible values: Number\n",
    "    - NA values: [null]\n",
    "    \n",
    "'sds' ->\n",
    "    - Short Description.\n",
    "    - Possible values: String\n",
    "    - NA values: ['***', 'NULL', null, NA, na, Na, nA, '']\n",
    "\n",
    "'dta' ->\n",
    "    - Date.\n",
    "    - Possible values: Date\n",
    "    - NA values: ['2999-12-01 00:00:00', '2999-12-31 00:00:00', '1900-01-01 00:00:00', null]\n",
    "\n",
    "'cdc' ->\n",
    "    - Textual code.\n",
    "    - Possible values: String\n",
    "    - NA values: ['***', 'NULL', null, NA, na, Na, nA, '']\n",
    "    \n",
    "'idn' -> \n",
    "    - Numerical id.\n",
    "    - Possible values: Number\n",
    "    - NA values: [0, null]\n",
    "    \n",
    "\n",
    "'cdn' ->\n",
    "    - Numerical code.\n",
    "    - Possible values: Number\n",
    "    - NA values: [0, null]\n",
    " \n",
    "'xds' ->\n",
    "    - Extended Description.\n",
    "    - Possible values: String\n",
    "    - NA values: ['***', 'NULL', null, NA, na, Na, nA, '']\n",
    "  \n",
    "'qta' ->\n",
    "    - Numerical value.\n",
    "    - Possible values: Number\n",
    "    - NA values: [null]\n",
    "    \n",
    "'mds' ->\n",
    "    - Medium Description.\n",
    "    - Possible values: String\n",
    "    - NA values: ['***', 'NULL', null, NA, na, Na, nA, '']\n",
    "\n",
    "'flc' ->\n",
    "    - Categorical Flag. \n",
    "    - Possible values: Character\n",
    "    - NA values: ['*', '***', 'NULL', null, NA, na, Na, nA, '']\n",
    "\n",
    "'fk' ->\n",
    "    - Numerical value.\n",
    "    - Possible values: Number\n",
    "    - NA values: [null, 0]\n",
    "    \n",
    "'idc' ->\n",
    "    - Textual id.\n",
    "    - Possible values: String\n",
    "    - NA values: ['***', null, '']"
   ]
  },
  {
   "cell_type": "code",
   "execution_count": 17,
   "metadata": {},
   "outputs": [
    {
     "name": "stderr",
     "output_type": "stream",
     "text": [
      "100%|██████████| 767/767 [1:48:51<00:00,  8.08s/it]\n"
     ]
    }
   ],
   "source": [
    "na_values_dict = {}\n",
    "for column in tqdm(input_data.columns):\n",
    "    if (column.split('_')[0] == 'lds'):\n",
    "        # NA values: ['***', 'null', null, 'na', '']\n",
    "        na_values_dict[column] = input_data.select(column).where('`'+column+\"` is null or lower(\"+ column +\") in('***', 'null', 'na', '')\").count()\n",
    "    if (column.split('_')[0] == 'fln'):\n",
    "        # NA values: [not a number]\n",
    "        na_values_dict[column] = input_data.select(column).where(\"cast(`\"+column+\"` as double) is null\").count()\n",
    "    if (column.split('_')[0] == 'val'):\n",
    "        # NA values: [null]\n",
    "        na_values_dict[column] = input_data.select(column).where('`'+column+\"` is null\").count()\n",
    "    if (column.split('_')[0] == 'sds'):\n",
    "        # NA values: ['***', 'null', null, 'na', '']\n",
    "        na_values_dict[column] = input_data.select(column).where('`'+column+\"` is null or lower(\"+ column +\") in('***', 'null', 'na', '')\").count()\n",
    "    if (column.split('_')[0] == 'dta'):\n",
    "        # NA values: ['2999-12-01 00:00:00', '2999-12-31 00:00:00', '1900-01-01 00:00:00', null]\n",
    "        na_values_dict[column] = input_data.select(column).where('`'+column+\"` is null or lower(\"+ column +\") in('2999-12-01 00:00:00', '2999-12-31 00:00:00', '1900-01-01 00:00:00')\").count()\n",
    "    if (column.split('_')[0] == 'cdc'):\n",
    "        # NA values: ['***', 'null', null, 'na', '']\n",
    "        na_values_dict[column] = input_data.select(column).where('`'+column+\"` is null or lower(\"+ column +\") in('***', 'null', 'na', '')\").count()\n",
    "    if (column.split('_')[0] == 'idn'):\n",
    "        # NA values: [null, 0]\n",
    "        na_values_dict[column] = input_data.select(column).where('`'+column+\"` is null or lower(\"+ column +\") in(0)\").count()\n",
    "    if (column.split('_')[0] == 'cdn'):\n",
    "        # NA values: [null, 0]\n",
    "        na_values_dict[column] = input_data.select(column).where('`'+column+\"` is null or lower(\"+ column +\") in(0)\").count()\n",
    "    if (column.split('_')[0] == 'xds'):\n",
    "        # NA values: ['***', 'null', null, 'na', '']\n",
    "        na_values_dict[column] = input_data.select(column).where('`'+column+\"` is null or lower(\"+ column +\") in('***', 'null', 'na', '')\").count()\n",
    "    if (column.split('_')[0] == 'qta'):\n",
    "        # NA values: [null]\n",
    "        na_values_dict[column] = input_data.select(column).where('`'+column+\"` is null\").count()\n",
    "    if (column.split('_')[0] == 'mds'):\n",
    "        # NA values: ['***', 'null', null, 'na', '']\n",
    "        na_values_dict[column] = input_data.select(column).where('`'+column+\"` is null or lower(\"+ column +\") in('***', 'null', 'na', '')\").count()\n",
    "    if (column.split('_')[0] == 'flc'):\n",
    "        # NA values: ['*', ***', 'null', null, 'na', '']\n",
    "        na_values_dict[column] = input_data.select(column).where('`'+column+\"` is null or lower(\"+ column +\") in('*', '***', 'null', 'na', '')\").count()\n",
    "    if (column.split('_')[0] == 'fk'):\n",
    "        # NA values: [null, 0]\n",
    "        na_values_dict[column] = input_data.select(column).where('`'+column+\"` is null or lower(\"+ column +\") in(0)\").count()\n",
    "    if (column.split('_')[0] == 'idc'):\n",
    "        # NA values: ['***', 'null', null, 'na', '']\n",
    "        na_values_dict[column] = input_data.select(column).where('`'+column+\"` is null or lower(\"+ column +\") in('***', 'null', 'na', '')\").count()"
   ]
  },
  {
   "cell_type": "code",
   "execution_count": 18,
   "metadata": {},
   "outputs": [
    {
     "data": {
      "text/html": [
       "<div>\n",
       "<style scoped>\n",
       "    .dataframe tbody tr th:only-of-type {\n",
       "        vertical-align: middle;\n",
       "    }\n",
       "\n",
       "    .dataframe tbody tr th {\n",
       "        vertical-align: top;\n",
       "    }\n",
       "\n",
       "    .dataframe thead th {\n",
       "        text-align: right;\n",
       "    }\n",
       "</style>\n",
       "<table border=\"1\" class=\"dataframe\">\n",
       "  <thead>\n",
       "    <tr style=\"text-align: right;\">\n",
       "      <th></th>\n",
       "      <th>column</th>\n",
       "      <th>na_values</th>\n",
       "    </tr>\n",
       "  </thead>\n",
       "  <tbody>\n",
       "    <tr>\n",
       "      <th>0</th>\n",
       "      <td>idn_servizio_sk</td>\n",
       "      <td>0</td>\n",
       "    </tr>\n",
       "    <tr>\n",
       "      <th>1</th>\n",
       "      <td>idn_cliente_sk</td>\n",
       "      <td>0</td>\n",
       "    </tr>\n",
       "    <tr>\n",
       "      <th>2</th>\n",
       "      <td>cdc_stato_servizio_calc</td>\n",
       "      <td>11667</td>\n",
       "    </tr>\n",
       "    <tr>\n",
       "      <th>3</th>\n",
       "      <td>fk_cliente_unico</td>\n",
       "      <td>60</td>\n",
       "    </tr>\n",
       "    <tr>\n",
       "      <th>4</th>\n",
       "      <td>idc_id_key_servizio</td>\n",
       "      <td>0</td>\n",
       "    </tr>\n",
       "    <tr>\n",
       "      <th>5</th>\n",
       "      <td>idn_sito_sk</td>\n",
       "      <td>0</td>\n",
       "    </tr>\n",
       "    <tr>\n",
       "      <th>6</th>\n",
       "      <td>lds_prodotto_listino_2</td>\n",
       "      <td>8011</td>\n",
       "    </tr>\n",
       "    <tr>\n",
       "      <th>7</th>\n",
       "      <td>sds_segmento_new</td>\n",
       "      <td>0</td>\n",
       "    </tr>\n",
       "    <tr>\n",
       "      <th>8</th>\n",
       "      <td>idc_id_key_cliente</td>\n",
       "      <td>60</td>\n",
       "    </tr>\n",
       "    <tr>\n",
       "      <th>9</th>\n",
       "      <td>lds_nome_listino</td>\n",
       "      <td>20337</td>\n",
       "    </tr>\n",
       "  </tbody>\n",
       "</table>\n",
       "</div>"
      ],
      "text/plain": [
       "                    column  na_values\n",
       "0          idn_servizio_sk          0\n",
       "1           idn_cliente_sk          0\n",
       "2  cdc_stato_servizio_calc      11667\n",
       "3         fk_cliente_unico         60\n",
       "4      idc_id_key_servizio          0\n",
       "5              idn_sito_sk          0\n",
       "6   lds_prodotto_listino_2       8011\n",
       "7         sds_segmento_new          0\n",
       "8       idc_id_key_cliente         60\n",
       "9         lds_nome_listino      20337"
      ]
     },
     "execution_count": 18,
     "metadata": {},
     "output_type": "execute_result"
    }
   ],
   "source": [
    "na_values = [na_values_dict[column] for column in input_data.columns]\n",
    "na_values_dict_for_pd = {'column': input_data.columns, 'na_values': na_values}\n",
    "na_values_df = pd.DataFrame.from_dict(na_values_dict_for_pd)\n",
    "na_values_df.to_csv('/userdata/durand/na_values_per_column.csv')\n",
    "na_values_df.head(10)"
   ]
  },
  {
   "cell_type": "markdown",
   "metadata": {},
   "source": [
    "After analysis we noticed that all the features representing quantities of days, some values were really high. Those high values were due to the fact that a difference was being computed between current date and default date (01-01-1900). Resulting in a very high value. For this reason, all the values above 10 years (3650 days) will be considered as NA for these particular features.\n",
    "\n",
    "Let's recompute the total number of NA values for these column"
   ]
  },
  {
   "cell_type": "code",
   "execution_count": 48,
   "metadata": {
    "collapsed": true
   },
   "outputs": [],
   "source": [
    "date_qta_columns = [\n",
    "    'qta_giorni_ultimo_contatto_inbound',\n",
    "    'qta_giorni_ultimo_contatto_outbound',\n",
    "    'qta_giorni_ultimo_reclamo',\n",
    "    'qta_days_since_last_inbound_contact',\n",
    "    'qta_days_since_last_inbound_contact_channel_APP',\n",
    "    'qta_days_since_last_inbound_contact_channel_FACE',\n",
    "    'qta_days_since_last_inbound_contact_channel_TELEFONICO',\n",
    "    'qta_days_since_last_inbound_contact_channel_DOCUMENTALE_COMPLESSO',\n",
    "    'qta_days_since_last_inbound_contact_channel_DOCUMENTALE',\n",
    "    'qta_days_since_last_inbound_contact_channel_CHAT',\n",
    "    'qta_days_since_last_inbound_contact_channel_WEB',\n",
    "    'qta_days_since_last_inbound_contact_microcausale_RETTIFICHE_CONSUMI_FATTURAZIONE',\n",
    "    'qta_days_since_last_inbound_contact_microcausale_INFORMATIVA',\n",
    "    'qta_days_since_last_inbound_contact_microcausale_VOLTURA',\n",
    "    'qta_days_since_last_inbound_contact_microcausale_PRIMA_ATTIVAZIONE',\n",
    "    'qta_days_since_last_inbound_contact_microcausale_COPIA_DOCUMENTAZIONI',\n",
    "    'qta_days_since_last_inbound_contact_microcausale_RIMBORSO_COMPENSAZIONE',\n",
    "    'qta_days_since_last_inbound_contact_microcausale_LAVORI_E_MODIFICHE_TECNICHE_POTENZA_TENSIONE',\n",
    "    'qta_days_since_last_inbound_contact_microcausale_INFORMATIVA_CREDITO',\n",
    "    'qta_days_since_last_inbound_contact_microcausale_DISTACCHI_RIALLACCI',\n",
    "    'qta_days_since_last_inbound_contact_microcausale_DISDETTE_E_CESSAZIONI',\n",
    "    'qta_days_since_last_inbound_contact_microcausale_GESTIONE_VAS',\n",
    "    'qta_days_since_last_inbound_contact_microcausale_AUTOLETTURA',\n",
    "    'qta_days_since_last_inbound_contact_microcausale_RIPENSAMENTO_O_DISCONOSCIMENTO',\n",
    "    'qta_days_since_last_inbound_contact_microcausale_GESTIONE_FORNITURA',\n",
    "    'qta_days_since_last_inbound_contact_microcausale_MODIFICA_ANAGRAFICA_O_DATI_FORNITURA_FATTURAZIONE',\n",
    "    'qta_days_since_last_inbound_contact_microcausale_RECLAMI_SCRITTI',\n",
    "    'qta_days_since_last_inbound_contact_microcausale_REPEATED_LIST',\n",
    "    'qta_days_since_last_inbound_contact_microcausale_INFORMATIVA_CONSUMI_PAGAMENTI',\n",
    "    'qta_days_since_last_inbound_contact_microcausale_SWITCH_ATTIVO',\n",
    "    'qta_days_since_last_inbound_contact_microcausale_MODALITA_DI_PAGAMENTO',\n",
    "    'qta_days_since_last_inbound_contact_microcausale_ALLACCIO_E_ATTIVAZIONE',\n",
    "    'qta_days_since_last_inbound_contact_microcausale_VERIFICHE_TECNICHE',\n",
    "    'qta_days_since_last_inbound_contact_microcausale_INFORMATIVA_NON_DI_COMPETENZA',\n",
    "    'qta_days_since_last_inbound_contact_microcausale_GESTIONE_PRIVACY',\n",
    "    'qta_days_since_last_inbound_contact_microcausale_RVC',\n",
    "    'qta_days_since_last_inbound_contact_microcausale_PIANO_DI_RIENTRO',\n",
    "    'qta_days_since_last_inbound_contact_microcausale_SUBENTRO',\n",
    "    'qta_days_since_last_inbound_contact_macrocausale_Causale_non_definita',\n",
    "    'qta_days_since_last_inbound_contact_macrocausale_Chiarimenti_su_fatture',\n",
    "    'qta_days_since_last_inbound_contact_macrocausale_Chiarimento_su_offerta',\n",
    "    'qta_days_since_last_inbound_contact_macrocausale_Credito',\n",
    "    'qta_days_since_last_inbound_contact_macrocausale_Esecuzione_lavori',\n",
    "    'qta_days_since_last_inbound_contact_macrocausale_Informativa',\n",
    "    'qta_days_since_last_inbound_contact_macrocausale_Problemi_in_fase_di_attivazione',\n",
    "    'qta_days_since_last_inbound_contact_macrocausale_Reclami_vendita_Privacy',\n",
    "    'qta_days_since_last_inbound_contact_macrocausale_Ritardata_esecuzione_subentri_volture_cessazioni_etc',\n",
    "    'qta_days_last_response_marketing_cli',\n",
    "    'qta_days_diff_diffida_fattura_cli',\n",
    "    'qta_days_last_diffida_cli',\n",
    "    'qta_days_diff_sollecito_fattura_cli',\n",
    "    'qta_days_last_sollecito_cli',\n",
    "    'qta_days_servizio_attualmente_distaccato',\n",
    "    'qta_days_servizio_riallacciato',\n",
    "    'qta_days_emissione_fattura_pagamento_servizio_ultima_bolletta_emessa_canale_ALL',\n",
    "    'qta_days_incasso_fattura_today_servizio_ultima_bolletta_emessa_canale_ALL',\n",
    "    'qta_days_scadenza_fattura_pagamento_servizio_ultima_bolletta_emessa_canale_ALL'\n",
    "]"
   ]
  },
  {
   "cell_type": "code",
   "execution_count": 49,
   "metadata": {},
   "outputs": [
    {
     "name": "stderr",
     "output_type": "stream",
     "text": [
      "100%|██████████| 54/54 [09:11<00:00, 11.29s/it]\n"
     ]
    }
   ],
   "source": [
    "date_qta_na_values_dict = {}\n",
    "for column in tqdm(date_qta_columns):\n",
    "    # NA values: [null]\n",
    "    date_qta_na_values_dict[column] = input_data.select(column).where(\"`\"+column+\"` is null or \"+\"`\"+column+\"` >= 3650\").count()"
   ]
  },
  {
   "cell_type": "code",
   "execution_count": 50,
   "metadata": {},
   "outputs": [
    {
     "data": {
      "text/html": [
       "<div>\n",
       "<style scoped>\n",
       "    .dataframe tbody tr th:only-of-type {\n",
       "        vertical-align: middle;\n",
       "    }\n",
       "\n",
       "    .dataframe tbody tr th {\n",
       "        vertical-align: top;\n",
       "    }\n",
       "\n",
       "    .dataframe thead th {\n",
       "        text-align: right;\n",
       "    }\n",
       "</style>\n",
       "<table border=\"1\" class=\"dataframe\">\n",
       "  <thead>\n",
       "    <tr style=\"text-align: right;\">\n",
       "      <th></th>\n",
       "      <th>column</th>\n",
       "      <th>na_values</th>\n",
       "    </tr>\n",
       "  </thead>\n",
       "  <tbody>\n",
       "    <tr>\n",
       "      <th>0</th>\n",
       "      <td>qta_days_since_last_inbound_contact</td>\n",
       "      <td>9706770</td>\n",
       "    </tr>\n",
       "    <tr>\n",
       "      <th>1</th>\n",
       "      <td>qta_days_since_last_inbound_contact_channel_APP</td>\n",
       "      <td>25855692</td>\n",
       "    </tr>\n",
       "    <tr>\n",
       "      <th>2</th>\n",
       "      <td>qta_days_since_last_inbound_contact_channel_FACE</td>\n",
       "      <td>20667366</td>\n",
       "    </tr>\n",
       "    <tr>\n",
       "      <th>3</th>\n",
       "      <td>qta_days_since_last_inbound_contact_channel_TE...</td>\n",
       "      <td>14276770</td>\n",
       "    </tr>\n",
       "    <tr>\n",
       "      <th>4</th>\n",
       "      <td>qta_days_since_last_inbound_contact_channel_DO...</td>\n",
       "      <td>25506166</td>\n",
       "    </tr>\n",
       "    <tr>\n",
       "      <th>5</th>\n",
       "      <td>qta_days_since_last_inbound_contact_channel_DO...</td>\n",
       "      <td>19421961</td>\n",
       "    </tr>\n",
       "    <tr>\n",
       "      <th>6</th>\n",
       "      <td>qta_days_since_last_inbound_contact_channel_CHAT</td>\n",
       "      <td>25148084</td>\n",
       "    </tr>\n",
       "    <tr>\n",
       "      <th>7</th>\n",
       "      <td>qta_days_since_last_inbound_contact_channel_WEB</td>\n",
       "      <td>24331396</td>\n",
       "    </tr>\n",
       "    <tr>\n",
       "      <th>8</th>\n",
       "      <td>qta_days_since_last_inbound_contact_microcausa...</td>\n",
       "      <td>25293541</td>\n",
       "    </tr>\n",
       "    <tr>\n",
       "      <th>9</th>\n",
       "      <td>qta_days_since_last_inbound_contact_microcausa...</td>\n",
       "      <td>23634710</td>\n",
       "    </tr>\n",
       "  </tbody>\n",
       "</table>\n",
       "</div>"
      ],
      "text/plain": [
       "                                              column  na_values\n",
       "0                qta_days_since_last_inbound_contact    9706770\n",
       "1    qta_days_since_last_inbound_contact_channel_APP   25855692\n",
       "2   qta_days_since_last_inbound_contact_channel_FACE   20667366\n",
       "3  qta_days_since_last_inbound_contact_channel_TE...   14276770\n",
       "4  qta_days_since_last_inbound_contact_channel_DO...   25506166\n",
       "5  qta_days_since_last_inbound_contact_channel_DO...   19421961\n",
       "6   qta_days_since_last_inbound_contact_channel_CHAT   25148084\n",
       "7    qta_days_since_last_inbound_contact_channel_WEB   24331396\n",
       "8  qta_days_since_last_inbound_contact_microcausa...   25293541\n",
       "9  qta_days_since_last_inbound_contact_microcausa...   23634710"
      ]
     },
     "execution_count": 50,
     "metadata": {},
     "output_type": "execute_result"
    }
   ],
   "source": [
    "date_qta_na_values = [date_qta_na_values_dict[column] for column in date_qta_columns]\n",
    "date_qta_na_values_dict_for_pd = {'column': date_qta_columns, 'na_values': date_qta_na_values}\n",
    "date_qta_na_values_df = pd.DataFrame.from_dict(date_qta_na_values_dict_for_pd)\n",
    "date_qta_na_values_df.to_csv('/userdata/durand/date_qta_na_values_per_column.csv')\n",
    "date_qta_na_values_df.head(10)"
   ]
  },
  {
   "cell_type": "markdown",
   "metadata": {},
   "source": [
    "### 2.2.4 - Filling NA values"
   ]
  },
  {
   "cell_type": "markdown",
   "metadata": {},
   "source": [
    "#### 2.2.4.1 - Filling NA values: Mode"
   ]
  },
  {
   "cell_type": "markdown",
   "metadata": {},
   "source": [
    "NA values are filled using the mode over all the observations."
   ]
  },
  {
   "cell_type": "code",
   "execution_count": 7,
   "metadata": {},
   "outputs": [],
   "source": [
    "# This function takes in input the df and the column and fill the NA values with the mode\n",
    "def fill_na_with_mode(data, column, numeric, na_values):\n",
    "        \n",
    "    df_mode = data.groupBy(column).count().orderBy('count', ascending = False).limit(1)\n",
    "    pd_df_mode = df_mode.toPandas()\n",
    "    mode = list(pd_df_mode[column])[0]\n",
    "    print ('Column: '+ column)\n",
    "    print ('Mode: '+ mode)\n",
    "    print ('Replacing NA values with mode ...')\n",
    "    \n",
    "    for na_value in tqdm(na_values):\n",
    "        if na_value is None:\n",
    "            data = data.withColumn(column, spark_functions.when(spark_functions.col(column).isNull(), mode).\\\n",
    "            otherwise(spark_functions.col(column)))\n",
    "        else:\n",
    "            if numeric:\n",
    "                data = data.withColumn(column, spark_functions.when(spark_functions.col(column) == na_value, mode).\\\n",
    "                otherwise(spark_functions.col(column)))\n",
    "            else:\n",
    "                data = data.withColumn(column, spark_functions.\\\n",
    "                when(spark_functions.lower(spark_functions.col(column)) == str.lower(na_value), mode).\\\n",
    "                otherwise(spark_functions.col(column)))\n",
    "    return data"
   ]
  },
  {
   "cell_type": "code",
   "execution_count": 8,
   "metadata": {},
   "outputs": [],
   "source": [
    "column_list_mode = [\n",
    "    'cdc_stato_servizio_calc',\n",
    "    'lds_prodotto_listino_2',\n",
    "    'lds_nome_listino',\n",
    "    'lds_macro_prodotto',\n",
    "    'mds_canale_acquisizione',\n",
    "    'lds_tipo_uso',\n",
    "    'cdc_id_mercato',\n",
    "    'cdc_cv_fasce_servizio'\n",
    "]"
   ]
  },
  {
   "cell_type": "code",
   "execution_count": 9,
   "metadata": {},
   "outputs": [
    {
     "name": "stdout",
     "output_type": "stream",
     "text": [
      "Number of NA in column cdc_stato_servizio_calc before filling: 11667\n",
      "Number of NA in column lds_prodotto_listino_2 before filling: 8011\n",
      "Number of NA in column lds_nome_listino before filling: 20337\n",
      "Number of NA in column lds_macro_prodotto before filling: 8011\n",
      "Number of NA in column mds_canale_acquisizione before filling: 31822\n",
      "Number of NA in column lds_tipo_uso before filling: 2043\n",
      "Number of NA in column cdc_id_mercato before filling: 838827\n",
      "Number of NA in column cdc_cv_fasce_servizio before filling: 440144\n"
     ]
    }
   ],
   "source": [
    "#NA number before filling:\n",
    "for column in column_list_mode:\n",
    "    print(\"Number of NA in column \"+column+\" before filling: \"+str(input_data.select(column).\\\n",
    "    where('`'+column+\"` is null or lower(\"+ column +\") in('***', 'null', 'na', '')\").count()))"
   ]
  },
  {
   "cell_type": "code",
   "execution_count": 10,
   "metadata": {},
   "outputs": [
    {
     "name": "stderr",
     "output_type": "stream",
     "text": [
      "  0%|          | 0/8 [00:00<?, ?it/s]\n",
      "  0%|          | 0/5 [00:00<?, ?it/s]\u001b[A"
     ]
    },
    {
     "name": "stdout",
     "output_type": "stream",
     "text": [
      "Column: cdc_stato_servizio_calc\n",
      "Mode: ATTIVATO\n",
      "Replacing NA values with mode ...\n"
     ]
    },
    {
     "name": "stderr",
     "output_type": "stream",
     "text": [
      "\n",
      " 20%|██        | 1/5 [00:00<00:01,  2.96it/s]\u001b[A\n",
      " 60%|██████    | 3/5 [00:00<00:00,  3.92it/s]\u001b[A\n",
      "100%|██████████| 5/5 [00:00<00:00,  8.80it/s]\u001b[A\n",
      " 12%|█▎        | 1/8 [00:17<02:00, 17.24s/it]\n",
      "  0%|          | 0/5 [00:00<?, ?it/s]\u001b[A\n",
      " 40%|████      | 2/5 [00:00<00:00, 14.01it/s]\u001b[A"
     ]
    },
    {
     "name": "stdout",
     "output_type": "stream",
     "text": [
      "Column: lds_prodotto_listino_2\n",
      "Mode: ANNO SICURO\n",
      "Replacing NA values with mode ...\n"
     ]
    },
    {
     "name": "stderr",
     "output_type": "stream",
     "text": [
      "\n",
      "100%|██████████| 5/5 [00:00<00:00, 17.90it/s]\u001b[A\n",
      " 25%|██▌       | 2/8 [00:28<01:32, 15.38s/it]\n",
      "  0%|          | 0/5 [00:00<?, ?it/s]\u001b[A\n",
      " 40%|████      | 2/5 [00:00<00:00, 12.45it/s]\u001b[A"
     ]
    },
    {
     "name": "stdout",
     "output_type": "stream",
     "text": [
      "Column: lds_nome_listino\n",
      "Mode: Sempre Con Te Impresa\n",
      "Replacing NA values with mode ...\n"
     ]
    },
    {
     "name": "stderr",
     "output_type": "stream",
     "text": [
      "\n",
      "100%|██████████| 5/5 [00:00<00:00, 16.16it/s]\u001b[A\n",
      " 38%|███▊      | 3/8 [00:39<01:10, 14.05s/it]\n",
      "  0%|          | 0/5 [00:00<?, ?it/s]\u001b[A\n",
      " 40%|████      | 2/5 [00:00<00:00, 19.54it/s]\u001b[A"
     ]
    },
    {
     "name": "stdout",
     "output_type": "stream",
     "text": [
      "Column: lds_macro_prodotto\n",
      "Mode: Anno Sicuro\n",
      "Replacing NA values with mode ...\n"
     ]
    },
    {
     "name": "stderr",
     "output_type": "stream",
     "text": [
      "\n",
      "100%|██████████| 5/5 [00:00<00:00, 18.67it/s]\u001b[A\n",
      " 50%|█████     | 4/8 [00:51<00:53, 13.46s/it]\n",
      "  0%|          | 0/5 [00:00<?, ?it/s]\u001b[A\n",
      " 60%|██████    | 3/5 [00:00<00:00, 22.82it/s]\u001b[A"
     ]
    },
    {
     "name": "stdout",
     "output_type": "stream",
     "text": [
      "Column: mds_canale_acquisizione\n",
      "Mode: AGENZIA\n",
      "Replacing NA values with mode ...\n"
     ]
    },
    {
     "name": "stderr",
     "output_type": "stream",
     "text": [
      "100%|██████████| 5/5 [00:00<00:00, 23.51it/s]\n",
      " 62%|██████▎   | 5/8 [01:01<00:37, 12.34s/it]\n",
      "  0%|          | 0/5 [00:00<?, ?it/s]\u001b[A\n",
      " 40%|████      | 2/5 [00:00<00:00, 18.32it/s]\u001b[A"
     ]
    },
    {
     "name": "stdout",
     "output_type": "stream",
     "text": [
      "Column: lds_tipo_uso\n",
      "Mode: USO DIVERSO DA ABITAZIONE\n",
      "Replacing NA values with mode ...\n"
     ]
    },
    {
     "name": "stderr",
     "output_type": "stream",
     "text": [
      "\n",
      "100%|██████████| 5/5 [00:00<00:00, 20.70it/s]\u001b[A\n",
      " 75%|███████▌  | 6/8 [01:10<00:23, 11.62s/it]\n",
      "  0%|          | 0/5 [00:00<?, ?it/s]\u001b[A\n",
      " 40%|████      | 2/5 [00:00<00:00, 16.40it/s]\u001b[A"
     ]
    },
    {
     "name": "stdout",
     "output_type": "stream",
     "text": [
      "Column: cdc_id_mercato\n",
      "Mode: LIBERO\n",
      "Replacing NA values with mode ...\n"
     ]
    },
    {
     "name": "stderr",
     "output_type": "stream",
     "text": [
      "\n",
      "100%|██████████| 5/5 [00:00<00:00, 20.47it/s]\u001b[A\n",
      " 88%|████████▊ | 7/8 [01:21<00:11, 11.14s/it]\n",
      "  0%|          | 0/5 [00:00<?, ?it/s]\u001b[A\n",
      " 40%|████      | 2/5 [00:00<00:00, 18.02it/s]\u001b[A"
     ]
    },
    {
     "name": "stdout",
     "output_type": "stream",
     "text": [
      "Column: cdc_cv_fasce_servizio\n",
      "Mode: basso\n",
      "Replacing NA values with mode ...\n"
     ]
    },
    {
     "name": "stderr",
     "output_type": "stream",
     "text": [
      "\n",
      "100%|██████████| 5/5 [00:00<00:00, 21.56it/s]\u001b[A\n",
      "100%|██████████| 8/8 [01:32<00:00, 11.52s/it]\n"
     ]
    }
   ],
   "source": [
    "# Filling the NA values:\n",
    "for column in tqdm(column_list_mode):\n",
    "    input_data = fill_na_with_mode(data = input_data, column = column, numeric = False, na_values = [None, '***', 'null', 'na', ''])"
   ]
  },
  {
   "cell_type": "code",
   "execution_count": 11,
   "metadata": {},
   "outputs": [
    {
     "name": "stdout",
     "output_type": "stream",
     "text": [
      "Number of NA in column cdc_stato_servizio_calc after filling: 0\n",
      "Number of NA in column lds_prodotto_listino_2 after filling: 0\n",
      "Number of NA in column lds_nome_listino after filling: 0\n",
      "Number of NA in column lds_macro_prodotto after filling: 0\n",
      "Number of NA in column mds_canale_acquisizione after filling: 0\n",
      "Number of NA in column lds_tipo_uso after filling: 0\n",
      "Number of NA in column cdc_id_mercato after filling: 0\n",
      "Number of NA in column cdc_cv_fasce_servizio after filling: 0\n"
     ]
    }
   ],
   "source": [
    "#NA values after filling:\n",
    "for column in column_list_mode:\n",
    "    print(\"Number of NA in column \"+column+\" after filling: \"+str(input_data.select(column).\\\n",
    "    where('`'+column+\"` is null or lower(\"+ column +\") in('***', 'null', 'na', '')\").count()))"
   ]
  },
  {
   "cell_type": "markdown",
   "metadata": {},
   "source": [
    "#### 2.2.4.2 - Filling NA values: 0, ***, -1, OTHER, UNDEFINED, ALTRO "
   ]
  },
  {
   "cell_type": "markdown",
   "metadata": {},
   "source": [
    "NA values will be filled using the folowing values: 0, ***, -1, OTHER, UNDEFINED, ALTRO "
   ]
  },
  {
   "cell_type": "code",
   "execution_count": 12,
   "metadata": {},
   "outputs": [],
   "source": [
    "column_na = {\n",
    "'qta_eta_nrm': -1,\n",
    "'qta_indice_stress_comm_ult_30gg': -1,\n",
    "'qta_indice_contattosita_ult_30gg': -1,\n",
    "'val_fascia_stress': -1,\n",
    "'qta_giorni_ultimo_contatto_inbound': -1,\n",
    "'qta_giorni_ultimo_contatto_outbound': -1,\n",
    "'qta_giorni_ultimo_reclamo': -1,\n",
    "'qta_days_since_last_inbound_contact': -1,\n",
    "'qta_days_since_last_inbound_contact_channel_APP': -1,\n",
    "'qta_days_since_last_inbound_contact_channel_FACE': -1,\n",
    "'qta_days_since_last_inbound_contact_channel_TELEFONICO': -1,\n",
    "'qta_days_since_last_inbound_contact_channel_DOCUMENTALE_COMPLESSO': -1,\n",
    "'qta_days_since_last_inbound_contact_channel_DOCUMENTALE': -1,\n",
    "'qta_days_since_last_inbound_contact_channel_CHAT': -1,\n",
    "'qta_days_since_last_inbound_contact_channel_WEB': -1,\n",
    "'qta_days_since_last_inbound_contact_microcausale_RETTIFICHE_CONSUMI_FATTURAZIONE': -1,\n",
    "'qta_days_since_last_inbound_contact_microcausale_INFORMATIVA': -1,\n",
    "'qta_days_since_last_inbound_contact_microcausale_VOLTURA': -1,\n",
    "'qta_days_since_last_inbound_contact_microcausale_PRIMA_ATTIVAZIONE': -1,\n",
    "'qta_days_since_last_inbound_contact_microcausale_COPIA_DOCUMENTAZIONI': -1,\n",
    "'qta_days_since_last_inbound_contact_microcausale_RIMBORSO_COMPENSAZIONE': -1,\n",
    "'qta_days_since_last_inbound_contact_microcausale_LAVORI_E_MODIFICHE_TECNICHE_POTENZA_TENSIONE': -1,\n",
    "'qta_days_since_last_inbound_contact_microcausale_INFORMATIVA_CREDITO': -1,\n",
    "'qta_days_since_last_inbound_contact_microcausale_DISTACCHI_RIALLACCI': -1,\n",
    "'qta_days_since_last_inbound_contact_microcausale_DISDETTE_E_CESSAZIONI': -1,\n",
    "'qta_days_since_last_inbound_contact_microcausale_GESTIONE_VAS': -1,\n",
    "'qta_days_since_last_inbound_contact_microcausale_AUTOLETTURA': -1,\n",
    "'qta_days_since_last_inbound_contact_microcausale_RIPENSAMENTO_O_DISCONOSCIMENTO': -1,\n",
    "'qta_days_since_last_inbound_contact_microcausale_GESTIONE_FORNITURA': -1,\n",
    "'qta_days_since_last_inbound_contact_microcausale_MODIFICA_ANAGRAFICA_O_DATI_FORNITURA_FATTURAZIONE': -1,\n",
    "'qta_days_since_last_inbound_contact_microcausale_RECLAMI_SCRITTI': -1,\n",
    "'qta_days_since_last_inbound_contact_microcausale_REPEATED_LIST': -1,\n",
    "'qta_days_since_last_inbound_contact_microcausale_INFORMATIVA_CONSUMI_PAGAMENTI': -1,\n",
    "'qta_days_since_last_inbound_contact_microcausale_SWITCH_ATTIVO': -1,\n",
    "'qta_days_since_last_inbound_contact_microcausale_MODALITA_DI_PAGAMENTO': -1,\n",
    "'qta_days_since_last_inbound_contact_microcausale_ALLACCIO_E_ATTIVAZIONE': -1,\n",
    "'qta_days_since_last_inbound_contact_microcausale_VERIFICHE_TECNICHE': -1,\n",
    "'qta_days_since_last_inbound_contact_microcausale_INFORMATIVA_NON_DI_COMPETENZA': -1,\n",
    "'qta_days_since_last_inbound_contact_microcausale_GESTIONE_PRIVACY': -1,\n",
    "'qta_days_since_last_inbound_contact_microcausale_RVC': -1,\n",
    "'qta_days_since_last_inbound_contact_microcausale_PIANO_DI_RIENTRO': -1,\n",
    "'qta_days_since_last_inbound_contact_microcausale_SUBENTRO': -1,\n",
    "'qta_days_since_last_inbound_contact_macrocausale_Causale_non_definita': -1,\n",
    "'qta_days_since_last_inbound_contact_macrocausale_Chiarimenti_su_fatture': -1,\n",
    "'qta_days_since_last_inbound_contact_macrocausale_Chiarimento_su_offerta': -1,\n",
    "'qta_days_since_last_inbound_contact_macrocausale_Credito': -1,\n",
    "'qta_days_since_last_inbound_contact_macrocausale_Esecuzione_lavori': -1,\n",
    "'qta_days_since_last_inbound_contact_macrocausale_Informativa': -1,\n",
    "'qta_days_since_last_inbound_contact_macrocausale_Problemi_in_fase_di_attivazione': -1,\n",
    "'qta_days_since_last_inbound_contact_macrocausale_Reclami_vendita_Privacy': -1,\n",
    "'qta_days_since_last_inbound_contact_macrocausale_Ritardata_esecuzione_subentri_volture_cessazioni_etc': -1,\n",
    "'qta_days_last_response_marketing_cli': -1,\n",
    "'qta_days_emissione_fattura_pagamento_servizio_ultima_bolletta_emessa_canale_ALL': -1,\n",
    "'qta_days_incasso_fattura_today_servizio_ultima_bolletta_emessa_canale_ALL': -1,\n",
    "'qta_days_scadenza_fattura_pagamento_servizio_ultima_bolletta_emessa_canale_ALL': -1,\n",
    "'cdn_cv2_servizio': 0,\n",
    "'cdn_cv2_cliente': 0,\n",
    "'val_Altitudine_del_centro': 0,\n",
    "'val_Superficie_territoriale': 0,\n",
    "'qta_Grado_di_urbanizzazione': 0,\n",
    "'cdc_pdr': '***',\n",
    "'cdc_cap_nrm': '***',\n",
    "'sds_provincia_fatturazione': '***',\n",
    "'sds_provincia_fornitura': '***',\n",
    "'sds_regione_fornitura': '***',\n",
    "'sds_regione_fatturazione': '***',\n",
    "'sds_mat_fatturazione': '***',\n",
    "'sds_mat_fornitura': '***',\n",
    "'sds_provincia': '***',\n",
    "'sds_regione': '***',\n",
    "'sds_mat': '***',\n",
    "'mds_sottocanale': '***',\n",
    "'mds_comune': '***',\n",
    "'cdc_istat': '***',\n",
    "'cdc_Codice_Regione': '***',\n",
    "'cdc_Zona_altimetrica': '***',\n",
    "'cdc_Comune_Montano': '***',\n",
    "'cdc_causale_attivazione': '***',\n",
    "'lds_comune_fornitura': '***',\n",
    "'mds_nome_campagna_last_response_marketing_cli': '***',\n",
    "'xds_tipo_azione_campagna_last_response_marketing_cli': 'ALTRO',\n",
    "'xds_tipologia_azione_last_response_marketing_cli': 'ALTRO',\n",
    "'cdc_cluster_fattura_last': 'OTHER',\n",
    "'xds_canale_last_response_marketing_cli': 'UNDEFINED'\n",
    "}"
   ]
  },
  {
   "cell_type": "code",
   "execution_count": 13,
   "metadata": {},
   "outputs": [],
   "source": [
    "# This function takes in input the df the column and the value to fill with and fill the NA values using the input value\n",
    "def fill_na_with_value(data, column, numeric, fill_with, na_values):\n",
    "    print('Filling NA in column ' +column+' with value '+ str(fill_with) + ' ...')\n",
    "    for na_value in tqdm(na_values):\n",
    "        if na_value is None:\n",
    "            data = data.withColumn(column, spark_functions.when(spark_functions.col(column).isNull(), fill_with).\\\n",
    "            otherwise(spark_functions.col(column)))\n",
    "        else:\n",
    "            if numeric:\n",
    "                data = data.withColumn(column, spark_functions.when(spark_functions.col(column) == na_value, fill_with).\\\n",
    "                otherwise(spark_functions.col(column)))\n",
    "            else:\n",
    "                data = data.withColumn(column, spark_functions.\\\n",
    "                when(spark_functions.lower(spark_functions.col(column)) == str.lower(na_value), fill_with).\\\n",
    "                otherwise(spark_functions.col(column)))\n",
    "    \n",
    "    return data"
   ]
  },
  {
   "cell_type": "code",
   "execution_count": 31,
   "metadata": {},
   "outputs": [
    {
     "name": "stdout",
     "output_type": "stream",
     "text": [
      "Number of NA in column xds_tipologia_azione_last_response_marketing_cli before filling: 1373579\n",
      "Number of NA in column qta_days_since_last_inbound_contact_microcausale_DISDETTE_E_CESSAZIONI before filling: 25454264\n",
      "Number of NA in column qta_eta_nrm before filling: 35465\n",
      "Number of NA in column qta_indice_stress_comm_ult_30gg before filling: 8190714\n",
      "Number of NA in column qta_days_since_last_inbound_contact_microcausale_VERIFICHE_TECNICHE before filling: 25995612\n",
      "Number of NA in column mds_comune before filling: 1384342\n",
      "Number of NA in column sds_mat_fatturazione before filling: 12443\n",
      "Number of NA in column qta_days_since_last_inbound_contact_microcausale_PRIMA_ATTIVAZIONE before filling: 25920734\n",
      "Number of NA in column qta_days_since_last_inbound_contact_channel_DOCUMENTALE before filling: 19421961\n",
      "Number of NA in column qta_days_since_last_inbound_contact_macrocausale_Credito before filling: 20260110\n",
      "Number of NA in column sds_regione_fatturazione before filling: 12443\n",
      "Number of NA in column mds_nome_campagna_last_response_marketing_cli before filling: 1373579\n",
      "Number of NA in column qta_days_since_last_inbound_contact_microcausale_RVC before filling: 25672572\n",
      "Number of NA in column val_fascia_stress before filling: 8190714\n",
      "Number of NA in column xds_canale_last_response_marketing_cli before filling: 1373579\n",
      "Number of NA in column qta_days_since_last_inbound_contact_macrocausale_Chiarimento_su_offerta before filling: 22441103\n",
      "Number of NA in column lds_comune_fornitura before filling: 12443\n",
      "Number of NA in column qta_days_since_last_inbound_contact_microcausale_LAVORI_E_MODIFICHE_TECNICHE_POTENZA_TENSIONE before filling: 24792891\n",
      "Number of NA in column qta_days_since_last_inbound_contact_microcausale_COPIA_DOCUMENTAZIONI before filling: 22102460\n",
      "Number of NA in column sds_mat_fornitura before filling: 12443\n",
      "Number of NA in column qta_days_since_last_inbound_contact_microcausale_MODIFICA_ANAGRAFICA_O_DATI_FORNITURA_FATTURAZIONE before filling: 21377587\n",
      "Number of NA in column qta_days_since_last_inbound_contact_macrocausale_Reclami_vendita_Privacy before filling: 25890542\n",
      "Number of NA in column qta_days_since_last_inbound_contact_channel_CHAT before filling: 25148084\n",
      "Number of NA in column sds_provincia before filling: 568087\n",
      "Number of NA in column mds_sottocanale before filling: 378506\n",
      "Number of NA in column sds_mat before filling: 568087\n",
      "Number of NA in column qta_days_since_last_inbound_contact_microcausale_SWITCH_ATTIVO before filling: 23702761\n",
      "Number of NA in column qta_days_since_last_inbound_contact_microcausale_VOLTURA before filling: 24777790\n",
      "Number of NA in column qta_days_since_last_inbound_contact_channel_WEB before filling: 24331396\n",
      "Number of NA in column qta_days_since_last_inbound_contact_channel_APP before filling: 25855692\n",
      "Number of NA in column qta_days_since_last_inbound_contact_microcausale_RECLAMI_SCRITTI before filling: 26198435\n",
      "Number of NA in column qta_days_last_response_marketing_cli before filling: 1373579\n",
      "Number of NA in column qta_days_since_last_inbound_contact_microcausale_SUBENTRO before filling: 22780484\n",
      "Number of NA in column cdc_Comune_Montano before filling: 14407\n",
      "Number of NA in column xds_tipo_azione_campagna_last_response_marketing_cli before filling: 1373579\n",
      "Number of NA in column qta_days_incasso_fattura_today_servizio_ultima_bolletta_emessa_canale_ALL before filling: 3372653\n",
      "Number of NA in column cdc_cluster_fattura_last before filling: 1037043\n",
      "Number of NA in column cdc_pdr before filling: 11998\n",
      "Number of NA in column cdc_Codice_Regione before filling: 14407\n",
      "Number of NA in column cdc_cap_nrm before filling: 12480\n",
      "Number of NA in column sds_provincia_fornitura before filling: 12443\n",
      "Number of NA in column qta_days_scadenza_fattura_pagamento_servizio_ultima_bolletta_emessa_canale_ALL before filling: 3372653\n",
      "Number of NA in column qta_days_since_last_inbound_contact_microcausale_GESTIONE_PRIVACY before filling: 25986237\n",
      "Number of NA in column qta_days_since_last_inbound_contact_microcausale_AUTOLETTURA before filling: 24683604\n",
      "Number of NA in column cdc_istat before filling: 12443\n",
      "Number of NA in column qta_days_since_last_inbound_contact_microcausale_DISTACCHI_RIALLACCI before filling: 24854565\n",
      "Number of NA in column qta_days_since_last_inbound_contact_macrocausale_Chiarimenti_su_fatture before filling: 18567984\n",
      "Number of NA in column cdn_cv2_cliente before filling: 368335\n",
      "Number of NA in column qta_giorni_ultimo_contatto_outbound before filling: 18141183\n",
      "Number of NA in column qta_days_since_last_inbound_contact_macrocausale_Ritardata_esecuzione_subentri_volture_cessazioni_etc before filling: 16279083\n",
      "Number of NA in column qta_days_since_last_inbound_contact_microcausale_RIPENSAMENTO_O_DISCONOSCIMENTO before filling: 26141482\n",
      "Number of NA in column qta_days_since_last_inbound_contact_microcausale_REPEATED_LIST before filling: 26026858\n",
      "Number of NA in column sds_regione before filling: 568087\n",
      "Number of NA in column qta_days_since_last_inbound_contact_microcausale_INFORMATIVA_CREDITO before filling: 23596568\n",
      "Number of NA in column qta_days_since_last_inbound_contact_macrocausale_Esecuzione_lavori before filling: 24616580\n",
      "Number of NA in column qta_days_since_last_inbound_contact_channel_FACE before filling: 20667366\n",
      "Number of NA in column qta_giorni_ultimo_reclamo before filling: 25103050\n",
      "Number of NA in column qta_days_since_last_inbound_contact_microcausale_RIMBORSO_COMPENSAZIONE before filling: 25908031\n",
      "Number of NA in column qta_days_since_last_inbound_contact_channel_DOCUMENTALE_COMPLESSO before filling: 25506166\n",
      "Number of NA in column cdc_causale_attivazione before filling: 656689\n",
      "Number of NA in column qta_giorni_ultimo_contatto_inbound before filling: 23194711\n",
      "Number of NA in column val_Altitudine_del_centro before filling: 14407\n",
      "Number of NA in column qta_days_since_last_inbound_contact_microcausale_INFORMATIVA_CONSUMI_PAGAMENTI before filling: 23809014\n",
      "Number of NA in column qta_days_since_last_inbound_contact_microcausale_INFORMATIVA_NON_DI_COMPETENZA before filling: 25673934\n",
      "Number of NA in column qta_days_since_last_inbound_contact_microcausale_PIANO_DI_RIENTRO before filling: 23086866\n",
      "Number of NA in column qta_days_since_last_inbound_contact_macrocausale_Informativa before filling: 23306836\n",
      "Number of NA in column qta_days_since_last_inbound_contact before filling: 9706770\n",
      "Number of NA in column qta_indice_contattosita_ult_30gg before filling: 8190714\n",
      "Number of NA in column qta_days_since_last_inbound_contact_microcausale_RETTIFICHE_CONSUMI_FATTURAZIONE before filling: 25293541\n",
      "Number of NA in column qta_days_since_last_inbound_contact_microcausale_ALLACCIO_E_ATTIVAZIONE before filling: 24958597\n",
      "Number of NA in column qta_days_since_last_inbound_contact_macrocausale_Causale_non_definita before filling: 17173575\n",
      "Number of NA in column qta_days_since_last_inbound_contact_microcausale_GESTIONE_FORNITURA before filling: 21449161\n",
      "Number of NA in column cdn_cv2_servizio before filling: 440144\n",
      "Number of NA in column sds_regione_fornitura before filling: 12443\n",
      "Number of NA in column qta_days_since_last_inbound_contact_microcausale_INFORMATIVA before filling: 23634710\n",
      "Number of NA in column val_Superficie_territoriale before filling: 14407\n",
      "Number of NA in column qta_days_since_last_inbound_contact_channel_TELEFONICO before filling: 14276770\n",
      "Number of NA in column cdc_Zona_altimetrica before filling: 14407\n",
      "Number of NA in column qta_Grado_di_urbanizzazione before filling: 14407\n",
      "Number of NA in column qta_days_emissione_fattura_pagamento_servizio_ultima_bolletta_emessa_canale_ALL before filling: 3372653\n",
      "Number of NA in column qta_days_since_last_inbound_contact_microcausale_MODALITA_DI_PAGAMENTO before filling: 25520559\n",
      "Number of NA in column qta_days_since_last_inbound_contact_macrocausale_Problemi_in_fase_di_attivazione before filling: 23591764\n",
      "Number of NA in column qta_days_since_last_inbound_contact_microcausale_GESTIONE_VAS before filling: 21889812\n",
      "Number of NA in column sds_provincia_fatturazione before filling: 12443\n"
     ]
    }
   ],
   "source": [
    "#NA values before filling:\n",
    "for column in column_na:\n",
    "    numeric = isinstance(column_na[column], numbers.Number)\n",
    "    if (numeric and (column.startswith('qta_days_') or column.startswith('qta_giorni_'))):\n",
    "        print(\"Number of NA in column \"+column+\" before filling: \"+str(input_data.select(column).\\\n",
    "        where(\"`\"+column+\"` is null or \"+\"`\"+column+\"` >= 3650\").count()))\n",
    "    else:\n",
    "        if(numeric and (not column.startswith('qta_days_')) and  (not column.startswith('qta_giorni_'))):\n",
    "            print(\"Number of NA in column \"+column+\" before filling: \"+str(input_data.select(column).\\\n",
    "            where('`'+column+\"` is null\").count()))\n",
    "        else:\n",
    "            print(\"Number of NA in column \"+column+\" before filling: \"+str(input_data.select(column).\\\n",
    "            where('`'+column+\"` is null or lower(\"+ column +\") in('***', 'null', 'na', '')\").count()))"
   ]
  },
  {
   "cell_type": "code",
   "execution_count": 14,
   "metadata": {},
   "outputs": [
    {
     "name": "stderr",
     "output_type": "stream",
     "text": [
      "  0%|          | 0/84 [00:00<?, ?it/s]\n",
      "100%|██████████| 1/1 [00:00<00:00, 13.75it/s]\n",
      "\n",
      "100%|██████████| 1/1 [00:00<00:00, 26.56it/s]\n",
      "  2%|▏         | 2/84 [00:00<00:04, 17.44it/s]\n",
      "100%|██████████| 1/1 [00:00<00:00, 27.03it/s]\n",
      "\n",
      "  0%|          | 0/1 [00:00<?, ?it/s]\u001b[A"
     ]
    },
    {
     "name": "stdout",
     "output_type": "stream",
     "text": [
      "Filling NA in column qta_eta_nrm with value -1 ...\n",
      "Filling NA in column qta_indice_stress_comm_ult_30gg with value -1 ...\n",
      "Filling NA in column qta_indice_contattosita_ult_30gg with value -1 ...\n",
      "Filling NA in column val_fascia_stress with value -1 ...\n"
     ]
    },
    {
     "name": "stderr",
     "output_type": "stream",
     "text": [
      "100%|██████████| 1/1 [00:00<00:00, 11.65it/s]\n",
      "  5%|▍         | 4/84 [00:00<00:04, 16.89it/s]\n",
      "100%|██████████| 1/1 [00:00<00:00, 25.43it/s]\n",
      "\n",
      "100%|██████████| 1/1 [00:00<00:00, 25.87it/s]\n",
      "\n",
      "100%|██████████| 1/1 [00:00<00:00, 26.27it/s]\n",
      "  8%|▊         | 7/84 [00:00<00:04, 18.58it/s]\n",
      "100%|██████████| 1/1 [00:00<00:00, 25.91it/s]\n",
      "\n",
      "  0%|          | 0/1 [00:00<?, ?it/s]\u001b[A"
     ]
    },
    {
     "name": "stdout",
     "output_type": "stream",
     "text": [
      "Filling NA in column qta_giorni_ultimo_contatto_inbound with value -1 ...\n",
      "Filling NA in column qta_giorni_ultimo_contatto_outbound with value -1 ...\n",
      "Filling NA in column qta_giorni_ultimo_reclamo with value -1 ...\n",
      "Filling NA in column qta_days_since_last_inbound_contact with value -1 ...\n",
      "Filling NA in column qta_days_since_last_inbound_contact_channel_APP with value -1 ...\n"
     ]
    },
    {
     "name": "stderr",
     "output_type": "stream",
     "text": [
      "100%|██████████| 1/1 [00:00<00:00, 25.60it/s]\n",
      "\n",
      "100%|██████████| 1/1 [00:00<00:00, 26.78it/s]\n",
      " 12%|█▏        | 10/84 [00:00<00:03, 19.85it/s]\n",
      "100%|██████████| 1/1 [00:00<00:00, 26.54it/s]\n",
      "\n",
      "100%|██████████| 1/1 [00:00<00:00, 26.24it/s]\n",
      "\n",
      "100%|██████████| 1/1 [00:00<00:00, 26.56it/s]\n",
      " 15%|█▌        | 13/84 [00:00<00:03, 21.10it/s]\n",
      "  0%|          | 0/1 [00:00<?, ?it/s]\u001b[A"
     ]
    },
    {
     "name": "stdout",
     "output_type": "stream",
     "text": [
      "Filling NA in column qta_days_since_last_inbound_contact_channel_FACE with value -1 ...\n",
      "Filling NA in column qta_days_since_last_inbound_contact_channel_TELEFONICO with value -1 ...\n",
      "Filling NA in column qta_days_since_last_inbound_contact_channel_DOCUMENTALE_COMPLESSO with value -1 ...\n",
      "Filling NA in column qta_days_since_last_inbound_contact_channel_DOCUMENTALE with value -1 ...\n",
      "Filling NA in column qta_days_since_last_inbound_contact_channel_CHAT with value -1 ...\n"
     ]
    },
    {
     "name": "stderr",
     "output_type": "stream",
     "text": [
      "100%|██████████| 1/1 [00:00<00:00, 26.18it/s]\n",
      "\n",
      "100%|██████████| 1/1 [00:00<00:00, 26.26it/s]\n",
      "\n",
      "100%|██████████| 1/1 [00:00<00:00, 26.46it/s]\n",
      " 19%|█▉        | 16/84 [00:00<00:03, 22.07it/s]\n",
      "100%|██████████| 1/1 [00:00<00:00, 26.33it/s]\n",
      "\n",
      "100%|██████████| 1/1 [00:00<00:00, 26.53it/s]\n",
      "\n",
      "  0%|          | 0/1 [00:00<?, ?it/s]\u001b[A"
     ]
    },
    {
     "name": "stdout",
     "output_type": "stream",
     "text": [
      "Filling NA in column qta_days_since_last_inbound_contact_channel_WEB with value -1 ...\n",
      "Filling NA in column qta_days_since_last_inbound_contact_microcausale_RETTIFICHE_CONSUMI_FATTURAZIONE with value -1 ...\n",
      "Filling NA in column qta_days_since_last_inbound_contact_microcausale_INFORMATIVA with value -1 ...\n",
      "Filling NA in column qta_days_since_last_inbound_contact_microcausale_VOLTURA with value -1 ...\n",
      "Filling NA in column qta_days_since_last_inbound_contact_microcausale_PRIMA_ATTIVAZIONE with value -1 ...\n"
     ]
    },
    {
     "name": "stderr",
     "output_type": "stream",
     "text": [
      "100%|██████████| 1/1 [00:00<00:00, 16.43it/s]\n",
      " 23%|██▎       | 19/84 [00:00<00:03, 21.64it/s]\n",
      "100%|██████████| 1/1 [00:00<00:00, 14.05it/s]\n",
      "\n",
      "100%|██████████| 1/1 [00:00<00:00, 25.88it/s]\n",
      "\n",
      "100%|██████████| 1/1 [00:00<00:00, 26.15it/s]\n",
      " 26%|██▌       | 22/84 [00:01<00:02, 20.78it/s]\n",
      "100%|██████████| 1/1 [00:00<00:00, 25.46it/s]\n"
     ]
    },
    {
     "name": "stdout",
     "output_type": "stream",
     "text": [
      "Filling NA in column qta_days_since_last_inbound_contact_microcausale_COPIA_DOCUMENTAZIONI with value -1 ...\n",
      "Filling NA in column qta_days_since_last_inbound_contact_microcausale_RIMBORSO_COMPENSAZIONE with value -1 ...\n",
      "Filling NA in column qta_days_since_last_inbound_contact_microcausale_LAVORI_E_MODIFICHE_TECNICHE_POTENZA_TENSIONE with value -1 ...\n",
      "Filling NA in column qta_days_since_last_inbound_contact_microcausale_INFORMATIVA_CREDITO with value -1 ...\n"
     ]
    },
    {
     "name": "stderr",
     "output_type": "stream",
     "text": [
      "\n",
      "100%|██████████| 1/1 [00:00<00:00, 26.26it/s]\n",
      "\n",
      "100%|██████████| 1/1 [00:00<00:00, 25.80it/s]\n",
      " 30%|██▉       | 25/84 [00:01<00:02, 21.44it/s]\n",
      "100%|██████████| 1/1 [00:00<00:00, 25.32it/s]\n",
      "\n",
      "100%|██████████| 1/1 [00:00<00:00, 25.71it/s]\n",
      "\n",
      "  0%|          | 0/1 [00:00<?, ?it/s]\u001b[A"
     ]
    },
    {
     "name": "stdout",
     "output_type": "stream",
     "text": [
      "Filling NA in column qta_days_since_last_inbound_contact_microcausale_DISTACCHI_RIALLACCI with value -1 ...\n",
      "Filling NA in column qta_days_since_last_inbound_contact_microcausale_DISDETTE_E_CESSAZIONI with value -1 ...\n",
      "Filling NA in column qta_days_since_last_inbound_contact_microcausale_GESTIONE_VAS with value -1 ...\n",
      "Filling NA in column qta_days_since_last_inbound_contact_microcausale_AUTOLETTURA with value -1 ...\n",
      "Filling NA in column qta_days_since_last_inbound_contact_microcausale_RIPENSAMENTO_O_DISCONOSCIMENTO with value -1 ...\n"
     ]
    },
    {
     "name": "stderr",
     "output_type": "stream",
     "text": [
      "100%|██████████| 1/1 [00:00<00:00, 25.15it/s]\n",
      " 33%|███▎      | 28/84 [00:01<00:02, 22.14it/s]\n",
      "100%|██████████| 1/1 [00:00<00:00, 24.91it/s]\n",
      "\n",
      "100%|██████████| 1/1 [00:00<00:00, 25.43it/s]\n",
      "\n",
      "100%|██████████| 1/1 [00:00<00:00, 25.47it/s]\n",
      " 37%|███▋      | 31/84 [00:01<00:02, 22.59it/s]\n",
      "100%|██████████| 1/1 [00:00<00:00, 25.54it/s]\n",
      "\n",
      "  0%|          | 0/1 [00:00<?, ?it/s]\u001b[A"
     ]
    },
    {
     "name": "stdout",
     "output_type": "stream",
     "text": [
      "Filling NA in column qta_days_since_last_inbound_contact_microcausale_GESTIONE_FORNITURA with value -1 ...\n",
      "Filling NA in column qta_days_since_last_inbound_contact_microcausale_MODIFICA_ANAGRAFICA_O_DATI_FORNITURA_FATTURAZIONE with value -1 ...\n",
      "Filling NA in column qta_days_since_last_inbound_contact_microcausale_RECLAMI_SCRITTI with value -1 ...\n",
      "Filling NA in column qta_days_since_last_inbound_contact_microcausale_REPEATED_LIST with value -1 ...\n",
      "Filling NA in column qta_days_since_last_inbound_contact_microcausale_INFORMATIVA_CONSUMI_PAGAMENTI with value -1 ...\n"
     ]
    },
    {
     "name": "stderr",
     "output_type": "stream",
     "text": [
      "100%|██████████| 1/1 [00:00<00:00, 25.26it/s]\n",
      "\n",
      "100%|██████████| 1/1 [00:00<00:00, 25.29it/s]\n",
      " 40%|████      | 34/84 [00:01<00:02, 22.96it/s]\n",
      "100%|██████████| 1/1 [00:00<00:00, 25.29it/s]\n",
      "\n",
      "100%|██████████| 1/1 [00:00<00:00, 25.43it/s]\n",
      "\n",
      "100%|██████████| 1/1 [00:00<00:00, 25.29it/s]\n",
      " 44%|████▍     | 37/84 [00:01<00:02, 23.22it/s]\n",
      "  0%|          | 0/1 [00:00<?, ?it/s]\u001b[A"
     ]
    },
    {
     "name": "stdout",
     "output_type": "stream",
     "text": [
      "Filling NA in column qta_days_since_last_inbound_contact_microcausale_SWITCH_ATTIVO with value -1 ...\n",
      "Filling NA in column qta_days_since_last_inbound_contact_microcausale_MODALITA_DI_PAGAMENTO with value -1 ...\n",
      "Filling NA in column qta_days_since_last_inbound_contact_microcausale_ALLACCIO_E_ATTIVAZIONE with value -1 ...\n",
      "Filling NA in column qta_days_since_last_inbound_contact_microcausale_VERIFICHE_TECNICHE with value -1 ...\n",
      "Filling NA in column qta_days_since_last_inbound_contact_microcausale_INFORMATIVA_NON_DI_COMPETENZA with value -1 ...\n"
     ]
    },
    {
     "name": "stderr",
     "output_type": "stream",
     "text": [
      "100%|██████████| 1/1 [00:00<00:00, 24.59it/s]\n",
      "\n",
      "100%|██████████| 1/1 [00:00<00:00, 24.25it/s]\n",
      "\n",
      "100%|██████████| 1/1 [00:00<00:00, 25.12it/s]\n",
      " 48%|████▊     | 40/84 [00:01<00:01, 22.93it/s]\n",
      "100%|██████████| 1/1 [00:00<00:00, 24.87it/s]\n",
      "\n",
      "100%|██████████| 1/1 [00:00<00:00, 18.10it/s]\n",
      "\n",
      "  0%|          | 0/1 [00:00<?, ?it/s]\u001b[A"
     ]
    },
    {
     "name": "stdout",
     "output_type": "stream",
     "text": [
      "Filling NA in column qta_days_since_last_inbound_contact_microcausale_GESTIONE_PRIVACY with value -1 ...\n",
      "Filling NA in column qta_days_since_last_inbound_contact_microcausale_RVC with value -1 ...\n",
      "Filling NA in column qta_days_since_last_inbound_contact_microcausale_PIANO_DI_RIENTRO with value -1 ...\n",
      "Filling NA in column qta_days_since_last_inbound_contact_microcausale_SUBENTRO with value -1 ...\n",
      "Filling NA in column qta_days_since_last_inbound_contact_macrocausale_Causale_non_definita with value -1 ...\n"
     ]
    },
    {
     "name": "stderr",
     "output_type": "stream",
     "text": [
      "100%|██████████| 1/1 [00:00<00:00, 13.88it/s]\n",
      " 51%|█████     | 43/84 [00:01<00:01, 20.79it/s]\n",
      "100%|██████████| 1/1 [00:00<00:00, 25.25it/s]\n",
      "\n",
      "100%|██████████| 1/1 [00:00<00:00, 25.46it/s]\n",
      "\n",
      "100%|██████████| 1/1 [00:00<00:00, 25.24it/s]\n",
      " 55%|█████▍    | 46/84 [00:02<00:01, 21.61it/s]\n",
      "100%|██████████| 1/1 [00:00<00:00, 24.99it/s]\n",
      "\n",
      "  0%|          | 0/1 [00:00<?, ?it/s]\u001b[A"
     ]
    },
    {
     "name": "stdout",
     "output_type": "stream",
     "text": [
      "Filling NA in column qta_days_since_last_inbound_contact_macrocausale_Chiarimenti_su_fatture with value -1 ...\n",
      "Filling NA in column qta_days_since_last_inbound_contact_macrocausale_Chiarimento_su_offerta with value -1 ...\n",
      "Filling NA in column qta_days_since_last_inbound_contact_macrocausale_Credito with value -1 ...\n",
      "Filling NA in column qta_days_since_last_inbound_contact_macrocausale_Esecuzione_lavori with value -1 ...\n",
      "Filling NA in column qta_days_since_last_inbound_contact_macrocausale_Informativa with value -1 ...\n"
     ]
    },
    {
     "name": "stderr",
     "output_type": "stream",
     "text": [
      "100%|██████████| 1/1 [00:00<00:00, 25.60it/s]\n",
      "\n",
      "100%|██████████| 1/1 [00:00<00:00, 25.51it/s]\n",
      " 58%|█████▊    | 49/84 [00:02<00:01, 22.26it/s]\n",
      "100%|██████████| 1/1 [00:00<00:00, 25.06it/s]\n",
      "\n",
      "100%|██████████| 1/1 [00:00<00:00, 24.94it/s]\n",
      "\n",
      "100%|██████████| 1/1 [00:00<00:00, 24.87it/s]\n",
      " 62%|██████▏   | 52/84 [00:02<00:01, 22.61it/s]\n",
      "  0%|          | 0/1 [00:00<?, ?it/s]\u001b[A"
     ]
    },
    {
     "name": "stdout",
     "output_type": "stream",
     "text": [
      "Filling NA in column qta_days_since_last_inbound_contact_macrocausale_Problemi_in_fase_di_attivazione with value -1 ...\n",
      "Filling NA in column qta_days_since_last_inbound_contact_macrocausale_Reclami_vendita_Privacy with value -1 ...\n",
      "Filling NA in column qta_days_since_last_inbound_contact_macrocausale_Ritardata_esecuzione_subentri_volture_cessazioni_etc with value -1 ...\n",
      "Filling NA in column qta_days_last_response_marketing_cli with value -1 ...\n",
      "Filling NA in column qta_days_emissione_fattura_pagamento_servizio_ultima_bolletta_emessa_canale_ALL with value -1 ...\n"
     ]
    },
    {
     "name": "stderr",
     "output_type": "stream",
     "text": [
      "100%|██████████| 1/1 [00:00<00:00, 24.87it/s]\n",
      "\n",
      "100%|██████████| 1/1 [00:00<00:00, 25.01it/s]\n",
      "\n",
      "100%|██████████| 1/1 [00:00<00:00, 24.49it/s]\n",
      " 65%|██████▌   | 55/84 [00:02<00:01, 22.35it/s]\n",
      "100%|██████████| 1/1 [00:00<00:00, 24.78it/s]\n",
      "\n",
      "100%|██████████| 1/1 [00:00<00:00, 24.54it/s]\n",
      "\n",
      "  0%|          | 0/1 [00:00<?, ?it/s]\u001b[A"
     ]
    },
    {
     "name": "stdout",
     "output_type": "stream",
     "text": [
      "Filling NA in column qta_days_incasso_fattura_today_servizio_ultima_bolletta_emessa_canale_ALL with value -1 ...\n",
      "Filling NA in column qta_days_scadenza_fattura_pagamento_servizio_ultima_bolletta_emessa_canale_ALL with value -1 ...\n",
      "Filling NA in column cdn_cv2_servizio with value 0 ...\n",
      "Filling NA in column cdn_cv2_cliente with value 0 ...\n",
      "Filling NA in column val_Altitudine_del_centro with value 0 ...\n"
     ]
    },
    {
     "name": "stderr",
     "output_type": "stream",
     "text": [
      "100%|██████████| 1/1 [00:00<00:00, 18.77it/s]\n",
      " 69%|██████▉   | 58/84 [00:02<00:01, 21.98it/s]\n",
      "100%|██████████| 1/1 [00:00<00:00, 19.91it/s]\n",
      "\n",
      "100%|██████████| 1/1 [00:00<00:00, 24.15it/s]\n",
      "\n",
      "  0%|          | 0/5 [00:00<?, ?it/s]\u001b[A"
     ]
    },
    {
     "name": "stdout",
     "output_type": "stream",
     "text": [
      "Filling NA in column val_Superficie_territoriale with value 0 ...\n",
      "Filling NA in column qta_Grado_di_urbanizzazione with value 0 ...\n",
      "Filling NA in column cdc_pdr with value *** ...\n"
     ]
    },
    {
     "name": "stderr",
     "output_type": "stream",
     "text": [
      "\n",
      " 60%|██████    | 3/5 [00:00<00:00, 23.74it/s]\u001b[A\n",
      "100%|██████████| 5/5 [00:00<00:00, 18.71it/s]\u001b[A\n",
      " 73%|███████▎  | 61/84 [00:03<00:01, 14.60it/s]\n",
      "  0%|          | 0/5 [00:00<?, ?it/s]\u001b[A\n",
      " 60%|██████    | 3/5 [00:00<00:00, 23.45it/s]\u001b[A"
     ]
    },
    {
     "name": "stdout",
     "output_type": "stream",
     "text": [
      "Filling NA in column cdc_cap_nrm with value *** ...\n"
     ]
    },
    {
     "name": "stderr",
     "output_type": "stream",
     "text": [
      "100%|██████████| 5/5 [00:00<00:00, 22.32it/s]\n",
      "\n",
      "  0%|          | 0/5 [00:00<?, ?it/s]\u001b[A\n",
      " 60%|██████    | 3/5 [00:00<00:00, 23.51it/s]\u001b[A"
     ]
    },
    {
     "name": "stdout",
     "output_type": "stream",
     "text": [
      "Filling NA in column sds_provincia_fatturazione with value *** ...\n"
     ]
    },
    {
     "name": "stderr",
     "output_type": "stream",
     "text": [
      "100%|██████████| 5/5 [00:00<00:00, 22.92it/s]\n",
      " 75%|███████▌  | 63/84 [00:03<00:02,  8.70it/s]\n",
      "  0%|          | 0/5 [00:00<?, ?it/s]\u001b[A\n",
      " 60%|██████    | 3/5 [00:00<00:00, 23.31it/s]\u001b[A"
     ]
    },
    {
     "name": "stdout",
     "output_type": "stream",
     "text": [
      "Filling NA in column sds_provincia_fornitura with value *** ...\n"
     ]
    },
    {
     "name": "stderr",
     "output_type": "stream",
     "text": [
      "100%|██████████| 5/5 [00:00<00:00, 22.67it/s]\n",
      "\n",
      "  0%|          | 0/5 [00:00<?, ?it/s]\u001b[A\n",
      " 60%|██████    | 3/5 [00:00<00:00, 23.17it/s]\u001b[A"
     ]
    },
    {
     "name": "stdout",
     "output_type": "stream",
     "text": [
      "Filling NA in column sds_regione_fornitura with value *** ...\n"
     ]
    },
    {
     "name": "stderr",
     "output_type": "stream",
     "text": [
      "\n",
      "100%|██████████| 5/5 [00:00<00:00, 20.64it/s]\u001b[A\n",
      " 77%|███████▋  | 65/84 [00:03<00:02,  6.64it/s]\n",
      "  0%|          | 0/5 [00:00<?, ?it/s]\u001b[A\n",
      " 40%|████      | 2/5 [00:00<00:00, 16.09it/s]\u001b[A"
     ]
    },
    {
     "name": "stdout",
     "output_type": "stream",
     "text": [
      "Filling NA in column sds_regione_fatturazione with value *** ...\n"
     ]
    },
    {
     "name": "stderr",
     "output_type": "stream",
     "text": [
      "\n",
      "100%|██████████| 5/5 [00:00<00:00, 18.95it/s]\u001b[A\n",
      "\n",
      "  0%|          | 0/5 [00:00<?, ?it/s]\u001b[A\n",
      " 60%|██████    | 3/5 [00:00<00:00, 22.46it/s]\u001b[A"
     ]
    },
    {
     "name": "stdout",
     "output_type": "stream",
     "text": [
      "Filling NA in column sds_mat_fatturazione with value *** ...\n"
     ]
    },
    {
     "name": "stderr",
     "output_type": "stream",
     "text": [
      "100%|██████████| 5/5 [00:00<00:00, 21.90it/s]\n",
      " 80%|███████▉  | 67/84 [00:04<00:03,  5.55it/s]\n",
      "  0%|          | 0/5 [00:00<?, ?it/s]\u001b[A\n",
      " 60%|██████    | 3/5 [00:00<00:00, 21.62it/s]\u001b[A"
     ]
    },
    {
     "name": "stdout",
     "output_type": "stream",
     "text": [
      "Filling NA in column sds_mat_fornitura with value *** ...\n"
     ]
    },
    {
     "name": "stderr",
     "output_type": "stream",
     "text": [
      "100%|██████████| 5/5 [00:00<00:00, 21.56it/s]\n",
      " 81%|████████  | 68/84 [00:04<00:03,  5.09it/s]\n",
      "  0%|          | 0/5 [00:00<?, ?it/s]\u001b[A\n",
      " 60%|██████    | 3/5 [00:00<00:00, 22.43it/s]\u001b[A"
     ]
    },
    {
     "name": "stdout",
     "output_type": "stream",
     "text": [
      "Filling NA in column sds_provincia with value *** ...\n"
     ]
    },
    {
     "name": "stderr",
     "output_type": "stream",
     "text": [
      "100%|██████████| 5/5 [00:00<00:00, 21.96it/s]\n",
      " 82%|████████▏ | 69/84 [00:04<00:03,  4.84it/s]\n",
      "  0%|          | 0/5 [00:00<?, ?it/s]\u001b[A\n",
      " 40%|████      | 2/5 [00:00<00:00, 14.40it/s]\u001b[A"
     ]
    },
    {
     "name": "stdout",
     "output_type": "stream",
     "text": [
      "Filling NA in column sds_regione with value *** ...\n"
     ]
    },
    {
     "name": "stderr",
     "output_type": "stream",
     "text": [
      "\n",
      "100%|██████████| 5/5 [00:00<00:00, 17.55it/s]\u001b[A\n",
      " 83%|████████▎ | 70/84 [00:05<00:03,  4.33it/s]\n",
      "  0%|          | 0/5 [00:00<?, ?it/s]\u001b[A\n",
      " 60%|██████    | 3/5 [00:00<00:00, 20.69it/s]\u001b[A"
     ]
    },
    {
     "name": "stdout",
     "output_type": "stream",
     "text": [
      "Filling NA in column sds_mat with value *** ...\n"
     ]
    },
    {
     "name": "stderr",
     "output_type": "stream",
     "text": [
      "100%|██████████| 5/5 [00:00<00:00, 20.69it/s]\n",
      " 85%|████████▍ | 71/84 [00:05<00:03,  4.26it/s]\n",
      "  0%|          | 0/5 [00:00<?, ?it/s]\u001b[A\n",
      " 60%|██████    | 3/5 [00:00<00:00, 21.02it/s]\u001b[A"
     ]
    },
    {
     "name": "stdout",
     "output_type": "stream",
     "text": [
      "Filling NA in column mds_sottocanale with value *** ...\n"
     ]
    },
    {
     "name": "stderr",
     "output_type": "stream",
     "text": [
      "\n",
      "100%|██████████| 5/5 [00:00<00:00, 20.03it/s]\u001b[A\n",
      " 86%|████████▌ | 72/84 [00:05<00:02,  4.16it/s]\n",
      "  0%|          | 0/5 [00:00<?, ?it/s]\u001b[A\n",
      " 60%|██████    | 3/5 [00:00<00:00, 21.15it/s]\u001b[A"
     ]
    },
    {
     "name": "stdout",
     "output_type": "stream",
     "text": [
      "Filling NA in column mds_comune with value *** ...\n"
     ]
    },
    {
     "name": "stderr",
     "output_type": "stream",
     "text": [
      "100%|██████████| 5/5 [00:00<00:00, 20.79it/s]\n",
      " 87%|████████▋ | 73/84 [00:05<00:02,  4.15it/s]\n",
      "  0%|          | 0/5 [00:00<?, ?it/s]\u001b[A\n",
      " 40%|████      | 2/5 [00:00<00:00, 12.93it/s]\u001b[A"
     ]
    },
    {
     "name": "stdout",
     "output_type": "stream",
     "text": [
      "Filling NA in column cdc_istat with value *** ...\n"
     ]
    },
    {
     "name": "stderr",
     "output_type": "stream",
     "text": [
      "\n",
      "100%|██████████| 5/5 [00:00<00:00, 16.57it/s]\u001b[A\n",
      " 88%|████████▊ | 74/84 [00:06<00:02,  3.84it/s]\n",
      "  0%|          | 0/5 [00:00<?, ?it/s]\u001b[A\n",
      " 60%|██████    | 3/5 [00:00<00:00, 20.94it/s]\u001b[A"
     ]
    },
    {
     "name": "stdout",
     "output_type": "stream",
     "text": [
      "Filling NA in column cdc_Codice_Regione with value *** ...\n"
     ]
    },
    {
     "name": "stderr",
     "output_type": "stream",
     "text": [
      "100%|██████████| 5/5 [00:00<00:00, 20.78it/s]\n",
      " 89%|████████▉ | 75/84 [00:06<00:02,  3.92it/s]\n",
      "  0%|          | 0/5 [00:00<?, ?it/s]\u001b[A\n",
      " 60%|██████    | 3/5 [00:00<00:00, 21.38it/s]\u001b[A"
     ]
    },
    {
     "name": "stdout",
     "output_type": "stream",
     "text": [
      "Filling NA in column cdc_Zona_altimetrica with value *** ...\n"
     ]
    },
    {
     "name": "stderr",
     "output_type": "stream",
     "text": [
      "100%|██████████| 5/5 [00:00<00:00, 21.02it/s]\n",
      " 90%|█████████ | 76/84 [00:06<00:02,  3.98it/s]\n",
      "  0%|          | 0/5 [00:00<?, ?it/s]\u001b[A\n",
      " 60%|██████    | 3/5 [00:00<00:00, 20.91it/s]\u001b[A"
     ]
    },
    {
     "name": "stdout",
     "output_type": "stream",
     "text": [
      "Filling NA in column cdc_Comune_Montano with value *** ...\n"
     ]
    },
    {
     "name": "stderr",
     "output_type": "stream",
     "text": [
      "100%|██████████| 5/5 [00:00<00:00, 20.67it/s]\n",
      " 92%|█████████▏| 77/84 [00:06<00:01,  3.98it/s]\n",
      "  0%|          | 0/5 [00:00<?, ?it/s]\u001b[A\n",
      " 40%|████      | 2/5 [00:00<00:00, 16.17it/s]\u001b[A"
     ]
    },
    {
     "name": "stdout",
     "output_type": "stream",
     "text": [
      "Filling NA in column cdc_causale_attivazione with value *** ...\n"
     ]
    },
    {
     "name": "stderr",
     "output_type": "stream",
     "text": [
      "\n",
      "100%|██████████| 5/5 [00:00<00:00, 16.20it/s]\u001b[A\n",
      " 93%|█████████▎| 78/84 [00:07<00:01,  3.71it/s]\n",
      "  0%|          | 0/5 [00:00<?, ?it/s]\u001b[A\n",
      " 60%|██████    | 3/5 [00:00<00:00, 20.78it/s]\u001b[A"
     ]
    },
    {
     "name": "stdout",
     "output_type": "stream",
     "text": [
      "Filling NA in column lds_comune_fornitura with value *** ...\n"
     ]
    },
    {
     "name": "stderr",
     "output_type": "stream",
     "text": [
      "\n",
      "100%|██████████| 5/5 [00:00<00:00, 19.91it/s]\u001b[A\n",
      " 94%|█████████▍| 79/84 [00:07<00:01,  3.78it/s]\n",
      "  0%|          | 0/5 [00:00<?, ?it/s]\u001b[A\n",
      " 60%|██████    | 3/5 [00:00<00:00, 20.69it/s]\u001b[A"
     ]
    },
    {
     "name": "stdout",
     "output_type": "stream",
     "text": [
      "Filling NA in column mds_nome_campagna_last_response_marketing_cli with value *** ...\n"
     ]
    },
    {
     "name": "stderr",
     "output_type": "stream",
     "text": [
      "\n",
      "100%|██████████| 5/5 [00:00<00:00, 20.22it/s]\u001b[A\n",
      " 95%|█████████▌| 80/84 [00:07<00:01,  3.84it/s]\n",
      "  0%|          | 0/5 [00:00<?, ?it/s]\u001b[A\n",
      " 60%|██████    | 3/5 [00:00<00:00, 20.18it/s]\u001b[A"
     ]
    },
    {
     "name": "stdout",
     "output_type": "stream",
     "text": [
      "Filling NA in column xds_tipo_azione_campagna_last_response_marketing_cli with value ALTRO ...\n"
     ]
    },
    {
     "name": "stderr",
     "output_type": "stream",
     "text": [
      "\n",
      "100%|██████████| 5/5 [00:00<00:00, 19.69it/s]\u001b[A\n",
      " 96%|█████████▋| 81/84 [00:08<00:00,  3.86it/s]\n",
      "  0%|          | 0/5 [00:00<?, ?it/s]\u001b[A\n",
      " 40%|████      | 2/5 [00:00<00:00, 16.35it/s]\u001b[A"
     ]
    },
    {
     "name": "stdout",
     "output_type": "stream",
     "text": [
      "Filling NA in column xds_tipologia_azione_last_response_marketing_cli with value ALTRO ...\n"
     ]
    },
    {
     "name": "stderr",
     "output_type": "stream",
     "text": [
      "\n",
      "100%|██████████| 5/5 [00:00<00:00, 15.76it/s]\u001b[A\n",
      " 98%|█████████▊| 82/84 [00:08<00:00,  3.60it/s]\n",
      "  0%|          | 0/5 [00:00<?, ?it/s]\u001b[A\n",
      " 60%|██████    | 3/5 [00:00<00:00, 20.10it/s]\u001b[A"
     ]
    },
    {
     "name": "stdout",
     "output_type": "stream",
     "text": [
      "Filling NA in column cdc_cluster_fattura_last with value OTHER ...\n"
     ]
    },
    {
     "name": "stderr",
     "output_type": "stream",
     "text": [
      "\n",
      "100%|██████████| 5/5 [00:00<00:00, 19.27it/s]\u001b[A\n",
      " 99%|█████████▉| 83/84 [00:08<00:00,  3.66it/s]\n",
      "  0%|          | 0/5 [00:00<?, ?it/s]\u001b[A\n",
      " 40%|████      | 2/5 [00:00<00:00, 19.86it/s]\u001b[A"
     ]
    },
    {
     "name": "stdout",
     "output_type": "stream",
     "text": [
      "Filling NA in column xds_canale_last_response_marketing_cli with value UNDEFINED ...\n"
     ]
    },
    {
     "name": "stderr",
     "output_type": "stream",
     "text": [
      "\n",
      "100%|██████████| 5/5 [00:00<00:00, 19.08it/s]\u001b[A\n",
      "100%|██████████| 84/84 [00:08<00:00,  9.47it/s]\n"
     ]
    }
   ],
   "source": [
    "for column in tqdm(column_na):\n",
    "    numeric = isinstance(column_na[column], numbers.Number)\n",
    "    if numeric:\n",
    "        input_data = fill_na_with_value(data = input_data, column = column, numeric = True, fill_with = column_na[column], na_values = [None])\n",
    "    else:\n",
    "        input_data = fill_na_with_value(data = input_data, column = column, numeric = False, fill_with = column_na[column], na_values = [None, '***', 'null', 'na', ''])"
   ]
  },
  {
   "cell_type": "markdown",
   "metadata": {},
   "source": [
    "For the days quantities, let's treat all values greater than 10 years as NAs and fill them"
   ]
  },
  {
   "cell_type": "code",
   "execution_count": 15,
   "metadata": {},
   "outputs": [],
   "source": [
    "# This function takes in input the df the column and the value to fill with and fill the NA values using the input value\n",
    "# It is specific for the day quantity features\n",
    "def fill_na_with_value_qta(data, column, fill_with):\n",
    "    print('Filling NA in column ' +column+' with value '+ str(fill_with) + ' ...')\n",
    "    data = data.withColumn(column, spark_functions.when(spark_functions.col(column) >= 3650, fill_with).\\\n",
    "    otherwise(spark_functions.col(column)))\n",
    "    return data"
   ]
  },
  {
   "cell_type": "code",
   "execution_count": 16,
   "metadata": {},
   "outputs": [
    {
     "name": "stderr",
     "output_type": "stream",
     "text": [
      "  2%|▏         | 2/84 [00:00<00:04, 16.51it/s]"
     ]
    },
    {
     "name": "stdout",
     "output_type": "stream",
     "text": [
      "Filling NA in column qta_eta_nrm with value -1 ...\n",
      "Filling NA in column qta_indice_stress_comm_ult_30gg with value -1 ...\n",
      "Filling NA in column qta_indice_contattosita_ult_30gg with value -1 ...\n",
      "Filling NA in column val_fascia_stress with value -1 ...\n"
     ]
    },
    {
     "name": "stderr",
     "output_type": "stream",
     "text": [
      "  7%|▋         | 6/84 [00:00<00:04, 16.77it/s]"
     ]
    },
    {
     "name": "stdout",
     "output_type": "stream",
     "text": [
      "Filling NA in column qta_giorni_ultimo_contatto_inbound with value -1 ...\n",
      "Filling NA in column qta_giorni_ultimo_contatto_outbound with value -1 ...\n",
      "Filling NA in column qta_giorni_ultimo_reclamo with value -1 ...\n",
      "Filling NA in column qta_days_since_last_inbound_contact with value -1 ...\n"
     ]
    },
    {
     "name": "stderr",
     "output_type": "stream",
     "text": [
      " 12%|█▏        | 10/84 [00:00<00:04, 15.78it/s]"
     ]
    },
    {
     "name": "stdout",
     "output_type": "stream",
     "text": [
      "Filling NA in column qta_days_since_last_inbound_contact_channel_APP with value -1 ...\n",
      "Filling NA in column qta_days_since_last_inbound_contact_channel_FACE with value -1 ...\n",
      "Filling NA in column qta_days_since_last_inbound_contact_channel_TELEFONICO with value -1 ...\n",
      "Filling NA in column qta_days_since_last_inbound_contact_channel_DOCUMENTALE_COMPLESSO with value -1 ...\n"
     ]
    },
    {
     "name": "stderr",
     "output_type": "stream",
     "text": [
      " 17%|█▋        | 14/84 [00:00<00:04, 17.36it/s]"
     ]
    },
    {
     "name": "stdout",
     "output_type": "stream",
     "text": [
      "Filling NA in column qta_days_since_last_inbound_contact_channel_DOCUMENTALE with value -1 ...\n",
      "Filling NA in column qta_days_since_last_inbound_contact_channel_CHAT with value -1 ...\n",
      "Filling NA in column qta_days_since_last_inbound_contact_channel_WEB with value -1 ...\n",
      "Filling NA in column qta_days_since_last_inbound_contact_microcausale_RETTIFICHE_CONSUMI_FATTURAZIONE with value -1 ...\n"
     ]
    },
    {
     "name": "stderr",
     "output_type": "stream",
     "text": [
      " 21%|██▏       | 18/84 [00:01<00:03, 18.19it/s]"
     ]
    },
    {
     "name": "stdout",
     "output_type": "stream",
     "text": [
      "Filling NA in column qta_days_since_last_inbound_contact_microcausale_INFORMATIVA with value -1 ...\n",
      "Filling NA in column qta_days_since_last_inbound_contact_microcausale_VOLTURA with value -1 ...\n",
      "Filling NA in column qta_days_since_last_inbound_contact_microcausale_PRIMA_ATTIVAZIONE with value -1 ...\n",
      "Filling NA in column qta_days_since_last_inbound_contact_microcausale_COPIA_DOCUMENTAZIONI with value -1 ...\n"
     ]
    },
    {
     "name": "stderr",
     "output_type": "stream",
     "text": [
      " 26%|██▌       | 22/84 [00:01<00:03, 18.51it/s]"
     ]
    },
    {
     "name": "stdout",
     "output_type": "stream",
     "text": [
      "Filling NA in column qta_days_since_last_inbound_contact_microcausale_RIMBORSO_COMPENSAZIONE with value -1 ...\n",
      "Filling NA in column qta_days_since_last_inbound_contact_microcausale_LAVORI_E_MODIFICHE_TECNICHE_POTENZA_TENSIONE with value -1 ...\n",
      "Filling NA in column qta_days_since_last_inbound_contact_microcausale_INFORMATIVA_CREDITO with value -1 ...\n",
      "Filling NA in column qta_days_since_last_inbound_contact_microcausale_DISTACCHI_RIALLACCI with value -1 ...\n"
     ]
    },
    {
     "name": "stderr",
     "output_type": "stream",
     "text": [
      " 31%|███       | 26/84 [00:01<00:03, 18.61it/s]"
     ]
    },
    {
     "name": "stdout",
     "output_type": "stream",
     "text": [
      "Filling NA in column qta_days_since_last_inbound_contact_microcausale_DISDETTE_E_CESSAZIONI with value -1 ...\n",
      "Filling NA in column qta_days_since_last_inbound_contact_microcausale_GESTIONE_VAS with value -1 ...\n",
      "Filling NA in column qta_days_since_last_inbound_contact_microcausale_AUTOLETTURA with value -1 ...\n",
      "Filling NA in column qta_days_since_last_inbound_contact_microcausale_RIPENSAMENTO_O_DISCONOSCIMENTO with value -1 ...\n"
     ]
    },
    {
     "name": "stderr",
     "output_type": "stream",
     "text": [
      " 36%|███▌      | 30/84 [00:01<00:03, 16.72it/s]"
     ]
    },
    {
     "name": "stdout",
     "output_type": "stream",
     "text": [
      "Filling NA in column qta_days_since_last_inbound_contact_microcausale_GESTIONE_FORNITURA with value -1 ...\n",
      "Filling NA in column qta_days_since_last_inbound_contact_microcausale_MODIFICA_ANAGRAFICA_O_DATI_FORNITURA_FATTURAZIONE with value -1 ...\n",
      "Filling NA in column qta_days_since_last_inbound_contact_microcausale_RECLAMI_SCRITTI with value -1 ...\n",
      "Filling NA in column qta_days_since_last_inbound_contact_microcausale_REPEATED_LIST with value -1 ...\n"
     ]
    },
    {
     "name": "stderr",
     "output_type": "stream",
     "text": [
      " 40%|████      | 34/84 [00:01<00:02, 17.77it/s]"
     ]
    },
    {
     "name": "stdout",
     "output_type": "stream",
     "text": [
      "Filling NA in column qta_days_since_last_inbound_contact_microcausale_INFORMATIVA_CONSUMI_PAGAMENTI with value -1 ...\n",
      "Filling NA in column qta_days_since_last_inbound_contact_microcausale_SWITCH_ATTIVO with value -1 ...\n",
      "Filling NA in column qta_days_since_last_inbound_contact_microcausale_MODALITA_DI_PAGAMENTO with value -1 ...\n",
      "Filling NA in column qta_days_since_last_inbound_contact_microcausale_ALLACCIO_E_ATTIVAZIONE with value -1 ...\n"
     ]
    },
    {
     "name": "stderr",
     "output_type": "stream",
     "text": [
      " 45%|████▌     | 38/84 [00:02<00:02, 18.08it/s]"
     ]
    },
    {
     "name": "stdout",
     "output_type": "stream",
     "text": [
      "Filling NA in column qta_days_since_last_inbound_contact_microcausale_VERIFICHE_TECNICHE with value -1 ...\n",
      "Filling NA in column qta_days_since_last_inbound_contact_microcausale_INFORMATIVA_NON_DI_COMPETENZA with value -1 ...\n",
      "Filling NA in column qta_days_since_last_inbound_contact_microcausale_GESTIONE_PRIVACY with value -1 ...\n",
      "Filling NA in column qta_days_since_last_inbound_contact_microcausale_RVC with value -1 ...\n"
     ]
    },
    {
     "name": "stderr",
     "output_type": "stream",
     "text": [
      " 50%|█████     | 42/84 [00:02<00:02, 18.29it/s]"
     ]
    },
    {
     "name": "stdout",
     "output_type": "stream",
     "text": [
      "Filling NA in column qta_days_since_last_inbound_contact_microcausale_PIANO_DI_RIENTRO with value -1 ...\n",
      "Filling NA in column qta_days_since_last_inbound_contact_microcausale_SUBENTRO with value -1 ...\n",
      "Filling NA in column qta_days_since_last_inbound_contact_macrocausale_Causale_non_definita with value -1 ...\n",
      "Filling NA in column qta_days_since_last_inbound_contact_macrocausale_Chiarimenti_su_fatture with value -1 ...\n"
     ]
    },
    {
     "name": "stderr",
     "output_type": "stream",
     "text": [
      " 55%|█████▍    | 46/84 [00:02<00:02, 18.38it/s]"
     ]
    },
    {
     "name": "stdout",
     "output_type": "stream",
     "text": [
      "Filling NA in column qta_days_since_last_inbound_contact_macrocausale_Chiarimento_su_offerta with value -1 ...\n",
      "Filling NA in column qta_days_since_last_inbound_contact_macrocausale_Credito with value -1 ...\n",
      "Filling NA in column qta_days_since_last_inbound_contact_macrocausale_Esecuzione_lavori with value -1 ...\n",
      "Filling NA in column qta_days_since_last_inbound_contact_macrocausale_Informativa with value -1 ...\n"
     ]
    },
    {
     "name": "stderr",
     "output_type": "stream",
     "text": [
      " 60%|█████▉    | 50/84 [00:02<00:02, 16.68it/s]"
     ]
    },
    {
     "name": "stdout",
     "output_type": "stream",
     "text": [
      "Filling NA in column qta_days_since_last_inbound_contact_macrocausale_Problemi_in_fase_di_attivazione with value -1 ...\n",
      "Filling NA in column qta_days_since_last_inbound_contact_macrocausale_Reclami_vendita_Privacy with value -1 ...\n",
      "Filling NA in column qta_days_since_last_inbound_contact_macrocausale_Ritardata_esecuzione_subentri_volture_cessazioni_etc with value -1 ...\n"
     ]
    },
    {
     "name": "stderr",
     "output_type": "stream",
     "text": [
      " 64%|██████▍   | 54/84 [00:03<00:01, 16.27it/s]"
     ]
    },
    {
     "name": "stdout",
     "output_type": "stream",
     "text": [
      "Filling NA in column qta_days_last_response_marketing_cli with value -1 ...\n",
      "Filling NA in column qta_days_emissione_fattura_pagamento_servizio_ultima_bolletta_emessa_canale_ALL with value -1 ...\n",
      "Filling NA in column qta_days_incasso_fattura_today_servizio_ultima_bolletta_emessa_canale_ALL with value -1 ...\n",
      "Filling NA in column qta_days_scadenza_fattura_pagamento_servizio_ultima_bolletta_emessa_canale_ALL with value -1 ...\n"
     ]
    },
    {
     "name": "stderr",
     "output_type": "stream",
     "text": [
      "100%|██████████| 84/84 [00:03<00:00, 26.54it/s]\n"
     ]
    }
   ],
   "source": [
    "for column in tqdm(column_na):\n",
    "    \n",
    "    if column_na[column] == -1:\n",
    "        input_data = fill_na_with_value_qta(data = input_data, column = column, fill_with = column_na[column])"
   ]
  },
  {
   "cell_type": "code",
   "execution_count": 17,
   "metadata": {},
   "outputs": [],
   "source": [
    "na_replaced_with_stars = ['cdc_pdr',\n",
    "'cdc_cap_nrm',\n",
    "'sds_provincia_fatturazione',\n",
    "'sds_provincia_fornitura',\n",
    "'sds_regione_fornitura',\n",
    "'sds_regione_fatturazione',\n",
    "'sds_mat_fatturazione',\n",
    "'sds_mat_fornitura',\n",
    "'sds_provincia',\n",
    "'sds_regione',\n",
    "'sds_mat',\n",
    "'mds_sottocanale',\n",
    "'mds_comune',\n",
    "'cdc_istat',\n",
    "'cdc_Codice_Regione',\n",
    "'cdc_Zona_altimetrica',\n",
    "'cdc_Comune_Montano',\n",
    "'cdc_causale_attivazione',\n",
    "'lds_comune_fornitura',\n",
    "'mds_nome_campagna_last_response_marketing_cli']"
   ]
  },
  {
   "cell_type": "code",
   "execution_count": 18,
   "metadata": {},
   "outputs": [
    {
     "name": "stdout",
     "output_type": "stream",
     "text": [
      "Number of NA in column qta_eta_nrm after filling: 0\n",
      "Number of NA in column qta_indice_stress_comm_ult_30gg after filling: 0\n",
      "Number of NA in column qta_indice_contattosita_ult_30gg after filling: 0\n",
      "Number of NA in column val_fascia_stress after filling: 0\n",
      "Number of NA in column qta_giorni_ultimo_contatto_inbound after filling: 0\n",
      "Number of NA in column qta_giorni_ultimo_contatto_outbound after filling: 0\n",
      "Number of NA in column qta_giorni_ultimo_reclamo after filling: 0\n",
      "Number of NA in column qta_days_since_last_inbound_contact after filling: 0\n",
      "Number of NA in column qta_days_since_last_inbound_contact_channel_APP after filling: 0\n",
      "Number of NA in column qta_days_since_last_inbound_contact_channel_FACE after filling: 0\n",
      "Number of NA in column qta_days_since_last_inbound_contact_channel_TELEFONICO after filling: 0\n",
      "Number of NA in column qta_days_since_last_inbound_contact_channel_DOCUMENTALE_COMPLESSO after filling: 0\n",
      "Number of NA in column qta_days_since_last_inbound_contact_channel_DOCUMENTALE after filling: 0\n",
      "Number of NA in column qta_days_since_last_inbound_contact_channel_CHAT after filling: 0\n",
      "Number of NA in column qta_days_since_last_inbound_contact_channel_WEB after filling: 0\n",
      "Number of NA in column qta_days_since_last_inbound_contact_microcausale_RETTIFICHE_CONSUMI_FATTURAZIONE after filling: 0\n",
      "Number of NA in column qta_days_since_last_inbound_contact_microcausale_INFORMATIVA after filling: 0\n",
      "Number of NA in column qta_days_since_last_inbound_contact_microcausale_VOLTURA after filling: 0\n",
      "Number of NA in column qta_days_since_last_inbound_contact_microcausale_PRIMA_ATTIVAZIONE after filling: 0\n",
      "Number of NA in column qta_days_since_last_inbound_contact_microcausale_COPIA_DOCUMENTAZIONI after filling: 0\n",
      "Number of NA in column qta_days_since_last_inbound_contact_microcausale_RIMBORSO_COMPENSAZIONE after filling: 0\n",
      "Number of NA in column qta_days_since_last_inbound_contact_microcausale_LAVORI_E_MODIFICHE_TECNICHE_POTENZA_TENSIONE after filling: 0\n",
      "Number of NA in column qta_days_since_last_inbound_contact_microcausale_INFORMATIVA_CREDITO after filling: 0\n",
      "Number of NA in column qta_days_since_last_inbound_contact_microcausale_DISTACCHI_RIALLACCI after filling: 0\n",
      "Number of NA in column qta_days_since_last_inbound_contact_microcausale_DISDETTE_E_CESSAZIONI after filling: 0\n",
      "Number of NA in column qta_days_since_last_inbound_contact_microcausale_GESTIONE_VAS after filling: 0\n",
      "Number of NA in column qta_days_since_last_inbound_contact_microcausale_AUTOLETTURA after filling: 0\n",
      "Number of NA in column qta_days_since_last_inbound_contact_microcausale_RIPENSAMENTO_O_DISCONOSCIMENTO after filling: 0\n",
      "Number of NA in column qta_days_since_last_inbound_contact_microcausale_GESTIONE_FORNITURA after filling: 0\n",
      "Number of NA in column qta_days_since_last_inbound_contact_microcausale_MODIFICA_ANAGRAFICA_O_DATI_FORNITURA_FATTURAZIONE after filling: 0\n",
      "Number of NA in column qta_days_since_last_inbound_contact_microcausale_RECLAMI_SCRITTI after filling: 0\n",
      "Number of NA in column qta_days_since_last_inbound_contact_microcausale_REPEATED_LIST after filling: 0\n",
      "Number of NA in column qta_days_since_last_inbound_contact_microcausale_INFORMATIVA_CONSUMI_PAGAMENTI after filling: 0\n",
      "Number of NA in column qta_days_since_last_inbound_contact_microcausale_SWITCH_ATTIVO after filling: 0\n",
      "Number of NA in column qta_days_since_last_inbound_contact_microcausale_MODALITA_DI_PAGAMENTO after filling: 0\n",
      "Number of NA in column qta_days_since_last_inbound_contact_microcausale_ALLACCIO_E_ATTIVAZIONE after filling: 0\n",
      "Number of NA in column qta_days_since_last_inbound_contact_microcausale_VERIFICHE_TECNICHE after filling: 0\n",
      "Number of NA in column qta_days_since_last_inbound_contact_microcausale_INFORMATIVA_NON_DI_COMPETENZA after filling: 0\n",
      "Number of NA in column qta_days_since_last_inbound_contact_microcausale_GESTIONE_PRIVACY after filling: 0\n",
      "Number of NA in column qta_days_since_last_inbound_contact_microcausale_RVC after filling: 0\n",
      "Number of NA in column qta_days_since_last_inbound_contact_microcausale_PIANO_DI_RIENTRO after filling: 0\n",
      "Number of NA in column qta_days_since_last_inbound_contact_microcausale_SUBENTRO after filling: 0\n",
      "Number of NA in column qta_days_since_last_inbound_contact_macrocausale_Causale_non_definita after filling: 0\n",
      "Number of NA in column qta_days_since_last_inbound_contact_macrocausale_Chiarimenti_su_fatture after filling: 0\n",
      "Number of NA in column qta_days_since_last_inbound_contact_macrocausale_Chiarimento_su_offerta after filling: 0\n",
      "Number of NA in column qta_days_since_last_inbound_contact_macrocausale_Credito after filling: 0\n",
      "Number of NA in column qta_days_since_last_inbound_contact_macrocausale_Esecuzione_lavori after filling: 0\n",
      "Number of NA in column qta_days_since_last_inbound_contact_macrocausale_Informativa after filling: 0\n",
      "Number of NA in column qta_days_since_last_inbound_contact_macrocausale_Problemi_in_fase_di_attivazione after filling: 0\n",
      "Number of NA in column qta_days_since_last_inbound_contact_macrocausale_Reclami_vendita_Privacy after filling: 0\n",
      "Number of NA in column qta_days_since_last_inbound_contact_macrocausale_Ritardata_esecuzione_subentri_volture_cessazioni_etc after filling: 0\n",
      "Number of NA in column qta_days_last_response_marketing_cli after filling: 0\n",
      "Number of NA in column qta_days_emissione_fattura_pagamento_servizio_ultima_bolletta_emessa_canale_ALL after filling: 0\n",
      "Number of NA in column qta_days_incasso_fattura_today_servizio_ultima_bolletta_emessa_canale_ALL after filling: 0\n",
      "Number of NA in column qta_days_scadenza_fattura_pagamento_servizio_ultima_bolletta_emessa_canale_ALL after filling: 0\n",
      "Number of NA in column cdn_cv2_servizio after filling: 0\n",
      "Number of NA in column cdn_cv2_cliente after filling: 0\n",
      "Number of NA in column val_Altitudine_del_centro after filling: 0\n",
      "Number of NA in column val_Superficie_territoriale after filling: 0\n",
      "Number of NA in column qta_Grado_di_urbanizzazione after filling: 0\n",
      "Number of NA in column cdc_pdr after filling: 0\n",
      "Number of NA in column cdc_cap_nrm after filling: 0\n",
      "Number of NA in column sds_provincia_fatturazione after filling: 0\n",
      "Number of NA in column sds_provincia_fornitura after filling: 0\n",
      "Number of NA in column sds_regione_fornitura after filling: 0\n",
      "Number of NA in column sds_regione_fatturazione after filling: 0\n",
      "Number of NA in column sds_mat_fatturazione after filling: 0\n",
      "Number of NA in column sds_mat_fornitura after filling: 0\n",
      "Number of NA in column sds_provincia after filling: 0\n",
      "Number of NA in column sds_regione after filling: 0\n",
      "Number of NA in column sds_mat after filling: 0\n",
      "Number of NA in column mds_sottocanale after filling: 0\n",
      "Number of NA in column mds_comune after filling: 0\n",
      "Number of NA in column cdc_istat after filling: 0\n",
      "Number of NA in column cdc_Codice_Regione after filling: 0\n",
      "Number of NA in column cdc_Zona_altimetrica after filling: 0\n",
      "Number of NA in column cdc_Comune_Montano after filling: 0\n",
      "Number of NA in column cdc_causale_attivazione after filling: 0\n",
      "Number of NA in column lds_comune_fornitura after filling: 0\n",
      "Number of NA in column mds_nome_campagna_last_response_marketing_cli after filling: 0\n",
      "Number of NA in column xds_tipo_azione_campagna_last_response_marketing_cli after filling: 0\n",
      "Number of NA in column xds_tipologia_azione_last_response_marketing_cli after filling: 0\n",
      "Number of NA in column cdc_cluster_fattura_last after filling: 0\n",
      "Number of NA in column xds_canale_last_response_marketing_cli after filling: 0\n"
     ]
    }
   ],
   "source": [
    "#NA values after filling:\n",
    "for column in column_na:\n",
    "    numeric = isinstance(column_na[column], numbers.Number)\n",
    "    if (numeric and (column.startswith('qta_days_') or column.startswith('qta_giorni_'))):\n",
    "        print(\"Number of NA in column \"+column+\" after filling: \"+str(input_data.select(column).\\\n",
    "        where(\"`\"+column+\"` is null or \"+\"`\"+column+\"` >= 3650\").count()))\n",
    "    else:\n",
    "        if(numeric and (not column.startswith('qta_days_')) and  (not column.startswith('qta_giorni_'))):\n",
    "            print(\"Number of NA in column \"+column+\" after filling: \"+str(input_data.select(column).\\\n",
    "            where('`'+column+\"` is null\").count()))\n",
    "        else:\n",
    "            if (column not in na_replaced_with_stars):\n",
    "                print(\"Number of NA in column \"+column+\" after filling: \"+str(input_data.select(column).\\\n",
    "                where('`'+column+\"` is null or lower(\"+ column +\") in('***', 'null', 'na', '')\").count()))\n",
    "            else:\n",
    "                print(\"Number of NA in column \"+column+\" after filling: \"+str(input_data.select(column).\\\n",
    "                where('`'+column+\"` is null or lower(\"+ column +\") in('null', 'na', '')\").count()))"
   ]
  },
  {
   "cell_type": "markdown",
   "metadata": {},
   "source": [
    "After analysis of the entire set of features given the previously calculated information, the following 115 columns have been tagged as to be removed. Features that will be used to identify the churning entity (idn_servizio_sk, fk_cliente_unico, idc_id_key_servizio, idc_id_key_cliente) will be kepted but will not be used during medeling phase."
   ]
  },
  {
   "cell_type": "code",
   "execution_count": 19,
   "metadata": {},
   "outputs": [],
   "source": [
    "column_to_drop_manual_analysis = ['sds_segmento_new', 'idc_id_key_contratto', \n",
    "'idn_contratto_sk', 'dta_creazione_att_swp', 'cdc_rid', 'sds_macro_categoria_ateco', 'sds_categoria_ateco_intermedia', \n",
    "'val_fascia_contattosita', 'lds_nazione_nascita', 'flc_sesso_nrm', 'flc_vas', 'val_churn', 'val_churn_3_months', \n",
    "'val_comunicazione_swp_1_month', 'val_comunicazione_swp_2_months', 'val_comunicazione_swp_3_months', 'mds_provincia', 'mds_land_type', \n",
    "'cdc_cd_censimento', 'mds_canale_acqu_fornitura', 'lds_categoria_uso', 'cdc_canale_criticita_infra_last_90_days', \n",
    "'cdc_motivazione_criticita_infra_last_90_days', 'cdc_motivazione_criticita_cross_last_90_days', \n",
    "'qta_cnt_campagne_mktg_DEM_OUTBOUND_LOYALTY_PROMOZIONE_last_3_months', \n",
    "'qta_cnt_campagne_mktg_GMC_OUTBOUND_ACQUISITION_DISPOSITIVA_last_3_months', 'qta_cnt_campagne_mktg_APP_OUTBOUND_ACQUISITION_INFORMATIVA_last_3_months', \n",
    "'qta_cnt_campagne_mktg_APP_OUTBOUND_CROSS_SELLING_DISPOSITIVA_last_3_months', 'qta_cnt_campagne_mktg_APP_OUTBOUND_LOYALTY_PROMOZIONE_last_3_months', \n",
    "'qta_cnt_campagne_mktg_CS_OUTBOUND_CARING_ALTRO_last_3_months', 'qta_cnt_campagne_mktg_CS_OUTBOUND_UP_SELLING_DISPOSITIVA_last_3_months', \n",
    "'qta_cnt_campagne_mktg_DEM_OUTBOUND_ACQUISITION_DISPOSITIVA_last_3_months', 'qta_cnt_campagne_mktg_DEM_OUTBOUND_ACQUISITION_INFORMATIVA_last_3_months', \n",
    "'qta_cnt_campagne_mktg_DEM_OUTBOUND_ALTRO_DISPOSITIVA_last_3_months', 'qta_cnt_campagne_mktg_DEM_OUTBOUND_ALTRO_INFORMATIVA_last_3_months', \n",
    "'qta_cnt_campagne_mktg_DEM_OUTBOUND_CARING_ALTRO_last_3_months', 'qta_cnt_campagne_mktg_DEM_OUTBOUND_CARING_CROSSSELLING_DISPOSITIVA_last_3_months', \n",
    "'qta_cnt_campagne_mktg_DEM_OUTBOUND_CARING_DISPOSITIVA_last_3_months', 'qta_cnt_campagne_mktg_DEM_OUTBOUND_CARING_INFORMATIVA_last_3_months', \n",
    "'qta_cnt_campagne_mktg_DEM_OUTBOUND_CARING_PROMOZIONE_last_3_months', 'qta_cnt_campagne_mktg_DEM_OUTBOUND_CROSS_SELLING_DISPOSITIVA_last_3_months', \n",
    "'qta_cnt_campagne_mktg_DEM_OUTBOUND_LOYALTY_INFORMATIVA_last_3_months', 'qta_cnt_campagne_mktg_DEM_OUTBOUND_UP_SELLING_DISPOSITIVA_last_3_months', \n",
    "'qta_cnt_campagne_mktg_DEM_OUTBOUND_UP_SELLING_INFORMATIVA_last_3_months', 'qta_cnt_campagne_mktg_DEM_OUTBOUND_UP_SELLING_TEST_last_3_months', \n",
    "'qta_cnt_campagne_mktg_FATTURA_OUTBOUND_ACQUISITION_DISPOSITIVA_last_3_months', 'qta_cnt_campagne_mktg_FATTURA_OUTBOUND_ALTRO_INFORMATIVA_last_3_months', \n",
    "'qta_cnt_campagne_mktg_FATTURA_OUTBOUND_CARING_DISPOSITIVA_last_3_months', 'qta_cnt_campagne_mktg_FATTURA_OUTBOUND_CARING_INFORMATIVA_last_3_months', \n",
    "'qta_cnt_campagne_mktg_FATTURA_OUTBOUND_CROSS_SELLING_DISPOSITIVA_last_3_months', 'qta_cnt_campagne_mktg_FATTURA_OUTBOUND_CROSS_SELLING_PROMOZIONE_last_3_months', \n",
    "'qta_cnt_campagne_mktg_FATTURA_OUTBOUND_LOYALTY_PROMOZIONE_last_3_months', 'qta_cnt_campagne_mktg_FATTURA_OUTBOUND_UP_SELLING_PROMOZIONE_last_3_months', \n",
    "'qta_cnt_campagne_mktg_RDM_OUTBOUND_RICERCHE_DI_MERCATO_ALTRO_last_3_months', 'qta_cnt_campagne_mktg_S2S_INBOUND_ACQUISITION_INFORMATIVA_last_3_months', \n",
    "'qta_cnt_campagne_mktg_S2S_INBOUND_CARING_INFORMATIVA_last_3_months', 'qta_cnt_campagne_mktg_S2S_INBOUND_CROSS_SELLING_DISPOSITIVA_last_3_months', \n",
    "'qta_cnt_campagne_mktg_S2S_INBOUND_CROSS_SELLING_PROMOZIONE_last_3_months', 'qta_cnt_campagne_mktg_S2S_INBOUND_UP_SELLING_DISPOSITIVA_last_3_months', \n",
    "'qta_cnt_campagne_mktg_SMS_OUTBOUND_1TO1_CROSSSELLING_DISPOSITIVA_last_3_months', 'qta_cnt_campagne_mktg_SMS_OUTBOUND_ACQUISITION_DISPOSITIVA_last_3_months', \n",
    "'qta_cnt_campagne_mktg_SMS_OUTBOUND_ACQUISITION_INFORMATIVA_last_3_months', 'qta_cnt_campagne_mktg_SMS_OUTBOUND_CARING_CROSSSELLING_DISPOSITIVA_last_3_months', \n",
    "'qta_cnt_campagne_mktg_SMS_OUTBOUND_CARING_DISPOSITIVA_last_3_months', 'qta_cnt_campagne_mktg_SMS_OUTBOUND_CARING_INFORMATIVA_last_3_months', \n",
    "'qta_cnt_campagne_mktg_SMS_OUTBOUND_CARING_PROMOZIONE_last_3_months', 'qta_cnt_campagne_mktg_SMS_OUTBOUND_CROSS_SELLING_DISPOSITIVA_last_3_months', \n",
    "'qta_cnt_campagne_mktg_SMS_OUTBOUND_LOYALTY_INFORMATIVA_last_3_months', 'qta_cnt_campagne_mktg_SMS_OUTBOUND_UP_SELLING_DISPOSITIVA_last_3_months', \n",
    "'qta_cnt_campagne_mktg_SMS_OUTBOUND_UP_SELLING_PROMOZIONE_last_3_months', 'qta_cnt_campagne_mktg_TLS_OUTBOUND_1TO1_CROSSSELLING_DISPOSITIVA_last_3_months', \n",
    "'qta_cnt_campagne_mktg_TLS_OUTBOUND_ACQUISITION_DISPOSITIVA_last_3_months', 'qta_cnt_campagne_mktg_TLS_OUTBOUND_CROSS_SELLING_DISPOSITIVA_last_3_months', \n",
    "'qta_cnt_campagne_mktg_WEB_INBOUND_CARING_INFORMATIVA_last_3_months', 'qta_cnt_campagne_mktg_WEB_INBOUND_CROSS_SELLING_DISPOSITIVA_last_3_months', 'lds_RETE_GAS', \n",
    "'lds_Cluster_Polis_11_gruppi', 'qta_cnt_mds_tipologia_attivita_gestione_notifiche_m1', 'qta_cnt_mds_tipologia_attivita_gestione_notifiche_m3', 'dta_cessazione', \n",
    "'fk_idn_audit_programma', 'dta_attivazione', 'cdc_livello_sollecito_last_diffida_cli', 'sds_descr_canale_altern_soll_elaborato_last_diffida_cli', \n",
    "'cdc_procedura_sollecito_last_diffida_cli', 'sds_descr_canale_altern_soll_elaborato_last_sollecito_cli', 'cdc_procedura_sollecito_last_sollecito_cli', \n",
    "'qta_days_diff_diffida_fattura_cli', 'qta_days_last_diffida_cli', 'qta_days_diff_sollecito_fattura_cli', 'qta_days_last_sollecito_cli', \n",
    "'fln_venditore_mercato_libero_gas_comune_Gruppo_Canarbino', 'fln_venditore_mercato_libero_gas_comune_Unogas', 'fln_venditore_mercato_libero_ele_comune_Unogas', \n",
    "'val_Cliente_con_servizio_cessato_last_1_months', 'fln_enelpremia_flag', 'val_punti_avg_m1', 'val_punti_delta_m3', 'val_punti_avg_m3', 'val_punti_min_m3', \n",
    "'val_punti_max_m3', 'val_punti_delta_m9', 'val_punti_avg_m9', 'val_punti_min_m9', 'val_punti_max_m9', 'dta_foto_bi', 'cdc_cv_fasce_cliente', \n",
    "'qta_days_servizio_attualmente_distaccato', 'qta_days_servizio_riallacciato', 'idn_run', 'cdc_power_gas']"
   ]
  },
  {
   "cell_type": "code",
   "execution_count": 21,
   "metadata": {},
   "outputs": [],
   "source": [
    "input_data = input_data.drop(*column_to_drop_manual_analysis)"
   ]
  },
  {
   "cell_type": "markdown",
   "metadata": {},
   "source": [
    "Let's write the output of the NA filling and the columns dropping to the database"
   ]
  },
  {
   "cell_type": "code",
   "execution_count": 22,
   "metadata": {},
   "outputs": [],
   "source": [
    "input_data.write.parquet(\"/bda/anx_adv_achurn/durand/t_bda_anx_dt_ach_b2b_master_table_train_test_filled_na\")"
   ]
  },
  {
   "cell_type": "markdown",
   "metadata": {},
   "source": [
    "### 2.2.3 - Creating new features: val_t0_day, val_t0_month and val_t0_year, fln_dual"
   ]
  },
  {
   "cell_type": "code",
   "execution_count": 23,
   "metadata": {},
   "outputs": [],
   "source": [
    "input_data_filled_na = session.read.parquet(\"/bda/anx_adv_achurn/durand/t_bda_anx_dt_ach_b2b_master_table_train_test_filled_na\")"
   ]
  },
  {
   "cell_type": "markdown",
   "metadata": {},
   "source": [
    "Let's create the new features.\n",
    "\n",
    "    - val_t0_day: will not be usefull since all the days are 1st of the month\n",
    "    - val_t0_month: using dta_t0\n",
    "    - val_t0_year: using dta_t0\n",
    "    - fln_dual: using cdc_commodity_attive"
   ]
  },
  {
   "cell_type": "code",
   "execution_count": 24,
   "metadata": {},
   "outputs": [],
   "source": [
    "input_data_filled_na = input_data_filled_na.withColumn('val_t0_month', spark_functions.month(input_data_filled_na.dta_t0))\n",
    "input_data_filled_na = input_data_filled_na.withColumn('val_t0_year', spark_functions.year(input_data_filled_na.dta_t0))\n",
    "input_data_filled_na = input_data_filled_na.withColumn('fln_dual', spark_functions.\\\n",
    "                       when(spark_functions.col('cdc_commodity_attive') == 'DUAL', 1).otherwise(0))"
   ]
  },
  {
   "cell_type": "code",
   "execution_count": 25,
   "metadata": {},
   "outputs": [
    {
     "name": "stdout",
     "output_type": "stream",
     "text": [
      "+-------------------+------------+-----------+\n",
      "|             dta_t0|val_t0_month|val_t0_year|\n",
      "+-------------------+------------+-----------+\n",
      "|2019-09-01 00:00:00|           9|       2019|\n",
      "|2019-09-01 00:00:00|           9|       2019|\n",
      "|2019-09-01 00:00:00|           9|       2019|\n",
      "+-------------------+------------+-----------+\n",
      "\n"
     ]
    }
   ],
   "source": [
    "input_data_filled_na.select('dta_t0', 'val_t0_month', 'val_t0_year').limit(3).show()"
   ]
  },
  {
   "cell_type": "code",
   "execution_count": 26,
   "metadata": {},
   "outputs": [
    {
     "name": "stdout",
     "output_type": "stream",
     "text": [
      "+--------------------+--------+\n",
      "|cdc_commodity_attive|fln_dual|\n",
      "+--------------------+--------+\n",
      "|                DUAL|       1|\n",
      "|                DUAL|       1|\n",
      "|                DUAL|       1|\n",
      "+--------------------+--------+\n",
      "\n"
     ]
    }
   ],
   "source": [
    "input_data_filled_na.select('cdc_commodity_attive', 'fln_dual').where(\"cdc_commodity_attive = 'DUAL'\").limit(3).show()"
   ]
  },
  {
   "cell_type": "markdown",
   "metadata": {},
   "source": [
    "Now let's drop dta_t0 and cdc_commodity_attive"
   ]
  },
  {
   "cell_type": "code",
   "execution_count": 27,
   "metadata": {},
   "outputs": [],
   "source": [
    "input_data_filled_na = input_data_filled_na.drop('dta_t0')\n",
    "input_data_filled_na = input_data_filled_na.drop('cdc_commodity_attive')"
   ]
  },
  {
   "cell_type": "code",
   "execution_count": 28,
   "metadata": {},
   "outputs": [
    {
     "data": {
      "text/plain": [
       "657"
      ]
     },
     "execution_count": 28,
     "metadata": {},
     "output_type": "execute_result"
    }
   ],
   "source": [
    "len(input_data_filled_na.columns)"
   ]
  },
  {
   "cell_type": "code",
   "execution_count": 29,
   "metadata": {},
   "outputs": [],
   "source": [
    "input_data_filled_na.write.parquet(\"/bda/anx_adv_achurn/durand/t_bda_anx_dt_ach_b2b_master_table_train_test_new_features\")"
   ]
  },
  {
   "cell_type": "markdown",
   "metadata": {},
   "source": [
    "### 2.2.4 - Redundant features"
   ]
  },
  {
   "cell_type": "code",
   "execution_count": 6,
   "metadata": {},
   "outputs": [],
   "source": [
    "input_data_redundancy_test = session.read.parquet(\"/bda/anx_adv_achurn/durand/t_bda_anx_dt_ach_b2b_master_table_train_test_new_features\")"
   ]
  },
  {
   "cell_type": "markdown",
   "metadata": {},
   "source": [
    "#### 2.2.4.1 - lds_nome_listino <=> lds_prodotto_listino_2: Chi Square Test"
   ]
  },
  {
   "cell_type": "markdown",
   "metadata": {},
   "source": [
    "To evaluate the relation between these two features, We are going to implement a Chi square independence test with the help of scipy.stats module."
   ]
  },
  {
   "cell_type": "code",
   "execution_count": 7,
   "metadata": {},
   "outputs": [],
   "source": [
    "def chi_square_test(alpha, contingency_pandas_df):\n",
    "    observed_values = contingency_pandas_df.values    \n",
    "    stat, p, dof, expected = chi2_contingency(observed_values)\n",
    "    return {'chi_square_value': stat,'p-value': p, 'degrees_of_freedom': dof}"
   ]
  },
  {
   "cell_type": "markdown",
   "metadata": {},
   "source": [
    "let's applys this implementation on our two features"
   ]
  },
  {
   "cell_type": "code",
   "execution_count": 8,
   "metadata": {},
   "outputs": [
    {
     "name": "stdout",
     "output_type": "stream",
     "text": [
      "+--------------------+----------------------+\n",
      "|    lds_nome_listino|lds_prodotto_listino_2|\n",
      "+--------------------+----------------------+\n",
      "|Sempre Con Te Imp...|  SEMPRE CON TE IMP...|\n",
      "|Sempre Con Te Imp...|     SCEGLI TU 100X100|\n",
      "|Sempre Con Te Imp...|         SEMPRE CON TE|\n",
      "+--------------------+----------------------+\n",
      "only showing top 3 rows\n",
      "\n"
     ]
    }
   ],
   "source": [
    "df = input_data_redundancy_test.select('lds_nome_listino', 'lds_prodotto_listino_2')\n",
    "df.show(3)"
   ]
  },
  {
   "cell_type": "markdown",
   "metadata": {},
   "source": [
    "The first thing that we need is a contingency table. This can be obtained by running the following:"
   ]
  },
  {
   "cell_type": "code",
   "execution_count": 9,
   "metadata": {},
   "outputs": [
    {
     "data": {
      "text/html": [
       "<div>\n",
       "<style scoped>\n",
       "    .dataframe tbody tr th:only-of-type {\n",
       "        vertical-align: middle;\n",
       "    }\n",
       "\n",
       "    .dataframe tbody tr th {\n",
       "        vertical-align: top;\n",
       "    }\n",
       "\n",
       "    .dataframe thead th {\n",
       "        text-align: right;\n",
       "    }\n",
       "</style>\n",
       "<table border=\"1\" class=\"dataframe\">\n",
       "  <thead>\n",
       "    <tr style=\"text-align: right;\">\n",
       "      <th></th>\n",
       "      <th>lds_nome_listino_lds_prodotto_listino_2</th>\n",
       "      <th>1.500 METRI CUBI DI GAS</th>\n",
       "      <th>100X100 GIUSTAXTE</th>\n",
       "      <th>100X100 GIUSTAXTE BIORARIA</th>\n",
       "      <th>100X100 GIUSTAXTE BIORARIA IMPRESA</th>\n",
       "      <th>100X100 GIUSTAXTE GAS</th>\n",
       "      <th>100X100 GIUSTAXTE GAS IMPRESA</th>\n",
       "      <th>100X100 GIUSTAXTE IMPRESA</th>\n",
       "      <th>3.000 METRI CUBI DI GAS</th>\n",
       "      <th>ANNO SICURO</th>\n",
       "      <th>...</th>\n",
       "      <th>TUTELA SIMILE</th>\n",
       "      <th>TUTTOCOMPRESO GAS</th>\n",
       "      <th>TUTTOCOMPRESO LUCE</th>\n",
       "      <th>VALORECASA</th>\n",
       "      <th>VANTAGGIO 5</th>\n",
       "      <th>VANTAGGIO 5+</th>\n",
       "      <th>VANTAGGIO IMPRESA</th>\n",
       "      <th>VANTAGGIO PIU</th>\n",
       "      <th>VANTAGGIO PIU GAS</th>\n",
       "      <th>VANTAGGIO STAGIONE BUS</th>\n",
       "    </tr>\n",
       "  </thead>\n",
       "  <tbody>\n",
       "    <tr>\n",
       "      <th>0</th>\n",
       "      <td>Condominio Flessibile BT Verde rinnovi</td>\n",
       "      <td>0</td>\n",
       "      <td>0</td>\n",
       "      <td>0</td>\n",
       "      <td>0</td>\n",
       "      <td>0</td>\n",
       "      <td>0</td>\n",
       "      <td>0</td>\n",
       "      <td>0</td>\n",
       "      <td>0</td>\n",
       "      <td>...</td>\n",
       "      <td>0</td>\n",
       "      <td>0</td>\n",
       "      <td>0</td>\n",
       "      <td>0</td>\n",
       "      <td>0</td>\n",
       "      <td>0</td>\n",
       "      <td>0</td>\n",
       "      <td>0</td>\n",
       "      <td>0</td>\n",
       "      <td>0</td>\n",
       "    </tr>\n",
       "    <tr>\n",
       "      <th>1</th>\n",
       "      <td>Energia Pura V1 28 rinnovi</td>\n",
       "      <td>0</td>\n",
       "      <td>0</td>\n",
       "      <td>0</td>\n",
       "      <td>0</td>\n",
       "      <td>0</td>\n",
       "      <td>0</td>\n",
       "      <td>0</td>\n",
       "      <td>0</td>\n",
       "      <td>17</td>\n",
       "      <td>...</td>\n",
       "      <td>0</td>\n",
       "      <td>0</td>\n",
       "      <td>0</td>\n",
       "      <td>0</td>\n",
       "      <td>0</td>\n",
       "      <td>0</td>\n",
       "      <td>0</td>\n",
       "      <td>0</td>\n",
       "      <td>0</td>\n",
       "      <td>0</td>\n",
       "    </tr>\n",
       "    <tr>\n",
       "      <th>2</th>\n",
       "      <td>Soluzione Energia Impresa Business</td>\n",
       "      <td>0</td>\n",
       "      <td>0</td>\n",
       "      <td>0</td>\n",
       "      <td>0</td>\n",
       "      <td>0</td>\n",
       "      <td>0</td>\n",
       "      <td>0</td>\n",
       "      <td>0</td>\n",
       "      <td>0</td>\n",
       "      <td>...</td>\n",
       "      <td>0</td>\n",
       "      <td>0</td>\n",
       "      <td>0</td>\n",
       "      <td>0</td>\n",
       "      <td>0</td>\n",
       "      <td>0</td>\n",
       "      <td>0</td>\n",
       "      <td>0</td>\n",
       "      <td>0</td>\n",
       "      <td>0</td>\n",
       "    </tr>\n",
       "    <tr>\n",
       "      <th>3</th>\n",
       "      <td>Prezzo Amico v1 26 rinnovi_BUS_RI_26</td>\n",
       "      <td>0</td>\n",
       "      <td>0</td>\n",
       "      <td>0</td>\n",
       "      <td>0</td>\n",
       "      <td>0</td>\n",
       "      <td>0</td>\n",
       "      <td>0</td>\n",
       "      <td>0</td>\n",
       "      <td>0</td>\n",
       "      <td>...</td>\n",
       "      <td>0</td>\n",
       "      <td>0</td>\n",
       "      <td>0</td>\n",
       "      <td>0</td>\n",
       "      <td>0</td>\n",
       "      <td>0</td>\n",
       "      <td>0</td>\n",
       "      <td>0</td>\n",
       "      <td>0</td>\n",
       "      <td>0</td>\n",
       "    </tr>\n",
       "    <tr>\n",
       "      <th>4</th>\n",
       "      <td>Anno Sicuro P.A._V2_rinnovi</td>\n",
       "      <td>0</td>\n",
       "      <td>0</td>\n",
       "      <td>0</td>\n",
       "      <td>0</td>\n",
       "      <td>0</td>\n",
       "      <td>0</td>\n",
       "      <td>0</td>\n",
       "      <td>0</td>\n",
       "      <td>18223</td>\n",
       "      <td>...</td>\n",
       "      <td>0</td>\n",
       "      <td>0</td>\n",
       "      <td>0</td>\n",
       "      <td>0</td>\n",
       "      <td>0</td>\n",
       "      <td>0</td>\n",
       "      <td>0</td>\n",
       "      <td>0</td>\n",
       "      <td>0</td>\n",
       "      <td>0</td>\n",
       "    </tr>\n",
       "  </tbody>\n",
       "</table>\n",
       "<p>5 rows × 220 columns</p>\n",
       "</div>"
      ],
      "text/plain": [
       "  lds_nome_listino_lds_prodotto_listino_2  1.500 METRI CUBI DI GAS  \\\n",
       "0  Condominio Flessibile BT Verde rinnovi                        0   \n",
       "1              Energia Pura V1 28 rinnovi                        0   \n",
       "2      Soluzione Energia Impresa Business                        0   \n",
       "3    Prezzo Amico v1 26 rinnovi_BUS_RI_26                        0   \n",
       "4             Anno Sicuro P.A._V2_rinnovi                        0   \n",
       "\n",
       "   100X100 GIUSTAXTE  100X100 GIUSTAXTE BIORARIA  \\\n",
       "0                  0                           0   \n",
       "1                  0                           0   \n",
       "2                  0                           0   \n",
       "3                  0                           0   \n",
       "4                  0                           0   \n",
       "\n",
       "   100X100 GIUSTAXTE BIORARIA IMPRESA  100X100 GIUSTAXTE GAS  \\\n",
       "0                                   0                      0   \n",
       "1                                   0                      0   \n",
       "2                                   0                      0   \n",
       "3                                   0                      0   \n",
       "4                                   0                      0   \n",
       "\n",
       "   100X100 GIUSTAXTE GAS IMPRESA  100X100 GIUSTAXTE IMPRESA  \\\n",
       "0                              0                          0   \n",
       "1                              0                          0   \n",
       "2                              0                          0   \n",
       "3                              0                          0   \n",
       "4                              0                          0   \n",
       "\n",
       "   3.000 METRI CUBI DI GAS  ANNO SICURO  ...  TUTELA SIMILE  \\\n",
       "0                        0            0  ...              0   \n",
       "1                        0           17  ...              0   \n",
       "2                        0            0  ...              0   \n",
       "3                        0            0  ...              0   \n",
       "4                        0        18223  ...              0   \n",
       "\n",
       "   TUTTOCOMPRESO GAS  TUTTOCOMPRESO LUCE  VALORECASA  VANTAGGIO 5  \\\n",
       "0                  0                   0           0            0   \n",
       "1                  0                   0           0            0   \n",
       "2                  0                   0           0            0   \n",
       "3                  0                   0           0            0   \n",
       "4                  0                   0           0            0   \n",
       "\n",
       "   VANTAGGIO 5+  VANTAGGIO IMPRESA  VANTAGGIO PIU  VANTAGGIO PIU GAS  \\\n",
       "0             0                  0              0                  0   \n",
       "1             0                  0              0                  0   \n",
       "2             0                  0              0                  0   \n",
       "3             0                  0              0                  0   \n",
       "4             0                  0              0                  0   \n",
       "\n",
       "   VANTAGGIO STAGIONE BUS  \n",
       "0                       0  \n",
       "1                       0  \n",
       "2                       0  \n",
       "3                       0  \n",
       "4                       0  \n",
       "\n",
       "[5 rows x 220 columns]"
      ]
     },
     "execution_count": 9,
     "metadata": {},
     "output_type": "execute_result"
    }
   ],
   "source": [
    "contingency_table = df.stat.crosstab('lds_nome_listino', 'lds_prodotto_listino_2')\n",
    "contingency_table.toPandas().head()"
   ]
  },
  {
   "cell_type": "code",
   "execution_count": 10,
   "metadata": {},
   "outputs": [
    {
     "data": {
      "text/plain": [
       "{'chi_square_value': 5233008305.378342,\n",
       " 'p-value': 0.0,\n",
       " 'degrees_of_freedom': 190532}"
      ]
     },
     "execution_count": 10,
     "metadata": {},
     "output_type": "execute_result"
    }
   ],
   "source": [
    "# Drop the first column lds_nome_listino_lds_prodotto_listino_2 and convert the spark df into a pandas df\n",
    "contingency_df = contingency_table.drop('lds_nome_listino_lds_prodotto_listino_2')\n",
    "contingency_pd_df = contingency_df.toPandas()\n",
    "\n",
    "# Perform the Chi square test\n",
    "significance_level = 0.05\n",
    "independenceTestResult = chi_square_test(alpha = significance_level, contingency_pandas_df = contingency_pd_df)\n",
    "independenceTestResult"
   ]
  },
  {
   "cell_type": "markdown",
   "metadata": {},
   "source": [
    "As the p-value is lower than the significance level (0.05), we can confidently reject the null hypothesis and say that there is a dependency between \\\n",
    "lds_nome_listino and lds_prodotto_listino_2.\n",
    "\n",
    "To decide which of the two feaures we are going to keep, let's check if they are correlated with the target variable (val_churn_2_months)"
   ]
  },
  {
   "cell_type": "code",
   "execution_count": 11,
   "metadata": {},
   "outputs": [
    {
     "name": "stdout",
     "output_type": "stream",
     "text": [
      "lds_nome_listino vs val_churn_2_months\n",
      "{'chi_square_value': 123198.9690061592, 'p-value': 0.0, 'degrees_of_freedom': 874}\n",
      "lds_prodotto_listino_2 vs val_churn_2_months\n",
      "{'chi_square_value': 59074.20784380114, 'p-value': 0.0, 'degrees_of_freedom': 218}\n"
     ]
    }
   ],
   "source": [
    "df = input_data_redundancy_test.select('lds_nome_listino', 'val_churn_2_months')\n",
    "df1 = input_data_redundancy_test.select('lds_prodotto_listino_2', 'val_churn_2_months')\n",
    "contingency_table = df.stat.crosstab('lds_nome_listino', 'val_churn_2_months')\n",
    "contingency_table1 = df1.stat.crosstab('lds_prodotto_listino_2', 'val_churn_2_months')\n",
    "# Drop the first column and convert the spark df into a pandas df\n",
    "contingency_df = contingency_table.drop('lds_nome_listino_val_churn_2_months')\n",
    "contingency_df1 = contingency_table1.drop('lds_prodotto_listino_2_val_churn_2_months')\n",
    "contingency_pd_df = contingency_df.toPandas()\n",
    "contingency_pd_df1 = contingency_df1.toPandas()\n",
    "# Perform the Chi square test\n",
    "significance_level = 0.05\n",
    "independenceTestResult = chi_square_test(alpha = significance_level, contingency_pandas_df = contingency_pd_df)\n",
    "independenceTestResult1 = chi_square_test(alpha = significance_level, contingency_pandas_df = contingency_pd_df1)\n",
    "print('lds_nome_listino vs val_churn_2_months')\n",
    "print(independenceTestResult)\n",
    "print('lds_prodotto_listino_2 vs val_churn_2_months')\n",
    "print(independenceTestResult1)"
   ]
  },
  {
   "cell_type": "markdown",
   "metadata": {},
   "source": [
    "As the p-value suggests, both features are correlated with the target. we are going keep the feature with less NA proportion. Namely lds_prodotto_listino_2 (0.03% against 0.07% for lds_nome_listino)"
   ]
  },
  {
   "cell_type": "code",
   "execution_count": 12,
   "metadata": {},
   "outputs": [],
   "source": [
    "input_data_redundancy_test = input_data_redundancy_test.drop('lds_nome_listino')"
   ]
  },
  {
   "cell_type": "markdown",
   "metadata": {},
   "source": [
    "#### 2.2.4.2 - lds_macro_prodotto <=> lds_prodotto_listino_2: Chi Square Test"
   ]
  },
  {
   "cell_type": "code",
   "execution_count": 13,
   "metadata": {},
   "outputs": [
    {
     "name": "stdout",
     "output_type": "stream",
     "text": [
      "lds_macro_prodotto vs lds_prodotto_listino_2\n",
      "{'chi_square_value': 5320428218.000001, 'p-value': 0.0, 'degrees_of_freedom': 44254}\n",
      "lds_macro_prodotto vs val_churn_2_months\n",
      "{'chi_square_value': 56432.73792303009, 'p-value': 0.0, 'degrees_of_freedom': 203}\n"
     ]
    }
   ],
   "source": [
    "df = input_data_redundancy_test.select('lds_macro_prodotto', 'lds_prodotto_listino_2')\n",
    "df1 = input_data_redundancy_test.select('lds_macro_prodotto', 'val_churn_2_months')\n",
    "contingency_table = df.stat.crosstab('lds_macro_prodotto', 'lds_prodotto_listino_2')\n",
    "contingency_table1 = df1.stat.crosstab('lds_macro_prodotto', 'val_churn_2_months')\n",
    "# Drop the first column and convert the spark df into a pandas df\n",
    "contingency_df = contingency_table.drop('lds_macro_prodotto_lds_prodotto_listino_2')\n",
    "contingency_df1 = contingency_table1.drop('lds_macro_prodotto_val_churn_2_months')\n",
    "contingency_pd_df = contingency_df.toPandas()\n",
    "contingency_pd_df1 = contingency_df1.toPandas()\n",
    "# Perform the Chi square test\n",
    "significance_level = 0.05\n",
    "independenceTestResult = chi_square_test(alpha = significance_level, contingency_pandas_df = contingency_pd_df)\n",
    "independenceTestResult1 = chi_square_test(alpha = significance_level, contingency_pandas_df = contingency_pd_df1)\n",
    "print('lds_macro_prodotto vs lds_prodotto_listino_2')\n",
    "print(independenceTestResult)\n",
    "print('lds_macro_prodotto vs val_churn_2_months')\n",
    "print(independenceTestResult1)"
   ]
  },
  {
   "cell_type": "markdown",
   "metadata": {},
   "source": [
    "As a conclusion there is a dependency between lds_macro_prodotto and lds_prodotto_listino_2 and also between lds_macro_prodotto and the target variable.\n",
    "\n",
    "We will keep lds_prodotto_listino_2 because of his high number of distinct values (220) with respect to lds_macro_prodotto (205)."
   ]
  },
  {
   "cell_type": "code",
   "execution_count": 14,
   "metadata": {},
   "outputs": [],
   "source": [
    "input_data_redundancy_test = input_data_redundancy_test.drop('lds_macro_prodotto')"
   ]
  },
  {
   "cell_type": "markdown",
   "metadata": {},
   "source": [
    "#### 2.2.4.3 - lds_categoria_prodotto <=> lds_prodotto_listino_2: Chi Square Test"
   ]
  },
  {
   "cell_type": "code",
   "execution_count": 15,
   "metadata": {},
   "outputs": [
    {
     "name": "stdout",
     "output_type": "stream",
     "text": [
      "lds_categoria_prodotto vs lds_prodotto_listino_2\n",
      "{'chi_square_value': 48175000.11413506, 'p-value': 0.0, 'degrees_of_freedom': 436}\n",
      "lds_categoria_prodotto vs val_churn_2_months\n",
      "{'chi_square_value': 894.9776447978869, 'p-value': 4.550652980644098e-195, 'degrees_of_freedom': 2}\n"
     ]
    }
   ],
   "source": [
    "df = input_data_redundancy_test.select('lds_categoria_prodotto', 'lds_prodotto_listino_2')\n",
    "df1 = input_data_redundancy_test.select('lds_categoria_prodotto', 'val_churn_2_months')\n",
    "contingency_table = df.stat.crosstab('lds_categoria_prodotto', 'lds_prodotto_listino_2')\n",
    "contingency_table1 = df1.stat.crosstab('lds_categoria_prodotto', 'val_churn_2_months')\n",
    "# Drop the first column and convert the spark df into a pandas df\n",
    "contingency_df = contingency_table.drop('lds_categoria_prodotto_lds_prodotto_listino_2')\n",
    "contingency_df1 = contingency_table1.drop('lds_categoria_prodotto_val_churn_2_months')\n",
    "contingency_pd_df = contingency_df.toPandas()\n",
    "contingency_pd_df1 = contingency_df1.toPandas()\n",
    "# Perform the Chi square test\n",
    "significance_level = 0.05\n",
    "independenceTestResult = chi_square_test(alpha = significance_level, contingency_pandas_df = contingency_pd_df)\n",
    "independenceTestResult1 = chi_square_test(alpha = significance_level, contingency_pandas_df = contingency_pd_df1)\n",
    "print('lds_categoria_prodotto vs lds_prodotto_listino_2')\n",
    "print(independenceTestResult)\n",
    "print('lds_categoria_prodotto vs val_churn_2_months')\n",
    "print(independenceTestResult1)"
   ]
  },
  {
   "cell_type": "markdown",
   "metadata": {},
   "source": [
    "As a conclusion there is a dependency between lds_categoria_prodotto and lds_prodotto_listino_2 and also between lds_categoria_prodotto and the target variable.\n",
    "\n",
    "We will keep lds_prodotto_listino_2 because of his high entropy (220) with respect to lds_categoria_prodotto (3) and also because the p-values suggest that lds_prodotto_listino_2 is more correlated with the target (p-value = 0.0) than lds_categoria_prodotto (p-value = 4.550652980644098e-195)"
   ]
  },
  {
   "cell_type": "code",
   "execution_count": 16,
   "metadata": {},
   "outputs": [],
   "source": [
    "input_data_redundancy_test = input_data_redundancy_test.drop('lds_categoria_prodotto')"
   ]
  },
  {
   "cell_type": "markdown",
   "metadata": {},
   "source": [
    "#### 2.2.4.4 - val_fascia_stress <=> qta_indice_stress_comm_ult_30gg: Pearson/Spearman"
   ]
  },
  {
   "cell_type": "code",
   "execution_count": 42,
   "metadata": {},
   "outputs": [],
   "source": [
    "val_fascia_stress = input_data_redundancy_test.select('val_fascia_stress').toPandas().values\n",
    "val_fascia_stress = val_fascia_stress.flatten()\n",
    "qta_indice_stress_comm_ult_30gg = input_data_redundancy_test.select('qta_indice_stress_comm_ult_30gg').toPandas().values\n",
    "qta_indice_stress_comm_ult_30gg = qta_indice_stress_comm_ult_30gg.flatten()\n",
    "val_churn_2_months = input_data_redundancy_test.select('val_churn_2_months').toPandas().values\n",
    "val_churn_2_months = val_churn_2_months.flatten()"
   ]
  },
  {
   "cell_type": "code",
   "execution_count": 43,
   "metadata": {},
   "outputs": [
    {
     "name": "stdout",
     "output_type": "stream",
     "text": [
      "Pearsons correlation val_fascia_stress vs qta_indice_stress_comm_ult_30gg: 0.485\n",
      "Pearsons correlation val_fascia_stress vs val_churn_2_months: -0.019\n",
      "Pearsons correlation qta_indice_stress_comm_ult_30gg vs val_churn_2_months: -0.007\n",
      "Spearmans correlation val_fascia_stress vs qta_indice_stress_comm_ult_30gg: 0.769\n",
      "Spearmans correlation val_fascia_stress vs val_churn_2_months: -0.021\n",
      "Spearmans correlation qta_indice_stress_comm_ult_30gg vs val_churn_2_months: -0.019\n"
     ]
    }
   ],
   "source": [
    "# calculate Pearson's correlation\n",
    "corr, _ = pearsonr(val_fascia_stress, qta_indice_stress_comm_ult_30gg)\n",
    "print('Pearsons correlation val_fascia_stress vs qta_indice_stress_comm_ult_30gg: %.3f' % corr)\n",
    "\n",
    "corr, _ = pearsonr(val_fascia_stress, val_churn_2_months)\n",
    "print('Pearsons correlation val_fascia_stress vs val_churn_2_months: %.3f' % corr)\n",
    "\n",
    "corr, _ = pearsonr(qta_indice_stress_comm_ult_30gg, val_churn_2_months)\n",
    "print('Pearsons correlation qta_indice_stress_comm_ult_30gg vs val_churn_2_months: %.3f' % corr)\n",
    "\n",
    "\n",
    "# calculate spearman's correlation\n",
    "corr, _ = spearmanr(val_fascia_stress, qta_indice_stress_comm_ult_30gg)\n",
    "print('Spearmans correlation val_fascia_stress vs qta_indice_stress_comm_ult_30gg: %.3f' % corr)\n",
    "\n",
    "corr, _ = spearmanr(val_fascia_stress, val_churn_2_months)\n",
    "print('Spearmans correlation val_fascia_stress vs val_churn_2_months: %.3f' % corr)\n",
    "\n",
    "corr, _ = spearmanr(qta_indice_stress_comm_ult_30gg, val_churn_2_months)\n",
    "print('Spearmans correlation qta_indice_stress_comm_ult_30gg vs val_churn_2_months: %.3f' % corr)"
   ]
  },
  {
   "cell_type": "markdown",
   "metadata": {
    "collapsed": true
   },
   "source": [
    "Generally speaking, correlation coefficient values below 0.3 are considered to be weak; 0.3-0.7 are moderate; >0.7 are strong. \n",
    "As we can observe above, with Pearson, we obtain a moderate correlation between val_fascia_stress and qta_indice_stress_comm_ult_30gg and a weak correlation of both of them with the target. Whereas with Spearman, we obtain a strong relation betwwen the two features and still a weak relation with the target for both the features.\n",
    "\n",
    "However, it apears that val_fascia_stress if more correlated with the target than qta_indice_stress_comm_ult_30gg. we will then remove this feature."
   ]
  },
  {
   "cell_type": "code",
   "execution_count": 17,
   "metadata": {},
   "outputs": [],
   "source": [
    "input_data_redundancy_test = input_data_redundancy_test.drop('qta_indice_stress_comm_ult_30gg')"
   ]
  },
  {
   "cell_type": "code",
   "execution_count": 18,
   "metadata": {},
   "outputs": [
    {
     "data": {
      "text/plain": [
       "653"
      ]
     },
     "execution_count": 18,
     "metadata": {},
     "output_type": "execute_result"
    }
   ],
   "source": [
    "len(input_data_redundancy_test.columns)"
   ]
  },
  {
   "cell_type": "code",
   "execution_count": 19,
   "metadata": {},
   "outputs": [
    {
     "name": "stdout",
     "output_type": "stream",
     "text": [
      "Write to new_features_tmp: Done\n",
      "New_features deletion code: 0\n",
      "Write to new_features: Done\n",
      "New_features_tmp deletion code: 0\n"
     ]
    }
   ],
   "source": [
    "input_data_redundancy_test.write.parquet(\"/bda/anx_adv_achurn/durand/t_bda_anx_dt_ach_b2b_master_table_train_test_new_features_tmp\")\n",
    "print('Write to new_features_tmp: Done')\n",
    "\n",
    "#delete parquet before rewriting\n",
    "print(\"New_features deletion code:\", subprocess.call([\"hadoop\", \"fs\", \"-rm\", \"-r\", \"-skipTrash\",\\\n",
    "\"/bda/anx_adv_achurn/durand/t_bda_anx_dt_ach_b2b_master_table_train_test_new_features\"]))\n",
    "\n",
    "input_data_redundancy_test = session.read.parquet(\"/bda/anx_adv_achurn/durand/t_bda_anx_dt_ach_b2b_master_table_train_test_new_features_tmp\")\n",
    "input_data_redundancy_test.write.parquet(\"/bda/anx_adv_achurn/durand/t_bda_anx_dt_ach_b2b_master_table_train_test_new_features\")\n",
    "print('Write to new_features: Done')\n",
    "\n",
    "#delete parquet before rewriting\n",
    "print(\"New_features_tmp deletion code:\", subprocess.call([\"hadoop\", \"fs\", \"-rm\", \"-r\", \"-skipTrash\",\\\n",
    "\"/bda/anx_adv_achurn/durand/t_bda_anx_dt_ach_b2b_master_table_train_test_new_features_tmp\"]))"
   ]
  },
  {
   "cell_type": "markdown",
   "metadata": {},
   "source": [
    "## 2.3 Supervised feature selection"
   ]
  },
  {
   "cell_type": "markdown",
   "metadata": {},
   "source": [
    "### 2.3.1 - Categorical features vs Target variable: Chi Squared Test"
   ]
  },
  {
   "cell_type": "code",
   "execution_count": 20,
   "metadata": {},
   "outputs": [],
   "source": [
    "# Let's fetch the output of the unsupervised feature selection as input of the current step\n",
    "input_data_supervised = session.read.parquet(\"/bda/anx_adv_achurn/durand/t_bda_anx_dt_ach_b2b_master_table_train_test_new_features\")"
   ]
  },
  {
   "cell_type": "code",
   "execution_count": 21,
   "metadata": {},
   "outputs": [],
   "source": [
    "# This is the list of the 43 categorical features to be handled\n",
    "categorical_features = ['cdc_stato_servizio_calc', 'lds_prodotto_listino_2', 'cdc_pdr', 'sds_commodity', 'mds_canale_acquisizione', 'cdc_cap_nrm', 'lds_tipo_uso', \n",
    "'cdc_residente', 'mds_tipologia_pagamento', 'cdc_id_mercato', 'sds_provincia_fatturazione', 'sds_provincia_fornitura', \n",
    "'sds_regione_fornitura', 'sds_regione_fatturazione', 'sds_mat_fatturazione', 'sds_mat_fornitura', 'sds_provincia', 'sds_regione', \n",
    "'sds_mat', 'lds_societa_vendita', 'cdc_win_back_m3', 'mds_sottocanale', 'mds_comune', 'cdc_istat', 'cdc_Codice_Regione', \n",
    "'cdc_Zona_altimetrica', 'cdc_Comune_Montano', 'sds_cluster_ele', 'sds_cluster_gas', 'sds_segmento_fasce', 'cdc_causale_attivazione', \n",
    "'lds_comune_fornitura', 'cdc_bolletta_web', 'cdc_cluster_fattura_last', 'mds_nome_campagna_last_response_marketing_cli', \n",
    "'xds_canale_last_response_marketing_cli', 'xds_tipo_azione_campagna_last_response_marketing_cli', \n",
    "'xds_tipologia_azione_last_response_marketing_cli', 'sds_segmento_organizzativo_cliente', 'cdc_power_gas', 'cdc_tenure_bucket', \n",
    "'cdc_cv_fasce_servizio', 'cdc_tenure_bucket_cliente']"
   ]
  },
  {
   "cell_type": "code",
   "execution_count": 45,
   "metadata": {},
   "outputs": [
    {
     "name": "stderr",
     "output_type": "stream",
     "text": [
      "  2%|▏         | 1/43 [00:06<04:45,  6.80s/it]"
     ]
    },
    {
     "name": "stdout",
     "output_type": "stream",
     "text": [
      "cdc_stato_servizio_calc vs val_churn_2_months\n",
      "{'chi_square_value': 4277006.753767134, 'p-value': 0.0, 'degrees_of_freedom': 4}\n"
     ]
    },
    {
     "name": "stderr",
     "output_type": "stream",
     "text": [
      "\r",
      "  5%|▍         | 2/43 [00:13<04:43,  6.90s/it]"
     ]
    },
    {
     "name": "stdout",
     "output_type": "stream",
     "text": [
      "lds_prodotto_listino_2 vs val_churn_2_months\n",
      "{'chi_square_value': 59074.20784380114, 'p-value': 0.0, 'degrees_of_freedom': 218}\n"
     ]
    },
    {
     "name": "stderr",
     "output_type": "stream",
     "text": [
      "\r",
      "  7%|▋         | 3/43 [00:35<07:28, 11.22s/it]"
     ]
    },
    {
     "name": "stdout",
     "output_type": "stream",
     "text": [
      "cdc_pdr vs val_churn_2_months\n",
      "{'chi_square_value': 8275615.102175239, 'p-value': 0.0, 'degrees_of_freedom': 964782}\n"
     ]
    },
    {
     "name": "stderr",
     "output_type": "stream",
     "text": [
      "\r",
      "  9%|▉         | 4/43 [00:38<05:39,  8.70s/it]"
     ]
    },
    {
     "name": "stdout",
     "output_type": "stream",
     "text": [
      "sds_commodity vs val_churn_2_months\n",
      "{'chi_square_value': 0.14272503699624328, 'p-value': 0.7055868459677992, 'degrees_of_freedom': 1}\n"
     ]
    },
    {
     "name": "stderr",
     "output_type": "stream",
     "text": [
      "\r",
      " 12%|█▏        | 5/43 [00:40<04:22,  6.92s/it]"
     ]
    },
    {
     "name": "stdout",
     "output_type": "stream",
     "text": [
      "mds_canale_acquisizione vs val_churn_2_months\n",
      "{'chi_square_value': 40001.161534926716, 'p-value': 0.0, 'degrees_of_freedom': 12}\n"
     ]
    },
    {
     "name": "stderr",
     "output_type": "stream",
     "text": [
      "\r",
      " 14%|█▍        | 6/43 [00:44<03:36,  5.86s/it]"
     ]
    },
    {
     "name": "stdout",
     "output_type": "stream",
     "text": [
      "cdc_cap_nrm vs val_churn_2_months\n",
      "{'chi_square_value': 85635.21409730605, 'p-value': 0.0, 'degrees_of_freedom': 4735}\n"
     ]
    },
    {
     "name": "stderr",
     "output_type": "stream",
     "text": [
      "\r",
      " 16%|█▋        | 7/43 [00:46<02:56,  4.91s/it]"
     ]
    },
    {
     "name": "stdout",
     "output_type": "stream",
     "text": [
      "lds_tipo_uso vs val_churn_2_months\n",
      "{'chi_square_value': 3944.8078531520605, 'p-value': 0.0, 'degrees_of_freedom': 12}\n"
     ]
    },
    {
     "name": "stderr",
     "output_type": "stream",
     "text": [
      "\r",
      " 19%|█▊        | 8/43 [00:49<02:28,  4.23s/it]"
     ]
    },
    {
     "name": "stdout",
     "output_type": "stream",
     "text": [
      "cdc_residente vs val_churn_2_months\n",
      "{'chi_square_value': 1981.5798737527969, 'p-value': 0.0, 'degrees_of_freedom': 1}\n"
     ]
    },
    {
     "name": "stderr",
     "output_type": "stream",
     "text": [
      "\r",
      " 21%|██        | 9/43 [00:52<02:14,  3.95s/it]"
     ]
    },
    {
     "name": "stdout",
     "output_type": "stream",
     "text": [
      "mds_tipologia_pagamento vs val_churn_2_months\n",
      "{'chi_square_value': 3241.5366686878524, 'p-value': 0.0, 'degrees_of_freedom': 5}\n"
     ]
    },
    {
     "name": "stderr",
     "output_type": "stream",
     "text": [
      "\r",
      " 23%|██▎       | 10/43 [00:55<01:57,  3.55s/it]"
     ]
    },
    {
     "name": "stdout",
     "output_type": "stream",
     "text": [
      "cdc_id_mercato vs val_churn_2_months\n",
      "{'chi_square_value': 9184.206973788885, 'p-value': 0.0, 'degrees_of_freedom': 4}\n"
     ]
    },
    {
     "name": "stderr",
     "output_type": "stream",
     "text": [
      "\r",
      " 26%|██▌       | 11/43 [00:58<01:47,  3.35s/it]"
     ]
    },
    {
     "name": "stdout",
     "output_type": "stream",
     "text": [
      "sds_provincia_fatturazione vs val_churn_2_months\n",
      "{'chi_square_value': 16028.55792379342, 'p-value': 0.0, 'degrees_of_freedom': 107}\n"
     ]
    },
    {
     "name": "stderr",
     "output_type": "stream",
     "text": [
      "\r",
      " 28%|██▊       | 12/43 [01:01<01:39,  3.21s/it]"
     ]
    },
    {
     "name": "stdout",
     "output_type": "stream",
     "text": [
      "sds_provincia_fornitura vs val_churn_2_months\n",
      "{'chi_square_value': 16028.55792379342, 'p-value': 0.0, 'degrees_of_freedom': 107}\n"
     ]
    },
    {
     "name": "stderr",
     "output_type": "stream",
     "text": [
      "\r",
      " 30%|███       | 13/43 [01:03<01:31,  3.05s/it]"
     ]
    },
    {
     "name": "stdout",
     "output_type": "stream",
     "text": [
      "sds_regione_fornitura vs val_churn_2_months\n",
      "{'chi_square_value': 7461.931836929929, 'p-value': 0.0, 'degrees_of_freedom': 22}\n"
     ]
    },
    {
     "name": "stderr",
     "output_type": "stream",
     "text": [
      "\r",
      " 33%|███▎      | 14/43 [01:06<01:25,  2.93s/it]"
     ]
    },
    {
     "name": "stdout",
     "output_type": "stream",
     "text": [
      "sds_regione_fatturazione vs val_churn_2_months\n",
      "{'chi_square_value': 7461.931836929929, 'p-value': 0.0, 'degrees_of_freedom': 22}\n"
     ]
    },
    {
     "name": "stderr",
     "output_type": "stream",
     "text": [
      "\r",
      " 35%|███▍      | 15/43 [01:09<01:19,  2.85s/it]"
     ]
    },
    {
     "name": "stdout",
     "output_type": "stream",
     "text": [
      "sds_mat_fatturazione vs val_churn_2_months\n",
      "{'chi_square_value': 3921.430829187869, 'p-value': 0.0, 'degrees_of_freedom': 4}\n"
     ]
    },
    {
     "name": "stderr",
     "output_type": "stream",
     "text": [
      "\r",
      " 37%|███▋      | 16/43 [01:11<01:14,  2.78s/it]"
     ]
    },
    {
     "name": "stdout",
     "output_type": "stream",
     "text": [
      "sds_mat_fornitura vs val_churn_2_months\n",
      "{'chi_square_value': 3921.430829187869, 'p-value': 0.0, 'degrees_of_freedom': 4}\n"
     ]
    },
    {
     "name": "stderr",
     "output_type": "stream",
     "text": [
      "\r",
      " 40%|███▉      | 17/43 [01:14<01:13,  2.83s/it]"
     ]
    },
    {
     "name": "stdout",
     "output_type": "stream",
     "text": [
      "sds_provincia vs val_churn_2_months\n",
      "{'chi_square_value': 17236.560737196658, 'p-value': 0.0, 'degrees_of_freedom': 107}\n"
     ]
    },
    {
     "name": "stderr",
     "output_type": "stream",
     "text": [
      "\r",
      " 42%|████▏     | 18/43 [01:17<01:09,  2.77s/it]"
     ]
    },
    {
     "name": "stdout",
     "output_type": "stream",
     "text": [
      "sds_regione vs val_churn_2_months\n",
      "{'chi_square_value': 8640.018331088453, 'p-value': 0.0, 'degrees_of_freedom': 21}\n"
     ]
    },
    {
     "name": "stderr",
     "output_type": "stream",
     "text": [
      "\r",
      " 44%|████▍     | 19/43 [01:20<01:08,  2.87s/it]"
     ]
    },
    {
     "name": "stdout",
     "output_type": "stream",
     "text": [
      "sds_mat vs val_churn_2_months\n",
      "{'chi_square_value': 4884.364680972055, 'p-value': 0.0, 'degrees_of_freedom': 4}\n"
     ]
    },
    {
     "name": "stderr",
     "output_type": "stream",
     "text": [
      "\r",
      " 47%|████▋     | 20/43 [01:23<01:03,  2.77s/it]"
     ]
    },
    {
     "name": "stdout",
     "output_type": "stream",
     "text": [
      "lds_societa_vendita vs val_churn_2_months\n",
      "{'chi_square_value': 5942.161485576378, 'p-value': 0.0, 'degrees_of_freedom': 3}\n"
     ]
    },
    {
     "name": "stderr",
     "output_type": "stream",
     "text": [
      "\r",
      " 49%|████▉     | 21/43 [01:25<00:59,  2.71s/it]"
     ]
    },
    {
     "name": "stdout",
     "output_type": "stream",
     "text": [
      "cdc_win_back_m3 vs val_churn_2_months\n",
      "{'chi_square_value': 259494.4669467715, 'p-value': 0.0, 'degrees_of_freedom': 1}\n"
     ]
    },
    {
     "name": "stderr",
     "output_type": "stream",
     "text": [
      "\r",
      " 51%|█████     | 22/43 [01:28<00:59,  2.86s/it]"
     ]
    },
    {
     "name": "stdout",
     "output_type": "stream",
     "text": [
      "mds_sottocanale vs val_churn_2_months\n",
      "{'chi_square_value': 239801.5936915959, 'p-value': 0.0, 'degrees_of_freedom': 5370}\n"
     ]
    },
    {
     "name": "stderr",
     "output_type": "stream",
     "text": [
      "\r",
      " 53%|█████▎    | 23/43 [01:32<00:59,  2.97s/it]"
     ]
    },
    {
     "name": "stdout",
     "output_type": "stream",
     "text": [
      "mds_comune vs val_churn_2_months\n",
      "{'chi_square_value': 91466.45797391207, 'p-value': 0.0, 'degrees_of_freedom': 7360}\n"
     ]
    },
    {
     "name": "stderr",
     "output_type": "stream",
     "text": [
      "\r",
      " 56%|█████▌    | 24/43 [01:35<00:58,  3.06s/it]"
     ]
    },
    {
     "name": "stdout",
     "output_type": "stream",
     "text": [
      "cdc_istat vs val_churn_2_months\n",
      "{'chi_square_value': 100276.68958699843, 'p-value': 0.0, 'degrees_of_freedom': 7986}\n"
     ]
    },
    {
     "name": "stderr",
     "output_type": "stream",
     "text": [
      "\r",
      " 58%|█████▊    | 25/43 [01:37<00:52,  2.93s/it]"
     ]
    },
    {
     "name": "stdout",
     "output_type": "stream",
     "text": [
      "cdc_Codice_Regione vs val_churn_2_months\n",
      "{'chi_square_value': 7435.5761248927965, 'p-value': 0.0, 'degrees_of_freedom': 20}\n"
     ]
    },
    {
     "name": "stderr",
     "output_type": "stream",
     "text": [
      "\r",
      " 60%|██████    | 26/43 [01:40<00:48,  2.84s/it]"
     ]
    },
    {
     "name": "stdout",
     "output_type": "stream",
     "text": [
      "cdc_Zona_altimetrica vs val_churn_2_months\n",
      "{'chi_square_value': 1351.617523182901, 'p-value': 4.188390181987765e-290, 'degrees_of_freedom': 5}\n"
     ]
    },
    {
     "name": "stderr",
     "output_type": "stream",
     "text": [
      "\r",
      " 63%|██████▎   | 27/43 [01:43<00:43,  2.74s/it]"
     ]
    },
    {
     "name": "stdout",
     "output_type": "stream",
     "text": [
      "cdc_Comune_Montano vs val_churn_2_months\n",
      "{'chi_square_value': 2380.1275957044018, 'p-value': 0.0, 'degrees_of_freedom': 3}\n"
     ]
    },
    {
     "name": "stderr",
     "output_type": "stream",
     "text": [
      "\r",
      " 65%|██████▌   | 28/43 [01:46<00:43,  2.89s/it]"
     ]
    },
    {
     "name": "stdout",
     "output_type": "stream",
     "text": [
      "sds_cluster_ele vs val_churn_2_months\n",
      "{'chi_square_value': 6077.826575371186, 'p-value': 0.0, 'degrees_of_freedom': 7}\n"
     ]
    },
    {
     "name": "stderr",
     "output_type": "stream",
     "text": [
      "\r",
      " 67%|██████▋   | 29/43 [01:48<00:39,  2.81s/it]"
     ]
    },
    {
     "name": "stdout",
     "output_type": "stream",
     "text": [
      "sds_cluster_gas vs val_churn_2_months\n",
      "{'chi_square_value': 1609.3214829921208, 'p-value': 0.0, 'degrees_of_freedom': 6}\n"
     ]
    },
    {
     "name": "stderr",
     "output_type": "stream",
     "text": [
      "\r",
      " 70%|██████▉   | 30/43 [01:51<00:36,  2.82s/it]"
     ]
    },
    {
     "name": "stdout",
     "output_type": "stream",
     "text": [
      "sds_segmento_fasce vs val_churn_2_months\n",
      "{'chi_square_value': 8272.633574364962, 'p-value': 0.0, 'degrees_of_freedom': 14}\n"
     ]
    },
    {
     "name": "stderr",
     "output_type": "stream",
     "text": [
      "\r",
      " 72%|███████▏  | 31/43 [01:54<00:33,  2.76s/it]"
     ]
    },
    {
     "name": "stdout",
     "output_type": "stream",
     "text": [
      "cdc_causale_attivazione vs val_churn_2_months\n",
      "{'chi_square_value': 14846.77306378378, 'p-value': 0.0, 'degrees_of_freedom': 15}\n"
     ]
    },
    {
     "name": "stderr",
     "output_type": "stream",
     "text": [
      "\r",
      " 74%|███████▍  | 32/43 [01:57<00:32,  2.99s/it]"
     ]
    },
    {
     "name": "stdout",
     "output_type": "stream",
     "text": [
      "lds_comune_fornitura vs val_churn_2_months\n",
      "{'chi_square_value': 100047.26304029391, 'p-value': 0.0, 'degrees_of_freedom': 7971}\n"
     ]
    },
    {
     "name": "stderr",
     "output_type": "stream",
     "text": [
      "\r",
      " 77%|███████▋  | 33/43 [02:00<00:28,  2.84s/it]"
     ]
    },
    {
     "name": "stdout",
     "output_type": "stream",
     "text": [
      "cdc_bolletta_web vs val_churn_2_months\n",
      "{'chi_square_value': 355987.8941278608, 'p-value': 0.0, 'degrees_of_freedom': 1}\n"
     ]
    },
    {
     "name": "stderr",
     "output_type": "stream",
     "text": [
      "\r",
      " 79%|███████▉  | 34/43 [02:02<00:24,  2.71s/it]"
     ]
    },
    {
     "name": "stdout",
     "output_type": "stream",
     "text": [
      "cdc_cluster_fattura_last vs val_churn_2_months\n",
      "{'chi_square_value': 179.3945164375607, 'p-value': 1.1091127906129778e-39, 'degrees_of_freedom': 2}\n"
     ]
    },
    {
     "name": "stderr",
     "output_type": "stream",
     "text": [
      "\r",
      " 81%|████████▏ | 35/43 [02:05<00:22,  2.78s/it]"
     ]
    },
    {
     "name": "stdout",
     "output_type": "stream",
     "text": [
      "mds_nome_campagna_last_response_marketing_cli vs val_churn_2_months\n",
      "{'chi_square_value': 133324.20910589138, 'p-value': 0.0, 'degrees_of_freedom': 854}\n"
     ]
    },
    {
     "name": "stderr",
     "output_type": "stream",
     "text": [
      "\r",
      " 84%|████████▎ | 36/43 [02:08<00:18,  2.71s/it]"
     ]
    },
    {
     "name": "stdout",
     "output_type": "stream",
     "text": [
      "xds_canale_last_response_marketing_cli vs val_churn_2_months\n",
      "{'chi_square_value': 46090.979799608984, 'p-value': 0.0, 'degrees_of_freedom': 15}\n"
     ]
    },
    {
     "name": "stderr",
     "output_type": "stream",
     "text": [
      "\r",
      " 86%|████████▌ | 37/43 [02:10<00:16,  2.68s/it]"
     ]
    },
    {
     "name": "stdout",
     "output_type": "stream",
     "text": [
      "xds_tipo_azione_campagna_last_response_marketing_cli vs val_churn_2_months\n",
      "{'chi_square_value': 18387.145848023007, 'p-value': 0.0, 'degrees_of_freedom': 3}\n"
     ]
    },
    {
     "name": "stderr",
     "output_type": "stream",
     "text": [
      "\r",
      " 88%|████████▊ | 38/43 [02:14<00:14,  2.81s/it]"
     ]
    },
    {
     "name": "stdout",
     "output_type": "stream",
     "text": [
      "xds_tipologia_azione_last_response_marketing_cli vs val_churn_2_months\n",
      "{'chi_square_value': 38130.53067669792, 'p-value': 0.0, 'degrees_of_freedom': 12}\n"
     ]
    },
    {
     "name": "stderr",
     "output_type": "stream",
     "text": [
      " 91%|█████████ | 39/43 [02:16<00:14,  3.50s/it]"
     ]
    },
    {
     "name": "stdout",
     "output_type": "stream",
     "text": [
      "sds_segmento_organizzativo_cliente vs val_churn_2_months\n",
      "{'chi_square_value': 4701.400778840139, 'p-value': 0.0, 'degrees_of_freedom': 2}\n"
     ]
    },
    {
     "name": "stderr",
     "output_type": "stream",
     "text": [
      "\n"
     ]
    },
    {
     "ename": "AnalysisException",
     "evalue": "\"cannot resolve '`cdc_power_gas`' given input columns: [qta_days_since_last_inbound_contact_macrocausale_Reclami_vendita_Privacy, fln_distributore_energia_big, fln_rinnovo_last_1_months_tipologia_ADEGUAMENTO, fln_venditore_mercato_libero_gas_big, val_totale_pagare_x_mean_ciclo_ele_last_3_months, val_consumi_x_max_ciclo_ele_last_6_months, qta_cnt_fln_contatti_inbound_autolet_m12, qta_days_since_last_inbound_contact_microcausale_REPEATED_LIST, val_importo_addebito_x_sum_ciclo_ele_last_6_months, qta_cnt_attivita_pagamenti_metodi_pagamento_last_3_months, val_consumi_x_mean_ciclo_ele_last_1_months, val_importo_addebito_x_min_ciclo_gas_last_1_months, val_importo_addebito_x_max_ciclo_ele_last_3_months, val_pop_res_totale_che_si_sposta_giornalmente_nel_comune_dimora_abituale, qta_days_since_last_inbound_contact_macrocausale_Chiarimenti_su_fatture, val_totale_pagare_x_sum_ciclo_ele_last_3_months, qta_days_since_last_inbound_contact_microcausale_COPIA_DOCUMENTAZIONI, cdc_cap_nrm, qta_cnt_diffide_livello_02_cli, val_mean_fattura_pagata_totalmente_in_ritardo_servizio_last_6_months_canale_ALL, qta_cnt_campagne_mktg_tipo_azione_campagna_PROMOZIONE_last_3_months, val_consumi_x_min_ciclo_gas_last_3_months, val_consumi_x_min_ciclo_gas_last_6_months, qta_numero_fattura_count_ciclo_last_9_months, qta_numero_fattura_count_ciclo_last_3_months, val_pop_res_totale, qta_cnt_microcausale_PIANO_DI_RIENTRO_last_90_days, qta_cnt_mds_tipologia_attivita_gestione_clienti_m3, qta_cnt_mds_specifica_adesione_m6, qta_cnt_fln_contatti_inbound_m9, fln_venditore_mercato_libero_gas_comune_EOn, qta_cnt_attivita_dl_piano_casa_last_3_months, val_totale_pagare_x_mean_ciclo_gas_last_1_months, fln_distributore_gas_comune_Dolomiti_Energia, qta_cnt_fln_contatti_inbound_m6, fln_venditore_mercato_libero_gas_enel, val_totale_pagare_x_max_ciclo_ele_last_6_months, val_consumi_x_max_over_mean_ciclo_ele_last_3_months, qta_cnt_attivita_telefonate_gestione_credito_last_3_months, fln_distributore_gas_comune_EDISON, qta_cnt_fln_contatti_inbound_autolet_m9, fln_venditore_mercato_libero_gas_comune_AIMAG, qta_cnt_fln_chiamate_inbound_m1, val_paga_ritardo_min_ciclo_last_1_months, fln_cliente_response_positiva_last_3_months, val_consumi_x_min_ciclo_ele_last_1_months, qta_cnt_riallaccio_last_2_months, val_perc_Famiglie_4_Componente, val_pop_res_totale_che_si_sposta_giornalmente_fuori_dal_comune_dimora_abituale, val_paga_ritardo_min_ciclo_last_6_months, fln_fattura_pagata_totalmente_in_ritardo_servizio_ultima_bolletta_emessa_canale_ALL, qta_cnt_solleciti_livello_01_cli, qta_cnt_campagne_mktg_orientamento_OUTBOUND_last_3_months, val_totale_pagare_x_last_ciclo, val_Cliente_con_comunicazione_swp_storico_last_3_months, qta_cnt_mds_specifica_disdetta_m12, val_consumi_x_max_over_mean_ciclo_gas_last_1_months, val_totale_pagare_x_max_over_mean_ciclo_ele_last_3_months, fln_distributore_gas_comune_Italgas, val_importo_addebito_x_max_over_mean_ciclo_gas_last_1_months, qta_cnt_sollecito_procedura_M0_cli, fln_venditore_mercato_libero_ele_comune_Gas_Rimini, val_importo_addebito_x_sum_ciclo_ele_last_1_months, qta_cnt_mds_specifica_adesione_m1, val_max_val_fattura_non_pagato_servizio_last_3_months_canale_ALL, qta_cnt_fattura_pagata_non_totalmente_servizio_last_6_months_canale_ALL, qta_cnt_contatti_outbound_all_channel_m1, qta_cnt_fln_contatti_inbound_reclamo_m1, qta_cnt_macrocausale_Reclami_vendita_Privacy_last_90_days, qta_cnt_microcausale_DISDETTE_E_CESSAZIONI_last_90_days, sds_mat_fornitura, fln_distributore_gas_big, qta_cnt_mds_tipologia_attivita_gestione_credito_m6, fln_multi_venditori_mercato_libero_gas_comune, qta_days_since_last_inbound_contact_microcausale_RVC, qta_mesi_bw, qta_eta_nrm, fln_venditore_mercato_libero_ele_comune_ENEL, qta_paga_ritardo_ciclo_last_3_months, qta_cnt_microcausale_VERIFICHE_TECNICHE_last_90_days, fln_fattura_pagata_non_totalmente_servizio_ultima_bolletta_emessa_canale_ALL, val_importo_addebito_x_max_ciclo_ele_last_1_months, val_totale_pagare_x_min_over_mean_ciclo_gas_last_1_months, xds_tipo_azione_campagna_last_response_marketing_cli, val_Superficie_territoriale, val_delta_prezzo_ele_last_1_months, fln_venditore_mercato_libero_ele_only_small, val_totale_pagare_x_min_over_mean_ciclo_ele_last_1_months, val_Cliente_con_servizio_cessato, fln_rinnovo_last_1_months, fln_venditore_mercato_libero_ele_comune_Dolomiti_Energia, qta_cnt_fattura_pagata_totalmente_nei_tempi_servizio_last_6_months_canale_ALL, fln_rischio_Baby_Churn, fln_scarti_sdd_rid_last_1_months, fln_fattura_non_pagata_servizio_ultima_bolletta_emessa_canale_ALL, fln_cliente_con_response_marketing_utile_last_3_months, sds_provincia_fatturazione, qta_cnt_microcausale_COPIA_DOCUMENTAZIONI_last_90_days, qta_days_since_last_inbound_contact_microcausale_GESTIONE_PRIVACY, qta_cnt_sollecito_procedura_M1_cli, val_importo_addebito_x_max_over_mean_ciclo_ele_last_6_months, qta_cnt_canale_WEB_last_90_days, val_delta_prezzo_gas_last_1_months, val_totale_pagare_last_diffida_cli, val_totale_pagare_x_min_over_mean_ciclo_ele_last_6_months, qta_days_since_last_inbound_contact_channel_CHAT, qta_days_since_last_inbound_contact_macrocausale_Causale_non_definita, val_consumi_x_mean_ciclo_gas_last_6_months, val_perc_Famiglie_5_Componente, qta_days_since_last_inbound_contact_macrocausale_Problemi_in_fase_di_attivazione, val_consumi_x_min_over_mean_ciclo_ele_last_3_months, fln_scarti_sempre_sap_last_1_months, qta_cnt_flag_response_competitor_last_3_months, fln_cliente_response_negativa_last_3_months, qta_cnt_canale_FACE_last_90_days, qta_cnt_campagne_mktg_tipologia_azione_LOYALTY_last_3_months, val_consumi_x_min_ciclo_gas_last_1_months, qta_cnt_cliente_response_negativa_last_3_months, val_delta_prezzo_percentuale_ele_last_1_months, qta_Grado_di_urbanizzazione, val_importo_addebito_x_sum_ciclo_gas_last_1_months, cdc_Comune_Montano, val_consumi_x_max_ciclo_ele_last_1_months, fln_distributore_energia_comune_municipalizzata, val_consumi_x_min_over_mean_ciclo_gas_last_3_months, val_importo_addebito_x_mean_ciclo_ele_last_1_months, qta_days_since_last_inbound_contact_macrocausale_Chiarimento_su_offerta, val_importo_addebito_x_max_ciclo_ele_last_6_months, qta_cnt_microcausale_VOLTURA_last_90_days, cdc_cluster_fattura_last, fln_prima_meta, qta_days_scadenza_fattura_pagamento_servizio_ultima_bolletta_emessa_canale_ALL, qta_cnt_fln_chiamate_inbound_m3, lds_comune_fornitura, val_totale_pagare_x_max_ciclo_gas_last_1_months, qta_cnt_attivita_fattura_mancata_ritardata_last_3_months, val_importo_addebito_x_min_ciclo_gas_last_6_months, qta_cnt_fln_contatti_inbound_guasti_m9, val_fattura_servizio_ultima_bolletta_emessa_canale_ALL, qta_days_since_last_inbound_contact_macrocausale_Informativa, val_consumi_x_min_ciclo_ele_last_3_months, qta_cnt_diffida_procedura_M2_cli, qta_cnt_mds_tipologia_attivita_other_m9, qta_cnt_mds_specifica_other_m9, val_consumi_x_max_over_mean_ciclo_ele_last_1_months, val_consumi_x_sum_ciclo_gas_last_3_months, fln_multi_venditori_mercato_libero_ele_comune, val_consumi_x_max_over_mean_ciclo_ele_last_6_months, qta_cnt_macrocausale_Chiarimento_su_offerta_last_90_days, val_paga_ritardo_min_ciclo_last_3_months, fln_cell_m0_mono_flag, qta_days_since_last_inbound_contact, val_totale_pagare_x_max_over_mean_ciclo_gas_last_1_months, qta_cnt_fln_chiamate_inbound_m6, qta_cnt_mds_tipologia_attivita_gestione_comunicazioni_m3, val_Idx_Commercio, fln_rischio_Pre_Rinnovo, qta_cnt_macrocausale_Ritardata_esecuzione_subentri_volture_cessazioni_etc_last_90_days, qta_cnt_mds_tipologia_attivita_gestione_pagamenti_m1, qta_cnt_microcausale_LAVORI_E_MODIFICHE_TECNICHE_POTENZA_TENSIONE_last_90_days, qta_cnt_comuni_serviti_distributore_gas, qta_cnt_attivita_recesso_suggello_voltura_mancata_ritardata_last_3_months, mds_tipologia_pagamento, val_Lavoratori, val_totale_pagare_last_sollecito_cli, val_consumi_x_max_ciclo_ele_last_3_months, fln_rinnovo_last_1_months_tipologia_RVC, fln_venditore_mercato_libero_gas_comune_HERA, fln_venditore_mercato_libero_ele_comune_IREN, qta_cnt_mds_tipologia_attivita_gestione_comunicazioni_m9, fln_distributore_gas_comune_2i_Rete_Gas_SpA, qta_cnt_mds_tipologia_attivita_gestione_credito_m3, qta_cnt_attivita_reclamo_last_3_months, fln_venditore_mercato_libero_ele_comune_Gruppo_Canarbino, qta_cnt_canale_TELEFONICO_last_90_days, val_consumi_x_max_over_mean_ciclo_gas_last_3_months, qta_cnt_canale_APP_last_90_days, qta_cnt_attivita_credito_last_3_months, val_POT_GAS_NETTO, qta_numero_fattura_count_ciclo_last_6_months, fln_venditore_mercato_libero_ele_big, sds_segmento_organizzativo_cliente, qta_cnt_mds_tipologia_attivita_gestione_consumi_m12, qta_numero_fattura_count_ciclo_last_12_months, qta_cnt_mds_tipologia_attivita_other_m12, val_paga_ritardo_sum_ciclo_last_1_months, val_consumi_x_sum_ciclo_gas_last_1_months, qta_cnt_mds_tipologia_attivita_gestione_bolletta_m12, qta_cnt_mds_tipologia_attivita_gestione_consumi_m3, val_paga_ritardo_mean_ciclo_last_1_months, fln_comunicazione_rinnovo_last_1_months_sottocanale_FATTURA, qta_cnt_attivita_blacklist_last_3_months, qta_cnt_fln_contatti_inbound_m3, fln_venditore_mercato_libero_gas_comune_EDISON, cdc_win_back_m3, qta_cnt_mds_tipologia_attivita_gestione_consumi_m1, val_totale_pagare_x_min_over_mean_ciclo_gas_last_3_months, qta_cnt_attivita_dati_catastali_last_3_months, cdc_Codice_Regione, val_consumi_x_sum_ciclo_ele_last_6_months, fln_venditore_mercato_libero_gas_comune_Acea, val_totale_pagare_x_mean_ciclo_gas_last_3_months, fln_fattura_non_pagata_servizio_last_6_months_canale_ALL, val_importo_addebito_x_mean_ciclo_gas_last_3_months, val_perc_Famiglie_Alloggio_Affitto, val_perc_Famiglie_2_Componente, fln_venditore_mercato_libero_gas_comune_ENEGAN, mds_sottocanale, val_importo_addebito_x_max_ciclo_gas_last_6_months, qta_cnt_attivita_invio_WL_pesante_last_3_months, qta_cnt_attivita_lavori_rete_last_3_months, qta_days_since_last_inbound_contact_macrocausale_Ritardata_esecuzione_subentri_volture_cessazioni_etc, fln_venditore_mercato_libero_gas_comune_ENI, val_mean_days_emissione_fattura_pagamento_servizio_last_6_months_canale_ALL, qta_cnt_distributori_energia_comune, qta_cnt_fln_contatti_inbound_reclamo_m6, val_totale_pagare_x_max_over_mean_ciclo_ele_last_1_months, qta_days_since_last_inbound_contact_microcausale_PIANO_DI_RIENTRO, val_totale_pagare_x_min_over_mean_ciclo_gas_last_6_months, qta_cnt_fln_chiamate_inbound_m9, fln_criticita_cross_last_90_days, sds_regione, val_Cliente_con_comunicazione_swp_storico, lds_prodotto_listino_2, fln_venditore_mercato_libero_ele_comune_ENGIE, fln_venditore_mercato_libero_gas_comune_Gas_Rimini, val_importo_addebito_x_last_ciclo, qta_cnt_competitor_forti_enel_venditore_mercato_libero_gas, qta_max_days_scadenza_fattura_pagamento_servizio_last_3_months_canale_ALL, val_importo_addebito_x_max_ciclo_gas_last_3_months, qta_cnt_mds_specifica_disdetta_m3, qta_cnt_fln_contatti_inbound_m1, qta_cnt_microcausale_SUBENTRO_last_90_days, val_consumi_x_mean_ciclo_ele_last_6_months, qta_cnt_attivita_posta_documenti_last_3_months, val_churn_2_months, fln_criticita_infra_last_90_days, fln_venditore_mercato_libero_gas_comune_A2A, fln_sollecito_last_2_months_cli, val_importo_addebito_x_max_over_mean_ciclo_ele_last_1_months, qta_cnt_mds_specifica_other_m1, qta_cnt_microcausale_DISTACCHI_RIALLACCI_last_90_days, val_perc_Abitazioni_Vuote, qta_cnt_fln_contatti_inbound_reclamo_m9, cdc_cv_fasce_servizio, val_Negozi_Compr_Mean, qta_cnt_mds_tipologia_attivita_gestione_pagamenti_m9, qta_cnt_contatti_outbound_all_channel_m12, val_perc_Famiglie_3_Componente, val_totale_pagare_x_max_ciclo_gas_last_3_months, sds_cluster_ele, val_pop_res_totale_15_anni_e_piu_casalinghe, qta_days_since_last_inbound_contact_microcausale_INFORMATIVA, val_Cliente_con_servizio_cessato_last_3_months, qta_cnt_attivita_comunicazione_SWP_last_3_months, qta_days_since_last_inbound_contact_microcausale_INFORMATIVA_CONSUMI_PAGAMENTI, val_consumi_x_min_over_mean_ciclo_ele_last_1_months, fln_venditore_mercato_libero_ele_comune_HERA, qta_cnt_canale_DOCUMENTALE_COMPLESSO_last_90_days, qta_cnt_attivita_autoletture_last_3_months, qta_numero_fattura_count_ciclo_last_1_months, qta_days_since_last_inbound_contact_channel_DOCUMENTALE_COMPLESSO, val_consumi_x_mean_ciclo_gas_last_1_months, qta_days_since_last_inbound_contact_microcausale_RECLAMI_SCRITTI, val_mean_val_fattura_non_pagato_servizio_last_6_months_canale_ALL, cdc_causale_attivazione, qta_cnt_contatti_inbound_all_channel_m3, val_reddito_disponibile, qta_cnt_mds_specifica_other_m3, qta_cnt_microcausale_GESTIONE_VAS_last_90_days, cdc_tenure_bucket, val_totale_pagare_x_last, qta_cnt_microcausale_INFORMATIVA_NON_DI_COMPETENZA_last_90_days, qta_cnt_mail_di_sollecito_cli, qta_cnt_campagne_mktg_canale_GMC_last_3_months, val_mean_days_emissione_fattura_pagamento_servizio_last_3_months_canale_ALL, qta_cnt_mds_tipologia_attivita_gestione_documenti_m1, val_totale_pagare_x_sum_ciclo_gas_last_1_months, qta_cnt_fattura_pagata_totalmente_in_ritardo_servizio_last_6_months_canale_ALL, fln_distributore_gas_comune_A2A, qta_cnt_mds_tipologia_attivita_gestione_bolletta_m1, qta_cnt_mds_specifica_disdetta_m6, fln_multi_distributore_energia_comune, fln_multi_distributore_gas_comune, cdc_id_mercato, qta_cnt_attivita_allaccio_servizi_last_3_months, qta_cnt_comuni_serviti_distributore_energia, fln_fattura_pagata_totalmente_nei_tempi_servizio_ultima_bolletta_emessa_canale_ALL, val_mean_val_fattura_non_pagato_servizio_last_3_months_canale_ALL, val_importo_addebito_x_min_ciclo_ele_last_6_months, val_perc_Abitazioni_Residenti, val_incasso_servizio_ultima_bolletta_emessa_canale_ALL, fln_servizio_attualmente_distaccato, val_importo_addebito_x_min_ciclo_ele_last_1_months, val_consumi_x_mean_ciclo_ele_last_3_months, qta_cnt_mds_specifica_disdetta_m1, qta_cnt_microcausale_RVC_last_90_days, val_studenti, qta_cnt_attivita_richiesta_informazioni_last_3_months, val_QUOTA_LIBERO, qta_cnt_mds_tipologia_attivita_gestione_comunicazioni_m6, qta_cnt_mds_tipologia_attivita_gestione_comunicazioni_m1, qta_anzianita_servizio, mds_nome_campagna_last_response_marketing_cli, qta_cnt_macrocausale_Esecuzione_lavori_last_90_days, qta_cnt_mds_specifica_visualizzazione_area_clienti_m3, val_Turisti_totali, qta_cnt_sms_cli, val_totale_pagare_x_min_ciclo_ele_last_1_months, val_consumi_x_min_over_mean_ciclo_gas_last_6_months, fln_fattura_pagata_totalmente_in_ritardo_servizio_last_6_months_canale_ALL, fln_venditore_mercato_libero_gas_only_small, qta_giorni_ultimo_reclamo, val_paga_ritardo_max_ciclo_last_3_months, val_consumi_x_max_ciclo_gas_last_6_months, fln_fattura_pagata_non_totalmente_servizio_last_6_months_canale_ALL, qta_cnt_microcausale_INFORMATIVA_last_90_days, qta_cnt_mds_tipologia_attivita_gestione_clienti_m1, qta_cnt_cliente_accetta_proposta_last_3_months, qta_cnt_cliente_response_positiva_last_3_months, qta_cnt_microcausale_PRIMA_ATTIVAZIONE_last_90_days, qta_days_since_last_inbound_contact_microcausale_INFORMATIVA_CREDITO, qta_cnt_microcausale_INFORMATIVA_CONSUMI_PAGAMENTI_last_90_days, fln_distributore_energia_comune_HERA, fln_primo_contatto_inbound, qta_cnt_attivita_processi_richieste_suggello_recesso_voltura_last_3_months, qta_cnt_mds_specifica_other_m12, val_importo_addebito_x_max_over_mean_ciclo_gas_last_6_months, qta_cnt_mds_tipologia_attivita_gestione_clienti_m12, val_totale_pagare_x_mean_ciclo_ele_last_6_months, qta_days_since_last_inbound_contact_microcausale_PRIMA_ATTIVAZIONE, val_pop_res_totale_15_anni_e_piu_non_appartenente_alle_forze_di_lavoro_nfl, fln_venditore_mercato_libero_gas_comune_Alperia, qta_cnt_fln_contatti_inbound_m12, qta_cnt_mds_tipologia_attivita_gestione_pagamenti_m12, val_totale_pagare_x_sum_ciclo_ele_last_6_months, qta_days_since_last_inbound_contact_microcausale_GESTIONE_FORNITURA, fln_venditore_mercato_libero_ele_comune_Acea, val_Sh_ENEL_POWER, qta_cnt_mds_specifica_adesione_m9, val_totale_pagare_x_last_over_mean, fln_venditore_mercato_libero_ele_comune_ENEGAN, qta_servizi_gas, qta_cnt_mds_specifica_visualizzazione_area_clienti_m9, lds_tipo_uso, val_consumi_x_min_over_mean_ciclo_gas_last_1_months, qta_days_since_last_inbound_contact_microcausale_GESTIONE_VAS, qta_days_since_last_inbound_contact_microcausale_VOLTURA, cdc_residente, val_consumi_x_max_ciclo_gas_last_3_months, qta_paga_ritardo_ciclo_last_1_months, xds_tipologia_azione_last_response_marketing_cli, val_perc_Abitazioni_Non_Residenti, val_totale_pagare_x_max_ciclo_ele_last_3_months, qta_paga_ritardo_ciclo_last_6_months, fln_distributore_energia_comune_Alperia, val_mean_fattura_pagata_totalmente_nei_tempi_servizio_last_6_months_canale_ALL, fln_distributore_energia_comune_Acea, val_perc_Famiglie_Alloggio_Altro, qta_days_last_response_marketing_cli, fln_venditore_mercato_libero_gas_comune_ENGIE, val_paga_ritardo_mean_ciclo_last_6_months, val_Cliente_con_comunicazione_swp_storico_last_6_months, fln_distributore_gas_comune_IREN, val_importo_addebito_x_min_over_mean_ciclo_gas_last_6_months, val_totale_pagare_x_min_ciclo_gas_last_3_months, qta_cnt_mds_tipologia_attivita_gestione_bolletta_m9, val_Negozi_Loc_Mean, qta_cnt_microcausale_AUTOLETTURA_last_90_days, qta_days_since_last_inbound_contact_channel_WEB, qta_cnt_fln_contatti_inbound_guasti_m1, val_perc_Famiglie_1_Componente, val_consumi_famiglie, qta_days_since_last_inbound_contact_microcausale_SUBENTRO, val_paga_ritardo_max_ciclo_last_1_months, fln_stesso_venditore_distributore_ele_no_enel, val_mean_fattura_non_pagata_servizio_last_6_months_canale_ALL, fln_venditore_mercato_libero_gas_comune_EVOLVE_SRL, qta_cnt_mds_tipologia_attivita_gestione_notifiche_m6, qta_cnt_fln_contatti_inbound_reclamo_m12, qta_cnt_mds_tipologia_attivita_gestione_documenti_m9, qta_cnt_mds_tipologia_attivita_gestione_consumi_m6, qta_cnt_fattura_pagata_totalmente_in_ritardo_servizio_last_3_months_canale_ALL, qta_cnt_fln_contatti_inbound_guasti_m3, qta_days_since_last_inbound_contact_microcausale_SWITCH_ATTIVO, qta_cnt_attivita_contratti_last_3_months, cdn_cv2_cliente, fln_player_forte_win_back, qta_cnt_attivita_ricezione_invio_documentazione_last_3_months, qta_cnt_fattura_pagata_totalmente_nei_tempi_servizio_last_3_months_canale_ALL, val_paga_ritardo_sum_ciclo_last_6_months, qta_cnt_mds_specifica_adesione_m12, val_Sh_ENEL_GAS, val_totale_pagare_x_sum_ciclo_gas_last_3_months, fln_diffida_last_2_months_serv, qta_cnt_mds_tipologia_attivita_other_m1, qta_cnt_mds_tipologia_attivita_gestione_credito_m9, qta_cnt_mds_tipologia_attivita_gestione_comunicazioni_m12, qta_cnt_mds_tipologia_attivita_gestione_bolletta_m3, qta_cnt_macrocausale_Informativa_last_90_days, val_Residenti, qta_cnt_fln_contatti_inbound_autolet_m3, qta_cnt_campagne_mktg_canale_DEM_last_3_months, sds_regione_fornitura, qta_cnt_attivita_secondo_livello_last_3_months, qta_days_since_last_inbound_contact_macrocausale_Credito, sds_provincia_fornitura, qta_cnt_microcausale_INFORMATIVA_CREDITO_last_90_days, val_perc_Famiglie_Alloggio_Proprieta, fln_venditore_mercato_libero_gas_comune_Green_Network, qta_cnt_mds_specifica_disdetta_m9, qta_cnt_mds_tipologia_attivita_gestione_credito_m12, val_perc_Famiglie_6+_Componente, val_fattura_non_pagato_servizio_ultima_bolletta_emessa_canale_ALL, qta_cnt_cliente_con_response_marketing_utile_last_3_months, val_mean_fattura_pagata_totalmente_nei_tempi_servizio_last_3_months_canale_ALL, val_totale_istruzione_pesata, val_importo_addebito_x_max_ciclo_gas_last_1_months, qta_max_days_emissione_fattura_pagamento_servizio_last_6_months_canale_ALL, fln_distributore_gas_comune_Alperia, fln_stesso_distributore_gas_ele, cdc_stato_servizio_calc, qta_cnt_diffida_cartacea_cli, val_importo_addebito_x_last, qta_cnt_attivita_gestione_clienti_last_3_months, qta_cnt_microcausale_GESTIONE_FORNITURA_last_90_days, qta_cnt_diffida_procedura_M4_cli, qta_days_since_last_inbound_contact_microcausale_MODALITA_DI_PAGAMENTO, val_importo_addebito_x_mean_ciclo_gas_last_1_months, val_mean_days_scadenza_fattura_pagamento_servizio_last_3_months_canale_ALL, qta_cnt_mds_specifica_visualizzazione_area_clienti_m6, fln_stesso_venditore_distributore_ele, qta_days_since_last_inbound_contact_channel_FACE, qta_cnt_attivita_sollecito_last_3_months, fln_servizio_distaccato_e_riallacciato, fln_stesso_venditore_distributore_gas, val_potenza_contrattuale, qta_days_since_last_inbound_contact_microcausale_RETTIFICHE_CONSUMI_FATTURAZIONE, sds_segmento_fasce, qta_days_since_last_inbound_contact_microcausale_INFORMATIVA_NON_DI_COMPETENZA, qta_cnt_mds_specifica_visualizzazione_area_clienti_m1, val_POT_TOTALE, qta_servizi_elettrici, qta_cnt_attivita_morosita_last_3_months, val_importo_addebito_x_sum_ciclo_ele_last_3_months, qta_cnt_macrocausale_Chiarimenti_su_fatture_last_90_days, qta_indice_contattosita_ult_30gg, sds_mat_fatturazione, val_POT_TOTALE_NETTO, qta_days_since_last_inbound_contact_microcausale_DISDETTE_E_CESSAZIONI, val_importo_addebito_x_min_ciclo_gas_last_3_months, fln_scarti_trasporto_last_1_months, val_importo_addebito_x_max_over_mean_ciclo_ele_last_3_months, qta_cnt_attivita_vocal_last_3_months, val_importo_addebito_x_mean_ciclo_gas_last_6_months, qta_cnt_microcausale_REPEATED_LIST_last_90_days, val_importo_addebito_x_min_over_mean_ciclo_ele_last_1_months, qta_cnt_venditori_mercato_libero_gas_comune, qta_cnt_attivita_ripensamento_last_3_months, val_importo_addebito_x_mean_ciclo_ele_last_6_months, val_importo_addebito_x_min_over_mean_ciclo_ele_last_3_months, qta_frequenza_contatto, qta_days_since_last_inbound_contact_microcausale_MODIFICA_ANAGRAFICA_O_DATI_FORNITURA_FATTURAZIONE, sds_cluster_gas, cdc_istat, qta_cnt_attivita_modifiche_variazioni_last_3_months, val_totale_pagare_x_mean_ciclo_gas_last_6_months, qta_days_since_last_inbound_contact_microcausale_LAVORI_E_MODIFICHE_TECNICHE_POTENZA_TENSIONE, qta_cnt_fln_contatti_inbound_autolet_m6, val_perc_Altri_Tipi_Alloggio, fln_venditore_mercato_libero_ele_comune_sorgenia, qta_cnt_mds_tipologia_attivita_gestione_bolletta_m6, fln_comunicazione_rinnovo_last_1_months, qta_days_emissione_fattura_pagamento_servizio_ultima_bolletta_emessa_canale_ALL, val_Cliente_con_comunicazione_swp_storico_last_1_months, qta_cnt_fattura_pagata_non_totalmente_servizio_last_3_months_canale_ALL, val_totale_pagare_x_min_over_mean_ciclo_ele_last_3_months, val_mean_days_scadenza_fattura_pagamento_servizio_last_6_months_canale_ALL, fln_distributore_energia_comune_Dolomiti_Energia, fln_venditore_mercato_libero_ele_comune_A2A, qta_cnt_mds_specifica_visualizzazione_area_clienti_m12, val_totale_pagare_x_max_over_mean_ciclo_gas_last_3_months, qta_cnt_attivita_vas_last_3_months, qta_cnt_competitor_forti_enel_venditore_mercato_libero_ele, fln_distributore_gas_comune_HERA, qta_cnt_fln_contatti_inbound_guasti_m12, qta_cnt_fattura_non_pagata_servizio_last_6_months_canale_ALL, fln_player_forte, qta_cnt_attivita_bye_bye_letter_last_3_months, qta_cnt_contatti_outbound_all_channel_m3, qta_cnt_microcausale_MODALITA_DI_PAGAMENTO_last_90_days, fln_venditore_mercato_libero_ele_enel, val_fascia_stress, val_mean_fattura_pagata_totalmente_in_ritardo_servizio_last_3_months_canale_ALL, val_totale_pagare_x_min_ciclo_ele_last_6_months, qta_cnt_mds_tipologia_attivita_gestione_clienti_m6, qta_cnt_microcausale_MODIFICA_ANAGRAFICA_O_DATI_FORNITURA_FATTURAZIONE_last_90_days, val_Altitudine_del_centro, val_importo_addebito_x_max_over_mean_ciclo_gas_last_3_months, val_consumi_x_sum_ciclo_ele_last_3_months, val_importo_addebito_x_min_over_mean_ciclo_gas_last_1_months, qta_cnt_mds_tipologia_attivita_gestione_pagamenti_m6, val_consumi_x_mean_ciclo_gas_last_3_months, qta_cnt_mds_tipologia_attivita_gestione_clienti_m9, xds_canale_last_response_marketing_cli, qta_cnt_contatti_inbound_all_channel_m6, val_rimborsi_mean_ciclo_last_3_months, lds_societa_vendita, qta_cnt_microcausale_ALLACCIO_E_ATTIVAZIONE_last_90_days, cdc_pdr, val_paga_ritardo_mean_ciclo_last_3_months, fln_comunicazione_rinnovo_last_1_months_sottocanale_CARTACEO, qta_cnt_attivita_sito_web_chat_last_3_months, val_Cliente_con_servizio_cessato_last_6_months, qta_cnt_canale_CHAT_last_90_days, fln_venditore_mercato_libero_ele_comune_EOn, fln_venditore_mercato_libero_ele_comune_Alperia, val_t0_month, qta_cnt_mds_tipologia_attivita_gestione_notifiche_m12, val_totale_pagare_x_max_ciclo_gas_last_6_months, qta_cnt_diffida_procedura_M3_cli, fln_comunicazione_rinnovo_last_1_months_sottocanale_PEC, qta_cnt_macrocausale_Problemi_in_fase_di_attivazione_last_90_days, qta_cnt_contatti_outbound_all_channel_m9, fln_distributore_energia_enel, val_importo_addebito_x_sum_ciclo_gas_last_6_months, fln_riallaccio_last_2_months, fln_bolletta_web_attiva, qta_cnt_fattura_non_pagata_servizio_last_3_months_canale_ALL, val_t0_year, qta_days_since_last_inbound_contact_macrocausale_Esecuzione_lavori, fln_sollecito_last_2_months_serv, qta_max_days_scadenza_fattura_pagamento_servizio_last_6_months_canale_ALL, fln_distributore_energia_comune_ASTEA_SPA, qta_cnt_mds_tipologia_attivita_gestione_documenti_m6, fln_venditore_mercato_libero_ele_comune_EDISON, qta_cnt_fln_contatti_inbound_reclamo_m3, val_POT_POWER_NETTO, qta_max_days_emissione_fattura_pagamento_servizio_last_3_months_canale_ALL, fln_distributore_energia_comune_A2A, qta_days_since_last_inbound_contact_channel_DOCUMENTALE, qta_cnt_contatti_inbound_totali_last_90_days, qta_cnt_mds_tipologia_attivita_gestione_notifiche_m9, val_QUOTA_TUTELATO, qta_giorni_ultimo_contatto_outbound, val_mean_fattura_pagata_non_totalmente_servizio_last_3_months_canale_ALL, qta_cnt_mds_tipologia_attivita_gestione_credito_m1, val_importo_addebito_x_mean_ciclo_ele_last_3_months, qta_cnt_mds_tipologia_attivita_gestione_pagamenti_m3, qta_days_since_last_inbound_contact_microcausale_RIMBORSO_COMPENSAZIONE, qta_cnt_contatti_inbound_all_channel_m12, qta_cnt_attivita_delibera_147_last_3_months, val_mean_fattura_non_pagata_servizio_last_3_months_canale_ALL, val_consumi_x_min_over_mean_ciclo_ele_last_6_months, qta_days_since_last_inbound_contact_channel_TELEFONICO, qta_cnt_microcausale_RECLAMI_SCRITTI_last_90_days, fln_cliente_response_competitor_last_3_months, qta_cnt_reclami_last_month, qta_days_since_last_inbound_contact_channel_APP, qta_cnt_diffida_cartacea_serv, fln_venditore_mercato_libero_ele_comune_ENI, qta_cnt_fln_contatti_inbound_guasti_m6, qta_cnt_mds_tipologia_attivita_other_m6, mds_canale_acquisizione, qta_cnt_sollecito_procedura_M2_cli, sds_provincia, qta_giorni_ultimo_contatto_inbound, qta_cnt_microcausale_RIPENSAMENTO_O_DISCONOSCIMENTO_last_90_days, qta_cnt_venditori_mercato_libero_ele_comune, val_totale_pagare_x_max_ciclo_ele_last_1_months, sds_regione_fatturazione, qta_days_since_last_inbound_contact_microcausale_VERIFICHE_TECNICHE, fln_scarti_sap_sd_last_1_months, qta_days_since_last_inbound_contact_microcausale_RIPENSAMENTO_O_DISCONOSCIMENTO, qta_cnt_mds_specifica_other_m6, fln_cliente_accetta_proposta_last_3_months, qta_cnt_distacchi_last_2_months, val_importo_addebito_x_sum_ciclo_gas_last_3_months, val_importo_addebito_x_min_over_mean_ciclo_ele_last_6_months, qta_cnt_attivita_analisi_fatturato_situazione_contabile_last_3_months, cdc_Zona_altimetrica, val_consumi_x_min_ciclo_ele_last_6_months, val_consumi_x_max_ciclo_gas_last_1_months, idn_sito_sk, cdn_cv2_servizio, fln_venditore_mercato_libero_gas_comune_IREN, qta_cnt_microcausale_GESTIONE_PRIVACY_last_90_days, qta_days_since_last_inbound_contact_microcausale_AUTOLETTURA, qta_cnt_mds_tipologia_attivita_gestione_documenti_m3, qta_days_since_last_inbound_contact_microcausale_ALLACCIO_E_ATTIVAZIONE, val_totale_pagare_x_sum_ciclo_gas_last_6_months, val_paga_ritardo_sum_ciclo_last_3_months, qta_cnt_sollecito_cartaceo_cli, cdc_bolletta_web, val_consumi_x_max_over_mean_ciclo_gas_last_6_months, qta_cnt_macrocausale_Credito_last_90_days, fln_dual, val_totale_pagare_x_mean_ciclo_ele_last_1_months, qta_cnt_mds_specifica_adesione_m3, qta_days_since_last_inbound_contact_microcausale_DISTACCHI_RIALLACCI, qta_cnt_distributori_gas_comune, fln_venditore_mercato_libero_gas_comune_ENEL, qta_cnt_attivita_indennizzo_last_3_months, fln_venditore_mercato_libero_ele_comune_Axpo_Group, val_paga_ritardo_max_ciclo_last_6_months, fln_venditore_mercato_libero_gas_comune_Axpo_Group, val_totale_pagare_x_min_ciclo_gas_last_1_months, val_totale_pagare_x_max_over_mean_ciclo_ele_last_6_months, fln_venditore_mercato_libero_gas_comune_METANO_NORD_SPA, val_totale_pagare_x_min_ciclo_ele_last_3_months, qta_cnt_attivita_bolletta_fatturazione_last_3_months, val_max_val_fattura_non_pagato_servizio_last_6_months_canale_ALL, fln_distributore_energia_comune_IREN, val_delta_prezzo_percentuale_gas_last_1_months, fln_distributore_gas_comune_municipalizzata, val_totale_pagare_x_min_ciclo_gas_last_6_months, val_importo_addebito_x_min_over_mean_ciclo_gas_last_3_months, val_consumi_x_sum_ciclo_gas_last_6_months, qta_cnt_contatti_outbound_all_channel_m6, fln_venditore_mercato_libero_gas_comune_Dolomiti_Energia, qta_days_incasso_fattura_today_servizio_ultima_bolletta_emessa_canale_ALL, qta_cnt_contatti_inbound_all_channel_m1, qta_cnt_mds_tipologia_attivita_other_m3, idn_cliente_sk, val_mean_fattura_pagata_non_totalmente_servizio_last_6_months_canale_ALL, fln_distributore_energia_comune_ENEL, qta_cnt_mds_tipologia_attivita_gestione_documenti_m12, val_totale_pagare_x_max_over_mean_ciclo_gas_last_6_months, qta_cnt_mds_tipologia_attivita_gestione_consumi_m9, val_totale_pagare_x_sum_ciclo_ele_last_1_months, cdc_tenure_bucket_cliente, qta_cnt_microcausale_RIMBORSO_COMPENSAZIONE_last_90_days, val_importo_addebito_x_min_ciclo_ele_last_3_months, fln_Comune_litoraneo, fln_fattura_pagata_totalmente_nei_tempi_servizio_last_6_months_canale_ALL, qta_cnt_microcausale_RETTIFICHE_CONSUMI_FATTURAZIONE_last_90_days, mds_comune, qta_cnt_contatti_inbound_all_channel_m9, fln_venditore_mercato_libero_gas_comune_BURGO_GROUP, fln_distacco_last_2_months, qta_cnt_canale_DOCUMENTALE_last_90_days, qta_cnt_fln_chiamate_inbound_m12, qta_cnt_diffida_procedura_M1_cli, sds_mat, val_consumi_x_sum_ciclo_ele_last_1_months, qta_cnt_microcausale_SWITCH_ATTIVO_last_90_days, qta_cnt_fln_contatti_inbound_autolet_m1, fln_diffida_last_2_months_cli, sds_commodity];;\\n'Project ['cdc_power_gas, val_churn_2_months#23457]\\n+- Relation[idn_cliente_sk#23311L,cdc_stato_servizio_calc#23312,idn_sito_sk#23313L,lds_prodotto_listino_2#23314,cdc_pdr#23315,sds_commodity#23316,mds_canale_acquisizione#23317,cdc_cap_nrm#23318,lds_tipo_uso#23319,qta_eta_nrm#23320,cdc_residente#23321,qta_indice_contattosita_ult_30gg#23322,val_fascia_stress#23323,mds_tipologia_pagamento#23324,cdc_id_mercato#23325,sds_provincia_fatturazione#23326,sds_provincia_fornitura#23327,sds_regione_fornitura#23328,sds_regione_fatturazione#23329,sds_mat_fatturazione#23330,sds_mat_fornitura#23331,sds_provincia#23332,sds_regione#23333,sds_mat#23334,... 625 more fields] parquet\\n\"",
     "output_type": "error",
     "traceback": [
      "\u001b[0;31m---------------------------------------------------------------------------\u001b[0m",
      "\u001b[0;31mPy4JJavaError\u001b[0m                             Traceback (most recent call last)",
      "\u001b[0;32m/data/cloudera/parcels/CDH-6.2.1-1.cdh6.2.1.p0.1425774/lib/spark/python/lib/pyspark.zip/pyspark/sql/utils.py\u001b[0m in \u001b[0;36mdeco\u001b[0;34m(*a, **kw)\u001b[0m\n\u001b[1;32m     62\u001b[0m         \u001b[0;32mtry\u001b[0m\u001b[0;34m:\u001b[0m\u001b[0;34m\u001b[0m\u001b[0;34m\u001b[0m\u001b[0m\n\u001b[0;32m---> 63\u001b[0;31m             \u001b[0;32mreturn\u001b[0m \u001b[0mf\u001b[0m\u001b[0;34m(\u001b[0m\u001b[0;34m*\u001b[0m\u001b[0ma\u001b[0m\u001b[0;34m,\u001b[0m \u001b[0;34m**\u001b[0m\u001b[0mkw\u001b[0m\u001b[0;34m)\u001b[0m\u001b[0;34m\u001b[0m\u001b[0;34m\u001b[0m\u001b[0m\n\u001b[0m\u001b[1;32m     64\u001b[0m         \u001b[0;32mexcept\u001b[0m \u001b[0mpy4j\u001b[0m\u001b[0;34m.\u001b[0m\u001b[0mprotocol\u001b[0m\u001b[0;34m.\u001b[0m\u001b[0mPy4JJavaError\u001b[0m \u001b[0;32mas\u001b[0m \u001b[0me\u001b[0m\u001b[0;34m:\u001b[0m\u001b[0;34m\u001b[0m\u001b[0;34m\u001b[0m\u001b[0m\n",
      "\u001b[0;32m/data/cloudera/parcels/CDH-6.2.1-1.cdh6.2.1.p0.1425774/lib/spark/python/lib/py4j-0.10.7-src.zip/py4j/protocol.py\u001b[0m in \u001b[0;36mget_return_value\u001b[0;34m(answer, gateway_client, target_id, name)\u001b[0m\n\u001b[1;32m    327\u001b[0m                     \u001b[0;34m\"An error occurred while calling {0}{1}{2}.\\n\"\u001b[0m\u001b[0;34m.\u001b[0m\u001b[0;34m\u001b[0m\u001b[0;34m\u001b[0m\u001b[0m\n\u001b[0;32m--> 328\u001b[0;31m                     format(target_id, \".\", name), value)\n\u001b[0m\u001b[1;32m    329\u001b[0m             \u001b[0;32melse\u001b[0m\u001b[0;34m:\u001b[0m\u001b[0;34m\u001b[0m\u001b[0;34m\u001b[0m\u001b[0m\n",
      "\u001b[0;31mPy4JJavaError\u001b[0m: An error occurred while calling o388.select.\n: org.apache.spark.sql.AnalysisException: cannot resolve '`cdc_power_gas`' given input columns: [qta_days_since_last_inbound_contact_macrocausale_Reclami_vendita_Privacy, fln_distributore_energia_big, fln_rinnovo_last_1_months_tipologia_ADEGUAMENTO, fln_venditore_mercato_libero_gas_big, val_totale_pagare_x_mean_ciclo_ele_last_3_months, val_consumi_x_max_ciclo_ele_last_6_months, qta_cnt_fln_contatti_inbound_autolet_m12, qta_days_since_last_inbound_contact_microcausale_REPEATED_LIST, val_importo_addebito_x_sum_ciclo_ele_last_6_months, qta_cnt_attivita_pagamenti_metodi_pagamento_last_3_months, val_consumi_x_mean_ciclo_ele_last_1_months, val_importo_addebito_x_min_ciclo_gas_last_1_months, val_importo_addebito_x_max_ciclo_ele_last_3_months, val_pop_res_totale_che_si_sposta_giornalmente_nel_comune_dimora_abituale, qta_days_since_last_inbound_contact_macrocausale_Chiarimenti_su_fatture, val_totale_pagare_x_sum_ciclo_ele_last_3_months, qta_days_since_last_inbound_contact_microcausale_COPIA_DOCUMENTAZIONI, cdc_cap_nrm, qta_cnt_diffide_livello_02_cli, val_mean_fattura_pagata_totalmente_in_ritardo_servizio_last_6_months_canale_ALL, qta_cnt_campagne_mktg_tipo_azione_campagna_PROMOZIONE_last_3_months, val_consumi_x_min_ciclo_gas_last_3_months, val_consumi_x_min_ciclo_gas_last_6_months, qta_numero_fattura_count_ciclo_last_9_months, qta_numero_fattura_count_ciclo_last_3_months, val_pop_res_totale, qta_cnt_microcausale_PIANO_DI_RIENTRO_last_90_days, qta_cnt_mds_tipologia_attivita_gestione_clienti_m3, qta_cnt_mds_specifica_adesione_m6, qta_cnt_fln_contatti_inbound_m9, fln_venditore_mercato_libero_gas_comune_EOn, qta_cnt_attivita_dl_piano_casa_last_3_months, val_totale_pagare_x_mean_ciclo_gas_last_1_months, fln_distributore_gas_comune_Dolomiti_Energia, qta_cnt_fln_contatti_inbound_m6, fln_venditore_mercato_libero_gas_enel, val_totale_pagare_x_max_ciclo_ele_last_6_months, val_consumi_x_max_over_mean_ciclo_ele_last_3_months, qta_cnt_attivita_telefonate_gestione_credito_last_3_months, fln_distributore_gas_comune_EDISON, qta_cnt_fln_contatti_inbound_autolet_m9, fln_venditore_mercato_libero_gas_comune_AIMAG, qta_cnt_fln_chiamate_inbound_m1, val_paga_ritardo_min_ciclo_last_1_months, fln_cliente_response_positiva_last_3_months, val_consumi_x_min_ciclo_ele_last_1_months, qta_cnt_riallaccio_last_2_months, val_perc_Famiglie_4_Componente, val_pop_res_totale_che_si_sposta_giornalmente_fuori_dal_comune_dimora_abituale, val_paga_ritardo_min_ciclo_last_6_months, fln_fattura_pagata_totalmente_in_ritardo_servizio_ultima_bolletta_emessa_canale_ALL, qta_cnt_solleciti_livello_01_cli, qta_cnt_campagne_mktg_orientamento_OUTBOUND_last_3_months, val_totale_pagare_x_last_ciclo, val_Cliente_con_comunicazione_swp_storico_last_3_months, qta_cnt_mds_specifica_disdetta_m12, val_consumi_x_max_over_mean_ciclo_gas_last_1_months, val_totale_pagare_x_max_over_mean_ciclo_ele_last_3_months, fln_distributore_gas_comune_Italgas, val_importo_addebito_x_max_over_mean_ciclo_gas_last_1_months, qta_cnt_sollecito_procedura_M0_cli, fln_venditore_mercato_libero_ele_comune_Gas_Rimini, val_importo_addebito_x_sum_ciclo_ele_last_1_months, qta_cnt_mds_specifica_adesione_m1, val_max_val_fattura_non_pagato_servizio_last_3_months_canale_ALL, qta_cnt_fattura_pagata_non_totalmente_servizio_last_6_months_canale_ALL, qta_cnt_contatti_outbound_all_channel_m1, qta_cnt_fln_contatti_inbound_reclamo_m1, qta_cnt_macrocausale_Reclami_vendita_Privacy_last_90_days, qta_cnt_microcausale_DISDETTE_E_CESSAZIONI_last_90_days, sds_mat_fornitura, fln_distributore_gas_big, qta_cnt_mds_tipologia_attivita_gestione_credito_m6, fln_multi_venditori_mercato_libero_gas_comune, qta_days_since_last_inbound_contact_microcausale_RVC, qta_mesi_bw, qta_eta_nrm, fln_venditore_mercato_libero_ele_comune_ENEL, qta_paga_ritardo_ciclo_last_3_months, qta_cnt_microcausale_VERIFICHE_TECNICHE_last_90_days, fln_fattura_pagata_non_totalmente_servizio_ultima_bolletta_emessa_canale_ALL, val_importo_addebito_x_max_ciclo_ele_last_1_months, val_totale_pagare_x_min_over_mean_ciclo_gas_last_1_months, xds_tipo_azione_campagna_last_response_marketing_cli, val_Superficie_territoriale, val_delta_prezzo_ele_last_1_months, fln_venditore_mercato_libero_ele_only_small, val_totale_pagare_x_min_over_mean_ciclo_ele_last_1_months, val_Cliente_con_servizio_cessato, fln_rinnovo_last_1_months, fln_venditore_mercato_libero_ele_comune_Dolomiti_Energia, qta_cnt_fattura_pagata_totalmente_nei_tempi_servizio_last_6_months_canale_ALL, fln_rischio_Baby_Churn, fln_scarti_sdd_rid_last_1_months, fln_fattura_non_pagata_servizio_ultima_bolletta_emessa_canale_ALL, fln_cliente_con_response_marketing_utile_last_3_months, sds_provincia_fatturazione, qta_cnt_microcausale_COPIA_DOCUMENTAZIONI_last_90_days, qta_days_since_last_inbound_contact_microcausale_GESTIONE_PRIVACY, qta_cnt_sollecito_procedura_M1_cli, val_importo_addebito_x_max_over_mean_ciclo_ele_last_6_months, qta_cnt_canale_WEB_last_90_days, val_delta_prezzo_gas_last_1_months, val_totale_pagare_last_diffida_cli, val_totale_pagare_x_min_over_mean_ciclo_ele_last_6_months, qta_days_since_last_inbound_contact_channel_CHAT, qta_days_since_last_inbound_contact_macrocausale_Causale_non_definita, val_consumi_x_mean_ciclo_gas_last_6_months, val_perc_Famiglie_5_Componente, qta_days_since_last_inbound_contact_macrocausale_Problemi_in_fase_di_attivazione, val_consumi_x_min_over_mean_ciclo_ele_last_3_months, fln_scarti_sempre_sap_last_1_months, qta_cnt_flag_response_competitor_last_3_months, fln_cliente_response_negativa_last_3_months, qta_cnt_canale_FACE_last_90_days, qta_cnt_campagne_mktg_tipologia_azione_LOYALTY_last_3_months, val_consumi_x_min_ciclo_gas_last_1_months, qta_cnt_cliente_response_negativa_last_3_months, val_delta_prezzo_percentuale_ele_last_1_months, qta_Grado_di_urbanizzazione, val_importo_addebito_x_sum_ciclo_gas_last_1_months, cdc_Comune_Montano, val_consumi_x_max_ciclo_ele_last_1_months, fln_distributore_energia_comune_municipalizzata, val_consumi_x_min_over_mean_ciclo_gas_last_3_months, val_importo_addebito_x_mean_ciclo_ele_last_1_months, qta_days_since_last_inbound_contact_macrocausale_Chiarimento_su_offerta, val_importo_addebito_x_max_ciclo_ele_last_6_months, qta_cnt_microcausale_VOLTURA_last_90_days, cdc_cluster_fattura_last, fln_prima_meta, qta_days_scadenza_fattura_pagamento_servizio_ultima_bolletta_emessa_canale_ALL, qta_cnt_fln_chiamate_inbound_m3, lds_comune_fornitura, val_totale_pagare_x_max_ciclo_gas_last_1_months, qta_cnt_attivita_fattura_mancata_ritardata_last_3_months, val_importo_addebito_x_min_ciclo_gas_last_6_months, qta_cnt_fln_contatti_inbound_guasti_m9, val_fattura_servizio_ultima_bolletta_emessa_canale_ALL, qta_days_since_last_inbound_contact_macrocausale_Informativa, val_consumi_x_min_ciclo_ele_last_3_months, qta_cnt_diffida_procedura_M2_cli, qta_cnt_mds_tipologia_attivita_other_m9, qta_cnt_mds_specifica_other_m9, val_consumi_x_max_over_mean_ciclo_ele_last_1_months, val_consumi_x_sum_ciclo_gas_last_3_months, fln_multi_venditori_mercato_libero_ele_comune, val_consumi_x_max_over_mean_ciclo_ele_last_6_months, qta_cnt_macrocausale_Chiarimento_su_offerta_last_90_days, val_paga_ritardo_min_ciclo_last_3_months, fln_cell_m0_mono_flag, qta_days_since_last_inbound_contact, val_totale_pagare_x_max_over_mean_ciclo_gas_last_1_months, qta_cnt_fln_chiamate_inbound_m6, qta_cnt_mds_tipologia_attivita_gestione_comunicazioni_m3, val_Idx_Commercio, fln_rischio_Pre_Rinnovo, qta_cnt_macrocausale_Ritardata_esecuzione_subentri_volture_cessazioni_etc_last_90_days, qta_cnt_mds_tipologia_attivita_gestione_pagamenti_m1, qta_cnt_microcausale_LAVORI_E_MODIFICHE_TECNICHE_POTENZA_TENSIONE_last_90_days, qta_cnt_comuni_serviti_distributore_gas, qta_cnt_attivita_recesso_suggello_voltura_mancata_ritardata_last_3_months, mds_tipologia_pagamento, val_Lavoratori, val_totale_pagare_last_sollecito_cli, val_consumi_x_max_ciclo_ele_last_3_months, fln_rinnovo_last_1_months_tipologia_RVC, fln_venditore_mercato_libero_gas_comune_HERA, fln_venditore_mercato_libero_ele_comune_IREN, qta_cnt_mds_tipologia_attivita_gestione_comunicazioni_m9, fln_distributore_gas_comune_2i_Rete_Gas_SpA, qta_cnt_mds_tipologia_attivita_gestione_credito_m3, qta_cnt_attivita_reclamo_last_3_months, fln_venditore_mercato_libero_ele_comune_Gruppo_Canarbino, qta_cnt_canale_TELEFONICO_last_90_days, val_consumi_x_max_over_mean_ciclo_gas_last_3_months, qta_cnt_canale_APP_last_90_days, qta_cnt_attivita_credito_last_3_months, val_POT_GAS_NETTO, qta_numero_fattura_count_ciclo_last_6_months, fln_venditore_mercato_libero_ele_big, sds_segmento_organizzativo_cliente, qta_cnt_mds_tipologia_attivita_gestione_consumi_m12, qta_numero_fattura_count_ciclo_last_12_months, qta_cnt_mds_tipologia_attivita_other_m12, val_paga_ritardo_sum_ciclo_last_1_months, val_consumi_x_sum_ciclo_gas_last_1_months, qta_cnt_mds_tipologia_attivita_gestione_bolletta_m12, qta_cnt_mds_tipologia_attivita_gestione_consumi_m3, val_paga_ritardo_mean_ciclo_last_1_months, fln_comunicazione_rinnovo_last_1_months_sottocanale_FATTURA, qta_cnt_attivita_blacklist_last_3_months, qta_cnt_fln_contatti_inbound_m3, fln_venditore_mercato_libero_gas_comune_EDISON, cdc_win_back_m3, qta_cnt_mds_tipologia_attivita_gestione_consumi_m1, val_totale_pagare_x_min_over_mean_ciclo_gas_last_3_months, qta_cnt_attivita_dati_catastali_last_3_months, cdc_Codice_Regione, val_consumi_x_sum_ciclo_ele_last_6_months, fln_venditore_mercato_libero_gas_comune_Acea, val_totale_pagare_x_mean_ciclo_gas_last_3_months, fln_fattura_non_pagata_servizio_last_6_months_canale_ALL, val_importo_addebito_x_mean_ciclo_gas_last_3_months, val_perc_Famiglie_Alloggio_Affitto, val_perc_Famiglie_2_Componente, fln_venditore_mercato_libero_gas_comune_ENEGAN, mds_sottocanale, val_importo_addebito_x_max_ciclo_gas_last_6_months, qta_cnt_attivita_invio_WL_pesante_last_3_months, qta_cnt_attivita_lavori_rete_last_3_months, qta_days_since_last_inbound_contact_macrocausale_Ritardata_esecuzione_subentri_volture_cessazioni_etc, fln_venditore_mercato_libero_gas_comune_ENI, val_mean_days_emissione_fattura_pagamento_servizio_last_6_months_canale_ALL, qta_cnt_distributori_energia_comune, qta_cnt_fln_contatti_inbound_reclamo_m6, val_totale_pagare_x_max_over_mean_ciclo_ele_last_1_months, qta_days_since_last_inbound_contact_microcausale_PIANO_DI_RIENTRO, val_totale_pagare_x_min_over_mean_ciclo_gas_last_6_months, qta_cnt_fln_chiamate_inbound_m9, fln_criticita_cross_last_90_days, sds_regione, val_Cliente_con_comunicazione_swp_storico, lds_prodotto_listino_2, fln_venditore_mercato_libero_ele_comune_ENGIE, fln_venditore_mercato_libero_gas_comune_Gas_Rimini, val_importo_addebito_x_last_ciclo, qta_cnt_competitor_forti_enel_venditore_mercato_libero_gas, qta_max_days_scadenza_fattura_pagamento_servizio_last_3_months_canale_ALL, val_importo_addebito_x_max_ciclo_gas_last_3_months, qta_cnt_mds_specifica_disdetta_m3, qta_cnt_fln_contatti_inbound_m1, qta_cnt_microcausale_SUBENTRO_last_90_days, val_consumi_x_mean_ciclo_ele_last_6_months, qta_cnt_attivita_posta_documenti_last_3_months, val_churn_2_months, fln_criticita_infra_last_90_days, fln_venditore_mercato_libero_gas_comune_A2A, fln_sollecito_last_2_months_cli, val_importo_addebito_x_max_over_mean_ciclo_ele_last_1_months, qta_cnt_mds_specifica_other_m1, qta_cnt_microcausale_DISTACCHI_RIALLACCI_last_90_days, val_perc_Abitazioni_Vuote, qta_cnt_fln_contatti_inbound_reclamo_m9, cdc_cv_fasce_servizio, val_Negozi_Compr_Mean, qta_cnt_mds_tipologia_attivita_gestione_pagamenti_m9, qta_cnt_contatti_outbound_all_channel_m12, val_perc_Famiglie_3_Componente, val_totale_pagare_x_max_ciclo_gas_last_3_months, sds_cluster_ele, val_pop_res_totale_15_anni_e_piu_casalinghe, qta_days_since_last_inbound_contact_microcausale_INFORMATIVA, val_Cliente_con_servizio_cessato_last_3_months, qta_cnt_attivita_comunicazione_SWP_last_3_months, qta_days_since_last_inbound_contact_microcausale_INFORMATIVA_CONSUMI_PAGAMENTI, val_consumi_x_min_over_mean_ciclo_ele_last_1_months, fln_venditore_mercato_libero_ele_comune_HERA, qta_cnt_canale_DOCUMENTALE_COMPLESSO_last_90_days, qta_cnt_attivita_autoletture_last_3_months, qta_numero_fattura_count_ciclo_last_1_months, qta_days_since_last_inbound_contact_channel_DOCUMENTALE_COMPLESSO, val_consumi_x_mean_ciclo_gas_last_1_months, qta_days_since_last_inbound_contact_microcausale_RECLAMI_SCRITTI, val_mean_val_fattura_non_pagato_servizio_last_6_months_canale_ALL, cdc_causale_attivazione, qta_cnt_contatti_inbound_all_channel_m3, val_reddito_disponibile, qta_cnt_mds_specifica_other_m3, qta_cnt_microcausale_GESTIONE_VAS_last_90_days, cdc_tenure_bucket, val_totale_pagare_x_last, qta_cnt_microcausale_INFORMATIVA_NON_DI_COMPETENZA_last_90_days, qta_cnt_mail_di_sollecito_cli, qta_cnt_campagne_mktg_canale_GMC_last_3_months, val_mean_days_emissione_fattura_pagamento_servizio_last_3_months_canale_ALL, qta_cnt_mds_tipologia_attivita_gestione_documenti_m1, val_totale_pagare_x_sum_ciclo_gas_last_1_months, qta_cnt_fattura_pagata_totalmente_in_ritardo_servizio_last_6_months_canale_ALL, fln_distributore_gas_comune_A2A, qta_cnt_mds_tipologia_attivita_gestione_bolletta_m1, qta_cnt_mds_specifica_disdetta_m6, fln_multi_distributore_energia_comune, fln_multi_distributore_gas_comune, cdc_id_mercato, qta_cnt_attivita_allaccio_servizi_last_3_months, qta_cnt_comuni_serviti_distributore_energia, fln_fattura_pagata_totalmente_nei_tempi_servizio_ultima_bolletta_emessa_canale_ALL, val_mean_val_fattura_non_pagato_servizio_last_3_months_canale_ALL, val_importo_addebito_x_min_ciclo_ele_last_6_months, val_perc_Abitazioni_Residenti, val_incasso_servizio_ultima_bolletta_emessa_canale_ALL, fln_servizio_attualmente_distaccato, val_importo_addebito_x_min_ciclo_ele_last_1_months, val_consumi_x_mean_ciclo_ele_last_3_months, qta_cnt_mds_specifica_disdetta_m1, qta_cnt_microcausale_RVC_last_90_days, val_studenti, qta_cnt_attivita_richiesta_informazioni_last_3_months, val_QUOTA_LIBERO, qta_cnt_mds_tipologia_attivita_gestione_comunicazioni_m6, qta_cnt_mds_tipologia_attivita_gestione_comunicazioni_m1, qta_anzianita_servizio, mds_nome_campagna_last_response_marketing_cli, qta_cnt_macrocausale_Esecuzione_lavori_last_90_days, qta_cnt_mds_specifica_visualizzazione_area_clienti_m3, val_Turisti_totali, qta_cnt_sms_cli, val_totale_pagare_x_min_ciclo_ele_last_1_months, val_consumi_x_min_over_mean_ciclo_gas_last_6_months, fln_fattura_pagata_totalmente_in_ritardo_servizio_last_6_months_canale_ALL, fln_venditore_mercato_libero_gas_only_small, qta_giorni_ultimo_reclamo, val_paga_ritardo_max_ciclo_last_3_months, val_consumi_x_max_ciclo_gas_last_6_months, fln_fattura_pagata_non_totalmente_servizio_last_6_months_canale_ALL, qta_cnt_microcausale_INFORMATIVA_last_90_days, qta_cnt_mds_tipologia_attivita_gestione_clienti_m1, qta_cnt_cliente_accetta_proposta_last_3_months, qta_cnt_cliente_response_positiva_last_3_months, qta_cnt_microcausale_PRIMA_ATTIVAZIONE_last_90_days, qta_days_since_last_inbound_contact_microcausale_INFORMATIVA_CREDITO, qta_cnt_microcausale_INFORMATIVA_CONSUMI_PAGAMENTI_last_90_days, fln_distributore_energia_comune_HERA, fln_primo_contatto_inbound, qta_cnt_attivita_processi_richieste_suggello_recesso_voltura_last_3_months, qta_cnt_mds_specifica_other_m12, val_importo_addebito_x_max_over_mean_ciclo_gas_last_6_months, qta_cnt_mds_tipologia_attivita_gestione_clienti_m12, val_totale_pagare_x_mean_ciclo_ele_last_6_months, qta_days_since_last_inbound_contact_microcausale_PRIMA_ATTIVAZIONE, val_pop_res_totale_15_anni_e_piu_non_appartenente_alle_forze_di_lavoro_nfl, fln_venditore_mercato_libero_gas_comune_Alperia, qta_cnt_fln_contatti_inbound_m12, qta_cnt_mds_tipologia_attivita_gestione_pagamenti_m12, val_totale_pagare_x_sum_ciclo_ele_last_6_months, qta_days_since_last_inbound_contact_microcausale_GESTIONE_FORNITURA, fln_venditore_mercato_libero_ele_comune_Acea, val_Sh_ENEL_POWER, qta_cnt_mds_specifica_adesione_m9, val_totale_pagare_x_last_over_mean, fln_venditore_mercato_libero_ele_comune_ENEGAN, qta_servizi_gas, qta_cnt_mds_specifica_visualizzazione_area_clienti_m9, lds_tipo_uso, val_consumi_x_min_over_mean_ciclo_gas_last_1_months, qta_days_since_last_inbound_contact_microcausale_GESTIONE_VAS, qta_days_since_last_inbound_contact_microcausale_VOLTURA, cdc_residente, val_consumi_x_max_ciclo_gas_last_3_months, qta_paga_ritardo_ciclo_last_1_months, xds_tipologia_azione_last_response_marketing_cli, val_perc_Abitazioni_Non_Residenti, val_totale_pagare_x_max_ciclo_ele_last_3_months, qta_paga_ritardo_ciclo_last_6_months, fln_distributore_energia_comune_Alperia, val_mean_fattura_pagata_totalmente_nei_tempi_servizio_last_6_months_canale_ALL, fln_distributore_energia_comune_Acea, val_perc_Famiglie_Alloggio_Altro, qta_days_last_response_marketing_cli, fln_venditore_mercato_libero_gas_comune_ENGIE, val_paga_ritardo_mean_ciclo_last_6_months, val_Cliente_con_comunicazione_swp_storico_last_6_months, fln_distributore_gas_comune_IREN, val_importo_addebito_x_min_over_mean_ciclo_gas_last_6_months, val_totale_pagare_x_min_ciclo_gas_last_3_months, qta_cnt_mds_tipologia_attivita_gestione_bolletta_m9, val_Negozi_Loc_Mean, qta_cnt_microcausale_AUTOLETTURA_last_90_days, qta_days_since_last_inbound_contact_channel_WEB, qta_cnt_fln_contatti_inbound_guasti_m1, val_perc_Famiglie_1_Componente, val_consumi_famiglie, qta_days_since_last_inbound_contact_microcausale_SUBENTRO, val_paga_ritardo_max_ciclo_last_1_months, fln_stesso_venditore_distributore_ele_no_enel, val_mean_fattura_non_pagata_servizio_last_6_months_canale_ALL, fln_venditore_mercato_libero_gas_comune_EVOLVE_SRL, qta_cnt_mds_tipologia_attivita_gestione_notifiche_m6, qta_cnt_fln_contatti_inbound_reclamo_m12, qta_cnt_mds_tipologia_attivita_gestione_documenti_m9, qta_cnt_mds_tipologia_attivita_gestione_consumi_m6, qta_cnt_fattura_pagata_totalmente_in_ritardo_servizio_last_3_months_canale_ALL, qta_cnt_fln_contatti_inbound_guasti_m3, qta_days_since_last_inbound_contact_microcausale_SWITCH_ATTIVO, qta_cnt_attivita_contratti_last_3_months, cdn_cv2_cliente, fln_player_forte_win_back, qta_cnt_attivita_ricezione_invio_documentazione_last_3_months, qta_cnt_fattura_pagata_totalmente_nei_tempi_servizio_last_3_months_canale_ALL, val_paga_ritardo_sum_ciclo_last_6_months, qta_cnt_mds_specifica_adesione_m12, val_Sh_ENEL_GAS, val_totale_pagare_x_sum_ciclo_gas_last_3_months, fln_diffida_last_2_months_serv, qta_cnt_mds_tipologia_attivita_other_m1, qta_cnt_mds_tipologia_attivita_gestione_credito_m9, qta_cnt_mds_tipologia_attivita_gestione_comunicazioni_m12, qta_cnt_mds_tipologia_attivita_gestione_bolletta_m3, qta_cnt_macrocausale_Informativa_last_90_days, val_Residenti, qta_cnt_fln_contatti_inbound_autolet_m3, qta_cnt_campagne_mktg_canale_DEM_last_3_months, sds_regione_fornitura, qta_cnt_attivita_secondo_livello_last_3_months, qta_days_since_last_inbound_contact_macrocausale_Credito, sds_provincia_fornitura, qta_cnt_microcausale_INFORMATIVA_CREDITO_last_90_days, val_perc_Famiglie_Alloggio_Proprieta, fln_venditore_mercato_libero_gas_comune_Green_Network, qta_cnt_mds_specifica_disdetta_m9, qta_cnt_mds_tipologia_attivita_gestione_credito_m12, val_perc_Famiglie_6+_Componente, val_fattura_non_pagato_servizio_ultima_bolletta_emessa_canale_ALL, qta_cnt_cliente_con_response_marketing_utile_last_3_months, val_mean_fattura_pagata_totalmente_nei_tempi_servizio_last_3_months_canale_ALL, val_totale_istruzione_pesata, val_importo_addebito_x_max_ciclo_gas_last_1_months, qta_max_days_emissione_fattura_pagamento_servizio_last_6_months_canale_ALL, fln_distributore_gas_comune_Alperia, fln_stesso_distributore_gas_ele, cdc_stato_servizio_calc, qta_cnt_diffida_cartacea_cli, val_importo_addebito_x_last, qta_cnt_attivita_gestione_clienti_last_3_months, qta_cnt_microcausale_GESTIONE_FORNITURA_last_90_days, qta_cnt_diffida_procedura_M4_cli, qta_days_since_last_inbound_contact_microcausale_MODALITA_DI_PAGAMENTO, val_importo_addebito_x_mean_ciclo_gas_last_1_months, val_mean_days_scadenza_fattura_pagamento_servizio_last_3_months_canale_ALL, qta_cnt_mds_specifica_visualizzazione_area_clienti_m6, fln_stesso_venditore_distributore_ele, qta_days_since_last_inbound_contact_channel_FACE, qta_cnt_attivita_sollecito_last_3_months, fln_servizio_distaccato_e_riallacciato, fln_stesso_venditore_distributore_gas, val_potenza_contrattuale, qta_days_since_last_inbound_contact_microcausale_RETTIFICHE_CONSUMI_FATTURAZIONE, sds_segmento_fasce, qta_days_since_last_inbound_contact_microcausale_INFORMATIVA_NON_DI_COMPETENZA, qta_cnt_mds_specifica_visualizzazione_area_clienti_m1, val_POT_TOTALE, qta_servizi_elettrici, qta_cnt_attivita_morosita_last_3_months, val_importo_addebito_x_sum_ciclo_ele_last_3_months, qta_cnt_macrocausale_Chiarimenti_su_fatture_last_90_days, qta_indice_contattosita_ult_30gg, sds_mat_fatturazione, val_POT_TOTALE_NETTO, qta_days_since_last_inbound_contact_microcausale_DISDETTE_E_CESSAZIONI, val_importo_addebito_x_min_ciclo_gas_last_3_months, fln_scarti_trasporto_last_1_months, val_importo_addebito_x_max_over_mean_ciclo_ele_last_3_months, qta_cnt_attivita_vocal_last_3_months, val_importo_addebito_x_mean_ciclo_gas_last_6_months, qta_cnt_microcausale_REPEATED_LIST_last_90_days, val_importo_addebito_x_min_over_mean_ciclo_ele_last_1_months, qta_cnt_venditori_mercato_libero_gas_comune, qta_cnt_attivita_ripensamento_last_3_months, val_importo_addebito_x_mean_ciclo_ele_last_6_months, val_importo_addebito_x_min_over_mean_ciclo_ele_last_3_months, qta_frequenza_contatto, qta_days_since_last_inbound_contact_microcausale_MODIFICA_ANAGRAFICA_O_DATI_FORNITURA_FATTURAZIONE, sds_cluster_gas, cdc_istat, qta_cnt_attivita_modifiche_variazioni_last_3_months, val_totale_pagare_x_mean_ciclo_gas_last_6_months, qta_days_since_last_inbound_contact_microcausale_LAVORI_E_MODIFICHE_TECNICHE_POTENZA_TENSIONE, qta_cnt_fln_contatti_inbound_autolet_m6, val_perc_Altri_Tipi_Alloggio, fln_venditore_mercato_libero_ele_comune_sorgenia, qta_cnt_mds_tipologia_attivita_gestione_bolletta_m6, fln_comunicazione_rinnovo_last_1_months, qta_days_emissione_fattura_pagamento_servizio_ultima_bolletta_emessa_canale_ALL, val_Cliente_con_comunicazione_swp_storico_last_1_months, qta_cnt_fattura_pagata_non_totalmente_servizio_last_3_months_canale_ALL, val_totale_pagare_x_min_over_mean_ciclo_ele_last_3_months, val_mean_days_scadenza_fattura_pagamento_servizio_last_6_months_canale_ALL, fln_distributore_energia_comune_Dolomiti_Energia, fln_venditore_mercato_libero_ele_comune_A2A, qta_cnt_mds_specifica_visualizzazione_area_clienti_m12, val_totale_pagare_x_max_over_mean_ciclo_gas_last_3_months, qta_cnt_attivita_vas_last_3_months, qta_cnt_competitor_forti_enel_venditore_mercato_libero_ele, fln_distributore_gas_comune_HERA, qta_cnt_fln_contatti_inbound_guasti_m12, qta_cnt_fattura_non_pagata_servizio_last_6_months_canale_ALL, fln_player_forte, qta_cnt_attivita_bye_bye_letter_last_3_months, qta_cnt_contatti_outbound_all_channel_m3, qta_cnt_microcausale_MODALITA_DI_PAGAMENTO_last_90_days, fln_venditore_mercato_libero_ele_enel, val_fascia_stress, val_mean_fattura_pagata_totalmente_in_ritardo_servizio_last_3_months_canale_ALL, val_totale_pagare_x_min_ciclo_ele_last_6_months, qta_cnt_mds_tipologia_attivita_gestione_clienti_m6, qta_cnt_microcausale_MODIFICA_ANAGRAFICA_O_DATI_FORNITURA_FATTURAZIONE_last_90_days, val_Altitudine_del_centro, val_importo_addebito_x_max_over_mean_ciclo_gas_last_3_months, val_consumi_x_sum_ciclo_ele_last_3_months, val_importo_addebito_x_min_over_mean_ciclo_gas_last_1_months, qta_cnt_mds_tipologia_attivita_gestione_pagamenti_m6, val_consumi_x_mean_ciclo_gas_last_3_months, qta_cnt_mds_tipologia_attivita_gestione_clienti_m9, xds_canale_last_response_marketing_cli, qta_cnt_contatti_inbound_all_channel_m6, val_rimborsi_mean_ciclo_last_3_months, lds_societa_vendita, qta_cnt_microcausale_ALLACCIO_E_ATTIVAZIONE_last_90_days, cdc_pdr, val_paga_ritardo_mean_ciclo_last_3_months, fln_comunicazione_rinnovo_last_1_months_sottocanale_CARTACEO, qta_cnt_attivita_sito_web_chat_last_3_months, val_Cliente_con_servizio_cessato_last_6_months, qta_cnt_canale_CHAT_last_90_days, fln_venditore_mercato_libero_ele_comune_EOn, fln_venditore_mercato_libero_ele_comune_Alperia, val_t0_month, qta_cnt_mds_tipologia_attivita_gestione_notifiche_m12, val_totale_pagare_x_max_ciclo_gas_last_6_months, qta_cnt_diffida_procedura_M3_cli, fln_comunicazione_rinnovo_last_1_months_sottocanale_PEC, qta_cnt_macrocausale_Problemi_in_fase_di_attivazione_last_90_days, qta_cnt_contatti_outbound_all_channel_m9, fln_distributore_energia_enel, val_importo_addebito_x_sum_ciclo_gas_last_6_months, fln_riallaccio_last_2_months, fln_bolletta_web_attiva, qta_cnt_fattura_non_pagata_servizio_last_3_months_canale_ALL, val_t0_year, qta_days_since_last_inbound_contact_macrocausale_Esecuzione_lavori, fln_sollecito_last_2_months_serv, qta_max_days_scadenza_fattura_pagamento_servizio_last_6_months_canale_ALL, fln_distributore_energia_comune_ASTEA_SPA, qta_cnt_mds_tipologia_attivita_gestione_documenti_m6, fln_venditore_mercato_libero_ele_comune_EDISON, qta_cnt_fln_contatti_inbound_reclamo_m3, val_POT_POWER_NETTO, qta_max_days_emissione_fattura_pagamento_servizio_last_3_months_canale_ALL, fln_distributore_energia_comune_A2A, qta_days_since_last_inbound_contact_channel_DOCUMENTALE, qta_cnt_contatti_inbound_totali_last_90_days, qta_cnt_mds_tipologia_attivita_gestione_notifiche_m9, val_QUOTA_TUTELATO, qta_giorni_ultimo_contatto_outbound, val_mean_fattura_pagata_non_totalmente_servizio_last_3_months_canale_ALL, qta_cnt_mds_tipologia_attivita_gestione_credito_m1, val_importo_addebito_x_mean_ciclo_ele_last_3_months, qta_cnt_mds_tipologia_attivita_gestione_pagamenti_m3, qta_days_since_last_inbound_contact_microcausale_RIMBORSO_COMPENSAZIONE, qta_cnt_contatti_inbound_all_channel_m12, qta_cnt_attivita_delibera_147_last_3_months, val_mean_fattura_non_pagata_servizio_last_3_months_canale_ALL, val_consumi_x_min_over_mean_ciclo_ele_last_6_months, qta_days_since_last_inbound_contact_channel_TELEFONICO, qta_cnt_microcausale_RECLAMI_SCRITTI_last_90_days, fln_cliente_response_competitor_last_3_months, qta_cnt_reclami_last_month, qta_days_since_last_inbound_contact_channel_APP, qta_cnt_diffida_cartacea_serv, fln_venditore_mercato_libero_ele_comune_ENI, qta_cnt_fln_contatti_inbound_guasti_m6, qta_cnt_mds_tipologia_attivita_other_m6, mds_canale_acquisizione, qta_cnt_sollecito_procedura_M2_cli, sds_provincia, qta_giorni_ultimo_contatto_inbound, qta_cnt_microcausale_RIPENSAMENTO_O_DISCONOSCIMENTO_last_90_days, qta_cnt_venditori_mercato_libero_ele_comune, val_totale_pagare_x_max_ciclo_ele_last_1_months, sds_regione_fatturazione, qta_days_since_last_inbound_contact_microcausale_VERIFICHE_TECNICHE, fln_scarti_sap_sd_last_1_months, qta_days_since_last_inbound_contact_microcausale_RIPENSAMENTO_O_DISCONOSCIMENTO, qta_cnt_mds_specifica_other_m6, fln_cliente_accetta_proposta_last_3_months, qta_cnt_distacchi_last_2_months, val_importo_addebito_x_sum_ciclo_gas_last_3_months, val_importo_addebito_x_min_over_mean_ciclo_ele_last_6_months, qta_cnt_attivita_analisi_fatturato_situazione_contabile_last_3_months, cdc_Zona_altimetrica, val_consumi_x_min_ciclo_ele_last_6_months, val_consumi_x_max_ciclo_gas_last_1_months, idn_sito_sk, cdn_cv2_servizio, fln_venditore_mercato_libero_gas_comune_IREN, qta_cnt_microcausale_GESTIONE_PRIVACY_last_90_days, qta_days_since_last_inbound_contact_microcausale_AUTOLETTURA, qta_cnt_mds_tipologia_attivita_gestione_documenti_m3, qta_days_since_last_inbound_contact_microcausale_ALLACCIO_E_ATTIVAZIONE, val_totale_pagare_x_sum_ciclo_gas_last_6_months, val_paga_ritardo_sum_ciclo_last_3_months, qta_cnt_sollecito_cartaceo_cli, cdc_bolletta_web, val_consumi_x_max_over_mean_ciclo_gas_last_6_months, qta_cnt_macrocausale_Credito_last_90_days, fln_dual, val_totale_pagare_x_mean_ciclo_ele_last_1_months, qta_cnt_mds_specifica_adesione_m3, qta_days_since_last_inbound_contact_microcausale_DISTACCHI_RIALLACCI, qta_cnt_distributori_gas_comune, fln_venditore_mercato_libero_gas_comune_ENEL, qta_cnt_attivita_indennizzo_last_3_months, fln_venditore_mercato_libero_ele_comune_Axpo_Group, val_paga_ritardo_max_ciclo_last_6_months, fln_venditore_mercato_libero_gas_comune_Axpo_Group, val_totale_pagare_x_min_ciclo_gas_last_1_months, val_totale_pagare_x_max_over_mean_ciclo_ele_last_6_months, fln_venditore_mercato_libero_gas_comune_METANO_NORD_SPA, val_totale_pagare_x_min_ciclo_ele_last_3_months, qta_cnt_attivita_bolletta_fatturazione_last_3_months, val_max_val_fattura_non_pagato_servizio_last_6_months_canale_ALL, fln_distributore_energia_comune_IREN, val_delta_prezzo_percentuale_gas_last_1_months, fln_distributore_gas_comune_municipalizzata, val_totale_pagare_x_min_ciclo_gas_last_6_months, val_importo_addebito_x_min_over_mean_ciclo_gas_last_3_months, val_consumi_x_sum_ciclo_gas_last_6_months, qta_cnt_contatti_outbound_all_channel_m6, fln_venditore_mercato_libero_gas_comune_Dolomiti_Energia, qta_days_incasso_fattura_today_servizio_ultima_bolletta_emessa_canale_ALL, qta_cnt_contatti_inbound_all_channel_m1, qta_cnt_mds_tipologia_attivita_other_m3, idn_cliente_sk, val_mean_fattura_pagata_non_totalmente_servizio_last_6_months_canale_ALL, fln_distributore_energia_comune_ENEL, qta_cnt_mds_tipologia_attivita_gestione_documenti_m12, val_totale_pagare_x_max_over_mean_ciclo_gas_last_6_months, qta_cnt_mds_tipologia_attivita_gestione_consumi_m9, val_totale_pagare_x_sum_ciclo_ele_last_1_months, cdc_tenure_bucket_cliente, qta_cnt_microcausale_RIMBORSO_COMPENSAZIONE_last_90_days, val_importo_addebito_x_min_ciclo_ele_last_3_months, fln_Comune_litoraneo, fln_fattura_pagata_totalmente_nei_tempi_servizio_last_6_months_canale_ALL, qta_cnt_microcausale_RETTIFICHE_CONSUMI_FATTURAZIONE_last_90_days, mds_comune, qta_cnt_contatti_inbound_all_channel_m9, fln_venditore_mercato_libero_gas_comune_BURGO_GROUP, fln_distacco_last_2_months, qta_cnt_canale_DOCUMENTALE_last_90_days, qta_cnt_fln_chiamate_inbound_m12, qta_cnt_diffida_procedura_M1_cli, sds_mat, val_consumi_x_sum_ciclo_ele_last_1_months, qta_cnt_microcausale_SWITCH_ATTIVO_last_90_days, qta_cnt_fln_contatti_inbound_autolet_m1, fln_diffida_last_2_months_cli, sds_commodity];;\n'Project ['cdc_power_gas, val_churn_2_months#23457]\n+- Relation[idn_cliente_sk#23311L,cdc_stato_servizio_calc#23312,idn_sito_sk#23313L,lds_prodotto_listino_2#23314,cdc_pdr#23315,sds_commodity#23316,mds_canale_acquisizione#23317,cdc_cap_nrm#23318,lds_tipo_uso#23319,qta_eta_nrm#23320,cdc_residente#23321,qta_indice_contattosita_ult_30gg#23322,val_fascia_stress#23323,mds_tipologia_pagamento#23324,cdc_id_mercato#23325,sds_provincia_fatturazione#23326,sds_provincia_fornitura#23327,sds_regione_fornitura#23328,sds_regione_fatturazione#23329,sds_mat_fatturazione#23330,sds_mat_fornitura#23331,sds_provincia#23332,sds_regione#23333,sds_mat#23334,... 625 more fields] parquet\n\n\tat org.apache.spark.sql.catalyst.analysis.package$AnalysisErrorAt.failAnalysis(package.scala:42)\n\tat org.apache.spark.sql.catalyst.analysis.CheckAnalysis$$anonfun$checkAnalysis$1$$anonfun$apply$3.applyOrElse(CheckAnalysis.scala:110)\n\tat org.apache.spark.sql.catalyst.analysis.CheckAnalysis$$anonfun$checkAnalysis$1$$anonfun$apply$3.applyOrElse(CheckAnalysis.scala:107)\n\tat org.apache.spark.sql.catalyst.trees.TreeNode$$anonfun$transformUp$1.apply(TreeNode.scala:278)\n\tat org.apache.spark.sql.catalyst.trees.TreeNode$$anonfun$transformUp$1.apply(TreeNode.scala:278)\n\tat org.apache.spark.sql.catalyst.trees.CurrentOrigin$.withOrigin(TreeNode.scala:70)\n\tat org.apache.spark.sql.catalyst.trees.TreeNode.transformUp(TreeNode.scala:277)\n\tat org.apache.spark.sql.catalyst.plans.QueryPlan$$anonfun$transformExpressionsUp$1.apply(QueryPlan.scala:93)\n\tat org.apache.spark.sql.catalyst.plans.QueryPlan$$anonfun$transformExpressionsUp$1.apply(QueryPlan.scala:93)\n\tat org.apache.spark.sql.catalyst.plans.QueryPlan$$anonfun$1.apply(QueryPlan.scala:105)\n\tat org.apache.spark.sql.catalyst.plans.QueryPlan$$anonfun$1.apply(QueryPlan.scala:105)\n\tat org.apache.spark.sql.catalyst.trees.CurrentOrigin$.withOrigin(TreeNode.scala:70)\n\tat org.apache.spark.sql.catalyst.plans.QueryPlan.transformExpression$1(QueryPlan.scala:104)\n\tat org.apache.spark.sql.catalyst.plans.QueryPlan.org$apache$spark$sql$catalyst$plans$QueryPlan$$recursiveTransform$1(QueryPlan.scala:116)\n\tat org.apache.spark.sql.catalyst.plans.QueryPlan$$anonfun$org$apache$spark$sql$catalyst$plans$QueryPlan$$recursiveTransform$1$2.apply(QueryPlan.scala:121)\n\tat scala.collection.TraversableLike$$anonfun$map$1.apply(TraversableLike.scala:234)\n\tat scala.collection.TraversableLike$$anonfun$map$1.apply(TraversableLike.scala:234)\n\tat scala.collection.mutable.ResizableArray$class.foreach(ResizableArray.scala:59)\n\tat scala.collection.mutable.ArrayBuffer.foreach(ArrayBuffer.scala:48)\n\tat scala.collection.TraversableLike$class.map(TraversableLike.scala:234)\n\tat scala.collection.AbstractTraversable.map(Traversable.scala:104)\n\tat org.apache.spark.sql.catalyst.plans.QueryPlan.org$apache$spark$sql$catalyst$plans$QueryPlan$$recursiveTransform$1(QueryPlan.scala:121)\n\tat org.apache.spark.sql.catalyst.plans.QueryPlan$$anonfun$2.apply(QueryPlan.scala:126)\n\tat org.apache.spark.sql.catalyst.trees.TreeNode.mapProductIterator(TreeNode.scala:187)\n\tat org.apache.spark.sql.catalyst.plans.QueryPlan.mapExpressions(QueryPlan.scala:126)\n\tat org.apache.spark.sql.catalyst.plans.QueryPlan.transformExpressionsUp(QueryPlan.scala:93)\n\tat org.apache.spark.sql.catalyst.analysis.CheckAnalysis$$anonfun$checkAnalysis$1.apply(CheckAnalysis.scala:107)\n\tat org.apache.spark.sql.catalyst.analysis.CheckAnalysis$$anonfun$checkAnalysis$1.apply(CheckAnalysis.scala:85)\n\tat org.apache.spark.sql.catalyst.trees.TreeNode.foreachUp(TreeNode.scala:127)\n\tat org.apache.spark.sql.catalyst.analysis.CheckAnalysis$class.checkAnalysis(CheckAnalysis.scala:85)\n\tat org.apache.spark.sql.catalyst.analysis.Analyzer.checkAnalysis(Analyzer.scala:95)\n\tat org.apache.spark.sql.catalyst.analysis.Analyzer$$anonfun$executeAndCheck$1.apply(Analyzer.scala:108)\n\tat org.apache.spark.sql.catalyst.analysis.Analyzer$$anonfun$executeAndCheck$1.apply(Analyzer.scala:105)\n\tat org.apache.spark.sql.catalyst.plans.logical.AnalysisHelper$.markInAnalyzer(AnalysisHelper.scala:201)\n\tat org.apache.spark.sql.catalyst.analysis.Analyzer.executeAndCheck(Analyzer.scala:105)\n\tat org.apache.spark.sql.execution.QueryExecution.analyzed$lzycompute(QueryExecution.scala:57)\n\tat org.apache.spark.sql.execution.QueryExecution.analyzed(QueryExecution.scala:55)\n\tat org.apache.spark.sql.execution.QueryExecution.assertAnalyzed(QueryExecution.scala:47)\n\tat org.apache.spark.sql.Dataset$.ofRows(Dataset.scala:78)\n\tat org.apache.spark.sql.Dataset.org$apache$spark$sql$Dataset$$withPlan(Dataset.scala:3406)\n\tat org.apache.spark.sql.Dataset.select(Dataset.scala:1334)\n\tat sun.reflect.GeneratedMethodAccessor93.invoke(Unknown Source)\n\tat sun.reflect.DelegatingMethodAccessorImpl.invoke(DelegatingMethodAccessorImpl.java:43)\n\tat java.lang.reflect.Method.invoke(Method.java:498)\n\tat py4j.reflection.MethodInvoker.invoke(MethodInvoker.java:244)\n\tat py4j.reflection.ReflectionEngine.invoke(ReflectionEngine.java:357)\n\tat py4j.Gateway.invoke(Gateway.java:282)\n\tat py4j.commands.AbstractCommand.invokeMethod(AbstractCommand.java:132)\n\tat py4j.commands.CallCommand.execute(CallCommand.java:79)\n\tat py4j.GatewayConnection.run(GatewayConnection.java:238)\n\tat java.lang.Thread.run(Thread.java:748)\n",
      "\nDuring handling of the above exception, another exception occurred:\n",
      "\u001b[0;31mAnalysisException\u001b[0m                         Traceback (most recent call last)",
      "\u001b[0;32m<ipython-input-45-61982653a119>\u001b[0m in \u001b[0;36m<module>\u001b[0;34m\u001b[0m\n\u001b[1;32m      1\u001b[0m \u001b[0;32mfor\u001b[0m \u001b[0mcolumn\u001b[0m \u001b[0;32min\u001b[0m \u001b[0mtqdm\u001b[0m\u001b[0;34m(\u001b[0m\u001b[0mcategorical_features\u001b[0m\u001b[0;34m)\u001b[0m\u001b[0;34m:\u001b[0m\u001b[0;34m\u001b[0m\u001b[0;34m\u001b[0m\u001b[0m\n\u001b[0;32m----> 2\u001b[0;31m     \u001b[0mdf\u001b[0m \u001b[0;34m=\u001b[0m \u001b[0minput_data_supervised\u001b[0m\u001b[0;34m.\u001b[0m\u001b[0mselect\u001b[0m\u001b[0;34m(\u001b[0m\u001b[0mcolumn\u001b[0m\u001b[0;34m,\u001b[0m \u001b[0;34m'val_churn_2_months'\u001b[0m\u001b[0;34m)\u001b[0m\u001b[0;34m\u001b[0m\u001b[0;34m\u001b[0m\u001b[0m\n\u001b[0m\u001b[1;32m      3\u001b[0m     \u001b[0mcontingency_table\u001b[0m \u001b[0;34m=\u001b[0m \u001b[0mdf\u001b[0m\u001b[0;34m.\u001b[0m\u001b[0mstat\u001b[0m\u001b[0;34m.\u001b[0m\u001b[0mcrosstab\u001b[0m\u001b[0;34m(\u001b[0m\u001b[0mcolumn\u001b[0m\u001b[0;34m,\u001b[0m \u001b[0;34m'val_churn_2_months'\u001b[0m\u001b[0;34m)\u001b[0m\u001b[0;34m\u001b[0m\u001b[0;34m\u001b[0m\u001b[0m\n\u001b[1;32m      4\u001b[0m     \u001b[0;31m# Drop the first column and convert the spark df into a pandas df\u001b[0m\u001b[0;34m\u001b[0m\u001b[0;34m\u001b[0m\u001b[0;34m\u001b[0m\u001b[0m\n\u001b[1;32m      5\u001b[0m     \u001b[0mcontingency_df\u001b[0m \u001b[0;34m=\u001b[0m \u001b[0mcontingency_table\u001b[0m\u001b[0;34m.\u001b[0m\u001b[0mdrop\u001b[0m\u001b[0;34m(\u001b[0m\u001b[0mcolumn\u001b[0m\u001b[0;34m+\u001b[0m\u001b[0;34m'_val_churn_2_months'\u001b[0m\u001b[0;34m)\u001b[0m\u001b[0;34m\u001b[0m\u001b[0;34m\u001b[0m\u001b[0m\n",
      "\u001b[0;32m/data/cloudera/parcels/CDH-6.2.1-1.cdh6.2.1.p0.1425774/lib/spark/python/lib/pyspark.zip/pyspark/sql/dataframe.py\u001b[0m in \u001b[0;36mselect\u001b[0;34m(self, *cols)\u001b[0m\n\u001b[1;32m   1318\u001b[0m         \u001b[0;34m[\u001b[0m\u001b[0mRow\u001b[0m\u001b[0;34m(\u001b[0m\u001b[0mname\u001b[0m\u001b[0;34m=\u001b[0m\u001b[0;34mu'Alice'\u001b[0m\u001b[0;34m,\u001b[0m \u001b[0mage\u001b[0m\u001b[0;34m=\u001b[0m\u001b[0;36m12\u001b[0m\u001b[0;34m)\u001b[0m\u001b[0;34m,\u001b[0m \u001b[0mRow\u001b[0m\u001b[0;34m(\u001b[0m\u001b[0mname\u001b[0m\u001b[0;34m=\u001b[0m\u001b[0;34mu'Bob'\u001b[0m\u001b[0;34m,\u001b[0m \u001b[0mage\u001b[0m\u001b[0;34m=\u001b[0m\u001b[0;36m15\u001b[0m\u001b[0;34m)\u001b[0m\u001b[0;34m]\u001b[0m\u001b[0;34m\u001b[0m\u001b[0;34m\u001b[0m\u001b[0m\n\u001b[1;32m   1319\u001b[0m         \"\"\"\n\u001b[0;32m-> 1320\u001b[0;31m         \u001b[0mjdf\u001b[0m \u001b[0;34m=\u001b[0m \u001b[0mself\u001b[0m\u001b[0;34m.\u001b[0m\u001b[0m_jdf\u001b[0m\u001b[0;34m.\u001b[0m\u001b[0mselect\u001b[0m\u001b[0;34m(\u001b[0m\u001b[0mself\u001b[0m\u001b[0;34m.\u001b[0m\u001b[0m_jcols\u001b[0m\u001b[0;34m(\u001b[0m\u001b[0;34m*\u001b[0m\u001b[0mcols\u001b[0m\u001b[0;34m)\u001b[0m\u001b[0;34m)\u001b[0m\u001b[0;34m\u001b[0m\u001b[0;34m\u001b[0m\u001b[0m\n\u001b[0m\u001b[1;32m   1321\u001b[0m         \u001b[0;32mreturn\u001b[0m \u001b[0mDataFrame\u001b[0m\u001b[0;34m(\u001b[0m\u001b[0mjdf\u001b[0m\u001b[0;34m,\u001b[0m \u001b[0mself\u001b[0m\u001b[0;34m.\u001b[0m\u001b[0msql_ctx\u001b[0m\u001b[0;34m)\u001b[0m\u001b[0;34m\u001b[0m\u001b[0;34m\u001b[0m\u001b[0m\n\u001b[1;32m   1322\u001b[0m \u001b[0;34m\u001b[0m\u001b[0m\n",
      "\u001b[0;32m/data/cloudera/parcels/CDH-6.2.1-1.cdh6.2.1.p0.1425774/lib/spark/python/lib/py4j-0.10.7-src.zip/py4j/java_gateway.py\u001b[0m in \u001b[0;36m__call__\u001b[0;34m(self, *args)\u001b[0m\n\u001b[1;32m   1255\u001b[0m         \u001b[0manswer\u001b[0m \u001b[0;34m=\u001b[0m \u001b[0mself\u001b[0m\u001b[0;34m.\u001b[0m\u001b[0mgateway_client\u001b[0m\u001b[0;34m.\u001b[0m\u001b[0msend_command\u001b[0m\u001b[0;34m(\u001b[0m\u001b[0mcommand\u001b[0m\u001b[0;34m)\u001b[0m\u001b[0;34m\u001b[0m\u001b[0;34m\u001b[0m\u001b[0m\n\u001b[1;32m   1256\u001b[0m         return_value = get_return_value(\n\u001b[0;32m-> 1257\u001b[0;31m             answer, self.gateway_client, self.target_id, self.name)\n\u001b[0m\u001b[1;32m   1258\u001b[0m \u001b[0;34m\u001b[0m\u001b[0m\n\u001b[1;32m   1259\u001b[0m         \u001b[0;32mfor\u001b[0m \u001b[0mtemp_arg\u001b[0m \u001b[0;32min\u001b[0m \u001b[0mtemp_args\u001b[0m\u001b[0;34m:\u001b[0m\u001b[0;34m\u001b[0m\u001b[0;34m\u001b[0m\u001b[0m\n",
      "\u001b[0;32m/data/cloudera/parcels/CDH-6.2.1-1.cdh6.2.1.p0.1425774/lib/spark/python/lib/pyspark.zip/pyspark/sql/utils.py\u001b[0m in \u001b[0;36mdeco\u001b[0;34m(*a, **kw)\u001b[0m\n\u001b[1;32m     67\u001b[0m                                              e.java_exception.getStackTrace()))\n\u001b[1;32m     68\u001b[0m             \u001b[0;32mif\u001b[0m \u001b[0ms\u001b[0m\u001b[0;34m.\u001b[0m\u001b[0mstartswith\u001b[0m\u001b[0;34m(\u001b[0m\u001b[0;34m'org.apache.spark.sql.AnalysisException: '\u001b[0m\u001b[0;34m)\u001b[0m\u001b[0;34m:\u001b[0m\u001b[0;34m\u001b[0m\u001b[0;34m\u001b[0m\u001b[0m\n\u001b[0;32m---> 69\u001b[0;31m                 \u001b[0;32mraise\u001b[0m \u001b[0mAnalysisException\u001b[0m\u001b[0;34m(\u001b[0m\u001b[0ms\u001b[0m\u001b[0;34m.\u001b[0m\u001b[0msplit\u001b[0m\u001b[0;34m(\u001b[0m\u001b[0;34m': '\u001b[0m\u001b[0;34m,\u001b[0m \u001b[0;36m1\u001b[0m\u001b[0;34m)\u001b[0m\u001b[0;34m[\u001b[0m\u001b[0;36m1\u001b[0m\u001b[0;34m]\u001b[0m\u001b[0;34m,\u001b[0m \u001b[0mstackTrace\u001b[0m\u001b[0;34m)\u001b[0m\u001b[0;34m\u001b[0m\u001b[0;34m\u001b[0m\u001b[0m\n\u001b[0m\u001b[1;32m     70\u001b[0m             \u001b[0;32mif\u001b[0m \u001b[0ms\u001b[0m\u001b[0;34m.\u001b[0m\u001b[0mstartswith\u001b[0m\u001b[0;34m(\u001b[0m\u001b[0;34m'org.apache.spark.sql.catalyst.analysis'\u001b[0m\u001b[0;34m)\u001b[0m\u001b[0;34m:\u001b[0m\u001b[0;34m\u001b[0m\u001b[0;34m\u001b[0m\u001b[0m\n\u001b[1;32m     71\u001b[0m                 \u001b[0;32mraise\u001b[0m \u001b[0mAnalysisException\u001b[0m\u001b[0;34m(\u001b[0m\u001b[0ms\u001b[0m\u001b[0;34m.\u001b[0m\u001b[0msplit\u001b[0m\u001b[0;34m(\u001b[0m\u001b[0;34m': '\u001b[0m\u001b[0;34m,\u001b[0m \u001b[0;36m1\u001b[0m\u001b[0;34m)\u001b[0m\u001b[0;34m[\u001b[0m\u001b[0;36m1\u001b[0m\u001b[0;34m]\u001b[0m\u001b[0;34m,\u001b[0m \u001b[0mstackTrace\u001b[0m\u001b[0;34m)\u001b[0m\u001b[0;34m\u001b[0m\u001b[0;34m\u001b[0m\u001b[0m\n",
      "\u001b[0;31mAnalysisException\u001b[0m: \"cannot resolve '`cdc_power_gas`' given input columns: [qta_days_since_last_inbound_contact_macrocausale_Reclami_vendita_Privacy, fln_distributore_energia_big, fln_rinnovo_last_1_months_tipologia_ADEGUAMENTO, fln_venditore_mercato_libero_gas_big, val_totale_pagare_x_mean_ciclo_ele_last_3_months, val_consumi_x_max_ciclo_ele_last_6_months, qta_cnt_fln_contatti_inbound_autolet_m12, qta_days_since_last_inbound_contact_microcausale_REPEATED_LIST, val_importo_addebito_x_sum_ciclo_ele_last_6_months, qta_cnt_attivita_pagamenti_metodi_pagamento_last_3_months, val_consumi_x_mean_ciclo_ele_last_1_months, val_importo_addebito_x_min_ciclo_gas_last_1_months, val_importo_addebito_x_max_ciclo_ele_last_3_months, val_pop_res_totale_che_si_sposta_giornalmente_nel_comune_dimora_abituale, qta_days_since_last_inbound_contact_macrocausale_Chiarimenti_su_fatture, val_totale_pagare_x_sum_ciclo_ele_last_3_months, qta_days_since_last_inbound_contact_microcausale_COPIA_DOCUMENTAZIONI, cdc_cap_nrm, qta_cnt_diffide_livello_02_cli, val_mean_fattura_pagata_totalmente_in_ritardo_servizio_last_6_months_canale_ALL, qta_cnt_campagne_mktg_tipo_azione_campagna_PROMOZIONE_last_3_months, val_consumi_x_min_ciclo_gas_last_3_months, val_consumi_x_min_ciclo_gas_last_6_months, qta_numero_fattura_count_ciclo_last_9_months, qta_numero_fattura_count_ciclo_last_3_months, val_pop_res_totale, qta_cnt_microcausale_PIANO_DI_RIENTRO_last_90_days, qta_cnt_mds_tipologia_attivita_gestione_clienti_m3, qta_cnt_mds_specifica_adesione_m6, qta_cnt_fln_contatti_inbound_m9, fln_venditore_mercato_libero_gas_comune_EOn, qta_cnt_attivita_dl_piano_casa_last_3_months, val_totale_pagare_x_mean_ciclo_gas_last_1_months, fln_distributore_gas_comune_Dolomiti_Energia, qta_cnt_fln_contatti_inbound_m6, fln_venditore_mercato_libero_gas_enel, val_totale_pagare_x_max_ciclo_ele_last_6_months, val_consumi_x_max_over_mean_ciclo_ele_last_3_months, qta_cnt_attivita_telefonate_gestione_credito_last_3_months, fln_distributore_gas_comune_EDISON, qta_cnt_fln_contatti_inbound_autolet_m9, fln_venditore_mercato_libero_gas_comune_AIMAG, qta_cnt_fln_chiamate_inbound_m1, val_paga_ritardo_min_ciclo_last_1_months, fln_cliente_response_positiva_last_3_months, val_consumi_x_min_ciclo_ele_last_1_months, qta_cnt_riallaccio_last_2_months, val_perc_Famiglie_4_Componente, val_pop_res_totale_che_si_sposta_giornalmente_fuori_dal_comune_dimora_abituale, val_paga_ritardo_min_ciclo_last_6_months, fln_fattura_pagata_totalmente_in_ritardo_servizio_ultima_bolletta_emessa_canale_ALL, qta_cnt_solleciti_livello_01_cli, qta_cnt_campagne_mktg_orientamento_OUTBOUND_last_3_months, val_totale_pagare_x_last_ciclo, val_Cliente_con_comunicazione_swp_storico_last_3_months, qta_cnt_mds_specifica_disdetta_m12, val_consumi_x_max_over_mean_ciclo_gas_last_1_months, val_totale_pagare_x_max_over_mean_ciclo_ele_last_3_months, fln_distributore_gas_comune_Italgas, val_importo_addebito_x_max_over_mean_ciclo_gas_last_1_months, qta_cnt_sollecito_procedura_M0_cli, fln_venditore_mercato_libero_ele_comune_Gas_Rimini, val_importo_addebito_x_sum_ciclo_ele_last_1_months, qta_cnt_mds_specifica_adesione_m1, val_max_val_fattura_non_pagato_servizio_last_3_months_canale_ALL, qta_cnt_fattura_pagata_non_totalmente_servizio_last_6_months_canale_ALL, qta_cnt_contatti_outbound_all_channel_m1, qta_cnt_fln_contatti_inbound_reclamo_m1, qta_cnt_macrocausale_Reclami_vendita_Privacy_last_90_days, qta_cnt_microcausale_DISDETTE_E_CESSAZIONI_last_90_days, sds_mat_fornitura, fln_distributore_gas_big, qta_cnt_mds_tipologia_attivita_gestione_credito_m6, fln_multi_venditori_mercato_libero_gas_comune, qta_days_since_last_inbound_contact_microcausale_RVC, qta_mesi_bw, qta_eta_nrm, fln_venditore_mercato_libero_ele_comune_ENEL, qta_paga_ritardo_ciclo_last_3_months, qta_cnt_microcausale_VERIFICHE_TECNICHE_last_90_days, fln_fattura_pagata_non_totalmente_servizio_ultima_bolletta_emessa_canale_ALL, val_importo_addebito_x_max_ciclo_ele_last_1_months, val_totale_pagare_x_min_over_mean_ciclo_gas_last_1_months, xds_tipo_azione_campagna_last_response_marketing_cli, val_Superficie_territoriale, val_delta_prezzo_ele_last_1_months, fln_venditore_mercato_libero_ele_only_small, val_totale_pagare_x_min_over_mean_ciclo_ele_last_1_months, val_Cliente_con_servizio_cessato, fln_rinnovo_last_1_months, fln_venditore_mercato_libero_ele_comune_Dolomiti_Energia, qta_cnt_fattura_pagata_totalmente_nei_tempi_servizio_last_6_months_canale_ALL, fln_rischio_Baby_Churn, fln_scarti_sdd_rid_last_1_months, fln_fattura_non_pagata_servizio_ultima_bolletta_emessa_canale_ALL, fln_cliente_con_response_marketing_utile_last_3_months, sds_provincia_fatturazione, qta_cnt_microcausale_COPIA_DOCUMENTAZIONI_last_90_days, qta_days_since_last_inbound_contact_microcausale_GESTIONE_PRIVACY, qta_cnt_sollecito_procedura_M1_cli, val_importo_addebito_x_max_over_mean_ciclo_ele_last_6_months, qta_cnt_canale_WEB_last_90_days, val_delta_prezzo_gas_last_1_months, val_totale_pagare_last_diffida_cli, val_totale_pagare_x_min_over_mean_ciclo_ele_last_6_months, qta_days_since_last_inbound_contact_channel_CHAT, qta_days_since_last_inbound_contact_macrocausale_Causale_non_definita, val_consumi_x_mean_ciclo_gas_last_6_months, val_perc_Famiglie_5_Componente, qta_days_since_last_inbound_contact_macrocausale_Problemi_in_fase_di_attivazione, val_consumi_x_min_over_mean_ciclo_ele_last_3_months, fln_scarti_sempre_sap_last_1_months, qta_cnt_flag_response_competitor_last_3_months, fln_cliente_response_negativa_last_3_months, qta_cnt_canale_FACE_last_90_days, qta_cnt_campagne_mktg_tipologia_azione_LOYALTY_last_3_months, val_consumi_x_min_ciclo_gas_last_1_months, qta_cnt_cliente_response_negativa_last_3_months, val_delta_prezzo_percentuale_ele_last_1_months, qta_Grado_di_urbanizzazione, val_importo_addebito_x_sum_ciclo_gas_last_1_months, cdc_Comune_Montano, val_consumi_x_max_ciclo_ele_last_1_months, fln_distributore_energia_comune_municipalizzata, val_consumi_x_min_over_mean_ciclo_gas_last_3_months, val_importo_addebito_x_mean_ciclo_ele_last_1_months, qta_days_since_last_inbound_contact_macrocausale_Chiarimento_su_offerta, val_importo_addebito_x_max_ciclo_ele_last_6_months, qta_cnt_microcausale_VOLTURA_last_90_days, cdc_cluster_fattura_last, fln_prima_meta, qta_days_scadenza_fattura_pagamento_servizio_ultima_bolletta_emessa_canale_ALL, qta_cnt_fln_chiamate_inbound_m3, lds_comune_fornitura, val_totale_pagare_x_max_ciclo_gas_last_1_months, qta_cnt_attivita_fattura_mancata_ritardata_last_3_months, val_importo_addebito_x_min_ciclo_gas_last_6_months, qta_cnt_fln_contatti_inbound_guasti_m9, val_fattura_servizio_ultima_bolletta_emessa_canale_ALL, qta_days_since_last_inbound_contact_macrocausale_Informativa, val_consumi_x_min_ciclo_ele_last_3_months, qta_cnt_diffida_procedura_M2_cli, qta_cnt_mds_tipologia_attivita_other_m9, qta_cnt_mds_specifica_other_m9, val_consumi_x_max_over_mean_ciclo_ele_last_1_months, val_consumi_x_sum_ciclo_gas_last_3_months, fln_multi_venditori_mercato_libero_ele_comune, val_consumi_x_max_over_mean_ciclo_ele_last_6_months, qta_cnt_macrocausale_Chiarimento_su_offerta_last_90_days, val_paga_ritardo_min_ciclo_last_3_months, fln_cell_m0_mono_flag, qta_days_since_last_inbound_contact, val_totale_pagare_x_max_over_mean_ciclo_gas_last_1_months, qta_cnt_fln_chiamate_inbound_m6, qta_cnt_mds_tipologia_attivita_gestione_comunicazioni_m3, val_Idx_Commercio, fln_rischio_Pre_Rinnovo, qta_cnt_macrocausale_Ritardata_esecuzione_subentri_volture_cessazioni_etc_last_90_days, qta_cnt_mds_tipologia_attivita_gestione_pagamenti_m1, qta_cnt_microcausale_LAVORI_E_MODIFICHE_TECNICHE_POTENZA_TENSIONE_last_90_days, qta_cnt_comuni_serviti_distributore_gas, qta_cnt_attivita_recesso_suggello_voltura_mancata_ritardata_last_3_months, mds_tipologia_pagamento, val_Lavoratori, val_totale_pagare_last_sollecito_cli, val_consumi_x_max_ciclo_ele_last_3_months, fln_rinnovo_last_1_months_tipologia_RVC, fln_venditore_mercato_libero_gas_comune_HERA, fln_venditore_mercato_libero_ele_comune_IREN, qta_cnt_mds_tipologia_attivita_gestione_comunicazioni_m9, fln_distributore_gas_comune_2i_Rete_Gas_SpA, qta_cnt_mds_tipologia_attivita_gestione_credito_m3, qta_cnt_attivita_reclamo_last_3_months, fln_venditore_mercato_libero_ele_comune_Gruppo_Canarbino, qta_cnt_canale_TELEFONICO_last_90_days, val_consumi_x_max_over_mean_ciclo_gas_last_3_months, qta_cnt_canale_APP_last_90_days, qta_cnt_attivita_credito_last_3_months, val_POT_GAS_NETTO, qta_numero_fattura_count_ciclo_last_6_months, fln_venditore_mercato_libero_ele_big, sds_segmento_organizzativo_cliente, qta_cnt_mds_tipologia_attivita_gestione_consumi_m12, qta_numero_fattura_count_ciclo_last_12_months, qta_cnt_mds_tipologia_attivita_other_m12, val_paga_ritardo_sum_ciclo_last_1_months, val_consumi_x_sum_ciclo_gas_last_1_months, qta_cnt_mds_tipologia_attivita_gestione_bolletta_m12, qta_cnt_mds_tipologia_attivita_gestione_consumi_m3, val_paga_ritardo_mean_ciclo_last_1_months, fln_comunicazione_rinnovo_last_1_months_sottocanale_FATTURA, qta_cnt_attivita_blacklist_last_3_months, qta_cnt_fln_contatti_inbound_m3, fln_venditore_mercato_libero_gas_comune_EDISON, cdc_win_back_m3, qta_cnt_mds_tipologia_attivita_gestione_consumi_m1, val_totale_pagare_x_min_over_mean_ciclo_gas_last_3_months, qta_cnt_attivita_dati_catastali_last_3_months, cdc_Codice_Regione, val_consumi_x_sum_ciclo_ele_last_6_months, fln_venditore_mercato_libero_gas_comune_Acea, val_totale_pagare_x_mean_ciclo_gas_last_3_months, fln_fattura_non_pagata_servizio_last_6_months_canale_ALL, val_importo_addebito_x_mean_ciclo_gas_last_3_months, val_perc_Famiglie_Alloggio_Affitto, val_perc_Famiglie_2_Componente, fln_venditore_mercato_libero_gas_comune_ENEGAN, mds_sottocanale, val_importo_addebito_x_max_ciclo_gas_last_6_months, qta_cnt_attivita_invio_WL_pesante_last_3_months, qta_cnt_attivita_lavori_rete_last_3_months, qta_days_since_last_inbound_contact_macrocausale_Ritardata_esecuzione_subentri_volture_cessazioni_etc, fln_venditore_mercato_libero_gas_comune_ENI, val_mean_days_emissione_fattura_pagamento_servizio_last_6_months_canale_ALL, qta_cnt_distributori_energia_comune, qta_cnt_fln_contatti_inbound_reclamo_m6, val_totale_pagare_x_max_over_mean_ciclo_ele_last_1_months, qta_days_since_last_inbound_contact_microcausale_PIANO_DI_RIENTRO, val_totale_pagare_x_min_over_mean_ciclo_gas_last_6_months, qta_cnt_fln_chiamate_inbound_m9, fln_criticita_cross_last_90_days, sds_regione, val_Cliente_con_comunicazione_swp_storico, lds_prodotto_listino_2, fln_venditore_mercato_libero_ele_comune_ENGIE, fln_venditore_mercato_libero_gas_comune_Gas_Rimini, val_importo_addebito_x_last_ciclo, qta_cnt_competitor_forti_enel_venditore_mercato_libero_gas, qta_max_days_scadenza_fattura_pagamento_servizio_last_3_months_canale_ALL, val_importo_addebito_x_max_ciclo_gas_last_3_months, qta_cnt_mds_specifica_disdetta_m3, qta_cnt_fln_contatti_inbound_m1, qta_cnt_microcausale_SUBENTRO_last_90_days, val_consumi_x_mean_ciclo_ele_last_6_months, qta_cnt_attivita_posta_documenti_last_3_months, val_churn_2_months, fln_criticita_infra_last_90_days, fln_venditore_mercato_libero_gas_comune_A2A, fln_sollecito_last_2_months_cli, val_importo_addebito_x_max_over_mean_ciclo_ele_last_1_months, qta_cnt_mds_specifica_other_m1, qta_cnt_microcausale_DISTACCHI_RIALLACCI_last_90_days, val_perc_Abitazioni_Vuote, qta_cnt_fln_contatti_inbound_reclamo_m9, cdc_cv_fasce_servizio, val_Negozi_Compr_Mean, qta_cnt_mds_tipologia_attivita_gestione_pagamenti_m9, qta_cnt_contatti_outbound_all_channel_m12, val_perc_Famiglie_3_Componente, val_totale_pagare_x_max_ciclo_gas_last_3_months, sds_cluster_ele, val_pop_res_totale_15_anni_e_piu_casalinghe, qta_days_since_last_inbound_contact_microcausale_INFORMATIVA, val_Cliente_con_servizio_cessato_last_3_months, qta_cnt_attivita_comunicazione_SWP_last_3_months, qta_days_since_last_inbound_contact_microcausale_INFORMATIVA_CONSUMI_PAGAMENTI, val_consumi_x_min_over_mean_ciclo_ele_last_1_months, fln_venditore_mercato_libero_ele_comune_HERA, qta_cnt_canale_DOCUMENTALE_COMPLESSO_last_90_days, qta_cnt_attivita_autoletture_last_3_months, qta_numero_fattura_count_ciclo_last_1_months, qta_days_since_last_inbound_contact_channel_DOCUMENTALE_COMPLESSO, val_consumi_x_mean_ciclo_gas_last_1_months, qta_days_since_last_inbound_contact_microcausale_RECLAMI_SCRITTI, val_mean_val_fattura_non_pagato_servizio_last_6_months_canale_ALL, cdc_causale_attivazione, qta_cnt_contatti_inbound_all_channel_m3, val_reddito_disponibile, qta_cnt_mds_specifica_other_m3, qta_cnt_microcausale_GESTIONE_VAS_last_90_days, cdc_tenure_bucket, val_totale_pagare_x_last, qta_cnt_microcausale_INFORMATIVA_NON_DI_COMPETENZA_last_90_days, qta_cnt_mail_di_sollecito_cli, qta_cnt_campagne_mktg_canale_GMC_last_3_months, val_mean_days_emissione_fattura_pagamento_servizio_last_3_months_canale_ALL, qta_cnt_mds_tipologia_attivita_gestione_documenti_m1, val_totale_pagare_x_sum_ciclo_gas_last_1_months, qta_cnt_fattura_pagata_totalmente_in_ritardo_servizio_last_6_months_canale_ALL, fln_distributore_gas_comune_A2A, qta_cnt_mds_tipologia_attivita_gestione_bolletta_m1, qta_cnt_mds_specifica_disdetta_m6, fln_multi_distributore_energia_comune, fln_multi_distributore_gas_comune, cdc_id_mercato, qta_cnt_attivita_allaccio_servizi_last_3_months, qta_cnt_comuni_serviti_distributore_energia, fln_fattura_pagata_totalmente_nei_tempi_servizio_ultima_bolletta_emessa_canale_ALL, val_mean_val_fattura_non_pagato_servizio_last_3_months_canale_ALL, val_importo_addebito_x_min_ciclo_ele_last_6_months, val_perc_Abitazioni_Residenti, val_incasso_servizio_ultima_bolletta_emessa_canale_ALL, fln_servizio_attualmente_distaccato, val_importo_addebito_x_min_ciclo_ele_last_1_months, val_consumi_x_mean_ciclo_ele_last_3_months, qta_cnt_mds_specifica_disdetta_m1, qta_cnt_microcausale_RVC_last_90_days, val_studenti, qta_cnt_attivita_richiesta_informazioni_last_3_months, val_QUOTA_LIBERO, qta_cnt_mds_tipologia_attivita_gestione_comunicazioni_m6, qta_cnt_mds_tipologia_attivita_gestione_comunicazioni_m1, qta_anzianita_servizio, mds_nome_campagna_last_response_marketing_cli, qta_cnt_macrocausale_Esecuzione_lavori_last_90_days, qta_cnt_mds_specifica_visualizzazione_area_clienti_m3, val_Turisti_totali, qta_cnt_sms_cli, val_totale_pagare_x_min_ciclo_ele_last_1_months, val_consumi_x_min_over_mean_ciclo_gas_last_6_months, fln_fattura_pagata_totalmente_in_ritardo_servizio_last_6_months_canale_ALL, fln_venditore_mercato_libero_gas_only_small, qta_giorni_ultimo_reclamo, val_paga_ritardo_max_ciclo_last_3_months, val_consumi_x_max_ciclo_gas_last_6_months, fln_fattura_pagata_non_totalmente_servizio_last_6_months_canale_ALL, qta_cnt_microcausale_INFORMATIVA_last_90_days, qta_cnt_mds_tipologia_attivita_gestione_clienti_m1, qta_cnt_cliente_accetta_proposta_last_3_months, qta_cnt_cliente_response_positiva_last_3_months, qta_cnt_microcausale_PRIMA_ATTIVAZIONE_last_90_days, qta_days_since_last_inbound_contact_microcausale_INFORMATIVA_CREDITO, qta_cnt_microcausale_INFORMATIVA_CONSUMI_PAGAMENTI_last_90_days, fln_distributore_energia_comune_HERA, fln_primo_contatto_inbound, qta_cnt_attivita_processi_richieste_suggello_recesso_voltura_last_3_months, qta_cnt_mds_specifica_other_m12, val_importo_addebito_x_max_over_mean_ciclo_gas_last_6_months, qta_cnt_mds_tipologia_attivita_gestione_clienti_m12, val_totale_pagare_x_mean_ciclo_ele_last_6_months, qta_days_since_last_inbound_contact_microcausale_PRIMA_ATTIVAZIONE, val_pop_res_totale_15_anni_e_piu_non_appartenente_alle_forze_di_lavoro_nfl, fln_venditore_mercato_libero_gas_comune_Alperia, qta_cnt_fln_contatti_inbound_m12, qta_cnt_mds_tipologia_attivita_gestione_pagamenti_m12, val_totale_pagare_x_sum_ciclo_ele_last_6_months, qta_days_since_last_inbound_contact_microcausale_GESTIONE_FORNITURA, fln_venditore_mercato_libero_ele_comune_Acea, val_Sh_ENEL_POWER, qta_cnt_mds_specifica_adesione_m9, val_totale_pagare_x_last_over_mean, fln_venditore_mercato_libero_ele_comune_ENEGAN, qta_servizi_gas, qta_cnt_mds_specifica_visualizzazione_area_clienti_m9, lds_tipo_uso, val_consumi_x_min_over_mean_ciclo_gas_last_1_months, qta_days_since_last_inbound_contact_microcausale_GESTIONE_VAS, qta_days_since_last_inbound_contact_microcausale_VOLTURA, cdc_residente, val_consumi_x_max_ciclo_gas_last_3_months, qta_paga_ritardo_ciclo_last_1_months, xds_tipologia_azione_last_response_marketing_cli, val_perc_Abitazioni_Non_Residenti, val_totale_pagare_x_max_ciclo_ele_last_3_months, qta_paga_ritardo_ciclo_last_6_months, fln_distributore_energia_comune_Alperia, val_mean_fattura_pagata_totalmente_nei_tempi_servizio_last_6_months_canale_ALL, fln_distributore_energia_comune_Acea, val_perc_Famiglie_Alloggio_Altro, qta_days_last_response_marketing_cli, fln_venditore_mercato_libero_gas_comune_ENGIE, val_paga_ritardo_mean_ciclo_last_6_months, val_Cliente_con_comunicazione_swp_storico_last_6_months, fln_distributore_gas_comune_IREN, val_importo_addebito_x_min_over_mean_ciclo_gas_last_6_months, val_totale_pagare_x_min_ciclo_gas_last_3_months, qta_cnt_mds_tipologia_attivita_gestione_bolletta_m9, val_Negozi_Loc_Mean, qta_cnt_microcausale_AUTOLETTURA_last_90_days, qta_days_since_last_inbound_contact_channel_WEB, qta_cnt_fln_contatti_inbound_guasti_m1, val_perc_Famiglie_1_Componente, val_consumi_famiglie, qta_days_since_last_inbound_contact_microcausale_SUBENTRO, val_paga_ritardo_max_ciclo_last_1_months, fln_stesso_venditore_distributore_ele_no_enel, val_mean_fattura_non_pagata_servizio_last_6_months_canale_ALL, fln_venditore_mercato_libero_gas_comune_EVOLVE_SRL, qta_cnt_mds_tipologia_attivita_gestione_notifiche_m6, qta_cnt_fln_contatti_inbound_reclamo_m12, qta_cnt_mds_tipologia_attivita_gestione_documenti_m9, qta_cnt_mds_tipologia_attivita_gestione_consumi_m6, qta_cnt_fattura_pagata_totalmente_in_ritardo_servizio_last_3_months_canale_ALL, qta_cnt_fln_contatti_inbound_guasti_m3, qta_days_since_last_inbound_contact_microcausale_SWITCH_ATTIVO, qta_cnt_attivita_contratti_last_3_months, cdn_cv2_cliente, fln_player_forte_win_back, qta_cnt_attivita_ricezione_invio_documentazione_last_3_months, qta_cnt_fattura_pagata_totalmente_nei_tempi_servizio_last_3_months_canale_ALL, val_paga_ritardo_sum_ciclo_last_6_months, qta_cnt_mds_specifica_adesione_m12, val_Sh_ENEL_GAS, val_totale_pagare_x_sum_ciclo_gas_last_3_months, fln_diffida_last_2_months_serv, qta_cnt_mds_tipologia_attivita_other_m1, qta_cnt_mds_tipologia_attivita_gestione_credito_m9, qta_cnt_mds_tipologia_attivita_gestione_comunicazioni_m12, qta_cnt_mds_tipologia_attivita_gestione_bolletta_m3, qta_cnt_macrocausale_Informativa_last_90_days, val_Residenti, qta_cnt_fln_contatti_inbound_autolet_m3, qta_cnt_campagne_mktg_canale_DEM_last_3_months, sds_regione_fornitura, qta_cnt_attivita_secondo_livello_last_3_months, qta_days_since_last_inbound_contact_macrocausale_Credito, sds_provincia_fornitura, qta_cnt_microcausale_INFORMATIVA_CREDITO_last_90_days, val_perc_Famiglie_Alloggio_Proprieta, fln_venditore_mercato_libero_gas_comune_Green_Network, qta_cnt_mds_specifica_disdetta_m9, qta_cnt_mds_tipologia_attivita_gestione_credito_m12, val_perc_Famiglie_6+_Componente, val_fattura_non_pagato_servizio_ultima_bolletta_emessa_canale_ALL, qta_cnt_cliente_con_response_marketing_utile_last_3_months, val_mean_fattura_pagata_totalmente_nei_tempi_servizio_last_3_months_canale_ALL, val_totale_istruzione_pesata, val_importo_addebito_x_max_ciclo_gas_last_1_months, qta_max_days_emissione_fattura_pagamento_servizio_last_6_months_canale_ALL, fln_distributore_gas_comune_Alperia, fln_stesso_distributore_gas_ele, cdc_stato_servizio_calc, qta_cnt_diffida_cartacea_cli, val_importo_addebito_x_last, qta_cnt_attivita_gestione_clienti_last_3_months, qta_cnt_microcausale_GESTIONE_FORNITURA_last_90_days, qta_cnt_diffida_procedura_M4_cli, qta_days_since_last_inbound_contact_microcausale_MODALITA_DI_PAGAMENTO, val_importo_addebito_x_mean_ciclo_gas_last_1_months, val_mean_days_scadenza_fattura_pagamento_servizio_last_3_months_canale_ALL, qta_cnt_mds_specifica_visualizzazione_area_clienti_m6, fln_stesso_venditore_distributore_ele, qta_days_since_last_inbound_contact_channel_FACE, qta_cnt_attivita_sollecito_last_3_months, fln_servizio_distaccato_e_riallacciato, fln_stesso_venditore_distributore_gas, val_potenza_contrattuale, qta_days_since_last_inbound_contact_microcausale_RETTIFICHE_CONSUMI_FATTURAZIONE, sds_segmento_fasce, qta_days_since_last_inbound_contact_microcausale_INFORMATIVA_NON_DI_COMPETENZA, qta_cnt_mds_specifica_visualizzazione_area_clienti_m1, val_POT_TOTALE, qta_servizi_elettrici, qta_cnt_attivita_morosita_last_3_months, val_importo_addebito_x_sum_ciclo_ele_last_3_months, qta_cnt_macrocausale_Chiarimenti_su_fatture_last_90_days, qta_indice_contattosita_ult_30gg, sds_mat_fatturazione, val_POT_TOTALE_NETTO, qta_days_since_last_inbound_contact_microcausale_DISDETTE_E_CESSAZIONI, val_importo_addebito_x_min_ciclo_gas_last_3_months, fln_scarti_trasporto_last_1_months, val_importo_addebito_x_max_over_mean_ciclo_ele_last_3_months, qta_cnt_attivita_vocal_last_3_months, val_importo_addebito_x_mean_ciclo_gas_last_6_months, qta_cnt_microcausale_REPEATED_LIST_last_90_days, val_importo_addebito_x_min_over_mean_ciclo_ele_last_1_months, qta_cnt_venditori_mercato_libero_gas_comune, qta_cnt_attivita_ripensamento_last_3_months, val_importo_addebito_x_mean_ciclo_ele_last_6_months, val_importo_addebito_x_min_over_mean_ciclo_ele_last_3_months, qta_frequenza_contatto, qta_days_since_last_inbound_contact_microcausale_MODIFICA_ANAGRAFICA_O_DATI_FORNITURA_FATTURAZIONE, sds_cluster_gas, cdc_istat, qta_cnt_attivita_modifiche_variazioni_last_3_months, val_totale_pagare_x_mean_ciclo_gas_last_6_months, qta_days_since_last_inbound_contact_microcausale_LAVORI_E_MODIFICHE_TECNICHE_POTENZA_TENSIONE, qta_cnt_fln_contatti_inbound_autolet_m6, val_perc_Altri_Tipi_Alloggio, fln_venditore_mercato_libero_ele_comune_sorgenia, qta_cnt_mds_tipologia_attivita_gestione_bolletta_m6, fln_comunicazione_rinnovo_last_1_months, qta_days_emissione_fattura_pagamento_servizio_ultima_bolletta_emessa_canale_ALL, val_Cliente_con_comunicazione_swp_storico_last_1_months, qta_cnt_fattura_pagata_non_totalmente_servizio_last_3_months_canale_ALL, val_totale_pagare_x_min_over_mean_ciclo_ele_last_3_months, val_mean_days_scadenza_fattura_pagamento_servizio_last_6_months_canale_ALL, fln_distributore_energia_comune_Dolomiti_Energia, fln_venditore_mercato_libero_ele_comune_A2A, qta_cnt_mds_specifica_visualizzazione_area_clienti_m12, val_totale_pagare_x_max_over_mean_ciclo_gas_last_3_months, qta_cnt_attivita_vas_last_3_months, qta_cnt_competitor_forti_enel_venditore_mercato_libero_ele, fln_distributore_gas_comune_HERA, qta_cnt_fln_contatti_inbound_guasti_m12, qta_cnt_fattura_non_pagata_servizio_last_6_months_canale_ALL, fln_player_forte, qta_cnt_attivita_bye_bye_letter_last_3_months, qta_cnt_contatti_outbound_all_channel_m3, qta_cnt_microcausale_MODALITA_DI_PAGAMENTO_last_90_days, fln_venditore_mercato_libero_ele_enel, val_fascia_stress, val_mean_fattura_pagata_totalmente_in_ritardo_servizio_last_3_months_canale_ALL, val_totale_pagare_x_min_ciclo_ele_last_6_months, qta_cnt_mds_tipologia_attivita_gestione_clienti_m6, qta_cnt_microcausale_MODIFICA_ANAGRAFICA_O_DATI_FORNITURA_FATTURAZIONE_last_90_days, val_Altitudine_del_centro, val_importo_addebito_x_max_over_mean_ciclo_gas_last_3_months, val_consumi_x_sum_ciclo_ele_last_3_months, val_importo_addebito_x_min_over_mean_ciclo_gas_last_1_months, qta_cnt_mds_tipologia_attivita_gestione_pagamenti_m6, val_consumi_x_mean_ciclo_gas_last_3_months, qta_cnt_mds_tipologia_attivita_gestione_clienti_m9, xds_canale_last_response_marketing_cli, qta_cnt_contatti_inbound_all_channel_m6, val_rimborsi_mean_ciclo_last_3_months, lds_societa_vendita, qta_cnt_microcausale_ALLACCIO_E_ATTIVAZIONE_last_90_days, cdc_pdr, val_paga_ritardo_mean_ciclo_last_3_months, fln_comunicazione_rinnovo_last_1_months_sottocanale_CARTACEO, qta_cnt_attivita_sito_web_chat_last_3_months, val_Cliente_con_servizio_cessato_last_6_months, qta_cnt_canale_CHAT_last_90_days, fln_venditore_mercato_libero_ele_comune_EOn, fln_venditore_mercato_libero_ele_comune_Alperia, val_t0_month, qta_cnt_mds_tipologia_attivita_gestione_notifiche_m12, val_totale_pagare_x_max_ciclo_gas_last_6_months, qta_cnt_diffida_procedura_M3_cli, fln_comunicazione_rinnovo_last_1_months_sottocanale_PEC, qta_cnt_macrocausale_Problemi_in_fase_di_attivazione_last_90_days, qta_cnt_contatti_outbound_all_channel_m9, fln_distributore_energia_enel, val_importo_addebito_x_sum_ciclo_gas_last_6_months, fln_riallaccio_last_2_months, fln_bolletta_web_attiva, qta_cnt_fattura_non_pagata_servizio_last_3_months_canale_ALL, val_t0_year, qta_days_since_last_inbound_contact_macrocausale_Esecuzione_lavori, fln_sollecito_last_2_months_serv, qta_max_days_scadenza_fattura_pagamento_servizio_last_6_months_canale_ALL, fln_distributore_energia_comune_ASTEA_SPA, qta_cnt_mds_tipologia_attivita_gestione_documenti_m6, fln_venditore_mercato_libero_ele_comune_EDISON, qta_cnt_fln_contatti_inbound_reclamo_m3, val_POT_POWER_NETTO, qta_max_days_emissione_fattura_pagamento_servizio_last_3_months_canale_ALL, fln_distributore_energia_comune_A2A, qta_days_since_last_inbound_contact_channel_DOCUMENTALE, qta_cnt_contatti_inbound_totali_last_90_days, qta_cnt_mds_tipologia_attivita_gestione_notifiche_m9, val_QUOTA_TUTELATO, qta_giorni_ultimo_contatto_outbound, val_mean_fattura_pagata_non_totalmente_servizio_last_3_months_canale_ALL, qta_cnt_mds_tipologia_attivita_gestione_credito_m1, val_importo_addebito_x_mean_ciclo_ele_last_3_months, qta_cnt_mds_tipologia_attivita_gestione_pagamenti_m3, qta_days_since_last_inbound_contact_microcausale_RIMBORSO_COMPENSAZIONE, qta_cnt_contatti_inbound_all_channel_m12, qta_cnt_attivita_delibera_147_last_3_months, val_mean_fattura_non_pagata_servizio_last_3_months_canale_ALL, val_consumi_x_min_over_mean_ciclo_ele_last_6_months, qta_days_since_last_inbound_contact_channel_TELEFONICO, qta_cnt_microcausale_RECLAMI_SCRITTI_last_90_days, fln_cliente_response_competitor_last_3_months, qta_cnt_reclami_last_month, qta_days_since_last_inbound_contact_channel_APP, qta_cnt_diffida_cartacea_serv, fln_venditore_mercato_libero_ele_comune_ENI, qta_cnt_fln_contatti_inbound_guasti_m6, qta_cnt_mds_tipologia_attivita_other_m6, mds_canale_acquisizione, qta_cnt_sollecito_procedura_M2_cli, sds_provincia, qta_giorni_ultimo_contatto_inbound, qta_cnt_microcausale_RIPENSAMENTO_O_DISCONOSCIMENTO_last_90_days, qta_cnt_venditori_mercato_libero_ele_comune, val_totale_pagare_x_max_ciclo_ele_last_1_months, sds_regione_fatturazione, qta_days_since_last_inbound_contact_microcausale_VERIFICHE_TECNICHE, fln_scarti_sap_sd_last_1_months, qta_days_since_last_inbound_contact_microcausale_RIPENSAMENTO_O_DISCONOSCIMENTO, qta_cnt_mds_specifica_other_m6, fln_cliente_accetta_proposta_last_3_months, qta_cnt_distacchi_last_2_months, val_importo_addebito_x_sum_ciclo_gas_last_3_months, val_importo_addebito_x_min_over_mean_ciclo_ele_last_6_months, qta_cnt_attivita_analisi_fatturato_situazione_contabile_last_3_months, cdc_Zona_altimetrica, val_consumi_x_min_ciclo_ele_last_6_months, val_consumi_x_max_ciclo_gas_last_1_months, idn_sito_sk, cdn_cv2_servizio, fln_venditore_mercato_libero_gas_comune_IREN, qta_cnt_microcausale_GESTIONE_PRIVACY_last_90_days, qta_days_since_last_inbound_contact_microcausale_AUTOLETTURA, qta_cnt_mds_tipologia_attivita_gestione_documenti_m3, qta_days_since_last_inbound_contact_microcausale_ALLACCIO_E_ATTIVAZIONE, val_totale_pagare_x_sum_ciclo_gas_last_6_months, val_paga_ritardo_sum_ciclo_last_3_months, qta_cnt_sollecito_cartaceo_cli, cdc_bolletta_web, val_consumi_x_max_over_mean_ciclo_gas_last_6_months, qta_cnt_macrocausale_Credito_last_90_days, fln_dual, val_totale_pagare_x_mean_ciclo_ele_last_1_months, qta_cnt_mds_specifica_adesione_m3, qta_days_since_last_inbound_contact_microcausale_DISTACCHI_RIALLACCI, qta_cnt_distributori_gas_comune, fln_venditore_mercato_libero_gas_comune_ENEL, qta_cnt_attivita_indennizzo_last_3_months, fln_venditore_mercato_libero_ele_comune_Axpo_Group, val_paga_ritardo_max_ciclo_last_6_months, fln_venditore_mercato_libero_gas_comune_Axpo_Group, val_totale_pagare_x_min_ciclo_gas_last_1_months, val_totale_pagare_x_max_over_mean_ciclo_ele_last_6_months, fln_venditore_mercato_libero_gas_comune_METANO_NORD_SPA, val_totale_pagare_x_min_ciclo_ele_last_3_months, qta_cnt_attivita_bolletta_fatturazione_last_3_months, val_max_val_fattura_non_pagato_servizio_last_6_months_canale_ALL, fln_distributore_energia_comune_IREN, val_delta_prezzo_percentuale_gas_last_1_months, fln_distributore_gas_comune_municipalizzata, val_totale_pagare_x_min_ciclo_gas_last_6_months, val_importo_addebito_x_min_over_mean_ciclo_gas_last_3_months, val_consumi_x_sum_ciclo_gas_last_6_months, qta_cnt_contatti_outbound_all_channel_m6, fln_venditore_mercato_libero_gas_comune_Dolomiti_Energia, qta_days_incasso_fattura_today_servizio_ultima_bolletta_emessa_canale_ALL, qta_cnt_contatti_inbound_all_channel_m1, qta_cnt_mds_tipologia_attivita_other_m3, idn_cliente_sk, val_mean_fattura_pagata_non_totalmente_servizio_last_6_months_canale_ALL, fln_distributore_energia_comune_ENEL, qta_cnt_mds_tipologia_attivita_gestione_documenti_m12, val_totale_pagare_x_max_over_mean_ciclo_gas_last_6_months, qta_cnt_mds_tipologia_attivita_gestione_consumi_m9, val_totale_pagare_x_sum_ciclo_ele_last_1_months, cdc_tenure_bucket_cliente, qta_cnt_microcausale_RIMBORSO_COMPENSAZIONE_last_90_days, val_importo_addebito_x_min_ciclo_ele_last_3_months, fln_Comune_litoraneo, fln_fattura_pagata_totalmente_nei_tempi_servizio_last_6_months_canale_ALL, qta_cnt_microcausale_RETTIFICHE_CONSUMI_FATTURAZIONE_last_90_days, mds_comune, qta_cnt_contatti_inbound_all_channel_m9, fln_venditore_mercato_libero_gas_comune_BURGO_GROUP, fln_distacco_last_2_months, qta_cnt_canale_DOCUMENTALE_last_90_days, qta_cnt_fln_chiamate_inbound_m12, qta_cnt_diffida_procedura_M1_cli, sds_mat, val_consumi_x_sum_ciclo_ele_last_1_months, qta_cnt_microcausale_SWITCH_ATTIVO_last_90_days, qta_cnt_fln_contatti_inbound_autolet_m1, fln_diffida_last_2_months_cli, sds_commodity];;\\n'Project ['cdc_power_gas, val_churn_2_months#23457]\\n+- Relation[idn_cliente_sk#23311L,cdc_stato_servizio_calc#23312,idn_sito_sk#23313L,lds_prodotto_listino_2#23314,cdc_pdr#23315,sds_commodity#23316,mds_canale_acquisizione#23317,cdc_cap_nrm#23318,lds_tipo_uso#23319,qta_eta_nrm#23320,cdc_residente#23321,qta_indice_contattosita_ult_30gg#23322,val_fascia_stress#23323,mds_tipologia_pagamento#23324,cdc_id_mercato#23325,sds_provincia_fatturazione#23326,sds_provincia_fornitura#23327,sds_regione_fornitura#23328,sds_regione_fatturazione#23329,sds_mat_fatturazione#23330,sds_mat_fornitura#23331,sds_provincia#23332,sds_regione#23333,sds_mat#23334,... 625 more fields] parquet\\n\""
     ]
    }
   ],
   "source": [
    "for column in tqdm(categorical_features):\n",
    "    df = input_data_supervised.select(column, 'val_churn_2_months')\n",
    "    contingency_table = df.stat.crosstab(column, 'val_churn_2_months')\n",
    "    # Drop the first column and convert the spark df into a pandas df\n",
    "    contingency_df = contingency_table.drop(column+'_val_churn_2_months')\n",
    "    contingency_pd_df = contingency_df.toPandas()\n",
    "    # Perform the Chi square test\n",
    "    significance_level = 0.05\n",
    "    independenceTestResult = chi_square_test(alpha = significance_level, contingency_pandas_df = contingency_pd_df)\n",
    "    print(column + ' vs val_churn_2_months')\n",
    "    print(independenceTestResult)"
   ]
  },
  {
   "cell_type": "markdown",
   "metadata": {},
   "source": [
    "The only variable with p value greater than alpha (0.05) is sds_commodity. this paticular p value shows that there is enough evidence to support that sds_commodity and val_churn_2_months are indipendent. thus sds_commodity can be dropped. "
   ]
  },
  {
   "cell_type": "code",
   "execution_count": 22,
   "metadata": {},
   "outputs": [],
   "source": [
    "input_data_supervised = input_data_supervised.drop('sds_commodity')"
   ]
  },
  {
   "cell_type": "code",
   "execution_count": 23,
   "metadata": {},
   "outputs": [],
   "source": [
    "input_data_supervised.write.parquet(\"/bda/anx_adv_achurn/durand/t_bda_anx_dt_ach_b2b_master_table_train_test_supervised_fs_step1\")"
   ]
  }
 ],
 "metadata": {
  "kernelspec": {
   "display_name": "Python 3",
   "language": "python",
   "name": "python3"
  },
  "language_info": {
   "codemirror_mode": {
    "name": "ipython",
    "version": 3
   },
   "file_extension": ".py",
   "mimetype": "text/x-python",
   "name": "python",
   "nbconvert_exporter": "python",
   "pygments_lexer": "ipython3",
   "version": "3.7.7"
  }
 },
 "nbformat": 4,
 "nbformat_minor": 2
}
