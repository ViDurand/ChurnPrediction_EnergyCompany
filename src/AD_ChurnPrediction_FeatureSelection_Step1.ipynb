{
 "cells": [
  {
   "cell_type": "code",
   "execution_count": 1,
   "metadata": {},
   "outputs": [
    {
     "data": {
      "text/html": [
       "<style>.container { width:80% !important; }</style>"
      ],
      "text/plain": [
       "<IPython.core.display.HTML object>"
      ]
     },
     "metadata": {},
     "output_type": "display_data"
    }
   ],
   "source": [
    "from IPython.core.display import display, HTML\n",
    "display(HTML(\"<style>.container { width:80% !important; }</style>\"))\n",
    "python3 = True"
   ]
  },
  {
   "cell_type": "markdown",
   "metadata": {},
   "source": [
    "# 0- Intruduction: usefull actions"
   ]
  },
  {
   "cell_type": "markdown",
   "metadata": {},
   "source": [
    "The goal of this work is to build model able to predict probability for a client to leave ENEL (Churn)"
   ]
  },
  {
   "cell_type": "markdown",
   "metadata": {},
   "source": [
    "## 0.1- Import of useful packages and modules"
   ]
  },
  {
   "cell_type": "code",
   "execution_count": 2,
   "metadata": {},
   "outputs": [],
   "source": [
    "import pandas as pd, os, sys\n",
    "pd.set_option('max_colwidth', None)\n",
    "import numpy as np\n",
    "from tqdm import tqdm\n",
    "import numbers\n",
    "import subprocess\n",
    "from scipy.stats import chi2_contingency\n",
    "from scipy.stats.stats import pearsonr\n",
    "from scipy.stats.stats import spearmanr"
   ]
  },
  {
   "cell_type": "markdown",
   "metadata": {},
   "source": [
    "## 0.2- Environment variables setting"
   ]
  },
  {
   "cell_type": "code",
   "execution_count": 3,
   "metadata": {},
   "outputs": [],
   "source": [
    "# Setting environment variables\n",
    "sys.path.insert(0, os.environ[\"PYLIB\"] + \"/py4j-0.10.7-src.zip\")\n",
    "sys.path.insert(0, os.environ[\"PYLIB\"] + \"/pyspark.zip\")\n",
    "if python3: os.environ['PYSPARK_PYTHON'] = \"vsb/CI_conda_env_py3/bin/python\""
   ]
  },
  {
   "cell_type": "markdown",
   "metadata": {
    "collapsed": true
   },
   "source": [
    "## 0.2- Spark configuration "
   ]
  },
  {
   "cell_type": "code",
   "execution_count": 4,
   "metadata": {},
   "outputs": [],
   "source": [
    "# Importing the Spark Configurator and the Spark Session builder\n",
    "from pyspark import SparkConf\n",
    "from pyspark.sql import SparkSession\n",
    "import pyspark.sql.functions as F\n",
    "import pyspark.sql.types as types\n",
    "from pyspark.mllib.stat import Statistics\n",
    "\n",
    "# Stopping the current session if exists\n",
    "try:\n",
    "    session.stop()\n",
    "except:\n",
    "    pass\n",
    "   \n",
    "# Setting up the spark configurator  \n",
    "conf = SparkConf()\n",
    "conf.set('spark.serializer', \"org.apache.spark.serializer.KryoSerializer\")       \n",
    "conf.set('spark.executor.memory', '8g')\n",
    "conf.set('spark.driver.memory', '8g')\n",
    "conf.set('spark.executor.cores', '3')\n",
    "conf.set('spark.driver.cores', '3')\n",
    "conf.set('spark.dynamicAllocation.enabled', 'true')\n",
    "conf.set('spark.dynamicAllocation.minExecutors', '4')\n",
    "conf.set('spark.dynamicAllocation.maxExecutors', '12')\n",
    "conf.set('spark.executor.memoryOverhead', '8096')\n",
    "conf.set('spark.driver.memoryOverhead', '8096')\n",
    "conf.set('spark.driver.maxResultSize', '20g')\n",
    "conf.set('spark.kryoserializer.buffer.max', '2047')\n",
    "conf.setAppName('DA_Feature_Selection_Step1')\n",
    "if python3: conf.set(\"spark.yarn.dist.archives\", \"/home/anxadvuser/anx_adv_achurn/env_conda_py3.zip#vsb\")\n",
    "else: conf.set(\"spark.yarn.dist.archives\", \"/home/anxadvuser/anx_adv_achurn/env_conda_py2.zip#vsb\")\n",
    "\n",
    "# Creating the spark session object\n",
    "session = SparkSession.builder.config(conf=conf).enableHiveSupport().getOrCreate()"
   ]
  },
  {
   "cell_type": "markdown",
   "metadata": {},
   "source": [
    "# 1- Feature Engineering"
   ]
  },
  {
   "cell_type": "markdown",
   "metadata": {},
   "source": [
    "The first step in the process to build our churn prediction model was feature engineering. In this step we created/merged the data to be used in the modeling step. The following steps were used in the feature Engineering process:\n",
    "        - Initial timestamps t0 have been choosen. in our case they are 15: \n",
    "            -> 2019-01-01, \n",
    "            -> 2019-02-01, \n",
    "            -> 2019-03-01, \n",
    "            -> 2019-04-01,\n",
    "            -> 2019-05-01, \n",
    "            -> 2019-06-01, \n",
    "            -> 2019-07-01, \n",
    "            -> 2019-08-01,\n",
    "            -> 2019-09-01,\n",
    "            -> 2019-10-01, \n",
    "            -> 2019-11-01, \n",
    "            -> 2019-12-01, \n",
    "            -> 2020-01-01, \n",
    "            -> 2020-02-01, \n",
    "            -> 2020-03-01\n",
    "     - A picture of the data has been taken at each instant t0.\n",
    "     - And finally, 767 features have been computed for each t0 using the data pictures\n",
    "     - We can immagine the feature computation step as an aggregator merging data from several ENEL systems (\"Fatturato\", \"CBA\", \"CRM\", ...)"
   ]
  },
  {
   "cell_type": "markdown",
   "metadata": {},
   "source": [
    "# 2- Data exploration"
   ]
  },
  {
   "cell_type": "markdown",
   "metadata": {},
   "source": [
    "## 2.1- Viewing the data"
   ]
  },
  {
   "cell_type": "markdown",
   "metadata": {
    "collapsed": true
   },
   "source": [
    "Reading the data from the hdfs"
   ]
  },
  {
   "cell_type": "code",
   "execution_count": 27,
   "metadata": {},
   "outputs": [],
   "source": [
    "df = session.read.parquet(\"/bda/anx_adv_achurn/t_bda_anx_dt_ach_b2b_master_table_train_20200918\").cache()\n",
    "input_data_small_medium = df.filter(\"sds_segmento_new in ('SMALL', 'MEDIUM')\").cache()\n",
    "input_data_micro = df.filter(\"sds_segmento_new in ('MICRO')\").cache()"
   ]
  },
  {
   "cell_type": "markdown",
   "metadata": {},
   "source": [
    "Data can be splitted in two different group based on the type of the client (SMALL/MEDIUM or MICRO). in fact it is more important to identify a churning client of type SMALL/MEDIUM than that of type MICRO, since they have higher value for the company. that is why are wil devellop two different models.\n",
    "\n",
    "Now let's have a look at the features and the corresponding data types:"
   ]
  },
  {
   "cell_type": "code",
   "execution_count": 9,
   "metadata": {},
   "outputs": [
    {
     "name": "stdout",
     "output_type": "stream",
     "text": [
      "root\n",
      " |-- idn_servizio_sk: long (nullable = true)\n",
      " |-- idn_cliente_sk: long (nullable = true)\n",
      " |-- cdc_stato_servizio_calc: string (nullable = true)\n",
      " |-- fk_cliente_unico: long (nullable = true)\n",
      " |-- idc_id_key_servizio: string (nullable = true)\n",
      " |-- idn_sito_sk: long (nullable = true)\n",
      " |-- lds_prodotto_listino_2: string (nullable = true)\n",
      " |-- sds_segmento_new: string (nullable = true)\n",
      " |-- idc_id_key_cliente: string (nullable = true)\n",
      " |-- lds_nome_listino: string (nullable = true)\n",
      " |-- lds_macro_prodotto: string (nullable = true)\n",
      " |-- idc_id_key_contratto: string (nullable = true)\n",
      " |-- idn_contratto_sk: long (nullable = true)\n",
      " |-- cdc_pdr: string (nullable = true)\n",
      " |-- dta_creazione_att_swp: timestamp (nullable = true)\n",
      " |-- sds_commodity: string (nullable = true)\n",
      " |-- mds_canale_acquisizione: string (nullable = true)\n",
      " |-- cdc_rid: string (nullable = true)\n",
      " |-- cdc_cap_nrm: string (nullable = true)\n",
      " |-- lds_categoria_prodotto: string (nullable = true)\n",
      " |-- lds_tipo_uso: string (nullable = true)\n",
      " |-- sds_macro_categoria_ateco: string (nullable = true)\n",
      " |-- sds_categoria_ateco_intermedia: string (nullable = true)\n",
      " |-- qta_eta_nrm: integer (nullable = true)\n",
      " |-- cdc_residente: string (nullable = true)\n",
      " |-- qta_indice_stress_comm_ult_30gg: integer (nullable = true)\n",
      " |-- qta_indice_contattosita_ult_30gg: integer (nullable = true)\n",
      " |-- val_fascia_stress: double (nullable = true)\n",
      " |-- val_fascia_contattosita: double (nullable = true)\n",
      " |-- mds_tipologia_pagamento: string (nullable = true)\n",
      " |-- cdc_id_mercato: string (nullable = true)\n",
      " |-- lds_nazione_nascita: string (nullable = true)\n",
      " |-- sds_provincia_fatturazione: string (nullable = true)\n",
      " |-- sds_provincia_fornitura: string (nullable = true)\n",
      " |-- sds_regione_fornitura: string (nullable = true)\n",
      " |-- sds_regione_fatturazione: string (nullable = true)\n",
      " |-- sds_mat_fatturazione: string (nullable = true)\n",
      " |-- sds_mat_fornitura: string (nullable = true)\n",
      " |-- sds_provincia: string (nullable = true)\n",
      " |-- sds_regione: string (nullable = true)\n",
      " |-- sds_mat: string (nullable = true)\n",
      " |-- flc_sesso_nrm: string (nullable = true)\n",
      " |-- val_paga_ritardo_max_ciclo_last_6_months: double (nullable = true)\n",
      " |-- val_paga_ritardo_mean_ciclo_last_6_months: double (nullable = true)\n",
      " |-- val_paga_ritardo_min_ciclo_last_6_months: double (nullable = true)\n",
      " |-- val_paga_ritardo_sum_ciclo_last_6_months: double (nullable = true)\n",
      " |-- qta_paga_ritardo_ciclo_last_6_months: integer (nullable = true)\n",
      " |-- val_paga_ritardo_max_ciclo_last_3_months: double (nullable = true)\n",
      " |-- val_paga_ritardo_mean_ciclo_last_3_months: double (nullable = true)\n",
      " |-- val_paga_ritardo_min_ciclo_last_3_months: double (nullable = true)\n",
      " |-- val_paga_ritardo_sum_ciclo_last_3_months: double (nullable = true)\n",
      " |-- qta_paga_ritardo_ciclo_last_3_months: integer (nullable = true)\n",
      " |-- val_paga_ritardo_max_ciclo_last_1_months: double (nullable = true)\n",
      " |-- val_paga_ritardo_mean_ciclo_last_1_months: double (nullable = true)\n",
      " |-- val_paga_ritardo_min_ciclo_last_1_months: double (nullable = true)\n",
      " |-- val_paga_ritardo_sum_ciclo_last_1_months: double (nullable = true)\n",
      " |-- qta_paga_ritardo_ciclo_last_1_months: integer (nullable = true)\n",
      " |-- lds_societa_vendita: string (nullable = true)\n",
      " |-- fln_player_forte: byte (nullable = true)\n",
      " |-- cdc_win_back_m3: string (nullable = true)\n",
      " |-- fln_player_forte_win_back: byte (nullable = true)\n",
      " |-- mds_sottocanale: string (nullable = true)\n",
      " |-- flc_vas: string (nullable = true)\n",
      " |-- qta_cnt_mds_tipologia_attivita_gestione_pagamenti_m1: integer (nullable = true)\n",
      " |-- qta_cnt_mds_tipologia_attivita_gestione_pagamenti_m3: integer (nullable = true)\n",
      " |-- qta_cnt_mds_tipologia_attivita_gestione_pagamenti_m6: integer (nullable = true)\n",
      " |-- qta_cnt_mds_tipologia_attivita_gestione_pagamenti_m9: integer (nullable = true)\n",
      " |-- qta_cnt_mds_tipologia_attivita_gestione_pagamenti_m12: integer (nullable = true)\n",
      " |-- val_churn: double (nullable = true)\n",
      " |-- val_churn_3_months: double (nullable = true)\n",
      " |-- val_comunicazione_swp_1_month: double (nullable = true)\n",
      " |-- val_comunicazione_swp_2_months: double (nullable = true)\n",
      " |-- val_comunicazione_swp_3_months: double (nullable = true)\n",
      " |-- qta_anzianita_servizio: integer (nullable = true)\n",
      " |-- fln_prima_meta: byte (nullable = true)\n",
      " |-- fln_rischio_Baby_Churn: byte (nullable = true)\n",
      " |-- fln_rischio_Pre_Rinnovo: byte (nullable = true)\n",
      " |-- val_perc_Abitazioni_Residenti: double (nullable = true)\n",
      " |-- val_perc_Abitazioni_Vuote: double (nullable = true)\n",
      " |-- val_perc_Altri_Tipi_Alloggio: double (nullable = true)\n",
      " |-- val_perc_Abitazioni_Non_Residenti: double (nullable = true)\n",
      " |-- val_perc_Famiglie_Alloggio_Affitto: double (nullable = true)\n",
      " |-- val_perc_Famiglie_Alloggio_Proprieta: double (nullable = true)\n",
      " |-- val_perc_Famiglie_Alloggio_Altro: double (nullable = true)\n",
      " |-- val_perc_Famiglie_1_Componente: double (nullable = true)\n",
      " |-- val_perc_Famiglie_2_Componente: double (nullable = true)\n",
      " |-- val_perc_Famiglie_3_Componente: double (nullable = true)\n",
      " |-- val_perc_Famiglie_4_Componente: double (nullable = true)\n",
      " |-- val_perc_Famiglie_5_Componente: double (nullable = true)\n",
      " |-- val_perc_Famiglie_6+_Componente: double (nullable = true)\n",
      " |-- val_pop_res_totale: double (nullable = true)\n",
      " |-- val_pop_res_totale_15_anni_e_piu_casalinghe: double (nullable = true)\n",
      " |-- val_reddito_disponibile: double (nullable = true)\n",
      " |-- val_consumi_famiglie: double (nullable = true)\n",
      " |-- val_pop_res_totale_15_anni_e_piu_non_appartenente_alle_forze_di_lavoro_nfl: double (nullable = true)\n",
      " |-- val_studenti: double (nullable = true)\n",
      " |-- val_pop_res_totale_che_si_sposta_giornalmente_nel_comune_dimora_abituale: double (nullable = true)\n",
      " |-- val_pop_res_totale_che_si_sposta_giornalmente_fuori_dal_comune_dimora_abituale: double (nullable = true)\n",
      " |-- val_totale_istruzione_pesata: double (nullable = true)\n",
      " |-- mds_comune: string (nullable = true)\n",
      " |-- mds_provincia: string (nullable = true)\n",
      " |-- mds_land_type: string (nullable = true)\n",
      " |-- cdc_cd_censimento: string (nullable = true)\n",
      " |-- cdc_istat: string (nullable = true)\n",
      " |-- cdc_Codice_Regione: string (nullable = true)\n",
      " |-- cdc_Zona_altimetrica: string (nullable = true)\n",
      " |-- val_Altitudine_del_centro: double (nullable = true)\n",
      " |-- fln_Comune_litoraneo: byte (nullable = true)\n",
      " |-- cdc_Comune_Montano: string (nullable = true)\n",
      " |-- val_Superficie_territoriale: double (nullable = true)\n",
      " |-- qta_Grado_di_urbanizzazione: integer (nullable = true)\n",
      " |-- sds_cluster_ele: string (nullable = true)\n",
      " |-- sds_cluster_gas: string (nullable = true)\n",
      " |-- sds_segmento_fasce: string (nullable = true)\n",
      " |-- qta_giorni_ultimo_contatto_inbound: integer (nullable = true)\n",
      " |-- qta_giorni_ultimo_contatto_outbound: integer (nullable = true)\n",
      " |-- qta_giorni_ultimo_reclamo: integer (nullable = true)\n",
      " |-- mds_canale_acqu_fornitura: string (nullable = true)\n",
      " |-- lds_categoria_uso: string (nullable = true)\n",
      " |-- cdc_causale_attivazione: string (nullable = true)\n",
      " |-- qta_numero_fattura_count_ciclo_last_1_months: integer (nullable = true)\n",
      " |-- qta_numero_fattura_count_ciclo_last_3_months: integer (nullable = true)\n",
      " |-- qta_numero_fattura_count_ciclo_last_6_months: integer (nullable = true)\n",
      " |-- qta_numero_fattura_count_ciclo_last_9_months: integer (nullable = true)\n",
      " |-- qta_numero_fattura_count_ciclo_last_12_months: integer (nullable = true)\n",
      " |-- qta_cnt_mds_specifica_adesione_m1: integer (nullable = true)\n",
      " |-- qta_cnt_mds_specifica_adesione_m3: integer (nullable = true)\n",
      " |-- qta_cnt_mds_specifica_adesione_m6: integer (nullable = true)\n",
      " |-- qta_cnt_mds_specifica_adesione_m9: integer (nullable = true)\n",
      " |-- qta_cnt_mds_specifica_adesione_m12: integer (nullable = true)\n",
      " |-- qta_cnt_mds_specifica_disdetta_m1: integer (nullable = true)\n",
      " |-- qta_cnt_mds_specifica_disdetta_m3: integer (nullable = true)\n",
      " |-- qta_cnt_mds_specifica_disdetta_m6: integer (nullable = true)\n",
      " |-- qta_cnt_mds_specifica_disdetta_m9: integer (nullable = true)\n",
      " |-- qta_cnt_mds_specifica_disdetta_m12: integer (nullable = true)\n",
      " |-- qta_cnt_mds_specifica_other_m1: integer (nullable = true)\n",
      " |-- qta_cnt_mds_specifica_other_m3: integer (nullable = true)\n",
      " |-- qta_cnt_mds_specifica_other_m6: integer (nullable = true)\n",
      " |-- qta_cnt_mds_specifica_other_m9: integer (nullable = true)\n",
      " |-- qta_cnt_mds_specifica_other_m12: integer (nullable = true)\n",
      " |-- qta_cnt_mds_specifica_visualizzazione_area_clienti_m1: integer (nullable = true)\n",
      " |-- qta_cnt_mds_specifica_visualizzazione_area_clienti_m3: integer (nullable = true)\n",
      " |-- qta_cnt_mds_specifica_visualizzazione_area_clienti_m6: integer (nullable = true)\n",
      " |-- qta_cnt_mds_specifica_visualizzazione_area_clienti_m9: integer (nullable = true)\n",
      " |-- qta_cnt_mds_specifica_visualizzazione_area_clienti_m12: integer (nullable = true)\n",
      " |-- qta_cnt_mds_tipologia_attivita_gestione_clienti_m1: integer (nullable = true)\n",
      " |-- qta_cnt_mds_tipologia_attivita_gestione_clienti_m3: integer (nullable = true)\n",
      " |-- qta_cnt_mds_tipologia_attivita_gestione_clienti_m6: integer (nullable = true)\n",
      " |-- qta_cnt_mds_tipologia_attivita_gestione_clienti_m9: integer (nullable = true)\n",
      " |-- qta_cnt_mds_tipologia_attivita_gestione_clienti_m12: integer (nullable = true)\n",
      " |-- qta_cnt_mds_tipologia_attivita_gestione_consumi_m1: integer (nullable = true)\n",
      " |-- qta_cnt_mds_tipologia_attivita_gestione_consumi_m3: integer (nullable = true)\n",
      " |-- qta_cnt_mds_tipologia_attivita_gestione_consumi_m6: integer (nullable = true)\n",
      " |-- qta_cnt_mds_tipologia_attivita_gestione_consumi_m9: integer (nullable = true)\n",
      " |-- qta_cnt_mds_tipologia_attivita_gestione_consumi_m12: integer (nullable = true)\n",
      " |-- qta_cnt_mds_tipologia_attivita_other_m1: integer (nullable = true)\n",
      " |-- qta_cnt_mds_tipologia_attivita_other_m3: integer (nullable = true)\n",
      " |-- qta_cnt_mds_tipologia_attivita_other_m6: integer (nullable = true)\n",
      " |-- qta_cnt_mds_tipologia_attivita_other_m9: integer (nullable = true)\n",
      " |-- qta_cnt_mds_tipologia_attivita_other_m12: integer (nullable = true)\n",
      " |-- cdc_commodity_attive: string (nullable = true)\n",
      " |-- qta_cnt_mds_tipologia_attivita_gestione_bolletta_m1: integer (nullable = true)\n",
      " |-- qta_cnt_mds_tipologia_attivita_gestione_bolletta_m3: integer (nullable = true)\n",
      " |-- qta_cnt_mds_tipologia_attivita_gestione_bolletta_m6: integer (nullable = true)\n",
      " |-- qta_cnt_mds_tipologia_attivita_gestione_bolletta_m9: integer (nullable = true)\n",
      " |-- qta_cnt_mds_tipologia_attivita_gestione_bolletta_m12: integer (nullable = true)\n",
      " |-- qta_cnt_mds_tipologia_attivita_gestione_documenti_m1: integer (nullable = true)\n",
      " |-- qta_cnt_mds_tipologia_attivita_gestione_documenti_m3: integer (nullable = true)\n",
      " |-- qta_cnt_mds_tipologia_attivita_gestione_documenti_m6: integer (nullable = true)\n",
      " |-- qta_cnt_mds_tipologia_attivita_gestione_documenti_m9: integer (nullable = true)\n",
      " |-- qta_cnt_mds_tipologia_attivita_gestione_documenti_m12: integer (nullable = true)\n",
      " |-- qta_cnt_mds_tipologia_attivita_gestione_comunicazioni_m1: integer (nullable = true)\n",
      " |-- qta_cnt_mds_tipologia_attivita_gestione_comunicazioni_m3: integer (nullable = true)\n",
      " |-- qta_cnt_mds_tipologia_attivita_gestione_comunicazioni_m6: integer (nullable = true)\n",
      " |-- qta_cnt_mds_tipologia_attivita_gestione_comunicazioni_m9: integer (nullable = true)\n",
      " |-- qta_cnt_mds_tipologia_attivita_gestione_comunicazioni_m12: integer (nullable = true)\n",
      " |-- val_churn_2_months: double (nullable = true)\n",
      " |-- lds_comune_fornitura: string (nullable = true)\n",
      " |-- cdc_bolletta_web: string (nullable = true)\n",
      " |-- cdc_cluster_fattura_last: string (nullable = true)\n",
      " |-- fln_primo_contatto_inbound: byte (nullable = true)\n",
      " |-- cdc_canale_criticita_infra_last_90_days: string (nullable = true)\n",
      " |-- fln_criticita_infra_last_90_days: byte (nullable = true)\n",
      " |-- cdc_motivazione_criticita_infra_last_90_days: string (nullable = true)\n",
      " |-- fln_criticita_cross_last_90_days: byte (nullable = true)\n",
      " |-- cdc_motivazione_criticita_cross_last_90_days: string (nullable = true)\n",
      " |-- qta_days_since_last_inbound_contact: integer (nullable = true)\n",
      " |-- qta_days_since_last_inbound_contact_channel_APP: integer (nullable = true)\n",
      " |-- qta_days_since_last_inbound_contact_channel_FACE: integer (nullable = true)\n",
      " |-- qta_days_since_last_inbound_contact_channel_TELEFONICO: integer (nullable = true)\n",
      " |-- qta_days_since_last_inbound_contact_channel_DOCUMENTALE_COMPLESSO: integer (nullable = true)\n",
      " |-- qta_days_since_last_inbound_contact_channel_DOCUMENTALE: integer (nullable = true)\n",
      " |-- qta_days_since_last_inbound_contact_channel_CHAT: integer (nullable = true)\n",
      " |-- qta_days_since_last_inbound_contact_channel_WEB: integer (nullable = true)\n",
      " |-- qta_days_since_last_inbound_contact_microcausale_RETTIFICHE_CONSUMI_FATTURAZIONE: integer (nullable = true)\n",
      " |-- qta_days_since_last_inbound_contact_microcausale_INFORMATIVA: integer (nullable = true)\n",
      " |-- qta_days_since_last_inbound_contact_microcausale_VOLTURA: integer (nullable = true)\n",
      " |-- qta_days_since_last_inbound_contact_microcausale_PRIMA_ATTIVAZIONE: integer (nullable = true)\n",
      " |-- qta_days_since_last_inbound_contact_microcausale_COPIA_DOCUMENTAZIONI: integer (nullable = true)\n",
      " |-- qta_days_since_last_inbound_contact_microcausale_RIMBORSO_COMPENSAZIONE: integer (nullable = true)\n",
      " |-- qta_days_since_last_inbound_contact_microcausale_LAVORI_E_MODIFICHE_TECNICHE_POTENZA_TENSIONE: integer (nullable = true)\n",
      " |-- qta_days_since_last_inbound_contact_microcausale_INFORMATIVA_CREDITO: integer (nullable = true)\n",
      " |-- qta_days_since_last_inbound_contact_microcausale_DISTACCHI_RIALLACCI: integer (nullable = true)\n",
      " |-- qta_days_since_last_inbound_contact_microcausale_DISDETTE_E_CESSAZIONI: integer (nullable = true)\n",
      " |-- qta_days_since_last_inbound_contact_microcausale_GESTIONE_VAS: integer (nullable = true)\n",
      " |-- qta_days_since_last_inbound_contact_microcausale_AUTOLETTURA: integer (nullable = true)\n",
      " |-- qta_days_since_last_inbound_contact_microcausale_RIPENSAMENTO_O_DISCONOSCIMENTO: integer (nullable = true)\n",
      " |-- qta_days_since_last_inbound_contact_microcausale_MODIFICA_ANAGRAFICA_O_DATI_FORNITURA_FATTURAZIONE: integer (nullable = true)\n",
      " |-- qta_days_since_last_inbound_contact_microcausale_GESTIONE_FORNITURA: integer (nullable = true)\n",
      " |-- qta_days_since_last_inbound_contact_microcausale_RECLAMI_SCRITTI: integer (nullable = true)\n",
      " |-- qta_days_since_last_inbound_contact_microcausale_REPEATED_LIST: integer (nullable = true)\n",
      " |-- qta_days_since_last_inbound_contact_microcausale_INFORMATIVA_CONSUMI_PAGAMENTI: integer (nullable = true)\n",
      " |-- qta_days_since_last_inbound_contact_microcausale_SWITCH_ATTIVO: integer (nullable = true)\n",
      " |-- qta_days_since_last_inbound_contact_microcausale_MODALITA_DI_PAGAMENTO: integer (nullable = true)\n",
      " |-- qta_days_since_last_inbound_contact_microcausale_ALLACCIO_E_ATTIVAZIONE: integer (nullable = true)\n",
      " |-- qta_days_since_last_inbound_contact_microcausale_VERIFICHE_TECNICHE: integer (nullable = true)\n",
      " |-- qta_days_since_last_inbound_contact_microcausale_INFORMATIVA_NON_DI_COMPETENZA: integer (nullable = true)\n",
      " |-- qta_days_since_last_inbound_contact_microcausale_RVC: integer (nullable = true)\n",
      " |-- qta_days_since_last_inbound_contact_microcausale_GESTIONE_PRIVACY: integer (nullable = true)\n",
      " |-- qta_days_since_last_inbound_contact_microcausale_PIANO_DI_RIENTRO: integer (nullable = true)\n",
      " |-- qta_days_since_last_inbound_contact_microcausale_SUBENTRO: integer (nullable = true)\n",
      " |-- qta_days_since_last_inbound_contact_macrocausale_Causale_non_definita: integer (nullable = true)\n",
      " |-- qta_days_since_last_inbound_contact_macrocausale_Chiarimenti_su_fatture: integer (nullable = true)\n",
      " |-- qta_days_since_last_inbound_contact_macrocausale_Chiarimento_su_offerta: integer (nullable = true)\n",
      " |-- qta_days_since_last_inbound_contact_macrocausale_Credito: integer (nullable = true)\n",
      " |-- qta_days_since_last_inbound_contact_macrocausale_Esecuzione_lavori: integer (nullable = true)\n",
      " |-- qta_days_since_last_inbound_contact_macrocausale_Informativa: integer (nullable = true)\n",
      " |-- qta_days_since_last_inbound_contact_macrocausale_Problemi_in_fase_di_attivazione: integer (nullable = true)\n",
      " |-- qta_days_since_last_inbound_contact_macrocausale_Reclami_vendita_Privacy: integer (nullable = true)\n",
      " |-- qta_days_since_last_inbound_contact_macrocausale_Ritardata_esecuzione_subentri_volture_cessazioni_etc: integer (nullable = true)\n",
      " |-- fln_cliente_response_positiva_last_3_months: byte (nullable = true)\n",
      " |-- qta_cnt_cliente_response_positiva_last_3_months: integer (nullable = true)\n",
      " |-- fln_cliente_response_negativa_last_3_months: byte (nullable = true)\n",
      " |-- qta_cnt_cliente_response_negativa_last_3_months: integer (nullable = true)\n",
      " |-- fln_cliente_con_response_marketing_utile_last_3_months: byte (nullable = true)\n",
      " |-- qta_cnt_cliente_con_response_marketing_utile_last_3_months: integer (nullable = true)\n",
      " |-- fln_cliente_response_competitor_last_3_months: byte (nullable = true)\n",
      " |-- qta_cnt_flag_response_competitor_last_3_months: integer (nullable = true)\n",
      " |-- fln_cliente_accetta_proposta_last_3_months: byte (nullable = true)\n",
      " |-- qta_cnt_cliente_accetta_proposta_last_3_months: integer (nullable = true)\n",
      " |-- mds_nome_campagna_last_response_marketing_cli: string (nullable = true)\n",
      " |-- xds_canale_last_response_marketing_cli: string (nullable = true)\n",
      " |-- xds_tipo_azione_campagna_last_response_marketing_cli: string (nullable = true)\n",
      " |-- xds_tipologia_azione_last_response_marketing_cli: string (nullable = true)\n",
      " |-- qta_days_last_response_marketing_cli: integer (nullable = true)\n",
      " |-- qta_cnt_campagne_mktg_DEM_OUTBOUND_LOYALTY_PROMOZIONE_last_3_months: integer (nullable = true)\n",
      " |-- qta_cnt_campagne_mktg_GMC_OUTBOUND_ACQUISITION_DISPOSITIVA_last_3_months: integer (nullable = true)\n",
      " |-- qta_cnt_campagne_mktg_canale_DEM_last_3_months: integer (nullable = true)\n",
      " |-- qta_cnt_campagne_mktg_canale_GMC_last_3_months: integer (nullable = true)\n",
      " |-- qta_cnt_campagne_mktg_orientamento_OUTBOUND_last_3_months: integer (nullable = true)\n",
      " |-- qta_cnt_campagne_mktg_tipo_azione_campagna_PROMOZIONE_last_3_months: integer (nullable = true)\n",
      " |-- qta_cnt_campagne_mktg_tipologia_azione_LOYALTY_last_3_months: integer (nullable = true)\n",
      " |-- qta_cnt_campagne_mktg_APP_OUTBOUND_ACQUISITION_INFORMATIVA_last_3_months: integer (nullable = true)\n",
      " |-- qta_cnt_campagne_mktg_APP_OUTBOUND_CROSS_SELLING_DISPOSITIVA_last_3_months: integer (nullable = true)\n",
      " |-- qta_cnt_campagne_mktg_APP_OUTBOUND_LOYALTY_PROMOZIONE_last_3_months: integer (nullable = true)\n",
      " |-- qta_cnt_campagne_mktg_CS_OUTBOUND_CARING_ALTRO_last_3_months: integer (nullable = true)\n",
      " |-- qta_cnt_campagne_mktg_CS_OUTBOUND_UP_SELLING_DISPOSITIVA_last_3_months: integer (nullable = true)\n",
      " |-- qta_cnt_campagne_mktg_DEM_OUTBOUND_ACQUISITION_DISPOSITIVA_last_3_months: integer (nullable = true)\n",
      " |-- qta_cnt_campagne_mktg_DEM_OUTBOUND_ACQUISITION_INFORMATIVA_last_3_months: integer (nullable = true)\n",
      " |-- qta_cnt_campagne_mktg_DEM_OUTBOUND_ALTRO_DISPOSITIVA_last_3_months: integer (nullable = true)\n",
      " |-- qta_cnt_campagne_mktg_DEM_OUTBOUND_ALTRO_INFORMATIVA_last_3_months: integer (nullable = true)\n",
      " |-- qta_cnt_campagne_mktg_DEM_OUTBOUND_CARING_ALTRO_last_3_months: integer (nullable = true)\n",
      " |-- qta_cnt_campagne_mktg_DEM_OUTBOUND_CARING_CROSSSELLING_DISPOSITIVA_last_3_months: integer (nullable = true)\n",
      " |-- qta_cnt_campagne_mktg_DEM_OUTBOUND_CARING_DISPOSITIVA_last_3_months: integer (nullable = true)\n",
      " |-- qta_cnt_campagne_mktg_DEM_OUTBOUND_CARING_INFORMATIVA_last_3_months: integer (nullable = true)\n",
      " |-- qta_cnt_campagne_mktg_DEM_OUTBOUND_CARING_PROMOZIONE_last_3_months: integer (nullable = true)\n",
      " |-- qta_cnt_campagne_mktg_DEM_OUTBOUND_CROSS_SELLING_DISPOSITIVA_last_3_months: integer (nullable = true)\n",
      " |-- qta_cnt_campagne_mktg_DEM_OUTBOUND_LOYALTY_INFORMATIVA_last_3_months: integer (nullable = true)\n",
      " |-- qta_cnt_campagne_mktg_DEM_OUTBOUND_UP_SELLING_DISPOSITIVA_last_3_months: integer (nullable = true)\n",
      " |-- qta_cnt_campagne_mktg_DEM_OUTBOUND_UP_SELLING_INFORMATIVA_last_3_months: integer (nullable = true)\n",
      " |-- qta_cnt_campagne_mktg_DEM_OUTBOUND_UP_SELLING_TEST_last_3_months: integer (nullable = true)\n",
      " |-- qta_cnt_campagne_mktg_FATTURA_OUTBOUND_ACQUISITION_DISPOSITIVA_last_3_months: integer (nullable = true)\n",
      " |-- qta_cnt_campagne_mktg_FATTURA_OUTBOUND_ALTRO_INFORMATIVA_last_3_months: integer (nullable = true)\n",
      " |-- qta_cnt_campagne_mktg_FATTURA_OUTBOUND_CARING_DISPOSITIVA_last_3_months: integer (nullable = true)\n",
      " |-- qta_cnt_campagne_mktg_FATTURA_OUTBOUND_CARING_INFORMATIVA_last_3_months: integer (nullable = true)\n",
      " |-- qta_cnt_campagne_mktg_FATTURA_OUTBOUND_CROSS_SELLING_DISPOSITIVA_last_3_months: integer (nullable = true)\n",
      " |-- qta_cnt_campagne_mktg_FATTURA_OUTBOUND_CROSS_SELLING_PROMOZIONE_last_3_months: integer (nullable = true)\n",
      " |-- qta_cnt_campagne_mktg_FATTURA_OUTBOUND_LOYALTY_PROMOZIONE_last_3_months: integer (nullable = true)\n",
      " |-- qta_cnt_campagne_mktg_FATTURA_OUTBOUND_UP_SELLING_PROMOZIONE_last_3_months: integer (nullable = true)\n",
      " |-- qta_cnt_campagne_mktg_RDM_OUTBOUND_RICERCHE_DI_MERCATO_ALTRO_last_3_months: integer (nullable = true)\n",
      " |-- qta_cnt_campagne_mktg_S2S_INBOUND_ACQUISITION_INFORMATIVA_last_3_months: integer (nullable = true)\n",
      " |-- qta_cnt_campagne_mktg_S2S_INBOUND_CARING_INFORMATIVA_last_3_months: integer (nullable = true)\n",
      " |-- qta_cnt_campagne_mktg_S2S_INBOUND_CROSS_SELLING_DISPOSITIVA_last_3_months: integer (nullable = true)\n",
      " |-- qta_cnt_campagne_mktg_S2S_INBOUND_CROSS_SELLING_PROMOZIONE_last_3_months: integer (nullable = true)\n",
      " |-- qta_cnt_campagne_mktg_S2S_INBOUND_UP_SELLING_DISPOSITIVA_last_3_months: integer (nullable = true)\n",
      " |-- qta_cnt_campagne_mktg_SMS_OUTBOUND_1TO1_CROSSSELLING_DISPOSITIVA_last_3_months: integer (nullable = true)\n",
      " |-- qta_cnt_campagne_mktg_SMS_OUTBOUND_ACQUISITION_DISPOSITIVA_last_3_months: integer (nullable = true)\n",
      " |-- qta_cnt_campagne_mktg_SMS_OUTBOUND_ACQUISITION_INFORMATIVA_last_3_months: integer (nullable = true)\n",
      " |-- qta_cnt_campagne_mktg_SMS_OUTBOUND_CARING_CROSSSELLING_DISPOSITIVA_last_3_months: integer (nullable = true)\n",
      " |-- qta_cnt_campagne_mktg_SMS_OUTBOUND_CARING_DISPOSITIVA_last_3_months: integer (nullable = true)\n",
      " |-- qta_cnt_campagne_mktg_SMS_OUTBOUND_CARING_INFORMATIVA_last_3_months: integer (nullable = true)\n",
      " |-- qta_cnt_campagne_mktg_SMS_OUTBOUND_CARING_PROMOZIONE_last_3_months: integer (nullable = true)\n",
      " |-- qta_cnt_campagne_mktg_SMS_OUTBOUND_CROSS_SELLING_DISPOSITIVA_last_3_months: integer (nullable = true)\n",
      " |-- qta_cnt_campagne_mktg_SMS_OUTBOUND_LOYALTY_INFORMATIVA_last_3_months: integer (nullable = true)\n",
      " |-- qta_cnt_campagne_mktg_SMS_OUTBOUND_UP_SELLING_DISPOSITIVA_last_3_months: integer (nullable = true)\n",
      " |-- qta_cnt_campagne_mktg_SMS_OUTBOUND_UP_SELLING_PROMOZIONE_last_3_months: integer (nullable = true)\n",
      " |-- qta_cnt_campagne_mktg_TLS_OUTBOUND_1TO1_CROSSSELLING_DISPOSITIVA_last_3_months: integer (nullable = true)\n",
      " |-- qta_cnt_campagne_mktg_TLS_OUTBOUND_ACQUISITION_DISPOSITIVA_last_3_months: integer (nullable = true)\n",
      " |-- qta_cnt_campagne_mktg_TLS_OUTBOUND_CROSS_SELLING_DISPOSITIVA_last_3_months: integer (nullable = true)\n",
      " |-- qta_cnt_campagne_mktg_WEB_INBOUND_CARING_INFORMATIVA_last_3_months: integer (nullable = true)\n",
      " |-- qta_cnt_campagne_mktg_WEB_INBOUND_CROSS_SELLING_DISPOSITIVA_last_3_months: integer (nullable = true)\n",
      " |-- val_Residenti: double (nullable = true)\n",
      " |-- val_Lavoratori: double (nullable = true)\n",
      " |-- val_Turisti_totali: double (nullable = true)\n",
      " |-- lds_RETE_GAS: string (nullable = true)\n",
      " |-- val_QUOTA_TUTELATO: double (nullable = true)\n",
      " |-- val_POT_GAS_NETTO: double (nullable = true)\n",
      " |-- val_QUOTA_LIBERO: double (nullable = true)\n",
      " |-- lds_Cluster_Polis_11_gruppi: string (nullable = true)\n",
      " |-- val_Sh_ENEL_GAS: double (nullable = true)\n",
      " |-- val_Sh_ENEL_POWER: double (nullable = true)\n",
      " |-- val_Idx_Commercio: double (nullable = true)\n",
      " |-- val_Negozi_Compr_Mean: double (nullable = true)\n",
      " |-- val_Negozi_Loc_Mean: double (nullable = true)\n",
      " |-- val_POT_POWER_NETTO: double (nullable = true)\n",
      " |-- val_POT_TOTALE: double (nullable = true)\n",
      " |-- val_POT_TOTALE_NETTO: double (nullable = true)\n",
      " |-- sds_segmento_organizzativo_cliente: string (nullable = true)\n",
      " |-- val_consumi_x_max_ciclo_ele_last_6_months: double (nullable = true)\n",
      " |-- val_consumi_x_min_ciclo_ele_last_6_months: double (nullable = true)\n",
      " |-- val_consumi_x_mean_ciclo_ele_last_6_months: double (nullable = true)\n",
      " |-- val_consumi_x_sum_ciclo_ele_last_6_months: double (nullable = true)\n",
      " |-- val_importo_addebito_x_sum_ciclo_ele_last_6_months: double (nullable = true)\n",
      " |-- val_importo_addebito_x_mean_ciclo_ele_last_6_months: double (nullable = true)\n",
      " |-- val_importo_addebito_x_min_ciclo_ele_last_6_months: double (nullable = true)\n",
      " |-- val_importo_addebito_x_max_ciclo_ele_last_6_months: double (nullable = true)\n",
      " |-- val_totale_pagare_x_sum_ciclo_ele_last_6_months: double (nullable = true)\n",
      " |-- val_totale_pagare_x_mean_ciclo_ele_last_6_months: double (nullable = true)\n",
      " |-- val_totale_pagare_x_min_ciclo_ele_last_6_months: double (nullable = true)\n",
      " |-- val_totale_pagare_x_max_ciclo_ele_last_6_months: double (nullable = true)\n",
      " |-- val_consumi_x_max_over_mean_ciclo_ele_last_6_months: double (nullable = true)\n",
      " |-- val_consumi_x_min_over_mean_ciclo_ele_last_6_months: double (nullable = true)\n",
      " |-- val_importo_addebito_x_max_over_mean_ciclo_ele_last_6_months: double (nullable = true)\n",
      " |-- val_totale_pagare_x_min_over_mean_ciclo_ele_last_6_months: double (nullable = true)\n",
      " |-- val_totale_pagare_x_max_over_mean_ciclo_ele_last_6_months: double (nullable = true)\n",
      " |-- val_importo_addebito_x_min_over_mean_ciclo_ele_last_6_months: double (nullable = true)\n",
      " |-- val_consumi_x_max_ciclo_ele_last_3_months: double (nullable = true)\n",
      " |-- val_consumi_x_min_ciclo_ele_last_3_months: double (nullable = true)\n",
      " |-- val_consumi_x_mean_ciclo_ele_last_3_months: double (nullable = true)\n",
      " |-- val_consumi_x_sum_ciclo_ele_last_3_months: double (nullable = true)\n",
      " |-- val_importo_addebito_x_sum_ciclo_ele_last_3_months: double (nullable = true)\n",
      " |-- val_importo_addebito_x_mean_ciclo_ele_last_3_months: double (nullable = true)\n",
      " |-- val_importo_addebito_x_min_ciclo_ele_last_3_months: double (nullable = true)\n",
      " |-- val_importo_addebito_x_max_ciclo_ele_last_3_months: double (nullable = true)\n",
      " |-- val_totale_pagare_x_sum_ciclo_ele_last_3_months: double (nullable = true)\n",
      " |-- val_totale_pagare_x_mean_ciclo_ele_last_3_months: double (nullable = true)\n",
      " |-- val_totale_pagare_x_min_ciclo_ele_last_3_months: double (nullable = true)\n",
      " |-- val_totale_pagare_x_max_ciclo_ele_last_3_months: double (nullable = true)\n",
      " |-- val_consumi_x_max_over_mean_ciclo_ele_last_3_months: double (nullable = true)\n",
      " |-- val_consumi_x_min_over_mean_ciclo_ele_last_3_months: double (nullable = true)\n",
      " |-- val_importo_addebito_x_max_over_mean_ciclo_ele_last_3_months: double (nullable = true)\n",
      " |-- val_totale_pagare_x_min_over_mean_ciclo_ele_last_3_months: double (nullable = true)\n",
      " |-- val_totale_pagare_x_max_over_mean_ciclo_ele_last_3_months: double (nullable = true)\n",
      " |-- val_importo_addebito_x_min_over_mean_ciclo_ele_last_3_months: double (nullable = true)\n",
      " |-- val_consumi_x_max_ciclo_ele_last_1_months: double (nullable = true)\n",
      " |-- val_consumi_x_min_ciclo_ele_last_1_months: double (nullable = true)\n",
      " |-- val_consumi_x_mean_ciclo_ele_last_1_months: double (nullable = true)\n",
      " |-- val_consumi_x_sum_ciclo_ele_last_1_months: double (nullable = true)\n",
      " |-- val_importo_addebito_x_sum_ciclo_ele_last_1_months: double (nullable = true)\n",
      " |-- val_importo_addebito_x_mean_ciclo_ele_last_1_months: double (nullable = true)\n",
      " |-- val_importo_addebito_x_min_ciclo_ele_last_1_months: double (nullable = true)\n",
      " |-- val_importo_addebito_x_max_ciclo_ele_last_1_months: double (nullable = true)\n",
      " |-- val_totale_pagare_x_sum_ciclo_ele_last_1_months: double (nullable = true)\n",
      " |-- val_totale_pagare_x_mean_ciclo_ele_last_1_months: double (nullable = true)\n",
      " |-- val_totale_pagare_x_min_ciclo_ele_last_1_months: double (nullable = true)\n",
      " |-- val_totale_pagare_x_max_ciclo_ele_last_1_months: double (nullable = true)\n",
      " |-- val_consumi_x_max_over_mean_ciclo_ele_last_1_months: double (nullable = true)\n",
      " |-- val_consumi_x_min_over_mean_ciclo_ele_last_1_months: double (nullable = true)\n",
      " |-- val_importo_addebito_x_max_over_mean_ciclo_ele_last_1_months: double (nullable = true)\n",
      " |-- val_totale_pagare_x_min_over_mean_ciclo_ele_last_1_months: double (nullable = true)\n",
      " |-- val_totale_pagare_x_max_over_mean_ciclo_ele_last_1_months: double (nullable = true)\n",
      " |-- val_importo_addebito_x_min_over_mean_ciclo_ele_last_1_months: double (nullable = true)\n",
      " |-- val_consumi_x_max_ciclo_gas_last_6_months: double (nullable = true)\n",
      " |-- val_consumi_x_min_ciclo_gas_last_6_months: double (nullable = true)\n",
      " |-- val_consumi_x_mean_ciclo_gas_last_6_months: double (nullable = true)\n",
      " |-- val_consumi_x_sum_ciclo_gas_last_6_months: double (nullable = true)\n",
      " |-- val_importo_addebito_x_sum_ciclo_gas_last_6_months: double (nullable = true)\n",
      " |-- val_importo_addebito_x_mean_ciclo_gas_last_6_months: double (nullable = true)\n",
      " |-- val_importo_addebito_x_min_ciclo_gas_last_6_months: double (nullable = true)\n",
      " |-- val_importo_addebito_x_max_ciclo_gas_last_6_months: double (nullable = true)\n",
      " |-- val_totale_pagare_x_sum_ciclo_gas_last_6_months: double (nullable = true)\n",
      " |-- val_totale_pagare_x_mean_ciclo_gas_last_6_months: double (nullable = true)\n",
      " |-- val_totale_pagare_x_min_ciclo_gas_last_6_months: double (nullable = true)\n",
      " |-- val_totale_pagare_x_max_ciclo_gas_last_6_months: double (nullable = true)\n",
      " |-- val_consumi_x_max_over_mean_ciclo_gas_last_6_months: double (nullable = true)\n",
      " |-- val_consumi_x_min_over_mean_ciclo_gas_last_6_months: double (nullable = true)\n",
      " |-- val_importo_addebito_x_max_over_mean_ciclo_gas_last_6_months: double (nullable = true)\n",
      " |-- val_totale_pagare_x_min_over_mean_ciclo_gas_last_6_months: double (nullable = true)\n",
      " |-- val_totale_pagare_x_max_over_mean_ciclo_gas_last_6_months: double (nullable = true)\n",
      " |-- val_importo_addebito_x_min_over_mean_ciclo_gas_last_6_months: double (nullable = true)\n",
      " |-- val_consumi_x_max_ciclo_gas_last_3_months: double (nullable = true)\n",
      " |-- val_consumi_x_min_ciclo_gas_last_3_months: double (nullable = true)\n",
      " |-- val_consumi_x_mean_ciclo_gas_last_3_months: double (nullable = true)\n",
      " |-- val_consumi_x_sum_ciclo_gas_last_3_months: double (nullable = true)\n",
      " |-- val_importo_addebito_x_sum_ciclo_gas_last_3_months: double (nullable = true)\n",
      " |-- val_importo_addebito_x_mean_ciclo_gas_last_3_months: double (nullable = true)\n",
      " |-- val_importo_addebito_x_min_ciclo_gas_last_3_months: double (nullable = true)\n",
      " |-- val_importo_addebito_x_max_ciclo_gas_last_3_months: double (nullable = true)\n",
      " |-- val_totale_pagare_x_sum_ciclo_gas_last_3_months: double (nullable = true)\n",
      " |-- val_totale_pagare_x_mean_ciclo_gas_last_3_months: double (nullable = true)\n",
      " |-- val_totale_pagare_x_min_ciclo_gas_last_3_months: double (nullable = true)\n",
      " |-- val_totale_pagare_x_max_ciclo_gas_last_3_months: double (nullable = true)\n",
      " |-- val_consumi_x_max_over_mean_ciclo_gas_last_3_months: double (nullable = true)\n",
      " |-- val_consumi_x_min_over_mean_ciclo_gas_last_3_months: double (nullable = true)\n",
      " |-- val_importo_addebito_x_max_over_mean_ciclo_gas_last_3_months: double (nullable = true)\n",
      " |-- val_totale_pagare_x_min_over_mean_ciclo_gas_last_3_months: double (nullable = true)\n",
      " |-- val_totale_pagare_x_max_over_mean_ciclo_gas_last_3_months: double (nullable = true)\n",
      " |-- val_importo_addebito_x_min_over_mean_ciclo_gas_last_3_months: double (nullable = true)\n",
      " |-- val_consumi_x_max_ciclo_gas_last_1_months: double (nullable = true)\n",
      " |-- val_consumi_x_min_ciclo_gas_last_1_months: double (nullable = true)\n",
      " |-- val_consumi_x_mean_ciclo_gas_last_1_months: double (nullable = true)\n",
      " |-- val_consumi_x_sum_ciclo_gas_last_1_months: double (nullable = true)\n",
      " |-- val_importo_addebito_x_sum_ciclo_gas_last_1_months: double (nullable = true)\n",
      " |-- val_importo_addebito_x_mean_ciclo_gas_last_1_months: double (nullable = true)\n",
      " |-- val_importo_addebito_x_min_ciclo_gas_last_1_months: double (nullable = true)\n",
      " |-- val_importo_addebito_x_max_ciclo_gas_last_1_months: double (nullable = true)\n",
      " |-- val_totale_pagare_x_sum_ciclo_gas_last_1_months: double (nullable = true)\n",
      " |-- val_totale_pagare_x_mean_ciclo_gas_last_1_months: double (nullable = true)\n",
      " |-- val_totale_pagare_x_min_ciclo_gas_last_1_months: double (nullable = true)\n",
      " |-- val_totale_pagare_x_max_ciclo_gas_last_1_months: double (nullable = true)\n",
      " |-- val_consumi_x_max_over_mean_ciclo_gas_last_1_months: double (nullable = true)\n",
      " |-- val_consumi_x_min_over_mean_ciclo_gas_last_1_months: double (nullable = true)\n",
      " |-- val_importo_addebito_x_max_over_mean_ciclo_gas_last_1_months: double (nullable = true)\n",
      " |-- val_totale_pagare_x_min_over_mean_ciclo_gas_last_1_months: double (nullable = true)\n",
      " |-- val_totale_pagare_x_max_over_mean_ciclo_gas_last_1_months: double (nullable = true)\n",
      " |-- val_importo_addebito_x_min_over_mean_ciclo_gas_last_1_months: double (nullable = true)\n",
      " |-- val_totale_pagare_x_last_ciclo: double (nullable = true)\n",
      " |-- val_importo_addebito_x_last_ciclo: double (nullable = true)\n",
      " |-- val_importo_addebito_x_last: double (nullable = true)\n",
      " |-- val_totale_pagare_x_last: double (nullable = true)\n",
      " |-- val_totale_pagare_x_last_over_mean: double (nullable = true)\n",
      " |-- cdc_power_gas: string (nullable = true)\n",
      " |-- qta_cnt_contatti_outbound_all_channel_m1: integer (nullable = true)\n",
      " |-- qta_cnt_contatti_outbound_all_channel_m3: integer (nullable = true)\n",
      " |-- qta_cnt_contatti_outbound_all_channel_m6: integer (nullable = true)\n",
      " |-- qta_cnt_contatti_outbound_all_channel_m9: integer (nullable = true)\n",
      " |-- qta_cnt_contatti_outbound_all_channel_m12: integer (nullable = true)\n",
      " |-- qta_cnt_contatti_inbound_all_channel_m1: integer (nullable = true)\n",
      " |-- qta_cnt_contatti_inbound_all_channel_m3: integer (nullable = true)\n",
      " |-- qta_cnt_contatti_inbound_all_channel_m6: integer (nullable = true)\n",
      " |-- qta_cnt_contatti_inbound_all_channel_m9: integer (nullable = true)\n",
      " |-- qta_cnt_contatti_inbound_all_channel_m12: integer (nullable = true)\n",
      " |-- qta_cnt_contatti_inbound_totali_last_90_days: integer (nullable = true)\n",
      " |-- qta_cnt_canale_APP_last_90_days: integer (nullable = true)\n",
      " |-- qta_cnt_canale_CHAT_last_90_days: integer (nullable = true)\n",
      " |-- qta_cnt_canale_DOCUMENTALE_last_90_days: integer (nullable = true)\n",
      " |-- qta_cnt_canale_DOCUMENTALE_COMPLESSO_last_90_days: integer (nullable = true)\n",
      " |-- qta_cnt_canale_FACE_last_90_days: integer (nullable = true)\n",
      " |-- qta_cnt_canale_TELEFONICO_last_90_days: integer (nullable = true)\n",
      " |-- qta_cnt_canale_WEB_last_90_days: integer (nullable = true)\n",
      " |-- qta_cnt_microcausale_ALLACCIO_E_ATTIVAZIONE_last_90_days: integer (nullable = true)\n",
      " |-- qta_cnt_microcausale_AUTOLETTURA_last_90_days: integer (nullable = true)\n",
      " |-- qta_cnt_microcausale_COPIA_DOCUMENTAZIONI_last_90_days: integer (nullable = true)\n",
      " |-- qta_cnt_microcausale_DISDETTE_E_CESSAZIONI_last_90_days: integer (nullable = true)\n",
      " |-- qta_cnt_microcausale_DISTACCHI_RIALLACCI_last_90_days: integer (nullable = true)\n",
      " |-- qta_cnt_microcausale_GESTIONE_FORNITURA_last_90_days: integer (nullable = true)\n",
      " |-- qta_cnt_microcausale_GESTIONE_PRIVACY_last_90_days: integer (nullable = true)\n",
      " |-- qta_cnt_microcausale_GESTIONE_VAS_last_90_days: integer (nullable = true)\n",
      " |-- qta_cnt_microcausale_INFORMATIVA_last_90_days: integer (nullable = true)\n",
      " |-- qta_cnt_microcausale_INFORMATIVA_CONSUMI_PAGAMENTI_last_90_days: integer (nullable = true)\n",
      " |-- qta_cnt_microcausale_INFORMATIVA_CREDITO_last_90_days: integer (nullable = true)\n",
      " |-- qta_cnt_microcausale_INFORMATIVA_NON_DI_COMPETENZA_last_90_days: integer (nullable = true)\n",
      " |-- qta_cnt_microcausale_LAVORI_E_MODIFICHE_TECNICHE_POTENZA_TENSIONE_last_90_days: integer (nullable = true)\n",
      " |-- qta_cnt_microcausale_MODALITA_DI_PAGAMENTO_last_90_days: integer (nullable = true)\n",
      " |-- qta_cnt_microcausale_MODIFICA_ANAGRAFICA_O_DATI_FORNITURA_FATTURAZIONE_last_90_days: integer (nullable = true)\n",
      " |-- qta_cnt_microcausale_PIANO_DI_RIENTRO_last_90_days: integer (nullable = true)\n",
      " |-- qta_cnt_microcausale_PRIMA_ATTIVAZIONE_last_90_days: integer (nullable = true)\n",
      " |-- qta_cnt_microcausale_RECLAMI_SCRITTI_last_90_days: integer (nullable = true)\n",
      " |-- qta_cnt_microcausale_REPEATED_LIST_last_90_days: integer (nullable = true)\n",
      " |-- qta_cnt_microcausale_RETTIFICHE_CONSUMI_FATTURAZIONE_last_90_days: integer (nullable = true)\n",
      " |-- qta_cnt_microcausale_RIMBORSO_COMPENSAZIONE_last_90_days: integer (nullable = true)\n",
      " |-- qta_cnt_microcausale_RIPENSAMENTO_O_DISCONOSCIMENTO_last_90_days: integer (nullable = true)\n",
      " |-- qta_cnt_microcausale_RVC_last_90_days: integer (nullable = true)\n",
      " |-- qta_cnt_microcausale_SUBENTRO_last_90_days: integer (nullable = true)\n",
      " |-- qta_cnt_microcausale_SWITCH_ATTIVO_last_90_days: integer (nullable = true)\n",
      " |-- qta_cnt_microcausale_VERIFICHE_TECNICHE_last_90_days: integer (nullable = true)\n",
      " |-- qta_cnt_microcausale_VOLTURA_last_90_days: integer (nullable = true)\n",
      " |-- qta_cnt_macrocausale_Chiarimenti_su_fatture_last_90_days: integer (nullable = true)\n",
      " |-- qta_cnt_macrocausale_Chiarimento_su_offerta_last_90_days: integer (nullable = true)\n",
      " |-- qta_cnt_macrocausale_Credito_last_90_days: integer (nullable = true)\n",
      " |-- qta_cnt_macrocausale_Esecuzione_lavori_last_90_days: integer (nullable = true)\n",
      " |-- qta_cnt_macrocausale_Informativa_last_90_days: integer (nullable = true)\n",
      " |-- qta_cnt_macrocausale_Problemi_in_fase_di_attivazione_last_90_days: integer (nullable = true)\n",
      " |-- qta_cnt_macrocausale_Reclami_vendita_Privacy_last_90_days: integer (nullable = true)\n",
      " |-- qta_cnt_macrocausale_Ritardata_esecuzione_subentri_volture_cessazioni_etc_last_90_days: integer (nullable = true)\n",
      " |-- qta_frequenza_contatto: integer (nullable = true)\n",
      " |-- val_potenza_contrattuale: double (nullable = true)\n",
      " |-- qta_cnt_mds_tipologia_attivita_gestione_credito_m1: integer (nullable = true)\n",
      " |-- qta_cnt_mds_tipologia_attivita_gestione_credito_m3: integer (nullable = true)\n",
      " |-- qta_cnt_mds_tipologia_attivita_gestione_credito_m6: integer (nullable = true)\n",
      " |-- qta_cnt_mds_tipologia_attivita_gestione_credito_m9: integer (nullable = true)\n",
      " |-- qta_cnt_mds_tipologia_attivita_gestione_credito_m12: integer (nullable = true)\n",
      " |-- fln_cell_m0_mono_flag: byte (nullable = true)\n",
      " |-- qta_cnt_mds_tipologia_attivita_gestione_notifiche_m1: integer (nullable = true)\n",
      " |-- qta_cnt_mds_tipologia_attivita_gestione_notifiche_m3: integer (nullable = true)\n",
      " |-- qta_cnt_mds_tipologia_attivita_gestione_notifiche_m6: integer (nullable = true)\n",
      " |-- qta_cnt_mds_tipologia_attivita_gestione_notifiche_m9: integer (nullable = true)\n",
      " |-- qta_cnt_mds_tipologia_attivita_gestione_notifiche_m12: integer (nullable = true)\n",
      " |-- dta_cessazione: timestamp (nullable = true)\n",
      " |-- fk_idn_audit_programma: long (nullable = true)\n",
      " |-- dta_attivazione: timestamp (nullable = true)\n",
      " |-- dta_t0: timestamp (nullable = true)\n",
      " |-- qta_servizi_gas: integer (nullable = true)\n",
      " |-- qta_servizi_elettrici: integer (nullable = true)\n",
      " |-- val_rimborsi_mean_ciclo_last_3_months: double (nullable = true)\n",
      " |-- qta_cnt_reclami_last_month: integer (nullable = true)\n",
      " |-- qta_cnt_attivita_allaccio_servizi_last_3_months: integer (nullable = true)\n",
      " |-- qta_cnt_attivita_analisi_fatturato_situazione_contabile_last_3_months: integer (nullable = true)\n",
      " |-- qta_cnt_attivita_autoletture_last_3_months: integer (nullable = true)\n",
      " |-- qta_cnt_attivita_blacklist_last_3_months: integer (nullable = true)\n",
      " |-- qta_cnt_attivita_bolletta_fatturazione_last_3_months: integer (nullable = true)\n",
      " |-- qta_cnt_attivita_bye_bye_letter_last_3_months: integer (nullable = true)\n",
      " |-- qta_cnt_attivita_comunicazione_SWP_last_3_months: integer (nullable = true)\n",
      " |-- qta_cnt_attivita_contratti_last_3_months: integer (nullable = true)\n",
      " |-- qta_cnt_attivita_credito_last_3_months: integer (nullable = true)\n",
      " |-- qta_cnt_attivita_dl_piano_casa_last_3_months: integer (nullable = true)\n",
      " |-- qta_cnt_attivita_dati_catastali_last_3_months: integer (nullable = true)\n",
      " |-- qta_cnt_attivita_delibera_147_last_3_months: integer (nullable = true)\n",
      " |-- qta_cnt_attivita_fattura_mancata_ritardata_last_3_months: integer (nullable = true)\n",
      " |-- qta_cnt_attivita_gestione_clienti_last_3_months: integer (nullable = true)\n",
      " |-- qta_cnt_attivita_indennizzo_last_3_months: integer (nullable = true)\n",
      " |-- qta_cnt_attivita_invio_WL_pesante_last_3_months: integer (nullable = true)\n",
      " |-- qta_cnt_attivita_lavori_rete_last_3_months: integer (nullable = true)\n",
      " |-- qta_cnt_attivita_modifiche_variazioni_last_3_months: integer (nullable = true)\n",
      " |-- qta_cnt_attivita_morosita_last_3_months: integer (nullable = true)\n",
      " |-- qta_cnt_attivita_pagamenti_metodi_pagamento_last_3_months: integer (nullable = true)\n",
      " |-- qta_cnt_attivita_posta_documenti_last_3_months: integer (nullable = true)\n",
      " |-- qta_cnt_attivita_processi_richieste_suggello_recesso_voltura_last_3_months: integer (nullable = true)\n",
      " |-- qta_cnt_attivita_recesso_suggello_voltura_mancata_ritardata_last_3_months: integer (nullable = true)\n",
      " |-- qta_cnt_attivita_reclamo_last_3_months: integer (nullable = true)\n",
      " |-- qta_cnt_attivita_ricezione_invio_documentazione_last_3_months: integer (nullable = true)\n",
      " |-- qta_cnt_attivita_richiesta_informazioni_last_3_months: integer (nullable = true)\n",
      " |-- qta_cnt_attivita_ripensamento_last_3_months: integer (nullable = true)\n",
      " |-- qta_cnt_attivita_secondo_livello_last_3_months: integer (nullable = true)\n",
      " |-- qta_cnt_attivita_sito_web_chat_last_3_months: integer (nullable = true)\n",
      " |-- qta_cnt_attivita_sollecito_last_3_months: integer (nullable = true)\n",
      " |-- qta_cnt_attivita_telefonate_gestione_credito_last_3_months: integer (nullable = true)\n",
      " |-- qta_cnt_attivita_vas_last_3_months: integer (nullable = true)\n",
      " |-- qta_cnt_attivita_vocal_last_3_months: integer (nullable = true)\n",
      " |-- fln_scarti_trasporto_last_1_months: byte (nullable = true)\n",
      " |-- fln_scarti_sap_sd_last_1_months: byte (nullable = true)\n",
      " |-- fln_scarti_sempre_sap_last_1_months: byte (nullable = true)\n",
      " |-- fln_scarti_sdd_rid_last_1_months: byte (nullable = true)\n",
      " |-- cdc_livello_sollecito_last_diffida_cli: string (nullable = true)\n",
      " |-- sds_descr_canale_altern_soll_elaborato_last_diffida_cli: string (nullable = true)\n",
      " |-- cdc_procedura_sollecito_last_diffida_cli: string (nullable = true)\n",
      " |-- sds_descr_canale_altern_soll_elaborato_last_sollecito_cli: string (nullable = true)\n",
      " |-- cdc_procedura_sollecito_last_sollecito_cli: string (nullable = true)\n",
      " |-- qta_days_diff_diffida_fattura_cli: integer (nullable = true)\n",
      " |-- qta_days_last_diffida_cli: integer (nullable = true)\n",
      " |-- qta_days_diff_sollecito_fattura_cli: integer (nullable = true)\n",
      " |-- qta_days_last_sollecito_cli: integer (nullable = true)\n",
      " |-- val_totale_pagare_last_diffida_cli: double (nullable = true)\n",
      " |-- val_totale_pagare_last_sollecito_cli: double (nullable = true)\n",
      " |-- qta_cnt_solleciti_livello_01_cli: integer (nullable = true)\n",
      " |-- qta_cnt_sms_cli: integer (nullable = true)\n",
      " |-- qta_cnt_mail_di_sollecito_cli: integer (nullable = true)\n",
      " |-- qta_cnt_diffida_procedura_M1_cli: integer (nullable = true)\n",
      " |-- qta_cnt_sollecito_cartaceo_cli: integer (nullable = true)\n",
      " |-- qta_cnt_diffida_procedura_M3_cli: integer (nullable = true)\n",
      " |-- fln_sollecito_last_2_months_cli: byte (nullable = true)\n",
      " |-- qta_cnt_sollecito_procedura_M2_cli: integer (nullable = true)\n",
      " |-- qta_cnt_sollecito_procedura_M1_cli: integer (nullable = true)\n",
      " |-- qta_cnt_diffida_procedura_M4_cli: integer (nullable = true)\n",
      " |-- qta_cnt_sollecito_procedura_M0_cli: integer (nullable = true)\n",
      " |-- qta_cnt_diffida_procedura_M2_cli: integer (nullable = true)\n",
      " |-- fln_diffida_last_2_months_cli: byte (nullable = true)\n",
      " |-- qta_cnt_diffida_cartacea_cli: integer (nullable = true)\n",
      " |-- qta_cnt_diffide_livello_02_cli: integer (nullable = true)\n",
      " |-- qta_cnt_diffida_cartacea_serv: integer (nullable = true)\n",
      " |-- fln_diffida_last_2_months_serv: byte (nullable = true)\n",
      " |-- fln_sollecito_last_2_months_serv: byte (nullable = true)\n",
      " |-- val_mean_days_scadenza_fattura_pagamento_servizio_last_6_months_canale_ALL: double (nullable = true)\n",
      " |-- val_mean_fattura_non_pagata_servizio_last_6_months_canale_ALL: double (nullable = true)\n",
      " |-- fln_fattura_pagata_non_totalmente_servizio_last_6_months_canale_ALL: byte (nullable = true)\n",
      " |-- fln_fattura_non_pagata_servizio_last_6_months_canale_ALL: byte (nullable = true)\n",
      " |-- qta_max_days_emissione_fattura_pagamento_servizio_last_6_months_canale_ALL: integer (nullable = true)\n",
      " |-- val_mean_fattura_pagata_totalmente_nei_tempi_servizio_last_6_months_canale_ALL: double (nullable = true)\n",
      " |-- val_mean_fattura_pagata_non_totalmente_servizio_last_6_months_canale_ALL: double (nullable = true)\n",
      " |-- val_mean_fattura_pagata_totalmente_in_ritardo_servizio_last_6_months_canale_ALL: double (nullable = true)\n",
      " |-- val_mean_days_emissione_fattura_pagamento_servizio_last_6_months_canale_ALL: double (nullable = true)\n",
      " |-- qta_cnt_fattura_non_pagata_servizio_last_6_months_canale_ALL: integer (nullable = true)\n",
      " |-- qta_max_days_scadenza_fattura_pagamento_servizio_last_6_months_canale_ALL: integer (nullable = true)\n",
      " |-- qta_cnt_fattura_pagata_non_totalmente_servizio_last_6_months_canale_ALL: integer (nullable = true)\n",
      " |-- fln_fattura_pagata_totalmente_in_ritardo_servizio_last_6_months_canale_ALL: byte (nullable = true)\n",
      " |-- fln_fattura_pagata_totalmente_nei_tempi_servizio_last_6_months_canale_ALL: byte (nullable = true)\n",
      " |-- qta_cnt_fattura_pagata_totalmente_in_ritardo_servizio_last_6_months_canale_ALL: integer (nullable = true)\n",
      " |-- qta_cnt_fattura_pagata_totalmente_nei_tempi_servizio_last_6_months_canale_ALL: integer (nullable = true)\n",
      " |-- val_max_val_fattura_non_pagato_servizio_last_6_months_canale_ALL: double (nullable = true)\n",
      " |-- val_mean_val_fattura_non_pagato_servizio_last_6_months_canale_ALL: double (nullable = true)\n",
      " |-- val_max_val_fattura_non_pagato_servizio_last_3_months_canale_ALL: double (nullable = true)\n",
      " |-- val_mean_days_emissione_fattura_pagamento_servizio_last_3_months_canale_ALL: double (nullable = true)\n",
      " |-- val_mean_days_scadenza_fattura_pagamento_servizio_last_3_months_canale_ALL: double (nullable = true)\n",
      " |-- val_mean_fattura_non_pagata_servizio_last_3_months_canale_ALL: double (nullable = true)\n",
      " |-- val_mean_fattura_pagata_non_totalmente_servizio_last_3_months_canale_ALL: double (nullable = true)\n",
      " |-- val_mean_fattura_pagata_totalmente_in_ritardo_servizio_last_3_months_canale_ALL: double (nullable = true)\n",
      " |-- val_mean_fattura_pagata_totalmente_nei_tempi_servizio_last_3_months_canale_ALL: double (nullable = true)\n",
      " |-- val_mean_val_fattura_non_pagato_servizio_last_3_months_canale_ALL: double (nullable = true)\n",
      " |-- qta_max_days_emissione_fattura_pagamento_servizio_last_3_months_canale_ALL: integer (nullable = true)\n",
      " |-- qta_max_days_scadenza_fattura_pagamento_servizio_last_3_months_canale_ALL: integer (nullable = true)\n",
      " |-- qta_cnt_fattura_non_pagata_servizio_last_3_months_canale_ALL: integer (nullable = true)\n",
      " |-- qta_cnt_fattura_pagata_non_totalmente_servizio_last_3_months_canale_ALL: integer (nullable = true)\n",
      " |-- qta_cnt_fattura_pagata_totalmente_in_ritardo_servizio_last_3_months_canale_ALL: integer (nullable = true)\n",
      " |-- qta_cnt_fattura_pagata_totalmente_nei_tempi_servizio_last_3_months_canale_ALL: integer (nullable = true)\n",
      " |-- qta_mesi_bw: integer (nullable = true)\n",
      " |-- fln_bolletta_web_attiva: byte (nullable = true)\n",
      " |-- fln_venditore_mercato_libero_gas_comune_METANO_NORD_SPA: byte (nullable = true)\n",
      " |-- fln_stesso_venditore_distributore_gas: byte (nullable = true)\n",
      " |-- fln_venditore_mercato_libero_gas_comune_EVOLVE_SRL: byte (nullable = true)\n",
      " |-- fln_venditore_mercato_libero_gas_comune_BURGO_GROUP: byte (nullable = true)\n",
      " |-- fln_venditore_mercato_libero_gas_comune_Gruppo_Canarbino: byte (nullable = true)\n",
      " |-- fln_venditore_mercato_libero_gas_comune_Gas_Rimini: byte (nullable = true)\n",
      " |-- fln_venditore_mercato_libero_gas_comune_Dolomiti_Energia: byte (nullable = true)\n",
      " |-- qta_cnt_venditori_mercato_libero_gas_comune: integer (nullable = true)\n",
      " |-- fln_distributore_gas_comune_Italgas: byte (nullable = true)\n",
      " |-- fln_distributore_gas_comune_2i_Rete_Gas_SpA: byte (nullable = true)\n",
      " |-- fln_venditore_mercato_libero_gas_comune_AIMAG: byte (nullable = true)\n",
      " |-- fln_venditore_mercato_libero_gas_comune_HERA: byte (nullable = true)\n",
      " |-- qta_cnt_comuni_serviti_distributore_gas: integer (nullable = true)\n",
      " |-- fln_venditore_mercato_libero_ele_comune_Gas_Rimini: byte (nullable = true)\n",
      " |-- qta_cnt_competitor_forti_enel_venditore_mercato_libero_ele: integer (nullable = true)\n",
      " |-- qta_cnt_competitor_forti_enel_venditore_mercato_libero_gas: integer (nullable = true)\n",
      " |-- qta_cnt_venditori_mercato_libero_ele_comune: integer (nullable = true)\n",
      " |-- fln_venditore_mercato_libero_gas_comune_Unogas: byte (nullable = true)\n",
      " |-- fln_distributore_energia_big: byte (nullable = true)\n",
      " |-- fln_distributore_energia_comune_A2A: byte (nullable = true)\n",
      " |-- fln_distributore_energia_comune_ASTEA_SPA: byte (nullable = true)\n",
      " |-- fln_distributore_energia_comune_Acea: byte (nullable = true)\n",
      " |-- fln_distributore_energia_comune_Alperia: byte (nullable = true)\n",
      " |-- fln_distributore_energia_comune_Dolomiti_Energia: byte (nullable = true)\n",
      " |-- fln_distributore_energia_comune_ENEL: byte (nullable = true)\n",
      " |-- fln_distributore_energia_comune_HERA: byte (nullable = true)\n",
      " |-- fln_distributore_energia_comune_IREN: byte (nullable = true)\n",
      " |-- fln_distributore_energia_comune_municipalizzata: byte (nullable = true)\n",
      " |-- fln_distributore_energia_enel: byte (nullable = true)\n",
      " |-- fln_distributore_gas_big: byte (nullable = true)\n",
      " |-- fln_distributore_gas_comune_A2A: byte (nullable = true)\n",
      " |-- fln_distributore_gas_comune_Alperia: byte (nullable = true)\n",
      " |-- fln_distributore_gas_comune_Dolomiti_Energia: byte (nullable = true)\n",
      " |-- fln_distributore_gas_comune_EDISON: byte (nullable = true)\n",
      " |-- fln_distributore_gas_comune_HERA: byte (nullable = true)\n",
      " |-- fln_distributore_gas_comune_IREN: byte (nullable = true)\n",
      " |-- fln_distributore_gas_comune_municipalizzata: byte (nullable = true)\n",
      " |-- fln_multi_distributore_energia_comune: byte (nullable = true)\n",
      " |-- fln_multi_distributore_gas_comune: byte (nullable = true)\n",
      " |-- fln_multi_venditori_mercato_libero_ele_comune: byte (nullable = true)\n",
      " |-- fln_multi_venditori_mercato_libero_gas_comune: byte (nullable = true)\n",
      " |-- fln_stesso_distributore_gas_ele: byte (nullable = true)\n",
      " |-- fln_stesso_venditore_distributore_ele: byte (nullable = true)\n",
      " |-- fln_stesso_venditore_distributore_ele_no_enel: byte (nullable = true)\n",
      " |-- fln_venditore_mercato_libero_ele_big: byte (nullable = true)\n",
      " |-- fln_venditore_mercato_libero_ele_comune_A2A: byte (nullable = true)\n",
      " |-- fln_venditore_mercato_libero_ele_comune_Acea: byte (nullable = true)\n",
      " |-- fln_venditore_mercato_libero_ele_comune_Alperia: byte (nullable = true)\n",
      " |-- fln_venditore_mercato_libero_ele_comune_Axpo_Group: byte (nullable = true)\n",
      " |-- fln_venditore_mercato_libero_ele_comune_Dolomiti_Energia: byte (nullable = true)\n",
      " |-- fln_venditore_mercato_libero_ele_comune_EDISON: byte (nullable = true)\n",
      " |-- fln_venditore_mercato_libero_ele_comune_ENEGAN: byte (nullable = true)\n",
      " |-- fln_venditore_mercato_libero_ele_comune_ENEL: byte (nullable = true)\n",
      " |-- fln_venditore_mercato_libero_ele_comune_ENGIE: byte (nullable = true)\n",
      " |-- fln_venditore_mercato_libero_ele_comune_ENI: byte (nullable = true)\n",
      " |-- fln_venditore_mercato_libero_ele_comune_EOn: byte (nullable = true)\n",
      " |-- fln_venditore_mercato_libero_ele_comune_Gruppo_Canarbino: byte (nullable = true)\n",
      " |-- fln_venditore_mercato_libero_ele_comune_HERA: byte (nullable = true)\n",
      " |-- fln_venditore_mercato_libero_ele_comune_IREN: byte (nullable = true)\n",
      " |-- fln_venditore_mercato_libero_ele_comune_Unogas: byte (nullable = true)\n",
      " |-- fln_venditore_mercato_libero_ele_comune_sorgenia: byte (nullable = true)\n",
      " |-- fln_venditore_mercato_libero_ele_enel: byte (nullable = true)\n",
      " |-- fln_venditore_mercato_libero_ele_only_small: byte (nullable = true)\n",
      " |-- fln_venditore_mercato_libero_gas_big: byte (nullable = true)\n",
      " |-- fln_venditore_mercato_libero_gas_comune_A2A: byte (nullable = true)\n",
      " |-- fln_venditore_mercato_libero_gas_comune_Acea: byte (nullable = true)\n",
      " |-- fln_venditore_mercato_libero_gas_comune_Alperia: byte (nullable = true)\n",
      " |-- fln_venditore_mercato_libero_gas_comune_Axpo_Group: byte (nullable = true)\n",
      " |-- fln_venditore_mercato_libero_gas_comune_EDISON: byte (nullable = true)\n",
      " |-- fln_venditore_mercato_libero_gas_comune_ENEGAN: byte (nullable = true)\n",
      " |-- fln_venditore_mercato_libero_gas_comune_ENEL: byte (nullable = true)\n",
      " |-- fln_venditore_mercato_libero_gas_comune_ENGIE: byte (nullable = true)\n",
      " |-- fln_venditore_mercato_libero_gas_comune_ENI: byte (nullable = true)\n",
      " |-- fln_venditore_mercato_libero_gas_comune_EOn: byte (nullable = true)\n",
      " |-- fln_venditore_mercato_libero_gas_comune_Green_Network: byte (nullable = true)\n",
      " |-- fln_venditore_mercato_libero_gas_comune_IREN: byte (nullable = true)\n",
      " |-- fln_venditore_mercato_libero_gas_enel: byte (nullable = true)\n",
      " |-- fln_venditore_mercato_libero_gas_only_small: byte (nullable = true)\n",
      " |-- qta_cnt_comuni_serviti_distributore_energia: integer (nullable = true)\n",
      " |-- qta_cnt_distributori_energia_comune: integer (nullable = true)\n",
      " |-- qta_cnt_distributori_gas_comune: integer (nullable = true)\n",
      " |-- val_Cliente_con_servizio_cessato: double (nullable = true)\n",
      " |-- val_Cliente_con_servizio_cessato_last_1_months: double (nullable = true)\n",
      " |-- val_Cliente_con_servizio_cessato_last_3_months: double (nullable = true)\n",
      " |-- val_Cliente_con_servizio_cessato_last_6_months: double (nullable = true)\n",
      " |-- val_Cliente_con_comunicazione_swp_storico: double (nullable = true)\n",
      " |-- val_Cliente_con_comunicazione_swp_storico_last_1_months: double (nullable = true)\n",
      " |-- val_Cliente_con_comunicazione_swp_storico_last_3_months: double (nullable = true)\n",
      " |-- val_Cliente_con_comunicazione_swp_storico_last_6_months: double (nullable = true)\n",
      " |-- qta_cnt_fln_contatti_inbound_reclamo_m1: integer (nullable = true)\n",
      " |-- qta_cnt_fln_contatti_inbound_guasti_m1: integer (nullable = true)\n",
      " |-- qta_cnt_fln_contatti_inbound_autolet_m1: integer (nullable = true)\n",
      " |-- qta_cnt_fln_contatti_inbound_m1: integer (nullable = true)\n",
      " |-- qta_cnt_fln_chiamate_inbound_m1: integer (nullable = true)\n",
      " |-- qta_cnt_fln_contatti_inbound_reclamo_m3: integer (nullable = true)\n",
      " |-- qta_cnt_fln_contatti_inbound_guasti_m3: integer (nullable = true)\n",
      " |-- qta_cnt_fln_contatti_inbound_autolet_m3: integer (nullable = true)\n",
      " |-- qta_cnt_fln_contatti_inbound_m3: integer (nullable = true)\n",
      " |-- qta_cnt_fln_chiamate_inbound_m3: integer (nullable = true)\n",
      " |-- qta_cnt_fln_contatti_inbound_reclamo_m6: integer (nullable = true)\n",
      " |-- qta_cnt_fln_contatti_inbound_guasti_m6: integer (nullable = true)\n",
      " |-- qta_cnt_fln_contatti_inbound_autolet_m6: integer (nullable = true)\n",
      " |-- qta_cnt_fln_contatti_inbound_m6: integer (nullable = true)\n",
      " |-- qta_cnt_fln_chiamate_inbound_m6: integer (nullable = true)\n",
      " |-- qta_cnt_fln_contatti_inbound_reclamo_m9: integer (nullable = true)\n",
      " |-- qta_cnt_fln_contatti_inbound_guasti_m9: integer (nullable = true)\n",
      " |-- qta_cnt_fln_contatti_inbound_autolet_m9: integer (nullable = true)\n",
      " |-- qta_cnt_fln_contatti_inbound_m9: integer (nullable = true)\n",
      " |-- qta_cnt_fln_chiamate_inbound_m9: integer (nullable = true)\n",
      " |-- qta_cnt_fln_contatti_inbound_reclamo_m12: integer (nullable = true)\n",
      " |-- qta_cnt_fln_contatti_inbound_guasti_m12: integer (nullable = true)\n",
      " |-- qta_cnt_fln_contatti_inbound_autolet_m12: integer (nullable = true)\n",
      " |-- qta_cnt_fln_contatti_inbound_m12: integer (nullable = true)\n",
      " |-- qta_cnt_fln_chiamate_inbound_m12: integer (nullable = true)\n",
      " |-- fln_enelpremia_flag: byte (nullable = true)\n",
      " |-- val_punti_avg_m1: double (nullable = true)\n",
      " |-- val_punti_delta_m3: double (nullable = true)\n",
      " |-- val_punti_avg_m3: double (nullable = true)\n",
      " |-- val_punti_min_m3: double (nullable = true)\n",
      " |-- val_punti_max_m3: double (nullable = true)\n",
      " |-- val_punti_delta_m9: double (nullable = true)\n",
      " |-- val_punti_avg_m9: double (nullable = true)\n",
      " |-- val_punti_min_m9: double (nullable = true)\n",
      " |-- val_punti_max_m9: double (nullable = true)\n",
      " |-- cdc_tenure_bucket: string (nullable = true)\n",
      " |-- cdn_cv2_servizio: integer (nullable = true)\n",
      " |-- dta_foto_bi: timestamp (nullable = true)\n",
      " |-- cdc_cv_fasce_servizio: string (nullable = true)\n",
      " |-- cdc_cv_fasce_cliente: string (nullable = true)\n",
      " |-- cdn_cv2_cliente: integer (nullable = true)\n",
      " |-- cdc_tenure_bucket_cliente: string (nullable = true)\n",
      " |-- fln_distacco_last_2_months: byte (nullable = true)\n",
      " |-- qta_cnt_distacchi_last_2_months: integer (nullable = true)\n",
      " |-- fln_riallaccio_last_2_months: byte (nullable = true)\n",
      " |-- qta_cnt_riallaccio_last_2_months: integer (nullable = true)\n",
      " |-- fln_servizio_attualmente_distaccato: byte (nullable = true)\n",
      " |-- fln_servizio_distaccato_e_riallacciato: byte (nullable = true)\n",
      " |-- qta_days_servizio_attualmente_distaccato: integer (nullable = true)\n",
      " |-- qta_days_servizio_riallacciato: integer (nullable = true)\n",
      " |-- fln_comunicazione_rinnovo_last_1_months: byte (nullable = true)\n",
      " |-- fln_comunicazione_rinnovo_last_1_months_sottocanale_CARTACEO: byte (nullable = true)\n",
      " |-- fln_comunicazione_rinnovo_last_1_months_sottocanale_FATTURA: byte (nullable = true)\n",
      " |-- fln_comunicazione_rinnovo_last_1_months_sottocanale_PEC: byte (nullable = true)\n",
      " |-- fln_rinnovo_last_1_months: byte (nullable = true)\n",
      " |-- fln_rinnovo_last_1_months_tipologia_ADEGUAMENTO: byte (nullable = true)\n",
      " |-- fln_rinnovo_last_1_months_tipologia_RVC: byte (nullable = true)\n",
      " |-- val_delta_prezzo_ele_last_1_months: double (nullable = true)\n",
      " |-- val_delta_prezzo_gas_last_1_months: double (nullable = true)\n",
      " |-- val_delta_prezzo_percentuale_ele_last_1_months: double (nullable = true)\n",
      " |-- val_delta_prezzo_percentuale_gas_last_1_months: double (nullable = true)\n",
      " |-- qta_days_emissione_fattura_pagamento_servizio_ultima_bolletta_emessa_canale_ALL: integer (nullable = true)\n",
      " |-- qta_days_incasso_fattura_today_servizio_ultima_bolletta_emessa_canale_ALL: integer (nullable = true)\n",
      " |-- qta_days_scadenza_fattura_pagamento_servizio_ultima_bolletta_emessa_canale_ALL: integer (nullable = true)\n",
      " |-- fln_fattura_non_pagata_servizio_ultima_bolletta_emessa_canale_ALL: byte (nullable = true)\n",
      " |-- fln_fattura_pagata_non_totalmente_servizio_ultima_bolletta_emessa_canale_ALL: byte (nullable = true)\n",
      " |-- fln_fattura_pagata_totalmente_in_ritardo_servizio_ultima_bolletta_emessa_canale_ALL: byte (nullable = true)\n",
      " |-- fln_fattura_pagata_totalmente_nei_tempi_servizio_ultima_bolletta_emessa_canale_ALL: byte (nullable = true)\n",
      " |-- val_fattura_non_pagato_servizio_ultima_bolletta_emessa_canale_ALL: double (nullable = true)\n",
      " |-- val_fattura_servizio_ultima_bolletta_emessa_canale_ALL: double (nullable = true)\n",
      " |-- val_incasso_servizio_ultima_bolletta_emessa_canale_ALL: double (nullable = true)\n",
      " |-- idn_run: long (nullable = true)\n",
      "\n"
     ]
    }
   ],
   "source": [
    "df.printSchema()"
   ]
  },
  {
   "cell_type": "code",
   "execution_count": 53,
   "metadata": {},
   "outputs": [
    {
     "data": {
      "text/plain": [
       "5264625"
      ]
     },
     "execution_count": 53,
     "metadata": {},
     "output_type": "execute_result"
    }
   ],
   "source": [
    "# 5264625\n",
    "input_data_small_medium.count()"
   ]
  },
  {
   "cell_type": "code",
   "execution_count": 54,
   "metadata": {},
   "outputs": [
    {
     "data": {
      "text/plain": [
       "20223914"
      ]
     },
     "execution_count": 54,
     "metadata": {},
     "output_type": "execute_result"
    }
   ],
   "source": [
    "# 20223914\n",
    "input_data_micro.count()"
   ]
  },
  {
   "cell_type": "markdown",
   "metadata": {},
   "source": [
    "In both cases (small/medium and micro) the calsses are highly imbalanced. The \"Stayed\" class is highly over represented:"
   ]
  },
  {
   "cell_type": "code",
   "execution_count": 18,
   "metadata": {},
   "outputs": [
    {
     "data": {
      "text/html": [
       "<div>\n",
       "<style scoped>\n",
       "    .dataframe tbody tr th:only-of-type {\n",
       "        vertical-align: middle;\n",
       "    }\n",
       "\n",
       "    .dataframe tbody tr th {\n",
       "        vertical-align: top;\n",
       "    }\n",
       "\n",
       "    .dataframe thead th {\n",
       "        text-align: right;\n",
       "    }\n",
       "</style>\n",
       "<table border=\"1\" class=\"dataframe\">\n",
       "  <thead>\n",
       "    <tr style=\"text-align: right;\">\n",
       "      <th></th>\n",
       "      <th>val_churn_2_months</th>\n",
       "      <th>count</th>\n",
       "    </tr>\n",
       "  </thead>\n",
       "  <tbody>\n",
       "    <tr>\n",
       "      <th>0</th>\n",
       "      <td>0.0</td>\n",
       "      <td>5110374</td>\n",
       "    </tr>\n",
       "    <tr>\n",
       "      <th>1</th>\n",
       "      <td>1.0</td>\n",
       "      <td>154251</td>\n",
       "    </tr>\n",
       "  </tbody>\n",
       "</table>\n",
       "</div>"
      ],
      "text/plain": [
       "   val_churn_2_months    count\n",
       "0                 0.0  5110374\n",
       "1                 1.0   154251"
      ]
     },
     "execution_count": 18,
     "metadata": {},
     "output_type": "execute_result"
    }
   ],
   "source": [
    "input_data_small_medium.groupby('val_churn_2_months').count().toPandas()"
   ]
  },
  {
   "cell_type": "code",
   "execution_count": 19,
   "metadata": {},
   "outputs": [
    {
     "data": {
      "text/html": [
       "<div>\n",
       "<style scoped>\n",
       "    .dataframe tbody tr th:only-of-type {\n",
       "        vertical-align: middle;\n",
       "    }\n",
       "\n",
       "    .dataframe tbody tr th {\n",
       "        vertical-align: top;\n",
       "    }\n",
       "\n",
       "    .dataframe thead th {\n",
       "        text-align: right;\n",
       "    }\n",
       "</style>\n",
       "<table border=\"1\" class=\"dataframe\">\n",
       "  <thead>\n",
       "    <tr style=\"text-align: right;\">\n",
       "      <th></th>\n",
       "      <th>val_churn_2_months</th>\n",
       "      <th>count</th>\n",
       "    </tr>\n",
       "  </thead>\n",
       "  <tbody>\n",
       "    <tr>\n",
       "      <th>0</th>\n",
       "      <td>0.0</td>\n",
       "      <td>19743291</td>\n",
       "    </tr>\n",
       "    <tr>\n",
       "      <th>1</th>\n",
       "      <td>1.0</td>\n",
       "      <td>480623</td>\n",
       "    </tr>\n",
       "  </tbody>\n",
       "</table>\n",
       "</div>"
      ],
      "text/plain": [
       "   val_churn_2_months     count\n",
       "0                 0.0  19743291\n",
       "1                 1.0    480623"
      ]
     },
     "execution_count": 19,
     "metadata": {},
     "output_type": "execute_result"
    }
   ],
   "source": [
    "input_data_micro.groupby('val_churn_2_months').count().toPandas()"
   ]
  },
  {
   "cell_type": "markdown",
   "metadata": {},
   "source": [
    "We have a lot of data and it would be a great thing if the quality of the data was also good. That is wat were are going to check.\n",
    "\n",
    "How many columns do we have in the data ?"
   ]
  },
  {
   "cell_type": "code",
   "execution_count": 21,
   "metadata": {},
   "outputs": [
    {
     "data": {
      "text/plain": [
       "767"
      ]
     },
     "execution_count": 21,
     "metadata": {},
     "output_type": "execute_result"
    }
   ],
   "source": [
    "len(df.columns)"
   ]
  },
  {
   "cell_type": "markdown",
   "metadata": {},
   "source": [
    "We have 769 columns in the data witch is a quite big number. let's explore the columns to assess whether or not they have an impact on the target variable.\n",
    "\n",
    "Now let's have a quick look into the data."
   ]
  },
  {
   "cell_type": "code",
   "execution_count": 22,
   "metadata": {},
   "outputs": [
    {
     "data": {
      "text/html": [
       "<div>\n",
       "<style scoped>\n",
       "    .dataframe tbody tr th:only-of-type {\n",
       "        vertical-align: middle;\n",
       "    }\n",
       "\n",
       "    .dataframe tbody tr th {\n",
       "        vertical-align: top;\n",
       "    }\n",
       "\n",
       "    .dataframe thead th {\n",
       "        text-align: right;\n",
       "    }\n",
       "</style>\n",
       "<table border=\"1\" class=\"dataframe\">\n",
       "  <thead>\n",
       "    <tr style=\"text-align: right;\">\n",
       "      <th></th>\n",
       "      <th>idn_servizio_sk</th>\n",
       "      <th>idn_cliente_sk</th>\n",
       "      <th>cdc_stato_servizio_calc</th>\n",
       "      <th>fk_cliente_unico</th>\n",
       "      <th>idc_id_key_servizio</th>\n",
       "      <th>idn_sito_sk</th>\n",
       "      <th>lds_prodotto_listino_2</th>\n",
       "      <th>sds_segmento_new</th>\n",
       "      <th>idc_id_key_cliente</th>\n",
       "      <th>lds_nome_listino</th>\n",
       "      <th>...</th>\n",
       "      <th>qta_days_incasso_fattura_today_servizio_ultima_bolletta_emessa_canale_ALL</th>\n",
       "      <th>qta_days_scadenza_fattura_pagamento_servizio_ultima_bolletta_emessa_canale_ALL</th>\n",
       "      <th>fln_fattura_non_pagata_servizio_ultima_bolletta_emessa_canale_ALL</th>\n",
       "      <th>fln_fattura_pagata_non_totalmente_servizio_ultima_bolletta_emessa_canale_ALL</th>\n",
       "      <th>fln_fattura_pagata_totalmente_in_ritardo_servizio_ultima_bolletta_emessa_canale_ALL</th>\n",
       "      <th>fln_fattura_pagata_totalmente_nei_tempi_servizio_ultima_bolletta_emessa_canale_ALL</th>\n",
       "      <th>val_fattura_non_pagato_servizio_ultima_bolletta_emessa_canale_ALL</th>\n",
       "      <th>val_fattura_servizio_ultima_bolletta_emessa_canale_ALL</th>\n",
       "      <th>val_incasso_servizio_ultima_bolletta_emessa_canale_ALL</th>\n",
       "      <th>idn_run</th>\n",
       "    </tr>\n",
       "  </thead>\n",
       "  <tbody>\n",
       "    <tr>\n",
       "      <th>0</th>\n",
       "      <td>1793</td>\n",
       "      <td>18106181</td>\n",
       "      <td>ATTIVATO</td>\n",
       "      <td>10444316</td>\n",
       "      <td>02i0Y000000kwTWQAY</td>\n",
       "      <td>16142308</td>\n",
       "      <td>ANNO SICURO GAS</td>\n",
       "      <td>SMALL</td>\n",
       "      <td>0010Y00000Ftp60QAB</td>\n",
       "      <td>AnnoSicuroGas_V1_ALL_rinnovi</td>\n",
       "      <td>...</td>\n",
       "      <td>27</td>\n",
       "      <td>4</td>\n",
       "      <td>0</td>\n",
       "      <td>0</td>\n",
       "      <td>1</td>\n",
       "      <td>0</td>\n",
       "      <td>0.0</td>\n",
       "      <td>137.41</td>\n",
       "      <td>137.41</td>\n",
       "      <td>202008061536</td>\n",
       "    </tr>\n",
       "    <tr>\n",
       "      <th>1</th>\n",
       "      <td>14838</td>\n",
       "      <td>17839407</td>\n",
       "      <td>ATTIVATO</td>\n",
       "      <td>16244741</td>\n",
       "      <td>02i0Y000000kzrvQAA</td>\n",
       "      <td>18215377</td>\n",
       "      <td>ENERGIA FLESSIBILE</td>\n",
       "      <td>SMALL</td>\n",
       "      <td>0010Y00000FmyzLQAR</td>\n",
       "      <td>Energia Flessibile BT rinnovi V1</td>\n",
       "      <td>...</td>\n",
       "      <td>33</td>\n",
       "      <td>0</td>\n",
       "      <td>0</td>\n",
       "      <td>0</td>\n",
       "      <td>0</td>\n",
       "      <td>1</td>\n",
       "      <td>0.0</td>\n",
       "      <td>499.29</td>\n",
       "      <td>499.29</td>\n",
       "      <td>202008061536</td>\n",
       "    </tr>\n",
       "    <tr>\n",
       "      <th>2</th>\n",
       "      <td>15707</td>\n",
       "      <td>18304878</td>\n",
       "      <td>ATTIVATO</td>\n",
       "      <td>1117099</td>\n",
       "      <td>02i0Y000000l05wQAA</td>\n",
       "      <td>11939464</td>\n",
       "      <td>ANNO SICURO</td>\n",
       "      <td>SMALL</td>\n",
       "      <td>0010Y00000FywFqQAJ</td>\n",
       "      <td>Anno Sicuro P.A. Verde_V3_rinnovi</td>\n",
       "      <td>...</td>\n",
       "      <td>20</td>\n",
       "      <td>17</td>\n",
       "      <td>0</td>\n",
       "      <td>0</td>\n",
       "      <td>1</td>\n",
       "      <td>0</td>\n",
       "      <td>0.0</td>\n",
       "      <td>1052.53</td>\n",
       "      <td>1052.53</td>\n",
       "      <td>202008061536</td>\n",
       "    </tr>\n",
       "    <tr>\n",
       "      <th>3</th>\n",
       "      <td>30655</td>\n",
       "      <td>16598734</td>\n",
       "      <td>ATTIVATO</td>\n",
       "      <td>14705691</td>\n",
       "      <td>02i0Y000000l3z2QAA</td>\n",
       "      <td>13044177</td>\n",
       "      <td>SENZA ORARI LUCE</td>\n",
       "      <td>SMALL</td>\n",
       "      <td>0010Y00000FH4dxQAD</td>\n",
       "      <td>SenzaOrariLuce_V3_rinnovi</td>\n",
       "      <td>...</td>\n",
       "      <td>33</td>\n",
       "      <td>0</td>\n",
       "      <td>0</td>\n",
       "      <td>0</td>\n",
       "      <td>0</td>\n",
       "      <td>1</td>\n",
       "      <td>0.0</td>\n",
       "      <td>511.56</td>\n",
       "      <td>511.56</td>\n",
       "      <td>202008061536</td>\n",
       "    </tr>\n",
       "    <tr>\n",
       "      <th>4</th>\n",
       "      <td>38603</td>\n",
       "      <td>16518192</td>\n",
       "      <td>ATTIVATO</td>\n",
       "      <td>6110087</td>\n",
       "      <td>02i0Y000000l63EQAQ</td>\n",
       "      <td>21735930</td>\n",
       "      <td>ANNO SICURO</td>\n",
       "      <td>SMALL</td>\n",
       "      <td>0010Y00000FF1ORQA1</td>\n",
       "      <td>Anno Sicuro_rinnovi</td>\n",
       "      <td>...</td>\n",
       "      <td>33</td>\n",
       "      <td>0</td>\n",
       "      <td>0</td>\n",
       "      <td>0</td>\n",
       "      <td>0</td>\n",
       "      <td>1</td>\n",
       "      <td>0.0</td>\n",
       "      <td>126.12</td>\n",
       "      <td>126.12</td>\n",
       "      <td>202008061536</td>\n",
       "    </tr>\n",
       "  </tbody>\n",
       "</table>\n",
       "<p>5 rows × 767 columns</p>\n",
       "</div>"
      ],
      "text/plain": [
       "   idn_servizio_sk  idn_cliente_sk cdc_stato_servizio_calc  fk_cliente_unico  \\\n",
       "0             1793        18106181                ATTIVATO          10444316   \n",
       "1            14838        17839407                ATTIVATO          16244741   \n",
       "2            15707        18304878                ATTIVATO           1117099   \n",
       "3            30655        16598734                ATTIVATO          14705691   \n",
       "4            38603        16518192                ATTIVATO           6110087   \n",
       "\n",
       "  idc_id_key_servizio  idn_sito_sk lds_prodotto_listino_2 sds_segmento_new  \\\n",
       "0  02i0Y000000kwTWQAY     16142308        ANNO SICURO GAS            SMALL   \n",
       "1  02i0Y000000kzrvQAA     18215377     ENERGIA FLESSIBILE            SMALL   \n",
       "2  02i0Y000000l05wQAA     11939464            ANNO SICURO            SMALL   \n",
       "3  02i0Y000000l3z2QAA     13044177       SENZA ORARI LUCE            SMALL   \n",
       "4  02i0Y000000l63EQAQ     21735930            ANNO SICURO            SMALL   \n",
       "\n",
       "   idc_id_key_cliente                   lds_nome_listino  ...  \\\n",
       "0  0010Y00000Ftp60QAB       AnnoSicuroGas_V1_ALL_rinnovi  ...   \n",
       "1  0010Y00000FmyzLQAR   Energia Flessibile BT rinnovi V1  ...   \n",
       "2  0010Y00000FywFqQAJ  Anno Sicuro P.A. Verde_V3_rinnovi  ...   \n",
       "3  0010Y00000FH4dxQAD          SenzaOrariLuce_V3_rinnovi  ...   \n",
       "4  0010Y00000FF1ORQA1                Anno Sicuro_rinnovi  ...   \n",
       "\n",
       "  qta_days_incasso_fattura_today_servizio_ultima_bolletta_emessa_canale_ALL  \\\n",
       "0                                                                        27   \n",
       "1                                                                        33   \n",
       "2                                                                        20   \n",
       "3                                                                        33   \n",
       "4                                                                        33   \n",
       "\n",
       "  qta_days_scadenza_fattura_pagamento_servizio_ultima_bolletta_emessa_canale_ALL  \\\n",
       "0                                                                              4   \n",
       "1                                                                              0   \n",
       "2                                                                             17   \n",
       "3                                                                              0   \n",
       "4                                                                              0   \n",
       "\n",
       "   fln_fattura_non_pagata_servizio_ultima_bolletta_emessa_canale_ALL  \\\n",
       "0                                                                  0   \n",
       "1                                                                  0   \n",
       "2                                                                  0   \n",
       "3                                                                  0   \n",
       "4                                                                  0   \n",
       "\n",
       "  fln_fattura_pagata_non_totalmente_servizio_ultima_bolletta_emessa_canale_ALL  \\\n",
       "0                                                                            0   \n",
       "1                                                                            0   \n",
       "2                                                                            0   \n",
       "3                                                                            0   \n",
       "4                                                                            0   \n",
       "\n",
       "  fln_fattura_pagata_totalmente_in_ritardo_servizio_ultima_bolletta_emessa_canale_ALL  \\\n",
       "0                                                                                   1   \n",
       "1                                                                                   0   \n",
       "2                                                                                   1   \n",
       "3                                                                                   0   \n",
       "4                                                                                   0   \n",
       "\n",
       "  fln_fattura_pagata_totalmente_nei_tempi_servizio_ultima_bolletta_emessa_canale_ALL  \\\n",
       "0                                                                                  0   \n",
       "1                                                                                  1   \n",
       "2                                                                                  0   \n",
       "3                                                                                  1   \n",
       "4                                                                                  1   \n",
       "\n",
       "  val_fattura_non_pagato_servizio_ultima_bolletta_emessa_canale_ALL  \\\n",
       "0                                                               0.0   \n",
       "1                                                               0.0   \n",
       "2                                                               0.0   \n",
       "3                                                               0.0   \n",
       "4                                                               0.0   \n",
       "\n",
       "  val_fattura_servizio_ultima_bolletta_emessa_canale_ALL  \\\n",
       "0                                                 137.41   \n",
       "1                                                 499.29   \n",
       "2                                                1052.53   \n",
       "3                                                 511.56   \n",
       "4                                                 126.12   \n",
       "\n",
       "  val_incasso_servizio_ultima_bolletta_emessa_canale_ALL       idn_run  \n",
       "0                                                 137.41  202008061536  \n",
       "1                                                 499.29  202008061536  \n",
       "2                                                1052.53  202008061536  \n",
       "3                                                 511.56  202008061536  \n",
       "4                                                 126.12  202008061536  \n",
       "\n",
       "[5 rows x 767 columns]"
      ]
     },
     "execution_count": 22,
     "metadata": {},
     "output_type": "execute_result"
    }
   ],
   "source": [
    "input_data_small_medium.limit(10).toPandas().head(5)"
   ]
  },
  {
   "cell_type": "code",
   "execution_count": 23,
   "metadata": {},
   "outputs": [
    {
     "data": {
      "text/html": [
       "<div>\n",
       "<style scoped>\n",
       "    .dataframe tbody tr th:only-of-type {\n",
       "        vertical-align: middle;\n",
       "    }\n",
       "\n",
       "    .dataframe tbody tr th {\n",
       "        vertical-align: top;\n",
       "    }\n",
       "\n",
       "    .dataframe thead th {\n",
       "        text-align: right;\n",
       "    }\n",
       "</style>\n",
       "<table border=\"1\" class=\"dataframe\">\n",
       "  <thead>\n",
       "    <tr style=\"text-align: right;\">\n",
       "      <th></th>\n",
       "      <th>idn_servizio_sk</th>\n",
       "      <th>idn_cliente_sk</th>\n",
       "      <th>cdc_stato_servizio_calc</th>\n",
       "      <th>fk_cliente_unico</th>\n",
       "      <th>idc_id_key_servizio</th>\n",
       "      <th>idn_sito_sk</th>\n",
       "      <th>lds_prodotto_listino_2</th>\n",
       "      <th>sds_segmento_new</th>\n",
       "      <th>idc_id_key_cliente</th>\n",
       "      <th>lds_nome_listino</th>\n",
       "      <th>...</th>\n",
       "      <th>qta_days_incasso_fattura_today_servizio_ultima_bolletta_emessa_canale_ALL</th>\n",
       "      <th>qta_days_scadenza_fattura_pagamento_servizio_ultima_bolletta_emessa_canale_ALL</th>\n",
       "      <th>fln_fattura_non_pagata_servizio_ultima_bolletta_emessa_canale_ALL</th>\n",
       "      <th>fln_fattura_pagata_non_totalmente_servizio_ultima_bolletta_emessa_canale_ALL</th>\n",
       "      <th>fln_fattura_pagata_totalmente_in_ritardo_servizio_ultima_bolletta_emessa_canale_ALL</th>\n",
       "      <th>fln_fattura_pagata_totalmente_nei_tempi_servizio_ultima_bolletta_emessa_canale_ALL</th>\n",
       "      <th>val_fattura_non_pagato_servizio_ultima_bolletta_emessa_canale_ALL</th>\n",
       "      <th>val_fattura_servizio_ultima_bolletta_emessa_canale_ALL</th>\n",
       "      <th>val_incasso_servizio_ultima_bolletta_emessa_canale_ALL</th>\n",
       "      <th>idn_run</th>\n",
       "    </tr>\n",
       "  </thead>\n",
       "  <tbody>\n",
       "    <tr>\n",
       "      <th>0</th>\n",
       "      <td>-38633771300</td>\n",
       "      <td>16319465</td>\n",
       "      <td>***</td>\n",
       "      <td>1687363</td>\n",
       "      <td>a1Q1n00000YAeHjEAL</td>\n",
       "      <td>42040856</td>\n",
       "      <td>ANNO SICURO CONVENZIONE</td>\n",
       "      <td>MICRO</td>\n",
       "      <td>0010Y00000F9y2yQAB</td>\n",
       "      <td>***</td>\n",
       "      <td>...</td>\n",
       "      <td>357877</td>\n",
       "      <td>357877</td>\n",
       "      <td>0</td>\n",
       "      <td>0</td>\n",
       "      <td>0</td>\n",
       "      <td>0</td>\n",
       "      <td>0.0</td>\n",
       "      <td>0.0</td>\n",
       "      <td>0.0</td>\n",
       "      <td>202008061536</td>\n",
       "    </tr>\n",
       "    <tr>\n",
       "      <th>1</th>\n",
       "      <td>-36975487700</td>\n",
       "      <td>12398573</td>\n",
       "      <td>***</td>\n",
       "      <td>289434</td>\n",
       "      <td>a1Q1n00000apdHCEAY</td>\n",
       "      <td>22075281</td>\n",
       "      <td>GIUSTAXTE IMPRESA</td>\n",
       "      <td>MICRO</td>\n",
       "      <td>0010Y00000G1vgDQAR</td>\n",
       "      <td>***</td>\n",
       "      <td>...</td>\n",
       "      <td>357877</td>\n",
       "      <td>357877</td>\n",
       "      <td>0</td>\n",
       "      <td>0</td>\n",
       "      <td>0</td>\n",
       "      <td>0</td>\n",
       "      <td>0.0</td>\n",
       "      <td>0.0</td>\n",
       "      <td>0.0</td>\n",
       "      <td>202008061536</td>\n",
       "    </tr>\n",
       "    <tr>\n",
       "      <th>2</th>\n",
       "      <td>-35686860200</td>\n",
       "      <td>3091484</td>\n",
       "      <td>***</td>\n",
       "      <td>6771271</td>\n",
       "      <td>a1Q1n00000XK979EAD</td>\n",
       "      <td>40922357</td>\n",
       "      <td>GIUSTAXTE IMPRESA</td>\n",
       "      <td>MICRO</td>\n",
       "      <td>0010Y00000FHEyVQAX</td>\n",
       "      <td>***</td>\n",
       "      <td>...</td>\n",
       "      <td>357877</td>\n",
       "      <td>357877</td>\n",
       "      <td>0</td>\n",
       "      <td>0</td>\n",
       "      <td>0</td>\n",
       "      <td>0</td>\n",
       "      <td>0.0</td>\n",
       "      <td>0.0</td>\n",
       "      <td>0.0</td>\n",
       "      <td>202008061536</td>\n",
       "    </tr>\n",
       "    <tr>\n",
       "      <th>3</th>\n",
       "      <td>-35537293100</td>\n",
       "      <td>1596259</td>\n",
       "      <td>***</td>\n",
       "      <td>11432447</td>\n",
       "      <td>a1Q1n00000WnKQJEA3</td>\n",
       "      <td>35261079</td>\n",
       "      <td>ANNO SICURO</td>\n",
       "      <td>MICRO</td>\n",
       "      <td>0010Y00000F9isaQAB</td>\n",
       "      <td>***</td>\n",
       "      <td>...</td>\n",
       "      <td>357877</td>\n",
       "      <td>357877</td>\n",
       "      <td>0</td>\n",
       "      <td>0</td>\n",
       "      <td>0</td>\n",
       "      <td>0</td>\n",
       "      <td>0.0</td>\n",
       "      <td>0.0</td>\n",
       "      <td>0.0</td>\n",
       "      <td>202008061536</td>\n",
       "    </tr>\n",
       "    <tr>\n",
       "      <th>4</th>\n",
       "      <td>-35483080500</td>\n",
       "      <td>21286431</td>\n",
       "      <td>***</td>\n",
       "      <td>20426914</td>\n",
       "      <td>a1Q1n00000W7vlQEAR</td>\n",
       "      <td>13601683</td>\n",
       "      <td>SOLUZIONE ENERGIA IMPRESA X TE</td>\n",
       "      <td>MICRO</td>\n",
       "      <td>0011n000029U8s4AAC</td>\n",
       "      <td>***</td>\n",
       "      <td>...</td>\n",
       "      <td>357877</td>\n",
       "      <td>357877</td>\n",
       "      <td>0</td>\n",
       "      <td>0</td>\n",
       "      <td>0</td>\n",
       "      <td>0</td>\n",
       "      <td>0.0</td>\n",
       "      <td>0.0</td>\n",
       "      <td>0.0</td>\n",
       "      <td>202008061536</td>\n",
       "    </tr>\n",
       "  </tbody>\n",
       "</table>\n",
       "<p>5 rows × 767 columns</p>\n",
       "</div>"
      ],
      "text/plain": [
       "   idn_servizio_sk  idn_cliente_sk cdc_stato_servizio_calc  fk_cliente_unico  \\\n",
       "0     -38633771300        16319465                     ***           1687363   \n",
       "1     -36975487700        12398573                     ***            289434   \n",
       "2     -35686860200         3091484                     ***           6771271   \n",
       "3     -35537293100         1596259                     ***          11432447   \n",
       "4     -35483080500        21286431                     ***          20426914   \n",
       "\n",
       "  idc_id_key_servizio  idn_sito_sk          lds_prodotto_listino_2  \\\n",
       "0  a1Q1n00000YAeHjEAL     42040856         ANNO SICURO CONVENZIONE   \n",
       "1  a1Q1n00000apdHCEAY     22075281               GIUSTAXTE IMPRESA   \n",
       "2  a1Q1n00000XK979EAD     40922357               GIUSTAXTE IMPRESA   \n",
       "3  a1Q1n00000WnKQJEA3     35261079                     ANNO SICURO   \n",
       "4  a1Q1n00000W7vlQEAR     13601683  SOLUZIONE ENERGIA IMPRESA X TE   \n",
       "\n",
       "  sds_segmento_new  idc_id_key_cliente lds_nome_listino  ...  \\\n",
       "0            MICRO  0010Y00000F9y2yQAB              ***  ...   \n",
       "1            MICRO  0010Y00000G1vgDQAR              ***  ...   \n",
       "2            MICRO  0010Y00000FHEyVQAX              ***  ...   \n",
       "3            MICRO  0010Y00000F9isaQAB              ***  ...   \n",
       "4            MICRO  0011n000029U8s4AAC              ***  ...   \n",
       "\n",
       "  qta_days_incasso_fattura_today_servizio_ultima_bolletta_emessa_canale_ALL  \\\n",
       "0                                                                    357877   \n",
       "1                                                                    357877   \n",
       "2                                                                    357877   \n",
       "3                                                                    357877   \n",
       "4                                                                    357877   \n",
       "\n",
       "  qta_days_scadenza_fattura_pagamento_servizio_ultima_bolletta_emessa_canale_ALL  \\\n",
       "0                                                                         357877   \n",
       "1                                                                         357877   \n",
       "2                                                                         357877   \n",
       "3                                                                         357877   \n",
       "4                                                                         357877   \n",
       "\n",
       "   fln_fattura_non_pagata_servizio_ultima_bolletta_emessa_canale_ALL  \\\n",
       "0                                                                  0   \n",
       "1                                                                  0   \n",
       "2                                                                  0   \n",
       "3                                                                  0   \n",
       "4                                                                  0   \n",
       "\n",
       "  fln_fattura_pagata_non_totalmente_servizio_ultima_bolletta_emessa_canale_ALL  \\\n",
       "0                                                                            0   \n",
       "1                                                                            0   \n",
       "2                                                                            0   \n",
       "3                                                                            0   \n",
       "4                                                                            0   \n",
       "\n",
       "  fln_fattura_pagata_totalmente_in_ritardo_servizio_ultima_bolletta_emessa_canale_ALL  \\\n",
       "0                                                                                   0   \n",
       "1                                                                                   0   \n",
       "2                                                                                   0   \n",
       "3                                                                                   0   \n",
       "4                                                                                   0   \n",
       "\n",
       "  fln_fattura_pagata_totalmente_nei_tempi_servizio_ultima_bolletta_emessa_canale_ALL  \\\n",
       "0                                                                                  0   \n",
       "1                                                                                  0   \n",
       "2                                                                                  0   \n",
       "3                                                                                  0   \n",
       "4                                                                                  0   \n",
       "\n",
       "  val_fattura_non_pagato_servizio_ultima_bolletta_emessa_canale_ALL  \\\n",
       "0                                                               0.0   \n",
       "1                                                               0.0   \n",
       "2                                                               0.0   \n",
       "3                                                               0.0   \n",
       "4                                                               0.0   \n",
       "\n",
       "  val_fattura_servizio_ultima_bolletta_emessa_canale_ALL  \\\n",
       "0                                                    0.0   \n",
       "1                                                    0.0   \n",
       "2                                                    0.0   \n",
       "3                                                    0.0   \n",
       "4                                                    0.0   \n",
       "\n",
       "  val_incasso_servizio_ultima_bolletta_emessa_canale_ALL       idn_run  \n",
       "0                                                    0.0  202008061536  \n",
       "1                                                    0.0  202008061536  \n",
       "2                                                    0.0  202008061536  \n",
       "3                                                    0.0  202008061536  \n",
       "4                                                    0.0  202008061536  \n",
       "\n",
       "[5 rows x 767 columns]"
      ]
     },
     "execution_count": 23,
     "metadata": {},
     "output_type": "execute_result"
    }
   ],
   "source": [
    "input_data_micro.limit(10).toPandas().head(5)"
   ]
  },
  {
   "cell_type": "code",
   "execution_count": 7,
   "metadata": {},
   "outputs": [],
   "source": [
    "summary_small_medium = input_data_small_medium.summary()"
   ]
  },
  {
   "cell_type": "code",
   "execution_count": null,
   "metadata": {},
   "outputs": [],
   "source": [
    "summary_micro = input_data_micro.summary()"
   ]
  },
  {
   "cell_type": "code",
   "execution_count": 9,
   "metadata": {},
   "outputs": [],
   "source": [
    "summary_small_medium.write.mode('overwrite').parquet(\"/bda/anx_adv_achurn/durand/summary_small_medium\")\n",
    "summary_micro.write.mode('overwrite').parquet(\"/bda/anx_adv_achurn/durand/summary_micro\")"
   ]
  },
  {
   "cell_type": "code",
   "execution_count": 10,
   "metadata": {},
   "outputs": [],
   "source": [
    "summary_small_medium = session.read.parquet(\"/bda/anx_adv_achurn/durand/summary_small_medium\")\n",
    "summary_micro = session.read.parquet(\"/bda/anx_adv_achurn/durand/summary_micro\")"
   ]
  },
  {
   "cell_type": "code",
   "execution_count": 11,
   "metadata": {},
   "outputs": [
    {
     "data": {
      "text/html": [
       "<div>\n",
       "<style scoped>\n",
       "    .dataframe tbody tr th:only-of-type {\n",
       "        vertical-align: middle;\n",
       "    }\n",
       "\n",
       "    .dataframe tbody tr th {\n",
       "        vertical-align: top;\n",
       "    }\n",
       "\n",
       "    .dataframe thead th {\n",
       "        text-align: right;\n",
       "    }\n",
       "</style>\n",
       "<table border=\"1\" class=\"dataframe\">\n",
       "  <thead>\n",
       "    <tr style=\"text-align: right;\">\n",
       "      <th></th>\n",
       "      <th>summary</th>\n",
       "      <th>idn_servizio_sk</th>\n",
       "      <th>idn_cliente_sk</th>\n",
       "      <th>cdc_stato_servizio_calc</th>\n",
       "      <th>fk_cliente_unico</th>\n",
       "      <th>idc_id_key_servizio</th>\n",
       "      <th>idn_sito_sk</th>\n",
       "      <th>lds_prodotto_listino_2</th>\n",
       "      <th>sds_segmento_new</th>\n",
       "      <th>idc_id_key_cliente</th>\n",
       "      <th>...</th>\n",
       "      <th>qta_days_incasso_fattura_today_servizio_ultima_bolletta_emessa_canale_ALL</th>\n",
       "      <th>qta_days_scadenza_fattura_pagamento_servizio_ultima_bolletta_emessa_canale_ALL</th>\n",
       "      <th>fln_fattura_non_pagata_servizio_ultima_bolletta_emessa_canale_ALL</th>\n",
       "      <th>fln_fattura_pagata_non_totalmente_servizio_ultima_bolletta_emessa_canale_ALL</th>\n",
       "      <th>fln_fattura_pagata_totalmente_in_ritardo_servizio_ultima_bolletta_emessa_canale_ALL</th>\n",
       "      <th>fln_fattura_pagata_totalmente_nei_tempi_servizio_ultima_bolletta_emessa_canale_ALL</th>\n",
       "      <th>val_fattura_non_pagato_servizio_ultima_bolletta_emessa_canale_ALL</th>\n",
       "      <th>val_fattura_servizio_ultima_bolletta_emessa_canale_ALL</th>\n",
       "      <th>val_incasso_servizio_ultima_bolletta_emessa_canale_ALL</th>\n",
       "      <th>idn_run</th>\n",
       "    </tr>\n",
       "  </thead>\n",
       "  <tbody>\n",
       "    <tr>\n",
       "      <th>0</th>\n",
       "      <td>mean</td>\n",
       "      <td>2.554013142327478E7</td>\n",
       "      <td>1.75743310441587E7</td>\n",
       "      <td>None</td>\n",
       "      <td>9310848.990407674</td>\n",
       "      <td>None</td>\n",
       "      <td>2.050296875372225E7</td>\n",
       "      <td>None</td>\n",
       "      <td>None</td>\n",
       "      <td>None</td>\n",
       "      <td>...</td>\n",
       "      <td>64733.79304679821</td>\n",
       "      <td>64704.383214758884</td>\n",
       "      <td>0.07889488804995608</td>\n",
       "      <td>0.08938566374623073</td>\n",
       "      <td>0.28409449865849895</td>\n",
       "      <td>0.5247080276372961</td>\n",
       "      <td>86.91974286107757</td>\n",
       "      <td>789.1427461234174</td>\n",
       "      <td>702.2230032623398</td>\n",
       "      <td>2.020080501338317E11</td>\n",
       "    </tr>\n",
       "    <tr>\n",
       "      <th>1</th>\n",
       "      <td>stddev</td>\n",
       "      <td>4.441346541131993E8</td>\n",
       "      <td>2481342.7339809895</td>\n",
       "      <td>None</td>\n",
       "      <td>6166467.687231435</td>\n",
       "      <td>None</td>\n",
       "      <td>1.184845707359932E7</td>\n",
       "      <td>None</td>\n",
       "      <td>None</td>\n",
       "      <td>None</td>\n",
       "      <td>...</td>\n",
       "      <td>137769.15591318213</td>\n",
       "      <td>137779.17707572255</td>\n",
       "      <td>0.2695746621867269</td>\n",
       "      <td>0.2852996360386471</td>\n",
       "      <td>0.4509820984505132</td>\n",
       "      <td>0.49938918764935875</td>\n",
       "      <td>1144.5423621596</td>\n",
       "      <td>2341.095792290327</td>\n",
       "      <td>2059.3885609462554</td>\n",
       "      <td>6005.089631812453</td>\n",
       "    </tr>\n",
       "    <tr>\n",
       "      <th>2</th>\n",
       "      <td>count</td>\n",
       "      <td>5264625</td>\n",
       "      <td>5264625</td>\n",
       "      <td>5264625</td>\n",
       "      <td>5264625</td>\n",
       "      <td>5264625</td>\n",
       "      <td>5264625</td>\n",
       "      <td>5264625</td>\n",
       "      <td>5264625</td>\n",
       "      <td>5264625</td>\n",
       "      <td>...</td>\n",
       "      <td>5264625</td>\n",
       "      <td>5264625</td>\n",
       "      <td>5264625</td>\n",
       "      <td>5264625</td>\n",
       "      <td>5264625</td>\n",
       "      <td>5264625</td>\n",
       "      <td>5264625</td>\n",
       "      <td>5264625</td>\n",
       "      <td>5264625</td>\n",
       "      <td>5264625</td>\n",
       "    </tr>\n",
       "    <tr>\n",
       "      <th>3</th>\n",
       "      <td>max</td>\n",
       "      <td>70654888</td>\n",
       "      <td>22239932</td>\n",
       "      <td>SOSPESO</td>\n",
       "      <td>21511107</td>\n",
       "      <td>a1Q1n00000fPFrbEAG</td>\n",
       "      <td>42237818</td>\n",
       "      <td>VANTAGGIO STAGIONE BUS</td>\n",
       "      <td>SMALL</td>\n",
       "      <td>0011n00002Ln1QaAAJ</td>\n",
       "      <td>...</td>\n",
       "      <td>358541</td>\n",
       "      <td>358525</td>\n",
       "      <td>1</td>\n",
       "      <td>1</td>\n",
       "      <td>1</td>\n",
       "      <td>1</td>\n",
       "      <td>966190.48</td>\n",
       "      <td>1170370.64</td>\n",
       "      <td>1170370.64</td>\n",
       "      <td>202008061536</td>\n",
       "    </tr>\n",
       "    <tr>\n",
       "      <th>4</th>\n",
       "      <td>min</td>\n",
       "      <td>-38608507500</td>\n",
       "      <td>368</td>\n",
       "      <td>***</td>\n",
       "      <td>-21797597</td>\n",
       "      <td>02i0Y000000kw1EQAQ</td>\n",
       "      <td>2016</td>\n",
       "      <td>***</td>\n",
       "      <td>MEDIUM</td>\n",
       "      <td>***</td>\n",
       "      <td>...</td>\n",
       "      <td>1</td>\n",
       "      <td>-168</td>\n",
       "      <td>0</td>\n",
       "      <td>0</td>\n",
       "      <td>0</td>\n",
       "      <td>0</td>\n",
       "      <td>-1500.0</td>\n",
       "      <td>0.0</td>\n",
       "      <td>-2698.0</td>\n",
       "      <td>202008041528</td>\n",
       "    </tr>\n",
       "    <tr>\n",
       "      <th>5</th>\n",
       "      <td>75%</td>\n",
       "      <td>54210434</td>\n",
       "      <td>18798921</td>\n",
       "      <td>None</td>\n",
       "      <td>14348005</td>\n",
       "      <td>None</td>\n",
       "      <td>29731157</td>\n",
       "      <td>None</td>\n",
       "      <td>None</td>\n",
       "      <td>None</td>\n",
       "      <td>...</td>\n",
       "      <td>66</td>\n",
       "      <td>23</td>\n",
       "      <td>0</td>\n",
       "      <td>0</td>\n",
       "      <td>1</td>\n",
       "      <td>1</td>\n",
       "      <td>0.0</td>\n",
       "      <td>870.41</td>\n",
       "      <td>789.04</td>\n",
       "      <td>202008052019</td>\n",
       "    </tr>\n",
       "    <tr>\n",
       "      <th>6</th>\n",
       "      <td>50%</td>\n",
       "      <td>22358042</td>\n",
       "      <td>17817702</td>\n",
       "      <td>None</td>\n",
       "      <td>8779072</td>\n",
       "      <td>None</td>\n",
       "      <td>20084344</td>\n",
       "      <td>None</td>\n",
       "      <td>None</td>\n",
       "      <td>None</td>\n",
       "      <td>...</td>\n",
       "      <td>36</td>\n",
       "      <td>0</td>\n",
       "      <td>0</td>\n",
       "      <td>0</td>\n",
       "      <td>0</td>\n",
       "      <td>1</td>\n",
       "      <td>0.0</td>\n",
       "      <td>422.39</td>\n",
       "      <td>365.83</td>\n",
       "      <td>202008050750</td>\n",
       "    </tr>\n",
       "    <tr>\n",
       "      <th>7</th>\n",
       "      <td>25%</td>\n",
       "      <td>11147963</td>\n",
       "      <td>16833655</td>\n",
       "      <td>None</td>\n",
       "      <td>3920582</td>\n",
       "      <td>None</td>\n",
       "      <td>10382757</td>\n",
       "      <td>None</td>\n",
       "      <td>None</td>\n",
       "      <td>None</td>\n",
       "      <td>...</td>\n",
       "      <td>33</td>\n",
       "      <td>0</td>\n",
       "      <td>0</td>\n",
       "      <td>0</td>\n",
       "      <td>0</td>\n",
       "      <td>0</td>\n",
       "      <td>0.0</td>\n",
       "      <td>169.62</td>\n",
       "      <td>79.73</td>\n",
       "      <td>202008042240</td>\n",
       "    </tr>\n",
       "  </tbody>\n",
       "</table>\n",
       "<p>8 rows × 763 columns</p>\n",
       "</div>"
      ],
      "text/plain": [
       "  summary      idn_servizio_sk      idn_cliente_sk cdc_stato_servizio_calc  \\\n",
       "0    mean  2.554013142327478E7  1.75743310441587E7                    None   \n",
       "1  stddev  4.441346541131993E8  2481342.7339809895                    None   \n",
       "2   count              5264625             5264625                 5264625   \n",
       "3     max             70654888            22239932                 SOSPESO   \n",
       "4     min         -38608507500                 368                     ***   \n",
       "5     75%             54210434            18798921                    None   \n",
       "6     50%             22358042            17817702                    None   \n",
       "7     25%             11147963            16833655                    None   \n",
       "\n",
       "    fk_cliente_unico idc_id_key_servizio          idn_sito_sk  \\\n",
       "0  9310848.990407674                None  2.050296875372225E7   \n",
       "1  6166467.687231435                None  1.184845707359932E7   \n",
       "2            5264625             5264625              5264625   \n",
       "3           21511107  a1Q1n00000fPFrbEAG             42237818   \n",
       "4          -21797597  02i0Y000000kw1EQAQ                 2016   \n",
       "5           14348005                None             29731157   \n",
       "6            8779072                None             20084344   \n",
       "7            3920582                None             10382757   \n",
       "\n",
       "   lds_prodotto_listino_2 sds_segmento_new  idc_id_key_cliente  ...  \\\n",
       "0                    None             None                None  ...   \n",
       "1                    None             None                None  ...   \n",
       "2                 5264625          5264625             5264625  ...   \n",
       "3  VANTAGGIO STAGIONE BUS            SMALL  0011n00002Ln1QaAAJ  ...   \n",
       "4                     ***           MEDIUM                 ***  ...   \n",
       "5                    None             None                None  ...   \n",
       "6                    None             None                None  ...   \n",
       "7                    None             None                None  ...   \n",
       "\n",
       "  qta_days_incasso_fattura_today_servizio_ultima_bolletta_emessa_canale_ALL  \\\n",
       "0                                                         64733.79304679821   \n",
       "1                                                        137769.15591318213   \n",
       "2                                                                   5264625   \n",
       "3                                                                    358541   \n",
       "4                                                                         1   \n",
       "5                                                                        66   \n",
       "6                                                                        36   \n",
       "7                                                                        33   \n",
       "\n",
       "  qta_days_scadenza_fattura_pagamento_servizio_ultima_bolletta_emessa_canale_ALL  \\\n",
       "0                                                             64704.383214758884   \n",
       "1                                                             137779.17707572255   \n",
       "2                                                                        5264625   \n",
       "3                                                                         358525   \n",
       "4                                                                           -168   \n",
       "5                                                                             23   \n",
       "6                                                                              0   \n",
       "7                                                                              0   \n",
       "\n",
       "  fln_fattura_non_pagata_servizio_ultima_bolletta_emessa_canale_ALL  \\\n",
       "0                                               0.07889488804995608   \n",
       "1                                                0.2695746621867269   \n",
       "2                                                           5264625   \n",
       "3                                                                 1   \n",
       "4                                                                 0   \n",
       "5                                                                 0   \n",
       "6                                                                 0   \n",
       "7                                                                 0   \n",
       "\n",
       "  fln_fattura_pagata_non_totalmente_servizio_ultima_bolletta_emessa_canale_ALL  \\\n",
       "0                                                          0.08938566374623073   \n",
       "1                                                           0.2852996360386471   \n",
       "2                                                                      5264625   \n",
       "3                                                                            1   \n",
       "4                                                                            0   \n",
       "5                                                                            0   \n",
       "6                                                                            0   \n",
       "7                                                                            0   \n",
       "\n",
       "  fln_fattura_pagata_totalmente_in_ritardo_servizio_ultima_bolletta_emessa_canale_ALL  \\\n",
       "0                                                                 0.28409449865849895   \n",
       "1                                                                  0.4509820984505132   \n",
       "2                                                                             5264625   \n",
       "3                                                                                   1   \n",
       "4                                                                                   0   \n",
       "5                                                                                   1   \n",
       "6                                                                                   0   \n",
       "7                                                                                   0   \n",
       "\n",
       "  fln_fattura_pagata_totalmente_nei_tempi_servizio_ultima_bolletta_emessa_canale_ALL  \\\n",
       "0                                                                 0.5247080276372961   \n",
       "1                                                                0.49938918764935875   \n",
       "2                                                                            5264625   \n",
       "3                                                                                  1   \n",
       "4                                                                                  0   \n",
       "5                                                                                  1   \n",
       "6                                                                                  1   \n",
       "7                                                                                  0   \n",
       "\n",
       "  val_fattura_non_pagato_servizio_ultima_bolletta_emessa_canale_ALL  \\\n",
       "0                                                 86.91974286107757   \n",
       "1                                                   1144.5423621596   \n",
       "2                                                           5264625   \n",
       "3                                                         966190.48   \n",
       "4                                                           -1500.0   \n",
       "5                                                               0.0   \n",
       "6                                                               0.0   \n",
       "7                                                               0.0   \n",
       "\n",
       "  val_fattura_servizio_ultima_bolletta_emessa_canale_ALL  \\\n",
       "0                                      789.1427461234174   \n",
       "1                                      2341.095792290327   \n",
       "2                                                5264625   \n",
       "3                                             1170370.64   \n",
       "4                                                    0.0   \n",
       "5                                                 870.41   \n",
       "6                                                 422.39   \n",
       "7                                                 169.62   \n",
       "\n",
       "  val_incasso_servizio_ultima_bolletta_emessa_canale_ALL               idn_run  \n",
       "0                                      702.2230032623398  2.020080501338317E11  \n",
       "1                                     2059.3885609462554     6005.089631812453  \n",
       "2                                                5264625               5264625  \n",
       "3                                             1170370.64          202008061536  \n",
       "4                                                -2698.0          202008041528  \n",
       "5                                                 789.04          202008052019  \n",
       "6                                                 365.83          202008050750  \n",
       "7                                                  79.73          202008042240  \n",
       "\n",
       "[8 rows x 763 columns]"
      ]
     },
     "execution_count": 11,
     "metadata": {},
     "output_type": "execute_result"
    }
   ],
   "source": [
    "summary_small_medium.toPandas()"
   ]
  },
  {
   "cell_type": "markdown",
   "metadata": {},
   "source": [
    "We are going to perform some preliminary analysis over the entire set of features in order to understand whether or not they are relevant. \n",
    "\n",
    "First of all, let's compute the number of distict values for each column in the data set."
   ]
  },
  {
   "cell_type": "markdown",
   "metadata": {},
   "source": [
    "## 2.2- Distinct values number"
   ]
  },
  {
   "cell_type": "markdown",
   "metadata": {},
   "source": [
    "### 2.2.1- SMALL and MEDIUM"
   ]
  },
  {
   "cell_type": "code",
   "execution_count": 12,
   "metadata": {},
   "outputs": [
    {
     "name": "stderr",
     "output_type": "stream",
     "text": [
      "100%|██████████| 767/767 [15:51<00:00,  1.24s/it]  \n"
     ]
    }
   ],
   "source": [
    "distinct_values_dict = {}\n",
    "for column in tqdm(input_data_small_medium.columns):\n",
    "    distinct_values_dict[column] = input_data_small_medium.select(column).distinct().count()"
   ]
  },
  {
   "cell_type": "code",
   "execution_count": 13,
   "metadata": {},
   "outputs": [
    {
     "data": {
      "text/html": [
       "<div>\n",
       "<style scoped>\n",
       "    .dataframe tbody tr th:only-of-type {\n",
       "        vertical-align: middle;\n",
       "    }\n",
       "\n",
       "    .dataframe tbody tr th {\n",
       "        vertical-align: top;\n",
       "    }\n",
       "\n",
       "    .dataframe thead th {\n",
       "        text-align: right;\n",
       "    }\n",
       "</style>\n",
       "<table border=\"1\" class=\"dataframe\">\n",
       "  <thead>\n",
       "    <tr style=\"text-align: right;\">\n",
       "      <th></th>\n",
       "      <th>column</th>\n",
       "      <th>n_distinct_value</th>\n",
       "    </tr>\n",
       "  </thead>\n",
       "  <tbody>\n",
       "    <tr>\n",
       "      <th>0</th>\n",
       "      <td>idn_servizio_sk</td>\n",
       "      <td>481462</td>\n",
       "    </tr>\n",
       "    <tr>\n",
       "      <th>1</th>\n",
       "      <td>idn_cliente_sk</td>\n",
       "      <td>376948</td>\n",
       "    </tr>\n",
       "    <tr>\n",
       "      <th>2</th>\n",
       "      <td>cdc_stato_servizio_calc</td>\n",
       "      <td>5</td>\n",
       "    </tr>\n",
       "    <tr>\n",
       "      <th>3</th>\n",
       "      <td>fk_cliente_unico</td>\n",
       "      <td>368825</td>\n",
       "    </tr>\n",
       "    <tr>\n",
       "      <th>4</th>\n",
       "      <td>idc_id_key_servizio</td>\n",
       "      <td>481462</td>\n",
       "    </tr>\n",
       "    <tr>\n",
       "      <th>5</th>\n",
       "      <td>idn_sito_sk</td>\n",
       "      <td>453492</td>\n",
       "    </tr>\n",
       "    <tr>\n",
       "      <th>6</th>\n",
       "      <td>lds_prodotto_listino_2</td>\n",
       "      <td>182</td>\n",
       "    </tr>\n",
       "    <tr>\n",
       "      <th>7</th>\n",
       "      <td>sds_segmento_new</td>\n",
       "      <td>2</td>\n",
       "    </tr>\n",
       "    <tr>\n",
       "      <th>8</th>\n",
       "      <td>idc_id_key_cliente</td>\n",
       "      <td>376947</td>\n",
       "    </tr>\n",
       "    <tr>\n",
       "      <th>9</th>\n",
       "      <td>lds_nome_listino</td>\n",
       "      <td>654</td>\n",
       "    </tr>\n",
       "  </tbody>\n",
       "</table>\n",
       "</div>"
      ],
      "text/plain": [
       "                    column  n_distinct_value\n",
       "0          idn_servizio_sk            481462\n",
       "1           idn_cliente_sk            376948\n",
       "2  cdc_stato_servizio_calc                 5\n",
       "3         fk_cliente_unico            368825\n",
       "4      idc_id_key_servizio            481462\n",
       "5              idn_sito_sk            453492\n",
       "6   lds_prodotto_listino_2               182\n",
       "7         sds_segmento_new                 2\n",
       "8       idc_id_key_cliente            376947\n",
       "9         lds_nome_listino               654"
      ]
     },
     "execution_count": 13,
     "metadata": {},
     "output_type": "execute_result"
    }
   ],
   "source": [
    "distinct_values = [distinct_values_dict[column] for column in input_data_small_medium.columns]\n",
    "distinct_values_dict_for_pd = {'column': input_data_small_medium.columns, 'n_distinct_value': distinct_values}\n",
    "distinct_values_df = pd.DataFrame.from_dict(distinct_values_dict_for_pd)\n",
    "distinct_values_df.to_csv('/userdata/durand/distinct_values_number_per_column_small_medium.csv')\n",
    "distinct_values_df.head(10)"
   ]
  },
  {
   "cell_type": "markdown",
   "metadata": {},
   "source": [
    "### 2.2.2- MICRO"
   ]
  },
  {
   "cell_type": "code",
   "execution_count": 14,
   "metadata": {},
   "outputs": [
    {
     "name": "stderr",
     "output_type": "stream",
     "text": [
      "100%|██████████| 767/767 [1:08:46<00:00,  5.38s/it]\n"
     ]
    }
   ],
   "source": [
    "distinct_values_dict = {}\n",
    "for column in tqdm(input_data_micro.columns):\n",
    "    distinct_values_dict[column] = input_data_micro.select(column).distinct().count()"
   ]
  },
  {
   "cell_type": "code",
   "execution_count": 15,
   "metadata": {},
   "outputs": [
    {
     "data": {
      "text/html": [
       "<div>\n",
       "<style scoped>\n",
       "    .dataframe tbody tr th:only-of-type {\n",
       "        vertical-align: middle;\n",
       "    }\n",
       "\n",
       "    .dataframe tbody tr th {\n",
       "        vertical-align: top;\n",
       "    }\n",
       "\n",
       "    .dataframe thead th {\n",
       "        text-align: right;\n",
       "    }\n",
       "</style>\n",
       "<table border=\"1\" class=\"dataframe\">\n",
       "  <thead>\n",
       "    <tr style=\"text-align: right;\">\n",
       "      <th></th>\n",
       "      <th>column</th>\n",
       "      <th>n_distinct_value</th>\n",
       "    </tr>\n",
       "  </thead>\n",
       "  <tbody>\n",
       "    <tr>\n",
       "      <th>0</th>\n",
       "      <td>idn_servizio_sk</td>\n",
       "      <td>1796151</td>\n",
       "    </tr>\n",
       "    <tr>\n",
       "      <th>1</th>\n",
       "      <td>idn_cliente_sk</td>\n",
       "      <td>1413654</td>\n",
       "    </tr>\n",
       "    <tr>\n",
       "      <th>2</th>\n",
       "      <td>cdc_stato_servizio_calc</td>\n",
       "      <td>6</td>\n",
       "    </tr>\n",
       "    <tr>\n",
       "      <th>3</th>\n",
       "      <td>fk_cliente_unico</td>\n",
       "      <td>1382488</td>\n",
       "    </tr>\n",
       "    <tr>\n",
       "      <th>4</th>\n",
       "      <td>idc_id_key_servizio</td>\n",
       "      <td>1796151</td>\n",
       "    </tr>\n",
       "    <tr>\n",
       "      <th>5</th>\n",
       "      <td>idn_sito_sk</td>\n",
       "      <td>1705108</td>\n",
       "    </tr>\n",
       "    <tr>\n",
       "      <th>6</th>\n",
       "      <td>lds_prodotto_listino_2</td>\n",
       "      <td>218</td>\n",
       "    </tr>\n",
       "    <tr>\n",
       "      <th>7</th>\n",
       "      <td>sds_segmento_new</td>\n",
       "      <td>1</td>\n",
       "    </tr>\n",
       "    <tr>\n",
       "      <th>8</th>\n",
       "      <td>idc_id_key_cliente</td>\n",
       "      <td>1413653</td>\n",
       "    </tr>\n",
       "    <tr>\n",
       "      <th>9</th>\n",
       "      <td>lds_nome_listino</td>\n",
       "      <td>781</td>\n",
       "    </tr>\n",
       "  </tbody>\n",
       "</table>\n",
       "</div>"
      ],
      "text/plain": [
       "                    column  n_distinct_value\n",
       "0          idn_servizio_sk           1796151\n",
       "1           idn_cliente_sk           1413654\n",
       "2  cdc_stato_servizio_calc                 6\n",
       "3         fk_cliente_unico           1382488\n",
       "4      idc_id_key_servizio           1796151\n",
       "5              idn_sito_sk           1705108\n",
       "6   lds_prodotto_listino_2               218\n",
       "7         sds_segmento_new                 1\n",
       "8       idc_id_key_cliente           1413653\n",
       "9         lds_nome_listino               781"
      ]
     },
     "execution_count": 15,
     "metadata": {},
     "output_type": "execute_result"
    }
   ],
   "source": [
    "distinct_values = [distinct_values_dict[column] for column in input_data_micro.columns]\n",
    "distinct_values_dict_for_pd = {'column': input_data_micro.columns, 'n_distinct_value': distinct_values}\n",
    "distinct_values_df = pd.DataFrame.from_dict(distinct_values_dict_for_pd)\n",
    "distinct_values_df.to_csv('/userdata/durand/distinct_values_number_per_column_micro.csv')\n",
    "distinct_values_df.head(10)"
   ]
  },
  {
   "cell_type": "markdown",
   "metadata": {},
   "source": [
    "## 2.3- Data types"
   ]
  },
  {
   "cell_type": "markdown",
   "metadata": {},
   "source": [
    "Now, let's compute the data type of each column in the data set"
   ]
  },
  {
   "cell_type": "code",
   "execution_count": 30,
   "metadata": {},
   "outputs": [
    {
     "name": "stderr",
     "output_type": "stream",
     "text": [
      "100%|██████████| 769/769 [00:00<00:00, 473213.00it/s]\n"
     ]
    }
   ],
   "source": [
    "dta_type_dict = {}\n",
    "for column in tqdm(input_data_small_medium.columns):\n",
    "    if (column.startswith('idn_') or column.startswith('fk_') or column.startswith('qta_')\n",
    "       or column.startswith('val_') or column.startswith('fln_')):\n",
    "        dta_type_dict[column] = 'numerical'\n",
    "    else:\n",
    "        if (column.startswith('dta_')):\n",
    "            dta_type_dict[column] = 'date'\n",
    "        else:\n",
    "            dta_type_dict[column] = 'categorical'"
   ]
  },
  {
   "cell_type": "code",
   "execution_count": 32,
   "metadata": {},
   "outputs": [
    {
     "data": {
      "text/html": [
       "<div>\n",
       "<style scoped>\n",
       "    .dataframe tbody tr th:only-of-type {\n",
       "        vertical-align: middle;\n",
       "    }\n",
       "\n",
       "    .dataframe tbody tr th {\n",
       "        vertical-align: top;\n",
       "    }\n",
       "\n",
       "    .dataframe thead th {\n",
       "        text-align: right;\n",
       "    }\n",
       "</style>\n",
       "<table border=\"1\" class=\"dataframe\">\n",
       "  <thead>\n",
       "    <tr style=\"text-align: right;\">\n",
       "      <th></th>\n",
       "      <th>column</th>\n",
       "      <th>data_type</th>\n",
       "    </tr>\n",
       "  </thead>\n",
       "  <tbody>\n",
       "    <tr>\n",
       "      <th>0</th>\n",
       "      <td>idn_servizio_sk</td>\n",
       "      <td>numerical</td>\n",
       "    </tr>\n",
       "    <tr>\n",
       "      <th>1</th>\n",
       "      <td>idn_cliente_sk</td>\n",
       "      <td>numerical</td>\n",
       "    </tr>\n",
       "    <tr>\n",
       "      <th>2</th>\n",
       "      <td>cdc_stato_servizio_calc</td>\n",
       "      <td>categorical</td>\n",
       "    </tr>\n",
       "    <tr>\n",
       "      <th>3</th>\n",
       "      <td>fk_cliente_unico</td>\n",
       "      <td>numerical</td>\n",
       "    </tr>\n",
       "    <tr>\n",
       "      <th>4</th>\n",
       "      <td>idc_id_key_servizio</td>\n",
       "      <td>categorical</td>\n",
       "    </tr>\n",
       "    <tr>\n",
       "      <th>5</th>\n",
       "      <td>idn_sito_sk</td>\n",
       "      <td>numerical</td>\n",
       "    </tr>\n",
       "    <tr>\n",
       "      <th>6</th>\n",
       "      <td>lds_prodotto_listino_2</td>\n",
       "      <td>categorical</td>\n",
       "    </tr>\n",
       "    <tr>\n",
       "      <th>7</th>\n",
       "      <td>sds_segmento_new</td>\n",
       "      <td>categorical</td>\n",
       "    </tr>\n",
       "    <tr>\n",
       "      <th>8</th>\n",
       "      <td>idc_id_key_cliente</td>\n",
       "      <td>categorical</td>\n",
       "    </tr>\n",
       "    <tr>\n",
       "      <th>9</th>\n",
       "      <td>lds_nome_listino</td>\n",
       "      <td>categorical</td>\n",
       "    </tr>\n",
       "  </tbody>\n",
       "</table>\n",
       "</div>"
      ],
      "text/plain": [
       "                    column    data_type\n",
       "0          idn_servizio_sk    numerical\n",
       "1           idn_cliente_sk    numerical\n",
       "2  cdc_stato_servizio_calc  categorical\n",
       "3         fk_cliente_unico    numerical\n",
       "4      idc_id_key_servizio  categorical\n",
       "5              idn_sito_sk    numerical\n",
       "6   lds_prodotto_listino_2  categorical\n",
       "7         sds_segmento_new  categorical\n",
       "8       idc_id_key_cliente  categorical\n",
       "9         lds_nome_listino  categorical"
      ]
     },
     "execution_count": 32,
     "metadata": {},
     "output_type": "execute_result"
    }
   ],
   "source": [
    "data_types = [dta_type_dict[column] for column in input_data.columns]\n",
    "data_types_dict_for_pd = {'column': input_data.columns, 'data_type': data_types}\n",
    "data_types_df = pd.DataFrame.from_dict(data_types_dict_for_pd)\n",
    "data_types_df.to_csv('/userdata/durand/data_types_per_column.csv')\n",
    "data_types_df.head(10)"
   ]
  },
  {
   "cell_type": "markdown",
   "metadata": {},
   "source": [
    "## 2.4 NA proportions"
   ]
  },
  {
   "cell_type": "markdown",
   "metadata": {},
   "source": [
    "Let's compute the number of NA values for each column in the data set. \n",
    "\n",
    "Each column in the data set will have a specific NA calculation method based on the data type. The prefixes of the columns provide us some useful information about the NA calculation method to be used for that particular column. \n",
    "\n",
    "let us have a look at all the possible prefixes and establish the NA calculation formulas:"
   ]
  },
  {
   "cell_type": "code",
   "execution_count": 33,
   "metadata": {},
   "outputs": [
    {
     "data": {
      "text/plain": [
       "['idc',\n",
       " 'idn',\n",
       " 'val',\n",
       " 'cdn',\n",
       " 'mds',\n",
       " 'fk',\n",
       " 'sds',\n",
       " 'flc',\n",
       " 'xds',\n",
       " 'qta',\n",
       " 'monthDiff',\n",
       " 'lds',\n",
       " 'fln',\n",
       " 'dta',\n",
       " 'cdc']"
      ]
     },
     "execution_count": 33,
     "metadata": {},
     "output_type": "execute_result"
    }
   ],
   "source": [
    "prefixes = list(set([column.split('_')[0] for column in input_data.columns]))\n",
    "prefixes"
   ]
  },
  {
   "cell_type": "markdown",
   "metadata": {},
   "source": [
    "'lds' ->\n",
    "    - Long Description. \n",
    "    - Possible values: String\n",
    "    - NA values: ['***', 'NULL', null, NA, na, Na, nA, '']\n",
    "\n",
    "'fln' -> \n",
    "    - Numerical Flag. \n",
    "    - Possible values: [0, 1]\n",
    "    - NA values: [!=0 and !=1]\n",
    "\n",
    "'val' ->\n",
    "    - Numerical value.\n",
    "    - Possible values: Number\n",
    "    - NA values: [null]\n",
    "    \n",
    "'sds' ->\n",
    "    - Short Description.\n",
    "    - Possible values: String\n",
    "    - NA values: ['***', 'NULL', null, NA, na, Na, nA, '']\n",
    "\n",
    "'dta' ->\n",
    "    - Date.\n",
    "    - Possible values: Date\n",
    "    - NA values: ['2999-12-01 00:00:00', '2999-12-31 00:00:00', '1900-01-01 00:00:00', null]\n",
    "\n",
    "'cdc' ->\n",
    "    - Textual code.\n",
    "    - Possible values: String\n",
    "    - NA values: ['***', 'NULL', null, NA, na, Na, nA, '']\n",
    "    \n",
    "'idn' -> \n",
    "    - Numerical id.\n",
    "    - Possible values: Number\n",
    "    - NA values: [0, null]\n",
    "    \n",
    "\n",
    "'cdn' ->\n",
    "    - Numerical code.\n",
    "    - Possible values: Number\n",
    "    - NA values: [0, null]\n",
    " \n",
    "'xds' ->\n",
    "    - Extended Description.\n",
    "    - Possible values: String\n",
    "    - NA values: ['***', 'NULL', null, NA, na, Na, nA, '']\n",
    "  \n",
    "'qta' ->\n",
    "    - Numerical value.\n",
    "    - Possible values: Number\n",
    "    - NA values: [null]\n",
    "    \n",
    "'mds' ->\n",
    "    - Medium Description.\n",
    "    - Possible values: String\n",
    "    - NA values: ['***', 'NULL', null, NA, na, Na, nA, '']\n",
    "\n",
    "'flc' ->\n",
    "    - Categorical Flag. \n",
    "    - Possible values: Character\n",
    "    - NA values: ['*', '***', 'NULL', null, NA, na, Na, nA, '']\n",
    "\n",
    "'fk' ->\n",
    "    - Numerical value.\n",
    "    - Possible values: Number\n",
    "    - NA values: [null, 0]\n",
    "    \n",
    "'idc' ->\n",
    "    - Textual id.\n",
    "    - Possible values: String\n",
    "    - NA values: ['***', null, '']"
   ]
  },
  {
   "cell_type": "markdown",
   "metadata": {},
   "source": [
    "After analysis we noticed that all the features representing quantities of days, some values were really high. Those high values were due to the fact that a difference was being computed between current date and default date (01-01-1900). Resulting in a very high value. For this reason, all the values above 10 years (3650 days) will be considered as NA for these particular features.\n",
    "\n",
    "Let's recompute the total number of NA values for these column"
   ]
  },
  {
   "cell_type": "code",
   "execution_count": 16,
   "metadata": {},
   "outputs": [],
   "source": [
    "date_qta_columns = [\n",
    "    'qta_giorni_ultimo_contatto_inbound',\n",
    "    'qta_giorni_ultimo_contatto_outbound',\n",
    "    'qta_giorni_ultimo_reclamo',\n",
    "    'qta_days_since_last_inbound_contact',\n",
    "    'qta_days_since_last_inbound_contact_channel_APP',\n",
    "    'qta_days_since_last_inbound_contact_channel_FACE',\n",
    "    'qta_days_since_last_inbound_contact_channel_TELEFONICO',\n",
    "    'qta_days_since_last_inbound_contact_channel_DOCUMENTALE_COMPLESSO',\n",
    "    'qta_days_since_last_inbound_contact_channel_DOCUMENTALE',\n",
    "    'qta_days_since_last_inbound_contact_channel_CHAT',\n",
    "    'qta_days_since_last_inbound_contact_channel_WEB',\n",
    "    'qta_days_since_last_inbound_contact_microcausale_RETTIFICHE_CONSUMI_FATTURAZIONE',\n",
    "    'qta_days_since_last_inbound_contact_microcausale_INFORMATIVA',\n",
    "    'qta_days_since_last_inbound_contact_microcausale_VOLTURA',\n",
    "    'qta_days_since_last_inbound_contact_microcausale_PRIMA_ATTIVAZIONE',\n",
    "    'qta_days_since_last_inbound_contact_microcausale_COPIA_DOCUMENTAZIONI',\n",
    "    'qta_days_since_last_inbound_contact_microcausale_RIMBORSO_COMPENSAZIONE',\n",
    "    'qta_days_since_last_inbound_contact_microcausale_LAVORI_E_MODIFICHE_TECNICHE_POTENZA_TENSIONE',\n",
    "    'qta_days_since_last_inbound_contact_microcausale_INFORMATIVA_CREDITO',\n",
    "    'qta_days_since_last_inbound_contact_microcausale_DISTACCHI_RIALLACCI',\n",
    "    'qta_days_since_last_inbound_contact_microcausale_DISDETTE_E_CESSAZIONI',\n",
    "    'qta_days_since_last_inbound_contact_microcausale_GESTIONE_VAS',\n",
    "    'qta_days_since_last_inbound_contact_microcausale_AUTOLETTURA',\n",
    "    'qta_days_since_last_inbound_contact_microcausale_RIPENSAMENTO_O_DISCONOSCIMENTO',\n",
    "    'qta_days_since_last_inbound_contact_microcausale_MODIFICA_ANAGRAFICA_O_DATI_FORNITURA_FATTURAZIONE',\n",
    "    'qta_days_since_last_inbound_contact_microcausale_GESTIONE_FORNITURA',\n",
    "    'qta_days_since_last_inbound_contact_microcausale_RECLAMI_SCRITTI',\n",
    "    'qta_days_since_last_inbound_contact_microcausale_REPEATED_LIST',\n",
    "    'qta_days_since_last_inbound_contact_microcausale_INFORMATIVA_CONSUMI_PAGAMENTI',\n",
    "    'qta_days_since_last_inbound_contact_microcausale_SWITCH_ATTIVO',\n",
    "    'qta_days_since_last_inbound_contact_microcausale_MODALITA_DI_PAGAMENTO',\n",
    "    'qta_days_since_last_inbound_contact_microcausale_ALLACCIO_E_ATTIVAZIONE',\n",
    "    'qta_days_since_last_inbound_contact_microcausale_VERIFICHE_TECNICHE',\n",
    "    'qta_days_since_last_inbound_contact_microcausale_INFORMATIVA_NON_DI_COMPETENZA',\n",
    "    'qta_days_since_last_inbound_contact_microcausale_RVC',\n",
    "    'qta_days_since_last_inbound_contact_microcausale_GESTIONE_PRIVACY',\n",
    "    'qta_days_since_last_inbound_contact_microcausale_PIANO_DI_RIENTRO',\n",
    "    'qta_days_since_last_inbound_contact_microcausale_SUBENTRO',\n",
    "    'qta_days_since_last_inbound_contact_macrocausale_Causale_non_definita',\n",
    "    'qta_days_since_last_inbound_contact_macrocausale_Chiarimenti_su_fatture',\n",
    "    'qta_days_since_last_inbound_contact_macrocausale_Chiarimento_su_offerta',\n",
    "    'qta_days_since_last_inbound_contact_macrocausale_Credito',\n",
    "    'qta_days_since_last_inbound_contact_macrocausale_Esecuzione_lavori',\n",
    "    'qta_days_since_last_inbound_contact_macrocausale_Informativa',\n",
    "    'qta_days_since_last_inbound_contact_macrocausale_Problemi_in_fase_di_attivazione',\n",
    "    'qta_days_since_last_inbound_contact_macrocausale_Reclami_vendita_Privacy',\n",
    "    'qta_days_since_last_inbound_contact_macrocausale_Ritardata_esecuzione_subentri_volture_cessazioni_etc',\n",
    "    'qta_days_last_response_marketing_cli',\n",
    "    'qta_days_diff_diffida_fattura_cli',\n",
    "    'qta_days_last_diffida_cli',\n",
    "    'qta_days_diff_sollecito_fattura_cli',\n",
    "    'qta_days_last_sollecito_cli',\n",
    "    'qta_days_servizio_attualmente_distaccato',\n",
    "    'qta_days_servizio_riallacciato',\n",
    "    'qta_days_emissione_fattura_pagamento_servizio_ultima_bolletta_emessa_canale_ALL',\n",
    "    'qta_days_incasso_fattura_today_servizio_ultima_bolletta_emessa_canale_ALL',\n",
    "    'qta_days_scadenza_fattura_pagamento_servizio_ultima_bolletta_emessa_canale_ALL'\n",
    "]"
   ]
  },
  {
   "cell_type": "markdown",
   "metadata": {},
   "source": [
    "### 2.4.1- SMALL and MEDIUM"
   ]
  },
  {
   "cell_type": "code",
   "execution_count": 17,
   "metadata": {},
   "outputs": [
    {
     "name": "stderr",
     "output_type": "stream",
     "text": [
      "100%|██████████| 767/767 [07:05<00:00,  1.80it/s]\n"
     ]
    }
   ],
   "source": [
    "na_values_dict = {}\n",
    "for column in tqdm(input_data_small_medium.columns):\n",
    "    if (column.split('_')[0] == 'lds'):\n",
    "        # NA values: ['***', 'null', null, 'na', '']\n",
    "        na_values_dict[column] = input_data_small_medium.select(column).where('`'+column+\"` is null or lower(\"+ column +\") in('***', 'null', 'na', '')\").count()\n",
    "    if (column.split('_')[0] == 'fln'):\n",
    "        # NA values: [not a number]\n",
    "        na_values_dict[column] = input_data_small_medium.select(column).where(\"cast(`\"+column+\"` as double) is null\").count()\n",
    "    if (column.split('_')[0] == 'val'):\n",
    "        # NA values: [null]\n",
    "        na_values_dict[column] = input_data_small_medium.select(column).where('`'+column+\"` is null\").count()\n",
    "    if (column.split('_')[0] == 'sds'):\n",
    "        # NA values: ['***', 'null', null, 'na', '']\n",
    "        na_values_dict[column] = input_data_small_medium.select(column).where('`'+column+\"` is null or lower(\"+ column +\") in('***', 'null', 'na', '')\").count()\n",
    "    if (column.split('_')[0] == 'dta'):\n",
    "        # NA values: ['2999-12-01 00:00:00', '2999-12-31 00:00:00', '1900-01-01 00:00:00', null]\n",
    "        na_values_dict[column] = input_data_small_medium.select(column).where('`'+column+\"` is null or lower(\"+ column +\") in('2999-12-01 00:00:00', '2999-12-31 00:00:00', '1900-01-01 00:00:00')\").count()\n",
    "    if (column.split('_')[0] == 'cdc'):\n",
    "        # NA values: ['***', 'null', null, 'na', '']\n",
    "        na_values_dict[column] = input_data_small_medium.select(column).where('`'+column+\"` is null or lower(\"+ column +\") in('***', 'null', 'na', '')\").count()\n",
    "    if (column.split('_')[0] == 'idn'):\n",
    "        # NA values: [null, 0]\n",
    "        na_values_dict[column] = input_data_small_medium.select(column).where('`'+column+\"` is null or lower(\"+ column +\") in(0)\").count()\n",
    "    if (column.split('_')[0] == 'cdn'):\n",
    "        # NA values: [null, 0]\n",
    "        na_values_dict[column] = input_data_small_medium.select(column).where('`'+column+\"` is null or lower(\"+ column +\") in(0)\").count()\n",
    "    if (column.split('_')[0] == 'xds'):\n",
    "        # NA values: ['***', 'null', null, 'na', '']\n",
    "        na_values_dict[column] = input_data_small_medium.select(column).where('`'+column+\"` is null or lower(\"+ column +\") in('***', 'null', 'na', '')\").count()\n",
    "    if (column.split('_')[0] == 'qta' and column not in date_qta_columns):\n",
    "        # NA values: [null]\n",
    "        na_values_dict[column] = input_data_small_medium.select(column).where('`'+column+\"` is null\").count()\n",
    "    if (column in date_qta_columns):\n",
    "        # NA values: [null]\n",
    "        na_values_dict[column] = input_data_small_medium.select(column).where(\"`\"+column+\"` is null or \"+\"`\"+column+\"` >= 3650\").count()\n",
    "    if (column.split('_')[0] == 'mds'):\n",
    "        # NA values: ['***', 'null', null, 'na', '']\n",
    "        na_values_dict[column] = input_data_small_medium.select(column).where('`'+column+\"` is null or lower(\"+ column +\") in('***', 'null', 'na', '')\").count()\n",
    "    if (column.split('_')[0] == 'flc'):\n",
    "        # NA values: ['*', ***', 'null', null, 'na', '']\n",
    "        na_values_dict[column] = input_data_small_medium.select(column).where('`'+column+\"` is null or lower(\"+ column +\") in('*', '***', 'null', 'na', '')\").count()\n",
    "    if (column.split('_')[0] == 'fk'):\n",
    "        # NA values: [null, 0]\n",
    "        na_values_dict[column] = input_data_small_medium.select(column).where('`'+column+\"` is null or lower(\"+ column +\") in(0)\").count()\n",
    "    if (column.split('_')[0] == 'idc'):\n",
    "        # NA values: ['***', 'null', null, 'na', '']\n",
    "        na_values_dict[column] = input_data_small_medium.select(column).where('`'+column+\"` is null or lower(\"+ column +\") in('***', 'null', 'na', '')\").count()"
   ]
  },
  {
   "cell_type": "code",
   "execution_count": 18,
   "metadata": {},
   "outputs": [
    {
     "data": {
      "text/html": [
       "<div>\n",
       "<style scoped>\n",
       "    .dataframe tbody tr th:only-of-type {\n",
       "        vertical-align: middle;\n",
       "    }\n",
       "\n",
       "    .dataframe tbody tr th {\n",
       "        vertical-align: top;\n",
       "    }\n",
       "\n",
       "    .dataframe thead th {\n",
       "        text-align: right;\n",
       "    }\n",
       "</style>\n",
       "<table border=\"1\" class=\"dataframe\">\n",
       "  <thead>\n",
       "    <tr style=\"text-align: right;\">\n",
       "      <th></th>\n",
       "      <th>column</th>\n",
       "      <th>na_values</th>\n",
       "    </tr>\n",
       "  </thead>\n",
       "  <tbody>\n",
       "    <tr>\n",
       "      <th>0</th>\n",
       "      <td>idn_servizio_sk</td>\n",
       "      <td>0</td>\n",
       "    </tr>\n",
       "    <tr>\n",
       "      <th>1</th>\n",
       "      <td>idn_cliente_sk</td>\n",
       "      <td>0</td>\n",
       "    </tr>\n",
       "    <tr>\n",
       "      <th>2</th>\n",
       "      <td>cdc_stato_servizio_calc</td>\n",
       "      <td>904</td>\n",
       "    </tr>\n",
       "    <tr>\n",
       "      <th>3</th>\n",
       "      <td>fk_cliente_unico</td>\n",
       "      <td>30</td>\n",
       "    </tr>\n",
       "    <tr>\n",
       "      <th>4</th>\n",
       "      <td>idc_id_key_servizio</td>\n",
       "      <td>0</td>\n",
       "    </tr>\n",
       "    <tr>\n",
       "      <th>5</th>\n",
       "      <td>idn_sito_sk</td>\n",
       "      <td>0</td>\n",
       "    </tr>\n",
       "    <tr>\n",
       "      <th>6</th>\n",
       "      <td>lds_prodotto_listino_2</td>\n",
       "      <td>2656</td>\n",
       "    </tr>\n",
       "    <tr>\n",
       "      <th>7</th>\n",
       "      <td>sds_segmento_new</td>\n",
       "      <td>0</td>\n",
       "    </tr>\n",
       "    <tr>\n",
       "      <th>8</th>\n",
       "      <td>idc_id_key_cliente</td>\n",
       "      <td>30</td>\n",
       "    </tr>\n",
       "    <tr>\n",
       "      <th>9</th>\n",
       "      <td>lds_nome_listino</td>\n",
       "      <td>3169</td>\n",
       "    </tr>\n",
       "  </tbody>\n",
       "</table>\n",
       "</div>"
      ],
      "text/plain": [
       "                    column  na_values\n",
       "0          idn_servizio_sk          0\n",
       "1           idn_cliente_sk          0\n",
       "2  cdc_stato_servizio_calc        904\n",
       "3         fk_cliente_unico         30\n",
       "4      idc_id_key_servizio          0\n",
       "5              idn_sito_sk          0\n",
       "6   lds_prodotto_listino_2       2656\n",
       "7         sds_segmento_new          0\n",
       "8       idc_id_key_cliente         30\n",
       "9         lds_nome_listino       3169"
      ]
     },
     "execution_count": 18,
     "metadata": {},
     "output_type": "execute_result"
    }
   ],
   "source": [
    "na_values = [na_values_dict[column] for column in input_data_small_medium.columns]\n",
    "na_values_dict_for_pd = {'column': input_data_small_medium.columns, 'na_values': na_values}\n",
    "na_values_df = pd.DataFrame.from_dict(na_values_dict_for_pd)\n",
    "na_values_df.to_csv('/userdata/durand/na_values_per_column_small_medium.csv')\n",
    "na_values_df.head(10)"
   ]
  },
  {
   "cell_type": "markdown",
   "metadata": {},
   "source": [
    "### 2.4.2- MICRO"
   ]
  },
  {
   "cell_type": "code",
   "execution_count": 19,
   "metadata": {},
   "outputs": [
    {
     "name": "stderr",
     "output_type": "stream",
     "text": [
      "100%|██████████| 767/767 [09:23<00:00,  1.36it/s]\n"
     ]
    }
   ],
   "source": [
    "na_values_dict = {}\n",
    "for column in tqdm(input_data_micro.columns):\n",
    "    if (column.split('_')[0] == 'lds'):\n",
    "        # NA values: ['***', 'null', null, 'na', '']\n",
    "        na_values_dict[column] = input_data_micro.select(column).where('`'+column+\"` is null or lower(\"+ column +\") in('***', 'null', 'na', '')\").count()\n",
    "    if (column.split('_')[0] == 'fln'):\n",
    "        # NA values: [not a number]\n",
    "        na_values_dict[column] = input_data_micro.select(column).where(\"cast(`\"+column+\"` as double) is null\").count()\n",
    "    if (column.split('_')[0] == 'val'):\n",
    "        # NA values: [null]\n",
    "        na_values_dict[column] = input_data_micro.select(column).where('`'+column+\"` is null\").count()\n",
    "    if (column.split('_')[0] == 'sds'):\n",
    "        # NA values: ['***', 'null', null, 'na', '']\n",
    "        na_values_dict[column] = input_data_micro.select(column).where('`'+column+\"` is null or lower(\"+ column +\") in('***', 'null', 'na', '')\").count()\n",
    "    if (column.split('_')[0] == 'dta'):\n",
    "        # NA values: ['2999-12-01 00:00:00', '2999-12-31 00:00:00', '1900-01-01 00:00:00', null]\n",
    "        na_values_dict[column] = input_data_micro.select(column).where('`'+column+\"` is null or lower(\"+ column +\") in('2999-12-01 00:00:00', '2999-12-31 00:00:00', '1900-01-01 00:00:00')\").count()\n",
    "    if (column.split('_')[0] == 'cdc'):\n",
    "        # NA values: ['***', 'null', null, 'na', '']\n",
    "        na_values_dict[column] = input_data_micro.select(column).where('`'+column+\"` is null or lower(\"+ column +\") in('***', 'null', 'na', '')\").count()\n",
    "    if (column.split('_')[0] == 'idn'):\n",
    "        # NA values: [null, 0]\n",
    "        na_values_dict[column] = input_data_micro.select(column).where('`'+column+\"` is null or lower(\"+ column +\") in(0)\").count()\n",
    "    if (column.split('_')[0] == 'cdn'):\n",
    "        # NA values: [null, 0]\n",
    "        na_values_dict[column] = input_data_micro.select(column).where('`'+column+\"` is null or lower(\"+ column +\") in(0)\").count()\n",
    "    if (column.split('_')[0] == 'xds'):\n",
    "        # NA values: ['***', 'null', null, 'na', '']\n",
    "        na_values_dict[column] = input_data_micro.select(column).where('`'+column+\"` is null or lower(\"+ column +\") in('***', 'null', 'na', '')\").count()\n",
    "    if (column.split('_')[0] == 'qta' and column not in date_qta_columns):\n",
    "        # NA values: [null]\n",
    "        na_values_dict[column] = input_data_micro.select(column).where('`'+column+\"` is null\").count()\n",
    "    if (column in date_qta_columns):\n",
    "        # NA values: [null]\n",
    "        na_values_dict[column] = input_data_micro.select(column).where(\"`\"+column+\"` is null or \"+\"`\"+column+\"` >= 3650\").count()\n",
    "    if (column.split('_')[0] == 'mds'):\n",
    "        # NA values: ['***', 'null', null, 'na', '']\n",
    "        na_values_dict[column] = input_data_micro.select(column).where('`'+column+\"` is null or lower(\"+ column +\") in('***', 'null', 'na', '')\").count()\n",
    "    if (column.split('_')[0] == 'flc'):\n",
    "        # NA values: ['*', ***', 'null', null, 'na', '']\n",
    "        na_values_dict[column] = input_data_micro.select(column).where('`'+column+\"` is null or lower(\"+ column +\") in('*', '***', 'null', 'na', '')\").count()\n",
    "    if (column.split('_')[0] == 'fk'):\n",
    "        # NA values: [null, 0]\n",
    "        na_values_dict[column] = input_data_micro.select(column).where('`'+column+\"` is null or lower(\"+ column +\") in(0)\").count()\n",
    "    if (column.split('_')[0] == 'idc'):\n",
    "        # NA values: ['***', 'null', null, 'na', '']\n",
    "        na_values_dict[column] = input_data_micro.select(column).where('`'+column+\"` is null or lower(\"+ column +\") in('***', 'null', 'na', '')\").count()"
   ]
  },
  {
   "cell_type": "code",
   "execution_count": 20,
   "metadata": {},
   "outputs": [
    {
     "data": {
      "text/html": [
       "<div>\n",
       "<style scoped>\n",
       "    .dataframe tbody tr th:only-of-type {\n",
       "        vertical-align: middle;\n",
       "    }\n",
       "\n",
       "    .dataframe tbody tr th {\n",
       "        vertical-align: top;\n",
       "    }\n",
       "\n",
       "    .dataframe thead th {\n",
       "        text-align: right;\n",
       "    }\n",
       "</style>\n",
       "<table border=\"1\" class=\"dataframe\">\n",
       "  <thead>\n",
       "    <tr style=\"text-align: right;\">\n",
       "      <th></th>\n",
       "      <th>column</th>\n",
       "      <th>na_values</th>\n",
       "    </tr>\n",
       "  </thead>\n",
       "  <tbody>\n",
       "    <tr>\n",
       "      <th>0</th>\n",
       "      <td>idn_servizio_sk</td>\n",
       "      <td>0</td>\n",
       "    </tr>\n",
       "    <tr>\n",
       "      <th>1</th>\n",
       "      <td>idn_cliente_sk</td>\n",
       "      <td>0</td>\n",
       "    </tr>\n",
       "    <tr>\n",
       "      <th>2</th>\n",
       "      <td>cdc_stato_servizio_calc</td>\n",
       "      <td>3974</td>\n",
       "    </tr>\n",
       "    <tr>\n",
       "      <th>3</th>\n",
       "      <td>fk_cliente_unico</td>\n",
       "      <td>30</td>\n",
       "    </tr>\n",
       "    <tr>\n",
       "      <th>4</th>\n",
       "      <td>idc_id_key_servizio</td>\n",
       "      <td>0</td>\n",
       "    </tr>\n",
       "    <tr>\n",
       "      <th>5</th>\n",
       "      <td>idn_sito_sk</td>\n",
       "      <td>0</td>\n",
       "    </tr>\n",
       "    <tr>\n",
       "      <th>6</th>\n",
       "      <td>lds_prodotto_listino_2</td>\n",
       "      <td>6632</td>\n",
       "    </tr>\n",
       "    <tr>\n",
       "      <th>7</th>\n",
       "      <td>sds_segmento_new</td>\n",
       "      <td>0</td>\n",
       "    </tr>\n",
       "    <tr>\n",
       "      <th>8</th>\n",
       "      <td>idc_id_key_cliente</td>\n",
       "      <td>30</td>\n",
       "    </tr>\n",
       "    <tr>\n",
       "      <th>9</th>\n",
       "      <td>lds_nome_listino</td>\n",
       "      <td>12642</td>\n",
       "    </tr>\n",
       "  </tbody>\n",
       "</table>\n",
       "</div>"
      ],
      "text/plain": [
       "                    column  na_values\n",
       "0          idn_servizio_sk          0\n",
       "1           idn_cliente_sk          0\n",
       "2  cdc_stato_servizio_calc       3974\n",
       "3         fk_cliente_unico         30\n",
       "4      idc_id_key_servizio          0\n",
       "5              idn_sito_sk          0\n",
       "6   lds_prodotto_listino_2       6632\n",
       "7         sds_segmento_new          0\n",
       "8       idc_id_key_cliente         30\n",
       "9         lds_nome_listino      12642"
      ]
     },
     "execution_count": 20,
     "metadata": {},
     "output_type": "execute_result"
    }
   ],
   "source": [
    "na_values = [na_values_dict[column] for column in input_data_micro.columns]\n",
    "na_values_dict_for_pd = {'column': input_data_micro.columns, 'na_values': na_values}\n",
    "na_values_df = pd.DataFrame.from_dict(na_values_dict_for_pd)\n",
    "na_values_df.to_csv('/userdata/durand/na_values_per_column_micro.csv')\n",
    "na_values_df.head(10)"
   ]
  },
  {
   "cell_type": "markdown",
   "metadata": {},
   "source": [
    "## 3- Feature Selection: Distinct values, NA Percentage, IDs, Redundancies"
   ]
  },
  {
   "cell_type": "markdown",
   "metadata": {},
   "source": [
    "### 3.1- Redundant features - Correlation Tests"
   ]
  },
  {
   "cell_type": "markdown",
   "metadata": {},
   "source": [
    "#### 3.1.1- lds_nome_listino <=> lds_prodotto_listino_2: Chi Square Test"
   ]
  },
  {
   "cell_type": "markdown",
   "metadata": {},
   "source": [
    "To evaluate the relation between these two features, We are going to implement a Chi square independence test with the help of scipy.stats module."
   ]
  },
  {
   "cell_type": "code",
   "execution_count": 13,
   "metadata": {},
   "outputs": [],
   "source": [
    "def chi_square_test(alpha, contingency_pandas_df):\n",
    "    observed_values = contingency_pandas_df.values    \n",
    "    stat, p, dof, expected = chi2_contingency(observed_values)\n",
    "    return {'chi_square_value': stat,'p-value': p, 'degrees_of_freedom': dof}"
   ]
  },
  {
   "cell_type": "markdown",
   "metadata": {},
   "source": [
    "let's applys this implementation on our two features"
   ]
  },
  {
   "cell_type": "code",
   "execution_count": 15,
   "metadata": {},
   "outputs": [
    {
     "name": "stdout",
     "output_type": "stream",
     "text": [
      "+----------------+----------------------+\n",
      "|lds_nome_listino|lds_prodotto_listino_2|\n",
      "+----------------+----------------------+\n",
      "|             ***|  ANNO SICURO CONVE...|\n",
      "|             ***|     GIUSTAXTE IMPRESA|\n",
      "|             ***|     GIUSTAXTE IMPRESA|\n",
      "+----------------+----------------------+\n",
      "only showing top 3 rows\n",
      "\n"
     ]
    }
   ],
   "source": [
    "df_test = df.select('lds_nome_listino', 'lds_prodotto_listino_2')\n",
    "df_test.show(3)"
   ]
  },
  {
   "cell_type": "markdown",
   "metadata": {},
   "source": [
    "The first thing that we need is a contingency table. This can be obtained by running the following:"
   ]
  },
  {
   "cell_type": "code",
   "execution_count": 16,
   "metadata": {},
   "outputs": [
    {
     "data": {
      "text/html": [
       "<div>\n",
       "<style scoped>\n",
       "    .dataframe tbody tr th:only-of-type {\n",
       "        vertical-align: middle;\n",
       "    }\n",
       "\n",
       "    .dataframe tbody tr th {\n",
       "        vertical-align: top;\n",
       "    }\n",
       "\n",
       "    .dataframe thead th {\n",
       "        text-align: right;\n",
       "    }\n",
       "</style>\n",
       "<table border=\"1\" class=\"dataframe\">\n",
       "  <thead>\n",
       "    <tr style=\"text-align: right;\">\n",
       "      <th></th>\n",
       "      <th>lds_nome_listino_lds_prodotto_listino_2</th>\n",
       "      <th>***</th>\n",
       "      <th>1.500 METRI CUBI DI GAS</th>\n",
       "      <th>100X100 GIUSTAXTE</th>\n",
       "      <th>100X100 GIUSTAXTE BIORARIA</th>\n",
       "      <th>100X100 GIUSTAXTE BIORARIA IMPRESA</th>\n",
       "      <th>100X100 GIUSTAXTE GAS</th>\n",
       "      <th>100X100 GIUSTAXTE GAS IMPRESA</th>\n",
       "      <th>100X100 GIUSTAXTE IMPRESA</th>\n",
       "      <th>3.000 METRI CUBI DI GAS</th>\n",
       "      <th>...</th>\n",
       "      <th>TREND  SICURO GAS IMPRESA NEW (SIMIL PLACET PREZZI INDICIZZATI)</th>\n",
       "      <th>TUTELA SIMILE</th>\n",
       "      <th>TUTTOCOMPRESO GAS</th>\n",
       "      <th>TUTTOCOMPRESO LUCE</th>\n",
       "      <th>VANTAGGIO 5</th>\n",
       "      <th>VANTAGGIO 5+</th>\n",
       "      <th>VANTAGGIO IMPRESA</th>\n",
       "      <th>VANTAGGIO PIU</th>\n",
       "      <th>VANTAGGIO PIU GAS</th>\n",
       "      <th>VANTAGGIO STAGIONE BUS</th>\n",
       "    </tr>\n",
       "  </thead>\n",
       "  <tbody>\n",
       "    <tr>\n",
       "      <th>0</th>\n",
       "      <td>Condominio Flessibile BT Verde rinnovi</td>\n",
       "      <td>0</td>\n",
       "      <td>0</td>\n",
       "      <td>0</td>\n",
       "      <td>0</td>\n",
       "      <td>0</td>\n",
       "      <td>0</td>\n",
       "      <td>0</td>\n",
       "      <td>0</td>\n",
       "      <td>0</td>\n",
       "      <td>...</td>\n",
       "      <td>0</td>\n",
       "      <td>0</td>\n",
       "      <td>0</td>\n",
       "      <td>0</td>\n",
       "      <td>0</td>\n",
       "      <td>0</td>\n",
       "      <td>0</td>\n",
       "      <td>0</td>\n",
       "      <td>0</td>\n",
       "      <td>0</td>\n",
       "    </tr>\n",
       "    <tr>\n",
       "      <th>1</th>\n",
       "      <td>Energia Pura V1 28 rinnovi</td>\n",
       "      <td>0</td>\n",
       "      <td>0</td>\n",
       "      <td>0</td>\n",
       "      <td>0</td>\n",
       "      <td>0</td>\n",
       "      <td>0</td>\n",
       "      <td>0</td>\n",
       "      <td>0</td>\n",
       "      <td>0</td>\n",
       "      <td>...</td>\n",
       "      <td>0</td>\n",
       "      <td>0</td>\n",
       "      <td>0</td>\n",
       "      <td>0</td>\n",
       "      <td>0</td>\n",
       "      <td>0</td>\n",
       "      <td>0</td>\n",
       "      <td>0</td>\n",
       "      <td>0</td>\n",
       "      <td>0</td>\n",
       "    </tr>\n",
       "    <tr>\n",
       "      <th>2</th>\n",
       "      <td>Soluzione Energia Impresa Business</td>\n",
       "      <td>0</td>\n",
       "      <td>0</td>\n",
       "      <td>0</td>\n",
       "      <td>0</td>\n",
       "      <td>0</td>\n",
       "      <td>0</td>\n",
       "      <td>0</td>\n",
       "      <td>0</td>\n",
       "      <td>0</td>\n",
       "      <td>...</td>\n",
       "      <td>0</td>\n",
       "      <td>0</td>\n",
       "      <td>0</td>\n",
       "      <td>0</td>\n",
       "      <td>0</td>\n",
       "      <td>0</td>\n",
       "      <td>0</td>\n",
       "      <td>0</td>\n",
       "      <td>0</td>\n",
       "      <td>0</td>\n",
       "    </tr>\n",
       "    <tr>\n",
       "      <th>3</th>\n",
       "      <td>Prezzo Amico v1 26 rinnovi_BUS_RI_26</td>\n",
       "      <td>0</td>\n",
       "      <td>0</td>\n",
       "      <td>0</td>\n",
       "      <td>0</td>\n",
       "      <td>0</td>\n",
       "      <td>0</td>\n",
       "      <td>0</td>\n",
       "      <td>0</td>\n",
       "      <td>0</td>\n",
       "      <td>...</td>\n",
       "      <td>0</td>\n",
       "      <td>0</td>\n",
       "      <td>0</td>\n",
       "      <td>0</td>\n",
       "      <td>0</td>\n",
       "      <td>0</td>\n",
       "      <td>0</td>\n",
       "      <td>0</td>\n",
       "      <td>0</td>\n",
       "      <td>0</td>\n",
       "    </tr>\n",
       "    <tr>\n",
       "      <th>4</th>\n",
       "      <td>Anno Sicuro P.A._V2_rinnovi</td>\n",
       "      <td>0</td>\n",
       "      <td>0</td>\n",
       "      <td>0</td>\n",
       "      <td>0</td>\n",
       "      <td>0</td>\n",
       "      <td>0</td>\n",
       "      <td>0</td>\n",
       "      <td>0</td>\n",
       "      <td>0</td>\n",
       "      <td>...</td>\n",
       "      <td>0</td>\n",
       "      <td>0</td>\n",
       "      <td>0</td>\n",
       "      <td>0</td>\n",
       "      <td>0</td>\n",
       "      <td>0</td>\n",
       "      <td>0</td>\n",
       "      <td>0</td>\n",
       "      <td>0</td>\n",
       "      <td>0</td>\n",
       "    </tr>\n",
       "  </tbody>\n",
       "</table>\n",
       "<p>5 rows × 228 columns</p>\n",
       "</div>"
      ],
      "text/plain": [
       "  lds_nome_listino_lds_prodotto_listino_2  ***  1.500 METRI CUBI DI GAS  \\\n",
       "0  Condominio Flessibile BT Verde rinnovi    0                        0   \n",
       "1              Energia Pura V1 28 rinnovi    0                        0   \n",
       "2      Soluzione Energia Impresa Business    0                        0   \n",
       "3    Prezzo Amico v1 26 rinnovi_BUS_RI_26    0                        0   \n",
       "4             Anno Sicuro P.A._V2_rinnovi    0                        0   \n",
       "\n",
       "   100X100 GIUSTAXTE  100X100 GIUSTAXTE BIORARIA  \\\n",
       "0                  0                           0   \n",
       "1                  0                           0   \n",
       "2                  0                           0   \n",
       "3                  0                           0   \n",
       "4                  0                           0   \n",
       "\n",
       "   100X100 GIUSTAXTE BIORARIA IMPRESA  100X100 GIUSTAXTE GAS  \\\n",
       "0                                   0                      0   \n",
       "1                                   0                      0   \n",
       "2                                   0                      0   \n",
       "3                                   0                      0   \n",
       "4                                   0                      0   \n",
       "\n",
       "   100X100 GIUSTAXTE GAS IMPRESA  100X100 GIUSTAXTE IMPRESA  \\\n",
       "0                              0                          0   \n",
       "1                              0                          0   \n",
       "2                              0                          0   \n",
       "3                              0                          0   \n",
       "4                              0                          0   \n",
       "\n",
       "   3.000 METRI CUBI DI GAS  ...  \\\n",
       "0                        0  ...   \n",
       "1                        0  ...   \n",
       "2                        0  ...   \n",
       "3                        0  ...   \n",
       "4                        0  ...   \n",
       "\n",
       "   TREND  SICURO GAS IMPRESA NEW (SIMIL PLACET PREZZI INDICIZZATI)  \\\n",
       "0                                                                0   \n",
       "1                                                                0   \n",
       "2                                                                0   \n",
       "3                                                                0   \n",
       "4                                                                0   \n",
       "\n",
       "   TUTELA SIMILE  TUTTOCOMPRESO GAS  TUTTOCOMPRESO LUCE  VANTAGGIO 5  \\\n",
       "0              0                  0                   0            0   \n",
       "1              0                  0                   0            0   \n",
       "2              0                  0                   0            0   \n",
       "3              0                  0                   0            0   \n",
       "4              0                  0                   0            0   \n",
       "\n",
       "   VANTAGGIO 5+  VANTAGGIO IMPRESA  VANTAGGIO PIU  VANTAGGIO PIU GAS  \\\n",
       "0             0                  0              0                  0   \n",
       "1             0                  0              0                  0   \n",
       "2             0                  0              0                  0   \n",
       "3             0                  0              0                  0   \n",
       "4             0                  0              0                  0   \n",
       "\n",
       "   VANTAGGIO STAGIONE BUS  \n",
       "0                       0  \n",
       "1                       0  \n",
       "2                       0  \n",
       "3                       0  \n",
       "4                       0  \n",
       "\n",
       "[5 rows x 228 columns]"
      ]
     },
     "execution_count": 16,
     "metadata": {},
     "output_type": "execute_result"
    }
   ],
   "source": [
    "contingency_table = df_test.stat.crosstab('lds_nome_listino', 'lds_prodotto_listino_2')\n",
    "contingency_table.toPandas().head()"
   ]
  },
  {
   "cell_type": "code",
   "execution_count": 17,
   "metadata": {},
   "outputs": [
    {
     "data": {
      "text/plain": [
       "{'chi_square_value': 5318759049.031121,\n",
       " 'p-value': 0.0,\n",
       " 'degrees_of_freedom': 204982}"
      ]
     },
     "execution_count": 17,
     "metadata": {},
     "output_type": "execute_result"
    }
   ],
   "source": [
    "# Drop the first column lds_nome_listino_lds_prodotto_listino_2 and convert the spark df into a pandas df\n",
    "contingency_df = contingency_table.drop('lds_nome_listino_lds_prodotto_listino_2')\n",
    "contingency_pd_df = contingency_df.toPandas()\n",
    "\n",
    "# Perform the Chi square test\n",
    "significance_level = 0.05\n",
    "independenceTestResult = chi_square_test(alpha = significance_level, contingency_pandas_df = contingency_pd_df)\n",
    "independenceTestResult"
   ]
  },
  {
   "cell_type": "markdown",
   "metadata": {},
   "source": [
    "As the p-value is lower than the significance level (0.05), we can confidently reject the null hypothesis and say that there is a dependency between \\\n",
    "lds_nome_listino and lds_prodotto_listino_2.\n",
    "\n",
    "To decide which of the two feaures we are going to keep, let's check if they are correlated with the target variable (val_churn_2_months)"
   ]
  },
  {
   "cell_type": "code",
   "execution_count": 11,
   "metadata": {},
   "outputs": [
    {
     "name": "stdout",
     "output_type": "stream",
     "text": [
      "lds_nome_listino vs val_churn_2_months\n",
      "{'chi_square_value': 123198.9690061592, 'p-value': 0.0, 'degrees_of_freedom': 874}\n",
      "lds_prodotto_listino_2 vs val_churn_2_months\n",
      "{'chi_square_value': 59074.20784380114, 'p-value': 0.0, 'degrees_of_freedom': 218}\n"
     ]
    }
   ],
   "source": [
    "df_test = df.select('lds_nome_listino', 'val_churn_2_months')\n",
    "df_test1 = df.select('lds_prodotto_listino_2', 'val_churn_2_months')\n",
    "contingency_table = df_test.stat.crosstab('lds_nome_listino', 'val_churn_2_months')\n",
    "contingency_table1 = df_test1.stat.crosstab('lds_prodotto_listino_2', 'val_churn_2_months')\n",
    "# Drop the first column and convert the spark df into a pandas df\n",
    "contingency_df = contingency_table.drop('lds_nome_listino_val_churn_2_months')\n",
    "contingency_df1 = contingency_table1.drop('lds_prodotto_listino_2_val_churn_2_months')\n",
    "contingency_pd_df = contingency_df.toPandas()\n",
    "contingency_pd_df1 = contingency_df1.toPandas()\n",
    "# Perform the Chi square test\n",
    "significance_level = 0.05\n",
    "independenceTestResult = chi_square_test(alpha = significance_level, contingency_pandas_df = contingency_pd_df)\n",
    "independenceTestResult1 = chi_square_test(alpha = significance_level, contingency_pandas_df = contingency_pd_df1)\n",
    "print('lds_nome_listino vs val_churn_2_months')\n",
    "print(independenceTestResult)\n",
    "print('lds_prodotto_listino_2 vs val_churn_2_months')\n",
    "print(independenceTestResult1)"
   ]
  },
  {
   "cell_type": "markdown",
   "metadata": {},
   "source": [
    "As the p-value suggests, both features are correlated with the target. we are going keep the feature with less NA proportion. Namely lds_prodotto_listino_2 (0.03% against 0.07% for lds_nome_listino)"
   ]
  },
  {
   "cell_type": "markdown",
   "metadata": {},
   "source": [
    "#### 3.1.2- lds_macro_prodotto <=> lds_prodotto_listino_2: Chi Square Test"
   ]
  },
  {
   "cell_type": "code",
   "execution_count": 13,
   "metadata": {},
   "outputs": [
    {
     "name": "stdout",
     "output_type": "stream",
     "text": [
      "lds_macro_prodotto vs lds_prodotto_listino_2\n",
      "{'chi_square_value': 5320428218.000001, 'p-value': 0.0, 'degrees_of_freedom': 44254}\n",
      "lds_macro_prodotto vs val_churn_2_months\n",
      "{'chi_square_value': 56432.73792303009, 'p-value': 0.0, 'degrees_of_freedom': 203}\n"
     ]
    }
   ],
   "source": [
    "df_test = df.select('lds_macro_prodotto', 'lds_prodotto_listino_2')\n",
    "df_test1 = df.select('lds_macro_prodotto', 'val_churn_2_months')\n",
    "contingency_table = df_test.stat.crosstab('lds_macro_prodotto', 'lds_prodotto_listino_2')\n",
    "contingency_table1 = df_test1.stat.crosstab('lds_macro_prodotto', 'val_churn_2_months')\n",
    "# Drop the first column and convert the spark df into a pandas df\n",
    "contingency_df = contingency_table.drop('lds_macro_prodotto_lds_prodotto_listino_2')\n",
    "contingency_df1 = contingency_table1.drop('lds_macro_prodotto_val_churn_2_months')\n",
    "contingency_pd_df = contingency_df.toPandas()\n",
    "contingency_pd_df1 = contingency_df1.toPandas()\n",
    "# Perform the Chi square test\n",
    "significance_level = 0.05\n",
    "independenceTestResult = chi_square_test(alpha = significance_level, contingency_pandas_df = contingency_pd_df)\n",
    "independenceTestResult1 = chi_square_test(alpha = significance_level, contingency_pandas_df = contingency_pd_df1)\n",
    "print('lds_macro_prodotto vs lds_prodotto_listino_2')\n",
    "print(independenceTestResult)\n",
    "print('lds_macro_prodotto vs val_churn_2_months')\n",
    "print(independenceTestResult1)"
   ]
  },
  {
   "cell_type": "markdown",
   "metadata": {},
   "source": [
    "As a conclusion there is a dependency between lds_macro_prodotto and lds_prodotto_listino_2 and also between lds_macro_prodotto and the target variable.\n",
    "\n",
    "We will keep lds_prodotto_listino_2 because of his high number of distinct values (220) with respect to lds_macro_prodotto (205)."
   ]
  },
  {
   "cell_type": "markdown",
   "metadata": {},
   "source": [
    "#### 3.1.3- lds_categoria_prodotto <=> lds_prodotto_listino_2: Chi Square Test"
   ]
  },
  {
   "cell_type": "code",
   "execution_count": 15,
   "metadata": {},
   "outputs": [
    {
     "name": "stdout",
     "output_type": "stream",
     "text": [
      "lds_categoria_prodotto vs lds_prodotto_listino_2\n",
      "{'chi_square_value': 48175000.11413506, 'p-value': 0.0, 'degrees_of_freedom': 436}\n",
      "lds_categoria_prodotto vs val_churn_2_months\n",
      "{'chi_square_value': 894.9776447978869, 'p-value': 4.550652980644098e-195, 'degrees_of_freedom': 2}\n"
     ]
    }
   ],
   "source": [
    "df_test = df.select('lds_categoria_prodotto', 'lds_prodotto_listino_2')\n",
    "df_test1 = df.select('lds_categoria_prodotto', 'val_churn_2_months')\n",
    "contingency_table = df_test.stat.crosstab('lds_categoria_prodotto', 'lds_prodotto_listino_2')\n",
    "contingency_table1 = df_test1.stat.crosstab('lds_categoria_prodotto', 'val_churn_2_months')\n",
    "# Drop the first column and convert the spark df into a pandas df\n",
    "contingency_df = contingency_table.drop('lds_categoria_prodotto_lds_prodotto_listino_2')\n",
    "contingency_df1 = contingency_table1.drop('lds_categoria_prodotto_val_churn_2_months')\n",
    "contingency_pd_df = contingency_df.toPandas()\n",
    "contingency_pd_df1 = contingency_df1.toPandas()\n",
    "# Perform the Chi square test\n",
    "significance_level = 0.05\n",
    "independenceTestResult = chi_square_test(alpha = significance_level, contingency_pandas_df = contingency_pd_df)\n",
    "independenceTestResult1 = chi_square_test(alpha = significance_level, contingency_pandas_df = contingency_pd_df1)\n",
    "print('lds_categoria_prodotto vs lds_prodotto_listino_2')\n",
    "print(independenceTestResult)\n",
    "print('lds_categoria_prodotto vs val_churn_2_months')\n",
    "print(independenceTestResult1)"
   ]
  },
  {
   "cell_type": "markdown",
   "metadata": {},
   "source": [
    "As a conclusion there is a dependency between lds_categoria_prodotto and lds_prodotto_listino_2 and also between lds_categoria_prodotto and the target variable.\n",
    "\n",
    "We will keep lds_prodotto_listino_2 because of his high entropy (220) with respect to lds_categoria_prodotto (3) and also because the p-values suggest that lds_prodotto_listino_2 is more correlated with the target (p-value = 0.0) than lds_categoria_prodotto (p-value = 4.550652980644098e-195)"
   ]
  },
  {
   "cell_type": "markdown",
   "metadata": {},
   "source": [
    "#### 3.1.4 - val_fascia_stress <=> qta_indice_stress_comm_ult_30gg: Pearson/Spearman"
   ]
  },
  {
   "cell_type": "code",
   "execution_count": 18,
   "metadata": {},
   "outputs": [],
   "source": [
    "val_fascia_stress = df.select('val_fascia_stress').toPandas().values\n",
    "val_fascia_stress = val_fascia_stress.flatten()\n",
    "qta_indice_stress_comm_ult_30gg = df.select('qta_indice_stress_comm_ult_30gg').toPandas().values\n",
    "qta_indice_stress_comm_ult_30gg = qta_indice_stress_comm_ult_30gg.flatten()\n",
    "val_churn_2_months = df.select('val_churn_2_months').toPandas().values\n",
    "val_churn_2_months = val_churn_2_months.flatten()"
   ]
  },
  {
   "cell_type": "code",
   "execution_count": null,
   "metadata": {},
   "outputs": [],
   "source": [
    "# calculate Pearson's correlation\n",
    "corr, _ = pearsonr(val_fascia_stress, qta_indice_stress_comm_ult_30gg)\n",
    "print('Pearsons correlation val_fascia_stress vs qta_indice_stress_comm_ult_30gg: %.3f' % corr)\n",
    "\n",
    "corr, _ = pearsonr(val_fascia_stress, val_churn_2_months)\n",
    "print('Pearsons correlation val_fascia_stress vs val_churn_2_months: %.3f' % corr)\n",
    "\n",
    "corr, _ = pearsonr(qta_indice_stress_comm_ult_30gg, val_churn_2_months)\n",
    "print('Pearsons correlation qta_indice_stress_comm_ult_30gg vs val_churn_2_months: %.3f' % corr)\n",
    "\n",
    "\n",
    "# calculate spearman's correlation\n",
    "corr, _ = spearmanr(val_fascia_stress, qta_indice_stress_comm_ult_30gg)\n",
    "print('Spearmans correlation val_fascia_stress vs qta_indice_stress_comm_ult_30gg: %.3f' % corr)\n",
    "\n",
    "corr, _ = spearmanr(val_fascia_stress, val_churn_2_months)\n",
    "print('Spearmans correlation val_fascia_stress vs val_churn_2_months: %.3f' % corr)\n",
    "\n",
    "corr, _ = spearmanr(qta_indice_stress_comm_ult_30gg, val_churn_2_months)\n",
    "print('Spearmans correlation qta_indice_stress_comm_ult_30gg vs val_churn_2_months: %.3f' % corr)"
   ]
  },
  {
   "cell_type": "markdown",
   "metadata": {
    "collapsed": true
   },
   "source": [
    "Generally speaking, correlation coefficient values below 0.3 are considered to be weak; 0.3-0.7 are moderate; >0.7 are strong. \n",
    "As we can observe above, with Pearson, we obtain a moderate correlation between val_fascia_stress and qta_indice_stress_comm_ult_30gg and a weak correlation of both of them with the target. Whereas with Spearman, we obtain a strong relation betwwen the two features and still a weak relation with the target for both the features.\n",
    "\n",
    "However, it apears that val_fascia_stress if more correlated with the target than qta_indice_stress_comm_ult_30gg. we will then remove this feature."
   ]
  },
  {
   "cell_type": "markdown",
   "metadata": {},
   "source": [
    "## 3.2 Correlation with target variable: categorical variables"
   ]
  },
  {
   "cell_type": "markdown",
   "metadata": {},
   "source": [
    "### 3.2.1- Categorical features vs Target variable: Chi Squared Test"
   ]
  },
  {
   "cell_type": "code",
   "execution_count": 21,
   "metadata": {},
   "outputs": [],
   "source": [
    "# This is the list of the 43 categorical features to be handled\n",
    "categorical_features = ['cdc_stato_servizio_calc', 'lds_prodotto_listino_2', 'cdc_pdr', 'sds_commodity', 'mds_canale_acquisizione', 'cdc_cap_nrm', 'lds_tipo_uso', \n",
    "'cdc_residente', 'mds_tipologia_pagamento', 'cdc_id_mercato', 'sds_provincia_fatturazione', 'sds_provincia_fornitura', \n",
    "'sds_regione_fornitura', 'sds_regione_fatturazione', 'sds_mat_fatturazione', 'sds_mat_fornitura', 'sds_provincia', 'sds_regione', \n",
    "'sds_mat', 'lds_societa_vendita', 'cdc_win_back_m3', 'mds_sottocanale', 'mds_comune', 'cdc_istat', 'cdc_Codice_Regione', \n",
    "'cdc_Zona_altimetrica', 'cdc_Comune_Montano', 'sds_cluster_ele', 'sds_cluster_gas', 'sds_segmento_fasce', 'cdc_causale_attivazione', \n",
    "'lds_comune_fornitura', 'cdc_bolletta_web', 'cdc_cluster_fattura_last', 'mds_nome_campagna_last_response_marketing_cli', \n",
    "'xds_canale_last_response_marketing_cli', 'xds_tipo_azione_campagna_last_response_marketing_cli', \n",
    "'xds_tipologia_azione_last_response_marketing_cli', 'sds_segmento_organizzativo_cliente', 'cdc_power_gas', 'cdc_tenure_bucket', \n",
    "'cdc_cv_fasce_servizio', 'cdc_tenure_bucket_cliente']"
   ]
  },
  {
   "cell_type": "code",
   "execution_count": 45,
   "metadata": {},
   "outputs": [
    {
     "name": "stderr",
     "output_type": "stream",
     "text": [
      "  2%|▏         | 1/43 [00:06<04:45,  6.80s/it]"
     ]
    },
    {
     "name": "stdout",
     "output_type": "stream",
     "text": [
      "cdc_stato_servizio_calc vs val_churn_2_months\n",
      "{'chi_square_value': 4277006.753767134, 'p-value': 0.0, 'degrees_of_freedom': 4}\n"
     ]
    },
    {
     "name": "stderr",
     "output_type": "stream",
     "text": [
      "\r",
      "  5%|▍         | 2/43 [00:13<04:43,  6.90s/it]"
     ]
    },
    {
     "name": "stdout",
     "output_type": "stream",
     "text": [
      "lds_prodotto_listino_2 vs val_churn_2_months\n",
      "{'chi_square_value': 59074.20784380114, 'p-value': 0.0, 'degrees_of_freedom': 218}\n"
     ]
    },
    {
     "name": "stderr",
     "output_type": "stream",
     "text": [
      "\r",
      "  7%|▋         | 3/43 [00:35<07:28, 11.22s/it]"
     ]
    },
    {
     "name": "stdout",
     "output_type": "stream",
     "text": [
      "cdc_pdr vs val_churn_2_months\n",
      "{'chi_square_value': 8275615.102175239, 'p-value': 0.0, 'degrees_of_freedom': 964782}\n"
     ]
    },
    {
     "name": "stderr",
     "output_type": "stream",
     "text": [
      "\r",
      "  9%|▉         | 4/43 [00:38<05:39,  8.70s/it]"
     ]
    },
    {
     "name": "stdout",
     "output_type": "stream",
     "text": [
      "sds_commodity vs val_churn_2_months\n",
      "{'chi_square_value': 0.14272503699624328, 'p-value': 0.7055868459677992, 'degrees_of_freedom': 1}\n"
     ]
    },
    {
     "name": "stderr",
     "output_type": "stream",
     "text": [
      "\r",
      " 12%|█▏        | 5/43 [00:40<04:22,  6.92s/it]"
     ]
    },
    {
     "name": "stdout",
     "output_type": "stream",
     "text": [
      "mds_canale_acquisizione vs val_churn_2_months\n",
      "{'chi_square_value': 40001.161534926716, 'p-value': 0.0, 'degrees_of_freedom': 12}\n"
     ]
    },
    {
     "name": "stderr",
     "output_type": "stream",
     "text": [
      "\r",
      " 14%|█▍        | 6/43 [00:44<03:36,  5.86s/it]"
     ]
    },
    {
     "name": "stdout",
     "output_type": "stream",
     "text": [
      "cdc_cap_nrm vs val_churn_2_months\n",
      "{'chi_square_value': 85635.21409730605, 'p-value': 0.0, 'degrees_of_freedom': 4735}\n"
     ]
    },
    {
     "name": "stderr",
     "output_type": "stream",
     "text": [
      "\r",
      " 16%|█▋        | 7/43 [00:46<02:56,  4.91s/it]"
     ]
    },
    {
     "name": "stdout",
     "output_type": "stream",
     "text": [
      "lds_tipo_uso vs val_churn_2_months\n",
      "{'chi_square_value': 3944.8078531520605, 'p-value': 0.0, 'degrees_of_freedom': 12}\n"
     ]
    },
    {
     "name": "stderr",
     "output_type": "stream",
     "text": [
      "\r",
      " 19%|█▊        | 8/43 [00:49<02:28,  4.23s/it]"
     ]
    },
    {
     "name": "stdout",
     "output_type": "stream",
     "text": [
      "cdc_residente vs val_churn_2_months\n",
      "{'chi_square_value': 1981.5798737527969, 'p-value': 0.0, 'degrees_of_freedom': 1}\n"
     ]
    },
    {
     "name": "stderr",
     "output_type": "stream",
     "text": [
      "\r",
      " 21%|██        | 9/43 [00:52<02:14,  3.95s/it]"
     ]
    },
    {
     "name": "stdout",
     "output_type": "stream",
     "text": [
      "mds_tipologia_pagamento vs val_churn_2_months\n",
      "{'chi_square_value': 3241.5366686878524, 'p-value': 0.0, 'degrees_of_freedom': 5}\n"
     ]
    },
    {
     "name": "stderr",
     "output_type": "stream",
     "text": [
      "\r",
      " 23%|██▎       | 10/43 [00:55<01:57,  3.55s/it]"
     ]
    },
    {
     "name": "stdout",
     "output_type": "stream",
     "text": [
      "cdc_id_mercato vs val_churn_2_months\n",
      "{'chi_square_value': 9184.206973788885, 'p-value': 0.0, 'degrees_of_freedom': 4}\n"
     ]
    },
    {
     "name": "stderr",
     "output_type": "stream",
     "text": [
      "\r",
      " 26%|██▌       | 11/43 [00:58<01:47,  3.35s/it]"
     ]
    },
    {
     "name": "stdout",
     "output_type": "stream",
     "text": [
      "sds_provincia_fatturazione vs val_churn_2_months\n",
      "{'chi_square_value': 16028.55792379342, 'p-value': 0.0, 'degrees_of_freedom': 107}\n"
     ]
    },
    {
     "name": "stderr",
     "output_type": "stream",
     "text": [
      "\r",
      " 28%|██▊       | 12/43 [01:01<01:39,  3.21s/it]"
     ]
    },
    {
     "name": "stdout",
     "output_type": "stream",
     "text": [
      "sds_provincia_fornitura vs val_churn_2_months\n",
      "{'chi_square_value': 16028.55792379342, 'p-value': 0.0, 'degrees_of_freedom': 107}\n"
     ]
    },
    {
     "name": "stderr",
     "output_type": "stream",
     "text": [
      "\r",
      " 30%|███       | 13/43 [01:03<01:31,  3.05s/it]"
     ]
    },
    {
     "name": "stdout",
     "output_type": "stream",
     "text": [
      "sds_regione_fornitura vs val_churn_2_months\n",
      "{'chi_square_value': 7461.931836929929, 'p-value': 0.0, 'degrees_of_freedom': 22}\n"
     ]
    },
    {
     "name": "stderr",
     "output_type": "stream",
     "text": [
      "\r",
      " 33%|███▎      | 14/43 [01:06<01:25,  2.93s/it]"
     ]
    },
    {
     "name": "stdout",
     "output_type": "stream",
     "text": [
      "sds_regione_fatturazione vs val_churn_2_months\n",
      "{'chi_square_value': 7461.931836929929, 'p-value': 0.0, 'degrees_of_freedom': 22}\n"
     ]
    },
    {
     "name": "stderr",
     "output_type": "stream",
     "text": [
      "\r",
      " 35%|███▍      | 15/43 [01:09<01:19,  2.85s/it]"
     ]
    },
    {
     "name": "stdout",
     "output_type": "stream",
     "text": [
      "sds_mat_fatturazione vs val_churn_2_months\n",
      "{'chi_square_value': 3921.430829187869, 'p-value': 0.0, 'degrees_of_freedom': 4}\n"
     ]
    },
    {
     "name": "stderr",
     "output_type": "stream",
     "text": [
      "\r",
      " 37%|███▋      | 16/43 [01:11<01:14,  2.78s/it]"
     ]
    },
    {
     "name": "stdout",
     "output_type": "stream",
     "text": [
      "sds_mat_fornitura vs val_churn_2_months\n",
      "{'chi_square_value': 3921.430829187869, 'p-value': 0.0, 'degrees_of_freedom': 4}\n"
     ]
    },
    {
     "name": "stderr",
     "output_type": "stream",
     "text": [
      "\r",
      " 40%|███▉      | 17/43 [01:14<01:13,  2.83s/it]"
     ]
    },
    {
     "name": "stdout",
     "output_type": "stream",
     "text": [
      "sds_provincia vs val_churn_2_months\n",
      "{'chi_square_value': 17236.560737196658, 'p-value': 0.0, 'degrees_of_freedom': 107}\n"
     ]
    },
    {
     "name": "stderr",
     "output_type": "stream",
     "text": [
      "\r",
      " 42%|████▏     | 18/43 [01:17<01:09,  2.77s/it]"
     ]
    },
    {
     "name": "stdout",
     "output_type": "stream",
     "text": [
      "sds_regione vs val_churn_2_months\n",
      "{'chi_square_value': 8640.018331088453, 'p-value': 0.0, 'degrees_of_freedom': 21}\n"
     ]
    },
    {
     "name": "stderr",
     "output_type": "stream",
     "text": [
      "\r",
      " 44%|████▍     | 19/43 [01:20<01:08,  2.87s/it]"
     ]
    },
    {
     "name": "stdout",
     "output_type": "stream",
     "text": [
      "sds_mat vs val_churn_2_months\n",
      "{'chi_square_value': 4884.364680972055, 'p-value': 0.0, 'degrees_of_freedom': 4}\n"
     ]
    },
    {
     "name": "stderr",
     "output_type": "stream",
     "text": [
      "\r",
      " 47%|████▋     | 20/43 [01:23<01:03,  2.77s/it]"
     ]
    },
    {
     "name": "stdout",
     "output_type": "stream",
     "text": [
      "lds_societa_vendita vs val_churn_2_months\n",
      "{'chi_square_value': 5942.161485576378, 'p-value': 0.0, 'degrees_of_freedom': 3}\n"
     ]
    },
    {
     "name": "stderr",
     "output_type": "stream",
     "text": [
      "\r",
      " 49%|████▉     | 21/43 [01:25<00:59,  2.71s/it]"
     ]
    },
    {
     "name": "stdout",
     "output_type": "stream",
     "text": [
      "cdc_win_back_m3 vs val_churn_2_months\n",
      "{'chi_square_value': 259494.4669467715, 'p-value': 0.0, 'degrees_of_freedom': 1}\n"
     ]
    },
    {
     "name": "stderr",
     "output_type": "stream",
     "text": [
      "\r",
      " 51%|█████     | 22/43 [01:28<00:59,  2.86s/it]"
     ]
    },
    {
     "name": "stdout",
     "output_type": "stream",
     "text": [
      "mds_sottocanale vs val_churn_2_months\n",
      "{'chi_square_value': 239801.5936915959, 'p-value': 0.0, 'degrees_of_freedom': 5370}\n"
     ]
    },
    {
     "name": "stderr",
     "output_type": "stream",
     "text": [
      "\r",
      " 53%|█████▎    | 23/43 [01:32<00:59,  2.97s/it]"
     ]
    },
    {
     "name": "stdout",
     "output_type": "stream",
     "text": [
      "mds_comune vs val_churn_2_months\n",
      "{'chi_square_value': 91466.45797391207, 'p-value': 0.0, 'degrees_of_freedom': 7360}\n"
     ]
    },
    {
     "name": "stderr",
     "output_type": "stream",
     "text": [
      "\r",
      " 56%|█████▌    | 24/43 [01:35<00:58,  3.06s/it]"
     ]
    },
    {
     "name": "stdout",
     "output_type": "stream",
     "text": [
      "cdc_istat vs val_churn_2_months\n",
      "{'chi_square_value': 100276.68958699843, 'p-value': 0.0, 'degrees_of_freedom': 7986}\n"
     ]
    },
    {
     "name": "stderr",
     "output_type": "stream",
     "text": [
      "\r",
      " 58%|█████▊    | 25/43 [01:37<00:52,  2.93s/it]"
     ]
    },
    {
     "name": "stdout",
     "output_type": "stream",
     "text": [
      "cdc_Codice_Regione vs val_churn_2_months\n",
      "{'chi_square_value': 7435.5761248927965, 'p-value': 0.0, 'degrees_of_freedom': 20}\n"
     ]
    },
    {
     "name": "stderr",
     "output_type": "stream",
     "text": [
      "\r",
      " 60%|██████    | 26/43 [01:40<00:48,  2.84s/it]"
     ]
    },
    {
     "name": "stdout",
     "output_type": "stream",
     "text": [
      "cdc_Zona_altimetrica vs val_churn_2_months\n",
      "{'chi_square_value': 1351.617523182901, 'p-value': 4.188390181987765e-290, 'degrees_of_freedom': 5}\n"
     ]
    },
    {
     "name": "stderr",
     "output_type": "stream",
     "text": [
      "\r",
      " 63%|██████▎   | 27/43 [01:43<00:43,  2.74s/it]"
     ]
    },
    {
     "name": "stdout",
     "output_type": "stream",
     "text": [
      "cdc_Comune_Montano vs val_churn_2_months\n",
      "{'chi_square_value': 2380.1275957044018, 'p-value': 0.0, 'degrees_of_freedom': 3}\n"
     ]
    },
    {
     "name": "stderr",
     "output_type": "stream",
     "text": [
      "\r",
      " 65%|██████▌   | 28/43 [01:46<00:43,  2.89s/it]"
     ]
    },
    {
     "name": "stdout",
     "output_type": "stream",
     "text": [
      "sds_cluster_ele vs val_churn_2_months\n",
      "{'chi_square_value': 6077.826575371186, 'p-value': 0.0, 'degrees_of_freedom': 7}\n"
     ]
    },
    {
     "name": "stderr",
     "output_type": "stream",
     "text": [
      "\r",
      " 67%|██████▋   | 29/43 [01:48<00:39,  2.81s/it]"
     ]
    },
    {
     "name": "stdout",
     "output_type": "stream",
     "text": [
      "sds_cluster_gas vs val_churn_2_months\n",
      "{'chi_square_value': 1609.3214829921208, 'p-value': 0.0, 'degrees_of_freedom': 6}\n"
     ]
    },
    {
     "name": "stderr",
     "output_type": "stream",
     "text": [
      "\r",
      " 70%|██████▉   | 30/43 [01:51<00:36,  2.82s/it]"
     ]
    },
    {
     "name": "stdout",
     "output_type": "stream",
     "text": [
      "sds_segmento_fasce vs val_churn_2_months\n",
      "{'chi_square_value': 8272.633574364962, 'p-value': 0.0, 'degrees_of_freedom': 14}\n"
     ]
    },
    {
     "name": "stderr",
     "output_type": "stream",
     "text": [
      "\r",
      " 72%|███████▏  | 31/43 [01:54<00:33,  2.76s/it]"
     ]
    },
    {
     "name": "stdout",
     "output_type": "stream",
     "text": [
      "cdc_causale_attivazione vs val_churn_2_months\n",
      "{'chi_square_value': 14846.77306378378, 'p-value': 0.0, 'degrees_of_freedom': 15}\n"
     ]
    },
    {
     "name": "stderr",
     "output_type": "stream",
     "text": [
      "\r",
      " 74%|███████▍  | 32/43 [01:57<00:32,  2.99s/it]"
     ]
    },
    {
     "name": "stdout",
     "output_type": "stream",
     "text": [
      "lds_comune_fornitura vs val_churn_2_months\n",
      "{'chi_square_value': 100047.26304029391, 'p-value': 0.0, 'degrees_of_freedom': 7971}\n"
     ]
    },
    {
     "name": "stderr",
     "output_type": "stream",
     "text": [
      "\r",
      " 77%|███████▋  | 33/43 [02:00<00:28,  2.84s/it]"
     ]
    },
    {
     "name": "stdout",
     "output_type": "stream",
     "text": [
      "cdc_bolletta_web vs val_churn_2_months\n",
      "{'chi_square_value': 355987.8941278608, 'p-value': 0.0, 'degrees_of_freedom': 1}\n"
     ]
    },
    {
     "name": "stderr",
     "output_type": "stream",
     "text": [
      "\r",
      " 79%|███████▉  | 34/43 [02:02<00:24,  2.71s/it]"
     ]
    },
    {
     "name": "stdout",
     "output_type": "stream",
     "text": [
      "cdc_cluster_fattura_last vs val_churn_2_months\n",
      "{'chi_square_value': 179.3945164375607, 'p-value': 1.1091127906129778e-39, 'degrees_of_freedom': 2}\n"
     ]
    },
    {
     "name": "stderr",
     "output_type": "stream",
     "text": [
      "\r",
      " 81%|████████▏ | 35/43 [02:05<00:22,  2.78s/it]"
     ]
    },
    {
     "name": "stdout",
     "output_type": "stream",
     "text": [
      "mds_nome_campagna_last_response_marketing_cli vs val_churn_2_months\n",
      "{'chi_square_value': 133324.20910589138, 'p-value': 0.0, 'degrees_of_freedom': 854}\n"
     ]
    },
    {
     "name": "stderr",
     "output_type": "stream",
     "text": [
      "\r",
      " 84%|████████▎ | 36/43 [02:08<00:18,  2.71s/it]"
     ]
    },
    {
     "name": "stdout",
     "output_type": "stream",
     "text": [
      "xds_canale_last_response_marketing_cli vs val_churn_2_months\n",
      "{'chi_square_value': 46090.979799608984, 'p-value': 0.0, 'degrees_of_freedom': 15}\n"
     ]
    },
    {
     "name": "stderr",
     "output_type": "stream",
     "text": [
      "\r",
      " 86%|████████▌ | 37/43 [02:10<00:16,  2.68s/it]"
     ]
    },
    {
     "name": "stdout",
     "output_type": "stream",
     "text": [
      "xds_tipo_azione_campagna_last_response_marketing_cli vs val_churn_2_months\n",
      "{'chi_square_value': 18387.145848023007, 'p-value': 0.0, 'degrees_of_freedom': 3}\n"
     ]
    },
    {
     "name": "stderr",
     "output_type": "stream",
     "text": [
      "\r",
      " 88%|████████▊ | 38/43 [02:14<00:14,  2.81s/it]"
     ]
    },
    {
     "name": "stdout",
     "output_type": "stream",
     "text": [
      "xds_tipologia_azione_last_response_marketing_cli vs val_churn_2_months\n",
      "{'chi_square_value': 38130.53067669792, 'p-value': 0.0, 'degrees_of_freedom': 12}\n"
     ]
    },
    {
     "name": "stderr",
     "output_type": "stream",
     "text": [
      " 91%|█████████ | 39/43 [02:16<00:14,  3.50s/it]"
     ]
    },
    {
     "name": "stdout",
     "output_type": "stream",
     "text": [
      "sds_segmento_organizzativo_cliente vs val_churn_2_months\n",
      "{'chi_square_value': 4701.400778840139, 'p-value': 0.0, 'degrees_of_freedom': 2}\n"
     ]
    },
    {
     "name": "stderr",
     "output_type": "stream",
     "text": [
      "\n"
     ]
    },
    {
     "ename": "AnalysisException",
     "evalue": "\"cannot resolve '`cdc_power_gas`' given input columns: [qta_days_since_last_inbound_contact_macrocausale_Reclami_vendita_Privacy, fln_distributore_energia_big, fln_rinnovo_last_1_months_tipologia_ADEGUAMENTO, fln_venditore_mercato_libero_gas_big, val_totale_pagare_x_mean_ciclo_ele_last_3_months, val_consumi_x_max_ciclo_ele_last_6_months, qta_cnt_fln_contatti_inbound_autolet_m12, qta_days_since_last_inbound_contact_microcausale_REPEATED_LIST, val_importo_addebito_x_sum_ciclo_ele_last_6_months, qta_cnt_attivita_pagamenti_metodi_pagamento_last_3_months, val_consumi_x_mean_ciclo_ele_last_1_months, val_importo_addebito_x_min_ciclo_gas_last_1_months, val_importo_addebito_x_max_ciclo_ele_last_3_months, val_pop_res_totale_che_si_sposta_giornalmente_nel_comune_dimora_abituale, qta_days_since_last_inbound_contact_macrocausale_Chiarimenti_su_fatture, val_totale_pagare_x_sum_ciclo_ele_last_3_months, qta_days_since_last_inbound_contact_microcausale_COPIA_DOCUMENTAZIONI, cdc_cap_nrm, qta_cnt_diffide_livello_02_cli, val_mean_fattura_pagata_totalmente_in_ritardo_servizio_last_6_months_canale_ALL, qta_cnt_campagne_mktg_tipo_azione_campagna_PROMOZIONE_last_3_months, val_consumi_x_min_ciclo_gas_last_3_months, val_consumi_x_min_ciclo_gas_last_6_months, qta_numero_fattura_count_ciclo_last_9_months, qta_numero_fattura_count_ciclo_last_3_months, val_pop_res_totale, qta_cnt_microcausale_PIANO_DI_RIENTRO_last_90_days, qta_cnt_mds_tipologia_attivita_gestione_clienti_m3, qta_cnt_mds_specifica_adesione_m6, qta_cnt_fln_contatti_inbound_m9, fln_venditore_mercato_libero_gas_comune_EOn, qta_cnt_attivita_dl_piano_casa_last_3_months, val_totale_pagare_x_mean_ciclo_gas_last_1_months, fln_distributore_gas_comune_Dolomiti_Energia, qta_cnt_fln_contatti_inbound_m6, fln_venditore_mercato_libero_gas_enel, val_totale_pagare_x_max_ciclo_ele_last_6_months, val_consumi_x_max_over_mean_ciclo_ele_last_3_months, qta_cnt_attivita_telefonate_gestione_credito_last_3_months, fln_distributore_gas_comune_EDISON, qta_cnt_fln_contatti_inbound_autolet_m9, fln_venditore_mercato_libero_gas_comune_AIMAG, qta_cnt_fln_chiamate_inbound_m1, val_paga_ritardo_min_ciclo_last_1_months, fln_cliente_response_positiva_last_3_months, val_consumi_x_min_ciclo_ele_last_1_months, qta_cnt_riallaccio_last_2_months, val_perc_Famiglie_4_Componente, val_pop_res_totale_che_si_sposta_giornalmente_fuori_dal_comune_dimora_abituale, val_paga_ritardo_min_ciclo_last_6_months, fln_fattura_pagata_totalmente_in_ritardo_servizio_ultima_bolletta_emessa_canale_ALL, qta_cnt_solleciti_livello_01_cli, qta_cnt_campagne_mktg_orientamento_OUTBOUND_last_3_months, val_totale_pagare_x_last_ciclo, val_Cliente_con_comunicazione_swp_storico_last_3_months, qta_cnt_mds_specifica_disdetta_m12, val_consumi_x_max_over_mean_ciclo_gas_last_1_months, val_totale_pagare_x_max_over_mean_ciclo_ele_last_3_months, fln_distributore_gas_comune_Italgas, val_importo_addebito_x_max_over_mean_ciclo_gas_last_1_months, qta_cnt_sollecito_procedura_M0_cli, fln_venditore_mercato_libero_ele_comune_Gas_Rimini, val_importo_addebito_x_sum_ciclo_ele_last_1_months, qta_cnt_mds_specifica_adesione_m1, val_max_val_fattura_non_pagato_servizio_last_3_months_canale_ALL, qta_cnt_fattura_pagata_non_totalmente_servizio_last_6_months_canale_ALL, qta_cnt_contatti_outbound_all_channel_m1, qta_cnt_fln_contatti_inbound_reclamo_m1, qta_cnt_macrocausale_Reclami_vendita_Privacy_last_90_days, qta_cnt_microcausale_DISDETTE_E_CESSAZIONI_last_90_days, sds_mat_fornitura, fln_distributore_gas_big, qta_cnt_mds_tipologia_attivita_gestione_credito_m6, fln_multi_venditori_mercato_libero_gas_comune, qta_days_since_last_inbound_contact_microcausale_RVC, qta_mesi_bw, qta_eta_nrm, fln_venditore_mercato_libero_ele_comune_ENEL, qta_paga_ritardo_ciclo_last_3_months, qta_cnt_microcausale_VERIFICHE_TECNICHE_last_90_days, fln_fattura_pagata_non_totalmente_servizio_ultima_bolletta_emessa_canale_ALL, val_importo_addebito_x_max_ciclo_ele_last_1_months, val_totale_pagare_x_min_over_mean_ciclo_gas_last_1_months, xds_tipo_azione_campagna_last_response_marketing_cli, val_Superficie_territoriale, val_delta_prezzo_ele_last_1_months, fln_venditore_mercato_libero_ele_only_small, val_totale_pagare_x_min_over_mean_ciclo_ele_last_1_months, val_Cliente_con_servizio_cessato, fln_rinnovo_last_1_months, fln_venditore_mercato_libero_ele_comune_Dolomiti_Energia, qta_cnt_fattura_pagata_totalmente_nei_tempi_servizio_last_6_months_canale_ALL, fln_rischio_Baby_Churn, fln_scarti_sdd_rid_last_1_months, fln_fattura_non_pagata_servizio_ultima_bolletta_emessa_canale_ALL, fln_cliente_con_response_marketing_utile_last_3_months, sds_provincia_fatturazione, qta_cnt_microcausale_COPIA_DOCUMENTAZIONI_last_90_days, qta_days_since_last_inbound_contact_microcausale_GESTIONE_PRIVACY, qta_cnt_sollecito_procedura_M1_cli, val_importo_addebito_x_max_over_mean_ciclo_ele_last_6_months, qta_cnt_canale_WEB_last_90_days, val_delta_prezzo_gas_last_1_months, val_totale_pagare_last_diffida_cli, val_totale_pagare_x_min_over_mean_ciclo_ele_last_6_months, qta_days_since_last_inbound_contact_channel_CHAT, qta_days_since_last_inbound_contact_macrocausale_Causale_non_definita, val_consumi_x_mean_ciclo_gas_last_6_months, val_perc_Famiglie_5_Componente, qta_days_since_last_inbound_contact_macrocausale_Problemi_in_fase_di_attivazione, val_consumi_x_min_over_mean_ciclo_ele_last_3_months, fln_scarti_sempre_sap_last_1_months, qta_cnt_flag_response_competitor_last_3_months, fln_cliente_response_negativa_last_3_months, qta_cnt_canale_FACE_last_90_days, qta_cnt_campagne_mktg_tipologia_azione_LOYALTY_last_3_months, val_consumi_x_min_ciclo_gas_last_1_months, qta_cnt_cliente_response_negativa_last_3_months, val_delta_prezzo_percentuale_ele_last_1_months, qta_Grado_di_urbanizzazione, val_importo_addebito_x_sum_ciclo_gas_last_1_months, cdc_Comune_Montano, val_consumi_x_max_ciclo_ele_last_1_months, fln_distributore_energia_comune_municipalizzata, val_consumi_x_min_over_mean_ciclo_gas_last_3_months, val_importo_addebito_x_mean_ciclo_ele_last_1_months, qta_days_since_last_inbound_contact_macrocausale_Chiarimento_su_offerta, val_importo_addebito_x_max_ciclo_ele_last_6_months, qta_cnt_microcausale_VOLTURA_last_90_days, cdc_cluster_fattura_last, fln_prima_meta, qta_days_scadenza_fattura_pagamento_servizio_ultima_bolletta_emessa_canale_ALL, qta_cnt_fln_chiamate_inbound_m3, lds_comune_fornitura, val_totale_pagare_x_max_ciclo_gas_last_1_months, qta_cnt_attivita_fattura_mancata_ritardata_last_3_months, val_importo_addebito_x_min_ciclo_gas_last_6_months, qta_cnt_fln_contatti_inbound_guasti_m9, val_fattura_servizio_ultima_bolletta_emessa_canale_ALL, qta_days_since_last_inbound_contact_macrocausale_Informativa, val_consumi_x_min_ciclo_ele_last_3_months, qta_cnt_diffida_procedura_M2_cli, qta_cnt_mds_tipologia_attivita_other_m9, qta_cnt_mds_specifica_other_m9, val_consumi_x_max_over_mean_ciclo_ele_last_1_months, val_consumi_x_sum_ciclo_gas_last_3_months, fln_multi_venditori_mercato_libero_ele_comune, val_consumi_x_max_over_mean_ciclo_ele_last_6_months, qta_cnt_macrocausale_Chiarimento_su_offerta_last_90_days, val_paga_ritardo_min_ciclo_last_3_months, fln_cell_m0_mono_flag, qta_days_since_last_inbound_contact, val_totale_pagare_x_max_over_mean_ciclo_gas_last_1_months, qta_cnt_fln_chiamate_inbound_m6, qta_cnt_mds_tipologia_attivita_gestione_comunicazioni_m3, val_Idx_Commercio, fln_rischio_Pre_Rinnovo, qta_cnt_macrocausale_Ritardata_esecuzione_subentri_volture_cessazioni_etc_last_90_days, qta_cnt_mds_tipologia_attivita_gestione_pagamenti_m1, qta_cnt_microcausale_LAVORI_E_MODIFICHE_TECNICHE_POTENZA_TENSIONE_last_90_days, qta_cnt_comuni_serviti_distributore_gas, qta_cnt_attivita_recesso_suggello_voltura_mancata_ritardata_last_3_months, mds_tipologia_pagamento, val_Lavoratori, val_totale_pagare_last_sollecito_cli, val_consumi_x_max_ciclo_ele_last_3_months, fln_rinnovo_last_1_months_tipologia_RVC, fln_venditore_mercato_libero_gas_comune_HERA, fln_venditore_mercato_libero_ele_comune_IREN, qta_cnt_mds_tipologia_attivita_gestione_comunicazioni_m9, fln_distributore_gas_comune_2i_Rete_Gas_SpA, qta_cnt_mds_tipologia_attivita_gestione_credito_m3, qta_cnt_attivita_reclamo_last_3_months, fln_venditore_mercato_libero_ele_comune_Gruppo_Canarbino, qta_cnt_canale_TELEFONICO_last_90_days, val_consumi_x_max_over_mean_ciclo_gas_last_3_months, qta_cnt_canale_APP_last_90_days, qta_cnt_attivita_credito_last_3_months, val_POT_GAS_NETTO, qta_numero_fattura_count_ciclo_last_6_months, fln_venditore_mercato_libero_ele_big, sds_segmento_organizzativo_cliente, qta_cnt_mds_tipologia_attivita_gestione_consumi_m12, qta_numero_fattura_count_ciclo_last_12_months, qta_cnt_mds_tipologia_attivita_other_m12, val_paga_ritardo_sum_ciclo_last_1_months, val_consumi_x_sum_ciclo_gas_last_1_months, qta_cnt_mds_tipologia_attivita_gestione_bolletta_m12, qta_cnt_mds_tipologia_attivita_gestione_consumi_m3, val_paga_ritardo_mean_ciclo_last_1_months, fln_comunicazione_rinnovo_last_1_months_sottocanale_FATTURA, qta_cnt_attivita_blacklist_last_3_months, qta_cnt_fln_contatti_inbound_m3, fln_venditore_mercato_libero_gas_comune_EDISON, cdc_win_back_m3, qta_cnt_mds_tipologia_attivita_gestione_consumi_m1, val_totale_pagare_x_min_over_mean_ciclo_gas_last_3_months, qta_cnt_attivita_dati_catastali_last_3_months, cdc_Codice_Regione, val_consumi_x_sum_ciclo_ele_last_6_months, fln_venditore_mercato_libero_gas_comune_Acea, val_totale_pagare_x_mean_ciclo_gas_last_3_months, fln_fattura_non_pagata_servizio_last_6_months_canale_ALL, val_importo_addebito_x_mean_ciclo_gas_last_3_months, val_perc_Famiglie_Alloggio_Affitto, val_perc_Famiglie_2_Componente, fln_venditore_mercato_libero_gas_comune_ENEGAN, mds_sottocanale, val_importo_addebito_x_max_ciclo_gas_last_6_months, qta_cnt_attivita_invio_WL_pesante_last_3_months, qta_cnt_attivita_lavori_rete_last_3_months, qta_days_since_last_inbound_contact_macrocausale_Ritardata_esecuzione_subentri_volture_cessazioni_etc, fln_venditore_mercato_libero_gas_comune_ENI, val_mean_days_emissione_fattura_pagamento_servizio_last_6_months_canale_ALL, qta_cnt_distributori_energia_comune, qta_cnt_fln_contatti_inbound_reclamo_m6, val_totale_pagare_x_max_over_mean_ciclo_ele_last_1_months, qta_days_since_last_inbound_contact_microcausale_PIANO_DI_RIENTRO, val_totale_pagare_x_min_over_mean_ciclo_gas_last_6_months, qta_cnt_fln_chiamate_inbound_m9, fln_criticita_cross_last_90_days, sds_regione, val_Cliente_con_comunicazione_swp_storico, lds_prodotto_listino_2, fln_venditore_mercato_libero_ele_comune_ENGIE, fln_venditore_mercato_libero_gas_comune_Gas_Rimini, val_importo_addebito_x_last_ciclo, qta_cnt_competitor_forti_enel_venditore_mercato_libero_gas, qta_max_days_scadenza_fattura_pagamento_servizio_last_3_months_canale_ALL, val_importo_addebito_x_max_ciclo_gas_last_3_months, qta_cnt_mds_specifica_disdetta_m3, qta_cnt_fln_contatti_inbound_m1, qta_cnt_microcausale_SUBENTRO_last_90_days, val_consumi_x_mean_ciclo_ele_last_6_months, qta_cnt_attivita_posta_documenti_last_3_months, val_churn_2_months, fln_criticita_infra_last_90_days, fln_venditore_mercato_libero_gas_comune_A2A, fln_sollecito_last_2_months_cli, val_importo_addebito_x_max_over_mean_ciclo_ele_last_1_months, qta_cnt_mds_specifica_other_m1, qta_cnt_microcausale_DISTACCHI_RIALLACCI_last_90_days, val_perc_Abitazioni_Vuote, qta_cnt_fln_contatti_inbound_reclamo_m9, cdc_cv_fasce_servizio, val_Negozi_Compr_Mean, qta_cnt_mds_tipologia_attivita_gestione_pagamenti_m9, qta_cnt_contatti_outbound_all_channel_m12, val_perc_Famiglie_3_Componente, val_totale_pagare_x_max_ciclo_gas_last_3_months, sds_cluster_ele, val_pop_res_totale_15_anni_e_piu_casalinghe, qta_days_since_last_inbound_contact_microcausale_INFORMATIVA, val_Cliente_con_servizio_cessato_last_3_months, qta_cnt_attivita_comunicazione_SWP_last_3_months, qta_days_since_last_inbound_contact_microcausale_INFORMATIVA_CONSUMI_PAGAMENTI, val_consumi_x_min_over_mean_ciclo_ele_last_1_months, fln_venditore_mercato_libero_ele_comune_HERA, qta_cnt_canale_DOCUMENTALE_COMPLESSO_last_90_days, qta_cnt_attivita_autoletture_last_3_months, qta_numero_fattura_count_ciclo_last_1_months, qta_days_since_last_inbound_contact_channel_DOCUMENTALE_COMPLESSO, val_consumi_x_mean_ciclo_gas_last_1_months, qta_days_since_last_inbound_contact_microcausale_RECLAMI_SCRITTI, val_mean_val_fattura_non_pagato_servizio_last_6_months_canale_ALL, cdc_causale_attivazione, qta_cnt_contatti_inbound_all_channel_m3, val_reddito_disponibile, qta_cnt_mds_specifica_other_m3, qta_cnt_microcausale_GESTIONE_VAS_last_90_days, cdc_tenure_bucket, val_totale_pagare_x_last, qta_cnt_microcausale_INFORMATIVA_NON_DI_COMPETENZA_last_90_days, qta_cnt_mail_di_sollecito_cli, qta_cnt_campagne_mktg_canale_GMC_last_3_months, val_mean_days_emissione_fattura_pagamento_servizio_last_3_months_canale_ALL, qta_cnt_mds_tipologia_attivita_gestione_documenti_m1, val_totale_pagare_x_sum_ciclo_gas_last_1_months, qta_cnt_fattura_pagata_totalmente_in_ritardo_servizio_last_6_months_canale_ALL, fln_distributore_gas_comune_A2A, qta_cnt_mds_tipologia_attivita_gestione_bolletta_m1, qta_cnt_mds_specifica_disdetta_m6, fln_multi_distributore_energia_comune, fln_multi_distributore_gas_comune, cdc_id_mercato, qta_cnt_attivita_allaccio_servizi_last_3_months, qta_cnt_comuni_serviti_distributore_energia, fln_fattura_pagata_totalmente_nei_tempi_servizio_ultima_bolletta_emessa_canale_ALL, val_mean_val_fattura_non_pagato_servizio_last_3_months_canale_ALL, val_importo_addebito_x_min_ciclo_ele_last_6_months, val_perc_Abitazioni_Residenti, val_incasso_servizio_ultima_bolletta_emessa_canale_ALL, fln_servizio_attualmente_distaccato, val_importo_addebito_x_min_ciclo_ele_last_1_months, val_consumi_x_mean_ciclo_ele_last_3_months, qta_cnt_mds_specifica_disdetta_m1, qta_cnt_microcausale_RVC_last_90_days, val_studenti, qta_cnt_attivita_richiesta_informazioni_last_3_months, val_QUOTA_LIBERO, qta_cnt_mds_tipologia_attivita_gestione_comunicazioni_m6, qta_cnt_mds_tipologia_attivita_gestione_comunicazioni_m1, qta_anzianita_servizio, mds_nome_campagna_last_response_marketing_cli, qta_cnt_macrocausale_Esecuzione_lavori_last_90_days, qta_cnt_mds_specifica_visualizzazione_area_clienti_m3, val_Turisti_totali, qta_cnt_sms_cli, val_totale_pagare_x_min_ciclo_ele_last_1_months, val_consumi_x_min_over_mean_ciclo_gas_last_6_months, fln_fattura_pagata_totalmente_in_ritardo_servizio_last_6_months_canale_ALL, fln_venditore_mercato_libero_gas_only_small, qta_giorni_ultimo_reclamo, val_paga_ritardo_max_ciclo_last_3_months, val_consumi_x_max_ciclo_gas_last_6_months, fln_fattura_pagata_non_totalmente_servizio_last_6_months_canale_ALL, qta_cnt_microcausale_INFORMATIVA_last_90_days, qta_cnt_mds_tipologia_attivita_gestione_clienti_m1, qta_cnt_cliente_accetta_proposta_last_3_months, qta_cnt_cliente_response_positiva_last_3_months, qta_cnt_microcausale_PRIMA_ATTIVAZIONE_last_90_days, qta_days_since_last_inbound_contact_microcausale_INFORMATIVA_CREDITO, qta_cnt_microcausale_INFORMATIVA_CONSUMI_PAGAMENTI_last_90_days, fln_distributore_energia_comune_HERA, fln_primo_contatto_inbound, qta_cnt_attivita_processi_richieste_suggello_recesso_voltura_last_3_months, qta_cnt_mds_specifica_other_m12, val_importo_addebito_x_max_over_mean_ciclo_gas_last_6_months, qta_cnt_mds_tipologia_attivita_gestione_clienti_m12, val_totale_pagare_x_mean_ciclo_ele_last_6_months, qta_days_since_last_inbound_contact_microcausale_PRIMA_ATTIVAZIONE, val_pop_res_totale_15_anni_e_piu_non_appartenente_alle_forze_di_lavoro_nfl, fln_venditore_mercato_libero_gas_comune_Alperia, qta_cnt_fln_contatti_inbound_m12, qta_cnt_mds_tipologia_attivita_gestione_pagamenti_m12, val_totale_pagare_x_sum_ciclo_ele_last_6_months, qta_days_since_last_inbound_contact_microcausale_GESTIONE_FORNITURA, fln_venditore_mercato_libero_ele_comune_Acea, val_Sh_ENEL_POWER, qta_cnt_mds_specifica_adesione_m9, val_totale_pagare_x_last_over_mean, fln_venditore_mercato_libero_ele_comune_ENEGAN, qta_servizi_gas, qta_cnt_mds_specifica_visualizzazione_area_clienti_m9, lds_tipo_uso, val_consumi_x_min_over_mean_ciclo_gas_last_1_months, qta_days_since_last_inbound_contact_microcausale_GESTIONE_VAS, qta_days_since_last_inbound_contact_microcausale_VOLTURA, cdc_residente, val_consumi_x_max_ciclo_gas_last_3_months, qta_paga_ritardo_ciclo_last_1_months, xds_tipologia_azione_last_response_marketing_cli, val_perc_Abitazioni_Non_Residenti, val_totale_pagare_x_max_ciclo_ele_last_3_months, qta_paga_ritardo_ciclo_last_6_months, fln_distributore_energia_comune_Alperia, val_mean_fattura_pagata_totalmente_nei_tempi_servizio_last_6_months_canale_ALL, fln_distributore_energia_comune_Acea, val_perc_Famiglie_Alloggio_Altro, qta_days_last_response_marketing_cli, fln_venditore_mercato_libero_gas_comune_ENGIE, val_paga_ritardo_mean_ciclo_last_6_months, val_Cliente_con_comunicazione_swp_storico_last_6_months, fln_distributore_gas_comune_IREN, val_importo_addebito_x_min_over_mean_ciclo_gas_last_6_months, val_totale_pagare_x_min_ciclo_gas_last_3_months, qta_cnt_mds_tipologia_attivita_gestione_bolletta_m9, val_Negozi_Loc_Mean, qta_cnt_microcausale_AUTOLETTURA_last_90_days, qta_days_since_last_inbound_contact_channel_WEB, qta_cnt_fln_contatti_inbound_guasti_m1, val_perc_Famiglie_1_Componente, val_consumi_famiglie, qta_days_since_last_inbound_contact_microcausale_SUBENTRO, val_paga_ritardo_max_ciclo_last_1_months, fln_stesso_venditore_distributore_ele_no_enel, val_mean_fattura_non_pagata_servizio_last_6_months_canale_ALL, fln_venditore_mercato_libero_gas_comune_EVOLVE_SRL, qta_cnt_mds_tipologia_attivita_gestione_notifiche_m6, qta_cnt_fln_contatti_inbound_reclamo_m12, qta_cnt_mds_tipologia_attivita_gestione_documenti_m9, qta_cnt_mds_tipologia_attivita_gestione_consumi_m6, qta_cnt_fattura_pagata_totalmente_in_ritardo_servizio_last_3_months_canale_ALL, qta_cnt_fln_contatti_inbound_guasti_m3, qta_days_since_last_inbound_contact_microcausale_SWITCH_ATTIVO, qta_cnt_attivita_contratti_last_3_months, cdn_cv2_cliente, fln_player_forte_win_back, qta_cnt_attivita_ricezione_invio_documentazione_last_3_months, qta_cnt_fattura_pagata_totalmente_nei_tempi_servizio_last_3_months_canale_ALL, val_paga_ritardo_sum_ciclo_last_6_months, qta_cnt_mds_specifica_adesione_m12, val_Sh_ENEL_GAS, val_totale_pagare_x_sum_ciclo_gas_last_3_months, fln_diffida_last_2_months_serv, qta_cnt_mds_tipologia_attivita_other_m1, qta_cnt_mds_tipologia_attivita_gestione_credito_m9, qta_cnt_mds_tipologia_attivita_gestione_comunicazioni_m12, qta_cnt_mds_tipologia_attivita_gestione_bolletta_m3, qta_cnt_macrocausale_Informativa_last_90_days, val_Residenti, qta_cnt_fln_contatti_inbound_autolet_m3, qta_cnt_campagne_mktg_canale_DEM_last_3_months, sds_regione_fornitura, qta_cnt_attivita_secondo_livello_last_3_months, qta_days_since_last_inbound_contact_macrocausale_Credito, sds_provincia_fornitura, qta_cnt_microcausale_INFORMATIVA_CREDITO_last_90_days, val_perc_Famiglie_Alloggio_Proprieta, fln_venditore_mercato_libero_gas_comune_Green_Network, qta_cnt_mds_specifica_disdetta_m9, qta_cnt_mds_tipologia_attivita_gestione_credito_m12, val_perc_Famiglie_6+_Componente, val_fattura_non_pagato_servizio_ultima_bolletta_emessa_canale_ALL, qta_cnt_cliente_con_response_marketing_utile_last_3_months, val_mean_fattura_pagata_totalmente_nei_tempi_servizio_last_3_months_canale_ALL, val_totale_istruzione_pesata, val_importo_addebito_x_max_ciclo_gas_last_1_months, qta_max_days_emissione_fattura_pagamento_servizio_last_6_months_canale_ALL, fln_distributore_gas_comune_Alperia, fln_stesso_distributore_gas_ele, cdc_stato_servizio_calc, qta_cnt_diffida_cartacea_cli, val_importo_addebito_x_last, qta_cnt_attivita_gestione_clienti_last_3_months, qta_cnt_microcausale_GESTIONE_FORNITURA_last_90_days, qta_cnt_diffida_procedura_M4_cli, qta_days_since_last_inbound_contact_microcausale_MODALITA_DI_PAGAMENTO, val_importo_addebito_x_mean_ciclo_gas_last_1_months, val_mean_days_scadenza_fattura_pagamento_servizio_last_3_months_canale_ALL, qta_cnt_mds_specifica_visualizzazione_area_clienti_m6, fln_stesso_venditore_distributore_ele, qta_days_since_last_inbound_contact_channel_FACE, qta_cnt_attivita_sollecito_last_3_months, fln_servizio_distaccato_e_riallacciato, fln_stesso_venditore_distributore_gas, val_potenza_contrattuale, qta_days_since_last_inbound_contact_microcausale_RETTIFICHE_CONSUMI_FATTURAZIONE, sds_segmento_fasce, qta_days_since_last_inbound_contact_microcausale_INFORMATIVA_NON_DI_COMPETENZA, qta_cnt_mds_specifica_visualizzazione_area_clienti_m1, val_POT_TOTALE, qta_servizi_elettrici, qta_cnt_attivita_morosita_last_3_months, val_importo_addebito_x_sum_ciclo_ele_last_3_months, qta_cnt_macrocausale_Chiarimenti_su_fatture_last_90_days, qta_indice_contattosita_ult_30gg, sds_mat_fatturazione, val_POT_TOTALE_NETTO, qta_days_since_last_inbound_contact_microcausale_DISDETTE_E_CESSAZIONI, val_importo_addebito_x_min_ciclo_gas_last_3_months, fln_scarti_trasporto_last_1_months, val_importo_addebito_x_max_over_mean_ciclo_ele_last_3_months, qta_cnt_attivita_vocal_last_3_months, val_importo_addebito_x_mean_ciclo_gas_last_6_months, qta_cnt_microcausale_REPEATED_LIST_last_90_days, val_importo_addebito_x_min_over_mean_ciclo_ele_last_1_months, qta_cnt_venditori_mercato_libero_gas_comune, qta_cnt_attivita_ripensamento_last_3_months, val_importo_addebito_x_mean_ciclo_ele_last_6_months, val_importo_addebito_x_min_over_mean_ciclo_ele_last_3_months, qta_frequenza_contatto, qta_days_since_last_inbound_contact_microcausale_MODIFICA_ANAGRAFICA_O_DATI_FORNITURA_FATTURAZIONE, sds_cluster_gas, cdc_istat, qta_cnt_attivita_modifiche_variazioni_last_3_months, val_totale_pagare_x_mean_ciclo_gas_last_6_months, qta_days_since_last_inbound_contact_microcausale_LAVORI_E_MODIFICHE_TECNICHE_POTENZA_TENSIONE, qta_cnt_fln_contatti_inbound_autolet_m6, val_perc_Altri_Tipi_Alloggio, fln_venditore_mercato_libero_ele_comune_sorgenia, qta_cnt_mds_tipologia_attivita_gestione_bolletta_m6, fln_comunicazione_rinnovo_last_1_months, qta_days_emissione_fattura_pagamento_servizio_ultima_bolletta_emessa_canale_ALL, val_Cliente_con_comunicazione_swp_storico_last_1_months, qta_cnt_fattura_pagata_non_totalmente_servizio_last_3_months_canale_ALL, val_totale_pagare_x_min_over_mean_ciclo_ele_last_3_months, val_mean_days_scadenza_fattura_pagamento_servizio_last_6_months_canale_ALL, fln_distributore_energia_comune_Dolomiti_Energia, fln_venditore_mercato_libero_ele_comune_A2A, qta_cnt_mds_specifica_visualizzazione_area_clienti_m12, val_totale_pagare_x_max_over_mean_ciclo_gas_last_3_months, qta_cnt_attivita_vas_last_3_months, qta_cnt_competitor_forti_enel_venditore_mercato_libero_ele, fln_distributore_gas_comune_HERA, qta_cnt_fln_contatti_inbound_guasti_m12, qta_cnt_fattura_non_pagata_servizio_last_6_months_canale_ALL, fln_player_forte, qta_cnt_attivita_bye_bye_letter_last_3_months, qta_cnt_contatti_outbound_all_channel_m3, qta_cnt_microcausale_MODALITA_DI_PAGAMENTO_last_90_days, fln_venditore_mercato_libero_ele_enel, val_fascia_stress, val_mean_fattura_pagata_totalmente_in_ritardo_servizio_last_3_months_canale_ALL, val_totale_pagare_x_min_ciclo_ele_last_6_months, qta_cnt_mds_tipologia_attivita_gestione_clienti_m6, qta_cnt_microcausale_MODIFICA_ANAGRAFICA_O_DATI_FORNITURA_FATTURAZIONE_last_90_days, val_Altitudine_del_centro, val_importo_addebito_x_max_over_mean_ciclo_gas_last_3_months, val_consumi_x_sum_ciclo_ele_last_3_months, val_importo_addebito_x_min_over_mean_ciclo_gas_last_1_months, qta_cnt_mds_tipologia_attivita_gestione_pagamenti_m6, val_consumi_x_mean_ciclo_gas_last_3_months, qta_cnt_mds_tipologia_attivita_gestione_clienti_m9, xds_canale_last_response_marketing_cli, qta_cnt_contatti_inbound_all_channel_m6, val_rimborsi_mean_ciclo_last_3_months, lds_societa_vendita, qta_cnt_microcausale_ALLACCIO_E_ATTIVAZIONE_last_90_days, cdc_pdr, val_paga_ritardo_mean_ciclo_last_3_months, fln_comunicazione_rinnovo_last_1_months_sottocanale_CARTACEO, qta_cnt_attivita_sito_web_chat_last_3_months, val_Cliente_con_servizio_cessato_last_6_months, qta_cnt_canale_CHAT_last_90_days, fln_venditore_mercato_libero_ele_comune_EOn, fln_venditore_mercato_libero_ele_comune_Alperia, val_t0_month, qta_cnt_mds_tipologia_attivita_gestione_notifiche_m12, val_totale_pagare_x_max_ciclo_gas_last_6_months, qta_cnt_diffida_procedura_M3_cli, fln_comunicazione_rinnovo_last_1_months_sottocanale_PEC, qta_cnt_macrocausale_Problemi_in_fase_di_attivazione_last_90_days, qta_cnt_contatti_outbound_all_channel_m9, fln_distributore_energia_enel, val_importo_addebito_x_sum_ciclo_gas_last_6_months, fln_riallaccio_last_2_months, fln_bolletta_web_attiva, qta_cnt_fattura_non_pagata_servizio_last_3_months_canale_ALL, val_t0_year, qta_days_since_last_inbound_contact_macrocausale_Esecuzione_lavori, fln_sollecito_last_2_months_serv, qta_max_days_scadenza_fattura_pagamento_servizio_last_6_months_canale_ALL, fln_distributore_energia_comune_ASTEA_SPA, qta_cnt_mds_tipologia_attivita_gestione_documenti_m6, fln_venditore_mercato_libero_ele_comune_EDISON, qta_cnt_fln_contatti_inbound_reclamo_m3, val_POT_POWER_NETTO, qta_max_days_emissione_fattura_pagamento_servizio_last_3_months_canale_ALL, fln_distributore_energia_comune_A2A, qta_days_since_last_inbound_contact_channel_DOCUMENTALE, qta_cnt_contatti_inbound_totali_last_90_days, qta_cnt_mds_tipologia_attivita_gestione_notifiche_m9, val_QUOTA_TUTELATO, qta_giorni_ultimo_contatto_outbound, val_mean_fattura_pagata_non_totalmente_servizio_last_3_months_canale_ALL, qta_cnt_mds_tipologia_attivita_gestione_credito_m1, val_importo_addebito_x_mean_ciclo_ele_last_3_months, qta_cnt_mds_tipologia_attivita_gestione_pagamenti_m3, qta_days_since_last_inbound_contact_microcausale_RIMBORSO_COMPENSAZIONE, qta_cnt_contatti_inbound_all_channel_m12, qta_cnt_attivita_delibera_147_last_3_months, val_mean_fattura_non_pagata_servizio_last_3_months_canale_ALL, val_consumi_x_min_over_mean_ciclo_ele_last_6_months, qta_days_since_last_inbound_contact_channel_TELEFONICO, qta_cnt_microcausale_RECLAMI_SCRITTI_last_90_days, fln_cliente_response_competitor_last_3_months, qta_cnt_reclami_last_month, qta_days_since_last_inbound_contact_channel_APP, qta_cnt_diffida_cartacea_serv, fln_venditore_mercato_libero_ele_comune_ENI, qta_cnt_fln_contatti_inbound_guasti_m6, qta_cnt_mds_tipologia_attivita_other_m6, mds_canale_acquisizione, qta_cnt_sollecito_procedura_M2_cli, sds_provincia, qta_giorni_ultimo_contatto_inbound, qta_cnt_microcausale_RIPENSAMENTO_O_DISCONOSCIMENTO_last_90_days, qta_cnt_venditori_mercato_libero_ele_comune, val_totale_pagare_x_max_ciclo_ele_last_1_months, sds_regione_fatturazione, qta_days_since_last_inbound_contact_microcausale_VERIFICHE_TECNICHE, fln_scarti_sap_sd_last_1_months, qta_days_since_last_inbound_contact_microcausale_RIPENSAMENTO_O_DISCONOSCIMENTO, qta_cnt_mds_specifica_other_m6, fln_cliente_accetta_proposta_last_3_months, qta_cnt_distacchi_last_2_months, val_importo_addebito_x_sum_ciclo_gas_last_3_months, val_importo_addebito_x_min_over_mean_ciclo_ele_last_6_months, qta_cnt_attivita_analisi_fatturato_situazione_contabile_last_3_months, cdc_Zona_altimetrica, val_consumi_x_min_ciclo_ele_last_6_months, val_consumi_x_max_ciclo_gas_last_1_months, idn_sito_sk, cdn_cv2_servizio, fln_venditore_mercato_libero_gas_comune_IREN, qta_cnt_microcausale_GESTIONE_PRIVACY_last_90_days, qta_days_since_last_inbound_contact_microcausale_AUTOLETTURA, qta_cnt_mds_tipologia_attivita_gestione_documenti_m3, qta_days_since_last_inbound_contact_microcausale_ALLACCIO_E_ATTIVAZIONE, val_totale_pagare_x_sum_ciclo_gas_last_6_months, val_paga_ritardo_sum_ciclo_last_3_months, qta_cnt_sollecito_cartaceo_cli, cdc_bolletta_web, val_consumi_x_max_over_mean_ciclo_gas_last_6_months, qta_cnt_macrocausale_Credito_last_90_days, fln_dual, val_totale_pagare_x_mean_ciclo_ele_last_1_months, qta_cnt_mds_specifica_adesione_m3, qta_days_since_last_inbound_contact_microcausale_DISTACCHI_RIALLACCI, qta_cnt_distributori_gas_comune, fln_venditore_mercato_libero_gas_comune_ENEL, qta_cnt_attivita_indennizzo_last_3_months, fln_venditore_mercato_libero_ele_comune_Axpo_Group, val_paga_ritardo_max_ciclo_last_6_months, fln_venditore_mercato_libero_gas_comune_Axpo_Group, val_totale_pagare_x_min_ciclo_gas_last_1_months, val_totale_pagare_x_max_over_mean_ciclo_ele_last_6_months, fln_venditore_mercato_libero_gas_comune_METANO_NORD_SPA, val_totale_pagare_x_min_ciclo_ele_last_3_months, qta_cnt_attivita_bolletta_fatturazione_last_3_months, val_max_val_fattura_non_pagato_servizio_last_6_months_canale_ALL, fln_distributore_energia_comune_IREN, val_delta_prezzo_percentuale_gas_last_1_months, fln_distributore_gas_comune_municipalizzata, val_totale_pagare_x_min_ciclo_gas_last_6_months, val_importo_addebito_x_min_over_mean_ciclo_gas_last_3_months, val_consumi_x_sum_ciclo_gas_last_6_months, qta_cnt_contatti_outbound_all_channel_m6, fln_venditore_mercato_libero_gas_comune_Dolomiti_Energia, qta_days_incasso_fattura_today_servizio_ultima_bolletta_emessa_canale_ALL, qta_cnt_contatti_inbound_all_channel_m1, qta_cnt_mds_tipologia_attivita_other_m3, idn_cliente_sk, val_mean_fattura_pagata_non_totalmente_servizio_last_6_months_canale_ALL, fln_distributore_energia_comune_ENEL, qta_cnt_mds_tipologia_attivita_gestione_documenti_m12, val_totale_pagare_x_max_over_mean_ciclo_gas_last_6_months, qta_cnt_mds_tipologia_attivita_gestione_consumi_m9, val_totale_pagare_x_sum_ciclo_ele_last_1_months, cdc_tenure_bucket_cliente, qta_cnt_microcausale_RIMBORSO_COMPENSAZIONE_last_90_days, val_importo_addebito_x_min_ciclo_ele_last_3_months, fln_Comune_litoraneo, fln_fattura_pagata_totalmente_nei_tempi_servizio_last_6_months_canale_ALL, qta_cnt_microcausale_RETTIFICHE_CONSUMI_FATTURAZIONE_last_90_days, mds_comune, qta_cnt_contatti_inbound_all_channel_m9, fln_venditore_mercato_libero_gas_comune_BURGO_GROUP, fln_distacco_last_2_months, qta_cnt_canale_DOCUMENTALE_last_90_days, qta_cnt_fln_chiamate_inbound_m12, qta_cnt_diffida_procedura_M1_cli, sds_mat, val_consumi_x_sum_ciclo_ele_last_1_months, qta_cnt_microcausale_SWITCH_ATTIVO_last_90_days, qta_cnt_fln_contatti_inbound_autolet_m1, fln_diffida_last_2_months_cli, sds_commodity];;\\n'Project ['cdc_power_gas, val_churn_2_months#23457]\\n+- Relation[idn_cliente_sk#23311L,cdc_stato_servizio_calc#23312,idn_sito_sk#23313L,lds_prodotto_listino_2#23314,cdc_pdr#23315,sds_commodity#23316,mds_canale_acquisizione#23317,cdc_cap_nrm#23318,lds_tipo_uso#23319,qta_eta_nrm#23320,cdc_residente#23321,qta_indice_contattosita_ult_30gg#23322,val_fascia_stress#23323,mds_tipologia_pagamento#23324,cdc_id_mercato#23325,sds_provincia_fatturazione#23326,sds_provincia_fornitura#23327,sds_regione_fornitura#23328,sds_regione_fatturazione#23329,sds_mat_fatturazione#23330,sds_mat_fornitura#23331,sds_provincia#23332,sds_regione#23333,sds_mat#23334,... 625 more fields] parquet\\n\"",
     "output_type": "error",
     "traceback": [
      "\u001b[0;31m---------------------------------------------------------------------------\u001b[0m",
      "\u001b[0;31mPy4JJavaError\u001b[0m                             Traceback (most recent call last)",
      "\u001b[0;32m/data/cloudera/parcels/CDH-6.2.1-1.cdh6.2.1.p0.1425774/lib/spark/python/lib/pyspark.zip/pyspark/sql/utils.py\u001b[0m in \u001b[0;36mdeco\u001b[0;34m(*a, **kw)\u001b[0m\n\u001b[1;32m     62\u001b[0m         \u001b[0;32mtry\u001b[0m\u001b[0;34m:\u001b[0m\u001b[0;34m\u001b[0m\u001b[0;34m\u001b[0m\u001b[0m\n\u001b[0;32m---> 63\u001b[0;31m             \u001b[0;32mreturn\u001b[0m \u001b[0mf\u001b[0m\u001b[0;34m(\u001b[0m\u001b[0;34m*\u001b[0m\u001b[0ma\u001b[0m\u001b[0;34m,\u001b[0m \u001b[0;34m**\u001b[0m\u001b[0mkw\u001b[0m\u001b[0;34m)\u001b[0m\u001b[0;34m\u001b[0m\u001b[0;34m\u001b[0m\u001b[0m\n\u001b[0m\u001b[1;32m     64\u001b[0m         \u001b[0;32mexcept\u001b[0m \u001b[0mpy4j\u001b[0m\u001b[0;34m.\u001b[0m\u001b[0mprotocol\u001b[0m\u001b[0;34m.\u001b[0m\u001b[0mPy4JJavaError\u001b[0m \u001b[0;32mas\u001b[0m \u001b[0me\u001b[0m\u001b[0;34m:\u001b[0m\u001b[0;34m\u001b[0m\u001b[0;34m\u001b[0m\u001b[0m\n",
      "\u001b[0;32m/data/cloudera/parcels/CDH-6.2.1-1.cdh6.2.1.p0.1425774/lib/spark/python/lib/py4j-0.10.7-src.zip/py4j/protocol.py\u001b[0m in \u001b[0;36mget_return_value\u001b[0;34m(answer, gateway_client, target_id, name)\u001b[0m\n\u001b[1;32m    327\u001b[0m                     \u001b[0;34m\"An error occurred while calling {0}{1}{2}.\\n\"\u001b[0m\u001b[0;34m.\u001b[0m\u001b[0;34m\u001b[0m\u001b[0;34m\u001b[0m\u001b[0m\n\u001b[0;32m--> 328\u001b[0;31m                     format(target_id, \".\", name), value)\n\u001b[0m\u001b[1;32m    329\u001b[0m             \u001b[0;32melse\u001b[0m\u001b[0;34m:\u001b[0m\u001b[0;34m\u001b[0m\u001b[0;34m\u001b[0m\u001b[0m\n",
      "\u001b[0;31mPy4JJavaError\u001b[0m: An error occurred while calling o388.select.\n: org.apache.spark.sql.AnalysisException: cannot resolve '`cdc_power_gas`' given input columns: [qta_days_since_last_inbound_contact_macrocausale_Reclami_vendita_Privacy, fln_distributore_energia_big, fln_rinnovo_last_1_months_tipologia_ADEGUAMENTO, fln_venditore_mercato_libero_gas_big, val_totale_pagare_x_mean_ciclo_ele_last_3_months, val_consumi_x_max_ciclo_ele_last_6_months, qta_cnt_fln_contatti_inbound_autolet_m12, qta_days_since_last_inbound_contact_microcausale_REPEATED_LIST, val_importo_addebito_x_sum_ciclo_ele_last_6_months, qta_cnt_attivita_pagamenti_metodi_pagamento_last_3_months, val_consumi_x_mean_ciclo_ele_last_1_months, val_importo_addebito_x_min_ciclo_gas_last_1_months, val_importo_addebito_x_max_ciclo_ele_last_3_months, val_pop_res_totale_che_si_sposta_giornalmente_nel_comune_dimora_abituale, qta_days_since_last_inbound_contact_macrocausale_Chiarimenti_su_fatture, val_totale_pagare_x_sum_ciclo_ele_last_3_months, qta_days_since_last_inbound_contact_microcausale_COPIA_DOCUMENTAZIONI, cdc_cap_nrm, qta_cnt_diffide_livello_02_cli, val_mean_fattura_pagata_totalmente_in_ritardo_servizio_last_6_months_canale_ALL, qta_cnt_campagne_mktg_tipo_azione_campagna_PROMOZIONE_last_3_months, val_consumi_x_min_ciclo_gas_last_3_months, val_consumi_x_min_ciclo_gas_last_6_months, qta_numero_fattura_count_ciclo_last_9_months, qta_numero_fattura_count_ciclo_last_3_months, val_pop_res_totale, qta_cnt_microcausale_PIANO_DI_RIENTRO_last_90_days, qta_cnt_mds_tipologia_attivita_gestione_clienti_m3, qta_cnt_mds_specifica_adesione_m6, qta_cnt_fln_contatti_inbound_m9, fln_venditore_mercato_libero_gas_comune_EOn, qta_cnt_attivita_dl_piano_casa_last_3_months, val_totale_pagare_x_mean_ciclo_gas_last_1_months, fln_distributore_gas_comune_Dolomiti_Energia, qta_cnt_fln_contatti_inbound_m6, fln_venditore_mercato_libero_gas_enel, val_totale_pagare_x_max_ciclo_ele_last_6_months, val_consumi_x_max_over_mean_ciclo_ele_last_3_months, qta_cnt_attivita_telefonate_gestione_credito_last_3_months, fln_distributore_gas_comune_EDISON, qta_cnt_fln_contatti_inbound_autolet_m9, fln_venditore_mercato_libero_gas_comune_AIMAG, qta_cnt_fln_chiamate_inbound_m1, val_paga_ritardo_min_ciclo_last_1_months, fln_cliente_response_positiva_last_3_months, val_consumi_x_min_ciclo_ele_last_1_months, qta_cnt_riallaccio_last_2_months, val_perc_Famiglie_4_Componente, val_pop_res_totale_che_si_sposta_giornalmente_fuori_dal_comune_dimora_abituale, val_paga_ritardo_min_ciclo_last_6_months, fln_fattura_pagata_totalmente_in_ritardo_servizio_ultima_bolletta_emessa_canale_ALL, qta_cnt_solleciti_livello_01_cli, qta_cnt_campagne_mktg_orientamento_OUTBOUND_last_3_months, val_totale_pagare_x_last_ciclo, val_Cliente_con_comunicazione_swp_storico_last_3_months, qta_cnt_mds_specifica_disdetta_m12, val_consumi_x_max_over_mean_ciclo_gas_last_1_months, val_totale_pagare_x_max_over_mean_ciclo_ele_last_3_months, fln_distributore_gas_comune_Italgas, val_importo_addebito_x_max_over_mean_ciclo_gas_last_1_months, qta_cnt_sollecito_procedura_M0_cli, fln_venditore_mercato_libero_ele_comune_Gas_Rimini, val_importo_addebito_x_sum_ciclo_ele_last_1_months, qta_cnt_mds_specifica_adesione_m1, val_max_val_fattura_non_pagato_servizio_last_3_months_canale_ALL, qta_cnt_fattura_pagata_non_totalmente_servizio_last_6_months_canale_ALL, qta_cnt_contatti_outbound_all_channel_m1, qta_cnt_fln_contatti_inbound_reclamo_m1, qta_cnt_macrocausale_Reclami_vendita_Privacy_last_90_days, qta_cnt_microcausale_DISDETTE_E_CESSAZIONI_last_90_days, sds_mat_fornitura, fln_distributore_gas_big, qta_cnt_mds_tipologia_attivita_gestione_credito_m6, fln_multi_venditori_mercato_libero_gas_comune, qta_days_since_last_inbound_contact_microcausale_RVC, qta_mesi_bw, qta_eta_nrm, fln_venditore_mercato_libero_ele_comune_ENEL, qta_paga_ritardo_ciclo_last_3_months, qta_cnt_microcausale_VERIFICHE_TECNICHE_last_90_days, fln_fattura_pagata_non_totalmente_servizio_ultima_bolletta_emessa_canale_ALL, val_importo_addebito_x_max_ciclo_ele_last_1_months, val_totale_pagare_x_min_over_mean_ciclo_gas_last_1_months, xds_tipo_azione_campagna_last_response_marketing_cli, val_Superficie_territoriale, val_delta_prezzo_ele_last_1_months, fln_venditore_mercato_libero_ele_only_small, val_totale_pagare_x_min_over_mean_ciclo_ele_last_1_months, val_Cliente_con_servizio_cessato, fln_rinnovo_last_1_months, fln_venditore_mercato_libero_ele_comune_Dolomiti_Energia, qta_cnt_fattura_pagata_totalmente_nei_tempi_servizio_last_6_months_canale_ALL, fln_rischio_Baby_Churn, fln_scarti_sdd_rid_last_1_months, fln_fattura_non_pagata_servizio_ultima_bolletta_emessa_canale_ALL, fln_cliente_con_response_marketing_utile_last_3_months, sds_provincia_fatturazione, qta_cnt_microcausale_COPIA_DOCUMENTAZIONI_last_90_days, qta_days_since_last_inbound_contact_microcausale_GESTIONE_PRIVACY, qta_cnt_sollecito_procedura_M1_cli, val_importo_addebito_x_max_over_mean_ciclo_ele_last_6_months, qta_cnt_canale_WEB_last_90_days, val_delta_prezzo_gas_last_1_months, val_totale_pagare_last_diffida_cli, val_totale_pagare_x_min_over_mean_ciclo_ele_last_6_months, qta_days_since_last_inbound_contact_channel_CHAT, qta_days_since_last_inbound_contact_macrocausale_Causale_non_definita, val_consumi_x_mean_ciclo_gas_last_6_months, val_perc_Famiglie_5_Componente, qta_days_since_last_inbound_contact_macrocausale_Problemi_in_fase_di_attivazione, val_consumi_x_min_over_mean_ciclo_ele_last_3_months, fln_scarti_sempre_sap_last_1_months, qta_cnt_flag_response_competitor_last_3_months, fln_cliente_response_negativa_last_3_months, qta_cnt_canale_FACE_last_90_days, qta_cnt_campagne_mktg_tipologia_azione_LOYALTY_last_3_months, val_consumi_x_min_ciclo_gas_last_1_months, qta_cnt_cliente_response_negativa_last_3_months, val_delta_prezzo_percentuale_ele_last_1_months, qta_Grado_di_urbanizzazione, val_importo_addebito_x_sum_ciclo_gas_last_1_months, cdc_Comune_Montano, val_consumi_x_max_ciclo_ele_last_1_months, fln_distributore_energia_comune_municipalizzata, val_consumi_x_min_over_mean_ciclo_gas_last_3_months, val_importo_addebito_x_mean_ciclo_ele_last_1_months, qta_days_since_last_inbound_contact_macrocausale_Chiarimento_su_offerta, val_importo_addebito_x_max_ciclo_ele_last_6_months, qta_cnt_microcausale_VOLTURA_last_90_days, cdc_cluster_fattura_last, fln_prima_meta, qta_days_scadenza_fattura_pagamento_servizio_ultima_bolletta_emessa_canale_ALL, qta_cnt_fln_chiamate_inbound_m3, lds_comune_fornitura, val_totale_pagare_x_max_ciclo_gas_last_1_months, qta_cnt_attivita_fattura_mancata_ritardata_last_3_months, val_importo_addebito_x_min_ciclo_gas_last_6_months, qta_cnt_fln_contatti_inbound_guasti_m9, val_fattura_servizio_ultima_bolletta_emessa_canale_ALL, qta_days_since_last_inbound_contact_macrocausale_Informativa, val_consumi_x_min_ciclo_ele_last_3_months, qta_cnt_diffida_procedura_M2_cli, qta_cnt_mds_tipologia_attivita_other_m9, qta_cnt_mds_specifica_other_m9, val_consumi_x_max_over_mean_ciclo_ele_last_1_months, val_consumi_x_sum_ciclo_gas_last_3_months, fln_multi_venditori_mercato_libero_ele_comune, val_consumi_x_max_over_mean_ciclo_ele_last_6_months, qta_cnt_macrocausale_Chiarimento_su_offerta_last_90_days, val_paga_ritardo_min_ciclo_last_3_months, fln_cell_m0_mono_flag, qta_days_since_last_inbound_contact, val_totale_pagare_x_max_over_mean_ciclo_gas_last_1_months, qta_cnt_fln_chiamate_inbound_m6, qta_cnt_mds_tipologia_attivita_gestione_comunicazioni_m3, val_Idx_Commercio, fln_rischio_Pre_Rinnovo, qta_cnt_macrocausale_Ritardata_esecuzione_subentri_volture_cessazioni_etc_last_90_days, qta_cnt_mds_tipologia_attivita_gestione_pagamenti_m1, qta_cnt_microcausale_LAVORI_E_MODIFICHE_TECNICHE_POTENZA_TENSIONE_last_90_days, qta_cnt_comuni_serviti_distributore_gas, qta_cnt_attivita_recesso_suggello_voltura_mancata_ritardata_last_3_months, mds_tipologia_pagamento, val_Lavoratori, val_totale_pagare_last_sollecito_cli, val_consumi_x_max_ciclo_ele_last_3_months, fln_rinnovo_last_1_months_tipologia_RVC, fln_venditore_mercato_libero_gas_comune_HERA, fln_venditore_mercato_libero_ele_comune_IREN, qta_cnt_mds_tipologia_attivita_gestione_comunicazioni_m9, fln_distributore_gas_comune_2i_Rete_Gas_SpA, qta_cnt_mds_tipologia_attivita_gestione_credito_m3, qta_cnt_attivita_reclamo_last_3_months, fln_venditore_mercato_libero_ele_comune_Gruppo_Canarbino, qta_cnt_canale_TELEFONICO_last_90_days, val_consumi_x_max_over_mean_ciclo_gas_last_3_months, qta_cnt_canale_APP_last_90_days, qta_cnt_attivita_credito_last_3_months, val_POT_GAS_NETTO, qta_numero_fattura_count_ciclo_last_6_months, fln_venditore_mercato_libero_ele_big, sds_segmento_organizzativo_cliente, qta_cnt_mds_tipologia_attivita_gestione_consumi_m12, qta_numero_fattura_count_ciclo_last_12_months, qta_cnt_mds_tipologia_attivita_other_m12, val_paga_ritardo_sum_ciclo_last_1_months, val_consumi_x_sum_ciclo_gas_last_1_months, qta_cnt_mds_tipologia_attivita_gestione_bolletta_m12, qta_cnt_mds_tipologia_attivita_gestione_consumi_m3, val_paga_ritardo_mean_ciclo_last_1_months, fln_comunicazione_rinnovo_last_1_months_sottocanale_FATTURA, qta_cnt_attivita_blacklist_last_3_months, qta_cnt_fln_contatti_inbound_m3, fln_venditore_mercato_libero_gas_comune_EDISON, cdc_win_back_m3, qta_cnt_mds_tipologia_attivita_gestione_consumi_m1, val_totale_pagare_x_min_over_mean_ciclo_gas_last_3_months, qta_cnt_attivita_dati_catastali_last_3_months, cdc_Codice_Regione, val_consumi_x_sum_ciclo_ele_last_6_months, fln_venditore_mercato_libero_gas_comune_Acea, val_totale_pagare_x_mean_ciclo_gas_last_3_months, fln_fattura_non_pagata_servizio_last_6_months_canale_ALL, val_importo_addebito_x_mean_ciclo_gas_last_3_months, val_perc_Famiglie_Alloggio_Affitto, val_perc_Famiglie_2_Componente, fln_venditore_mercato_libero_gas_comune_ENEGAN, mds_sottocanale, val_importo_addebito_x_max_ciclo_gas_last_6_months, qta_cnt_attivita_invio_WL_pesante_last_3_months, qta_cnt_attivita_lavori_rete_last_3_months, qta_days_since_last_inbound_contact_macrocausale_Ritardata_esecuzione_subentri_volture_cessazioni_etc, fln_venditore_mercato_libero_gas_comune_ENI, val_mean_days_emissione_fattura_pagamento_servizio_last_6_months_canale_ALL, qta_cnt_distributori_energia_comune, qta_cnt_fln_contatti_inbound_reclamo_m6, val_totale_pagare_x_max_over_mean_ciclo_ele_last_1_months, qta_days_since_last_inbound_contact_microcausale_PIANO_DI_RIENTRO, val_totale_pagare_x_min_over_mean_ciclo_gas_last_6_months, qta_cnt_fln_chiamate_inbound_m9, fln_criticita_cross_last_90_days, sds_regione, val_Cliente_con_comunicazione_swp_storico, lds_prodotto_listino_2, fln_venditore_mercato_libero_ele_comune_ENGIE, fln_venditore_mercato_libero_gas_comune_Gas_Rimini, val_importo_addebito_x_last_ciclo, qta_cnt_competitor_forti_enel_venditore_mercato_libero_gas, qta_max_days_scadenza_fattura_pagamento_servizio_last_3_months_canale_ALL, val_importo_addebito_x_max_ciclo_gas_last_3_months, qta_cnt_mds_specifica_disdetta_m3, qta_cnt_fln_contatti_inbound_m1, qta_cnt_microcausale_SUBENTRO_last_90_days, val_consumi_x_mean_ciclo_ele_last_6_months, qta_cnt_attivita_posta_documenti_last_3_months, val_churn_2_months, fln_criticita_infra_last_90_days, fln_venditore_mercato_libero_gas_comune_A2A, fln_sollecito_last_2_months_cli, val_importo_addebito_x_max_over_mean_ciclo_ele_last_1_months, qta_cnt_mds_specifica_other_m1, qta_cnt_microcausale_DISTACCHI_RIALLACCI_last_90_days, val_perc_Abitazioni_Vuote, qta_cnt_fln_contatti_inbound_reclamo_m9, cdc_cv_fasce_servizio, val_Negozi_Compr_Mean, qta_cnt_mds_tipologia_attivita_gestione_pagamenti_m9, qta_cnt_contatti_outbound_all_channel_m12, val_perc_Famiglie_3_Componente, val_totale_pagare_x_max_ciclo_gas_last_3_months, sds_cluster_ele, val_pop_res_totale_15_anni_e_piu_casalinghe, qta_days_since_last_inbound_contact_microcausale_INFORMATIVA, val_Cliente_con_servizio_cessato_last_3_months, qta_cnt_attivita_comunicazione_SWP_last_3_months, qta_days_since_last_inbound_contact_microcausale_INFORMATIVA_CONSUMI_PAGAMENTI, val_consumi_x_min_over_mean_ciclo_ele_last_1_months, fln_venditore_mercato_libero_ele_comune_HERA, qta_cnt_canale_DOCUMENTALE_COMPLESSO_last_90_days, qta_cnt_attivita_autoletture_last_3_months, qta_numero_fattura_count_ciclo_last_1_months, qta_days_since_last_inbound_contact_channel_DOCUMENTALE_COMPLESSO, val_consumi_x_mean_ciclo_gas_last_1_months, qta_days_since_last_inbound_contact_microcausale_RECLAMI_SCRITTI, val_mean_val_fattura_non_pagato_servizio_last_6_months_canale_ALL, cdc_causale_attivazione, qta_cnt_contatti_inbound_all_channel_m3, val_reddito_disponibile, qta_cnt_mds_specifica_other_m3, qta_cnt_microcausale_GESTIONE_VAS_last_90_days, cdc_tenure_bucket, val_totale_pagare_x_last, qta_cnt_microcausale_INFORMATIVA_NON_DI_COMPETENZA_last_90_days, qta_cnt_mail_di_sollecito_cli, qta_cnt_campagne_mktg_canale_GMC_last_3_months, val_mean_days_emissione_fattura_pagamento_servizio_last_3_months_canale_ALL, qta_cnt_mds_tipologia_attivita_gestione_documenti_m1, val_totale_pagare_x_sum_ciclo_gas_last_1_months, qta_cnt_fattura_pagata_totalmente_in_ritardo_servizio_last_6_months_canale_ALL, fln_distributore_gas_comune_A2A, qta_cnt_mds_tipologia_attivita_gestione_bolletta_m1, qta_cnt_mds_specifica_disdetta_m6, fln_multi_distributore_energia_comune, fln_multi_distributore_gas_comune, cdc_id_mercato, qta_cnt_attivita_allaccio_servizi_last_3_months, qta_cnt_comuni_serviti_distributore_energia, fln_fattura_pagata_totalmente_nei_tempi_servizio_ultima_bolletta_emessa_canale_ALL, val_mean_val_fattura_non_pagato_servizio_last_3_months_canale_ALL, val_importo_addebito_x_min_ciclo_ele_last_6_months, val_perc_Abitazioni_Residenti, val_incasso_servizio_ultima_bolletta_emessa_canale_ALL, fln_servizio_attualmente_distaccato, val_importo_addebito_x_min_ciclo_ele_last_1_months, val_consumi_x_mean_ciclo_ele_last_3_months, qta_cnt_mds_specifica_disdetta_m1, qta_cnt_microcausale_RVC_last_90_days, val_studenti, qta_cnt_attivita_richiesta_informazioni_last_3_months, val_QUOTA_LIBERO, qta_cnt_mds_tipologia_attivita_gestione_comunicazioni_m6, qta_cnt_mds_tipologia_attivita_gestione_comunicazioni_m1, qta_anzianita_servizio, mds_nome_campagna_last_response_marketing_cli, qta_cnt_macrocausale_Esecuzione_lavori_last_90_days, qta_cnt_mds_specifica_visualizzazione_area_clienti_m3, val_Turisti_totali, qta_cnt_sms_cli, val_totale_pagare_x_min_ciclo_ele_last_1_months, val_consumi_x_min_over_mean_ciclo_gas_last_6_months, fln_fattura_pagata_totalmente_in_ritardo_servizio_last_6_months_canale_ALL, fln_venditore_mercato_libero_gas_only_small, qta_giorni_ultimo_reclamo, val_paga_ritardo_max_ciclo_last_3_months, val_consumi_x_max_ciclo_gas_last_6_months, fln_fattura_pagata_non_totalmente_servizio_last_6_months_canale_ALL, qta_cnt_microcausale_INFORMATIVA_last_90_days, qta_cnt_mds_tipologia_attivita_gestione_clienti_m1, qta_cnt_cliente_accetta_proposta_last_3_months, qta_cnt_cliente_response_positiva_last_3_months, qta_cnt_microcausale_PRIMA_ATTIVAZIONE_last_90_days, qta_days_since_last_inbound_contact_microcausale_INFORMATIVA_CREDITO, qta_cnt_microcausale_INFORMATIVA_CONSUMI_PAGAMENTI_last_90_days, fln_distributore_energia_comune_HERA, fln_primo_contatto_inbound, qta_cnt_attivita_processi_richieste_suggello_recesso_voltura_last_3_months, qta_cnt_mds_specifica_other_m12, val_importo_addebito_x_max_over_mean_ciclo_gas_last_6_months, qta_cnt_mds_tipologia_attivita_gestione_clienti_m12, val_totale_pagare_x_mean_ciclo_ele_last_6_months, qta_days_since_last_inbound_contact_microcausale_PRIMA_ATTIVAZIONE, val_pop_res_totale_15_anni_e_piu_non_appartenente_alle_forze_di_lavoro_nfl, fln_venditore_mercato_libero_gas_comune_Alperia, qta_cnt_fln_contatti_inbound_m12, qta_cnt_mds_tipologia_attivita_gestione_pagamenti_m12, val_totale_pagare_x_sum_ciclo_ele_last_6_months, qta_days_since_last_inbound_contact_microcausale_GESTIONE_FORNITURA, fln_venditore_mercato_libero_ele_comune_Acea, val_Sh_ENEL_POWER, qta_cnt_mds_specifica_adesione_m9, val_totale_pagare_x_last_over_mean, fln_venditore_mercato_libero_ele_comune_ENEGAN, qta_servizi_gas, qta_cnt_mds_specifica_visualizzazione_area_clienti_m9, lds_tipo_uso, val_consumi_x_min_over_mean_ciclo_gas_last_1_months, qta_days_since_last_inbound_contact_microcausale_GESTIONE_VAS, qta_days_since_last_inbound_contact_microcausale_VOLTURA, cdc_residente, val_consumi_x_max_ciclo_gas_last_3_months, qta_paga_ritardo_ciclo_last_1_months, xds_tipologia_azione_last_response_marketing_cli, val_perc_Abitazioni_Non_Residenti, val_totale_pagare_x_max_ciclo_ele_last_3_months, qta_paga_ritardo_ciclo_last_6_months, fln_distributore_energia_comune_Alperia, val_mean_fattura_pagata_totalmente_nei_tempi_servizio_last_6_months_canale_ALL, fln_distributore_energia_comune_Acea, val_perc_Famiglie_Alloggio_Altro, qta_days_last_response_marketing_cli, fln_venditore_mercato_libero_gas_comune_ENGIE, val_paga_ritardo_mean_ciclo_last_6_months, val_Cliente_con_comunicazione_swp_storico_last_6_months, fln_distributore_gas_comune_IREN, val_importo_addebito_x_min_over_mean_ciclo_gas_last_6_months, val_totale_pagare_x_min_ciclo_gas_last_3_months, qta_cnt_mds_tipologia_attivita_gestione_bolletta_m9, val_Negozi_Loc_Mean, qta_cnt_microcausale_AUTOLETTURA_last_90_days, qta_days_since_last_inbound_contact_channel_WEB, qta_cnt_fln_contatti_inbound_guasti_m1, val_perc_Famiglie_1_Componente, val_consumi_famiglie, qta_days_since_last_inbound_contact_microcausale_SUBENTRO, val_paga_ritardo_max_ciclo_last_1_months, fln_stesso_venditore_distributore_ele_no_enel, val_mean_fattura_non_pagata_servizio_last_6_months_canale_ALL, fln_venditore_mercato_libero_gas_comune_EVOLVE_SRL, qta_cnt_mds_tipologia_attivita_gestione_notifiche_m6, qta_cnt_fln_contatti_inbound_reclamo_m12, qta_cnt_mds_tipologia_attivita_gestione_documenti_m9, qta_cnt_mds_tipologia_attivita_gestione_consumi_m6, qta_cnt_fattura_pagata_totalmente_in_ritardo_servizio_last_3_months_canale_ALL, qta_cnt_fln_contatti_inbound_guasti_m3, qta_days_since_last_inbound_contact_microcausale_SWITCH_ATTIVO, qta_cnt_attivita_contratti_last_3_months, cdn_cv2_cliente, fln_player_forte_win_back, qta_cnt_attivita_ricezione_invio_documentazione_last_3_months, qta_cnt_fattura_pagata_totalmente_nei_tempi_servizio_last_3_months_canale_ALL, val_paga_ritardo_sum_ciclo_last_6_months, qta_cnt_mds_specifica_adesione_m12, val_Sh_ENEL_GAS, val_totale_pagare_x_sum_ciclo_gas_last_3_months, fln_diffida_last_2_months_serv, qta_cnt_mds_tipologia_attivita_other_m1, qta_cnt_mds_tipologia_attivita_gestione_credito_m9, qta_cnt_mds_tipologia_attivita_gestione_comunicazioni_m12, qta_cnt_mds_tipologia_attivita_gestione_bolletta_m3, qta_cnt_macrocausale_Informativa_last_90_days, val_Residenti, qta_cnt_fln_contatti_inbound_autolet_m3, qta_cnt_campagne_mktg_canale_DEM_last_3_months, sds_regione_fornitura, qta_cnt_attivita_secondo_livello_last_3_months, qta_days_since_last_inbound_contact_macrocausale_Credito, sds_provincia_fornitura, qta_cnt_microcausale_INFORMATIVA_CREDITO_last_90_days, val_perc_Famiglie_Alloggio_Proprieta, fln_venditore_mercato_libero_gas_comune_Green_Network, qta_cnt_mds_specifica_disdetta_m9, qta_cnt_mds_tipologia_attivita_gestione_credito_m12, val_perc_Famiglie_6+_Componente, val_fattura_non_pagato_servizio_ultima_bolletta_emessa_canale_ALL, qta_cnt_cliente_con_response_marketing_utile_last_3_months, val_mean_fattura_pagata_totalmente_nei_tempi_servizio_last_3_months_canale_ALL, val_totale_istruzione_pesata, val_importo_addebito_x_max_ciclo_gas_last_1_months, qta_max_days_emissione_fattura_pagamento_servizio_last_6_months_canale_ALL, fln_distributore_gas_comune_Alperia, fln_stesso_distributore_gas_ele, cdc_stato_servizio_calc, qta_cnt_diffida_cartacea_cli, val_importo_addebito_x_last, qta_cnt_attivita_gestione_clienti_last_3_months, qta_cnt_microcausale_GESTIONE_FORNITURA_last_90_days, qta_cnt_diffida_procedura_M4_cli, qta_days_since_last_inbound_contact_microcausale_MODALITA_DI_PAGAMENTO, val_importo_addebito_x_mean_ciclo_gas_last_1_months, val_mean_days_scadenza_fattura_pagamento_servizio_last_3_months_canale_ALL, qta_cnt_mds_specifica_visualizzazione_area_clienti_m6, fln_stesso_venditore_distributore_ele, qta_days_since_last_inbound_contact_channel_FACE, qta_cnt_attivita_sollecito_last_3_months, fln_servizio_distaccato_e_riallacciato, fln_stesso_venditore_distributore_gas, val_potenza_contrattuale, qta_days_since_last_inbound_contact_microcausale_RETTIFICHE_CONSUMI_FATTURAZIONE, sds_segmento_fasce, qta_days_since_last_inbound_contact_microcausale_INFORMATIVA_NON_DI_COMPETENZA, qta_cnt_mds_specifica_visualizzazione_area_clienti_m1, val_POT_TOTALE, qta_servizi_elettrici, qta_cnt_attivita_morosita_last_3_months, val_importo_addebito_x_sum_ciclo_ele_last_3_months, qta_cnt_macrocausale_Chiarimenti_su_fatture_last_90_days, qta_indice_contattosita_ult_30gg, sds_mat_fatturazione, val_POT_TOTALE_NETTO, qta_days_since_last_inbound_contact_microcausale_DISDETTE_E_CESSAZIONI, val_importo_addebito_x_min_ciclo_gas_last_3_months, fln_scarti_trasporto_last_1_months, val_importo_addebito_x_max_over_mean_ciclo_ele_last_3_months, qta_cnt_attivita_vocal_last_3_months, val_importo_addebito_x_mean_ciclo_gas_last_6_months, qta_cnt_microcausale_REPEATED_LIST_last_90_days, val_importo_addebito_x_min_over_mean_ciclo_ele_last_1_months, qta_cnt_venditori_mercato_libero_gas_comune, qta_cnt_attivita_ripensamento_last_3_months, val_importo_addebito_x_mean_ciclo_ele_last_6_months, val_importo_addebito_x_min_over_mean_ciclo_ele_last_3_months, qta_frequenza_contatto, qta_days_since_last_inbound_contact_microcausale_MODIFICA_ANAGRAFICA_O_DATI_FORNITURA_FATTURAZIONE, sds_cluster_gas, cdc_istat, qta_cnt_attivita_modifiche_variazioni_last_3_months, val_totale_pagare_x_mean_ciclo_gas_last_6_months, qta_days_since_last_inbound_contact_microcausale_LAVORI_E_MODIFICHE_TECNICHE_POTENZA_TENSIONE, qta_cnt_fln_contatti_inbound_autolet_m6, val_perc_Altri_Tipi_Alloggio, fln_venditore_mercato_libero_ele_comune_sorgenia, qta_cnt_mds_tipologia_attivita_gestione_bolletta_m6, fln_comunicazione_rinnovo_last_1_months, qta_days_emissione_fattura_pagamento_servizio_ultima_bolletta_emessa_canale_ALL, val_Cliente_con_comunicazione_swp_storico_last_1_months, qta_cnt_fattura_pagata_non_totalmente_servizio_last_3_months_canale_ALL, val_totale_pagare_x_min_over_mean_ciclo_ele_last_3_months, val_mean_days_scadenza_fattura_pagamento_servizio_last_6_months_canale_ALL, fln_distributore_energia_comune_Dolomiti_Energia, fln_venditore_mercato_libero_ele_comune_A2A, qta_cnt_mds_specifica_visualizzazione_area_clienti_m12, val_totale_pagare_x_max_over_mean_ciclo_gas_last_3_months, qta_cnt_attivita_vas_last_3_months, qta_cnt_competitor_forti_enel_venditore_mercato_libero_ele, fln_distributore_gas_comune_HERA, qta_cnt_fln_contatti_inbound_guasti_m12, qta_cnt_fattura_non_pagata_servizio_last_6_months_canale_ALL, fln_player_forte, qta_cnt_attivita_bye_bye_letter_last_3_months, qta_cnt_contatti_outbound_all_channel_m3, qta_cnt_microcausale_MODALITA_DI_PAGAMENTO_last_90_days, fln_venditore_mercato_libero_ele_enel, val_fascia_stress, val_mean_fattura_pagata_totalmente_in_ritardo_servizio_last_3_months_canale_ALL, val_totale_pagare_x_min_ciclo_ele_last_6_months, qta_cnt_mds_tipologia_attivita_gestione_clienti_m6, qta_cnt_microcausale_MODIFICA_ANAGRAFICA_O_DATI_FORNITURA_FATTURAZIONE_last_90_days, val_Altitudine_del_centro, val_importo_addebito_x_max_over_mean_ciclo_gas_last_3_months, val_consumi_x_sum_ciclo_ele_last_3_months, val_importo_addebito_x_min_over_mean_ciclo_gas_last_1_months, qta_cnt_mds_tipologia_attivita_gestione_pagamenti_m6, val_consumi_x_mean_ciclo_gas_last_3_months, qta_cnt_mds_tipologia_attivita_gestione_clienti_m9, xds_canale_last_response_marketing_cli, qta_cnt_contatti_inbound_all_channel_m6, val_rimborsi_mean_ciclo_last_3_months, lds_societa_vendita, qta_cnt_microcausale_ALLACCIO_E_ATTIVAZIONE_last_90_days, cdc_pdr, val_paga_ritardo_mean_ciclo_last_3_months, fln_comunicazione_rinnovo_last_1_months_sottocanale_CARTACEO, qta_cnt_attivita_sito_web_chat_last_3_months, val_Cliente_con_servizio_cessato_last_6_months, qta_cnt_canale_CHAT_last_90_days, fln_venditore_mercato_libero_ele_comune_EOn, fln_venditore_mercato_libero_ele_comune_Alperia, val_t0_month, qta_cnt_mds_tipologia_attivita_gestione_notifiche_m12, val_totale_pagare_x_max_ciclo_gas_last_6_months, qta_cnt_diffida_procedura_M3_cli, fln_comunicazione_rinnovo_last_1_months_sottocanale_PEC, qta_cnt_macrocausale_Problemi_in_fase_di_attivazione_last_90_days, qta_cnt_contatti_outbound_all_channel_m9, fln_distributore_energia_enel, val_importo_addebito_x_sum_ciclo_gas_last_6_months, fln_riallaccio_last_2_months, fln_bolletta_web_attiva, qta_cnt_fattura_non_pagata_servizio_last_3_months_canale_ALL, val_t0_year, qta_days_since_last_inbound_contact_macrocausale_Esecuzione_lavori, fln_sollecito_last_2_months_serv, qta_max_days_scadenza_fattura_pagamento_servizio_last_6_months_canale_ALL, fln_distributore_energia_comune_ASTEA_SPA, qta_cnt_mds_tipologia_attivita_gestione_documenti_m6, fln_venditore_mercato_libero_ele_comune_EDISON, qta_cnt_fln_contatti_inbound_reclamo_m3, val_POT_POWER_NETTO, qta_max_days_emissione_fattura_pagamento_servizio_last_3_months_canale_ALL, fln_distributore_energia_comune_A2A, qta_days_since_last_inbound_contact_channel_DOCUMENTALE, qta_cnt_contatti_inbound_totali_last_90_days, qta_cnt_mds_tipologia_attivita_gestione_notifiche_m9, val_QUOTA_TUTELATO, qta_giorni_ultimo_contatto_outbound, val_mean_fattura_pagata_non_totalmente_servizio_last_3_months_canale_ALL, qta_cnt_mds_tipologia_attivita_gestione_credito_m1, val_importo_addebito_x_mean_ciclo_ele_last_3_months, qta_cnt_mds_tipologia_attivita_gestione_pagamenti_m3, qta_days_since_last_inbound_contact_microcausale_RIMBORSO_COMPENSAZIONE, qta_cnt_contatti_inbound_all_channel_m12, qta_cnt_attivita_delibera_147_last_3_months, val_mean_fattura_non_pagata_servizio_last_3_months_canale_ALL, val_consumi_x_min_over_mean_ciclo_ele_last_6_months, qta_days_since_last_inbound_contact_channel_TELEFONICO, qta_cnt_microcausale_RECLAMI_SCRITTI_last_90_days, fln_cliente_response_competitor_last_3_months, qta_cnt_reclami_last_month, qta_days_since_last_inbound_contact_channel_APP, qta_cnt_diffida_cartacea_serv, fln_venditore_mercato_libero_ele_comune_ENI, qta_cnt_fln_contatti_inbound_guasti_m6, qta_cnt_mds_tipologia_attivita_other_m6, mds_canale_acquisizione, qta_cnt_sollecito_procedura_M2_cli, sds_provincia, qta_giorni_ultimo_contatto_inbound, qta_cnt_microcausale_RIPENSAMENTO_O_DISCONOSCIMENTO_last_90_days, qta_cnt_venditori_mercato_libero_ele_comune, val_totale_pagare_x_max_ciclo_ele_last_1_months, sds_regione_fatturazione, qta_days_since_last_inbound_contact_microcausale_VERIFICHE_TECNICHE, fln_scarti_sap_sd_last_1_months, qta_days_since_last_inbound_contact_microcausale_RIPENSAMENTO_O_DISCONOSCIMENTO, qta_cnt_mds_specifica_other_m6, fln_cliente_accetta_proposta_last_3_months, qta_cnt_distacchi_last_2_months, val_importo_addebito_x_sum_ciclo_gas_last_3_months, val_importo_addebito_x_min_over_mean_ciclo_ele_last_6_months, qta_cnt_attivita_analisi_fatturato_situazione_contabile_last_3_months, cdc_Zona_altimetrica, val_consumi_x_min_ciclo_ele_last_6_months, val_consumi_x_max_ciclo_gas_last_1_months, idn_sito_sk, cdn_cv2_servizio, fln_venditore_mercato_libero_gas_comune_IREN, qta_cnt_microcausale_GESTIONE_PRIVACY_last_90_days, qta_days_since_last_inbound_contact_microcausale_AUTOLETTURA, qta_cnt_mds_tipologia_attivita_gestione_documenti_m3, qta_days_since_last_inbound_contact_microcausale_ALLACCIO_E_ATTIVAZIONE, val_totale_pagare_x_sum_ciclo_gas_last_6_months, val_paga_ritardo_sum_ciclo_last_3_months, qta_cnt_sollecito_cartaceo_cli, cdc_bolletta_web, val_consumi_x_max_over_mean_ciclo_gas_last_6_months, qta_cnt_macrocausale_Credito_last_90_days, fln_dual, val_totale_pagare_x_mean_ciclo_ele_last_1_months, qta_cnt_mds_specifica_adesione_m3, qta_days_since_last_inbound_contact_microcausale_DISTACCHI_RIALLACCI, qta_cnt_distributori_gas_comune, fln_venditore_mercato_libero_gas_comune_ENEL, qta_cnt_attivita_indennizzo_last_3_months, fln_venditore_mercato_libero_ele_comune_Axpo_Group, val_paga_ritardo_max_ciclo_last_6_months, fln_venditore_mercato_libero_gas_comune_Axpo_Group, val_totale_pagare_x_min_ciclo_gas_last_1_months, val_totale_pagare_x_max_over_mean_ciclo_ele_last_6_months, fln_venditore_mercato_libero_gas_comune_METANO_NORD_SPA, val_totale_pagare_x_min_ciclo_ele_last_3_months, qta_cnt_attivita_bolletta_fatturazione_last_3_months, val_max_val_fattura_non_pagato_servizio_last_6_months_canale_ALL, fln_distributore_energia_comune_IREN, val_delta_prezzo_percentuale_gas_last_1_months, fln_distributore_gas_comune_municipalizzata, val_totale_pagare_x_min_ciclo_gas_last_6_months, val_importo_addebito_x_min_over_mean_ciclo_gas_last_3_months, val_consumi_x_sum_ciclo_gas_last_6_months, qta_cnt_contatti_outbound_all_channel_m6, fln_venditore_mercato_libero_gas_comune_Dolomiti_Energia, qta_days_incasso_fattura_today_servizio_ultima_bolletta_emessa_canale_ALL, qta_cnt_contatti_inbound_all_channel_m1, qta_cnt_mds_tipologia_attivita_other_m3, idn_cliente_sk, val_mean_fattura_pagata_non_totalmente_servizio_last_6_months_canale_ALL, fln_distributore_energia_comune_ENEL, qta_cnt_mds_tipologia_attivita_gestione_documenti_m12, val_totale_pagare_x_max_over_mean_ciclo_gas_last_6_months, qta_cnt_mds_tipologia_attivita_gestione_consumi_m9, val_totale_pagare_x_sum_ciclo_ele_last_1_months, cdc_tenure_bucket_cliente, qta_cnt_microcausale_RIMBORSO_COMPENSAZIONE_last_90_days, val_importo_addebito_x_min_ciclo_ele_last_3_months, fln_Comune_litoraneo, fln_fattura_pagata_totalmente_nei_tempi_servizio_last_6_months_canale_ALL, qta_cnt_microcausale_RETTIFICHE_CONSUMI_FATTURAZIONE_last_90_days, mds_comune, qta_cnt_contatti_inbound_all_channel_m9, fln_venditore_mercato_libero_gas_comune_BURGO_GROUP, fln_distacco_last_2_months, qta_cnt_canale_DOCUMENTALE_last_90_days, qta_cnt_fln_chiamate_inbound_m12, qta_cnt_diffida_procedura_M1_cli, sds_mat, val_consumi_x_sum_ciclo_ele_last_1_months, qta_cnt_microcausale_SWITCH_ATTIVO_last_90_days, qta_cnt_fln_contatti_inbound_autolet_m1, fln_diffida_last_2_months_cli, sds_commodity];;\n'Project ['cdc_power_gas, val_churn_2_months#23457]\n+- Relation[idn_cliente_sk#23311L,cdc_stato_servizio_calc#23312,idn_sito_sk#23313L,lds_prodotto_listino_2#23314,cdc_pdr#23315,sds_commodity#23316,mds_canale_acquisizione#23317,cdc_cap_nrm#23318,lds_tipo_uso#23319,qta_eta_nrm#23320,cdc_residente#23321,qta_indice_contattosita_ult_30gg#23322,val_fascia_stress#23323,mds_tipologia_pagamento#23324,cdc_id_mercato#23325,sds_provincia_fatturazione#23326,sds_provincia_fornitura#23327,sds_regione_fornitura#23328,sds_regione_fatturazione#23329,sds_mat_fatturazione#23330,sds_mat_fornitura#23331,sds_provincia#23332,sds_regione#23333,sds_mat#23334,... 625 more fields] parquet\n\n\tat org.apache.spark.sql.catalyst.analysis.package$AnalysisErrorAt.failAnalysis(package.scala:42)\n\tat org.apache.spark.sql.catalyst.analysis.CheckAnalysis$$anonfun$checkAnalysis$1$$anonfun$apply$3.applyOrElse(CheckAnalysis.scala:110)\n\tat org.apache.spark.sql.catalyst.analysis.CheckAnalysis$$anonfun$checkAnalysis$1$$anonfun$apply$3.applyOrElse(CheckAnalysis.scala:107)\n\tat org.apache.spark.sql.catalyst.trees.TreeNode$$anonfun$transformUp$1.apply(TreeNode.scala:278)\n\tat org.apache.spark.sql.catalyst.trees.TreeNode$$anonfun$transformUp$1.apply(TreeNode.scala:278)\n\tat org.apache.spark.sql.catalyst.trees.CurrentOrigin$.withOrigin(TreeNode.scala:70)\n\tat org.apache.spark.sql.catalyst.trees.TreeNode.transformUp(TreeNode.scala:277)\n\tat org.apache.spark.sql.catalyst.plans.QueryPlan$$anonfun$transformExpressionsUp$1.apply(QueryPlan.scala:93)\n\tat org.apache.spark.sql.catalyst.plans.QueryPlan$$anonfun$transformExpressionsUp$1.apply(QueryPlan.scala:93)\n\tat org.apache.spark.sql.catalyst.plans.QueryPlan$$anonfun$1.apply(QueryPlan.scala:105)\n\tat org.apache.spark.sql.catalyst.plans.QueryPlan$$anonfun$1.apply(QueryPlan.scala:105)\n\tat org.apache.spark.sql.catalyst.trees.CurrentOrigin$.withOrigin(TreeNode.scala:70)\n\tat org.apache.spark.sql.catalyst.plans.QueryPlan.transformExpression$1(QueryPlan.scala:104)\n\tat org.apache.spark.sql.catalyst.plans.QueryPlan.org$apache$spark$sql$catalyst$plans$QueryPlan$$recursiveTransform$1(QueryPlan.scala:116)\n\tat org.apache.spark.sql.catalyst.plans.QueryPlan$$anonfun$org$apache$spark$sql$catalyst$plans$QueryPlan$$recursiveTransform$1$2.apply(QueryPlan.scala:121)\n\tat scala.collection.TraversableLike$$anonfun$map$1.apply(TraversableLike.scala:234)\n\tat scala.collection.TraversableLike$$anonfun$map$1.apply(TraversableLike.scala:234)\n\tat scala.collection.mutable.ResizableArray$class.foreach(ResizableArray.scala:59)\n\tat scala.collection.mutable.ArrayBuffer.foreach(ArrayBuffer.scala:48)\n\tat scala.collection.TraversableLike$class.map(TraversableLike.scala:234)\n\tat scala.collection.AbstractTraversable.map(Traversable.scala:104)\n\tat org.apache.spark.sql.catalyst.plans.QueryPlan.org$apache$spark$sql$catalyst$plans$QueryPlan$$recursiveTransform$1(QueryPlan.scala:121)\n\tat org.apache.spark.sql.catalyst.plans.QueryPlan$$anonfun$2.apply(QueryPlan.scala:126)\n\tat org.apache.spark.sql.catalyst.trees.TreeNode.mapProductIterator(TreeNode.scala:187)\n\tat org.apache.spark.sql.catalyst.plans.QueryPlan.mapExpressions(QueryPlan.scala:126)\n\tat org.apache.spark.sql.catalyst.plans.QueryPlan.transformExpressionsUp(QueryPlan.scala:93)\n\tat org.apache.spark.sql.catalyst.analysis.CheckAnalysis$$anonfun$checkAnalysis$1.apply(CheckAnalysis.scala:107)\n\tat org.apache.spark.sql.catalyst.analysis.CheckAnalysis$$anonfun$checkAnalysis$1.apply(CheckAnalysis.scala:85)\n\tat org.apache.spark.sql.catalyst.trees.TreeNode.foreachUp(TreeNode.scala:127)\n\tat org.apache.spark.sql.catalyst.analysis.CheckAnalysis$class.checkAnalysis(CheckAnalysis.scala:85)\n\tat org.apache.spark.sql.catalyst.analysis.Analyzer.checkAnalysis(Analyzer.scala:95)\n\tat org.apache.spark.sql.catalyst.analysis.Analyzer$$anonfun$executeAndCheck$1.apply(Analyzer.scala:108)\n\tat org.apache.spark.sql.catalyst.analysis.Analyzer$$anonfun$executeAndCheck$1.apply(Analyzer.scala:105)\n\tat org.apache.spark.sql.catalyst.plans.logical.AnalysisHelper$.markInAnalyzer(AnalysisHelper.scala:201)\n\tat org.apache.spark.sql.catalyst.analysis.Analyzer.executeAndCheck(Analyzer.scala:105)\n\tat org.apache.spark.sql.execution.QueryExecution.analyzed$lzycompute(QueryExecution.scala:57)\n\tat org.apache.spark.sql.execution.QueryExecution.analyzed(QueryExecution.scala:55)\n\tat org.apache.spark.sql.execution.QueryExecution.assertAnalyzed(QueryExecution.scala:47)\n\tat org.apache.spark.sql.Dataset$.ofRows(Dataset.scala:78)\n\tat org.apache.spark.sql.Dataset.org$apache$spark$sql$Dataset$$withPlan(Dataset.scala:3406)\n\tat org.apache.spark.sql.Dataset.select(Dataset.scala:1334)\n\tat sun.reflect.GeneratedMethodAccessor93.invoke(Unknown Source)\n\tat sun.reflect.DelegatingMethodAccessorImpl.invoke(DelegatingMethodAccessorImpl.java:43)\n\tat java.lang.reflect.Method.invoke(Method.java:498)\n\tat py4j.reflection.MethodInvoker.invoke(MethodInvoker.java:244)\n\tat py4j.reflection.ReflectionEngine.invoke(ReflectionEngine.java:357)\n\tat py4j.Gateway.invoke(Gateway.java:282)\n\tat py4j.commands.AbstractCommand.invokeMethod(AbstractCommand.java:132)\n\tat py4j.commands.CallCommand.execute(CallCommand.java:79)\n\tat py4j.GatewayConnection.run(GatewayConnection.java:238)\n\tat java.lang.Thread.run(Thread.java:748)\n",
      "\nDuring handling of the above exception, another exception occurred:\n",
      "\u001b[0;31mAnalysisException\u001b[0m                         Traceback (most recent call last)",
      "\u001b[0;32m<ipython-input-45-61982653a119>\u001b[0m in \u001b[0;36m<module>\u001b[0;34m\u001b[0m\n\u001b[1;32m      1\u001b[0m \u001b[0;32mfor\u001b[0m \u001b[0mcolumn\u001b[0m \u001b[0;32min\u001b[0m \u001b[0mtqdm\u001b[0m\u001b[0;34m(\u001b[0m\u001b[0mcategorical_features\u001b[0m\u001b[0;34m)\u001b[0m\u001b[0;34m:\u001b[0m\u001b[0;34m\u001b[0m\u001b[0;34m\u001b[0m\u001b[0m\n\u001b[0;32m----> 2\u001b[0;31m     \u001b[0mdf\u001b[0m \u001b[0;34m=\u001b[0m \u001b[0minput_data_supervised\u001b[0m\u001b[0;34m.\u001b[0m\u001b[0mselect\u001b[0m\u001b[0;34m(\u001b[0m\u001b[0mcolumn\u001b[0m\u001b[0;34m,\u001b[0m \u001b[0;34m'val_churn_2_months'\u001b[0m\u001b[0;34m)\u001b[0m\u001b[0;34m\u001b[0m\u001b[0;34m\u001b[0m\u001b[0m\n\u001b[0m\u001b[1;32m      3\u001b[0m     \u001b[0mcontingency_table\u001b[0m \u001b[0;34m=\u001b[0m \u001b[0mdf\u001b[0m\u001b[0;34m.\u001b[0m\u001b[0mstat\u001b[0m\u001b[0;34m.\u001b[0m\u001b[0mcrosstab\u001b[0m\u001b[0;34m(\u001b[0m\u001b[0mcolumn\u001b[0m\u001b[0;34m,\u001b[0m \u001b[0;34m'val_churn_2_months'\u001b[0m\u001b[0;34m)\u001b[0m\u001b[0;34m\u001b[0m\u001b[0;34m\u001b[0m\u001b[0m\n\u001b[1;32m      4\u001b[0m     \u001b[0;31m# Drop the first column and convert the spark df into a pandas df\u001b[0m\u001b[0;34m\u001b[0m\u001b[0;34m\u001b[0m\u001b[0;34m\u001b[0m\u001b[0m\n\u001b[1;32m      5\u001b[0m     \u001b[0mcontingency_df\u001b[0m \u001b[0;34m=\u001b[0m \u001b[0mcontingency_table\u001b[0m\u001b[0;34m.\u001b[0m\u001b[0mdrop\u001b[0m\u001b[0;34m(\u001b[0m\u001b[0mcolumn\u001b[0m\u001b[0;34m+\u001b[0m\u001b[0;34m'_val_churn_2_months'\u001b[0m\u001b[0;34m)\u001b[0m\u001b[0;34m\u001b[0m\u001b[0;34m\u001b[0m\u001b[0m\n",
      "\u001b[0;32m/data/cloudera/parcels/CDH-6.2.1-1.cdh6.2.1.p0.1425774/lib/spark/python/lib/pyspark.zip/pyspark/sql/dataframe.py\u001b[0m in \u001b[0;36mselect\u001b[0;34m(self, *cols)\u001b[0m\n\u001b[1;32m   1318\u001b[0m         \u001b[0;34m[\u001b[0m\u001b[0mRow\u001b[0m\u001b[0;34m(\u001b[0m\u001b[0mname\u001b[0m\u001b[0;34m=\u001b[0m\u001b[0;34mu'Alice'\u001b[0m\u001b[0;34m,\u001b[0m \u001b[0mage\u001b[0m\u001b[0;34m=\u001b[0m\u001b[0;36m12\u001b[0m\u001b[0;34m)\u001b[0m\u001b[0;34m,\u001b[0m \u001b[0mRow\u001b[0m\u001b[0;34m(\u001b[0m\u001b[0mname\u001b[0m\u001b[0;34m=\u001b[0m\u001b[0;34mu'Bob'\u001b[0m\u001b[0;34m,\u001b[0m \u001b[0mage\u001b[0m\u001b[0;34m=\u001b[0m\u001b[0;36m15\u001b[0m\u001b[0;34m)\u001b[0m\u001b[0;34m]\u001b[0m\u001b[0;34m\u001b[0m\u001b[0;34m\u001b[0m\u001b[0m\n\u001b[1;32m   1319\u001b[0m         \"\"\"\n\u001b[0;32m-> 1320\u001b[0;31m         \u001b[0mjdf\u001b[0m \u001b[0;34m=\u001b[0m \u001b[0mself\u001b[0m\u001b[0;34m.\u001b[0m\u001b[0m_jdf\u001b[0m\u001b[0;34m.\u001b[0m\u001b[0mselect\u001b[0m\u001b[0;34m(\u001b[0m\u001b[0mself\u001b[0m\u001b[0;34m.\u001b[0m\u001b[0m_jcols\u001b[0m\u001b[0;34m(\u001b[0m\u001b[0;34m*\u001b[0m\u001b[0mcols\u001b[0m\u001b[0;34m)\u001b[0m\u001b[0;34m)\u001b[0m\u001b[0;34m\u001b[0m\u001b[0;34m\u001b[0m\u001b[0m\n\u001b[0m\u001b[1;32m   1321\u001b[0m         \u001b[0;32mreturn\u001b[0m \u001b[0mDataFrame\u001b[0m\u001b[0;34m(\u001b[0m\u001b[0mjdf\u001b[0m\u001b[0;34m,\u001b[0m \u001b[0mself\u001b[0m\u001b[0;34m.\u001b[0m\u001b[0msql_ctx\u001b[0m\u001b[0;34m)\u001b[0m\u001b[0;34m\u001b[0m\u001b[0;34m\u001b[0m\u001b[0m\n\u001b[1;32m   1322\u001b[0m \u001b[0;34m\u001b[0m\u001b[0m\n",
      "\u001b[0;32m/data/cloudera/parcels/CDH-6.2.1-1.cdh6.2.1.p0.1425774/lib/spark/python/lib/py4j-0.10.7-src.zip/py4j/java_gateway.py\u001b[0m in \u001b[0;36m__call__\u001b[0;34m(self, *args)\u001b[0m\n\u001b[1;32m   1255\u001b[0m         \u001b[0manswer\u001b[0m \u001b[0;34m=\u001b[0m \u001b[0mself\u001b[0m\u001b[0;34m.\u001b[0m\u001b[0mgateway_client\u001b[0m\u001b[0;34m.\u001b[0m\u001b[0msend_command\u001b[0m\u001b[0;34m(\u001b[0m\u001b[0mcommand\u001b[0m\u001b[0;34m)\u001b[0m\u001b[0;34m\u001b[0m\u001b[0;34m\u001b[0m\u001b[0m\n\u001b[1;32m   1256\u001b[0m         return_value = get_return_value(\n\u001b[0;32m-> 1257\u001b[0;31m             answer, self.gateway_client, self.target_id, self.name)\n\u001b[0m\u001b[1;32m   1258\u001b[0m \u001b[0;34m\u001b[0m\u001b[0m\n\u001b[1;32m   1259\u001b[0m         \u001b[0;32mfor\u001b[0m \u001b[0mtemp_arg\u001b[0m \u001b[0;32min\u001b[0m \u001b[0mtemp_args\u001b[0m\u001b[0;34m:\u001b[0m\u001b[0;34m\u001b[0m\u001b[0;34m\u001b[0m\u001b[0m\n",
      "\u001b[0;32m/data/cloudera/parcels/CDH-6.2.1-1.cdh6.2.1.p0.1425774/lib/spark/python/lib/pyspark.zip/pyspark/sql/utils.py\u001b[0m in \u001b[0;36mdeco\u001b[0;34m(*a, **kw)\u001b[0m\n\u001b[1;32m     67\u001b[0m                                              e.java_exception.getStackTrace()))\n\u001b[1;32m     68\u001b[0m             \u001b[0;32mif\u001b[0m \u001b[0ms\u001b[0m\u001b[0;34m.\u001b[0m\u001b[0mstartswith\u001b[0m\u001b[0;34m(\u001b[0m\u001b[0;34m'org.apache.spark.sql.AnalysisException: '\u001b[0m\u001b[0;34m)\u001b[0m\u001b[0;34m:\u001b[0m\u001b[0;34m\u001b[0m\u001b[0;34m\u001b[0m\u001b[0m\n\u001b[0;32m---> 69\u001b[0;31m                 \u001b[0;32mraise\u001b[0m \u001b[0mAnalysisException\u001b[0m\u001b[0;34m(\u001b[0m\u001b[0ms\u001b[0m\u001b[0;34m.\u001b[0m\u001b[0msplit\u001b[0m\u001b[0;34m(\u001b[0m\u001b[0;34m': '\u001b[0m\u001b[0;34m,\u001b[0m \u001b[0;36m1\u001b[0m\u001b[0;34m)\u001b[0m\u001b[0;34m[\u001b[0m\u001b[0;36m1\u001b[0m\u001b[0;34m]\u001b[0m\u001b[0;34m,\u001b[0m \u001b[0mstackTrace\u001b[0m\u001b[0;34m)\u001b[0m\u001b[0;34m\u001b[0m\u001b[0;34m\u001b[0m\u001b[0m\n\u001b[0m\u001b[1;32m     70\u001b[0m             \u001b[0;32mif\u001b[0m \u001b[0ms\u001b[0m\u001b[0;34m.\u001b[0m\u001b[0mstartswith\u001b[0m\u001b[0;34m(\u001b[0m\u001b[0;34m'org.apache.spark.sql.catalyst.analysis'\u001b[0m\u001b[0;34m)\u001b[0m\u001b[0;34m:\u001b[0m\u001b[0;34m\u001b[0m\u001b[0;34m\u001b[0m\u001b[0m\n\u001b[1;32m     71\u001b[0m                 \u001b[0;32mraise\u001b[0m \u001b[0mAnalysisException\u001b[0m\u001b[0;34m(\u001b[0m\u001b[0ms\u001b[0m\u001b[0;34m.\u001b[0m\u001b[0msplit\u001b[0m\u001b[0;34m(\u001b[0m\u001b[0;34m': '\u001b[0m\u001b[0;34m,\u001b[0m \u001b[0;36m1\u001b[0m\u001b[0;34m)\u001b[0m\u001b[0;34m[\u001b[0m\u001b[0;36m1\u001b[0m\u001b[0;34m]\u001b[0m\u001b[0;34m,\u001b[0m \u001b[0mstackTrace\u001b[0m\u001b[0;34m)\u001b[0m\u001b[0;34m\u001b[0m\u001b[0;34m\u001b[0m\u001b[0m\n",
      "\u001b[0;31mAnalysisException\u001b[0m: \"cannot resolve '`cdc_power_gas`' given input columns: [qta_days_since_last_inbound_contact_macrocausale_Reclami_vendita_Privacy, fln_distributore_energia_big, fln_rinnovo_last_1_months_tipologia_ADEGUAMENTO, fln_venditore_mercato_libero_gas_big, val_totale_pagare_x_mean_ciclo_ele_last_3_months, val_consumi_x_max_ciclo_ele_last_6_months, qta_cnt_fln_contatti_inbound_autolet_m12, qta_days_since_last_inbound_contact_microcausale_REPEATED_LIST, val_importo_addebito_x_sum_ciclo_ele_last_6_months, qta_cnt_attivita_pagamenti_metodi_pagamento_last_3_months, val_consumi_x_mean_ciclo_ele_last_1_months, val_importo_addebito_x_min_ciclo_gas_last_1_months, val_importo_addebito_x_max_ciclo_ele_last_3_months, val_pop_res_totale_che_si_sposta_giornalmente_nel_comune_dimora_abituale, qta_days_since_last_inbound_contact_macrocausale_Chiarimenti_su_fatture, val_totale_pagare_x_sum_ciclo_ele_last_3_months, qta_days_since_last_inbound_contact_microcausale_COPIA_DOCUMENTAZIONI, cdc_cap_nrm, qta_cnt_diffide_livello_02_cli, val_mean_fattura_pagata_totalmente_in_ritardo_servizio_last_6_months_canale_ALL, qta_cnt_campagne_mktg_tipo_azione_campagna_PROMOZIONE_last_3_months, val_consumi_x_min_ciclo_gas_last_3_months, val_consumi_x_min_ciclo_gas_last_6_months, qta_numero_fattura_count_ciclo_last_9_months, qta_numero_fattura_count_ciclo_last_3_months, val_pop_res_totale, qta_cnt_microcausale_PIANO_DI_RIENTRO_last_90_days, qta_cnt_mds_tipologia_attivita_gestione_clienti_m3, qta_cnt_mds_specifica_adesione_m6, qta_cnt_fln_contatti_inbound_m9, fln_venditore_mercato_libero_gas_comune_EOn, qta_cnt_attivita_dl_piano_casa_last_3_months, val_totale_pagare_x_mean_ciclo_gas_last_1_months, fln_distributore_gas_comune_Dolomiti_Energia, qta_cnt_fln_contatti_inbound_m6, fln_venditore_mercato_libero_gas_enel, val_totale_pagare_x_max_ciclo_ele_last_6_months, val_consumi_x_max_over_mean_ciclo_ele_last_3_months, qta_cnt_attivita_telefonate_gestione_credito_last_3_months, fln_distributore_gas_comune_EDISON, qta_cnt_fln_contatti_inbound_autolet_m9, fln_venditore_mercato_libero_gas_comune_AIMAG, qta_cnt_fln_chiamate_inbound_m1, val_paga_ritardo_min_ciclo_last_1_months, fln_cliente_response_positiva_last_3_months, val_consumi_x_min_ciclo_ele_last_1_months, qta_cnt_riallaccio_last_2_months, val_perc_Famiglie_4_Componente, val_pop_res_totale_che_si_sposta_giornalmente_fuori_dal_comune_dimora_abituale, val_paga_ritardo_min_ciclo_last_6_months, fln_fattura_pagata_totalmente_in_ritardo_servizio_ultima_bolletta_emessa_canale_ALL, qta_cnt_solleciti_livello_01_cli, qta_cnt_campagne_mktg_orientamento_OUTBOUND_last_3_months, val_totale_pagare_x_last_ciclo, val_Cliente_con_comunicazione_swp_storico_last_3_months, qta_cnt_mds_specifica_disdetta_m12, val_consumi_x_max_over_mean_ciclo_gas_last_1_months, val_totale_pagare_x_max_over_mean_ciclo_ele_last_3_months, fln_distributore_gas_comune_Italgas, val_importo_addebito_x_max_over_mean_ciclo_gas_last_1_months, qta_cnt_sollecito_procedura_M0_cli, fln_venditore_mercato_libero_ele_comune_Gas_Rimini, val_importo_addebito_x_sum_ciclo_ele_last_1_months, qta_cnt_mds_specifica_adesione_m1, val_max_val_fattura_non_pagato_servizio_last_3_months_canale_ALL, qta_cnt_fattura_pagata_non_totalmente_servizio_last_6_months_canale_ALL, qta_cnt_contatti_outbound_all_channel_m1, qta_cnt_fln_contatti_inbound_reclamo_m1, qta_cnt_macrocausale_Reclami_vendita_Privacy_last_90_days, qta_cnt_microcausale_DISDETTE_E_CESSAZIONI_last_90_days, sds_mat_fornitura, fln_distributore_gas_big, qta_cnt_mds_tipologia_attivita_gestione_credito_m6, fln_multi_venditori_mercato_libero_gas_comune, qta_days_since_last_inbound_contact_microcausale_RVC, qta_mesi_bw, qta_eta_nrm, fln_venditore_mercato_libero_ele_comune_ENEL, qta_paga_ritardo_ciclo_last_3_months, qta_cnt_microcausale_VERIFICHE_TECNICHE_last_90_days, fln_fattura_pagata_non_totalmente_servizio_ultima_bolletta_emessa_canale_ALL, val_importo_addebito_x_max_ciclo_ele_last_1_months, val_totale_pagare_x_min_over_mean_ciclo_gas_last_1_months, xds_tipo_azione_campagna_last_response_marketing_cli, val_Superficie_territoriale, val_delta_prezzo_ele_last_1_months, fln_venditore_mercato_libero_ele_only_small, val_totale_pagare_x_min_over_mean_ciclo_ele_last_1_months, val_Cliente_con_servizio_cessato, fln_rinnovo_last_1_months, fln_venditore_mercato_libero_ele_comune_Dolomiti_Energia, qta_cnt_fattura_pagata_totalmente_nei_tempi_servizio_last_6_months_canale_ALL, fln_rischio_Baby_Churn, fln_scarti_sdd_rid_last_1_months, fln_fattura_non_pagata_servizio_ultima_bolletta_emessa_canale_ALL, fln_cliente_con_response_marketing_utile_last_3_months, sds_provincia_fatturazione, qta_cnt_microcausale_COPIA_DOCUMENTAZIONI_last_90_days, qta_days_since_last_inbound_contact_microcausale_GESTIONE_PRIVACY, qta_cnt_sollecito_procedura_M1_cli, val_importo_addebito_x_max_over_mean_ciclo_ele_last_6_months, qta_cnt_canale_WEB_last_90_days, val_delta_prezzo_gas_last_1_months, val_totale_pagare_last_diffida_cli, val_totale_pagare_x_min_over_mean_ciclo_ele_last_6_months, qta_days_since_last_inbound_contact_channel_CHAT, qta_days_since_last_inbound_contact_macrocausale_Causale_non_definita, val_consumi_x_mean_ciclo_gas_last_6_months, val_perc_Famiglie_5_Componente, qta_days_since_last_inbound_contact_macrocausale_Problemi_in_fase_di_attivazione, val_consumi_x_min_over_mean_ciclo_ele_last_3_months, fln_scarti_sempre_sap_last_1_months, qta_cnt_flag_response_competitor_last_3_months, fln_cliente_response_negativa_last_3_months, qta_cnt_canale_FACE_last_90_days, qta_cnt_campagne_mktg_tipologia_azione_LOYALTY_last_3_months, val_consumi_x_min_ciclo_gas_last_1_months, qta_cnt_cliente_response_negativa_last_3_months, val_delta_prezzo_percentuale_ele_last_1_months, qta_Grado_di_urbanizzazione, val_importo_addebito_x_sum_ciclo_gas_last_1_months, cdc_Comune_Montano, val_consumi_x_max_ciclo_ele_last_1_months, fln_distributore_energia_comune_municipalizzata, val_consumi_x_min_over_mean_ciclo_gas_last_3_months, val_importo_addebito_x_mean_ciclo_ele_last_1_months, qta_days_since_last_inbound_contact_macrocausale_Chiarimento_su_offerta, val_importo_addebito_x_max_ciclo_ele_last_6_months, qta_cnt_microcausale_VOLTURA_last_90_days, cdc_cluster_fattura_last, fln_prima_meta, qta_days_scadenza_fattura_pagamento_servizio_ultima_bolletta_emessa_canale_ALL, qta_cnt_fln_chiamate_inbound_m3, lds_comune_fornitura, val_totale_pagare_x_max_ciclo_gas_last_1_months, qta_cnt_attivita_fattura_mancata_ritardata_last_3_months, val_importo_addebito_x_min_ciclo_gas_last_6_months, qta_cnt_fln_contatti_inbound_guasti_m9, val_fattura_servizio_ultima_bolletta_emessa_canale_ALL, qta_days_since_last_inbound_contact_macrocausale_Informativa, val_consumi_x_min_ciclo_ele_last_3_months, qta_cnt_diffida_procedura_M2_cli, qta_cnt_mds_tipologia_attivita_other_m9, qta_cnt_mds_specifica_other_m9, val_consumi_x_max_over_mean_ciclo_ele_last_1_months, val_consumi_x_sum_ciclo_gas_last_3_months, fln_multi_venditori_mercato_libero_ele_comune, val_consumi_x_max_over_mean_ciclo_ele_last_6_months, qta_cnt_macrocausale_Chiarimento_su_offerta_last_90_days, val_paga_ritardo_min_ciclo_last_3_months, fln_cell_m0_mono_flag, qta_days_since_last_inbound_contact, val_totale_pagare_x_max_over_mean_ciclo_gas_last_1_months, qta_cnt_fln_chiamate_inbound_m6, qta_cnt_mds_tipologia_attivita_gestione_comunicazioni_m3, val_Idx_Commercio, fln_rischio_Pre_Rinnovo, qta_cnt_macrocausale_Ritardata_esecuzione_subentri_volture_cessazioni_etc_last_90_days, qta_cnt_mds_tipologia_attivita_gestione_pagamenti_m1, qta_cnt_microcausale_LAVORI_E_MODIFICHE_TECNICHE_POTENZA_TENSIONE_last_90_days, qta_cnt_comuni_serviti_distributore_gas, qta_cnt_attivita_recesso_suggello_voltura_mancata_ritardata_last_3_months, mds_tipologia_pagamento, val_Lavoratori, val_totale_pagare_last_sollecito_cli, val_consumi_x_max_ciclo_ele_last_3_months, fln_rinnovo_last_1_months_tipologia_RVC, fln_venditore_mercato_libero_gas_comune_HERA, fln_venditore_mercato_libero_ele_comune_IREN, qta_cnt_mds_tipologia_attivita_gestione_comunicazioni_m9, fln_distributore_gas_comune_2i_Rete_Gas_SpA, qta_cnt_mds_tipologia_attivita_gestione_credito_m3, qta_cnt_attivita_reclamo_last_3_months, fln_venditore_mercato_libero_ele_comune_Gruppo_Canarbino, qta_cnt_canale_TELEFONICO_last_90_days, val_consumi_x_max_over_mean_ciclo_gas_last_3_months, qta_cnt_canale_APP_last_90_days, qta_cnt_attivita_credito_last_3_months, val_POT_GAS_NETTO, qta_numero_fattura_count_ciclo_last_6_months, fln_venditore_mercato_libero_ele_big, sds_segmento_organizzativo_cliente, qta_cnt_mds_tipologia_attivita_gestione_consumi_m12, qta_numero_fattura_count_ciclo_last_12_months, qta_cnt_mds_tipologia_attivita_other_m12, val_paga_ritardo_sum_ciclo_last_1_months, val_consumi_x_sum_ciclo_gas_last_1_months, qta_cnt_mds_tipologia_attivita_gestione_bolletta_m12, qta_cnt_mds_tipologia_attivita_gestione_consumi_m3, val_paga_ritardo_mean_ciclo_last_1_months, fln_comunicazione_rinnovo_last_1_months_sottocanale_FATTURA, qta_cnt_attivita_blacklist_last_3_months, qta_cnt_fln_contatti_inbound_m3, fln_venditore_mercato_libero_gas_comune_EDISON, cdc_win_back_m3, qta_cnt_mds_tipologia_attivita_gestione_consumi_m1, val_totale_pagare_x_min_over_mean_ciclo_gas_last_3_months, qta_cnt_attivita_dati_catastali_last_3_months, cdc_Codice_Regione, val_consumi_x_sum_ciclo_ele_last_6_months, fln_venditore_mercato_libero_gas_comune_Acea, val_totale_pagare_x_mean_ciclo_gas_last_3_months, fln_fattura_non_pagata_servizio_last_6_months_canale_ALL, val_importo_addebito_x_mean_ciclo_gas_last_3_months, val_perc_Famiglie_Alloggio_Affitto, val_perc_Famiglie_2_Componente, fln_venditore_mercato_libero_gas_comune_ENEGAN, mds_sottocanale, val_importo_addebito_x_max_ciclo_gas_last_6_months, qta_cnt_attivita_invio_WL_pesante_last_3_months, qta_cnt_attivita_lavori_rete_last_3_months, qta_days_since_last_inbound_contact_macrocausale_Ritardata_esecuzione_subentri_volture_cessazioni_etc, fln_venditore_mercato_libero_gas_comune_ENI, val_mean_days_emissione_fattura_pagamento_servizio_last_6_months_canale_ALL, qta_cnt_distributori_energia_comune, qta_cnt_fln_contatti_inbound_reclamo_m6, val_totale_pagare_x_max_over_mean_ciclo_ele_last_1_months, qta_days_since_last_inbound_contact_microcausale_PIANO_DI_RIENTRO, val_totale_pagare_x_min_over_mean_ciclo_gas_last_6_months, qta_cnt_fln_chiamate_inbound_m9, fln_criticita_cross_last_90_days, sds_regione, val_Cliente_con_comunicazione_swp_storico, lds_prodotto_listino_2, fln_venditore_mercato_libero_ele_comune_ENGIE, fln_venditore_mercato_libero_gas_comune_Gas_Rimini, val_importo_addebito_x_last_ciclo, qta_cnt_competitor_forti_enel_venditore_mercato_libero_gas, qta_max_days_scadenza_fattura_pagamento_servizio_last_3_months_canale_ALL, val_importo_addebito_x_max_ciclo_gas_last_3_months, qta_cnt_mds_specifica_disdetta_m3, qta_cnt_fln_contatti_inbound_m1, qta_cnt_microcausale_SUBENTRO_last_90_days, val_consumi_x_mean_ciclo_ele_last_6_months, qta_cnt_attivita_posta_documenti_last_3_months, val_churn_2_months, fln_criticita_infra_last_90_days, fln_venditore_mercato_libero_gas_comune_A2A, fln_sollecito_last_2_months_cli, val_importo_addebito_x_max_over_mean_ciclo_ele_last_1_months, qta_cnt_mds_specifica_other_m1, qta_cnt_microcausale_DISTACCHI_RIALLACCI_last_90_days, val_perc_Abitazioni_Vuote, qta_cnt_fln_contatti_inbound_reclamo_m9, cdc_cv_fasce_servizio, val_Negozi_Compr_Mean, qta_cnt_mds_tipologia_attivita_gestione_pagamenti_m9, qta_cnt_contatti_outbound_all_channel_m12, val_perc_Famiglie_3_Componente, val_totale_pagare_x_max_ciclo_gas_last_3_months, sds_cluster_ele, val_pop_res_totale_15_anni_e_piu_casalinghe, qta_days_since_last_inbound_contact_microcausale_INFORMATIVA, val_Cliente_con_servizio_cessato_last_3_months, qta_cnt_attivita_comunicazione_SWP_last_3_months, qta_days_since_last_inbound_contact_microcausale_INFORMATIVA_CONSUMI_PAGAMENTI, val_consumi_x_min_over_mean_ciclo_ele_last_1_months, fln_venditore_mercato_libero_ele_comune_HERA, qta_cnt_canale_DOCUMENTALE_COMPLESSO_last_90_days, qta_cnt_attivita_autoletture_last_3_months, qta_numero_fattura_count_ciclo_last_1_months, qta_days_since_last_inbound_contact_channel_DOCUMENTALE_COMPLESSO, val_consumi_x_mean_ciclo_gas_last_1_months, qta_days_since_last_inbound_contact_microcausale_RECLAMI_SCRITTI, val_mean_val_fattura_non_pagato_servizio_last_6_months_canale_ALL, cdc_causale_attivazione, qta_cnt_contatti_inbound_all_channel_m3, val_reddito_disponibile, qta_cnt_mds_specifica_other_m3, qta_cnt_microcausale_GESTIONE_VAS_last_90_days, cdc_tenure_bucket, val_totale_pagare_x_last, qta_cnt_microcausale_INFORMATIVA_NON_DI_COMPETENZA_last_90_days, qta_cnt_mail_di_sollecito_cli, qta_cnt_campagne_mktg_canale_GMC_last_3_months, val_mean_days_emissione_fattura_pagamento_servizio_last_3_months_canale_ALL, qta_cnt_mds_tipologia_attivita_gestione_documenti_m1, val_totale_pagare_x_sum_ciclo_gas_last_1_months, qta_cnt_fattura_pagata_totalmente_in_ritardo_servizio_last_6_months_canale_ALL, fln_distributore_gas_comune_A2A, qta_cnt_mds_tipologia_attivita_gestione_bolletta_m1, qta_cnt_mds_specifica_disdetta_m6, fln_multi_distributore_energia_comune, fln_multi_distributore_gas_comune, cdc_id_mercato, qta_cnt_attivita_allaccio_servizi_last_3_months, qta_cnt_comuni_serviti_distributore_energia, fln_fattura_pagata_totalmente_nei_tempi_servizio_ultima_bolletta_emessa_canale_ALL, val_mean_val_fattura_non_pagato_servizio_last_3_months_canale_ALL, val_importo_addebito_x_min_ciclo_ele_last_6_months, val_perc_Abitazioni_Residenti, val_incasso_servizio_ultima_bolletta_emessa_canale_ALL, fln_servizio_attualmente_distaccato, val_importo_addebito_x_min_ciclo_ele_last_1_months, val_consumi_x_mean_ciclo_ele_last_3_months, qta_cnt_mds_specifica_disdetta_m1, qta_cnt_microcausale_RVC_last_90_days, val_studenti, qta_cnt_attivita_richiesta_informazioni_last_3_months, val_QUOTA_LIBERO, qta_cnt_mds_tipologia_attivita_gestione_comunicazioni_m6, qta_cnt_mds_tipologia_attivita_gestione_comunicazioni_m1, qta_anzianita_servizio, mds_nome_campagna_last_response_marketing_cli, qta_cnt_macrocausale_Esecuzione_lavori_last_90_days, qta_cnt_mds_specifica_visualizzazione_area_clienti_m3, val_Turisti_totali, qta_cnt_sms_cli, val_totale_pagare_x_min_ciclo_ele_last_1_months, val_consumi_x_min_over_mean_ciclo_gas_last_6_months, fln_fattura_pagata_totalmente_in_ritardo_servizio_last_6_months_canale_ALL, fln_venditore_mercato_libero_gas_only_small, qta_giorni_ultimo_reclamo, val_paga_ritardo_max_ciclo_last_3_months, val_consumi_x_max_ciclo_gas_last_6_months, fln_fattura_pagata_non_totalmente_servizio_last_6_months_canale_ALL, qta_cnt_microcausale_INFORMATIVA_last_90_days, qta_cnt_mds_tipologia_attivita_gestione_clienti_m1, qta_cnt_cliente_accetta_proposta_last_3_months, qta_cnt_cliente_response_positiva_last_3_months, qta_cnt_microcausale_PRIMA_ATTIVAZIONE_last_90_days, qta_days_since_last_inbound_contact_microcausale_INFORMATIVA_CREDITO, qta_cnt_microcausale_INFORMATIVA_CONSUMI_PAGAMENTI_last_90_days, fln_distributore_energia_comune_HERA, fln_primo_contatto_inbound, qta_cnt_attivita_processi_richieste_suggello_recesso_voltura_last_3_months, qta_cnt_mds_specifica_other_m12, val_importo_addebito_x_max_over_mean_ciclo_gas_last_6_months, qta_cnt_mds_tipologia_attivita_gestione_clienti_m12, val_totale_pagare_x_mean_ciclo_ele_last_6_months, qta_days_since_last_inbound_contact_microcausale_PRIMA_ATTIVAZIONE, val_pop_res_totale_15_anni_e_piu_non_appartenente_alle_forze_di_lavoro_nfl, fln_venditore_mercato_libero_gas_comune_Alperia, qta_cnt_fln_contatti_inbound_m12, qta_cnt_mds_tipologia_attivita_gestione_pagamenti_m12, val_totale_pagare_x_sum_ciclo_ele_last_6_months, qta_days_since_last_inbound_contact_microcausale_GESTIONE_FORNITURA, fln_venditore_mercato_libero_ele_comune_Acea, val_Sh_ENEL_POWER, qta_cnt_mds_specifica_adesione_m9, val_totale_pagare_x_last_over_mean, fln_venditore_mercato_libero_ele_comune_ENEGAN, qta_servizi_gas, qta_cnt_mds_specifica_visualizzazione_area_clienti_m9, lds_tipo_uso, val_consumi_x_min_over_mean_ciclo_gas_last_1_months, qta_days_since_last_inbound_contact_microcausale_GESTIONE_VAS, qta_days_since_last_inbound_contact_microcausale_VOLTURA, cdc_residente, val_consumi_x_max_ciclo_gas_last_3_months, qta_paga_ritardo_ciclo_last_1_months, xds_tipologia_azione_last_response_marketing_cli, val_perc_Abitazioni_Non_Residenti, val_totale_pagare_x_max_ciclo_ele_last_3_months, qta_paga_ritardo_ciclo_last_6_months, fln_distributore_energia_comune_Alperia, val_mean_fattura_pagata_totalmente_nei_tempi_servizio_last_6_months_canale_ALL, fln_distributore_energia_comune_Acea, val_perc_Famiglie_Alloggio_Altro, qta_days_last_response_marketing_cli, fln_venditore_mercato_libero_gas_comune_ENGIE, val_paga_ritardo_mean_ciclo_last_6_months, val_Cliente_con_comunicazione_swp_storico_last_6_months, fln_distributore_gas_comune_IREN, val_importo_addebito_x_min_over_mean_ciclo_gas_last_6_months, val_totale_pagare_x_min_ciclo_gas_last_3_months, qta_cnt_mds_tipologia_attivita_gestione_bolletta_m9, val_Negozi_Loc_Mean, qta_cnt_microcausale_AUTOLETTURA_last_90_days, qta_days_since_last_inbound_contact_channel_WEB, qta_cnt_fln_contatti_inbound_guasti_m1, val_perc_Famiglie_1_Componente, val_consumi_famiglie, qta_days_since_last_inbound_contact_microcausale_SUBENTRO, val_paga_ritardo_max_ciclo_last_1_months, fln_stesso_venditore_distributore_ele_no_enel, val_mean_fattura_non_pagata_servizio_last_6_months_canale_ALL, fln_venditore_mercato_libero_gas_comune_EVOLVE_SRL, qta_cnt_mds_tipologia_attivita_gestione_notifiche_m6, qta_cnt_fln_contatti_inbound_reclamo_m12, qta_cnt_mds_tipologia_attivita_gestione_documenti_m9, qta_cnt_mds_tipologia_attivita_gestione_consumi_m6, qta_cnt_fattura_pagata_totalmente_in_ritardo_servizio_last_3_months_canale_ALL, qta_cnt_fln_contatti_inbound_guasti_m3, qta_days_since_last_inbound_contact_microcausale_SWITCH_ATTIVO, qta_cnt_attivita_contratti_last_3_months, cdn_cv2_cliente, fln_player_forte_win_back, qta_cnt_attivita_ricezione_invio_documentazione_last_3_months, qta_cnt_fattura_pagata_totalmente_nei_tempi_servizio_last_3_months_canale_ALL, val_paga_ritardo_sum_ciclo_last_6_months, qta_cnt_mds_specifica_adesione_m12, val_Sh_ENEL_GAS, val_totale_pagare_x_sum_ciclo_gas_last_3_months, fln_diffida_last_2_months_serv, qta_cnt_mds_tipologia_attivita_other_m1, qta_cnt_mds_tipologia_attivita_gestione_credito_m9, qta_cnt_mds_tipologia_attivita_gestione_comunicazioni_m12, qta_cnt_mds_tipologia_attivita_gestione_bolletta_m3, qta_cnt_macrocausale_Informativa_last_90_days, val_Residenti, qta_cnt_fln_contatti_inbound_autolet_m3, qta_cnt_campagne_mktg_canale_DEM_last_3_months, sds_regione_fornitura, qta_cnt_attivita_secondo_livello_last_3_months, qta_days_since_last_inbound_contact_macrocausale_Credito, sds_provincia_fornitura, qta_cnt_microcausale_INFORMATIVA_CREDITO_last_90_days, val_perc_Famiglie_Alloggio_Proprieta, fln_venditore_mercato_libero_gas_comune_Green_Network, qta_cnt_mds_specifica_disdetta_m9, qta_cnt_mds_tipologia_attivita_gestione_credito_m12, val_perc_Famiglie_6+_Componente, val_fattura_non_pagato_servizio_ultima_bolletta_emessa_canale_ALL, qta_cnt_cliente_con_response_marketing_utile_last_3_months, val_mean_fattura_pagata_totalmente_nei_tempi_servizio_last_3_months_canale_ALL, val_totale_istruzione_pesata, val_importo_addebito_x_max_ciclo_gas_last_1_months, qta_max_days_emissione_fattura_pagamento_servizio_last_6_months_canale_ALL, fln_distributore_gas_comune_Alperia, fln_stesso_distributore_gas_ele, cdc_stato_servizio_calc, qta_cnt_diffida_cartacea_cli, val_importo_addebito_x_last, qta_cnt_attivita_gestione_clienti_last_3_months, qta_cnt_microcausale_GESTIONE_FORNITURA_last_90_days, qta_cnt_diffida_procedura_M4_cli, qta_days_since_last_inbound_contact_microcausale_MODALITA_DI_PAGAMENTO, val_importo_addebito_x_mean_ciclo_gas_last_1_months, val_mean_days_scadenza_fattura_pagamento_servizio_last_3_months_canale_ALL, qta_cnt_mds_specifica_visualizzazione_area_clienti_m6, fln_stesso_venditore_distributore_ele, qta_days_since_last_inbound_contact_channel_FACE, qta_cnt_attivita_sollecito_last_3_months, fln_servizio_distaccato_e_riallacciato, fln_stesso_venditore_distributore_gas, val_potenza_contrattuale, qta_days_since_last_inbound_contact_microcausale_RETTIFICHE_CONSUMI_FATTURAZIONE, sds_segmento_fasce, qta_days_since_last_inbound_contact_microcausale_INFORMATIVA_NON_DI_COMPETENZA, qta_cnt_mds_specifica_visualizzazione_area_clienti_m1, val_POT_TOTALE, qta_servizi_elettrici, qta_cnt_attivita_morosita_last_3_months, val_importo_addebito_x_sum_ciclo_ele_last_3_months, qta_cnt_macrocausale_Chiarimenti_su_fatture_last_90_days, qta_indice_contattosita_ult_30gg, sds_mat_fatturazione, val_POT_TOTALE_NETTO, qta_days_since_last_inbound_contact_microcausale_DISDETTE_E_CESSAZIONI, val_importo_addebito_x_min_ciclo_gas_last_3_months, fln_scarti_trasporto_last_1_months, val_importo_addebito_x_max_over_mean_ciclo_ele_last_3_months, qta_cnt_attivita_vocal_last_3_months, val_importo_addebito_x_mean_ciclo_gas_last_6_months, qta_cnt_microcausale_REPEATED_LIST_last_90_days, val_importo_addebito_x_min_over_mean_ciclo_ele_last_1_months, qta_cnt_venditori_mercato_libero_gas_comune, qta_cnt_attivita_ripensamento_last_3_months, val_importo_addebito_x_mean_ciclo_ele_last_6_months, val_importo_addebito_x_min_over_mean_ciclo_ele_last_3_months, qta_frequenza_contatto, qta_days_since_last_inbound_contact_microcausale_MODIFICA_ANAGRAFICA_O_DATI_FORNITURA_FATTURAZIONE, sds_cluster_gas, cdc_istat, qta_cnt_attivita_modifiche_variazioni_last_3_months, val_totale_pagare_x_mean_ciclo_gas_last_6_months, qta_days_since_last_inbound_contact_microcausale_LAVORI_E_MODIFICHE_TECNICHE_POTENZA_TENSIONE, qta_cnt_fln_contatti_inbound_autolet_m6, val_perc_Altri_Tipi_Alloggio, fln_venditore_mercato_libero_ele_comune_sorgenia, qta_cnt_mds_tipologia_attivita_gestione_bolletta_m6, fln_comunicazione_rinnovo_last_1_months, qta_days_emissione_fattura_pagamento_servizio_ultima_bolletta_emessa_canale_ALL, val_Cliente_con_comunicazione_swp_storico_last_1_months, qta_cnt_fattura_pagata_non_totalmente_servizio_last_3_months_canale_ALL, val_totale_pagare_x_min_over_mean_ciclo_ele_last_3_months, val_mean_days_scadenza_fattura_pagamento_servizio_last_6_months_canale_ALL, fln_distributore_energia_comune_Dolomiti_Energia, fln_venditore_mercato_libero_ele_comune_A2A, qta_cnt_mds_specifica_visualizzazione_area_clienti_m12, val_totale_pagare_x_max_over_mean_ciclo_gas_last_3_months, qta_cnt_attivita_vas_last_3_months, qta_cnt_competitor_forti_enel_venditore_mercato_libero_ele, fln_distributore_gas_comune_HERA, qta_cnt_fln_contatti_inbound_guasti_m12, qta_cnt_fattura_non_pagata_servizio_last_6_months_canale_ALL, fln_player_forte, qta_cnt_attivita_bye_bye_letter_last_3_months, qta_cnt_contatti_outbound_all_channel_m3, qta_cnt_microcausale_MODALITA_DI_PAGAMENTO_last_90_days, fln_venditore_mercato_libero_ele_enel, val_fascia_stress, val_mean_fattura_pagata_totalmente_in_ritardo_servizio_last_3_months_canale_ALL, val_totale_pagare_x_min_ciclo_ele_last_6_months, qta_cnt_mds_tipologia_attivita_gestione_clienti_m6, qta_cnt_microcausale_MODIFICA_ANAGRAFICA_O_DATI_FORNITURA_FATTURAZIONE_last_90_days, val_Altitudine_del_centro, val_importo_addebito_x_max_over_mean_ciclo_gas_last_3_months, val_consumi_x_sum_ciclo_ele_last_3_months, val_importo_addebito_x_min_over_mean_ciclo_gas_last_1_months, qta_cnt_mds_tipologia_attivita_gestione_pagamenti_m6, val_consumi_x_mean_ciclo_gas_last_3_months, qta_cnt_mds_tipologia_attivita_gestione_clienti_m9, xds_canale_last_response_marketing_cli, qta_cnt_contatti_inbound_all_channel_m6, val_rimborsi_mean_ciclo_last_3_months, lds_societa_vendita, qta_cnt_microcausale_ALLACCIO_E_ATTIVAZIONE_last_90_days, cdc_pdr, val_paga_ritardo_mean_ciclo_last_3_months, fln_comunicazione_rinnovo_last_1_months_sottocanale_CARTACEO, qta_cnt_attivita_sito_web_chat_last_3_months, val_Cliente_con_servizio_cessato_last_6_months, qta_cnt_canale_CHAT_last_90_days, fln_venditore_mercato_libero_ele_comune_EOn, fln_venditore_mercato_libero_ele_comune_Alperia, val_t0_month, qta_cnt_mds_tipologia_attivita_gestione_notifiche_m12, val_totale_pagare_x_max_ciclo_gas_last_6_months, qta_cnt_diffida_procedura_M3_cli, fln_comunicazione_rinnovo_last_1_months_sottocanale_PEC, qta_cnt_macrocausale_Problemi_in_fase_di_attivazione_last_90_days, qta_cnt_contatti_outbound_all_channel_m9, fln_distributore_energia_enel, val_importo_addebito_x_sum_ciclo_gas_last_6_months, fln_riallaccio_last_2_months, fln_bolletta_web_attiva, qta_cnt_fattura_non_pagata_servizio_last_3_months_canale_ALL, val_t0_year, qta_days_since_last_inbound_contact_macrocausale_Esecuzione_lavori, fln_sollecito_last_2_months_serv, qta_max_days_scadenza_fattura_pagamento_servizio_last_6_months_canale_ALL, fln_distributore_energia_comune_ASTEA_SPA, qta_cnt_mds_tipologia_attivita_gestione_documenti_m6, fln_venditore_mercato_libero_ele_comune_EDISON, qta_cnt_fln_contatti_inbound_reclamo_m3, val_POT_POWER_NETTO, qta_max_days_emissione_fattura_pagamento_servizio_last_3_months_canale_ALL, fln_distributore_energia_comune_A2A, qta_days_since_last_inbound_contact_channel_DOCUMENTALE, qta_cnt_contatti_inbound_totali_last_90_days, qta_cnt_mds_tipologia_attivita_gestione_notifiche_m9, val_QUOTA_TUTELATO, qta_giorni_ultimo_contatto_outbound, val_mean_fattura_pagata_non_totalmente_servizio_last_3_months_canale_ALL, qta_cnt_mds_tipologia_attivita_gestione_credito_m1, val_importo_addebito_x_mean_ciclo_ele_last_3_months, qta_cnt_mds_tipologia_attivita_gestione_pagamenti_m3, qta_days_since_last_inbound_contact_microcausale_RIMBORSO_COMPENSAZIONE, qta_cnt_contatti_inbound_all_channel_m12, qta_cnt_attivita_delibera_147_last_3_months, val_mean_fattura_non_pagata_servizio_last_3_months_canale_ALL, val_consumi_x_min_over_mean_ciclo_ele_last_6_months, qta_days_since_last_inbound_contact_channel_TELEFONICO, qta_cnt_microcausale_RECLAMI_SCRITTI_last_90_days, fln_cliente_response_competitor_last_3_months, qta_cnt_reclami_last_month, qta_days_since_last_inbound_contact_channel_APP, qta_cnt_diffida_cartacea_serv, fln_venditore_mercato_libero_ele_comune_ENI, qta_cnt_fln_contatti_inbound_guasti_m6, qta_cnt_mds_tipologia_attivita_other_m6, mds_canale_acquisizione, qta_cnt_sollecito_procedura_M2_cli, sds_provincia, qta_giorni_ultimo_contatto_inbound, qta_cnt_microcausale_RIPENSAMENTO_O_DISCONOSCIMENTO_last_90_days, qta_cnt_venditori_mercato_libero_ele_comune, val_totale_pagare_x_max_ciclo_ele_last_1_months, sds_regione_fatturazione, qta_days_since_last_inbound_contact_microcausale_VERIFICHE_TECNICHE, fln_scarti_sap_sd_last_1_months, qta_days_since_last_inbound_contact_microcausale_RIPENSAMENTO_O_DISCONOSCIMENTO, qta_cnt_mds_specifica_other_m6, fln_cliente_accetta_proposta_last_3_months, qta_cnt_distacchi_last_2_months, val_importo_addebito_x_sum_ciclo_gas_last_3_months, val_importo_addebito_x_min_over_mean_ciclo_ele_last_6_months, qta_cnt_attivita_analisi_fatturato_situazione_contabile_last_3_months, cdc_Zona_altimetrica, val_consumi_x_min_ciclo_ele_last_6_months, val_consumi_x_max_ciclo_gas_last_1_months, idn_sito_sk, cdn_cv2_servizio, fln_venditore_mercato_libero_gas_comune_IREN, qta_cnt_microcausale_GESTIONE_PRIVACY_last_90_days, qta_days_since_last_inbound_contact_microcausale_AUTOLETTURA, qta_cnt_mds_tipologia_attivita_gestione_documenti_m3, qta_days_since_last_inbound_contact_microcausale_ALLACCIO_E_ATTIVAZIONE, val_totale_pagare_x_sum_ciclo_gas_last_6_months, val_paga_ritardo_sum_ciclo_last_3_months, qta_cnt_sollecito_cartaceo_cli, cdc_bolletta_web, val_consumi_x_max_over_mean_ciclo_gas_last_6_months, qta_cnt_macrocausale_Credito_last_90_days, fln_dual, val_totale_pagare_x_mean_ciclo_ele_last_1_months, qta_cnt_mds_specifica_adesione_m3, qta_days_since_last_inbound_contact_microcausale_DISTACCHI_RIALLACCI, qta_cnt_distributori_gas_comune, fln_venditore_mercato_libero_gas_comune_ENEL, qta_cnt_attivita_indennizzo_last_3_months, fln_venditore_mercato_libero_ele_comune_Axpo_Group, val_paga_ritardo_max_ciclo_last_6_months, fln_venditore_mercato_libero_gas_comune_Axpo_Group, val_totale_pagare_x_min_ciclo_gas_last_1_months, val_totale_pagare_x_max_over_mean_ciclo_ele_last_6_months, fln_venditore_mercato_libero_gas_comune_METANO_NORD_SPA, val_totale_pagare_x_min_ciclo_ele_last_3_months, qta_cnt_attivita_bolletta_fatturazione_last_3_months, val_max_val_fattura_non_pagato_servizio_last_6_months_canale_ALL, fln_distributore_energia_comune_IREN, val_delta_prezzo_percentuale_gas_last_1_months, fln_distributore_gas_comune_municipalizzata, val_totale_pagare_x_min_ciclo_gas_last_6_months, val_importo_addebito_x_min_over_mean_ciclo_gas_last_3_months, val_consumi_x_sum_ciclo_gas_last_6_months, qta_cnt_contatti_outbound_all_channel_m6, fln_venditore_mercato_libero_gas_comune_Dolomiti_Energia, qta_days_incasso_fattura_today_servizio_ultima_bolletta_emessa_canale_ALL, qta_cnt_contatti_inbound_all_channel_m1, qta_cnt_mds_tipologia_attivita_other_m3, idn_cliente_sk, val_mean_fattura_pagata_non_totalmente_servizio_last_6_months_canale_ALL, fln_distributore_energia_comune_ENEL, qta_cnt_mds_tipologia_attivita_gestione_documenti_m12, val_totale_pagare_x_max_over_mean_ciclo_gas_last_6_months, qta_cnt_mds_tipologia_attivita_gestione_consumi_m9, val_totale_pagare_x_sum_ciclo_ele_last_1_months, cdc_tenure_bucket_cliente, qta_cnt_microcausale_RIMBORSO_COMPENSAZIONE_last_90_days, val_importo_addebito_x_min_ciclo_ele_last_3_months, fln_Comune_litoraneo, fln_fattura_pagata_totalmente_nei_tempi_servizio_last_6_months_canale_ALL, qta_cnt_microcausale_RETTIFICHE_CONSUMI_FATTURAZIONE_last_90_days, mds_comune, qta_cnt_contatti_inbound_all_channel_m9, fln_venditore_mercato_libero_gas_comune_BURGO_GROUP, fln_distacco_last_2_months, qta_cnt_canale_DOCUMENTALE_last_90_days, qta_cnt_fln_chiamate_inbound_m12, qta_cnt_diffida_procedura_M1_cli, sds_mat, val_consumi_x_sum_ciclo_ele_last_1_months, qta_cnt_microcausale_SWITCH_ATTIVO_last_90_days, qta_cnt_fln_contatti_inbound_autolet_m1, fln_diffida_last_2_months_cli, sds_commodity];;\\n'Project ['cdc_power_gas, val_churn_2_months#23457]\\n+- Relation[idn_cliente_sk#23311L,cdc_stato_servizio_calc#23312,idn_sito_sk#23313L,lds_prodotto_listino_2#23314,cdc_pdr#23315,sds_commodity#23316,mds_canale_acquisizione#23317,cdc_cap_nrm#23318,lds_tipo_uso#23319,qta_eta_nrm#23320,cdc_residente#23321,qta_indice_contattosita_ult_30gg#23322,val_fascia_stress#23323,mds_tipologia_pagamento#23324,cdc_id_mercato#23325,sds_provincia_fatturazione#23326,sds_provincia_fornitura#23327,sds_regione_fornitura#23328,sds_regione_fatturazione#23329,sds_mat_fatturazione#23330,sds_mat_fornitura#23331,sds_provincia#23332,sds_regione#23333,sds_mat#23334,... 625 more fields] parquet\\n\""
     ]
    }
   ],
   "source": [
    "for column in tqdm(categorical_features):\n",
    "    df_test = df.select(column, 'val_churn_2_months')\n",
    "    contingency_table = df_test.stat.crosstab(column, 'val_churn_2_months')\n",
    "    # Drop the first column and convert the spark df into a pandas df\n",
    "    contingency_df = contingency_table.drop(column+'_val_churn_2_months')\n",
    "    contingency_pd_df = contingency_df.toPandas()\n",
    "    # Perform the Chi square test\n",
    "    significance_level = 0.05\n",
    "    independenceTestResult = chi_square_test(alpha = significance_level, contingency_pandas_df = contingency_pd_df)\n",
    "    print(column + ' vs val_churn_2_months')\n",
    "    print(independenceTestResult)"
   ]
  },
  {
   "cell_type": "markdown",
   "metadata": {},
   "source": [
    "The only variable with p value greater than alpha (0.05) is sds_commodity. this paticular p value shows that there is enough evidence to support that sds_commodity and val_churn_2_months are indipendent. thus sds_commodity can be dropped. "
   ]
  },
  {
   "cell_type": "markdown",
   "metadata": {},
   "source": [
    "After analysis of the entire set of features for both SMALL/MEDIUM and MICRO data sets, given the basic stats previously calculated, the following (107 for SMALL/MEDIUM and 109 for MICRO) columns have been tagged as to be removed. Features that will be used to identify the churning entity (idn_servizio_sk, idn_cliente_sk, fk_cliente_unico, idc_id_key_servizio, idc_id_key_cliente, idc_id_key_contratto, idn_contratto_sk, cdc_pdr) will be kepted but will not be used during the medeling phase."
   ]
  },
  {
   "cell_type": "code",
   "execution_count": 28,
   "metadata": {},
   "outputs": [],
   "source": [
    "to_be_dropped_small_medium = [\n",
    "    'cdc_stato_servizio_calc',\n",
    "    'lds_nome_listino',\n",
    "    'lds_macro_prodotto',\n",
    "    'dta_creazione_att_swp',\n",
    "    'cdc_rid',\n",
    "    'lds_categoria_prodotto',\n",
    "    'qta_indice_stress_comm_ult_30gg',\n",
    "    'lds_nazione_nascita',\n",
    "    'sds_provincia_fornitura',\n",
    "    'sds_regione_fornitura',\n",
    "    'sds_mat_fornitura',\n",
    "    'flc_sesso_nrm',\n",
    "    'val_churn',\n",
    "    'val_churn_3_months',\n",
    "    'val_comunicazione_swp_1_month',\n",
    "    'val_comunicazione_swp_2_months',\n",
    "    'val_comunicazione_swp_3_months',\n",
    "    'mds_comune',\n",
    "    'mds_provincia',\n",
    "    'cdc_Codice_Regione',\n",
    "    'sds_segmento_fasce',\n",
    "    'mds_canale_acqu_fornitura',\n",
    "    'lds_categoria_uso',\n",
    "    'qta_cnt_mds_specifica_visualizzazione_area_clienti_m1',\n",
    "    'qta_cnt_mds_specifica_visualizzazione_area_clienti_m3',\n",
    "    'qta_cnt_mds_specifica_visualizzazione_area_clienti_m6',\n",
    "    'qta_cnt_mds_specifica_visualizzazione_area_clienti_m9',\n",
    "    'qta_cnt_mds_specifica_visualizzazione_area_clienti_m12',\n",
    "    'cdc_canale_criticita_infra_last_90_days',\n",
    "    'cdc_motivazione_criticita_infra_last_90_days',\n",
    "    'cdc_motivazione_criticita_cross_last_90_days',\n",
    "    'qta_cnt_campagne_mktg_DEM_OUTBOUND_LOYALTY_PROMOZIONE_last_3_months',\n",
    "    'qta_cnt_campagne_mktg_GMC_OUTBOUND_ACQUISITION_DISPOSITIVA_last_3_months',\n",
    "    'qta_cnt_campagne_mktg_APP_OUTBOUND_ACQUISITION_INFORMATIVA_last_3_months',\n",
    "    'qta_cnt_campagne_mktg_APP_OUTBOUND_CROSS_SELLING_DISPOSITIVA_last_3_months',\n",
    "    'qta_cnt_campagne_mktg_APP_OUTBOUND_LOYALTY_PROMOZIONE_last_3_months',\n",
    "    'qta_cnt_campagne_mktg_CS_OUTBOUND_CARING_ALTRO_last_3_months',\n",
    "    'qta_cnt_campagne_mktg_CS_OUTBOUND_UP_SELLING_DISPOSITIVA_last_3_months',\n",
    "    'qta_cnt_campagne_mktg_DEM_OUTBOUND_ACQUISITION_DISPOSITIVA_last_3_months',\n",
    "    'qta_cnt_campagne_mktg_DEM_OUTBOUND_ACQUISITION_INFORMATIVA_last_3_months',\n",
    "    'qta_cnt_campagne_mktg_DEM_OUTBOUND_ALTRO_DISPOSITIVA_last_3_months',\n",
    "    'qta_cnt_campagne_mktg_DEM_OUTBOUND_ALTRO_INFORMATIVA_last_3_months',\n",
    "    'qta_cnt_campagne_mktg_DEM_OUTBOUND_CARING_ALTRO_last_3_months',\n",
    "    'qta_cnt_campagne_mktg_DEM_OUTBOUND_CARING_CROSSSELLING_DISPOSITIVA_last_3_months',\n",
    "    'qta_cnt_campagne_mktg_DEM_OUTBOUND_CARING_DISPOSITIVA_last_3_months',\n",
    "    'qta_cnt_campagne_mktg_DEM_OUTBOUND_CARING_INFORMATIVA_last_3_months',\n",
    "    'qta_cnt_campagne_mktg_DEM_OUTBOUND_CARING_PROMOZIONE_last_3_months',\n",
    "    'qta_cnt_campagne_mktg_DEM_OUTBOUND_CROSS_SELLING_DISPOSITIVA_last_3_months',\n",
    "    'qta_cnt_campagne_mktg_DEM_OUTBOUND_LOYALTY_INFORMATIVA_last_3_months',\n",
    "    'qta_cnt_campagne_mktg_DEM_OUTBOUND_UP_SELLING_DISPOSITIVA_last_3_months',\n",
    "    'qta_cnt_campagne_mktg_DEM_OUTBOUND_UP_SELLING_INFORMATIVA_last_3_months',\n",
    "    'qta_cnt_campagne_mktg_DEM_OUTBOUND_UP_SELLING_TEST_last_3_months',\n",
    "    'qta_cnt_campagne_mktg_FATTURA_OUTBOUND_ACQUISITION_DISPOSITIVA_last_3_months',\n",
    "    'qta_cnt_campagne_mktg_FATTURA_OUTBOUND_ALTRO_INFORMATIVA_last_3_months',\n",
    "    'qta_cnt_campagne_mktg_FATTURA_OUTBOUND_CARING_DISPOSITIVA_last_3_months',\n",
    "    'qta_cnt_campagne_mktg_FATTURA_OUTBOUND_CARING_INFORMATIVA_last_3_months',\n",
    "    'qta_cnt_campagne_mktg_FATTURA_OUTBOUND_CROSS_SELLING_DISPOSITIVA_last_3_months',\n",
    "    'qta_cnt_campagne_mktg_FATTURA_OUTBOUND_CROSS_SELLING_PROMOZIONE_last_3_months',\n",
    "    'qta_cnt_campagne_mktg_FATTURA_OUTBOUND_LOYALTY_PROMOZIONE_last_3_months',\n",
    "    'qta_cnt_campagne_mktg_FATTURA_OUTBOUND_UP_SELLING_PROMOZIONE_last_3_months',\n",
    "    'qta_cnt_campagne_mktg_RDM_OUTBOUND_RICERCHE_DI_MERCATO_ALTRO_last_3_months',\n",
    "    'qta_cnt_campagne_mktg_S2S_INBOUND_ACQUISITION_INFORMATIVA_last_3_months',\n",
    "    'qta_cnt_campagne_mktg_S2S_INBOUND_CARING_INFORMATIVA_last_3_months',\n",
    "    'qta_cnt_campagne_mktg_S2S_INBOUND_CROSS_SELLING_DISPOSITIVA_last_3_months',\n",
    "    'qta_cnt_campagne_mktg_S2S_INBOUND_CROSS_SELLING_PROMOZIONE_last_3_months',\n",
    "    'qta_cnt_campagne_mktg_S2S_INBOUND_UP_SELLING_DISPOSITIVA_last_3_months',\n",
    "    'qta_cnt_campagne_mktg_SMS_OUTBOUND_1TO1_CROSSSELLING_DISPOSITIVA_last_3_months',\n",
    "    'qta_cnt_campagne_mktg_SMS_OUTBOUND_ACQUISITION_DISPOSITIVA_last_3_months',\n",
    "    'qta_cnt_campagne_mktg_SMS_OUTBOUND_ACQUISITION_INFORMATIVA_last_3_months',\n",
    "    'qta_cnt_campagne_mktg_SMS_OUTBOUND_CARING_CROSSSELLING_DISPOSITIVA_last_3_months',\n",
    "    'qta_cnt_campagne_mktg_SMS_OUTBOUND_CARING_DISPOSITIVA_last_3_months',\n",
    "    'qta_cnt_campagne_mktg_SMS_OUTBOUND_CARING_INFORMATIVA_last_3_months',\n",
    "    'qta_cnt_campagne_mktg_SMS_OUTBOUND_CARING_PROMOZIONE_last_3_months',\n",
    "    'qta_cnt_campagne_mktg_SMS_OUTBOUND_CROSS_SELLING_DISPOSITIVA_last_3_months',\n",
    "    'qta_cnt_campagne_mktg_SMS_OUTBOUND_LOYALTY_INFORMATIVA_last_3_months',\n",
    "    'qta_cnt_campagne_mktg_SMS_OUTBOUND_UP_SELLING_DISPOSITIVA_last_3_months',\n",
    "    'qta_cnt_campagne_mktg_SMS_OUTBOUND_UP_SELLING_PROMOZIONE_last_3_months',\n",
    "    'qta_cnt_campagne_mktg_TLS_OUTBOUND_1TO1_CROSSSELLING_DISPOSITIVA_last_3_months',\n",
    "    'qta_cnt_campagne_mktg_TLS_OUTBOUND_ACQUISITION_DISPOSITIVA_last_3_months',\n",
    "    'qta_cnt_campagne_mktg_TLS_OUTBOUND_CROSS_SELLING_DISPOSITIVA_last_3_months',\n",
    "    'qta_cnt_campagne_mktg_WEB_INBOUND_CARING_INFORMATIVA_last_3_months',\n",
    "    'qta_cnt_campagne_mktg_WEB_INBOUND_CROSS_SELLING_DISPOSITIVA_last_3_months',\n",
    "    'cdc_power_gas',\n",
    "    'qta_cnt_mds_tipologia_attivita_gestione_notifiche_m1',\n",
    "    'dta_cessazione',\n",
    "    'fk_idn_audit_programma',\n",
    "    'dta_attivazione',\n",
    "    'cdc_livello_sollecito_last_diffida_cli',\n",
    "    'sds_descr_canale_altern_soll_elaborato_last_diffida_cli',\n",
    "    'cdc_procedura_sollecito_last_diffida_cli',\n",
    "    'sds_descr_canale_altern_soll_elaborato_last_sollecito_cli',\n",
    "    'cdc_procedura_sollecito_last_sollecito_cli',\n",
    "    'val_Cliente_con_servizio_cessato_last_1_months',\n",
    "    'fln_enelpremia_flag',\n",
    "    'val_punti_avg_m1',\n",
    "    'val_punti_delta_m3',\n",
    "    'val_punti_avg_m3',\n",
    "    'val_punti_min_m3',\n",
    "    'val_punti_max_m3',\n",
    "    'val_punti_delta_m9',\n",
    "    'val_punti_avg_m9',\n",
    "    'val_punti_min_m9',\n",
    "    'val_punti_max_m9',\n",
    "    'dta_foto_bi',\n",
    "    'idn_run',\n",
    "    'sds_commodity'\n",
    "]"
   ]
  },
  {
   "cell_type": "code",
   "execution_count": 29,
   "metadata": {},
   "outputs": [],
   "source": [
    "to_be_dropped_micro = [\n",
    "    'cdc_stato_servizio_calc',\n",
    "    'lds_nome_listino',\n",
    "    'lds_macro_prodotto',\n",
    "    'dta_creazione_att_swp',\n",
    "    'cdc_rid',\n",
    "    'lds_categoria_prodotto',\n",
    "    'sds_macro_categoria_ateco',\n",
    "    'sds_categoria_ateco_intermedia',\n",
    "    'qta_indice_stress_comm_ult_30gg',\n",
    "    'lds_nazione_nascita',\n",
    "    'sds_provincia_fornitura',\n",
    "    'sds_regione_fornitura',\n",
    "    'sds_mat_fornitura',\n",
    "    'flc_sesso_nrm',\n",
    "    'val_churn',\n",
    "    'val_churn_3_months',\n",
    "    'val_comunicazione_swp_1_month',\n",
    "    'val_comunicazione_swp_2_months',\n",
    "    'val_comunicazione_swp_3_months',\n",
    "    'mds_comune',\n",
    "    'mds_provincia',\n",
    "    'cdc_Codice_Regione',\n",
    "    'sds_segmento_fasce',\n",
    "    'mds_canale_acqu_fornitura',\n",
    "    'lds_categoria_uso',\n",
    "    'qta_cnt_mds_specifica_visualizzazione_area_clienti_m1',\n",
    "    'qta_cnt_mds_specifica_visualizzazione_area_clienti_m3',\n",
    "    'qta_cnt_mds_specifica_visualizzazione_area_clienti_m6',\n",
    "    'qta_cnt_mds_specifica_visualizzazione_area_clienti_m9',\n",
    "    'qta_cnt_mds_specifica_visualizzazione_area_clienti_m12',\n",
    "    'cdc_canale_criticita_infra_last_90_days',\n",
    "    'cdc_motivazione_criticita_infra_last_90_days',\n",
    "    'cdc_motivazione_criticita_cross_last_90_days',\n",
    "    'qta_cnt_campagne_mktg_DEM_OUTBOUND_LOYALTY_PROMOZIONE_last_3_months',\n",
    "    'qta_cnt_campagne_mktg_GMC_OUTBOUND_ACQUISITION_DISPOSITIVA_last_3_months',\n",
    "    'qta_cnt_campagne_mktg_APP_OUTBOUND_ACQUISITION_INFORMATIVA_last_3_months',\n",
    "    'qta_cnt_campagne_mktg_APP_OUTBOUND_CROSS_SELLING_DISPOSITIVA_last_3_months',\n",
    "    'qta_cnt_campagne_mktg_APP_OUTBOUND_LOYALTY_PROMOZIONE_last_3_months',\n",
    "    'qta_cnt_campagne_mktg_CS_OUTBOUND_CARING_ALTRO_last_3_months',\n",
    "    'qta_cnt_campagne_mktg_CS_OUTBOUND_UP_SELLING_DISPOSITIVA_last_3_months',\n",
    "    'qta_cnt_campagne_mktg_DEM_OUTBOUND_ACQUISITION_DISPOSITIVA_last_3_months',\n",
    "    'qta_cnt_campagne_mktg_DEM_OUTBOUND_ACQUISITION_INFORMATIVA_last_3_months',\n",
    "    'qta_cnt_campagne_mktg_DEM_OUTBOUND_ALTRO_DISPOSITIVA_last_3_months',\n",
    "    'qta_cnt_campagne_mktg_DEM_OUTBOUND_ALTRO_INFORMATIVA_last_3_months',\n",
    "    'qta_cnt_campagne_mktg_DEM_OUTBOUND_CARING_ALTRO_last_3_months',\n",
    "    'qta_cnt_campagne_mktg_DEM_OUTBOUND_CARING_CROSSSELLING_DISPOSITIVA_last_3_months',\n",
    "    'qta_cnt_campagne_mktg_DEM_OUTBOUND_CARING_DISPOSITIVA_last_3_months',\n",
    "    'qta_cnt_campagne_mktg_DEM_OUTBOUND_CARING_INFORMATIVA_last_3_months',\n",
    "    'qta_cnt_campagne_mktg_DEM_OUTBOUND_CARING_PROMOZIONE_last_3_months',\n",
    "    'qta_cnt_campagne_mktg_DEM_OUTBOUND_CROSS_SELLING_DISPOSITIVA_last_3_months',\n",
    "    'qta_cnt_campagne_mktg_DEM_OUTBOUND_LOYALTY_INFORMATIVA_last_3_months',\n",
    "    'qta_cnt_campagne_mktg_DEM_OUTBOUND_UP_SELLING_DISPOSITIVA_last_3_months',\n",
    "    'qta_cnt_campagne_mktg_DEM_OUTBOUND_UP_SELLING_INFORMATIVA_last_3_months',\n",
    "    'qta_cnt_campagne_mktg_DEM_OUTBOUND_UP_SELLING_TEST_last_3_months',\n",
    "    'qta_cnt_campagne_mktg_FATTURA_OUTBOUND_ACQUISITION_DISPOSITIVA_last_3_months',\n",
    "    'qta_cnt_campagne_mktg_FATTURA_OUTBOUND_ALTRO_INFORMATIVA_last_3_months',\n",
    "    'qta_cnt_campagne_mktg_FATTURA_OUTBOUND_CARING_DISPOSITIVA_last_3_months',\n",
    "    'qta_cnt_campagne_mktg_FATTURA_OUTBOUND_CARING_INFORMATIVA_last_3_months',\n",
    "    'qta_cnt_campagne_mktg_FATTURA_OUTBOUND_CROSS_SELLING_DISPOSITIVA_last_3_months',\n",
    "    'qta_cnt_campagne_mktg_FATTURA_OUTBOUND_CROSS_SELLING_PROMOZIONE_last_3_months',\n",
    "    'qta_cnt_campagne_mktg_FATTURA_OUTBOUND_LOYALTY_PROMOZIONE_last_3_months',\n",
    "    'qta_cnt_campagne_mktg_FATTURA_OUTBOUND_UP_SELLING_PROMOZIONE_last_3_months',\n",
    "    'qta_cnt_campagne_mktg_RDM_OUTBOUND_RICERCHE_DI_MERCATO_ALTRO_last_3_months',\n",
    "    'qta_cnt_campagne_mktg_S2S_INBOUND_ACQUISITION_INFORMATIVA_last_3_months',\n",
    "    'qta_cnt_campagne_mktg_S2S_INBOUND_CARING_INFORMATIVA_last_3_months',\n",
    "    'qta_cnt_campagne_mktg_S2S_INBOUND_CROSS_SELLING_DISPOSITIVA_last_3_months',\n",
    "    'qta_cnt_campagne_mktg_S2S_INBOUND_CROSS_SELLING_PROMOZIONE_last_3_months',\n",
    "    'qta_cnt_campagne_mktg_S2S_INBOUND_UP_SELLING_DISPOSITIVA_last_3_months',\n",
    "    'qta_cnt_campagne_mktg_SMS_OUTBOUND_1TO1_CROSSSELLING_DISPOSITIVA_last_3_months',\n",
    "    'qta_cnt_campagne_mktg_SMS_OUTBOUND_ACQUISITION_DISPOSITIVA_last_3_months',\n",
    "    'qta_cnt_campagne_mktg_SMS_OUTBOUND_ACQUISITION_INFORMATIVA_last_3_months',\n",
    "    'qta_cnt_campagne_mktg_SMS_OUTBOUND_CARING_CROSSSELLING_DISPOSITIVA_last_3_months',\n",
    "    'qta_cnt_campagne_mktg_SMS_OUTBOUND_CARING_DISPOSITIVA_last_3_months',\n",
    "    'qta_cnt_campagne_mktg_SMS_OUTBOUND_CARING_INFORMATIVA_last_3_months',\n",
    "    'qta_cnt_campagne_mktg_SMS_OUTBOUND_CARING_PROMOZIONE_last_3_months',\n",
    "    'qta_cnt_campagne_mktg_SMS_OUTBOUND_CROSS_SELLING_DISPOSITIVA_last_3_months',\n",
    "    'qta_cnt_campagne_mktg_SMS_OUTBOUND_LOYALTY_INFORMATIVA_last_3_months',\n",
    "    'qta_cnt_campagne_mktg_SMS_OUTBOUND_UP_SELLING_DISPOSITIVA_last_3_months',\n",
    "    'qta_cnt_campagne_mktg_SMS_OUTBOUND_UP_SELLING_PROMOZIONE_last_3_months',\n",
    "    'qta_cnt_campagne_mktg_TLS_OUTBOUND_1TO1_CROSSSELLING_DISPOSITIVA_last_3_months',\n",
    "    'qta_cnt_campagne_mktg_TLS_OUTBOUND_ACQUISITION_DISPOSITIVA_last_3_months',\n",
    "    'qta_cnt_campagne_mktg_TLS_OUTBOUND_CROSS_SELLING_DISPOSITIVA_last_3_months',\n",
    "    'qta_cnt_campagne_mktg_WEB_INBOUND_CARING_INFORMATIVA_last_3_months',\n",
    "    'qta_cnt_campagne_mktg_WEB_INBOUND_CROSS_SELLING_DISPOSITIVA_last_3_months',\n",
    "    'cdc_power_gas',\n",
    "    'qta_cnt_mds_tipologia_attivita_gestione_notifiche_m1',\n",
    "    'dta_cessazione',\n",
    "    'fk_idn_audit_programma',\n",
    "    'dta_attivazione',\n",
    "    'cdc_livello_sollecito_last_diffida_cli',\n",
    "    'sds_descr_canale_altern_soll_elaborato_last_diffida_cli',\n",
    "    'cdc_procedura_sollecito_last_diffida_cli',\n",
    "    'sds_descr_canale_altern_soll_elaborato_last_sollecito_cli',\n",
    "    'cdc_procedura_sollecito_last_sollecito_cli',\n",
    "    'val_Cliente_con_servizio_cessato_last_1_months',\n",
    "    'fln_enelpremia_flag',\n",
    "    'val_punti_avg_m1',\n",
    "    'val_punti_delta_m3',\n",
    "    'val_punti_avg_m3',\n",
    "    'val_punti_min_m3',\n",
    "    'val_punti_max_m3',\n",
    "    'val_punti_delta_m9',\n",
    "    'val_punti_avg_m9',\n",
    "    'val_punti_min_m9',\n",
    "    'val_punti_max_m9',\n",
    "    'dta_foto_bi',\n",
    "    'idn_run',\n",
    "    'sds_commodity'\n",
    "]"
   ]
  },
  {
   "cell_type": "code",
   "execution_count": 30,
   "metadata": {},
   "outputs": [],
   "source": [
    "input_data_small_medium = input_data_small_medium.drop(*to_be_dropped_small_medium)\n",
    "input_data_micro = input_data_micro.drop(*to_be_dropped_micro)"
   ]
  },
  {
   "cell_type": "markdown",
   "metadata": {},
   "source": [
    "## 4- Data Transformation: Filling NA values, creating new features"
   ]
  },
  {
   "cell_type": "markdown",
   "metadata": {},
   "source": [
    "### 4.1- Filling NA values: Mode"
   ]
  },
  {
   "cell_type": "markdown",
   "metadata": {},
   "source": [
    "NA values are filled using the mode over all the observations."
   ]
  },
  {
   "cell_type": "code",
   "execution_count": 31,
   "metadata": {},
   "outputs": [],
   "source": [
    "# This function takes in input the df and the column and fill the NA values with the mode\n",
    "def fill_na_with_mode(data, column, numeric, na_values):\n",
    "        \n",
    "    df_mode = data.groupBy(column).count().orderBy('count', ascending = False).limit(1)\n",
    "    pd_df_mode = df_mode.toPandas()\n",
    "    mode = list(pd_df_mode[column])[0]\n",
    "    print ('Column: '+ column)\n",
    "    print ('Mode: '+ mode)\n",
    "    print ('Replacing NA values with mode ...')\n",
    "    \n",
    "    for na_value in tqdm(na_values):\n",
    "        if na_value is None:\n",
    "            data = data.withColumn(column, F.when(F.col(column).isNull(), mode).\\\n",
    "            otherwise(F.col(column)))\n",
    "        else:\n",
    "            if numeric:\n",
    "                data = data.withColumn(column, F.when(F.col(column) == na_value, mode).\\\n",
    "                otherwise(F.col(column)))\n",
    "            else:\n",
    "                data = data.withColumn(column, F.\\\n",
    "                when(F.lower(F.col(column)) == str.lower(na_value), mode).\\\n",
    "                otherwise(F.col(column)))\n",
    "    return data"
   ]
  },
  {
   "cell_type": "code",
   "execution_count": 26,
   "metadata": {},
   "outputs": [],
   "source": [
    "column_list_mode = []"
   ]
  },
  {
   "cell_type": "code",
   "execution_count": 27,
   "metadata": {},
   "outputs": [],
   "source": [
    "#NA number before filling small_medium:\n",
    "for column in column_list_mode:\n",
    "    print(\"Number of NA in column \"+column+\" before filling: \"+str(input_data_small_medium.select(column).\\\n",
    "    where('`'+column+\"` is null or lower(\"+ column +\") in('***', 'null', 'na', '')\").count()))"
   ]
  },
  {
   "cell_type": "code",
   "execution_count": null,
   "metadata": {},
   "outputs": [],
   "source": [
    "#NA number before filling micro:\n",
    "for column in column_list_mode:\n",
    "    print(\"Number of NA in column \"+column+\" before filling: \"+str(input_data_micro.select(column).\\\n",
    "    where('`'+column+\"` is null or lower(\"+ column +\") in('***', 'null', 'na', '')\").count()))"
   ]
  },
  {
   "cell_type": "code",
   "execution_count": 28,
   "metadata": {},
   "outputs": [
    {
     "name": "stderr",
     "output_type": "stream",
     "text": [
      "0it [00:00, ?it/s]\n"
     ]
    }
   ],
   "source": [
    "# Filling the NA values:\n",
    "for column in tqdm(column_list_mode):\n",
    "    input_data = fill_na_with_mode(data = input_data_small_medium, column = column, numeric = False, na_values = [None, '***', 'null', 'na', ''])"
   ]
  },
  {
   "cell_type": "code",
   "execution_count": null,
   "metadata": {},
   "outputs": [],
   "source": [
    "# Filling the NA values:\n",
    "for column in tqdm(column_list_mode):\n",
    "    input_data = fill_na_with_mode(data = input_data_micro, column = column, numeric = False, na_values = [None, '***', 'null', 'na', ''])"
   ]
  },
  {
   "cell_type": "code",
   "execution_count": 29,
   "metadata": {},
   "outputs": [],
   "source": [
    "#NA values after filling:\n",
    "for column in column_list_mode:\n",
    "    print(\"Number of NA in column \"+column+\" after filling: \"+str(input_data_small_medium.select(column).\\\n",
    "    where('`'+column+\"` is null or lower(\"+ column +\") in('***', 'null', 'na', '')\").count()))"
   ]
  },
  {
   "cell_type": "code",
   "execution_count": null,
   "metadata": {},
   "outputs": [],
   "source": [
    "#NA values after filling:\n",
    "for column in column_list_mode:\n",
    "    print(\"Number of NA in column \"+column+\" after filling: \"+str(input_data_micro.select(column).\\\n",
    "    where('`'+column+\"` is null or lower(\"+ column +\") in('***', 'null', 'na', '')\").count()))"
   ]
  },
  {
   "cell_type": "markdown",
   "metadata": {},
   "source": [
    "### 4.2- Filling NA values: 0, ***, -1, OTHER, UNDEFINED, ALTRO"
   ]
  },
  {
   "cell_type": "markdown",
   "metadata": {},
   "source": [
    "NA values will be filled using the folowing values: 0, ***, -1, OTHER, UNDEFINED, ALTRO "
   ]
  },
  {
   "cell_type": "code",
   "execution_count": 32,
   "metadata": {},
   "outputs": [],
   "source": [
    "# This function takes in input the df the column and the value to fill with and fill the NA values using the input value\n",
    "def fill_na_with_value(data, column, numeric, fill_with, na_values):\n",
    "    print('Filling NA in column ' +column+' with value '+ str(fill_with) + ' ...')\n",
    "    for na_value in tqdm(na_values):\n",
    "        if na_value is None:\n",
    "            data = data.withColumn(column, F.when(F.col(column).isNull(), fill_with).\\\n",
    "            otherwise(F.col(column)))\n",
    "        else:\n",
    "            if numeric:\n",
    "                data = data.withColumn(column, F.when(F.col(column) == na_value, fill_with).\\\n",
    "                otherwise(F.col(column)))\n",
    "            else:\n",
    "                data = data.withColumn(column, F.\\\n",
    "                when(F.lower(F.col(column)) == str.lower(na_value), fill_with).\\\n",
    "                otherwise(F.col(column)))\n",
    "    \n",
    "    return data"
   ]
  },
  {
   "cell_type": "code",
   "execution_count": 33,
   "metadata": {},
   "outputs": [],
   "source": [
    "# This function takes in input the df the column and the value to fill with and fill the NA values using the input value\n",
    "# It is specific for the day quantity features\n",
    "def fill_na_with_value_qta(data, column, fill_with):\n",
    "    print('Filling NA in column ' +column+' with value '+ str(fill_with) + ' ...')\n",
    "    data = data.withColumn(column, F.when(F.col(column) >= 3650, fill_with).\\\n",
    "    otherwise(F.col(column)))\n",
    "    return data"
   ]
  },
  {
   "cell_type": "markdown",
   "metadata": {},
   "source": [
    "#### 4.2.1- SMALL MEDIUM"
   ]
  },
  {
   "cell_type": "code",
   "execution_count": 34,
   "metadata": {},
   "outputs": [],
   "source": [
    "column_na = {\n",
    "'lds_prodotto_listino_2':'***',\n",
    "'mds_canale_acquisizione':'***',\n",
    "'cdc_cap_nrm':'***',\n",
    "'lds_tipo_uso':'***',\n",
    "'sds_macro_categoria_ateco':'***',\n",
    "'sds_categoria_ateco_intermedia':'***',\n",
    "'qta_eta_nrm':-1,\n",
    "'qta_indice_contattosita_ult_30gg':-1,\n",
    "'val_fascia_stress':-1,\n",
    "'val_fascia_contattosita':0,\n",
    "'cdc_id_mercato':'***',\n",
    "'sds_provincia_fatturazione':'***',\n",
    "'sds_regione_fatturazione':'***',\n",
    "'sds_mat_fatturazione':'***',\n",
    "'sds_provincia':'***',\n",
    "'sds_regione':'***',\n",
    "'sds_mat':'***',\n",
    "'mds_sottocanale':'***',\n",
    "'flc_vas':'***',\n",
    "'mds_land_type':'***',\n",
    "'cdc_cd_censimento':'***',\n",
    "'cdc_istat':'***',\n",
    "'cdc_Zona_altimetrica':'***',\n",
    "'val_Altitudine_del_centro':0,\n",
    "'fln_Comune_litoraneo':-1,\n",
    "'cdc_Comune_Montano':'***',\n",
    "'val_Superficie_territoriale':0,\n",
    "'qta_Grado_di_urbanizzazione':0,\n",
    "'qta_giorni_ultimo_contatto_inbound':-1,\n",
    "'qta_giorni_ultimo_contatto_outbound':-1,\n",
    "'qta_giorni_ultimo_reclamo':-1,\n",
    "'cdc_causale_attivazione':'***',\n",
    "'lds_comune_fornitura':'***',\n",
    "'cdc_cluster_fattura_last':'OTHER',\n",
    "'qta_days_since_last_inbound_contact':-1,\n",
    "'qta_days_since_last_inbound_contact_channel_APP':-1,\n",
    "'qta_days_since_last_inbound_contact_channel_FACE':-1,\n",
    "'qta_days_since_last_inbound_contact_channel_TELEFONICO':-1,\n",
    "'qta_days_since_last_inbound_contact_channel_DOCUMENTALE_COMPLESSO':-1,\n",
    "'qta_days_since_last_inbound_contact_channel_DOCUMENTALE':-1,\n",
    "'qta_days_since_last_inbound_contact_channel_CHAT':-1,\n",
    "'qta_days_since_last_inbound_contact_channel_WEB':-1,\n",
    "'qta_days_since_last_inbound_contact_microcausale_RETTIFICHE_CONSUMI_FATTURAZIONE':-1,\n",
    "'qta_days_since_last_inbound_contact_microcausale_INFORMATIVA':-1,\n",
    "'qta_days_since_last_inbound_contact_microcausale_VOLTURA':-1,\n",
    "'qta_days_since_last_inbound_contact_microcausale_PRIMA_ATTIVAZIONE':-1,\n",
    "'qta_days_since_last_inbound_contact_microcausale_COPIA_DOCUMENTAZIONI':-1,\n",
    "'qta_days_since_last_inbound_contact_microcausale_RIMBORSO_COMPENSAZIONE':-1,\n",
    "'qta_days_since_last_inbound_contact_microcausale_LAVORI_E_MODIFICHE_TECNICHE_POTENZA_TENSIONE':-1,\n",
    "'qta_days_since_last_inbound_contact_microcausale_INFORMATIVA_CREDITO':-1,\n",
    "'qta_days_since_last_inbound_contact_microcausale_DISTACCHI_RIALLACCI':-1,\n",
    "'qta_days_since_last_inbound_contact_microcausale_DISDETTE_E_CESSAZIONI':-1,\n",
    "'qta_days_since_last_inbound_contact_microcausale_GESTIONE_VAS':-1,\n",
    "'qta_days_since_last_inbound_contact_microcausale_AUTOLETTURA':-1,\n",
    "'qta_days_since_last_inbound_contact_microcausale_RIPENSAMENTO_O_DISCONOSCIMENTO':-1,\n",
    "'qta_days_since_last_inbound_contact_microcausale_MODIFICA_ANAGRAFICA_O_DATI_FORNITURA_FATTURAZIONE':-1,\n",
    "'qta_days_since_last_inbound_contact_microcausale_GESTIONE_FORNITURA':-1,\n",
    "'qta_days_since_last_inbound_contact_microcausale_RECLAMI_SCRITTI':-1,\n",
    "'qta_days_since_last_inbound_contact_microcausale_REPEATED_LIST':-1,\n",
    "'qta_days_since_last_inbound_contact_microcausale_INFORMATIVA_CONSUMI_PAGAMENTI':-1,\n",
    "'qta_days_since_last_inbound_contact_microcausale_SWITCH_ATTIVO':-1,\n",
    "'qta_days_since_last_inbound_contact_microcausale_MODALITA_DI_PAGAMENTO':-1,\n",
    "'qta_days_since_last_inbound_contact_microcausale_ALLACCIO_E_ATTIVAZIONE':-1,\n",
    "'qta_days_since_last_inbound_contact_microcausale_VERIFICHE_TECNICHE':-1,\n",
    "'qta_days_since_last_inbound_contact_microcausale_INFORMATIVA_NON_DI_COMPETENZA':-1,\n",
    "'qta_days_since_last_inbound_contact_microcausale_RVC':-1,\n",
    "'qta_days_since_last_inbound_contact_microcausale_GESTIONE_PRIVACY':-1,\n",
    "'qta_days_since_last_inbound_contact_microcausale_PIANO_DI_RIENTRO':-1,\n",
    "'qta_days_since_last_inbound_contact_microcausale_SUBENTRO':-1,\n",
    "'qta_days_since_last_inbound_contact_macrocausale_Causale_non_definita':-1,\n",
    "'qta_days_since_last_inbound_contact_macrocausale_Chiarimenti_su_fatture':-1,\n",
    "'qta_days_since_last_inbound_contact_macrocausale_Chiarimento_su_offerta':-1,\n",
    "'qta_days_since_last_inbound_contact_macrocausale_Credito':-1,\n",
    "'qta_days_since_last_inbound_contact_macrocausale_Esecuzione_lavori':-1,\n",
    "'qta_days_since_last_inbound_contact_macrocausale_Informativa':-1,\n",
    "'qta_days_since_last_inbound_contact_macrocausale_Problemi_in_fase_di_attivazione':-1,\n",
    "'qta_days_since_last_inbound_contact_macrocausale_Reclami_vendita_Privacy':-1,\n",
    "'qta_days_since_last_inbound_contact_macrocausale_Ritardata_esecuzione_subentri_volture_cessazioni_etc':-1,\n",
    "'mds_nome_campagna_last_response_marketing_cli':'***',\n",
    "'xds_canale_last_response_marketing_cli':'UNDEFINED',\n",
    "'xds_tipo_azione_campagna_last_response_marketing_cli':'ALTRO',\n",
    "'xds_tipologia_azione_last_response_marketing_cli':'ALTRO',\n",
    "'qta_days_last_response_marketing_cli':-1,\n",
    "'lds_RETE_GAS':'***',\n",
    "'lds_Cluster_Polis_11_gruppi':'***',\n",
    "'fln_cell_m0_mono_flag':-1,\n",
    "'qta_days_diff_diffida_fattura_cli':-1,\n",
    "'qta_days_last_diffida_cli':-1,\n",
    "'qta_days_diff_sollecito_fattura_cli':-1,\n",
    "'qta_days_last_sollecito_cli':-1,\n",
    "'cdn_cv2_servizio':0,\n",
    "'cdc_cv_fasce_servizio':'***',\n",
    "'cdc_cv_fasce_cliente':'***',\n",
    "'cdn_cv2_cliente':0,\n",
    "'qta_days_servizio_attualmente_distaccato':-1,\n",
    "'qta_days_servizio_riallacciato':-1,\n",
    "'qta_days_emissione_fattura_pagamento_servizio_ultima_bolletta_emessa_canale_ALL':-1,\n",
    "'qta_days_incasso_fattura_today_servizio_ultima_bolletta_emessa_canale_ALL':-1,\n",
    "'qta_days_scadenza_fattura_pagamento_servizio_ultima_bolletta_emessa_canale_ALL':-1\n",
    "}"
   ]
  },
  {
   "cell_type": "code",
   "execution_count": 35,
   "metadata": {
    "scrolled": true
   },
   "outputs": [
    {
     "name": "stdout",
     "output_type": "stream",
     "text": [
      "Number of NA in column lds_prodotto_listino_2 before filling: 2656\n",
      "Number of NA in column mds_canale_acquisizione before filling: 8203\n",
      "Number of NA in column cdc_cap_nrm before filling: 944\n",
      "Number of NA in column lds_tipo_uso before filling: 223\n",
      "Number of NA in column sds_macro_categoria_ateco before filling: 1206268\n",
      "Number of NA in column sds_categoria_ateco_intermedia before filling: 1206268\n",
      "Number of NA in column qta_eta_nrm before filling: 30\n",
      "Number of NA in column qta_indice_contattosita_ult_30gg before filling: 1848104\n",
      "Number of NA in column val_fascia_stress before filling: 1848104\n",
      "Number of NA in column val_fascia_contattosita before filling: 1848104\n",
      "Number of NA in column cdc_id_mercato before filling: 223672\n",
      "Number of NA in column sds_provincia_fatturazione before filling: 1176\n",
      "Number of NA in column sds_regione_fatturazione before filling: 1176\n",
      "Number of NA in column sds_mat_fatturazione before filling: 1176\n",
      "Number of NA in column sds_provincia before filling: 110993\n",
      "Number of NA in column sds_regione before filling: 110993\n",
      "Number of NA in column sds_mat before filling: 110993\n",
      "Number of NA in column mds_sottocanale before filling: 122665\n",
      "Number of NA in column flc_vas before filling: 1311768\n",
      "Number of NA in column mds_land_type before filling: 2066706\n",
      "Number of NA in column cdc_cd_censimento before filling: 2066706\n",
      "Number of NA in column cdc_istat before filling: 5950\n",
      "Number of NA in column cdc_Zona_altimetrica before filling: 6261\n",
      "Number of NA in column val_Altitudine_del_centro before filling: 6261\n",
      "Number of NA in column fln_Comune_litoraneo before filling: 6261\n",
      "Number of NA in column cdc_Comune_Montano before filling: 6261\n",
      "Number of NA in column val_Superficie_territoriale before filling: 6261\n",
      "Number of NA in column qta_Grado_di_urbanizzazione before filling: 6261\n",
      "Number of NA in column qta_giorni_ultimo_contatto_inbound before filling: 4555554\n",
      "Number of NA in column qta_giorni_ultimo_contatto_outbound before filling: 3924479\n",
      "Number of NA in column qta_giorni_ultimo_reclamo before filling: 4974788\n",
      "Number of NA in column cdc_causale_attivazione before filling: 215464\n",
      "Number of NA in column lds_comune_fornitura before filling: 1176\n",
      "Number of NA in column cdc_cluster_fattura_last before filling: 2075484\n",
      "Number of NA in column qta_days_since_last_inbound_contact before filling: 2040437\n",
      "Number of NA in column qta_days_since_last_inbound_contact_channel_APP before filling: 5229265\n",
      "Number of NA in column qta_days_since_last_inbound_contact_channel_FACE before filling: 4342147\n",
      "Number of NA in column qta_days_since_last_inbound_contact_channel_TELEFONICO before filling: 2849874\n",
      "Number of NA in column qta_days_since_last_inbound_contact_channel_DOCUMENTALE_COMPLESSO before filling: 5074931\n",
      "Number of NA in column qta_days_since_last_inbound_contact_channel_DOCUMENTALE before filling: 3856243\n",
      "Number of NA in column qta_days_since_last_inbound_contact_channel_CHAT before filling: 4996891\n",
      "Number of NA in column qta_days_since_last_inbound_contact_channel_WEB before filling: 4840412\n",
      "Number of NA in column qta_days_since_last_inbound_contact_microcausale_RETTIFICHE_CONSUMI_FATTURAZIONE before filling: 5065328\n",
      "Number of NA in column qta_days_since_last_inbound_contact_microcausale_INFORMATIVA before filling: 4739347\n",
      "Number of NA in column qta_days_since_last_inbound_contact_microcausale_VOLTURA before filling: 5002544\n",
      "Number of NA in column qta_days_since_last_inbound_contact_microcausale_PRIMA_ATTIVAZIONE before filling: 5208465\n",
      "Number of NA in column qta_days_since_last_inbound_contact_microcausale_COPIA_DOCUMENTAZIONI before filling: 4426811\n",
      "Number of NA in column qta_days_since_last_inbound_contact_microcausale_RIMBORSO_COMPENSAZIONE before filling: 5198031\n",
      "Number of NA in column qta_days_since_last_inbound_contact_microcausale_LAVORI_E_MODIFICHE_TECNICHE_POTENZA_TENSIONE before filling: 4969160\n",
      "Number of NA in column qta_days_since_last_inbound_contact_microcausale_INFORMATIVA_CREDITO before filling: 4757819\n",
      "Number of NA in column qta_days_since_last_inbound_contact_microcausale_DISTACCHI_RIALLACCI before filling: 4940717\n",
      "Number of NA in column qta_days_since_last_inbound_contact_microcausale_DISDETTE_E_CESSAZIONI before filling: 5121774\n",
      "Number of NA in column qta_days_since_last_inbound_contact_microcausale_GESTIONE_VAS before filling: 4521545\n",
      "Number of NA in column qta_days_since_last_inbound_contact_microcausale_AUTOLETTURA before filling: 4995612\n",
      "Number of NA in column qta_days_since_last_inbound_contact_microcausale_RIPENSAMENTO_O_DISCONOSCIMENTO before filling: 5255129\n",
      "Number of NA in column qta_days_since_last_inbound_contact_microcausale_MODIFICA_ANAGRAFICA_O_DATI_FORNITURA_FATTURAZIONE before filling: 4408631\n",
      "Number of NA in column qta_days_since_last_inbound_contact_microcausale_GESTIONE_FORNITURA before filling: 4331574\n",
      "Number of NA in column qta_days_since_last_inbound_contact_microcausale_RECLAMI_SCRITTI before filling: 5262231\n",
      "Number of NA in column qta_days_since_last_inbound_contact_microcausale_REPEATED_LIST before filling: 5229153\n",
      "Number of NA in column qta_days_since_last_inbound_contact_microcausale_INFORMATIVA_CONSUMI_PAGAMENTI before filling: 4831176\n",
      "Number of NA in column qta_days_since_last_inbound_contact_microcausale_SWITCH_ATTIVO before filling: 4941662\n",
      "Number of NA in column qta_days_since_last_inbound_contact_microcausale_MODALITA_DI_PAGAMENTO before filling: 5131282\n",
      "Number of NA in column qta_days_since_last_inbound_contact_microcausale_ALLACCIO_E_ATTIVAZIONE before filling: 5001437\n",
      "Number of NA in column qta_days_since_last_inbound_contact_microcausale_VERIFICHE_TECNICHE before filling: 5221913\n",
      "Number of NA in column qta_days_since_last_inbound_contact_microcausale_INFORMATIVA_NON_DI_COMPETENZA before filling: 5145596\n",
      "Number of NA in column qta_days_since_last_inbound_contact_microcausale_RVC before filling: 5192293\n",
      "Number of NA in column qta_days_since_last_inbound_contact_microcausale_GESTIONE_PRIVACY before filling: 5226800\n",
      "Number of NA in column qta_days_since_last_inbound_contact_microcausale_PIANO_DI_RIENTRO before filling: 4521418\n",
      "Number of NA in column qta_days_since_last_inbound_contact_microcausale_SUBENTRO before filling: 4587356\n",
      "Number of NA in column qta_days_since_last_inbound_contact_macrocausale_Causale_non_definita before filling: 3468369\n",
      "Number of NA in column qta_days_since_last_inbound_contact_macrocausale_Chiarimenti_su_fatture before filling: 3852458\n",
      "Number of NA in column qta_days_since_last_inbound_contact_macrocausale_Chiarimento_su_offerta before filling: 4644066\n",
      "Number of NA in column qta_days_since_last_inbound_contact_macrocausale_Credito before filling: 3973651\n",
      "Number of NA in column qta_days_since_last_inbound_contact_macrocausale_Esecuzione_lavori before filling: 4931424\n",
      "Number of NA in column qta_days_since_last_inbound_contact_macrocausale_Informativa before filling: 4663872\n",
      "Number of NA in column qta_days_since_last_inbound_contact_macrocausale_Problemi_in_fase_di_attivazione before filling: 4917085\n",
      "Number of NA in column qta_days_since_last_inbound_contact_macrocausale_Reclami_vendita_Privacy before filling: 5203251\n",
      "Number of NA in column qta_days_since_last_inbound_contact_macrocausale_Ritardata_esecuzione_subentri_volture_cessazioni_etc before filling: 3307885\n",
      "Number of NA in column mds_nome_campagna_last_response_marketing_cli before filling: 407602\n",
      "Number of NA in column xds_canale_last_response_marketing_cli before filling: 407602\n",
      "Number of NA in column xds_tipo_azione_campagna_last_response_marketing_cli before filling: 407602\n",
      "Number of NA in column xds_tipologia_azione_last_response_marketing_cli before filling: 407602\n",
      "Number of NA in column qta_days_last_response_marketing_cli before filling: 407602\n",
      "Number of NA in column lds_RETE_GAS before filling: 2184159\n",
      "Number of NA in column lds_Cluster_Polis_11_gruppi before filling: 2066777\n",
      "Number of NA in column fln_cell_m0_mono_flag before filling: 118666\n",
      "Number of NA in column qta_days_diff_diffida_fattura_cli before filling: 4142922\n",
      "Number of NA in column qta_days_last_diffida_cli before filling: 4021018\n",
      "Number of NA in column qta_days_diff_sollecito_fattura_cli before filling: 4173541\n",
      "Number of NA in column qta_days_last_sollecito_cli before filling: 4038934\n"
     ]
    },
    {
     "name": "stdout",
     "output_type": "stream",
     "text": [
      "Number of NA in column cdn_cv2_servizio before filling: 110623\n",
      "Number of NA in column cdc_cv_fasce_servizio before filling: 110623\n",
      "Number of NA in column cdc_cv_fasce_cliente before filling: 84610\n",
      "Number of NA in column cdn_cv2_cliente before filling: 84610\n",
      "Number of NA in column qta_days_servizio_attualmente_distaccato before filling: 5209204\n",
      "Number of NA in column qta_days_servizio_riallacciato before filling: 5186148\n",
      "Number of NA in column qta_days_emissione_fattura_pagamento_servizio_ultima_bolletta_emessa_canale_ALL before filling: 951172\n",
      "Number of NA in column qta_days_incasso_fattura_today_servizio_ultima_bolletta_emessa_canale_ALL before filling: 951172\n",
      "Number of NA in column qta_days_scadenza_fattura_pagamento_servizio_ultima_bolletta_emessa_canale_ALL before filling: 951172\n"
     ]
    }
   ],
   "source": [
    "#NA values before filling:\n",
    "for column in column_na:\n",
    "    numeric = isinstance(column_na[column], numbers.Number)\n",
    "    if (numeric and (column.startswith('qta_days_') or column.startswith('qta_giorni_'))):\n",
    "        print(\"Number of NA in column \"+column+\" before filling: \"+str(input_data_small_medium.select(column).\\\n",
    "        where(\"`\"+column+\"` is null or \"+\"`\"+column+\"` >= 3650\").count()))\n",
    "    else:\n",
    "        if(numeric and (not column.startswith('qta_days_')) and  (not column.startswith('qta_giorni_'))):\n",
    "            print(\"Number of NA in column \"+column+\" before filling: \"+str(input_data_small_medium.select(column).\\\n",
    "            where('`'+column+\"` is null\").count()))\n",
    "        else:\n",
    "            print(\"Number of NA in column \"+column+\" before filling: \"+str(input_data_small_medium.select(column).\\\n",
    "            where('`'+column+\"` is null or lower(\"+ column +\") in('***', 'null', 'na', '')\").count()))"
   ]
  },
  {
   "cell_type": "code",
   "execution_count": 36,
   "metadata": {
    "scrolled": true
   },
   "outputs": [
    {
     "name": "stderr",
     "output_type": "stream",
     "text": [
      "  0%|          | 0/99 [00:00<?, ?it/s]\n",
      "  0%|          | 0/5 [00:00<?, ?it/s]\u001b[A\n",
      " 60%|██████    | 3/5 [00:00<00:00, 24.33it/s]\u001b[A"
     ]
    },
    {
     "name": "stdout",
     "output_type": "stream",
     "text": [
      "Filling NA in column lds_prodotto_listino_2 with value *** ...\n"
     ]
    },
    {
     "name": "stderr",
     "output_type": "stream",
     "text": [
      "100%|██████████| 5/5 [00:00<00:00, 26.14it/s]\n",
      "  1%|          | 1/99 [00:00<00:19,  5.16it/s]\n",
      "  0%|          | 0/5 [00:00<?, ?it/s]\u001b[A"
     ]
    },
    {
     "name": "stdout",
     "output_type": "stream",
     "text": [
      "Filling NA in column mds_canale_acquisizione with value *** ...\n"
     ]
    },
    {
     "name": "stderr",
     "output_type": "stream",
     "text": [
      "\n",
      "100%|██████████| 5/5 [00:00<00:00, 32.46it/s]\u001b[A\n",
      "  2%|▏         | 2/99 [00:00<00:17,  5.47it/s]\n",
      "  0%|          | 0/5 [00:00<?, ?it/s]\u001b[A"
     ]
    },
    {
     "name": "stdout",
     "output_type": "stream",
     "text": [
      "Filling NA in column cdc_cap_nrm with value *** ...\n"
     ]
    },
    {
     "name": "stderr",
     "output_type": "stream",
     "text": [
      "\n",
      "100%|██████████| 5/5 [00:00<00:00, 32.01it/s]\u001b[A\n",
      "  3%|▎         | 3/99 [00:00<00:16,  5.69it/s]\n",
      "  0%|          | 0/5 [00:00<?, ?it/s]\u001b[A"
     ]
    },
    {
     "name": "stdout",
     "output_type": "stream",
     "text": [
      "Filling NA in column lds_tipo_uso with value *** ...\n"
     ]
    },
    {
     "name": "stderr",
     "output_type": "stream",
     "text": [
      "\n",
      "100%|██████████| 5/5 [00:00<00:00, 30.38it/s]\u001b[A\n",
      "  4%|▍         | 4/99 [00:00<00:16,  5.77it/s]\n",
      "  0%|          | 0/5 [00:00<?, ?it/s]\u001b[A"
     ]
    },
    {
     "name": "stdout",
     "output_type": "stream",
     "text": [
      "Filling NA in column sds_macro_categoria_ateco with value *** ...\n"
     ]
    },
    {
     "name": "stderr",
     "output_type": "stream",
     "text": [
      "\n",
      "100%|██████████| 5/5 [00:00<00:00, 31.85it/s]\u001b[A\n",
      "  5%|▌         | 5/99 [00:00<00:15,  5.91it/s]\n",
      "  0%|          | 0/5 [00:00<?, ?it/s]\u001b[A"
     ]
    },
    {
     "name": "stdout",
     "output_type": "stream",
     "text": [
      "Filling NA in column sds_categoria_ateco_intermedia with value *** ...\n"
     ]
    },
    {
     "name": "stderr",
     "output_type": "stream",
     "text": [
      "\n",
      "100%|██████████| 5/5 [00:00<00:00, 31.67it/s]\u001b[A\n",
      "  6%|▌         | 6/99 [00:00<00:15,  6.00it/s]\n",
      "  0%|          | 0/1 [00:00<?, ?it/s]\u001b[A"
     ]
    },
    {
     "name": "stdout",
     "output_type": "stream",
     "text": [
      "Filling NA in column qta_eta_nrm with value -1 ...\n"
     ]
    },
    {
     "name": "stderr",
     "output_type": "stream",
     "text": [
      "100%|██████████| 1/1 [00:00<00:00, 16.71it/s]\n",
      "\n",
      "100%|██████████| 1/1 [00:00<00:00, 28.76it/s]\n",
      "  8%|▊         | 8/99 [00:01<00:11,  7.59it/s]\n",
      "100%|██████████| 1/1 [00:00<00:00, 26.95it/s]\n",
      "\n",
      "100%|██████████| 1/1 [00:00<00:00, 26.14it/s]\n",
      "\n",
      "  0%|          | 0/5 [00:00<?, ?it/s]\u001b[A"
     ]
    },
    {
     "name": "stdout",
     "output_type": "stream",
     "text": [
      "Filling NA in column qta_indice_contattosita_ult_30gg with value -1 ...\n",
      "Filling NA in column val_fascia_stress with value -1 ...\n",
      "Filling NA in column val_fascia_contattosita with value 0 ...\n",
      "Filling NA in column cdc_id_mercato with value *** ...\n"
     ]
    },
    {
     "name": "stderr",
     "output_type": "stream",
     "text": [
      "\n",
      "100%|██████████| 5/5 [00:00<00:00, 31.10it/s]\u001b[A\n",
      " 11%|█         | 11/99 [00:01<00:10,  8.53it/s]\n",
      "  0%|          | 0/5 [00:00<?, ?it/s]\u001b[A\n",
      "100%|██████████| 5/5 [00:00<00:00, 30.90it/s]\u001b[A\n",
      "\n",
      "  0%|          | 0/5 [00:00<?, ?it/s]\u001b[A"
     ]
    },
    {
     "name": "stdout",
     "output_type": "stream",
     "text": [
      "Filling NA in column sds_provincia_fatturazione with value *** ...\n",
      "Filling NA in column sds_regione_fatturazione with value *** ...\n"
     ]
    },
    {
     "name": "stderr",
     "output_type": "stream",
     "text": [
      "\n",
      "100%|██████████| 5/5 [00:00<00:00, 28.59it/s]\u001b[A\n",
      " 13%|█▎        | 13/99 [00:01<00:11,  7.50it/s]\n",
      "  0%|          | 0/5 [00:00<?, ?it/s]\u001b[A\n",
      "100%|██████████| 5/5 [00:00<00:00, 29.96it/s]\u001b[A\n",
      " 14%|█▍        | 14/99 [00:01<00:12,  6.93it/s]\n",
      "  0%|          | 0/5 [00:00<?, ?it/s]\u001b[A"
     ]
    },
    {
     "name": "stdout",
     "output_type": "stream",
     "text": [
      "Filling NA in column sds_mat_fatturazione with value *** ...\n",
      "Filling NA in column sds_provincia with value *** ...\n"
     ]
    },
    {
     "name": "stderr",
     "output_type": "stream",
     "text": [
      "\n",
      "100%|██████████| 5/5 [00:00<00:00, 28.13it/s]\u001b[A\n",
      " 15%|█▌        | 15/99 [00:02<00:13,  6.44it/s]\n",
      "  0%|          | 0/5 [00:00<?, ?it/s]\u001b[A\n",
      "100%|██████████| 5/5 [00:00<00:00, 28.48it/s]\u001b[A\n",
      " 16%|█▌        | 16/99 [00:02<00:13,  6.16it/s]\n",
      "  0%|          | 0/5 [00:00<?, ?it/s]\u001b[A"
     ]
    },
    {
     "name": "stdout",
     "output_type": "stream",
     "text": [
      "Filling NA in column sds_regione with value *** ...\n",
      "Filling NA in column sds_mat with value *** ...\n"
     ]
    },
    {
     "name": "stderr",
     "output_type": "stream",
     "text": [
      "\n",
      "100%|██████████| 5/5 [00:00<00:00, 29.58it/s]\u001b[A\n",
      " 17%|█▋        | 17/99 [00:02<00:13,  6.06it/s]\n",
      "  0%|          | 0/5 [00:00<?, ?it/s]\u001b[A\n",
      "100%|██████████| 5/5 [00:00<00:00, 29.01it/s]\u001b[A\n",
      " 18%|█▊        | 18/99 [00:02<00:13,  5.95it/s]\n",
      "  0%|          | 0/5 [00:00<?, ?it/s]\u001b[A"
     ]
    },
    {
     "name": "stdout",
     "output_type": "stream",
     "text": [
      "Filling NA in column mds_sottocanale with value *** ...\n",
      "Filling NA in column flc_vas with value *** ...\n"
     ]
    },
    {
     "name": "stderr",
     "output_type": "stream",
     "text": [
      "\n",
      "100%|██████████| 5/5 [00:00<00:00, 28.01it/s]\u001b[A\n",
      " 19%|█▉        | 19/99 [00:02<00:13,  5.81it/s]\n",
      "  0%|          | 0/5 [00:00<?, ?it/s]\u001b[A\n",
      "100%|██████████| 5/5 [00:00<00:00, 26.96it/s]\u001b[A\n",
      " 20%|██        | 20/99 [00:02<00:13,  5.66it/s]\n",
      "  0%|          | 0/5 [00:00<?, ?it/s]\u001b[A"
     ]
    },
    {
     "name": "stdout",
     "output_type": "stream",
     "text": [
      "Filling NA in column mds_land_type with value *** ...\n",
      "Filling NA in column cdc_cd_censimento with value *** ...\n"
     ]
    },
    {
     "name": "stderr",
     "output_type": "stream",
     "text": [
      "\n",
      "100%|██████████| 5/5 [00:00<00:00, 27.87it/s]\u001b[A\n",
      " 21%|██        | 21/99 [00:03<00:14,  5.56it/s]\n",
      "  0%|          | 0/5 [00:00<?, ?it/s]\u001b[A\n",
      "100%|██████████| 5/5 [00:00<00:00, 27.68it/s]\u001b[A\n",
      " 22%|██▏       | 22/99 [00:03<00:13,  5.52it/s]\n",
      "  0%|          | 0/5 [00:00<?, ?it/s]\u001b[A"
     ]
    },
    {
     "name": "stdout",
     "output_type": "stream",
     "text": [
      "Filling NA in column cdc_istat with value *** ...\n",
      "Filling NA in column cdc_Zona_altimetrica with value *** ...\n"
     ]
    },
    {
     "name": "stderr",
     "output_type": "stream",
     "text": [
      "\n",
      "100%|██████████| 5/5 [00:00<00:00, 26.98it/s]\u001b[A\n",
      " 23%|██▎       | 23/99 [00:03<00:13,  5.46it/s]\n",
      "100%|██████████| 1/1 [00:00<00:00, 23.63it/s]\n",
      "\n",
      "100%|██████████| 1/1 [00:00<00:00, 23.34it/s]\n",
      "\n",
      "  0%|          | 0/5 [00:00<?, ?it/s]\u001b[A"
     ]
    },
    {
     "name": "stdout",
     "output_type": "stream",
     "text": [
      "Filling NA in column val_Altitudine_del_centro with value 0 ...\n",
      "Filling NA in column fln_Comune_litoraneo with value -1 ...\n",
      "Filling NA in column cdc_Comune_Montano with value *** ...\n"
     ]
    },
    {
     "name": "stderr",
     "output_type": "stream",
     "text": [
      "\n",
      " 40%|████      | 2/5 [00:00<00:00, 15.26it/s]\u001b[A\n",
      "100%|██████████| 5/5 [00:00<00:00, 19.95it/s]\u001b[A\n",
      " 26%|██▋       | 26/99 [00:03<00:11,  6.15it/s]\n",
      "100%|██████████| 1/1 [00:00<00:00, 24.05it/s]\n",
      "\n",
      "100%|██████████| 1/1 [00:00<00:00, 27.63it/s]\n",
      "\n",
      "100%|██████████| 1/1 [00:00<00:00, 28.39it/s]\n",
      " 29%|██▉       | 29/99 [00:03<00:08,  7.94it/s]\n",
      "100%|██████████| 1/1 [00:00<00:00, 27.61it/s]\n",
      "\n",
      "100%|██████████| 1/1 [00:00<00:00, 28.37it/s]\n",
      "\n",
      "  0%|          | 0/5 [00:00<?, ?it/s]\u001b[A"
     ]
    },
    {
     "name": "stdout",
     "output_type": "stream",
     "text": [
      "Filling NA in column val_Superficie_territoriale with value 0 ...\n",
      "Filling NA in column qta_Grado_di_urbanizzazione with value 0 ...\n",
      "Filling NA in column qta_giorni_ultimo_contatto_inbound with value -1 ...\n",
      "Filling NA in column qta_giorni_ultimo_contatto_outbound with value -1 ...\n",
      "Filling NA in column qta_giorni_ultimo_reclamo with value -1 ...\n",
      "Filling NA in column cdc_causale_attivazione with value *** ...\n"
     ]
    },
    {
     "name": "stderr",
     "output_type": "stream",
     "text": [
      "\n",
      "100%|██████████| 5/5 [00:00<00:00, 26.66it/s]\u001b[A\n",
      " 32%|███▏      | 32/99 [00:04<00:07,  8.71it/s]\n",
      "  0%|          | 0/5 [00:00<?, ?it/s]\u001b[A\n",
      "100%|██████████| 5/5 [00:00<00:00, 25.37it/s]\u001b[A\n",
      "\n"
     ]
    },
    {
     "name": "stdout",
     "output_type": "stream",
     "text": [
      "Filling NA in column lds_comune_fornitura with value *** ...\n",
      "Filling NA in column cdc_cluster_fattura_last with value OTHER ...\n"
     ]
    },
    {
     "name": "stderr",
     "output_type": "stream",
     "text": [
      "  0%|          | 0/5 [00:00<?, ?it/s]\u001b[A\n",
      "100%|██████████| 5/5 [00:00<00:00, 25.97it/s]\u001b[A\n",
      " 34%|███▍      | 34/99 [00:04<00:09,  7.16it/s]\n",
      "100%|██████████| 1/1 [00:00<00:00, 27.14it/s]\n",
      "\n",
      "100%|██████████| 1/1 [00:00<00:00, 26.74it/s]\n",
      "\n",
      "100%|██████████| 1/1 [00:00<00:00, 26.73it/s]\n",
      " 37%|███▋      | 37/99 [00:04<00:06,  9.12it/s]\n",
      "100%|██████████| 1/1 [00:00<00:00, 26.74it/s]\n",
      "\n",
      "100%|██████████| 1/1 [00:00<00:00, 26.62it/s]"
     ]
    },
    {
     "name": "stdout",
     "output_type": "stream",
     "text": [
      "Filling NA in column qta_days_since_last_inbound_contact with value -1 ...\n",
      "Filling NA in column qta_days_since_last_inbound_contact_channel_APP with value -1 ...\n",
      "Filling NA in column qta_days_since_last_inbound_contact_channel_FACE with value -1 ...\n",
      "Filling NA in column qta_days_since_last_inbound_contact_channel_TELEFONICO with value -1 ...\n",
      "Filling NA in column qta_days_since_last_inbound_contact_channel_DOCUMENTALE_COMPLESSO with value -1 ...\n"
     ]
    },
    {
     "name": "stderr",
     "output_type": "stream",
     "text": [
      "\n",
      "\n",
      "100%|██████████| 1/1 [00:00<00:00, 23.82it/s]\n",
      " 40%|████      | 40/99 [00:04<00:05, 11.18it/s]\n",
      "100%|██████████| 1/1 [00:00<00:00, 26.76it/s]\n",
      "\n",
      "100%|██████████| 1/1 [00:00<00:00, 25.09it/s]\n",
      "\n",
      "100%|██████████| 1/1 [00:00<00:00, 26.30it/s]\n",
      " 43%|████▎     | 43/99 [00:04<00:04, 13.34it/s]\n",
      "  0%|          | 0/1 [00:00<?, ?it/s]\u001b[A"
     ]
    },
    {
     "name": "stdout",
     "output_type": "stream",
     "text": [
      "Filling NA in column qta_days_since_last_inbound_contact_channel_DOCUMENTALE with value -1 ...\n",
      "Filling NA in column qta_days_since_last_inbound_contact_channel_CHAT with value -1 ...\n",
      "Filling NA in column qta_days_since_last_inbound_contact_channel_WEB with value -1 ...\n",
      "Filling NA in column qta_days_since_last_inbound_contact_microcausale_RETTIFICHE_CONSUMI_FATTURAZIONE with value -1 ...\n",
      "Filling NA in column qta_days_since_last_inbound_contact_microcausale_INFORMATIVA with value -1 ...\n"
     ]
    },
    {
     "name": "stderr",
     "output_type": "stream",
     "text": [
      "100%|██████████| 1/1 [00:00<00:00, 26.75it/s]\n",
      "\n",
      "100%|██████████| 1/1 [00:00<00:00, 25.90it/s]\n",
      "\n",
      "100%|██████████| 1/1 [00:00<00:00, 25.59it/s]\n",
      " 46%|████▋     | 46/99 [00:05<00:03, 15.43it/s]\n",
      "100%|██████████| 1/1 [00:00<00:00, 26.39it/s]\n",
      "\n",
      "100%|██████████| 1/1 [00:00<00:00, 27.07it/s]\n",
      "\n",
      "  0%|          | 0/1 [00:00<?, ?it/s]\u001b[A"
     ]
    },
    {
     "name": "stdout",
     "output_type": "stream",
     "text": [
      "Filling NA in column qta_days_since_last_inbound_contact_microcausale_VOLTURA with value -1 ...\n",
      "Filling NA in column qta_days_since_last_inbound_contact_microcausale_PRIMA_ATTIVAZIONE with value -1 ...\n",
      "Filling NA in column qta_days_since_last_inbound_contact_microcausale_COPIA_DOCUMENTAZIONI with value -1 ...\n",
      "Filling NA in column qta_days_since_last_inbound_contact_microcausale_RIMBORSO_COMPENSAZIONE with value -1 ...\n",
      "Filling NA in column qta_days_since_last_inbound_contact_microcausale_LAVORI_E_MODIFICHE_TECNICHE_POTENZA_TENSIONE with value -1 ...\n"
     ]
    },
    {
     "name": "stderr",
     "output_type": "stream",
     "text": [
      "100%|██████████| 1/1 [00:00<00:00, 26.31it/s]\n",
      " 49%|████▉     | 49/99 [00:05<00:02, 17.40it/s]\n",
      "100%|██████████| 1/1 [00:00<00:00, 27.09it/s]\n",
      "\n",
      "100%|██████████| 1/1 [00:00<00:00, 27.16it/s]\n",
      "\n",
      "100%|██████████| 1/1 [00:00<00:00, 27.09it/s]\n",
      " 53%|█████▎    | 52/99 [00:05<00:02, 19.23it/s]\n",
      "100%|██████████| 1/1 [00:00<00:00, 25.13it/s]\n",
      "\n",
      "100%|██████████| 1/1 [00:00<00:00, 25.74it/s]"
     ]
    },
    {
     "name": "stdout",
     "output_type": "stream",
     "text": [
      "Filling NA in column qta_days_since_last_inbound_contact_microcausale_INFORMATIVA_CREDITO with value -1 ...\n",
      "Filling NA in column qta_days_since_last_inbound_contact_microcausale_DISTACCHI_RIALLACCI with value -1 ...\n",
      "Filling NA in column qta_days_since_last_inbound_contact_microcausale_DISDETTE_E_CESSAZIONI with value -1 ...\n",
      "Filling NA in column qta_days_since_last_inbound_contact_microcausale_GESTIONE_VAS with value -1 ...\n",
      "Filling NA in column qta_days_since_last_inbound_contact_microcausale_AUTOLETTURA with value -1 ...\n"
     ]
    },
    {
     "name": "stderr",
     "output_type": "stream",
     "text": [
      "\n",
      "\n",
      "100%|██████████| 1/1 [00:00<00:00, 25.39it/s]\n",
      " 56%|█████▌    | 55/99 [00:05<00:02, 20.41it/s]\n",
      "100%|██████████| 1/1 [00:00<00:00, 22.58it/s]\n",
      "\n",
      "100%|██████████| 1/1 [00:00<00:00, 25.75it/s]\n",
      "\n",
      "100%|██████████| 1/1 [00:00<00:00, 26.00it/s]\n",
      " 59%|█████▊    | 58/99 [00:05<00:01, 21.19it/s]\n",
      "100%|██████████| 1/1 [00:00<00:00, 26.04it/s]\n",
      "\n",
      "  0%|          | 0/1 [00:00<?, ?it/s]\u001b[A"
     ]
    },
    {
     "name": "stdout",
     "output_type": "stream",
     "text": [
      "Filling NA in column qta_days_since_last_inbound_contact_microcausale_RIPENSAMENTO_O_DISCONOSCIMENTO with value -1 ...\n",
      "Filling NA in column qta_days_since_last_inbound_contact_microcausale_MODIFICA_ANAGRAFICA_O_DATI_FORNITURA_FATTURAZIONE with value -1 ...\n",
      "Filling NA in column qta_days_since_last_inbound_contact_microcausale_GESTIONE_FORNITURA with value -1 ...\n",
      "Filling NA in column qta_days_since_last_inbound_contact_microcausale_RECLAMI_SCRITTI with value -1 ...\n",
      "Filling NA in column qta_days_since_last_inbound_contact_microcausale_REPEATED_LIST with value -1 ...\n",
      "Filling NA in column qta_days_since_last_inbound_contact_microcausale_INFORMATIVA_CONSUMI_PAGAMENTI with value -1 ...\n"
     ]
    },
    {
     "name": "stderr",
     "output_type": "stream",
     "text": [
      "100%|██████████| 1/1 [00:00<00:00, 25.78it/s]\n",
      "\n",
      "100%|██████████| 1/1 [00:00<00:00, 25.61it/s]\n",
      " 62%|██████▏   | 61/99 [00:05<00:01, 22.01it/s]\n",
      "100%|██████████| 1/1 [00:00<00:00, 25.79it/s]\n",
      "\n",
      "100%|██████████| 1/1 [00:00<00:00, 25.69it/s]\n",
      "\n",
      "100%|██████████| 1/1 [00:00<00:00, 25.25it/s]\n",
      " 65%|██████▍   | 64/99 [00:05<00:01, 22.53it/s]\n",
      "  0%|          | 0/1 [00:00<?, ?it/s]\u001b[A"
     ]
    },
    {
     "name": "stdout",
     "output_type": "stream",
     "text": [
      "Filling NA in column qta_days_since_last_inbound_contact_microcausale_SWITCH_ATTIVO with value -1 ...\n",
      "Filling NA in column qta_days_since_last_inbound_contact_microcausale_MODALITA_DI_PAGAMENTO with value -1 ...\n",
      "Filling NA in column qta_days_since_last_inbound_contact_microcausale_ALLACCIO_E_ATTIVAZIONE with value -1 ...\n",
      "Filling NA in column qta_days_since_last_inbound_contact_microcausale_VERIFICHE_TECNICHE with value -1 ...\n",
      "Filling NA in column qta_days_since_last_inbound_contact_microcausale_INFORMATIVA_NON_DI_COMPETENZA with value -1 ...\n"
     ]
    },
    {
     "name": "stderr",
     "output_type": "stream",
     "text": [
      "100%|██████████| 1/1 [00:00<00:00, 25.83it/s]\n",
      "\n",
      "100%|██████████| 1/1 [00:00<00:00, 25.94it/s]\n",
      "\n",
      "100%|██████████| 1/1 [00:00<00:00, 15.36it/s]\n",
      " 68%|██████▊   | 67/99 [00:06<00:01, 21.70it/s]\n",
      "100%|██████████| 1/1 [00:00<00:00, 13.57it/s]\n",
      "\n",
      "  0%|          | 0/1 [00:00<?, ?it/s]\u001b[A"
     ]
    },
    {
     "name": "stdout",
     "output_type": "stream",
     "text": [
      "Filling NA in column qta_days_since_last_inbound_contact_microcausale_RVC with value -1 ...\n",
      "Filling NA in column qta_days_since_last_inbound_contact_microcausale_GESTIONE_PRIVACY with value -1 ...\n",
      "Filling NA in column qta_days_since_last_inbound_contact_microcausale_PIANO_DI_RIENTRO with value -1 ...\n",
      "Filling NA in column qta_days_since_last_inbound_contact_microcausale_SUBENTRO with value -1 ...\n"
     ]
    },
    {
     "name": "stderr",
     "output_type": "stream",
     "text": [
      "100%|██████████| 1/1 [00:00<00:00, 25.41it/s]\n",
      "\n",
      "100%|██████████| 1/1 [00:00<00:00, 26.26it/s]\n",
      " 71%|███████   | 70/99 [00:06<00:01, 20.76it/s]\n",
      "100%|██████████| 1/1 [00:00<00:00, 26.11it/s]\n",
      "\n",
      "100%|██████████| 1/1 [00:00<00:00, 25.94it/s]\n",
      "\n",
      "100%|██████████| 1/1 [00:00<00:00, 26.34it/s]\n",
      " 74%|███████▎  | 73/99 [00:06<00:01, 21.55it/s]\n",
      "  0%|          | 0/1 [00:00<?, ?it/s]\u001b[A"
     ]
    },
    {
     "name": "stdout",
     "output_type": "stream",
     "text": [
      "Filling NA in column qta_days_since_last_inbound_contact_macrocausale_Causale_non_definita with value -1 ...\n",
      "Filling NA in column qta_days_since_last_inbound_contact_macrocausale_Chiarimenti_su_fatture with value -1 ...\n",
      "Filling NA in column qta_days_since_last_inbound_contact_macrocausale_Chiarimento_su_offerta with value -1 ...\n",
      "Filling NA in column qta_days_since_last_inbound_contact_macrocausale_Credito with value -1 ...\n",
      "Filling NA in column qta_days_since_last_inbound_contact_macrocausale_Esecuzione_lavori with value -1 ...\n"
     ]
    },
    {
     "name": "stderr",
     "output_type": "stream",
     "text": [
      "100%|██████████| 1/1 [00:00<00:00, 26.25it/s]\n",
      "\n",
      "100%|██████████| 1/1 [00:00<00:00, 25.51it/s]\n",
      "\n",
      "100%|██████████| 1/1 [00:00<00:00, 24.88it/s]\n",
      " 77%|███████▋  | 76/99 [00:06<00:01, 22.24it/s]\n",
      "100%|██████████| 1/1 [00:00<00:00, 25.43it/s]\n",
      "\n",
      "100%|██████████| 1/1 [00:00<00:00, 25.62it/s]\n",
      "\n",
      "  0%|          | 0/5 [00:00<?, ?it/s]\u001b[A"
     ]
    },
    {
     "name": "stdout",
     "output_type": "stream",
     "text": [
      "Filling NA in column qta_days_since_last_inbound_contact_macrocausale_Informativa with value -1 ...\n",
      "Filling NA in column qta_days_since_last_inbound_contact_macrocausale_Problemi_in_fase_di_attivazione with value -1 ...\n",
      "Filling NA in column qta_days_since_last_inbound_contact_macrocausale_Reclami_vendita_Privacy with value -1 ...\n",
      "Filling NA in column qta_days_since_last_inbound_contact_macrocausale_Ritardata_esecuzione_subentri_volture_cessazioni_etc with value -1 ...\n",
      "Filling NA in column mds_nome_campagna_last_response_marketing_cli with value *** ...\n"
     ]
    },
    {
     "name": "stderr",
     "output_type": "stream",
     "text": [
      "\n",
      "100%|██████████| 5/5 [00:00<00:00, 24.07it/s]\u001b[A\n",
      " 80%|███████▉  | 79/99 [00:06<00:01, 16.43it/s]\n",
      "  0%|          | 0/5 [00:00<?, ?it/s]\u001b[A\n",
      " 60%|██████    | 3/5 [00:00<00:00, 23.43it/s]\u001b[A"
     ]
    },
    {
     "name": "stdout",
     "output_type": "stream",
     "text": [
      "Filling NA in column xds_canale_last_response_marketing_cli with value UNDEFINED ...\n"
     ]
    },
    {
     "name": "stderr",
     "output_type": "stream",
     "text": [
      "100%|██████████| 5/5 [00:00<00:00, 22.48it/s]\n",
      "\n",
      "  0%|          | 0/5 [00:00<?, ?it/s]\u001b[A\n",
      " 60%|██████    | 3/5 [00:00<00:00, 23.92it/s]\u001b[A"
     ]
    },
    {
     "name": "stdout",
     "output_type": "stream",
     "text": [
      "Filling NA in column xds_tipo_azione_campagna_last_response_marketing_cli with value ALTRO ...\n"
     ]
    },
    {
     "name": "stderr",
     "output_type": "stream",
     "text": [
      "100%|██████████| 5/5 [00:00<00:00, 23.50it/s]\n",
      " 82%|████████▏ | 81/99 [00:07<00:01,  9.20it/s]\n",
      "  0%|          | 0/5 [00:00<?, ?it/s]\u001b[A\n",
      " 60%|██████    | 3/5 [00:00<00:00, 24.48it/s]\u001b[A"
     ]
    },
    {
     "name": "stdout",
     "output_type": "stream",
     "text": [
      "Filling NA in column xds_tipologia_azione_last_response_marketing_cli with value ALTRO ...\n"
     ]
    },
    {
     "name": "stderr",
     "output_type": "stream",
     "text": [
      "100%|██████████| 5/5 [00:00<00:00, 23.89it/s]\n",
      "\n",
      "100%|██████████| 1/1 [00:00<00:00, 23.91it/s]\n",
      " 84%|████████▍ | 83/99 [00:07<00:01,  8.71it/s]\n",
      "  0%|          | 0/5 [00:00<?, ?it/s]\u001b[A\n",
      " 60%|██████    | 3/5 [00:00<00:00, 22.39it/s]\u001b[A"
     ]
    },
    {
     "name": "stdout",
     "output_type": "stream",
     "text": [
      "Filling NA in column qta_days_last_response_marketing_cli with value -1 ...\n",
      "Filling NA in column lds_RETE_GAS with value *** ...\n"
     ]
    },
    {
     "name": "stderr",
     "output_type": "stream",
     "text": [
      "100%|██████████| 5/5 [00:00<00:00, 22.29it/s]\n",
      "\n",
      "  0%|          | 0/5 [00:00<?, ?it/s]\u001b[A\n",
      " 60%|██████    | 3/5 [00:00<00:00, 23.36it/s]\u001b[A"
     ]
    },
    {
     "name": "stdout",
     "output_type": "stream",
     "text": [
      "Filling NA in column lds_Cluster_Polis_11_gruppi with value *** ...\n"
     ]
    },
    {
     "name": "stderr",
     "output_type": "stream",
     "text": [
      "100%|██████████| 5/5 [00:00<00:00, 23.06it/s]\n",
      " 86%|████████▌ | 85/99 [00:07<00:02,  6.79it/s]\n",
      "100%|██████████| 1/1 [00:00<00:00, 20.18it/s]\n",
      "\n",
      "100%|██████████| 1/1 [00:00<00:00, 24.01it/s]\n",
      "\n",
      "100%|██████████| 1/1 [00:00<00:00, 23.62it/s]\n",
      " 89%|████████▉ | 88/99 [00:07<00:01,  8.53it/s]\n",
      "100%|██████████| 1/1 [00:00<00:00, 24.15it/s]\n",
      "\n",
      "  0%|          | 0/1 [00:00<?, ?it/s]\u001b[A"
     ]
    },
    {
     "name": "stdout",
     "output_type": "stream",
     "text": [
      "Filling NA in column fln_cell_m0_mono_flag with value -1 ...\n",
      "Filling NA in column qta_days_diff_diffida_fattura_cli with value -1 ...\n",
      "Filling NA in column qta_days_last_diffida_cli with value -1 ...\n",
      "Filling NA in column qta_days_diff_sollecito_fattura_cli with value -1 ...\n",
      "Filling NA in column qta_days_last_sollecito_cli with value -1 ...\n"
     ]
    },
    {
     "name": "stderr",
     "output_type": "stream",
     "text": [
      "100%|██████████| 1/1 [00:00<00:00, 23.94it/s]\n",
      "\n",
      "100%|██████████| 1/1 [00:00<00:00, 23.84it/s]\n",
      " 92%|█████████▏| 91/99 [00:08<00:00, 10.48it/s]\n",
      "  0%|          | 0/5 [00:00<?, ?it/s]\u001b[A\n",
      " 60%|██████    | 3/5 [00:00<00:00, 22.62it/s]\u001b[A"
     ]
    },
    {
     "name": "stdout",
     "output_type": "stream",
     "text": [
      "Filling NA in column cdn_cv2_servizio with value 0 ...\n",
      "Filling NA in column cdc_cv_fasce_servizio with value *** ...\n"
     ]
    },
    {
     "name": "stderr",
     "output_type": "stream",
     "text": [
      "\n",
      "100%|██████████| 5/5 [00:00<00:00, 17.47it/s]\u001b[A\n",
      "\n",
      "  0%|          | 0/5 [00:00<?, ?it/s]\u001b[A\n",
      " 60%|██████    | 3/5 [00:00<00:00, 22.29it/s]\u001b[A"
     ]
    },
    {
     "name": "stdout",
     "output_type": "stream",
     "text": [
      "Filling NA in column cdc_cv_fasce_cliente with value *** ...\n"
     ]
    },
    {
     "name": "stderr",
     "output_type": "stream",
     "text": [
      "100%|██████████| 5/5 [00:00<00:00, 21.97it/s]\n",
      " 94%|█████████▍| 93/99 [00:08<00:00,  6.91it/s]\n",
      "100%|██████████| 1/1 [00:00<00:00, 23.06it/s]\n",
      "\n",
      "100%|██████████| 1/1 [00:00<00:00, 23.57it/s]\n",
      "\n",
      "100%|██████████| 1/1 [00:00<00:00, 23.72it/s]\n",
      " 97%|█████████▋| 96/99 [00:08<00:00,  8.71it/s]\n",
      "100%|██████████| 1/1 [00:00<00:00, 22.51it/s]\n",
      "\n",
      "  0%|          | 0/1 [00:00<?, ?it/s]\u001b[A"
     ]
    },
    {
     "name": "stdout",
     "output_type": "stream",
     "text": [
      "Filling NA in column cdn_cv2_cliente with value 0 ...\n",
      "Filling NA in column qta_days_servizio_attualmente_distaccato with value -1 ...\n",
      "Filling NA in column qta_days_servizio_riallacciato with value -1 ...\n",
      "Filling NA in column qta_days_emissione_fattura_pagamento_servizio_ultima_bolletta_emessa_canale_ALL with value -1 ...\n",
      "Filling NA in column qta_days_incasso_fattura_today_servizio_ultima_bolletta_emessa_canale_ALL with value -1 ...\n"
     ]
    },
    {
     "name": "stderr",
     "output_type": "stream",
     "text": [
      "100%|██████████| 1/1 [00:00<00:00, 22.19it/s]\n",
      "\n",
      "100%|██████████| 1/1 [00:00<00:00, 22.73it/s]\n",
      "100%|██████████| 99/99 [00:08<00:00, 11.08it/s]"
     ]
    },
    {
     "name": "stdout",
     "output_type": "stream",
     "text": [
      "Filling NA in column qta_days_scadenza_fattura_pagamento_servizio_ultima_bolletta_emessa_canale_ALL with value -1 ...\n"
     ]
    },
    {
     "name": "stderr",
     "output_type": "stream",
     "text": [
      "\n"
     ]
    }
   ],
   "source": [
    "for column in tqdm(column_na):\n",
    "    numeric = isinstance(column_na[column], numbers.Number)\n",
    "    if numeric:\n",
    "        input_data_small_medium = fill_na_with_value(data = input_data_small_medium, column = column, numeric = True, fill_with = column_na[column], na_values = [None])\n",
    "    else:\n",
    "        input_data_small_medium = fill_na_with_value(data = input_data_small_medium, column = column, numeric = False, fill_with = column_na[column], na_values = [None, '***', 'null', 'na', ''])"
   ]
  },
  {
   "cell_type": "markdown",
   "metadata": {},
   "source": [
    "For the days quantities, let's treat all values greater than 10 years as NAs and fill them"
   ]
  },
  {
   "cell_type": "code",
   "execution_count": 37,
   "metadata": {
    "scrolled": true
   },
   "outputs": [
    {
     "name": "stderr",
     "output_type": "stream",
     "text": [
      " 31%|███▏      | 31/99 [00:00<00:00, 237.65it/s]"
     ]
    },
    {
     "name": "stdout",
     "output_type": "stream",
     "text": [
      "Filling NA in column qta_giorni_ultimo_contatto_inbound with value -1 ...\n",
      "Filling NA in column qta_giorni_ultimo_contatto_outbound with value -1 ...\n",
      "Filling NA in column qta_giorni_ultimo_reclamo with value -1 ...\n",
      "Filling NA in column qta_days_since_last_inbound_contact with value -1 ...\n",
      "Filling NA in column qta_days_since_last_inbound_contact_channel_APP with value -1 ...\n"
     ]
    },
    {
     "name": "stderr",
     "output_type": "stream",
     "text": [
      "\r",
      " 39%|███▉      | 39/99 [00:00<00:00, 89.66it/s] "
     ]
    },
    {
     "name": "stdout",
     "output_type": "stream",
     "text": [
      "Filling NA in column qta_days_since_last_inbound_contact_channel_FACE with value -1 ...\n",
      "Filling NA in column qta_days_since_last_inbound_contact_channel_TELEFONICO with value -1 ...\n",
      "Filling NA in column qta_days_since_last_inbound_contact_channel_DOCUMENTALE_COMPLESSO with value -1 ...\n",
      "Filling NA in column qta_days_since_last_inbound_contact_channel_DOCUMENTALE with value -1 ...\n",
      "Filling NA in column qta_days_since_last_inbound_contact_channel_CHAT with value -1 ...\n",
      "Filling NA in column qta_days_since_last_inbound_contact_channel_WEB with value -1 ...\n",
      "Filling NA in column qta_days_since_last_inbound_contact_microcausale_RETTIFICHE_CONSUMI_FATTURAZIONE with value -1 ...\n",
      "Filling NA in column qta_days_since_last_inbound_contact_microcausale_INFORMATIVA with value -1 ...\n",
      "Filling NA in column qta_days_since_last_inbound_contact_microcausale_VOLTURA with value -1 ...\n",
      "Filling NA in column qta_days_since_last_inbound_contact_microcausale_PRIMA_ATTIVAZIONE with value -1 ...\n"
     ]
    },
    {
     "name": "stderr",
     "output_type": "stream",
     "text": [
      "\r",
      " 46%|████▋     | 46/99 [00:00<00:01, 46.96it/s]"
     ]
    },
    {
     "name": "stdout",
     "output_type": "stream",
     "text": [
      "Filling NA in column qta_days_since_last_inbound_contact_microcausale_COPIA_DOCUMENTAZIONI with value -1 ...\n",
      "Filling NA in column qta_days_since_last_inbound_contact_microcausale_RIMBORSO_COMPENSAZIONE with value -1 ...\n",
      "Filling NA in column qta_days_since_last_inbound_contact_microcausale_LAVORI_E_MODIFICHE_TECNICHE_POTENZA_TENSIONE with value -1 ...\n",
      "Filling NA in column qta_days_since_last_inbound_contact_microcausale_INFORMATIVA_CREDITO with value -1 ...\n",
      "Filling NA in column qta_days_since_last_inbound_contact_microcausale_DISTACCHI_RIALLACCI with value -1 ...\n"
     ]
    },
    {
     "name": "stderr",
     "output_type": "stream",
     "text": [
      "\r",
      " 52%|█████▏    | 51/99 [00:00<00:01, 35.38it/s]"
     ]
    },
    {
     "name": "stdout",
     "output_type": "stream",
     "text": [
      "Filling NA in column qta_days_since_last_inbound_contact_microcausale_DISDETTE_E_CESSAZIONI with value -1 ...\n",
      "Filling NA in column qta_days_since_last_inbound_contact_microcausale_GESTIONE_VAS with value -1 ...\n",
      "Filling NA in column qta_days_since_last_inbound_contact_microcausale_AUTOLETTURA with value -1 ...\n",
      "Filling NA in column qta_days_since_last_inbound_contact_microcausale_RIPENSAMENTO_O_DISCONOSCIMENTO with value -1 ...\n",
      "Filling NA in column qta_days_since_last_inbound_contact_microcausale_MODIFICA_ANAGRAFICA_O_DATI_FORNITURA_FATTURAZIONE with value -1 ...\n"
     ]
    },
    {
     "name": "stderr",
     "output_type": "stream",
     "text": [
      "\r",
      " 57%|█████▋    | 56/99 [00:01<00:01, 30.13it/s]"
     ]
    },
    {
     "name": "stdout",
     "output_type": "stream",
     "text": [
      "Filling NA in column qta_days_since_last_inbound_contact_microcausale_GESTIONE_FORNITURA with value -1 ...\n",
      "Filling NA in column qta_days_since_last_inbound_contact_microcausale_RECLAMI_SCRITTI with value -1 ...\n",
      "Filling NA in column qta_days_since_last_inbound_contact_microcausale_REPEATED_LIST with value -1 ...\n",
      "Filling NA in column qta_days_since_last_inbound_contact_microcausale_INFORMATIVA_CONSUMI_PAGAMENTI with value -1 ...\n"
     ]
    },
    {
     "name": "stderr",
     "output_type": "stream",
     "text": [
      "\r",
      " 61%|██████    | 60/99 [00:01<00:01, 27.21it/s]"
     ]
    },
    {
     "name": "stdout",
     "output_type": "stream",
     "text": [
      "Filling NA in column qta_days_since_last_inbound_contact_microcausale_SWITCH_ATTIVO with value -1 ...\n"
     ]
    },
    {
     "name": "stderr",
     "output_type": "stream",
     "text": [
      "\r",
      " 65%|██████▍   | 64/99 [00:01<00:01, 25.15it/s]"
     ]
    },
    {
     "name": "stdout",
     "output_type": "stream",
     "text": [
      "Filling NA in column qta_days_since_last_inbound_contact_microcausale_MODALITA_DI_PAGAMENTO with value -1 ...\n",
      "Filling NA in column qta_days_since_last_inbound_contact_microcausale_ALLACCIO_E_ATTIVAZIONE with value -1 ...\n",
      "Filling NA in column qta_days_since_last_inbound_contact_microcausale_VERIFICHE_TECNICHE with value -1 ...\n",
      "Filling NA in column qta_days_since_last_inbound_contact_microcausale_INFORMATIVA_NON_DI_COMPETENZA with value -1 ...\n",
      "Filling NA in column qta_days_since_last_inbound_contact_microcausale_RVC with value -1 ...\n"
     ]
    },
    {
     "name": "stderr",
     "output_type": "stream",
     "text": [
      "\r",
      " 68%|██████▊   | 67/99 [00:01<00:01, 23.93it/s]"
     ]
    },
    {
     "name": "stdout",
     "output_type": "stream",
     "text": [
      "Filling NA in column qta_days_since_last_inbound_contact_microcausale_GESTIONE_PRIVACY with value -1 ...\n",
      "Filling NA in column qta_days_since_last_inbound_contact_microcausale_PIANO_DI_RIENTRO with value -1 ...\n",
      "Filling NA in column qta_days_since_last_inbound_contact_microcausale_SUBENTRO with value -1 ...\n",
      "Filling NA in column qta_days_since_last_inbound_contact_macrocausale_Causale_non_definita with value -1 ...\n"
     ]
    },
    {
     "name": "stderr",
     "output_type": "stream",
     "text": [
      "\r",
      " 71%|███████   | 70/99 [00:01<00:01, 20.58it/s]"
     ]
    },
    {
     "name": "stdout",
     "output_type": "stream",
     "text": [
      "Filling NA in column qta_days_since_last_inbound_contact_macrocausale_Chiarimenti_su_fatture with value -1 ...\n",
      "Filling NA in column qta_days_since_last_inbound_contact_macrocausale_Chiarimento_su_offerta with value -1 ...\n",
      "Filling NA in column qta_days_since_last_inbound_contact_macrocausale_Credito with value -1 ...\n"
     ]
    },
    {
     "name": "stderr",
     "output_type": "stream",
     "text": [
      "\r",
      " 74%|███████▎  | 73/99 [00:01<00:01, 20.96it/s]"
     ]
    },
    {
     "name": "stdout",
     "output_type": "stream",
     "text": [
      "Filling NA in column qta_days_since_last_inbound_contact_macrocausale_Esecuzione_lavori with value -1 ...\n",
      "Filling NA in column qta_days_since_last_inbound_contact_macrocausale_Informativa with value -1 ...\n"
     ]
    },
    {
     "name": "stderr",
     "output_type": "stream",
     "text": [
      "\r",
      " 77%|███████▋  | 76/99 [00:02<00:01, 21.31it/s]"
     ]
    },
    {
     "name": "stdout",
     "output_type": "stream",
     "text": [
      "Filling NA in column qta_days_since_last_inbound_contact_macrocausale_Problemi_in_fase_di_attivazione with value -1 ...\n",
      "Filling NA in column qta_days_since_last_inbound_contact_macrocausale_Reclami_vendita_Privacy with value -1 ...\n",
      "Filling NA in column qta_days_since_last_inbound_contact_macrocausale_Ritardata_esecuzione_subentri_volture_cessazioni_etc with value -1 ...\n"
     ]
    },
    {
     "name": "stderr",
     "output_type": "stream",
     "text": [
      "\r",
      " 80%|███████▉  | 79/99 [00:02<00:00, 23.00it/s]"
     ]
    },
    {
     "name": "stdout",
     "output_type": "stream",
     "text": [
      "Filling NA in column qta_days_last_response_marketing_cli with value -1 ...\n",
      "Filling NA in column qta_days_diff_diffida_fattura_cli with value -1 ...\n"
     ]
    },
    {
     "name": "stderr",
     "output_type": "stream",
     "text": [
      "\r",
      " 89%|████████▉ | 88/99 [00:02<00:00, 28.59it/s]"
     ]
    },
    {
     "name": "stdout",
     "output_type": "stream",
     "text": [
      "Filling NA in column qta_days_last_diffida_cli with value -1 ...\n",
      "Filling NA in column qta_days_diff_sollecito_fattura_cli with value -1 ...\n",
      "Filling NA in column qta_days_last_sollecito_cli with value -1 ...\n"
     ]
    },
    {
     "name": "stderr",
     "output_type": "stream",
     "text": [
      "\r",
      " 96%|█████████▌| 95/99 [00:02<00:00, 32.95it/s]"
     ]
    },
    {
     "name": "stdout",
     "output_type": "stream",
     "text": [
      "Filling NA in column qta_days_servizio_attualmente_distaccato with value -1 ...\n",
      "Filling NA in column qta_days_servizio_riallacciato with value -1 ...\n",
      "Filling NA in column qta_days_emissione_fattura_pagamento_servizio_ultima_bolletta_emessa_canale_ALL with value -1 ...\n",
      "Filling NA in column qta_days_incasso_fattura_today_servizio_ultima_bolletta_emessa_canale_ALL with value -1 ...\n",
      "Filling NA in column qta_days_scadenza_fattura_pagamento_servizio_ultima_bolletta_emessa_canale_ALL with value -1 ...\n"
     ]
    },
    {
     "name": "stderr",
     "output_type": "stream",
     "text": [
      "100%|██████████| 99/99 [00:02<00:00, 37.43it/s]\n"
     ]
    }
   ],
   "source": [
    "for column in tqdm(column_na):\n",
    "    if (column.startswith('qta_days_') or column.startswith('qta_giorni_')):\n",
    "        input_data_small_medium = fill_na_with_value_qta(data = input_data_small_medium, column = column, fill_with = column_na[column])"
   ]
  },
  {
   "cell_type": "code",
   "execution_count": 38,
   "metadata": {},
   "outputs": [],
   "source": [
    "na_replaced_with_stars = [\n",
    "    'lds_prodotto_listino_2',\n",
    "    'mds_canale_acquisizione',\n",
    "    'cdc_cap_nrm',\n",
    "    'lds_tipo_uso',\n",
    "    'sds_macro_categoria_ateco',\n",
    "    'sds_categoria_ateco_intermedia',\n",
    "    'cdc_id_mercato',\n",
    "    'sds_provincia_fatturazione',\n",
    "    'sds_regione_fatturazione',\n",
    "    'sds_mat_fatturazione',\n",
    "    'sds_provincia',\n",
    "    'sds_regione',\n",
    "    'sds_mat',\n",
    "    'mds_sottocanale',\n",
    "    'flc_vas',\n",
    "    'mds_land_type',\n",
    "    'cdc_cd_censimento',\n",
    "    'cdc_istat',\n",
    "    'cdc_Zona_altimetrica',\n",
    "    'cdc_Comune_Montano',\n",
    "    'cdc_causale_attivazione',\n",
    "    'lds_comune_fornitura',\n",
    "    'mds_nome_campagna_last_response_marketing_cli',\n",
    "    'lds_RETE_GAS',\n",
    "    'lds_Cluster_Polis_11_gruppi',\n",
    "    'cdc_cv_fasce_servizio',\n",
    "    'cdc_cv_fasce_cliente'\n",
    "]"
   ]
  },
  {
   "cell_type": "code",
   "execution_count": 39,
   "metadata": {
    "scrolled": true
   },
   "outputs": [
    {
     "name": "stdout",
     "output_type": "stream",
     "text": [
      "Number of NA in column lds_prodotto_listino_2 after filling: 0\n",
      "Number of NA in column mds_canale_acquisizione after filling: 0\n",
      "Number of NA in column cdc_cap_nrm after filling: 0\n",
      "Number of NA in column lds_tipo_uso after filling: 0\n",
      "Number of NA in column sds_macro_categoria_ateco after filling: 0\n",
      "Number of NA in column sds_categoria_ateco_intermedia after filling: 0\n",
      "Number of NA in column qta_eta_nrm after filling: 0\n",
      "Number of NA in column qta_indice_contattosita_ult_30gg after filling: 0\n",
      "Number of NA in column val_fascia_stress after filling: 0\n",
      "Number of NA in column val_fascia_contattosita after filling: 0\n",
      "Number of NA in column cdc_id_mercato after filling: 0\n",
      "Number of NA in column sds_provincia_fatturazione after filling: 0\n",
      "Number of NA in column sds_regione_fatturazione after filling: 0\n",
      "Number of NA in column sds_mat_fatturazione after filling: 0\n",
      "Number of NA in column sds_provincia after filling: 0\n",
      "Number of NA in column sds_regione after filling: 0\n",
      "Number of NA in column sds_mat after filling: 0\n",
      "Number of NA in column mds_sottocanale after filling: 0\n",
      "Number of NA in column flc_vas after filling: 0\n",
      "Number of NA in column mds_land_type after filling: 0\n",
      "Number of NA in column cdc_cd_censimento after filling: 0\n",
      "Number of NA in column cdc_istat after filling: 0\n",
      "Number of NA in column cdc_Zona_altimetrica after filling: 0\n",
      "Number of NA in column val_Altitudine_del_centro after filling: 0\n",
      "Number of NA in column fln_Comune_litoraneo after filling: 0\n",
      "Number of NA in column cdc_Comune_Montano after filling: 0\n",
      "Number of NA in column val_Superficie_territoriale after filling: 0\n",
      "Number of NA in column qta_Grado_di_urbanizzazione after filling: 0\n",
      "Number of NA in column qta_giorni_ultimo_contatto_inbound after filling: 0\n",
      "Number of NA in column qta_giorni_ultimo_contatto_outbound after filling: 0\n",
      "Number of NA in column qta_giorni_ultimo_reclamo after filling: 0\n",
      "Number of NA in column cdc_causale_attivazione after filling: 0\n",
      "Number of NA in column lds_comune_fornitura after filling: 0\n",
      "Number of NA in column cdc_cluster_fattura_last after filling: 0\n",
      "Number of NA in column qta_days_since_last_inbound_contact after filling: 0\n",
      "Number of NA in column qta_days_since_last_inbound_contact_channel_APP after filling: 0\n",
      "Number of NA in column qta_days_since_last_inbound_contact_channel_FACE after filling: 0\n",
      "Number of NA in column qta_days_since_last_inbound_contact_channel_TELEFONICO after filling: 0\n",
      "Number of NA in column qta_days_since_last_inbound_contact_channel_DOCUMENTALE_COMPLESSO after filling: 0\n",
      "Number of NA in column qta_days_since_last_inbound_contact_channel_DOCUMENTALE after filling: 0\n",
      "Number of NA in column qta_days_since_last_inbound_contact_channel_CHAT after filling: 0\n",
      "Number of NA in column qta_days_since_last_inbound_contact_channel_WEB after filling: 0\n",
      "Number of NA in column qta_days_since_last_inbound_contact_microcausale_RETTIFICHE_CONSUMI_FATTURAZIONE after filling: 0\n",
      "Number of NA in column qta_days_since_last_inbound_contact_microcausale_INFORMATIVA after filling: 0\n",
      "Number of NA in column qta_days_since_last_inbound_contact_microcausale_VOLTURA after filling: 0\n",
      "Number of NA in column qta_days_since_last_inbound_contact_microcausale_PRIMA_ATTIVAZIONE after filling: 0\n",
      "Number of NA in column qta_days_since_last_inbound_contact_microcausale_COPIA_DOCUMENTAZIONI after filling: 0\n",
      "Number of NA in column qta_days_since_last_inbound_contact_microcausale_RIMBORSO_COMPENSAZIONE after filling: 0\n",
      "Number of NA in column qta_days_since_last_inbound_contact_microcausale_LAVORI_E_MODIFICHE_TECNICHE_POTENZA_TENSIONE after filling: 0\n",
      "Number of NA in column qta_days_since_last_inbound_contact_microcausale_INFORMATIVA_CREDITO after filling: 0\n",
      "Number of NA in column qta_days_since_last_inbound_contact_microcausale_DISTACCHI_RIALLACCI after filling: 0\n",
      "Number of NA in column qta_days_since_last_inbound_contact_microcausale_DISDETTE_E_CESSAZIONI after filling: 0\n",
      "Number of NA in column qta_days_since_last_inbound_contact_microcausale_GESTIONE_VAS after filling: 0\n",
      "Number of NA in column qta_days_since_last_inbound_contact_microcausale_AUTOLETTURA after filling: 0\n",
      "Number of NA in column qta_days_since_last_inbound_contact_microcausale_RIPENSAMENTO_O_DISCONOSCIMENTO after filling: 0\n",
      "Number of NA in column qta_days_since_last_inbound_contact_microcausale_MODIFICA_ANAGRAFICA_O_DATI_FORNITURA_FATTURAZIONE after filling: 0\n",
      "Number of NA in column qta_days_since_last_inbound_contact_microcausale_GESTIONE_FORNITURA after filling: 0\n",
      "Number of NA in column qta_days_since_last_inbound_contact_microcausale_RECLAMI_SCRITTI after filling: 0\n",
      "Number of NA in column qta_days_since_last_inbound_contact_microcausale_REPEATED_LIST after filling: 0\n",
      "Number of NA in column qta_days_since_last_inbound_contact_microcausale_INFORMATIVA_CONSUMI_PAGAMENTI after filling: 0\n",
      "Number of NA in column qta_days_since_last_inbound_contact_microcausale_SWITCH_ATTIVO after filling: 0\n",
      "Number of NA in column qta_days_since_last_inbound_contact_microcausale_MODALITA_DI_PAGAMENTO after filling: 0\n",
      "Number of NA in column qta_days_since_last_inbound_contact_microcausale_ALLACCIO_E_ATTIVAZIONE after filling: 0\n",
      "Number of NA in column qta_days_since_last_inbound_contact_microcausale_VERIFICHE_TECNICHE after filling: 0\n",
      "Number of NA in column qta_days_since_last_inbound_contact_microcausale_INFORMATIVA_NON_DI_COMPETENZA after filling: 0\n",
      "Number of NA in column qta_days_since_last_inbound_contact_microcausale_RVC after filling: 0\n",
      "Number of NA in column qta_days_since_last_inbound_contact_microcausale_GESTIONE_PRIVACY after filling: 0\n",
      "Number of NA in column qta_days_since_last_inbound_contact_microcausale_PIANO_DI_RIENTRO after filling: 0\n",
      "Number of NA in column qta_days_since_last_inbound_contact_microcausale_SUBENTRO after filling: 0\n",
      "Number of NA in column qta_days_since_last_inbound_contact_macrocausale_Causale_non_definita after filling: 0\n",
      "Number of NA in column qta_days_since_last_inbound_contact_macrocausale_Chiarimenti_su_fatture after filling: 0\n",
      "Number of NA in column qta_days_since_last_inbound_contact_macrocausale_Chiarimento_su_offerta after filling: 0\n",
      "Number of NA in column qta_days_since_last_inbound_contact_macrocausale_Credito after filling: 0\n",
      "Number of NA in column qta_days_since_last_inbound_contact_macrocausale_Esecuzione_lavori after filling: 0\n",
      "Number of NA in column qta_days_since_last_inbound_contact_macrocausale_Informativa after filling: 0\n",
      "Number of NA in column qta_days_since_last_inbound_contact_macrocausale_Problemi_in_fase_di_attivazione after filling: 0\n",
      "Number of NA in column qta_days_since_last_inbound_contact_macrocausale_Reclami_vendita_Privacy after filling: 0\n",
      "Number of NA in column qta_days_since_last_inbound_contact_macrocausale_Ritardata_esecuzione_subentri_volture_cessazioni_etc after filling: 0\n",
      "Number of NA in column mds_nome_campagna_last_response_marketing_cli after filling: 0\n",
      "Number of NA in column xds_canale_last_response_marketing_cli after filling: 0\n",
      "Number of NA in column xds_tipo_azione_campagna_last_response_marketing_cli after filling: 0\n",
      "Number of NA in column xds_tipologia_azione_last_response_marketing_cli after filling: 0\n",
      "Number of NA in column qta_days_last_response_marketing_cli after filling: 0\n",
      "Number of NA in column lds_RETE_GAS after filling: 0\n",
      "Number of NA in column lds_Cluster_Polis_11_gruppi after filling: 0\n",
      "Number of NA in column fln_cell_m0_mono_flag after filling: 0\n",
      "Number of NA in column qta_days_diff_diffida_fattura_cli after filling: 0\n",
      "Number of NA in column qta_days_last_diffida_cli after filling: 0\n",
      "Number of NA in column qta_days_diff_sollecito_fattura_cli after filling: 0\n",
      "Number of NA in column qta_days_last_sollecito_cli after filling: 0\n",
      "Number of NA in column cdn_cv2_servizio after filling: 0\n",
      "Number of NA in column cdc_cv_fasce_servizio after filling: 0\n",
      "Number of NA in column cdc_cv_fasce_cliente after filling: 0\n",
      "Number of NA in column cdn_cv2_cliente after filling: 0\n",
      "Number of NA in column qta_days_servizio_attualmente_distaccato after filling: 0\n",
      "Number of NA in column qta_days_servizio_riallacciato after filling: 0\n",
      "Number of NA in column qta_days_emissione_fattura_pagamento_servizio_ultima_bolletta_emessa_canale_ALL after filling: 0\n",
      "Number of NA in column qta_days_incasso_fattura_today_servizio_ultima_bolletta_emessa_canale_ALL after filling: 0\n"
     ]
    },
    {
     "name": "stdout",
     "output_type": "stream",
     "text": [
      "Number of NA in column qta_days_scadenza_fattura_pagamento_servizio_ultima_bolletta_emessa_canale_ALL after filling: 0\n"
     ]
    }
   ],
   "source": [
    "#NA values after filling:\n",
    "for column in column_na:\n",
    "    numeric = isinstance(column_na[column], numbers.Number)\n",
    "    if (numeric and (column.startswith('qta_days_') or column.startswith('qta_giorni_'))):\n",
    "        print(\"Number of NA in column \"+column+\" after filling: \"+str(input_data_small_medium.select(column).\\\n",
    "        where(\"`\"+column+\"` is null or \"+\"`\"+column+\"` >= 3650\").count()))\n",
    "    else:\n",
    "        if(numeric and (not column.startswith('qta_days_')) and  (not column.startswith('qta_giorni_'))):\n",
    "            print(\"Number of NA in column \"+column+\" after filling: \"+str(input_data_small_medium.select(column).\\\n",
    "            where('`'+column+\"` is null\").count()))\n",
    "        else:\n",
    "            if (column not in na_replaced_with_stars):\n",
    "                print(\"Number of NA in column \"+column+\" after filling: \"+str(input_data_small_medium.select(column).\\\n",
    "                where('`'+column+\"` is null or lower(\"+ column +\") in('***', 'null', 'na', '')\").count()))\n",
    "            else:\n",
    "                print(\"Number of NA in column \"+column+\" after filling: \"+str(input_data_small_medium.select(column).\\\n",
    "                where('`'+column+\"` is null or lower(\"+ column +\") in('null', 'na', '')\").count()))"
   ]
  },
  {
   "cell_type": "markdown",
   "metadata": {},
   "source": [
    "#### 4.2.1- MICRO"
   ]
  },
  {
   "cell_type": "code",
   "execution_count": 40,
   "metadata": {},
   "outputs": [],
   "source": [
    "column_na = {\n",
    "    'lds_prodotto_listino_2':'***',\n",
    "    'mds_canale_acquisizione':'***',\n",
    "    'cdc_cap_nrm':'***',\n",
    "    'lds_tipo_uso':'***',\n",
    "    'qta_eta_nrm':-1,\n",
    "    'qta_indice_contattosita_ult_30gg':-1,\n",
    "    'val_fascia_stress':-1,\n",
    "    'val_fascia_contattosita':0,\n",
    "    'cdc_id_mercato':'***',\n",
    "    'sds_provincia_fatturazione':'***',\n",
    "    'sds_regione_fatturazione':'***',\n",
    "    'sds_mat_fatturazione':'***',\n",
    "    'sds_provincia':'***',\n",
    "    'sds_regione':'***',\n",
    "    'sds_mat':'***',\n",
    "    'mds_sottocanale':'***',\n",
    "    'flc_vas':'***',\n",
    "    'mds_land_type':'***',\n",
    "    'cdc_cd_censimento':'***',\n",
    "    'cdc_istat':'***',\n",
    "    'cdc_Zona_altimetrica':'***',\n",
    "    'val_Altitudine_del_centro':0,\n",
    "    'fln_Comune_litoraneo':-1,\n",
    "    'cdc_Comune_Montano':'***',\n",
    "    'val_Superficie_territoriale':0,\n",
    "    'qta_Grado_di_urbanizzazione':0,\n",
    "    'qta_giorni_ultimo_contatto_inbound':-1,\n",
    "    'qta_giorni_ultimo_contatto_outbound':-1,\n",
    "    'qta_giorni_ultimo_reclamo':-1,\n",
    "    'cdc_causale_attivazione':'***',\n",
    "    'lds_comune_fornitura':'***',\n",
    "    'cdc_cluster_fattura_last':'OTHER',\n",
    "    'qta_days_since_last_inbound_contact':-1,\n",
    "    'qta_days_since_last_inbound_contact_channel_APP':-1,\n",
    "    'qta_days_since_last_inbound_contact_channel_FACE':-1,\n",
    "    'qta_days_since_last_inbound_contact_channel_TELEFONICO':-1,\n",
    "    'qta_days_since_last_inbound_contact_channel_DOCUMENTALE_COMPLESSO':-1,\n",
    "    'qta_days_since_last_inbound_contact_channel_DOCUMENTALE':-1,\n",
    "    'qta_days_since_last_inbound_contact_channel_CHAT':-1,\n",
    "    'qta_days_since_last_inbound_contact_channel_WEB':-1,\n",
    "    'qta_days_since_last_inbound_contact_microcausale_RETTIFICHE_CONSUMI_FATTURAZIONE':-1,\n",
    "    'qta_days_since_last_inbound_contact_microcausale_INFORMATIVA':-1,\n",
    "    'qta_days_since_last_inbound_contact_microcausale_VOLTURA':-1,\n",
    "    'qta_days_since_last_inbound_contact_microcausale_PRIMA_ATTIVAZIONE':-1,\n",
    "    'qta_days_since_last_inbound_contact_microcausale_COPIA_DOCUMENTAZIONI':-1,\n",
    "    'qta_days_since_last_inbound_contact_microcausale_RIMBORSO_COMPENSAZIONE':-1,\n",
    "    'qta_days_since_last_inbound_contact_microcausale_LAVORI_E_MODIFICHE_TECNICHE_POTENZA_TENSIONE':-1,\n",
    "    'qta_days_since_last_inbound_contact_microcausale_INFORMATIVA_CREDITO':-1,\n",
    "    'qta_days_since_last_inbound_contact_microcausale_DISTACCHI_RIALLACCI':-1,\n",
    "    'qta_days_since_last_inbound_contact_microcausale_DISDETTE_E_CESSAZIONI':-1,\n",
    "    'qta_days_since_last_inbound_contact_microcausale_GESTIONE_VAS':-1,\n",
    "    'qta_days_since_last_inbound_contact_microcausale_AUTOLETTURA':-1,\n",
    "    'qta_days_since_last_inbound_contact_microcausale_RIPENSAMENTO_O_DISCONOSCIMENTO':-1,\n",
    "    'qta_days_since_last_inbound_contact_microcausale_MODIFICA_ANAGRAFICA_O_DATI_FORNITURA_FATTURAZIONE':-1,\n",
    "    'qta_days_since_last_inbound_contact_microcausale_GESTIONE_FORNITURA':-1,\n",
    "    'qta_days_since_last_inbound_contact_microcausale_RECLAMI_SCRITTI':-1,\n",
    "    'qta_days_since_last_inbound_contact_microcausale_REPEATED_LIST':-1,\n",
    "    'qta_days_since_last_inbound_contact_microcausale_INFORMATIVA_CONSUMI_PAGAMENTI':-1,\n",
    "    'qta_days_since_last_inbound_contact_microcausale_SWITCH_ATTIVO':-1,\n",
    "    'qta_days_since_last_inbound_contact_microcausale_MODALITA_DI_PAGAMENTO':-1,\n",
    "    'qta_days_since_last_inbound_contact_microcausale_ALLACCIO_E_ATTIVAZIONE':-1,\n",
    "    'qta_days_since_last_inbound_contact_microcausale_VERIFICHE_TECNICHE':-1,\n",
    "    'qta_days_since_last_inbound_contact_microcausale_INFORMATIVA_NON_DI_COMPETENZA':-1,\n",
    "    'qta_days_since_last_inbound_contact_microcausale_RVC':-1,\n",
    "    'qta_days_since_last_inbound_contact_microcausale_GESTIONE_PRIVACY':-1,\n",
    "    'qta_days_since_last_inbound_contact_microcausale_PIANO_DI_RIENTRO':-1,\n",
    "    'qta_days_since_last_inbound_contact_microcausale_SUBENTRO':-1,\n",
    "    'qta_days_since_last_inbound_contact_macrocausale_Causale_non_definita':-1,\n",
    "    'qta_days_since_last_inbound_contact_macrocausale_Chiarimenti_su_fatture':-1,\n",
    "    'qta_days_since_last_inbound_contact_macrocausale_Chiarimento_su_offerta':-1,\n",
    "    'qta_days_since_last_inbound_contact_macrocausale_Credito':-1,\n",
    "    'qta_days_since_last_inbound_contact_macrocausale_Esecuzione_lavori':-1,\n",
    "    'qta_days_since_last_inbound_contact_macrocausale_Informativa':-1,\n",
    "    'qta_days_since_last_inbound_contact_macrocausale_Problemi_in_fase_di_attivazione':-1,\n",
    "    'qta_days_since_last_inbound_contact_macrocausale_Reclami_vendita_Privacy':-1,\n",
    "    'qta_days_since_last_inbound_contact_macrocausale_Ritardata_esecuzione_subentri_volture_cessazioni_etc':-1,\n",
    "    'mds_nome_campagna_last_response_marketing_cli':'***',\n",
    "    'xds_canale_last_response_marketing_cli':'UNDEFINED',\n",
    "    'xds_tipo_azione_campagna_last_response_marketing_cli':'ALTRO',\n",
    "    'xds_tipologia_azione_last_response_marketing_cli':'ALTRO',\n",
    "    'qta_days_last_response_marketing_cli':-1,\n",
    "    'lds_RETE_GAS':'***',\n",
    "    'lds_Cluster_Polis_11_gruppi':'***',\n",
    "    'fln_cell_m0_mono_flag':-1,\n",
    "    'qta_days_diff_diffida_fattura_cli':-1,\n",
    "    'qta_days_last_diffida_cli':-1,\n",
    "    'qta_days_diff_sollecito_fattura_cli':-1,\n",
    "    'qta_days_last_sollecito_cli':-1,\n",
    "    'cdn_cv2_servizio':0,\n",
    "    'cdc_cv_fasce_servizio':'***',\n",
    "    'cdc_cv_fasce_cliente':'***',\n",
    "    'cdn_cv2_cliente':0,\n",
    "    'qta_days_servizio_attualmente_distaccato':-1,\n",
    "    'qta_days_servizio_riallacciato':-1,\n",
    "    'qta_days_emissione_fattura_pagamento_servizio_ultima_bolletta_emessa_canale_ALL':-1,\n",
    "    'qta_days_incasso_fattura_today_servizio_ultima_bolletta_emessa_canale_ALL':-1,\n",
    "    'qta_days_scadenza_fattura_pagamento_servizio_ultima_bolletta_emessa_canale_ALL':-1\n",
    "}"
   ]
  },
  {
   "cell_type": "code",
   "execution_count": 41,
   "metadata": {
    "scrolled": true
   },
   "outputs": [
    {
     "name": "stdout",
     "output_type": "stream",
     "text": [
      "Number of NA in column lds_prodotto_listino_2 before filling: 6632\n",
      "Number of NA in column mds_canale_acquisizione before filling: 31845\n",
      "Number of NA in column cdc_cap_nrm before filling: 4147\n",
      "Number of NA in column lds_tipo_uso before filling: 7259\n",
      "Number of NA in column qta_eta_nrm before filling: 30\n",
      "Number of NA in column qta_indice_contattosita_ult_30gg before filling: 7146242\n",
      "Number of NA in column val_fascia_stress before filling: 7146242\n",
      "Number of NA in column val_fascia_contattosita before filling: 7146242\n",
      "Number of NA in column cdc_id_mercato before filling: 552211\n",
      "Number of NA in column sds_provincia_fatturazione before filling: 4504\n",
      "Number of NA in column sds_regione_fatturazione before filling: 4504\n",
      "Number of NA in column sds_mat_fatturazione before filling: 4504\n",
      "Number of NA in column sds_provincia before filling: 485864\n",
      "Number of NA in column sds_regione before filling: 485864\n",
      "Number of NA in column sds_mat before filling: 485864\n",
      "Number of NA in column mds_sottocanale before filling: 273447\n",
      "Number of NA in column flc_vas before filling: 6871705\n",
      "Number of NA in column mds_land_type before filling: 6867720\n",
      "Number of NA in column cdc_cd_censimento before filling: 6867720\n",
      "Number of NA in column cdc_istat before filling: 21826\n",
      "Number of NA in column cdc_Zona_altimetrica before filling: 23147\n",
      "Number of NA in column val_Altitudine_del_centro before filling: 23147\n",
      "Number of NA in column fln_Comune_litoraneo before filling: 23147\n",
      "Number of NA in column cdc_Comune_Montano before filling: 23147\n",
      "Number of NA in column val_Superficie_territoriale before filling: 23147\n",
      "Number of NA in column qta_Grado_di_urbanizzazione before filling: 23147\n",
      "Number of NA in column qta_giorni_ultimo_contatto_inbound before filling: 18653299\n",
      "Number of NA in column qta_giorni_ultimo_contatto_outbound before filling: 15810147\n",
      "Number of NA in column qta_giorni_ultimo_reclamo before filling: 19695658\n",
      "Number of NA in column cdc_causale_attivazione before filling: 466068\n",
      "Number of NA in column lds_comune_fornitura before filling: 4504\n",
      "Number of NA in column cdc_cluster_fattura_last before filling: 7666536\n",
      "Number of NA in column qta_days_since_last_inbound_contact before filling: 9476845\n",
      "Number of NA in column qta_days_since_last_inbound_contact_channel_APP before filling: 19980845\n",
      "Number of NA in column qta_days_since_last_inbound_contact_channel_FACE before filling: 16759501\n",
      "Number of NA in column qta_days_since_last_inbound_contact_channel_TELEFONICO before filling: 12631057\n",
      "Number of NA in column qta_days_since_last_inbound_contact_channel_DOCUMENTALE_COMPLESSO before filling: 19879799\n",
      "Number of NA in column qta_days_since_last_inbound_contact_channel_DOCUMENTALE before filling: 16158787\n",
      "Number of NA in column qta_days_since_last_inbound_contact_channel_CHAT before filling: 19645025\n",
      "Number of NA in column qta_days_since_last_inbound_contact_channel_WEB before filling: 19124354\n",
      "Number of NA in column qta_days_since_last_inbound_contact_microcausale_RETTIFICHE_CONSUMI_FATTURAZIONE before filling: 19778870\n",
      "Number of NA in column qta_days_since_last_inbound_contact_microcausale_INFORMATIVA before filling: 18834052\n",
      "Number of NA in column qta_days_since_last_inbound_contact_microcausale_VOLTURA before filling: 19393495\n",
      "Number of NA in column qta_days_since_last_inbound_contact_microcausale_PRIMA_ATTIVAZIONE before filling: 20060421\n",
      "Number of NA in column qta_days_since_last_inbound_contact_microcausale_COPIA_DOCUMENTAZIONI before filling: 17875244\n",
      "Number of NA in column qta_days_since_last_inbound_contact_microcausale_RIMBORSO_COMPENSAZIONE before filling: 20082066\n",
      "Number of NA in column qta_days_since_last_inbound_contact_microcausale_LAVORI_E_MODIFICHE_TECNICHE_POTENZA_TENSIONE before filling: 19435439\n",
      "Number of NA in column qta_days_since_last_inbound_contact_microcausale_INFORMATIVA_CREDITO before filling: 18833950\n",
      "Number of NA in column qta_days_since_last_inbound_contact_microcausale_DISTACCHI_RIALLACCI before filling: 19514324\n",
      "Number of NA in column qta_days_since_last_inbound_contact_microcausale_DISDETTE_E_CESSAZIONI before filling: 19771762\n",
      "Number of NA in column qta_days_since_last_inbound_contact_microcausale_GESTIONE_VAS before filling: 17671722\n",
      "Number of NA in column qta_days_since_last_inbound_contact_microcausale_AUTOLETTURA before filling: 19233470\n",
      "Number of NA in column qta_days_since_last_inbound_contact_microcausale_RIPENSAMENTO_O_DISCONOSCIMENTO before filling: 20183441\n",
      "Number of NA in column qta_days_since_last_inbound_contact_microcausale_MODIFICA_ANAGRAFICA_O_DATI_FORNITURA_FATTURAZIONE before filling: 17364251\n",
      "Number of NA in column qta_days_since_last_inbound_contact_microcausale_GESTIONE_FORNITURA before filling: 17415198\n",
      "Number of NA in column qta_days_since_last_inbound_contact_microcausale_RECLAMI_SCRITTI before filling: 20218849\n",
      "Number of NA in column qta_days_since_last_inbound_contact_microcausale_REPEATED_LIST before filling: 20133073\n",
      "Number of NA in column qta_days_since_last_inbound_contact_microcausale_INFORMATIVA_CONSUMI_PAGAMENTI before filling: 18966657\n",
      "Number of NA in column qta_days_since_last_inbound_contact_microcausale_SWITCH_ATTIVO before filling: 18720354\n",
      "Number of NA in column qta_days_since_last_inbound_contact_microcausale_MODALITA_DI_PAGAMENTO before filling: 19865807\n",
      "Number of NA in column qta_days_since_last_inbound_contact_microcausale_ALLACCIO_E_ATTIVAZIONE before filling: 19519721\n",
      "Number of NA in column qta_days_since_last_inbound_contact_microcausale_VERIFICHE_TECNICHE before filling: 20103691\n",
      "Number of NA in column qta_days_since_last_inbound_contact_microcausale_INFORMATIVA_NON_DI_COMPETENZA before filling: 19964232\n",
      "Number of NA in column qta_days_since_last_inbound_contact_microcausale_RVC before filling: 19943189\n",
      "Number of NA in column qta_days_since_last_inbound_contact_microcausale_GESTIONE_PRIVACY before filling: 20079474\n",
      "Number of NA in column qta_days_since_last_inbound_contact_microcausale_PIANO_DI_RIENTRO before filling: 18481315\n",
      "Number of NA in column qta_days_since_last_inbound_contact_microcausale_SUBENTRO before filling: 18158575\n",
      "Number of NA in column qta_days_since_last_inbound_contact_macrocausale_Causale_non_definita before filling: 14457581\n",
      "Number of NA in column qta_days_since_last_inbound_contact_macrocausale_Chiarimenti_su_fatture before filling: 15655745\n",
      "Number of NA in column qta_days_since_last_inbound_contact_macrocausale_Chiarimento_su_offerta before filling: 18026992\n",
      "Number of NA in column qta_days_since_last_inbound_contact_macrocausale_Credito before filling: 16832767\n",
      "Number of NA in column qta_days_since_last_inbound_contact_macrocausale_Esecuzione_lavori before filling: 19334264\n",
      "Number of NA in column qta_days_since_last_inbound_contact_macrocausale_Informativa before filling: 18674312\n",
      "Number of NA in column qta_days_since_last_inbound_contact_macrocausale_Problemi_in_fase_di_attivazione before filling: 18659595\n",
      "Number of NA in column qta_days_since_last_inbound_contact_macrocausale_Reclami_vendita_Privacy before filling: 20034321\n",
      "Number of NA in column qta_days_since_last_inbound_contact_macrocausale_Ritardata_esecuzione_subentri_volture_cessazioni_etc before filling: 14120598\n",
      "Number of NA in column mds_nome_campagna_last_response_marketing_cli before filling: 1623900\n",
      "Number of NA in column xds_canale_last_response_marketing_cli before filling: 1623900\n",
      "Number of NA in column xds_tipo_azione_campagna_last_response_marketing_cli before filling: 1623900\n",
      "Number of NA in column xds_tipologia_azione_last_response_marketing_cli before filling: 1623900\n",
      "Number of NA in column qta_days_last_response_marketing_cli before filling: 1623900\n",
      "Number of NA in column lds_RETE_GAS before filling: 7417182\n",
      "Number of NA in column lds_Cluster_Polis_11_gruppi before filling: 6868637\n",
      "Number of NA in column fln_cell_m0_mono_flag before filling: 403134\n",
      "Number of NA in column qta_days_diff_diffida_fattura_cli before filling: 16290106\n",
      "Number of NA in column qta_days_last_diffida_cli before filling: 15924649\n",
      "Number of NA in column qta_days_diff_sollecito_fattura_cli before filling: 15622276\n",
      "Number of NA in column qta_days_last_sollecito_cli before filling: 15237849\n",
      "Number of NA in column cdn_cv2_servizio before filling: 411236\n"
     ]
    },
    {
     "name": "stdout",
     "output_type": "stream",
     "text": [
      "Number of NA in column cdc_cv_fasce_servizio before filling: 411236\n",
      "Number of NA in column cdc_cv_fasce_cliente before filling: 349286\n",
      "Number of NA in column cdn_cv2_cliente before filling: 349286\n",
      "Number of NA in column qta_days_servizio_attualmente_distaccato before filling: 20002484\n",
      "Number of NA in column qta_days_servizio_riallacciato before filling: 19774093\n",
      "Number of NA in column qta_days_emissione_fattura_pagamento_servizio_ultima_bolletta_emessa_canale_ALL before filling: 2924608\n",
      "Number of NA in column qta_days_incasso_fattura_today_servizio_ultima_bolletta_emessa_canale_ALL before filling: 2924608\n",
      "Number of NA in column qta_days_scadenza_fattura_pagamento_servizio_ultima_bolletta_emessa_canale_ALL before filling: 2924608\n"
     ]
    }
   ],
   "source": [
    "#NA values before filling:\n",
    "for column in column_na:\n",
    "    numeric = isinstance(column_na[column], numbers.Number)\n",
    "    if (numeric and (column.startswith('qta_days_') or column.startswith('qta_giorni_'))):\n",
    "        print(\"Number of NA in column \"+column+\" before filling: \"+str(input_data_micro.select(column).\\\n",
    "        where(\"`\"+column+\"` is null or \"+\"`\"+column+\"` >= 3650\").count()))\n",
    "    else:\n",
    "        if(numeric and (not column.startswith('qta_days_')) and  (not column.startswith('qta_giorni_'))):\n",
    "            print(\"Number of NA in column \"+column+\" before filling: \"+str(input_data_micro.select(column).\\\n",
    "            where('`'+column+\"` is null\").count()))\n",
    "        else:\n",
    "            print(\"Number of NA in column \"+column+\" before filling: \"+str(input_data_micro.select(column).\\\n",
    "            where('`'+column+\"` is null or lower(\"+ column +\") in('***', 'null', 'na', '')\").count()))"
   ]
  },
  {
   "cell_type": "code",
   "execution_count": 42,
   "metadata": {},
   "outputs": [
    {
     "name": "stderr",
     "output_type": "stream",
     "text": [
      "  0%|          | 0/97 [00:00<?, ?it/s]\n",
      "  0%|          | 0/5 [00:00<?, ?it/s]\u001b[A\n",
      " 40%|████      | 2/5 [00:00<00:00, 16.40it/s]\u001b[A"
     ]
    },
    {
     "name": "stdout",
     "output_type": "stream",
     "text": [
      "Filling NA in column lds_prodotto_listino_2 with value *** ...\n"
     ]
    },
    {
     "name": "stderr",
     "output_type": "stream",
     "text": [
      "\n",
      "100%|██████████| 5/5 [00:00<00:00, 20.62it/s]\u001b[A\n",
      "  1%|          | 1/97 [00:00<00:23,  4.03it/s]\n",
      "  0%|          | 0/5 [00:00<?, ?it/s]\u001b[A\n",
      " 60%|██████    | 3/5 [00:00<00:00, 23.93it/s]\u001b[A"
     ]
    },
    {
     "name": "stdout",
     "output_type": "stream",
     "text": [
      "Filling NA in column mds_canale_acquisizione with value *** ...\n"
     ]
    },
    {
     "name": "stderr",
     "output_type": "stream",
     "text": [
      "\n",
      "100%|██████████| 5/5 [00:00<00:00, 21.61it/s]\u001b[A\n",
      "  2%|▏         | 2/97 [00:00<00:23,  4.09it/s]\n",
      "  0%|          | 0/5 [00:00<?, ?it/s]\u001b[A\n",
      " 60%|██████    | 3/5 [00:00<00:00, 21.54it/s]\u001b[A"
     ]
    },
    {
     "name": "stdout",
     "output_type": "stream",
     "text": [
      "Filling NA in column cdc_cap_nrm with value *** ...\n"
     ]
    },
    {
     "name": "stderr",
     "output_type": "stream",
     "text": [
      "\n",
      "100%|██████████| 5/5 [00:00<00:00, 20.22it/s]\u001b[A\n",
      "  3%|▎         | 3/97 [00:00<00:23,  4.05it/s]\n",
      "  0%|          | 0/5 [00:00<?, ?it/s]\u001b[A\n",
      " 60%|██████    | 3/5 [00:00<00:00, 17.76it/s]\u001b[A"
     ]
    },
    {
     "name": "stdout",
     "output_type": "stream",
     "text": [
      "Filling NA in column lds_tipo_uso with value *** ...\n"
     ]
    },
    {
     "name": "stderr",
     "output_type": "stream",
     "text": [
      "\n",
      "100%|██████████| 5/5 [00:00<00:00, 16.72it/s]\u001b[A\n",
      "  4%|▍         | 4/97 [00:01<00:24,  3.79it/s]\n",
      "100%|██████████| 1/1 [00:00<00:00, 17.88it/s]\n",
      "\n",
      "100%|██████████| 1/1 [00:00<00:00, 19.18it/s]\n",
      "  6%|▌         | 6/97 [00:01<00:18,  4.94it/s]\n",
      "100%|██████████| 1/1 [00:00<00:00, 22.10it/s]\n",
      "\n",
      "  0%|          | 0/1 [00:00<?, ?it/s]\u001b[A"
     ]
    },
    {
     "name": "stdout",
     "output_type": "stream",
     "text": [
      "Filling NA in column qta_eta_nrm with value -1 ...\n",
      "Filling NA in column qta_indice_contattosita_ult_30gg with value -1 ...\n",
      "Filling NA in column val_fascia_stress with value -1 ...\n",
      "Filling NA in column val_fascia_contattosita with value 0 ...\n"
     ]
    },
    {
     "name": "stderr",
     "output_type": "stream",
     "text": [
      "100%|██████████| 1/1 [00:00<00:00, 15.31it/s]\n",
      "  8%|▊         | 8/97 [00:01<00:14,  6.23it/s]\n",
      "  0%|          | 0/5 [00:00<?, ?it/s]\u001b[A\n",
      " 40%|████      | 2/5 [00:00<00:00, 19.47it/s]\u001b[A"
     ]
    },
    {
     "name": "stdout",
     "output_type": "stream",
     "text": [
      "Filling NA in column cdc_id_mercato with value *** ...\n"
     ]
    },
    {
     "name": "stderr",
     "output_type": "stream",
     "text": [
      "\n",
      "100%|██████████| 5/5 [00:00<00:00, 18.25it/s]\u001b[A\n",
      "  9%|▉         | 9/97 [00:01<00:17,  5.07it/s]\n",
      "  0%|          | 0/5 [00:00<?, ?it/s]\u001b[A\n",
      " 40%|████      | 2/5 [00:00<00:00, 16.82it/s]\u001b[A"
     ]
    },
    {
     "name": "stdout",
     "output_type": "stream",
     "text": [
      "Filling NA in column sds_provincia_fatturazione with value *** ...\n"
     ]
    },
    {
     "name": "stderr",
     "output_type": "stream",
     "text": [
      "\n",
      "100%|██████████| 5/5 [00:00<00:00, 17.41it/s]\u001b[A\n",
      " 10%|█         | 10/97 [00:01<00:19,  4.36it/s]\n",
      "  0%|          | 0/5 [00:00<?, ?it/s]\u001b[A\n",
      " 40%|████      | 2/5 [00:00<00:00, 17.74it/s]\u001b[A"
     ]
    },
    {
     "name": "stdout",
     "output_type": "stream",
     "text": [
      "Filling NA in column sds_regione_fatturazione with value *** ...\n"
     ]
    },
    {
     "name": "stderr",
     "output_type": "stream",
     "text": [
      "\n",
      " 80%|████████  | 4/5 [00:00<00:00, 17.50it/s]\u001b[A\n",
      "100%|██████████| 5/5 [00:00<00:00, 13.61it/s]\u001b[A\n",
      " 11%|█▏        | 11/97 [00:02<00:23,  3.65it/s]\n",
      "  0%|          | 0/5 [00:00<?, ?it/s]\u001b[A\n",
      " 40%|████      | 2/5 [00:00<00:00, 14.06it/s]\u001b[A"
     ]
    },
    {
     "name": "stdout",
     "output_type": "stream",
     "text": [
      "Filling NA in column sds_mat_fatturazione with value *** ...\n"
     ]
    },
    {
     "name": "stderr",
     "output_type": "stream",
     "text": [
      "\n",
      "100%|██████████| 5/5 [00:00<00:00, 15.50it/s]\u001b[A\n",
      " 12%|█▏        | 12/97 [00:02<00:24,  3.44it/s]\n",
      "  0%|          | 0/5 [00:00<?, ?it/s]\u001b[A\n",
      " 40%|████      | 2/5 [00:00<00:00, 18.42it/s]\u001b[A"
     ]
    },
    {
     "name": "stdout",
     "output_type": "stream",
     "text": [
      "Filling NA in column sds_provincia with value *** ...\n"
     ]
    },
    {
     "name": "stderr",
     "output_type": "stream",
     "text": [
      "\n",
      "100%|██████████| 5/5 [00:00<00:00, 19.16it/s]\u001b[A\n",
      " 13%|█▎        | 13/97 [00:02<00:23,  3.52it/s]\n",
      "  0%|          | 0/5 [00:00<?, ?it/s]\u001b[A\n",
      "100%|██████████| 5/5 [00:00<00:00, 27.89it/s]\u001b[A\n",
      " 14%|█▍        | 14/97 [00:03<00:21,  3.94it/s]\n",
      "  0%|          | 0/5 [00:00<?, ?it/s]\u001b[A"
     ]
    },
    {
     "name": "stdout",
     "output_type": "stream",
     "text": [
      "Filling NA in column sds_regione with value *** ...\n",
      "Filling NA in column sds_mat with value *** ...\n"
     ]
    },
    {
     "name": "stderr",
     "output_type": "stream",
     "text": [
      "\n",
      "100%|██████████| 5/5 [00:00<00:00, 27.85it/s]\u001b[A\n",
      " 15%|█▌        | 15/97 [00:03<00:19,  4.30it/s]\n",
      "  0%|          | 0/5 [00:00<?, ?it/s]\u001b[A\n",
      "100%|██████████| 5/5 [00:00<00:00, 27.23it/s]\u001b[A\n",
      " 16%|█▋        | 16/97 [00:03<00:17,  4.53it/s]\n",
      "  0%|          | 0/5 [00:00<?, ?it/s]\u001b[A"
     ]
    },
    {
     "name": "stdout",
     "output_type": "stream",
     "text": [
      "Filling NA in column mds_sottocanale with value *** ...\n",
      "Filling NA in column flc_vas with value *** ...\n"
     ]
    },
    {
     "name": "stderr",
     "output_type": "stream",
     "text": [
      "\n",
      "100%|██████████| 5/5 [00:00<00:00, 23.00it/s]\u001b[A\n",
      " 18%|█▊        | 17/97 [00:03<00:17,  4.52it/s]\n",
      "  0%|          | 0/5 [00:00<?, ?it/s]\u001b[A\n",
      " 60%|██████    | 3/5 [00:00<00:00, 22.49it/s]\u001b[A"
     ]
    },
    {
     "name": "stdout",
     "output_type": "stream",
     "text": [
      "Filling NA in column mds_land_type with value *** ...\n"
     ]
    },
    {
     "name": "stderr",
     "output_type": "stream",
     "text": [
      "\n",
      "100%|██████████| 5/5 [00:00<00:00, 19.60it/s]\u001b[A\n",
      " 19%|█▊        | 18/97 [00:03<00:18,  4.28it/s]\n",
      "  0%|          | 0/5 [00:00<?, ?it/s]\u001b[A\n",
      " 40%|████      | 2/5 [00:00<00:00, 16.14it/s]\u001b[A"
     ]
    },
    {
     "name": "stdout",
     "output_type": "stream",
     "text": [
      "Filling NA in column cdc_cd_censimento with value *** ...\n"
     ]
    },
    {
     "name": "stderr",
     "output_type": "stream",
     "text": [
      "\n",
      "100%|██████████| 5/5 [00:00<00:00, 16.03it/s]\u001b[A\n",
      " 20%|█▉        | 19/97 [00:04<00:20,  3.87it/s]\n",
      "  0%|          | 0/5 [00:00<?, ?it/s]\u001b[A\n",
      " 40%|████      | 2/5 [00:00<00:00, 17.10it/s]\u001b[A"
     ]
    },
    {
     "name": "stdout",
     "output_type": "stream",
     "text": [
      "Filling NA in column cdc_istat with value *** ...\n"
     ]
    },
    {
     "name": "stderr",
     "output_type": "stream",
     "text": [
      "\n",
      "100%|██████████| 5/5 [00:00<00:00, 14.98it/s]\u001b[A\n",
      " 21%|██        | 20/97 [00:04<00:21,  3.54it/s]\n",
      "  0%|          | 0/5 [00:00<?, ?it/s]\u001b[A\n",
      " 40%|████      | 2/5 [00:00<00:00, 17.38it/s]\u001b[A"
     ]
    },
    {
     "name": "stdout",
     "output_type": "stream",
     "text": [
      "Filling NA in column cdc_Zona_altimetrica with value *** ...\n"
     ]
    },
    {
     "name": "stderr",
     "output_type": "stream",
     "text": [
      "\n",
      "100%|██████████| 5/5 [00:00<00:00, 16.93it/s]\u001b[A\n",
      " 22%|██▏       | 21/97 [00:04<00:21,  3.46it/s]\n",
      "100%|██████████| 1/1 [00:00<00:00, 14.33it/s]\n",
      "\n",
      "100%|██████████| 1/1 [00:00<00:00, 14.58it/s]\n",
      " 24%|██▎       | 23/97 [00:05<00:16,  4.42it/s]\n",
      "  0%|          | 0/5 [00:00<?, ?it/s]\u001b[A"
     ]
    },
    {
     "name": "stdout",
     "output_type": "stream",
     "text": [
      "Filling NA in column val_Altitudine_del_centro with value 0 ...\n",
      "Filling NA in column fln_Comune_litoraneo with value -1 ...\n",
      "Filling NA in column cdc_Comune_Montano with value *** ...\n"
     ]
    },
    {
     "name": "stderr",
     "output_type": "stream",
     "text": [
      "\n",
      " 40%|████      | 2/5 [00:00<00:00, 19.36it/s]\u001b[A\n",
      "100%|██████████| 5/5 [00:00<00:00, 20.68it/s]\u001b[A\n",
      " 25%|██▍       | 24/97 [00:05<00:17,  4.28it/s]\n",
      "100%|██████████| 1/1 [00:00<00:00, 18.59it/s]\n",
      "\n",
      "100%|██████████| 1/1 [00:00<00:00, 17.12it/s]\n",
      " 27%|██▋       | 26/97 [00:05<00:12,  5.51it/s]\n",
      "100%|██████████| 1/1 [00:00<00:00, 18.21it/s]\n",
      "\n",
      "  0%|          | 0/1 [00:00<?, ?it/s]\u001b[A"
     ]
    },
    {
     "name": "stdout",
     "output_type": "stream",
     "text": [
      "Filling NA in column val_Superficie_territoriale with value 0 ...\n",
      "Filling NA in column qta_Grado_di_urbanizzazione with value 0 ...\n",
      "Filling NA in column qta_giorni_ultimo_contatto_inbound with value -1 ...\n",
      "Filling NA in column qta_giorni_ultimo_contatto_outbound with value -1 ...\n"
     ]
    },
    {
     "name": "stderr",
     "output_type": "stream",
     "text": [
      "100%|██████████| 1/1 [00:00<00:00, 16.27it/s]\n",
      " 29%|██▉       | 28/97 [00:05<00:10,  6.77it/s]\n",
      "100%|██████████| 1/1 [00:00<00:00, 22.54it/s]\n",
      "\n",
      "  0%|          | 0/5 [00:00<?, ?it/s]\u001b[A\n",
      " 40%|████      | 2/5 [00:00<00:00, 17.91it/s]\u001b[A"
     ]
    },
    {
     "name": "stdout",
     "output_type": "stream",
     "text": [
      "Filling NA in column qta_giorni_ultimo_reclamo with value -1 ...\n",
      "Filling NA in column cdc_causale_attivazione with value *** ...\n"
     ]
    },
    {
     "name": "stderr",
     "output_type": "stream",
     "text": [
      "\n",
      " 60%|██████    | 3/5 [00:00<00:00, 13.58it/s]\u001b[A\n",
      "100%|██████████| 5/5 [00:00<00:00, 12.69it/s]\u001b[A\n",
      " 31%|███       | 30/97 [00:05<00:11,  5.86it/s]\n",
      "  0%|          | 0/5 [00:00<?, ?it/s]\u001b[A\n",
      " 40%|████      | 2/5 [00:00<00:00, 18.77it/s]\u001b[A"
     ]
    },
    {
     "name": "stdout",
     "output_type": "stream",
     "text": [
      "Filling NA in column lds_comune_fornitura with value *** ...\n"
     ]
    },
    {
     "name": "stderr",
     "output_type": "stream",
     "text": [
      "\n",
      "100%|██████████| 5/5 [00:00<00:00, 20.40it/s]\u001b[A\n",
      " 32%|███▏      | 31/97 [00:06<00:12,  5.14it/s]\n",
      "  0%|          | 0/5 [00:00<?, ?it/s]\u001b[A\n",
      " 60%|██████    | 3/5 [00:00<00:00, 25.55it/s]\u001b[A"
     ]
    },
    {
     "name": "stdout",
     "output_type": "stream",
     "text": [
      "Filling NA in column cdc_cluster_fattura_last with value OTHER ...\n"
     ]
    },
    {
     "name": "stderr",
     "output_type": "stream",
     "text": [
      "\n",
      "100%|██████████| 5/5 [00:00<00:00, 21.28it/s]\u001b[A\n",
      " 33%|███▎      | 32/97 [00:06<00:13,  4.82it/s]\n",
      "100%|██████████| 1/1 [00:00<00:00, 19.16it/s]\n",
      "\n",
      "100%|██████████| 1/1 [00:00<00:00, 20.80it/s]\n",
      " 35%|███▌      | 34/97 [00:06<00:10,  6.16it/s]\n",
      "100%|██████████| 1/1 [00:00<00:00, 21.70it/s]\n",
      "\n",
      "  0%|          | 0/1 [00:00<?, ?it/s]\u001b[A"
     ]
    },
    {
     "name": "stdout",
     "output_type": "stream",
     "text": [
      "Filling NA in column qta_days_since_last_inbound_contact with value -1 ...\n",
      "Filling NA in column qta_days_since_last_inbound_contact_channel_APP with value -1 ...\n",
      "Filling NA in column qta_days_since_last_inbound_contact_channel_FACE with value -1 ...\n",
      "Filling NA in column qta_days_since_last_inbound_contact_channel_TELEFONICO with value -1 ...\n"
     ]
    },
    {
     "name": "stderr",
     "output_type": "stream",
     "text": [
      "100%|██████████| 1/1 [00:00<00:00, 15.16it/s]\n",
      " 37%|███▋      | 36/97 [00:06<00:08,  7.53it/s]\n",
      "100%|██████████| 1/1 [00:00<00:00, 14.28it/s]\n",
      "\n",
      "100%|██████████| 1/1 [00:00<00:00, 16.49it/s]\n",
      " 39%|███▉      | 38/97 [00:06<00:06,  8.74it/s]\n",
      "  0%|          | 0/1 [00:00<?, ?it/s]\u001b[A"
     ]
    },
    {
     "name": "stdout",
     "output_type": "stream",
     "text": [
      "Filling NA in column qta_days_since_last_inbound_contact_channel_DOCUMENTALE_COMPLESSO with value -1 ...\n",
      "Filling NA in column qta_days_since_last_inbound_contact_channel_DOCUMENTALE with value -1 ...\n",
      "Filling NA in column qta_days_since_last_inbound_contact_channel_CHAT with value -1 ...\n"
     ]
    },
    {
     "name": "stderr",
     "output_type": "stream",
     "text": [
      "100%|██████████| 1/1 [00:00<00:00, 13.25it/s]\n",
      "\n",
      "100%|██████████| 1/1 [00:00<00:00, 14.63it/s]\n",
      " 41%|████      | 40/97 [00:07<00:06,  9.41it/s]\n",
      "100%|██████████| 1/1 [00:00<00:00, 15.94it/s]\n",
      "\n",
      "  0%|          | 0/1 [00:00<?, ?it/s]\u001b[A"
     ]
    },
    {
     "name": "stdout",
     "output_type": "stream",
     "text": [
      "Filling NA in column qta_days_since_last_inbound_contact_channel_WEB with value -1 ...\n",
      "Filling NA in column qta_days_since_last_inbound_contact_microcausale_RETTIFICHE_CONSUMI_FATTURAZIONE with value -1 ...\n",
      "Filling NA in column qta_days_since_last_inbound_contact_microcausale_INFORMATIVA with value -1 ...\n"
     ]
    },
    {
     "name": "stderr",
     "output_type": "stream",
     "text": [
      "100%|██████████| 1/1 [00:00<00:00, 15.35it/s]\n",
      " 43%|████▎     | 42/97 [00:07<00:05, 10.47it/s]\n",
      "100%|██████████| 1/1 [00:00<00:00, 16.02it/s]\n",
      "\n",
      "  0%|          | 0/1 [00:00<?, ?it/s]\u001b[A\n",
      "100%|██████████| 1/1 [00:00<00:00,  9.24it/s]\u001b[A\n",
      " 45%|████▌     | 44/97 [00:07<00:05, 10.51it/s]\n",
      "  0%|          | 0/1 [00:00<?, ?it/s]\u001b[A"
     ]
    },
    {
     "name": "stdout",
     "output_type": "stream",
     "text": [
      "Filling NA in column qta_days_since_last_inbound_contact_microcausale_VOLTURA with value -1 ...\n",
      "Filling NA in column qta_days_since_last_inbound_contact_microcausale_PRIMA_ATTIVAZIONE with value -1 ...\n",
      "Filling NA in column qta_days_since_last_inbound_contact_microcausale_COPIA_DOCUMENTAZIONI with value -1 ...\n"
     ]
    },
    {
     "name": "stderr",
     "output_type": "stream",
     "text": [
      "100%|██████████| 1/1 [00:00<00:00, 12.68it/s]\n",
      "\n",
      "100%|██████████| 1/1 [00:00<00:00, 13.71it/s]\n",
      " 47%|████▋     | 46/97 [00:07<00:04, 10.88it/s]\n",
      "  0%|          | 0/1 [00:00<?, ?it/s]\u001b[A"
     ]
    },
    {
     "name": "stdout",
     "output_type": "stream",
     "text": [
      "Filling NA in column qta_days_since_last_inbound_contact_microcausale_RIMBORSO_COMPENSAZIONE with value -1 ...\n",
      "Filling NA in column qta_days_since_last_inbound_contact_microcausale_LAVORI_E_MODIFICHE_TECNICHE_POTENZA_TENSIONE with value -1 ...\n"
     ]
    },
    {
     "name": "stderr",
     "output_type": "stream",
     "text": [
      "\n",
      "100%|██████████| 1/1 [00:00<00:00,  8.41it/s]\u001b[A\n",
      "\n",
      "100%|██████████| 1/1 [00:00<00:00, 13.45it/s]\n",
      " 49%|████▉     | 48/97 [00:07<00:04, 10.29it/s]\n",
      "  0%|          | 0/1 [00:00<?, ?it/s]\u001b[A\n"
     ]
    },
    {
     "name": "stdout",
     "output_type": "stream",
     "text": [
      "Filling NA in column qta_days_since_last_inbound_contact_microcausale_INFORMATIVA_CREDITO with value -1 ...\n",
      "Filling NA in column qta_days_since_last_inbound_contact_microcausale_DISTACCHI_RIALLACCI with value -1 ...\n"
     ]
    },
    {
     "name": "stderr",
     "output_type": "stream",
     "text": [
      "100%|██████████| 1/1 [00:00<00:00,  8.52it/s]\u001b[A\n",
      "\n",
      "100%|██████████| 1/1 [00:00<00:00, 13.50it/s]\n",
      " 52%|█████▏    | 50/97 [00:07<00:04, 10.12it/s]\n",
      "100%|██████████| 1/1 [00:00<00:00, 13.37it/s]\n",
      "\n",
      "  0%|          | 0/1 [00:00<?, ?it/s]\u001b[A"
     ]
    },
    {
     "name": "stdout",
     "output_type": "stream",
     "text": [
      "Filling NA in column qta_days_since_last_inbound_contact_microcausale_DISDETTE_E_CESSAZIONI with value -1 ...\n",
      "Filling NA in column qta_days_since_last_inbound_contact_microcausale_GESTIONE_VAS with value -1 ...\n",
      "Filling NA in column qta_days_since_last_inbound_contact_microcausale_AUTOLETTURA with value -1 ...\n"
     ]
    },
    {
     "name": "stderr",
     "output_type": "stream",
     "text": [
      "100%|██████████| 1/1 [00:00<00:00, 11.02it/s]\n",
      " 54%|█████▎    | 52/97 [00:08<00:04, 10.45it/s]\n",
      "100%|██████████| 1/1 [00:00<00:00, 13.80it/s]\n",
      "\n",
      "100%|██████████| 1/1 [00:00<00:00, 14.21it/s]\n",
      " 56%|█████▌    | 54/97 [00:08<00:03, 11.14it/s]\n",
      "  0%|          | 0/1 [00:00<?, ?it/s]\u001b[A"
     ]
    },
    {
     "name": "stdout",
     "output_type": "stream",
     "text": [
      "Filling NA in column qta_days_since_last_inbound_contact_microcausale_RIPENSAMENTO_O_DISCONOSCIMENTO with value -1 ...\n",
      "Filling NA in column qta_days_since_last_inbound_contact_microcausale_MODIFICA_ANAGRAFICA_O_DATI_FORNITURA_FATTURAZIONE with value -1 ...\n",
      "Filling NA in column qta_days_since_last_inbound_contact_microcausale_GESTIONE_FORNITURA with value -1 ...\n"
     ]
    },
    {
     "name": "stderr",
     "output_type": "stream",
     "text": [
      "\n",
      "100%|██████████| 1/1 [00:00<00:00,  9.53it/s]\u001b[A\n",
      "\n",
      "100%|██████████| 1/1 [00:00<00:00, 14.94it/s]\n",
      " 58%|█████▊    | 56/97 [00:08<00:03, 11.03it/s]\n",
      "  0%|          | 0/1 [00:00<?, ?it/s]\u001b[A"
     ]
    },
    {
     "name": "stdout",
     "output_type": "stream",
     "text": [
      "Filling NA in column qta_days_since_last_inbound_contact_microcausale_RECLAMI_SCRITTI with value -1 ...\n",
      "Filling NA in column qta_days_since_last_inbound_contact_microcausale_REPEATED_LIST with value -1 ...\n"
     ]
    },
    {
     "name": "stderr",
     "output_type": "stream",
     "text": [
      "\n",
      "100%|██████████| 1/1 [00:00<00:00,  7.46it/s]\u001b[A\n",
      "\n",
      "  0%|          | 0/1 [00:00<?, ?it/s]\u001b[A\n",
      "100%|██████████| 1/1 [00:00<00:00,  9.23it/s]\u001b[A\n",
      " 60%|█████▉    | 58/97 [00:08<00:03,  9.79it/s]\n",
      "100%|██████████| 1/1 [00:00<00:00, 15.90it/s]\n",
      "\n",
      "  0%|          | 0/1 [00:00<?, ?it/s]\u001b[A"
     ]
    },
    {
     "name": "stdout",
     "output_type": "stream",
     "text": [
      "Filling NA in column qta_days_since_last_inbound_contact_microcausale_INFORMATIVA_CONSUMI_PAGAMENTI with value -1 ...\n",
      "Filling NA in column qta_days_since_last_inbound_contact_microcausale_SWITCH_ATTIVO with value -1 ...\n",
      "Filling NA in column qta_days_since_last_inbound_contact_microcausale_MODALITA_DI_PAGAMENTO with value -1 ...\n"
     ]
    },
    {
     "name": "stderr",
     "output_type": "stream",
     "text": [
      "100%|██████████| 1/1 [00:00<00:00, 12.20it/s]\n",
      " 62%|██████▏   | 60/97 [00:08<00:03, 10.57it/s]\n",
      "100%|██████████| 1/1 [00:00<00:00, 11.37it/s]\n",
      "\n",
      "  0%|          | 0/1 [00:00<?, ?it/s]\u001b[A"
     ]
    },
    {
     "name": "stdout",
     "output_type": "stream",
     "text": [
      "Filling NA in column qta_days_since_last_inbound_contact_microcausale_ALLACCIO_E_ATTIVAZIONE with value -1 ...\n",
      "Filling NA in column qta_days_since_last_inbound_contact_microcausale_VERIFICHE_TECNICHE with value -1 ...\n"
     ]
    },
    {
     "name": "stderr",
     "output_type": "stream",
     "text": [
      "\n",
      "100%|██████████| 1/1 [00:00<00:00,  6.64it/s]\u001b[A\n",
      " 64%|██████▍   | 62/97 [00:09<00:03,  9.55it/s]\n",
      "  0%|          | 0/1 [00:00<?, ?it/s]\u001b[A\n",
      "100%|██████████| 1/1 [00:00<00:00,  8.29it/s]\u001b[A\n",
      "\n",
      "  0%|          | 0/1 [00:00<?, ?it/s]\u001b[A"
     ]
    },
    {
     "name": "stdout",
     "output_type": "stream",
     "text": [
      "Filling NA in column qta_days_since_last_inbound_contact_microcausale_INFORMATIVA_NON_DI_COMPETENZA with value -1 ...\n",
      "Filling NA in column qta_days_since_last_inbound_contact_microcausale_RVC with value -1 ...\n"
     ]
    },
    {
     "name": "stderr",
     "output_type": "stream",
     "text": [
      "100%|██████████| 1/1 [00:00<00:00, 12.57it/s]\n",
      " 66%|██████▌   | 64/97 [00:09<00:03,  9.51it/s]\n",
      "100%|██████████| 1/1 [00:00<00:00, 11.31it/s]\n",
      "\n",
      "100%|██████████| 1/1 [00:00<00:00, 10.70it/s]\n",
      " 68%|██████▊   | 66/97 [00:09<00:03,  9.67it/s]\n",
      "  0%|          | 0/1 [00:00<?, ?it/s]"
     ]
    },
    {
     "name": "stdout",
     "output_type": "stream",
     "text": [
      "Filling NA in column qta_days_since_last_inbound_contact_microcausale_GESTIONE_PRIVACY with value -1 ...\n",
      "Filling NA in column qta_days_since_last_inbound_contact_microcausale_PIANO_DI_RIENTRO with value -1 ...\n",
      "Filling NA in column qta_days_since_last_inbound_contact_microcausale_SUBENTRO with value -1 ...\n"
     ]
    },
    {
     "name": "stderr",
     "output_type": "stream",
     "text": [
      "100%|██████████| 1/1 [00:00<00:00, 13.78it/s]\n",
      "\n",
      "  0%|          | 0/1 [00:00<?, ?it/s]\u001b[A\n",
      "100%|██████████| 1/1 [00:00<00:00,  7.97it/s]\u001b[A\n",
      " 70%|███████   | 68/97 [00:09<00:03,  9.61it/s]\n",
      "  0%|          | 0/1 [00:00<?, ?it/s]\u001b[A"
     ]
    },
    {
     "name": "stdout",
     "output_type": "stream",
     "text": [
      "Filling NA in column qta_days_since_last_inbound_contact_macrocausale_Causale_non_definita with value -1 ...\n",
      "Filling NA in column qta_days_since_last_inbound_contact_macrocausale_Chiarimenti_su_fatture with value -1 ...\n"
     ]
    },
    {
     "name": "stderr",
     "output_type": "stream",
     "text": [
      "100%|██████████| 1/1 [00:00<00:00, 10.18it/s]\n",
      " 71%|███████   | 69/97 [00:09<00:02,  9.64it/s]\n",
      "  0%|          | 0/1 [00:00<?, ?it/s]\u001b[A\n",
      "100%|██████████| 1/1 [00:00<00:00,  9.06it/s]\u001b[A\n",
      " 72%|███████▏  | 70/97 [00:09<00:02,  9.23it/s]\n",
      "  0%|          | 0/1 [00:00<?, ?it/s]\u001b[A"
     ]
    },
    {
     "name": "stdout",
     "output_type": "stream",
     "text": [
      "Filling NA in column qta_days_since_last_inbound_contact_macrocausale_Chiarimento_su_offerta with value -1 ...\n",
      "Filling NA in column qta_days_since_last_inbound_contact_macrocausale_Credito with value -1 ...\n"
     ]
    },
    {
     "name": "stderr",
     "output_type": "stream",
     "text": [
      "\n",
      "100%|██████████| 1/1 [00:00<00:00,  7.44it/s]\u001b[A\n",
      " 73%|███████▎  | 71/97 [00:10<00:03,  8.42it/s]\n",
      "  0%|          | 0/1 [00:00<?, ?it/s]\u001b[A\n",
      "100%|██████████| 1/1 [00:00<00:00,  8.89it/s]\u001b[A\n",
      " 74%|███████▍  | 72/97 [00:10<00:02,  8.38it/s]\n",
      "  0%|          | 0/1 [00:00<?, ?it/s]\u001b[A"
     ]
    },
    {
     "name": "stdout",
     "output_type": "stream",
     "text": [
      "Filling NA in column qta_days_since_last_inbound_contact_macrocausale_Esecuzione_lavori with value -1 ...\n",
      "Filling NA in column qta_days_since_last_inbound_contact_macrocausale_Informativa with value -1 ...\n"
     ]
    },
    {
     "name": "stderr",
     "output_type": "stream",
     "text": [
      "100%|██████████| 1/1 [00:00<00:00, 12.18it/s]\n",
      "\n",
      "100%|██████████| 1/1 [00:00<00:00, 12.81it/s]\n",
      " 76%|███████▋  | 74/97 [00:10<00:02,  9.11it/s]\n",
      "100%|██████████| 1/1 [00:00<00:00, 14.08it/s]\n",
      "\n",
      "  0%|          | 0/1 [00:00<?, ?it/s]\u001b[A"
     ]
    },
    {
     "name": "stdout",
     "output_type": "stream",
     "text": [
      "Filling NA in column qta_days_since_last_inbound_contact_macrocausale_Problemi_in_fase_di_attivazione with value -1 ...\n",
      "Filling NA in column qta_days_since_last_inbound_contact_macrocausale_Reclami_vendita_Privacy with value -1 ...\n",
      "Filling NA in column qta_days_since_last_inbound_contact_macrocausale_Ritardata_esecuzione_subentri_volture_cessazioni_etc with value -1 ...\n"
     ]
    },
    {
     "name": "stderr",
     "output_type": "stream",
     "text": [
      "100%|██████████| 1/1 [00:00<00:00, 14.07it/s]\n",
      " 78%|███████▊  | 76/97 [00:10<00:02,  9.94it/s]\n",
      "  0%|          | 0/5 [00:00<?, ?it/s]\u001b[A\n",
      " 20%|██        | 1/5 [00:00<00:00,  7.22it/s]\u001b[A"
     ]
    },
    {
     "name": "stdout",
     "output_type": "stream",
     "text": [
      "Filling NA in column mds_nome_campagna_last_response_marketing_cli with value *** ...\n"
     ]
    },
    {
     "name": "stderr",
     "output_type": "stream",
     "text": [
      "\n",
      " 40%|████      | 2/5 [00:00<00:00,  7.57it/s]\u001b[A\n",
      " 60%|██████    | 3/5 [00:00<00:00,  6.90it/s]\u001b[A\n",
      "100%|██████████| 5/5 [00:00<00:00,  8.42it/s]\u001b[A\n",
      "\n",
      "  0%|          | 0/5 [00:00<?, ?it/s]\u001b[A\n",
      " 40%|████      | 2/5 [00:00<00:00, 14.51it/s]\u001b[A"
     ]
    },
    {
     "name": "stdout",
     "output_type": "stream",
     "text": [
      "Filling NA in column xds_canale_last_response_marketing_cli with value UNDEFINED ...\n"
     ]
    },
    {
     "name": "stderr",
     "output_type": "stream",
     "text": [
      "\n",
      "100%|██████████| 5/5 [00:00<00:00, 17.69it/s]\u001b[A\n",
      " 80%|████████  | 78/97 [00:11<00:03,  4.89it/s]\n",
      "  0%|          | 0/5 [00:00<?, ?it/s]\u001b[A\n",
      " 60%|██████    | 3/5 [00:00<00:00, 21.65it/s]\u001b[A"
     ]
    },
    {
     "name": "stdout",
     "output_type": "stream",
     "text": [
      "Filling NA in column xds_tipo_azione_campagna_last_response_marketing_cli with value ALTRO ...\n"
     ]
    },
    {
     "name": "stderr",
     "output_type": "stream",
     "text": [
      "\n",
      "100%|██████████| 5/5 [00:00<00:00, 20.25it/s]\u001b[A\n",
      " 81%|████████▏ | 79/97 [00:11<00:03,  4.58it/s]\n",
      "  0%|          | 0/5 [00:00<?, ?it/s]\u001b[A\n",
      " 40%|████      | 2/5 [00:00<00:00, 18.98it/s]\u001b[A"
     ]
    },
    {
     "name": "stdout",
     "output_type": "stream",
     "text": [
      "Filling NA in column xds_tipologia_azione_last_response_marketing_cli with value ALTRO ...\n"
     ]
    },
    {
     "name": "stderr",
     "output_type": "stream",
     "text": [
      "\n",
      "100%|██████████| 5/5 [00:00<00:00, 20.88it/s]\u001b[A\n",
      " 82%|████████▏ | 80/97 [00:11<00:03,  4.43it/s]\n",
      "100%|██████████| 1/1 [00:00<00:00, 23.86it/s]\n",
      "\n",
      "  0%|          | 0/5 [00:00<?, ?it/s]\u001b[A\n",
      " 60%|██████    | 3/5 [00:00<00:00, 20.35it/s]\u001b[A"
     ]
    },
    {
     "name": "stdout",
     "output_type": "stream",
     "text": [
      "Filling NA in column qta_days_last_response_marketing_cli with value -1 ...\n",
      "Filling NA in column lds_RETE_GAS with value *** ...\n"
     ]
    },
    {
     "name": "stderr",
     "output_type": "stream",
     "text": [
      "100%|██████████| 5/5 [00:00<00:00, 20.45it/s]\n",
      " 85%|████████▍ | 82/97 [00:12<00:03,  4.95it/s]\n",
      "  0%|          | 0/5 [00:00<?, ?it/s]\u001b[A\n",
      " 40%|████      | 2/5 [00:00<00:00, 17.27it/s]\u001b[A"
     ]
    },
    {
     "name": "stdout",
     "output_type": "stream",
     "text": [
      "Filling NA in column lds_Cluster_Polis_11_gruppi with value *** ...\n"
     ]
    },
    {
     "name": "stderr",
     "output_type": "stream",
     "text": [
      "\n",
      "100%|██████████| 5/5 [00:00<00:00, 17.01it/s]\u001b[A\n",
      " 86%|████████▌ | 83/97 [00:12<00:03,  4.33it/s]\n",
      "100%|██████████| 1/1 [00:00<00:00, 15.19it/s]\n",
      "\n",
      "100%|██████████| 1/1 [00:00<00:00, 14.07it/s]\n",
      " 88%|████████▊ | 85/97 [00:12<00:02,  5.45it/s]\n",
      "  0%|          | 0/1 [00:00<?, ?it/s]\u001b[A"
     ]
    },
    {
     "name": "stdout",
     "output_type": "stream",
     "text": [
      "Filling NA in column fln_cell_m0_mono_flag with value -1 ...\n",
      "Filling NA in column qta_days_diff_diffida_fattura_cli with value -1 ...\n",
      "Filling NA in column qta_days_last_diffida_cli with value -1 ...\n"
     ]
    },
    {
     "name": "stderr",
     "output_type": "stream",
     "text": [
      "100%|██████████| 1/1 [00:00<00:00, 14.17it/s]\n",
      "\n",
      "100%|██████████| 1/1 [00:00<00:00, 14.83it/s]\n",
      " 90%|████████▉ | 87/97 [00:12<00:01,  6.64it/s]\n",
      "100%|██████████| 1/1 [00:00<00:00, 14.19it/s]\n",
      "\n",
      "  0%|          | 0/1 [00:00<?, ?it/s]\u001b[A"
     ]
    },
    {
     "name": "stdout",
     "output_type": "stream",
     "text": [
      "Filling NA in column qta_days_diff_sollecito_fattura_cli with value -1 ...\n",
      "Filling NA in column qta_days_last_sollecito_cli with value -1 ...\n",
      "Filling NA in column cdn_cv2_servizio with value 0 ...\n"
     ]
    },
    {
     "name": "stderr",
     "output_type": "stream",
     "text": [
      "100%|██████████| 1/1 [00:00<00:00, 14.12it/s]\n",
      " 92%|█████████▏| 89/97 [00:12<00:01,  7.82it/s]\n",
      "  0%|          | 0/5 [00:00<?, ?it/s]\u001b[A\n",
      " 40%|████      | 2/5 [00:00<00:00, 14.49it/s]\u001b[A"
     ]
    },
    {
     "name": "stdout",
     "output_type": "stream",
     "text": [
      "Filling NA in column cdc_cv_fasce_servizio with value *** ...\n"
     ]
    },
    {
     "name": "stderr",
     "output_type": "stream",
     "text": [
      "\n",
      "100%|██████████| 5/5 [00:00<00:00, 13.74it/s]\u001b[A\n",
      "\n",
      "  0%|          | 0/5 [00:00<?, ?it/s]\u001b[A\n",
      " 40%|████      | 2/5 [00:00<00:00, 15.98it/s]\u001b[A"
     ]
    },
    {
     "name": "stdout",
     "output_type": "stream",
     "text": [
      "Filling NA in column cdc_cv_fasce_cliente with value *** ...\n"
     ]
    },
    {
     "name": "stderr",
     "output_type": "stream",
     "text": [
      "\n",
      "100%|██████████| 5/5 [00:00<00:00, 14.53it/s]\u001b[A\n",
      " 94%|█████████▍| 91/97 [00:13<00:01,  5.03it/s]\n",
      "100%|██████████| 1/1 [00:00<00:00, 18.72it/s]\n",
      "\n",
      "100%|██████████| 1/1 [00:00<00:00, 17.78it/s]\n",
      " 96%|█████████▌| 93/97 [00:13<00:00,  6.34it/s]\n",
      "100%|██████████| 1/1 [00:00<00:00, 14.59it/s]\n",
      "\n",
      "  0%|          | 0/1 [00:00<?, ?it/s]\u001b[A"
     ]
    },
    {
     "name": "stdout",
     "output_type": "stream",
     "text": [
      "Filling NA in column cdn_cv2_cliente with value 0 ...\n",
      "Filling NA in column qta_days_servizio_attualmente_distaccato with value -1 ...\n",
      "Filling NA in column qta_days_servizio_riallacciato with value -1 ...\n",
      "Filling NA in column qta_days_emissione_fattura_pagamento_servizio_ultima_bolletta_emessa_canale_ALL with value -1 ...\n"
     ]
    },
    {
     "name": "stderr",
     "output_type": "stream",
     "text": [
      "100%|██████████| 1/1 [00:00<00:00, 21.40it/s]\n",
      " 98%|█████████▊| 95/97 [00:13<00:00,  7.77it/s]\n",
      "100%|██████████| 1/1 [00:00<00:00, 19.58it/s]\n",
      "\n",
      "100%|██████████| 1/1 [00:00<00:00, 17.64it/s]\n",
      "100%|██████████| 97/97 [00:14<00:00,  6.89it/s]"
     ]
    },
    {
     "name": "stdout",
     "output_type": "stream",
     "text": [
      "Filling NA in column qta_days_incasso_fattura_today_servizio_ultima_bolletta_emessa_canale_ALL with value -1 ...\n",
      "Filling NA in column qta_days_scadenza_fattura_pagamento_servizio_ultima_bolletta_emessa_canale_ALL with value -1 ...\n"
     ]
    },
    {
     "name": "stderr",
     "output_type": "stream",
     "text": [
      "\n"
     ]
    }
   ],
   "source": [
    "for column in tqdm(column_na):\n",
    "    numeric = isinstance(column_na[column], numbers.Number)\n",
    "    if numeric:\n",
    "        input_data_micro = fill_na_with_value(data = input_data_micro, column = column, numeric = True, fill_with = column_na[column], na_values = [None])\n",
    "    else:\n",
    "        input_data_micro = fill_na_with_value(data = input_data_micro, column = column, numeric = False, fill_with = column_na[column], na_values = [None, '***', 'null', 'na', ''])"
   ]
  },
  {
   "cell_type": "markdown",
   "metadata": {},
   "source": [
    "For the days quantities, let's treat all values greater than 10 years as NAs and fill them"
   ]
  },
  {
   "cell_type": "code",
   "execution_count": 43,
   "metadata": {
    "scrolled": true
   },
   "outputs": [
    {
     "name": "stderr",
     "output_type": "stream",
     "text": [
      "\r",
      "  0%|          | 0/97 [00:00<?, ?it/s]"
     ]
    },
    {
     "name": "stdout",
     "output_type": "stream",
     "text": [
      "Filling NA in column qta_giorni_ultimo_contatto_inbound with value -1 ...\n",
      "Filling NA in column qta_giorni_ultimo_contatto_outbound with value -1 ...\n"
     ]
    },
    {
     "name": "stderr",
     "output_type": "stream",
     "text": [
      "\r",
      " 29%|██▉       | 28/97 [00:00<00:00, 173.05it/s]"
     ]
    },
    {
     "name": "stdout",
     "output_type": "stream",
     "text": [
      "Filling NA in column qta_giorni_ultimo_reclamo with value -1 ...\n"
     ]
    },
    {
     "name": "stderr",
     "output_type": "stream",
     "text": [
      "\r",
      " 35%|███▌      | 34/97 [00:00<00:00, 75.54it/s] "
     ]
    },
    {
     "name": "stdout",
     "output_type": "stream",
     "text": [
      "Filling NA in column qta_days_since_last_inbound_contact with value -1 ...\n",
      "Filling NA in column qta_days_since_last_inbound_contact_channel_APP with value -1 ...\n",
      "Filling NA in column qta_days_since_last_inbound_contact_channel_FACE with value -1 ...\n",
      "Filling NA in column qta_days_since_last_inbound_contact_channel_TELEFONICO with value -1 ...\n",
      "Filling NA in column qta_days_since_last_inbound_contact_channel_DOCUMENTALE_COMPLESSO with value -1 ...\n",
      "Filling NA in column qta_days_since_last_inbound_contact_channel_DOCUMENTALE with value -1 ...\n",
      "Filling NA in column qta_days_since_last_inbound_contact_channel_CHAT with value -1 ...\n"
     ]
    },
    {
     "name": "stderr",
     "output_type": "stream",
     "text": [
      "\r",
      " 40%|████      | 39/97 [00:00<00:01, 32.85it/s]"
     ]
    },
    {
     "name": "stdout",
     "output_type": "stream",
     "text": [
      "Filling NA in column qta_days_since_last_inbound_contact_channel_WEB with value -1 ...\n",
      "Filling NA in column qta_days_since_last_inbound_contact_microcausale_RETTIFICHE_CONSUMI_FATTURAZIONE with value -1 ...\n",
      "Filling NA in column qta_days_since_last_inbound_contact_microcausale_INFORMATIVA with value -1 ...\n",
      "Filling NA in column qta_days_since_last_inbound_contact_microcausale_VOLTURA with value -1 ...\n"
     ]
    },
    {
     "name": "stderr",
     "output_type": "stream",
     "text": [
      "\r",
      " 44%|████▍     | 43/97 [00:00<00:02, 26.51it/s]"
     ]
    },
    {
     "name": "stdout",
     "output_type": "stream",
     "text": [
      "Filling NA in column qta_days_since_last_inbound_contact_microcausale_PRIMA_ATTIVAZIONE with value -1 ...\n",
      "Filling NA in column qta_days_since_last_inbound_contact_microcausale_COPIA_DOCUMENTAZIONI with value -1 ...\n",
      "Filling NA in column qta_days_since_last_inbound_contact_microcausale_RIMBORSO_COMPENSAZIONE with value -1 ...\n",
      "Filling NA in column qta_days_since_last_inbound_contact_microcausale_LAVORI_E_MODIFICHE_TECNICHE_POTENZA_TENSIONE with value -1 ...\n"
     ]
    },
    {
     "name": "stderr",
     "output_type": "stream",
     "text": [
      " 52%|█████▏    | 50/97 [00:01<00:02, 20.83it/s]"
     ]
    },
    {
     "name": "stdout",
     "output_type": "stream",
     "text": [
      "Filling NA in column qta_days_since_last_inbound_contact_microcausale_INFORMATIVA_CREDITO with value -1 ...\n",
      "Filling NA in column qta_days_since_last_inbound_contact_microcausale_DISTACCHI_RIALLACCI with value -1 ...\n",
      "Filling NA in column qta_days_since_last_inbound_contact_microcausale_DISDETTE_E_CESSAZIONI with value -1 ...\n",
      "Filling NA in column qta_days_since_last_inbound_contact_microcausale_GESTIONE_VAS with value -1 ...\n"
     ]
    },
    {
     "name": "stderr",
     "output_type": "stream",
     "text": [
      "\r",
      " 55%|█████▍    | 53/97 [00:01<00:02, 17.67it/s]"
     ]
    },
    {
     "name": "stdout",
     "output_type": "stream",
     "text": [
      "Filling NA in column qta_days_since_last_inbound_contact_microcausale_AUTOLETTURA with value -1 ...\n",
      "Filling NA in column qta_days_since_last_inbound_contact_microcausale_RIPENSAMENTO_O_DISCONOSCIMENTO with value -1 ...\n",
      "Filling NA in column qta_days_since_last_inbound_contact_microcausale_MODIFICA_ANAGRAFICA_O_DATI_FORNITURA_FATTURAZIONE with value -1 ...\n"
     ]
    },
    {
     "name": "stderr",
     "output_type": "stream",
     "text": [
      "\r",
      " 58%|█████▊    | 56/97 [00:01<00:02, 16.59it/s]"
     ]
    },
    {
     "name": "stdout",
     "output_type": "stream",
     "text": [
      "Filling NA in column qta_days_since_last_inbound_contact_microcausale_GESTIONE_FORNITURA with value -1 ...\n",
      "Filling NA in column qta_days_since_last_inbound_contact_microcausale_RECLAMI_SCRITTI with value -1 ...\n",
      "Filling NA in column qta_days_since_last_inbound_contact_microcausale_REPEATED_LIST with value -1 ...\n",
      "Filling NA in column qta_days_since_last_inbound_contact_microcausale_INFORMATIVA_CONSUMI_PAGAMENTI with value -1 ...\n"
     ]
    },
    {
     "name": "stderr",
     "output_type": "stream",
     "text": [
      " 62%|██████▏   | 60/97 [00:02<00:02, 14.97it/s]"
     ]
    },
    {
     "name": "stdout",
     "output_type": "stream",
     "text": [
      "Filling NA in column qta_days_since_last_inbound_contact_microcausale_SWITCH_ATTIVO with value -1 ...\n",
      "Filling NA in column qta_days_since_last_inbound_contact_microcausale_MODALITA_DI_PAGAMENTO with value -1 ...\n",
      "Filling NA in column qta_days_since_last_inbound_contact_microcausale_ALLACCIO_E_ATTIVAZIONE with value -1 ...\n"
     ]
    },
    {
     "name": "stderr",
     "output_type": "stream",
     "text": [
      "\r",
      " 64%|██████▍   | 62/97 [00:02<00:02, 14.51it/s]"
     ]
    },
    {
     "name": "stdout",
     "output_type": "stream",
     "text": [
      "Filling NA in column qta_days_since_last_inbound_contact_microcausale_VERIFICHE_TECNICHE with value -1 ...\n",
      "Filling NA in column qta_days_since_last_inbound_contact_microcausale_INFORMATIVA_NON_DI_COMPETENZA with value -1 ...\n",
      "Filling NA in column qta_days_since_last_inbound_contact_microcausale_RVC with value -1 ...\n"
     ]
    },
    {
     "name": "stderr",
     "output_type": "stream",
     "text": [
      " 68%|██████▊   | 66/97 [00:02<00:02, 13.00it/s]"
     ]
    },
    {
     "name": "stdout",
     "output_type": "stream",
     "text": [
      "Filling NA in column qta_days_since_last_inbound_contact_microcausale_GESTIONE_PRIVACY with value -1 ...\n",
      "Filling NA in column qta_days_since_last_inbound_contact_microcausale_PIANO_DI_RIENTRO with value -1 ...\n",
      "Filling NA in column qta_days_since_last_inbound_contact_microcausale_SUBENTRO with value -1 ...\n"
     ]
    },
    {
     "name": "stderr",
     "output_type": "stream",
     "text": [
      "\r",
      " 70%|███████   | 68/97 [00:02<00:02, 12.33it/s]"
     ]
    },
    {
     "name": "stdout",
     "output_type": "stream",
     "text": [
      "Filling NA in column qta_days_since_last_inbound_contact_macrocausale_Causale_non_definita with value -1 ...\n",
      "Filling NA in column qta_days_since_last_inbound_contact_macrocausale_Chiarimenti_su_fatture with value -1 ...\n",
      "Filling NA in column qta_days_since_last_inbound_contact_macrocausale_Chiarimento_su_offerta with value -1 ...\n"
     ]
    },
    {
     "name": "stderr",
     "output_type": "stream",
     "text": [
      " 74%|███████▍  | 72/97 [00:02<00:01, 14.01it/s]"
     ]
    },
    {
     "name": "stdout",
     "output_type": "stream",
     "text": [
      "Filling NA in column qta_days_since_last_inbound_contact_macrocausale_Credito with value -1 ...\n",
      "Filling NA in column qta_days_since_last_inbound_contact_macrocausale_Esecuzione_lavori with value -1 ...\n",
      "Filling NA in column qta_days_since_last_inbound_contact_macrocausale_Informativa with value -1 ...\n",
      "Filling NA in column qta_days_since_last_inbound_contact_macrocausale_Problemi_in_fase_di_attivazione with value -1 ...\n"
     ]
    },
    {
     "name": "stderr",
     "output_type": "stream",
     "text": [
      " 78%|███████▊  | 76/97 [00:03<00:01, 14.97it/s]"
     ]
    },
    {
     "name": "stdout",
     "output_type": "stream",
     "text": [
      "Filling NA in column qta_days_since_last_inbound_contact_macrocausale_Reclami_vendita_Privacy with value -1 ...\n",
      "Filling NA in column qta_days_since_last_inbound_contact_macrocausale_Ritardata_esecuzione_subentri_volture_cessazioni_etc with value -1 ...\n",
      "Filling NA in column qta_days_last_response_marketing_cli with value -1 ...\n",
      "Filling NA in column qta_days_diff_diffida_fattura_cli with value -1 ...\n"
     ]
    },
    {
     "name": "stderr",
     "output_type": "stream",
     "text": [
      " 92%|█████████▏| 89/97 [00:03<00:00, 20.40it/s]"
     ]
    },
    {
     "name": "stdout",
     "output_type": "stream",
     "text": [
      "Filling NA in column qta_days_last_diffida_cli with value -1 ...\n",
      "Filling NA in column qta_days_diff_sollecito_fattura_cli with value -1 ...\n",
      "Filling NA in column qta_days_last_sollecito_cli with value -1 ...\n",
      "Filling NA in column qta_days_servizio_attualmente_distaccato with value -1 ...\n"
     ]
    },
    {
     "name": "stderr",
     "output_type": "stream",
     "text": [
      "\r",
      " 98%|█████████▊| 95/97 [00:03<00:00, 24.19it/s]"
     ]
    },
    {
     "name": "stdout",
     "output_type": "stream",
     "text": [
      "Filling NA in column qta_days_servizio_riallacciato with value -1 ...\n",
      "Filling NA in column qta_days_emissione_fattura_pagamento_servizio_ultima_bolletta_emessa_canale_ALL with value -1 ...\n",
      "Filling NA in column qta_days_incasso_fattura_today_servizio_ultima_bolletta_emessa_canale_ALL with value -1 ...\n",
      "Filling NA in column qta_days_scadenza_fattura_pagamento_servizio_ultima_bolletta_emessa_canale_ALL with value -1 ...\n"
     ]
    },
    {
     "name": "stderr",
     "output_type": "stream",
     "text": [
      "100%|██████████| 97/97 [00:03<00:00, 25.62it/s]\n"
     ]
    }
   ],
   "source": [
    "for column in tqdm(column_na):\n",
    "    if (column.startswith('qta_days_') or column.startswith('qta_giorni_')):\n",
    "        input_data_micro = fill_na_with_value_qta(data = input_data_micro, column = column, fill_with = column_na[column])"
   ]
  },
  {
   "cell_type": "code",
   "execution_count": 44,
   "metadata": {},
   "outputs": [],
   "source": [
    "na_replaced_with_stars = [\n",
    "    'lds_prodotto_listino_2',\n",
    "    'mds_canale_acquisizione',\n",
    "    'cdc_cap_nrm',\n",
    "    'lds_tipo_uso',\n",
    "    'cdc_id_mercato',\n",
    "    'sds_provincia_fatturazione',\n",
    "    'sds_regione_fatturazione',\n",
    "    'sds_mat_fatturazione',\n",
    "    'sds_provincia',\n",
    "    'sds_regione',\n",
    "    'sds_mat',\n",
    "    'mds_sottocanale',\n",
    "    'flc_vas',\n",
    "    'mds_land_type',\n",
    "    'cdc_cd_censimento',\n",
    "    'cdc_istat',\n",
    "    'cdc_Zona_altimetrica',\n",
    "    'cdc_Comune_Montano',\n",
    "    'cdc_causale_attivazione',\n",
    "    'lds_comune_fornitura',\n",
    "    'mds_nome_campagna_last_response_marketing_cli',\n",
    "    'lds_RETE_GAS',\n",
    "    'lds_Cluster_Polis_11_gruppi',\n",
    "    'cdc_cv_fasce_servizio',\n",
    "    'cdc_cv_fasce_cliente'\n",
    "]"
   ]
  },
  {
   "cell_type": "code",
   "execution_count": 45,
   "metadata": {
    "scrolled": true
   },
   "outputs": [
    {
     "name": "stdout",
     "output_type": "stream",
     "text": [
      "Number of NA in column lds_prodotto_listino_2 after filling: 0\n",
      "Number of NA in column mds_canale_acquisizione after filling: 0\n",
      "Number of NA in column cdc_cap_nrm after filling: 0\n",
      "Number of NA in column lds_tipo_uso after filling: 0\n",
      "Number of NA in column qta_eta_nrm after filling: 0\n",
      "Number of NA in column qta_indice_contattosita_ult_30gg after filling: 0\n",
      "Number of NA in column val_fascia_stress after filling: 0\n",
      "Number of NA in column val_fascia_contattosita after filling: 0\n",
      "Number of NA in column cdc_id_mercato after filling: 0\n",
      "Number of NA in column sds_provincia_fatturazione after filling: 0\n",
      "Number of NA in column sds_regione_fatturazione after filling: 0\n",
      "Number of NA in column sds_mat_fatturazione after filling: 0\n",
      "Number of NA in column sds_provincia after filling: 0\n",
      "Number of NA in column sds_regione after filling: 0\n",
      "Number of NA in column sds_mat after filling: 0\n",
      "Number of NA in column mds_sottocanale after filling: 0\n",
      "Number of NA in column flc_vas after filling: 0\n",
      "Number of NA in column mds_land_type after filling: 0\n",
      "Number of NA in column cdc_cd_censimento after filling: 0\n",
      "Number of NA in column cdc_istat after filling: 0\n",
      "Number of NA in column cdc_Zona_altimetrica after filling: 0\n",
      "Number of NA in column val_Altitudine_del_centro after filling: 0\n",
      "Number of NA in column fln_Comune_litoraneo after filling: 0\n",
      "Number of NA in column cdc_Comune_Montano after filling: 0\n",
      "Number of NA in column val_Superficie_territoriale after filling: 0\n",
      "Number of NA in column qta_Grado_di_urbanizzazione after filling: 0\n",
      "Number of NA in column qta_giorni_ultimo_contatto_inbound after filling: 0\n",
      "Number of NA in column qta_giorni_ultimo_contatto_outbound after filling: 0\n",
      "Number of NA in column qta_giorni_ultimo_reclamo after filling: 0\n",
      "Number of NA in column cdc_causale_attivazione after filling: 0\n",
      "Number of NA in column lds_comune_fornitura after filling: 0\n",
      "Number of NA in column cdc_cluster_fattura_last after filling: 0\n",
      "Number of NA in column qta_days_since_last_inbound_contact after filling: 0\n",
      "Number of NA in column qta_days_since_last_inbound_contact_channel_APP after filling: 0\n",
      "Number of NA in column qta_days_since_last_inbound_contact_channel_FACE after filling: 0\n",
      "Number of NA in column qta_days_since_last_inbound_contact_channel_TELEFONICO after filling: 0\n",
      "Number of NA in column qta_days_since_last_inbound_contact_channel_DOCUMENTALE_COMPLESSO after filling: 0\n",
      "Number of NA in column qta_days_since_last_inbound_contact_channel_DOCUMENTALE after filling: 0\n",
      "Number of NA in column qta_days_since_last_inbound_contact_channel_CHAT after filling: 0\n",
      "Number of NA in column qta_days_since_last_inbound_contact_channel_WEB after filling: 0\n",
      "Number of NA in column qta_days_since_last_inbound_contact_microcausale_RETTIFICHE_CONSUMI_FATTURAZIONE after filling: 0\n",
      "Number of NA in column qta_days_since_last_inbound_contact_microcausale_INFORMATIVA after filling: 0\n",
      "Number of NA in column qta_days_since_last_inbound_contact_microcausale_VOLTURA after filling: 0\n",
      "Number of NA in column qta_days_since_last_inbound_contact_microcausale_PRIMA_ATTIVAZIONE after filling: 0\n",
      "Number of NA in column qta_days_since_last_inbound_contact_microcausale_COPIA_DOCUMENTAZIONI after filling: 0\n",
      "Number of NA in column qta_days_since_last_inbound_contact_microcausale_RIMBORSO_COMPENSAZIONE after filling: 0\n",
      "Number of NA in column qta_days_since_last_inbound_contact_microcausale_LAVORI_E_MODIFICHE_TECNICHE_POTENZA_TENSIONE after filling: 0\n",
      "Number of NA in column qta_days_since_last_inbound_contact_microcausale_INFORMATIVA_CREDITO after filling: 0\n",
      "Number of NA in column qta_days_since_last_inbound_contact_microcausale_DISTACCHI_RIALLACCI after filling: 0\n",
      "Number of NA in column qta_days_since_last_inbound_contact_microcausale_DISDETTE_E_CESSAZIONI after filling: 0\n",
      "Number of NA in column qta_days_since_last_inbound_contact_microcausale_GESTIONE_VAS after filling: 0\n",
      "Number of NA in column qta_days_since_last_inbound_contact_microcausale_AUTOLETTURA after filling: 0\n",
      "Number of NA in column qta_days_since_last_inbound_contact_microcausale_RIPENSAMENTO_O_DISCONOSCIMENTO after filling: 0\n",
      "Number of NA in column qta_days_since_last_inbound_contact_microcausale_MODIFICA_ANAGRAFICA_O_DATI_FORNITURA_FATTURAZIONE after filling: 0\n",
      "Number of NA in column qta_days_since_last_inbound_contact_microcausale_GESTIONE_FORNITURA after filling: 0\n",
      "Number of NA in column qta_days_since_last_inbound_contact_microcausale_RECLAMI_SCRITTI after filling: 0\n",
      "Number of NA in column qta_days_since_last_inbound_contact_microcausale_REPEATED_LIST after filling: 0\n",
      "Number of NA in column qta_days_since_last_inbound_contact_microcausale_INFORMATIVA_CONSUMI_PAGAMENTI after filling: 0\n",
      "Number of NA in column qta_days_since_last_inbound_contact_microcausale_SWITCH_ATTIVO after filling: 0\n",
      "Number of NA in column qta_days_since_last_inbound_contact_microcausale_MODALITA_DI_PAGAMENTO after filling: 0\n",
      "Number of NA in column qta_days_since_last_inbound_contact_microcausale_ALLACCIO_E_ATTIVAZIONE after filling: 0\n",
      "Number of NA in column qta_days_since_last_inbound_contact_microcausale_VERIFICHE_TECNICHE after filling: 0\n",
      "Number of NA in column qta_days_since_last_inbound_contact_microcausale_INFORMATIVA_NON_DI_COMPETENZA after filling: 0\n",
      "Number of NA in column qta_days_since_last_inbound_contact_microcausale_RVC after filling: 0\n",
      "Number of NA in column qta_days_since_last_inbound_contact_microcausale_GESTIONE_PRIVACY after filling: 0\n",
      "Number of NA in column qta_days_since_last_inbound_contact_microcausale_PIANO_DI_RIENTRO after filling: 0\n",
      "Number of NA in column qta_days_since_last_inbound_contact_microcausale_SUBENTRO after filling: 0\n",
      "Number of NA in column qta_days_since_last_inbound_contact_macrocausale_Causale_non_definita after filling: 0\n",
      "Number of NA in column qta_days_since_last_inbound_contact_macrocausale_Chiarimenti_su_fatture after filling: 0\n",
      "Number of NA in column qta_days_since_last_inbound_contact_macrocausale_Chiarimento_su_offerta after filling: 0\n",
      "Number of NA in column qta_days_since_last_inbound_contact_macrocausale_Credito after filling: 0\n",
      "Number of NA in column qta_days_since_last_inbound_contact_macrocausale_Esecuzione_lavori after filling: 0\n",
      "Number of NA in column qta_days_since_last_inbound_contact_macrocausale_Informativa after filling: 0\n",
      "Number of NA in column qta_days_since_last_inbound_contact_macrocausale_Problemi_in_fase_di_attivazione after filling: 0\n",
      "Number of NA in column qta_days_since_last_inbound_contact_macrocausale_Reclami_vendita_Privacy after filling: 0\n",
      "Number of NA in column qta_days_since_last_inbound_contact_macrocausale_Ritardata_esecuzione_subentri_volture_cessazioni_etc after filling: 0\n",
      "Number of NA in column mds_nome_campagna_last_response_marketing_cli after filling: 0\n",
      "Number of NA in column xds_canale_last_response_marketing_cli after filling: 0\n",
      "Number of NA in column xds_tipo_azione_campagna_last_response_marketing_cli after filling: 0\n",
      "Number of NA in column xds_tipologia_azione_last_response_marketing_cli after filling: 0\n",
      "Number of NA in column qta_days_last_response_marketing_cli after filling: 0\n",
      "Number of NA in column lds_RETE_GAS after filling: 0\n",
      "Number of NA in column lds_Cluster_Polis_11_gruppi after filling: 0\n",
      "Number of NA in column fln_cell_m0_mono_flag after filling: 0\n",
      "Number of NA in column qta_days_diff_diffida_fattura_cli after filling: 0\n",
      "Number of NA in column qta_days_last_diffida_cli after filling: 0\n",
      "Number of NA in column qta_days_diff_sollecito_fattura_cli after filling: 0\n",
      "Number of NA in column qta_days_last_sollecito_cli after filling: 0\n",
      "Number of NA in column cdn_cv2_servizio after filling: 0\n",
      "Number of NA in column cdc_cv_fasce_servizio after filling: 0\n",
      "Number of NA in column cdc_cv_fasce_cliente after filling: 0\n",
      "Number of NA in column cdn_cv2_cliente after filling: 0\n",
      "Number of NA in column qta_days_servizio_attualmente_distaccato after filling: 0\n",
      "Number of NA in column qta_days_servizio_riallacciato after filling: 0\n",
      "Number of NA in column qta_days_emissione_fattura_pagamento_servizio_ultima_bolletta_emessa_canale_ALL after filling: 0\n",
      "Number of NA in column qta_days_incasso_fattura_today_servizio_ultima_bolletta_emessa_canale_ALL after filling: 0\n",
      "Number of NA in column qta_days_scadenza_fattura_pagamento_servizio_ultima_bolletta_emessa_canale_ALL after filling: 0\n"
     ]
    }
   ],
   "source": [
    "#NA values after filling:\n",
    "for column in column_na:\n",
    "    numeric = isinstance(column_na[column], numbers.Number)\n",
    "    if (numeric and (column.startswith('qta_days_') or column.startswith('qta_giorni_'))):\n",
    "        print(\"Number of NA in column \"+column+\" after filling: \"+str(input_data_micro.select(column).\\\n",
    "        where(\"`\"+column+\"` is null or \"+\"`\"+column+\"` >= 3650\").count()))\n",
    "    else:\n",
    "        if(numeric and (not column.startswith('qta_days_')) and  (not column.startswith('qta_giorni_'))):\n",
    "            print(\"Number of NA in column \"+column+\" after filling: \"+str(input_data_micro.select(column).\\\n",
    "            where('`'+column+\"` is null\").count()))\n",
    "        else:\n",
    "            if (column not in na_replaced_with_stars):\n",
    "                print(\"Number of NA in column \"+column+\" after filling: \"+str(input_data_micro.select(column).\\\n",
    "                where('`'+column+\"` is null or lower(\"+ column +\") in('***', 'null', 'na', '')\").count()))\n",
    "            else:\n",
    "                print(\"Number of NA in column \"+column+\" after filling: \"+str(input_data_micro.select(column).\\\n",
    "                where('`'+column+\"` is null or lower(\"+ column +\") in('null', 'na', '')\").count()))"
   ]
  },
  {
   "cell_type": "markdown",
   "metadata": {},
   "source": [
    "### 4.3 - Creating new features: val_t0_day, val_t0_month and val_t0_year, fln_dual"
   ]
  },
  {
   "cell_type": "markdown",
   "metadata": {},
   "source": [
    "Let's create the new features.\n",
    "\n",
    "    - val_t0_day: will not be usefull since all the days are 1st of the month\n",
    "    - val_t0_month: using dta_t0\n",
    "    - val_t0_year: using dta_t0\n",
    "    - fln_dual: using cdc_commodity_attive"
   ]
  },
  {
   "cell_type": "code",
   "execution_count": 46,
   "metadata": {},
   "outputs": [],
   "source": [
    "input_data_small_medium = input_data_small_medium.withColumn('val_t0_month', F.month(input_data_small_medium.dta_t0))\n",
    "input_data_small_medium = input_data_small_medium.withColumn('val_t0_year', F.year(input_data_small_medium.dta_t0))\n",
    "input_data_small_medium = input_data_small_medium.withColumn('fln_dual', F.\\\n",
    "                       when(F.col('cdc_commodity_attive') == 'DUAL', 1).otherwise(0))"
   ]
  },
  {
   "cell_type": "code",
   "execution_count": 47,
   "metadata": {},
   "outputs": [],
   "source": [
    "input_data_micro = input_data_micro.withColumn('val_t0_month', F.month(input_data_micro.dta_t0))\n",
    "input_data_micro = input_data_micro.withColumn('val_t0_year', F.year(input_data_micro.dta_t0))\n",
    "input_data_micro = input_data_micro.withColumn('fln_dual', F.\\\n",
    "                       when(F.col('cdc_commodity_attive') == 'DUAL', 1).otherwise(0))"
   ]
  },
  {
   "cell_type": "code",
   "execution_count": 48,
   "metadata": {},
   "outputs": [
    {
     "name": "stdout",
     "output_type": "stream",
     "text": [
      "+-------------------+------------+-----------+\n",
      "|             dta_t0|val_t0_month|val_t0_year|\n",
      "+-------------------+------------+-----------+\n",
      "|2020-01-01 00:00:00|           1|       2020|\n",
      "|2020-01-01 00:00:00|           1|       2020|\n",
      "|2020-01-01 00:00:00|           1|       2020|\n",
      "+-------------------+------------+-----------+\n",
      "\n"
     ]
    }
   ],
   "source": [
    "input_data_small_medium.select('dta_t0', 'val_t0_month', 'val_t0_year').limit(3).show()"
   ]
  },
  {
   "cell_type": "code",
   "execution_count": 49,
   "metadata": {},
   "outputs": [
    {
     "name": "stdout",
     "output_type": "stream",
     "text": [
      "+-------------------+------------+-----------+\n",
      "|             dta_t0|val_t0_month|val_t0_year|\n",
      "+-------------------+------------+-----------+\n",
      "|2020-02-01 00:00:00|           2|       2020|\n",
      "|2020-02-01 00:00:00|           2|       2020|\n",
      "|2020-02-01 00:00:00|           2|       2020|\n",
      "+-------------------+------------+-----------+\n",
      "\n"
     ]
    }
   ],
   "source": [
    "input_data_micro.select('dta_t0', 'val_t0_month', 'val_t0_year').limit(3).show()"
   ]
  },
  {
   "cell_type": "code",
   "execution_count": 50,
   "metadata": {},
   "outputs": [
    {
     "name": "stdout",
     "output_type": "stream",
     "text": [
      "+--------------------+--------+\n",
      "|cdc_commodity_attive|fln_dual|\n",
      "+--------------------+--------+\n",
      "|                DUAL|       1|\n",
      "|                DUAL|       1|\n",
      "|                DUAL|       1|\n",
      "+--------------------+--------+\n",
      "\n"
     ]
    }
   ],
   "source": [
    "input_data_small_medium.select('cdc_commodity_attive', 'fln_dual').where(\"cdc_commodity_attive = 'DUAL'\").limit(3).show()"
   ]
  },
  {
   "cell_type": "code",
   "execution_count": 51,
   "metadata": {},
   "outputs": [
    {
     "name": "stdout",
     "output_type": "stream",
     "text": [
      "+--------------------+--------+\n",
      "|cdc_commodity_attive|fln_dual|\n",
      "+--------------------+--------+\n",
      "|                DUAL|       1|\n",
      "|                DUAL|       1|\n",
      "|                DUAL|       1|\n",
      "+--------------------+--------+\n",
      "\n"
     ]
    }
   ],
   "source": [
    "input_data_micro.select('cdc_commodity_attive', 'fln_dual').where(\"cdc_commodity_attive = 'DUAL'\").limit(3).show()"
   ]
  },
  {
   "cell_type": "markdown",
   "metadata": {},
   "source": [
    "Now let's drop dta_t0 and cdc_commodity_attive"
   ]
  },
  {
   "cell_type": "code",
   "execution_count": 52,
   "metadata": {},
   "outputs": [],
   "source": [
    "input_data_small_medium = input_data_small_medium.drop('dta_t0')\n",
    "input_data_small_medium = input_data_small_medium.drop('cdc_commodity_attive')"
   ]
  },
  {
   "cell_type": "code",
   "execution_count": 53,
   "metadata": {},
   "outputs": [],
   "source": [
    "input_data_micro = input_data_micro.drop('dta_t0')\n",
    "input_data_micro = input_data_micro.drop('cdc_commodity_attive')"
   ]
  },
  {
   "cell_type": "code",
   "execution_count": 54,
   "metadata": {},
   "outputs": [
    {
     "data": {
      "text/plain": [
       "662"
      ]
     },
     "execution_count": 54,
     "metadata": {},
     "output_type": "execute_result"
    }
   ],
   "source": [
    "len(input_data_small_medium.columns)"
   ]
  },
  {
   "cell_type": "code",
   "execution_count": 55,
   "metadata": {},
   "outputs": [
    {
     "data": {
      "text/plain": [
       "660"
      ]
     },
     "execution_count": 55,
     "metadata": {},
     "output_type": "execute_result"
    }
   ],
   "source": [
    "len(input_data_micro.columns)"
   ]
  },
  {
   "cell_type": "code",
   "execution_count": 56,
   "metadata": {},
   "outputs": [],
   "source": [
    "input_data_small_medium.write.mode('overwrite').parquet(\"/bda/anx_adv_achurn/durand/input_data_small_medium_step1\")"
   ]
  },
  {
   "cell_type": "code",
   "execution_count": 57,
   "metadata": {},
   "outputs": [],
   "source": [
    "input_data_micro.write.mode('overwrite').parquet(\"/bda/anx_adv_achurn/durand/input_data_micro_step1\")"
   ]
  },
  {
   "cell_type": "code",
   "execution_count": null,
   "metadata": {},
   "outputs": [],
   "source": []
  },
  {
   "cell_type": "code",
   "execution_count": 58,
   "metadata": {},
   "outputs": [],
   "source": [
    "session.stop()"
   ]
  },
  {
   "cell_type": "code",
   "execution_count": null,
   "metadata": {},
   "outputs": [],
   "source": []
  }
 ],
 "metadata": {
  "kernelspec": {
   "display_name": "Python 3",
   "language": "python",
   "name": "python3"
  },
  "language_info": {
   "codemirror_mode": {
    "name": "ipython",
    "version": 3
   },
   "file_extension": ".py",
   "mimetype": "text/x-python",
   "name": "python",
   "nbconvert_exporter": "python",
   "pygments_lexer": "ipython3",
   "version": "3.7.4"
  }
 },
 "nbformat": 4,
 "nbformat_minor": 2
}
