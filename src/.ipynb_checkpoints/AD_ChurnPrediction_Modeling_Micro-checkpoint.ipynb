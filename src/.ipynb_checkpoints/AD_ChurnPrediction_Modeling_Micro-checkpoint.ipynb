{
 "cells": [
  {
   "cell_type": "code",
   "execution_count": 1,
   "metadata": {},
   "outputs": [
    {
     "data": {
      "text/html": [
       "<style>.container { width:100% !important; }</style>"
      ],
      "text/plain": [
       "<IPython.core.display.HTML object>"
      ]
     },
     "metadata": {},
     "output_type": "display_data"
    }
   ],
   "source": [
    "from IPython.core.display import display, HTML\n",
    "display(HTML(\"<style>.container { width:100% !important; }</style>\"))\n",
    "python3 = True"
   ]
  },
  {
   "cell_type": "markdown",
   "metadata": {},
   "source": [
    "# Environment variables setting"
   ]
  },
  {
   "cell_type": "code",
   "execution_count": 2,
   "metadata": {},
   "outputs": [],
   "source": [
    "# Setting environment variables\n",
    "import sys, os\n",
    "sys.path.insert(0, os.environ[\"PYLIB\"] + \"/py4j-0.10.7-src.zip\")\n",
    "sys.path.insert(0, os.environ[\"PYLIB\"] + \"/pyspark.zip\")\n",
    "if python3: os.environ['PYSPARK_PYTHON'] = \"vsb/CI_conda_env_py3/bin/python\""
   ]
  },
  {
   "cell_type": "markdown",
   "metadata": {},
   "source": [
    "# Import of useful packages and modules"
   ]
  },
  {
   "cell_type": "code",
   "execution_count": 3,
   "metadata": {},
   "outputs": [],
   "source": [
    "import pandas as pd\n",
    "pd.set_option('max_colwidth', None)\n",
    "import itertools\n",
    "import numpy as np\n",
    "from numpy import nanargmax\n",
    "from tqdm import tqdm\n",
    "import matplotlib.pyplot as plt\n",
    "import matplotlib as mpl\n",
    "%matplotlib inline\n",
    "import seaborn as sns\n",
    "import sklearn\n",
    "import time\n",
    "from pandas.core.common import flatten\n",
    "import pickle\n",
    "from sklearn.metrics import roc_curve, roc_auc_score, precision_recall_curve, auc\n",
    "# Importing spark libs\n",
    "from pyspark import SparkConf\n",
    "from pyspark.sql import SparkSession\n",
    "import pyspark.sql.functions as F\n",
    "from pyspark.sql.functions import udf\n",
    "from pyspark.sql.types import FloatType\n",
    "import pyspark.sql.types as types\n",
    "from pyspark.mllib.stat import Statistics\n",
    "from pyspark.ml import Pipeline\n",
    "from pyspark.ml.feature import StringIndexer, OneHotEncoder, VectorAssembler\n",
    "from pyspark.ml.feature import StandardScaler\n",
    "from pyspark.ml.classification import GBTClassifier\n",
    "from pyspark.ml.regression import GBTRegressor\n",
    "from pyspark.ml.classification import LogisticRegression, LogisticRegressionModel\n",
    "from pyspark.mllib.evaluation import MulticlassMetrics\n",
    "from sklearn.metrics import classification_report, confusion_matrix"
   ]
  },
  {
   "cell_type": "markdown",
   "metadata": {},
   "source": [
    "# Spark configuration "
   ]
  },
  {
   "cell_type": "code",
   "execution_count": 4,
   "metadata": {},
   "outputs": [],
   "source": [
    "# Stopping the current session if exists\n",
    "try:\n",
    "    session.stop()\n",
    "except:\n",
    "    pass"
   ]
  },
  {
   "cell_type": "code",
   "execution_count": 5,
   "metadata": {},
   "outputs": [],
   "source": [
    "# Setting up the spark configurator  \n",
    "conf = SparkConf()\n",
    "conf.set('spark.serializer', \"org.apache.spark.serializer.KryoSerializer\")       \n",
    "conf.set('spark.executor.memory', '16g')\n",
    "conf.set('spark.driver.memory', '16g')\n",
    "conf.set('spark.executor.cores', '3')\n",
    "conf.set('spark.driver.cores', '3')\n",
    "conf.set('spark.dynamicAllocation.enabled', 'true')\n",
    "conf.set('spark.executor.instances', '4')\n",
    "conf.set('spark.dynamicAllocation.minExecutors', '4')\n",
    "conf.set('spark.dynamicAllocation.maxExecutors', '12')\n",
    "conf.set('spark.executor.memoryOverhead', '8096')\n",
    "conf.set('spark.driver.memoryOverhead', '8096')\n",
    "conf.set('spark.driver.maxResultSize', '20g')\n",
    "conf.set('spark.kryoserializer.buffer.max', '2047')\n",
    "conf.setAppName('DA_Modeling_Micro')\n",
    "if python3: conf.set(\"spark.yarn.dist.archives\", \"/home/anxadvuser/anx_adv_achurn/env_conda_py3.zip#vsb\")\n",
    "\n",
    "# Creating the spark session object\n",
    "session = SparkSession.builder.config(conf=conf).enableHiveSupport().getOrCreate()"
   ]
  },
  {
   "cell_type": "code",
   "execution_count": 6,
   "metadata": {},
   "outputs": [
    {
     "data": {
      "text/html": [
       "\n",
       "            <div>\n",
       "                <p><b>SparkSession - hive</b></p>\n",
       "                \n",
       "        <div>\n",
       "            <p><b>SparkContext</b></p>\n",
       "\n",
       "            <p><a href=\"http://claawme2ba29.enelint.global:4042\">Spark UI</a></p>\n",
       "\n",
       "            <dl>\n",
       "              <dt>Version</dt>\n",
       "                <dd><code>v2.4.0-cdh6.2.1</code></dd>\n",
       "              <dt>Master</dt>\n",
       "                <dd><code>yarn</code></dd>\n",
       "              <dt>AppName</dt>\n",
       "                <dd><code>DA_Modeling_Micro</code></dd>\n",
       "            </dl>\n",
       "        </div>\n",
       "        \n",
       "            </div>\n",
       "        "
      ],
      "text/plain": [
       "<pyspark.sql.session.SparkSession at 0x7f41ed12fed0>"
      ]
     },
     "execution_count": 6,
     "metadata": {},
     "output_type": "execute_result"
    }
   ],
   "source": [
    "session"
   ]
  },
  {
   "cell_type": "markdown",
   "metadata": {},
   "source": [
    "# Modeling"
   ]
  },
  {
   "cell_type": "code",
   "execution_count": 7,
   "metadata": {
    "scrolled": true
   },
   "outputs": [],
   "source": [
    "train_set_features_selected_micro = session.read.parquet(\"/bda/anx_adv_achurn/durand/train_set_features_selected_micro\").cache()\n",
    "test_set_features_selected_micro = session.read.parquet(\"/bda/anx_adv_achurn/durand/test_set_features_selected_micro\").cache()"
   ]
  },
  {
   "cell_type": "code",
   "execution_count": 8,
   "metadata": {},
   "outputs": [],
   "source": [
    "train_set_subset_micro = session.read.parquet(\"/bda/anx_adv_achurn/durand/train_set_micro_balanced_numeric_subset\").cache()"
   ]
  },
  {
   "cell_type": "code",
   "execution_count": 9,
   "metadata": {},
   "outputs": [
    {
     "data": {
      "text/plain": [
       "10976832"
      ]
     },
     "execution_count": 9,
     "metadata": {},
     "output_type": "execute_result"
    }
   ],
   "source": [
    "train_set_features_selected_micro.count()"
   ]
  },
  {
   "cell_type": "code",
   "execution_count": 10,
   "metadata": {},
   "outputs": [
    {
     "data": {
      "text/plain": [
       "4041295"
      ]
     },
     "execution_count": 10,
     "metadata": {},
     "output_type": "execute_result"
    }
   ],
   "source": [
    "test_set_features_selected_micro.count()"
   ]
  },
  {
   "cell_type": "code",
   "execution_count": 11,
   "metadata": {},
   "outputs": [],
   "source": [
    "def dtypes(df_in):\n",
    "    \"\"\"\n",
    "    Generate the data type categories: numerical, categorical, date and unsupported category.\n",
    "    :param df_in: the input rdd data frame\n",
    "    :return: data type categories\n",
    "    \"\"\"\n",
    "\n",
    "    # all data types in pyspark (for reference)\n",
    "    # __all__ = [\n",
    "    # \"DataType\", \"NullType\", \"StringType\", \"BinaryType\", \"BooleanType\", \"DateType\",\n",
    "    # \"TimestampType\", \"DecimalType\", \"DoubleType\", \"FloatType\", \"ByteType\", \"IntegerType\",\n",
    "    # \"LongType\", \"ShortType\", \"ArrayType\", \"MapType\", \"StructField\", \"StructType\"]\n",
    "\n",
    "    # numerical data types in rdd DataFrame dtypes\n",
    "    num_types = ['DecimalType', 'DoubleType', 'FloatType', 'ByteType', 'IntegerType', 'LongType', 'ShortType']\n",
    "    # qualitative data types in rdd DataFrame dtypes\n",
    "    cat_types = ['NullType', 'StringType', 'BinaryType', 'BooleanType']\n",
    "    # date data types in rdd DataFrame dtypes\n",
    "    date_types = ['DateType', 'TimestampType']\n",
    "    # unsupported data types in rdd DataFrame dtypes\n",
    "    unsupported_types = ['ArrayType', 'MapType', 'StructField', 'StructType']\n",
    "\n",
    "    all_fields = [(f.name, str(f.dataType)) for f in df_in.schema.fields]\n",
    "\n",
    "    all_df = pd.DataFrame(all_fields, columns=['feature', 'DataType'])\n",
    "\n",
    "    # initialize the memory for the corresponding fields\n",
    "    num_fields = []\n",
    "    cat_fields = []\n",
    "    date_fields = []\n",
    "    unsupported_fields = []\n",
    "\n",
    "    [num_fields.append(item[0]) if item[1] in num_types else\n",
    "     cat_fields.append(item[0]) if item[1] in cat_types else\n",
    "     date_fields.append(item[0]) if item[1] in date_types else\n",
    "     unsupported_fields.append(item[0]) for item in all_fields]\n",
    "\n",
    "    return all_df, num_fields, cat_fields, date_fields, unsupported_fields\n",
    "\n",
    "\n",
    "def get_encoded_names(df_in, categorical_cols):\n",
    "    \"\"\"\n",
    "    get the encoded dummy variable names\n",
    "    :param df_in: the input dataframe\n",
    "    :param categorical_cols: the name list of the categorical columns\n",
    "    :return: the name list of the encoded dummy variable for categorical columns\n",
    "    \"\"\"\n",
    "\n",
    "    ind_names = [df_in.groupBy(c).count().sort(F.col(\"count\").desc()).select(c).rdd.flatMap(lambda x: x).collect()\n",
    "                 for c in categorical_cols]\n",
    "\n",
    "    encodered_name = [categorical_cols[i] + '_' + j for i in range(len(categorical_cols)) for j in ind_names[i]]\n",
    "\n",
    "    return encodered_name\n",
    "\n",
    "\n",
    "def get_assembled_data(df_in, index_col=None, categorical_cols=None, continuous_cols=None, label_col=None, dropLast=False):\n",
    "    \"\"\"\n",
    "    Get dummy variables and concat with continuous variables for ml modeling.\n",
    "    :param df_in: the dataframe\n",
    "    :param categorical_cols: the name list of the categorical data\n",
    "    :param continuous_cols:  the name list of the numerical data\n",
    "    :param label_col:  the name of label column\n",
    "    :param dropLast:  the flag of drop last column\n",
    "    :return: encoded dummy variable names and feature matrix\n",
    "    \"\"\"\n",
    "\n",
    "    # exclude index col and label col\n",
    "    excluded = list(flatten([index_col, label_col]))\n",
    "\n",
    "    if continuous_cols:\n",
    "        continuous_cols = [col for col in continuous_cols if col not in excluded]\n",
    "    else:\n",
    "        continuous_cols = []\n",
    "\n",
    "    if categorical_cols:\n",
    "        categorical_cols = [col for col in categorical_cols if col not in excluded]\n",
    "    else:\n",
    "        categorical_cols = []\n",
    "\n",
    "    indexers = [StringIndexer(inputCol=c, outputCol=\"{0}_indexed\".format(c)) for c in categorical_cols]\n",
    "\n",
    "    # default setting: dropLast=True\n",
    "    encoders = [OneHotEncoder(inputCol=indexer.getOutputCol(),\n",
    "                              outputCol=\"{0}_encoded\".format(indexer.getOutputCol()), dropLast=dropLast)\n",
    "                for indexer in indexers]\n",
    "\n",
    "    assembler = VectorAssembler(inputCols=continuous_cols + [encoder.getOutputCol() for encoder in encoders],\n",
    "                                outputCol=\"assembled_features\")\n",
    "    \n",
    "    # Standard Scaler: \n",
    "    #We use the Standard Scaler to put all the numbers on the same scale, which is standard practice \n",
    "    #for machine learning. This takes the observation and subtracts the mean, and then divides that \n",
    "    #by the standard deviation.\n",
    "    \n",
    "    standardscaler = StandardScaler().setInputCol(\"assembled_features\").setOutputCol(\"features\")\n",
    "    \n",
    "    pipeline = Pipeline(stages=indexers + encoders + [assembler] + [standardscaler])\n",
    "\n",
    "    encodered_col_names = get_encoded_names(df_in, categorical_cols)\n",
    "    assembled_col_names = continuous_cols + encodered_col_names\n",
    "\n",
    "    model = pipeline.fit(df_in)\n",
    "    data = model.transform(df_in)\n",
    "\n",
    "    if index_col and label_col:\n",
    "        # for supervised learning\n",
    "        data = data.withColumn('label', F.col(label_col))\n",
    "        out_data = data.select(*list(flatten([index_col, 'features', 'label'])))\n",
    "    elif not index_col and label_col:\n",
    "        # for supervised learning\n",
    "        data = data.withColumn('label', F.col(label_col))\n",
    "        out_data = data.select('features', 'label')\n",
    "    elif index_col and not label_col:\n",
    "        # for unsupervised learning\n",
    "        out_data = data.select(*list(flatten([index_col, 'features'])))\n",
    "    elif not index_col and not label_col:\n",
    "        # for unsupervised learning\n",
    "        out_data = data.select('features')\n",
    "\n",
    "    return assembled_col_names, out_data\n",
    "\n",
    "\n",
    "def plot_confusion_matrix(cm, target_names, title='Confusion matrix', cmap=None, normalize=True):\n",
    "    \"\"\"\n",
    "    given a sklearn confusion matrix (cm), make a nice plot\n",
    "\n",
    "    Arguments\n",
    "    ---------\n",
    "    cm:           confusion matrix from sklearn.metrics.confusion_matrix\n",
    "\n",
    "    target_names: given classification classes such as [0, 1, 2]\n",
    "                  the class names, for example: ['high', 'medium', 'low']\n",
    "\n",
    "    title:        the text to display at the top of the matrix\n",
    "\n",
    "    cmap:         the gradient of the values displayed from matplotlib.pyplot.cm\n",
    "                  see http://matplotlib.org/examples/color/colormaps_reference.html\n",
    "                  plt.get_cmap('jet') or plt.cm.Blues\n",
    "\n",
    "    normalize:    If False, plot the raw numbers\n",
    "                  If True, plot the proportions\n",
    "\n",
    "    Usage\n",
    "    -----\n",
    "    plot_confusion_matrix(cm           = cm,                  # confusion matrix created by\n",
    "                                                              # sklearn.metrics.confusion_matrix\n",
    "                          normalize    = True,                # show proportions\n",
    "                          target_names = y_labels_vals,       # list of names of the classes\n",
    "                          title        = best_estimator_name) # title of graph\n",
    "\n",
    "    Citiation\n",
    "    ---------\n",
    "    http://scikit-learn.org/stable/auto_examples/model_selection/plot_confusion_matrix.html\n",
    "\n",
    "    \"\"\"\n",
    "    \n",
    "    if cmap is None:\n",
    "        cmap = plt.get_cmap('copper')\n",
    "        \n",
    "    plt.rcParams.update({'font.size': 15})\n",
    "    plt.figure(figsize=(6, 4))\n",
    "    plt.imshow(cm, interpolation='nearest', cmap=cmap)\n",
    "    plt.colorbar()\n",
    "\n",
    "    if target_names is not None:\n",
    "        tick_marks = np.arange(len(target_names))\n",
    "        plt.xticks(tick_marks, target_names, rotation=45)\n",
    "        plt.yticks(tick_marks, target_names)\n",
    "\n",
    "    if normalize:\n",
    "        cm = cm.astype('float') / cm.sum(axis=1)[:, np.newaxis]\n",
    "\n",
    "\n",
    "    thresh = cm.max() / 1.5 if normalize else cm.max() / 2\n",
    "    for i, j in itertools.product(range(cm.shape[0]), range(cm.shape[1])):\n",
    "        if normalize:\n",
    "            plt.text(j, i, \"{:0.4f}\".format(cm[i, j]),\n",
    "                     horizontalalignment=\"center\",\n",
    "                     color=\"white\" if cm[i, j] > thresh else \"black\")\n",
    "        else:\n",
    "            plt.text(j, i, \"{:,}\".format(cm[i, j]),\n",
    "                     horizontalalignment=\"center\",\n",
    "                     color=\"white\" if cm[i, j] > thresh else \"black\")\n",
    "\n",
    "    plt.rcParams.update({'font.size': 12})\n",
    "    plt.tight_layout()\n",
    "    plt.ylabel('True label')\n",
    "    plt.xlabel('Predicted label')\n",
    "    plt.title(title)\n",
    "    plt.show()\n",
    "    plt.close()\n",
    "    \n",
    "def plot_roc_curve(predictions_df, label_col, churn_proba_col, model_name):\n",
    "    np.seterr(divide='ignore', invalid='ignore')\n",
    "    \n",
    "    y = predictions_df[label_col]\n",
    "    y_hat = predictions_df[churn_proba_col]\n",
    "    \n",
    "    # calculate inputs for the roc curve\n",
    "    fpr, tpr, thresholds = roc_curve(y, y_hat)\n",
    "    \n",
    "    # calculate the area under the roc curve\n",
    "    roc_auc = roc_auc_score(y, y_hat)\n",
    "\n",
    "    # get the best threshold\n",
    "    J = tpr - fpr\n",
    "    ix = nanargmax(J)\n",
    "    best_thresh = thresholds[ix]\n",
    "\n",
    "    # plot roc curve\n",
    "    plt.rcParams.update({'font.size': 12})\n",
    "    plt.figure(figsize=(6, 4))\n",
    "    plt.plot(fpr, tpr, marker = '.', label = model_name)\n",
    "    \n",
    "    # axis labels\n",
    "    plt.xlabel('False Positive Rate')\n",
    "    plt.ylabel('True Positive Rate')\n",
    "    \n",
    "    # title\n",
    "    plt.title('ROC Curve {}'.format(model_name))\n",
    "    \n",
    "    # show the plot\n",
    "    plt.show()\n",
    "    plt.close()\n",
    "    \n",
    "    np.seterr(divide='warn', invalid='warn')\n",
    "    return roc_auc, best_thresh\n",
    "    \n",
    "def plot_pr_curve(predictions_df, label_col, churn_proba_col, model_name):\n",
    "    np.seterr(divide='ignore', invalid='ignore')\n",
    "    \n",
    "    y = predictions_df[label_col]\n",
    "    y_hat = predictions_df[churn_proba_col]\n",
    "    \n",
    "    # calculate inputs for the PR curve\n",
    "    precision, recall, thresholds = precision_recall_curve(y, y_hat)\n",
    "    \n",
    "    # calculate the area under the pr curve\n",
    "    pr_auc = auc(recall, precision)\n",
    "    \n",
    "    # Calculate F-Scores and find the index of ideal score\n",
    "    fscores = (2 * precision * recall) / (precision + recall)\n",
    "    ix = nanargmax(fscores)\n",
    "    best_thresh = thresholds[ix]\n",
    "\n",
    "    # plot PR curve\n",
    "    plt.rcParams.update({'font.size': 12})\n",
    "    plt.figure(figsize=(6, 4))\n",
    "    plt.plot(recall, precision, marker = '.', label = model_name)\n",
    "\n",
    "    # axis labels\n",
    "    plt.xlabel('Recall')\n",
    "    plt.ylabel('Precision')\n",
    "    \n",
    "    # title\n",
    "    plt.title('Precision-Recall Curve {}'.format(model_name))\n",
    "\n",
    "    # show the plot\n",
    "    plt.show()\n",
    "    plt.close()\n",
    "    \n",
    "    np.seterr(divide='warn', invalid='warn')\n",
    "    return pr_auc, best_thresh\n",
    "\n",
    "def find_best_threshold(predictions_df, label_col, churn_proba_col, model_name):\n",
    "    \n",
    "    # Plot ROC Curve\n",
    "    roc_auc, best_thresh_roc_curve = plot_roc_curve(predictions_df, label_col, churn_proba_col, model_name)\n",
    "    \n",
    "    # Plot PR Curve\n",
    "    print()\n",
    "    pr_auc, best_thresh_pr_curve = plot_pr_curve(predictions_df, label_col, churn_proba_col, model_name)\n",
    "    \n",
    "    return roc_auc, pr_auc, best_thresh_roc_curve, best_thresh_pr_curve\n",
    "    \n",
    "def evaluate_model(confusion_matrix, model_name):\n",
    "    # Plot Confusion Matrix\n",
    "    plot_confusion_matrix(cm = confusion_matrix, normalize = False, target_names = ['stay', 'churn'], \n",
    "                          title = \"Confusion Matrix {}\".format(model_name), cmap=\"Blues\")\n",
    "    \n",
    "    # True Positive\n",
    "    tp = confusion_matrix[1][1]\n",
    "    # False Positive\n",
    "    fp = confusion_matrix[0][1]\n",
    "    # Tue Negative\n",
    "    tn = confusion_matrix[0][0]\n",
    "    # False Negative\n",
    "    fn = confusion_matrix[1][0]\n",
    "    \n",
    "    precision = (tp/(tp+fp))\n",
    "    recall = (tp/(tp+fn))\n",
    "    fscore = (2*precision*recall)/(precision+recall)\n",
    "    \n",
    "    return precision, recall, fscore\n",
    "\n",
    "def conpute_confusion_matrix(predictions_df, predictions_col, label_col):\n",
    "    results = predictions_df.select([predictions_col, label_col])\n",
    "    predictionAndLabels = results.rdd\n",
    "    metrics = MulticlassMetrics(predictionAndLabels)\n",
    "    cm = metrics.confusionMatrix().toArray()\n",
    "    return cm\n",
    "\n",
    "def split_proba_column(predictions_df, proba_col):\n",
    "    firstelement = udf(lambda v:float(v[0]),FloatType())\n",
    "    secondelement = udf(lambda v:float(v[1]),FloatType())\n",
    "    predictions_df = predictions_df.withColumn('stay_probability', firstelement(proba_col))\n",
    "    predictions_df = predictions_df.withColumn('churn_probability', secondelement(proba_col))\n",
    "    return predictions_df\n",
    "\n",
    "def metrics_to_pandas(model, precision, recall, fscore, roc_auc, pr_auc, roc_best_threshold = None, pr_best_threshold = None):\n",
    "    if (roc_best_threshold == None and pr_best_threshold == None):\n",
    "        metrics_dict = {\n",
    "            'Model': [model],\n",
    "            'Default Threshold': [0.5],\n",
    "            'Precision (%)': [precision * 100],\n",
    "            'Recall (%)': [recall * 100],\n",
    "            'F1 Score (%)': [fscore * 100],\n",
    "            'ROC AUC': [roc_auc],\n",
    "            'PR AUC': [pr_auc]\n",
    "        }\n",
    "    if roc_best_threshold != None:\n",
    "        metrics_dict = {\n",
    "            'Model': [model],\n",
    "            'ROC Best Threshold': [roc_best_threshold],\n",
    "            'Precision (%)': [precision * 100],\n",
    "            'Recall (%)': [recall * 100],\n",
    "            'F1 Score (%)': [fscore * 100],\n",
    "            'ROC AUC': [roc_auc],\n",
    "            'PR AUC': [pr_auc]\n",
    "        }\n",
    "    if pr_best_threshold != None:\n",
    "        metrics_dict = {\n",
    "            'Model': [model],\n",
    "            'PR Best Threshold': [pr_best_threshold],\n",
    "            'Precision (%)': [precision * 100],\n",
    "            'Recall (%)': [recall * 100],\n",
    "            'F1 Score (%)': [fscore * 100],\n",
    "            'ROC AUC': [roc_auc],\n",
    "            'PR AUC': [pr_auc]\n",
    "        }\n",
    "        \n",
    "    metrics_df = pd.DataFrame.from_dict(metrics_dict, orient='index').transpose()\n",
    "    return metrics_df\n",
    "\n",
    "def get_optimal_threshold_results(predictions_df, threshold, proba_col, new_prediction_col):\n",
    "    predictions_df = predictions_df.withColumn(new_prediction_col, \n",
    "                                               F.when(F.col(proba_col) < float(threshold), 0.0).otherwise(1.0)\n",
    "                                              )\n",
    "    return predictions_df"
   ]
  },
  {
   "cell_type": "markdown",
   "metadata": {},
   "source": [
    "Preparing the data: both test and training set"
   ]
  },
  {
   "cell_type": "code",
   "execution_count": 12,
   "metadata": {},
   "outputs": [
    {
     "name": "stdout",
     "output_type": "stream",
     "text": [
      "48\n"
     ]
    }
   ],
   "source": [
    "# get_assembled_data test - this function is used to have the data in the correct form to apply any pyspark model\n",
    "indexCols = ['fk_cliente_unico', 'idn_cliente_sk', 'idc_id_key_cliente', 'idn_servizio_sk', 'idc_id_key_servizio', 'idn_contratto_sk', 'idc_id_key_contratto', 'cdc_pdr']\n",
    "labelCol = 'val_churn_2_months'\n",
    "\n",
    "_, train_continuous_cols_micro, train_categorical_cols_micro, _, _ = dtypes(train_set_features_selected_micro)\n",
    "_, test_continuous_cols_micro, test_categorical_cols_micro, _, _ = dtypes(test_set_features_selected_micro)\n",
    "\n",
    "train_continuous_cols_micro = [c for c in train_continuous_cols_micro if c != 'cdc_bolletta_web']\n",
    "test_continuous_cols_micro = [c for c in train_continuous_cols_micro if c != 'cdc_bolletta_web']\n",
    "\n",
    "train_set_assembled_col_names_micro, assembled_train_set_micro = get_assembled_data(train_set_features_selected_micro, \n",
    "                                                                                                  index_col = indexCols, \n",
    "                                                                                                  categorical_cols = train_categorical_cols_micro,\n",
    "                                                                                                  continuous_cols = train_continuous_cols_micro, \n",
    "                                                                                                  label_col = labelCol\n",
    "                                                                                                 )\n",
    "\n",
    "test_set_assembled_col_names_micro, assembled_test_set_micro = get_assembled_data(test_set_features_selected_micro, \n",
    "                                                                                                index_col = indexCols, \n",
    "                                                                                                categorical_cols = test_categorical_cols_micro,\n",
    "                                                                                                continuous_cols = test_continuous_cols_micro, \n",
    "                                                                                                label_col = labelCol\n",
    "                                                                                               )\n",
    "\n",
    "print(len(train_set_assembled_col_names_micro))"
   ]
  },
  {
   "cell_type": "markdown",
   "metadata": {},
   "source": [
    "## Small and Medium"
   ]
  },
  {
   "cell_type": "code",
   "execution_count": 13,
   "metadata": {},
   "outputs": [],
   "source": [
    "metrics_perc_dict_micro = {\n",
    "    'Model': [],\n",
    "    'Default Threshold': [],\n",
    "    'Precision (%)': [],\n",
    "    'Recall (%)': [],\n",
    "    'F1 Score (%)': [],\n",
    "    'ROC AUC': [],\n",
    "    'PR AUC': []\n",
    "}\n",
    "\n",
    "metrics_perc_dict_roc_th_micro = {\n",
    "    'Model': [],\n",
    "    'ROC Best Threshold': [],\n",
    "    'Precision (%)': [],\n",
    "    'Recall (%)': [],\n",
    "    'F1 Score (%)': [],\n",
    "    'ROC AUC': [],\n",
    "    'PR AUC': []\n",
    "}\n",
    "\n",
    "metrics_perc_dict_pr_th_micro = {\n",
    "    'Model': [],\n",
    "    'PR Best Threshold': [],\n",
    "    'Precision (%)': [],\n",
    "    'Recall (%)': [],\n",
    "    'F1 Score (%)': [],\n",
    "    'ROC AUC': [],\n",
    "    'PR AUC': []\n",
    "}"
   ]
  },
  {
   "cell_type": "markdown",
   "metadata": {},
   "source": [
    "### Logistic Regression"
   ]
  },
  {
   "cell_type": "markdown",
   "metadata": {},
   "source": [
    "#### Building"
   ]
  },
  {
   "cell_type": "code",
   "execution_count": 14,
   "metadata": {},
   "outputs": [],
   "source": [
    "# Train Logistic Regession model\n",
    "lr_micro = LogisticRegression(labelCol=\"label\", featuresCol=\"features\", maxIter=50)\n",
    "lr_model_micro=lr_micro.fit(assembled_train_set_micro)\n",
    "predict_train_lr_micro=lr_model_micro.transform(assembled_train_set_micro)\n",
    "predict_test_lr_micro=lr_model_micro.transform(assembled_test_set_micro)"
   ]
  },
  {
   "cell_type": "code",
   "execution_count": 15,
   "metadata": {},
   "outputs": [],
   "source": [
    "predict_test_lr_micro = split_proba_column(predictions_df = predict_test_lr_micro, proba_col = 'probability')\n",
    "cm_lr_micro = conpute_confusion_matrix(predict_test_lr_micro, 'prediction', 'label')\n",
    "results_lr_micro = predict_test_lr_micro.select('label', 'probability', 'stay_probability', 'churn_probability', 'prediction').toPandas()"
   ]
  },
  {
   "cell_type": "markdown",
   "metadata": {},
   "source": [
    "#### Evaluation"
   ]
  },
  {
   "cell_type": "code",
   "execution_count": 16,
   "metadata": {},
   "outputs": [
    {
     "data": {
      "image/png": "[encoded data removed]",
      "text/plain": [
       "<Figure size 432x288 with 1 Axes>"
      ]
     },
     "metadata": {
      "needs_background": "light"
     },
     "output_type": "display_data"
    },
    {
     "name": "stdout",
     "output_type": "stream",
     "text": [
      "\n"
     ]
    },
    {
     "data": {
      "image/png": "[encoded data removed]",
      "text/plain": [
       "<Figure size 432x288 with 1 Axes>"
      ]
     },
     "metadata": {
      "needs_background": "light"
     },
     "output_type": "display_data"
    }
   ],
   "source": [
    "# Best threshold calculation and areas under the curves \n",
    "roc_auc_lr_micro, pr_auc_lr_micro, best_thresh_roc_curve_lr_micro, best_thresh_pr_curve_lr_micro = find_best_threshold(\n",
    "    predictions_df = results_lr_micro,\n",
    "    label_col = 'label',\n",
    "    churn_proba_col = 'churn_probability',\n",
    "    model_name = 'Logistic Regression'\n",
    ")"
   ]
  },
  {
   "cell_type": "code",
   "execution_count": 17,
   "metadata": {},
   "outputs": [],
   "source": [
    "# Threshold optimization: with ROC Curve best threshold\n",
    "predict_test_lr_micro = get_optimal_threshold_results(\n",
    "    predictions_df = predict_test_lr_micro, \n",
    "    threshold = best_thresh_roc_curve_lr_micro,\n",
    "    proba_col = 'churn_probability',\n",
    "    new_prediction_col = 'prediction_roc_th'\n",
    ")\n",
    "# Threshold optimization: with PR Curve best threshold\n",
    "predict_test_lr_micro = get_optimal_threshold_results(\n",
    "    predictions_df = predict_test_lr_micro, \n",
    "    threshold = best_thresh_pr_curve_lr_micro,\n",
    "    proba_col = 'churn_probability',\n",
    "    new_prediction_col = 'prediction_pr_th'\n",
    ")"
   ]
  },
  {
   "cell_type": "code",
   "execution_count": 18,
   "metadata": {},
   "outputs": [],
   "source": [
    "# Computing the new confusion matrix: ROC Curve best threshold\n",
    "cm_roc_lr_micro = conpute_confusion_matrix(predict_test_lr_micro, 'prediction_roc_th', 'label')\n",
    "\n",
    "# Computing the new confusion matrix: PR Curve best threshold\n",
    "cm_pr_lr_micro = conpute_confusion_matrix(predict_test_lr_micro, 'prediction_pr_th', 'label')"
   ]
  },
  {
   "cell_type": "code",
   "execution_count": 19,
   "metadata": {},
   "outputs": [
    {
     "data": {
      "image/png": "[encoded data removed]",
      "text/plain": [
       "<Figure size 432x288 with 2 Axes>"
      ]
     },
     "metadata": {
      "needs_background": "light"
     },
     "output_type": "display_data"
    },
    {
     "data": {
      "image/png": "[encoded data removed]",
      "text/plain": [
       "<Figure size 432x288 with 2 Axes>"
      ]
     },
     "metadata": {
      "needs_background": "light"
     },
     "output_type": "display_data"
    },
    {
     "data": {
      "image/png": "[encoded data removed]",
      "text/plain": [
       "<Figure size 432x288 with 2 Axes>"
      ]
     },
     "metadata": {
      "needs_background": "light"
     },
     "output_type": "display_data"
    }
   ],
   "source": [
    "# Evaluation metrics calculation\n",
    "precision_lr_micro, recall_lr_micro, fscore_lr_micro = evaluate_model(\n",
    "    confusion_matrix = cm_lr_micro,  \n",
    "    model_name = 'Logistic Regression'\n",
    ")\n",
    "\n",
    "# Computing new evaluation metrics: ROC Curve best threshold\n",
    "precision_roc_lr_micro, recall_roc_lr_micro, fscore_roc_lr_micro = evaluate_model(\n",
    "    confusion_matrix = cm_roc_lr_micro,\n",
    "    model_name = 'Logistic Regression ROC best Threshold'\n",
    ")\n",
    "\n",
    "# Computing new evaluation metrics: PR Curve best threshold\n",
    "precision_pr_lr_micro, recall_pr_lr_micro, fscore_pr_lr_micro = evaluate_model(\n",
    "    confusion_matrix = cm_pr_lr_micro,\n",
    "    model_name = 'Logistic Regression PR best Threshold'\n",
    ")"
   ]
  },
  {
   "cell_type": "code",
   "execution_count": 20,
   "metadata": {},
   "outputs": [
    {
     "name": "stdout",
     "output_type": "stream",
     "text": [
      "Metrics before threshold optimization: \n"
     ]
    },
    {
     "data": {
      "text/html": [
       "<div>\n",
       "<style scoped>\n",
       "    .dataframe tbody tr th:only-of-type {\n",
       "        vertical-align: middle;\n",
       "    }\n",
       "\n",
       "    .dataframe tbody tr th {\n",
       "        vertical-align: top;\n",
       "    }\n",
       "\n",
       "    .dataframe thead th {\n",
       "        text-align: right;\n",
       "    }\n",
       "</style>\n",
       "<table border=\"1\" class=\"dataframe\">\n",
       "  <thead>\n",
       "    <tr style=\"text-align: right;\">\n",
       "      <th></th>\n",
       "      <th>Model</th>\n",
       "      <th>Default Threshold</th>\n",
       "      <th>Precision (%)</th>\n",
       "      <th>Recall (%)</th>\n",
       "      <th>F1 Score (%)</th>\n",
       "      <th>ROC AUC</th>\n",
       "      <th>PR AUC</th>\n",
       "    </tr>\n",
       "  </thead>\n",
       "  <tbody>\n",
       "    <tr>\n",
       "      <th>0</th>\n",
       "      <td>Logistic Regression Micro</td>\n",
       "      <td>0.5</td>\n",
       "      <td>4.75846</td>\n",
       "      <td>59.0225</td>\n",
       "      <td>8.8069</td>\n",
       "      <td>0.704211</td>\n",
       "      <td>0.0756913</td>\n",
       "    </tr>\n",
       "  </tbody>\n",
       "</table>\n",
       "</div>"
      ],
      "text/plain": [
       "                       Model Default Threshold Precision (%) Recall (%)  \\\n",
       "0  Logistic Regression Micro               0.5       4.75846    59.0225   \n",
       "\n",
       "  F1 Score (%)   ROC AUC     PR AUC  \n",
       "0       8.8069  0.704211  0.0756913  "
      ]
     },
     "metadata": {},
     "output_type": "display_data"
    },
    {
     "name": "stdout",
     "output_type": "stream",
     "text": [
      "Metrics After threshold optimization - ROC best threshold: \n"
     ]
    },
    {
     "data": {
      "text/html": [
       "<div>\n",
       "<style scoped>\n",
       "    .dataframe tbody tr th:only-of-type {\n",
       "        vertical-align: middle;\n",
       "    }\n",
       "\n",
       "    .dataframe tbody tr th {\n",
       "        vertical-align: top;\n",
       "    }\n",
       "\n",
       "    .dataframe thead th {\n",
       "        text-align: right;\n",
       "    }\n",
       "</style>\n",
       "<table border=\"1\" class=\"dataframe\">\n",
       "  <thead>\n",
       "    <tr style=\"text-align: right;\">\n",
       "      <th></th>\n",
       "      <th>Model</th>\n",
       "      <th>ROC Best Threshold</th>\n",
       "      <th>Precision (%)</th>\n",
       "      <th>Recall (%)</th>\n",
       "      <th>F1 Score (%)</th>\n",
       "      <th>ROC AUC</th>\n",
       "      <th>PR AUC</th>\n",
       "    </tr>\n",
       "  </thead>\n",
       "  <tbody>\n",
       "    <tr>\n",
       "      <th>0</th>\n",
       "      <td>Logistic Regression Micro</td>\n",
       "      <td>0.5076</td>\n",
       "      <td>4.92963</td>\n",
       "      <td>57.2796</td>\n",
       "      <td>9.07799</td>\n",
       "      <td>0.704211</td>\n",
       "      <td>0.0756913</td>\n",
       "    </tr>\n",
       "  </tbody>\n",
       "</table>\n",
       "</div>"
      ],
      "text/plain": [
       "                       Model ROC Best Threshold Precision (%) Recall (%)  \\\n",
       "0  Logistic Regression Micro             0.5076       4.92963    57.2796   \n",
       "\n",
       "  F1 Score (%)   ROC AUC     PR AUC  \n",
       "0      9.07799  0.704211  0.0756913  "
      ]
     },
     "metadata": {},
     "output_type": "display_data"
    },
    {
     "name": "stdout",
     "output_type": "stream",
     "text": [
      "Metrics After threshold optimization - PR best threshold: \n"
     ]
    },
    {
     "data": {
      "text/html": [
       "<div>\n",
       "<style scoped>\n",
       "    .dataframe tbody tr th:only-of-type {\n",
       "        vertical-align: middle;\n",
       "    }\n",
       "\n",
       "    .dataframe tbody tr th {\n",
       "        vertical-align: top;\n",
       "    }\n",
       "\n",
       "    .dataframe thead th {\n",
       "        text-align: right;\n",
       "    }\n",
       "</style>\n",
       "<table border=\"1\" class=\"dataframe\">\n",
       "  <thead>\n",
       "    <tr style=\"text-align: right;\">\n",
       "      <th></th>\n",
       "      <th>Model</th>\n",
       "      <th>PR Best Threshold</th>\n",
       "      <th>Precision (%)</th>\n",
       "      <th>Recall (%)</th>\n",
       "      <th>F1 Score (%)</th>\n",
       "      <th>ROC AUC</th>\n",
       "      <th>PR AUC</th>\n",
       "    </tr>\n",
       "  </thead>\n",
       "  <tbody>\n",
       "    <tr>\n",
       "      <th>0</th>\n",
       "      <td>Logistic Regression Micro</td>\n",
       "      <td>0.734524</td>\n",
       "      <td>12.454</td>\n",
       "      <td>22.9647</td>\n",
       "      <td>16.1498</td>\n",
       "      <td>0.704211</td>\n",
       "      <td>0.0756913</td>\n",
       "    </tr>\n",
       "  </tbody>\n",
       "</table>\n",
       "</div>"
      ],
      "text/plain": [
       "                       Model PR Best Threshold Precision (%) Recall (%)  \\\n",
       "0  Logistic Regression Micro          0.734524        12.454    22.9647   \n",
       "\n",
       "  F1 Score (%)   ROC AUC     PR AUC  \n",
       "0      16.1498  0.704211  0.0756913  "
      ]
     },
     "metadata": {},
     "output_type": "display_data"
    }
   ],
   "source": [
    "#Displaying Evaluation metrics as pandas dataframe\n",
    "metrics_lr_micro = metrics_to_pandas(\n",
    "    model = 'Logistic Regression Micro',\n",
    "    precision = precision_lr_micro, \n",
    "    recall = recall_lr_micro, \n",
    "    fscore = fscore_lr_micro, \n",
    "    roc_auc = roc_auc_lr_micro, \n",
    "    pr_auc = pr_auc_lr_micro\n",
    ")\n",
    "print(\"Metrics before threshold optimization: \")\n",
    "display(metrics_lr_micro)\n",
    "\n",
    "#Displaying new evaluation metrics: ROC Curve best threshold\n",
    "metrics_roc_lr_micro = metrics_to_pandas(\n",
    "    model = 'Logistic Regression Micro',\n",
    "    precision = precision_roc_lr_micro, \n",
    "    recall = recall_roc_lr_micro, \n",
    "    fscore = fscore_roc_lr_micro, \n",
    "    roc_auc = roc_auc_lr_micro, \n",
    "    pr_auc = pr_auc_lr_micro,\n",
    "    roc_best_threshold = best_thresh_roc_curve_lr_micro\n",
    ")\n",
    "\n",
    "#Displaying new evaluation metrics: PR Curve best threshold\n",
    "metrics_pr_lr_micro = metrics_to_pandas(\n",
    "    model = 'Logistic Regression Micro',\n",
    "    precision = precision_pr_lr_micro, \n",
    "    recall = recall_pr_lr_micro, \n",
    "    fscore = fscore_pr_lr_micro, \n",
    "    roc_auc = roc_auc_lr_micro, \n",
    "    pr_auc = pr_auc_lr_micro,\n",
    "    pr_best_threshold = best_thresh_pr_curve_lr_micro\n",
    ")\n",
    "\n",
    "print(\"Metrics After threshold optimization - ROC best threshold: \")\n",
    "display(metrics_roc_lr_micro)\n",
    "print(\"Metrics After threshold optimization - PR best threshold: \")\n",
    "display(metrics_pr_lr_micro)"
   ]
  },
  {
   "cell_type": "code",
   "execution_count": 21,
   "metadata": {},
   "outputs": [],
   "source": [
    "metrics_perc_dict_micro['Model'].append('Logistic Regression Micro')\n",
    "metrics_perc_dict_micro['Default Threshold'].append(0.5)\n",
    "metrics_perc_dict_micro['Precision (%)'].append(precision_lr_micro*100)\n",
    "metrics_perc_dict_micro['Recall (%)'].append(recall_lr_micro*100)\n",
    "metrics_perc_dict_micro['F1 Score (%)'].append(fscore_lr_micro*100)\n",
    "metrics_perc_dict_micro['ROC AUC'].append(roc_auc_lr_micro)\n",
    "metrics_perc_dict_micro['PR AUC'].append(pr_auc_lr_micro)\n",
    "\n",
    "metrics_perc_dict_roc_th_micro['Model'].append('Logistic Regression Micro')\n",
    "metrics_perc_dict_roc_th_micro['ROC Best Threshold'].append(best_thresh_roc_curve_lr_micro)\n",
    "metrics_perc_dict_roc_th_micro['Precision (%)'].append(precision_roc_lr_micro*100)\n",
    "metrics_perc_dict_roc_th_micro['Recall (%)'].append(recall_roc_lr_micro*100)\n",
    "metrics_perc_dict_roc_th_micro['F1 Score (%)'].append(fscore_roc_lr_micro*100)\n",
    "metrics_perc_dict_roc_th_micro['ROC AUC'].append(roc_auc_lr_micro)\n",
    "metrics_perc_dict_roc_th_micro['PR AUC'].append(pr_auc_lr_micro)\n",
    "\n",
    "metrics_perc_dict_pr_th_micro['Model'].append('Logistic Regression Micro')\n",
    "metrics_perc_dict_pr_th_micro['PR Best Threshold'].append(best_thresh_pr_curve_lr_micro)\n",
    "metrics_perc_dict_pr_th_micro['Precision (%)'].append(precision_pr_lr_micro*100)\n",
    "metrics_perc_dict_pr_th_micro['Recall (%)'].append(recall_pr_lr_micro*100)\n",
    "metrics_perc_dict_pr_th_micro['F1 Score (%)'].append(fscore_pr_lr_micro*100)\n",
    "metrics_perc_dict_pr_th_micro['ROC AUC'].append(roc_auc_lr_micro)\n",
    "metrics_perc_dict_pr_th_micro['PR AUC'].append(pr_auc_lr_micro)"
   ]
  },
  {
   "cell_type": "markdown",
   "metadata": {},
   "source": [
    "### Random forest classifier"
   ]
  },
  {
   "cell_type": "markdown",
   "metadata": {},
   "source": [
    "A random forest is a machine learning classification algorithm. Random forests are generated collections of decision trees."
   ]
  },
  {
   "cell_type": "markdown",
   "metadata": {},
   "source": [
    "#### Building"
   ]
  },
  {
   "cell_type": "code",
   "execution_count": 22,
   "metadata": {},
   "outputs": [],
   "source": [
    "from pyspark.ml.classification import RandomForestClassifier, RandomForestClassificationModel\n",
    "from time import *"
   ]
  },
  {
   "cell_type": "code",
   "execution_count": 23,
   "metadata": {},
   "outputs": [],
   "source": [
    "rf_micro = RandomForestClassifier(labelCol=\"label\", featuresCol=\"features\", numTrees=50)\n",
    "rf_model_micro = rf_micro.fit(assembled_train_set_micro)\n",
    "predict_train_rf_micro = rf_model_micro.transform(assembled_train_set_micro)\n",
    "predict_test_rf_micro = rf_model_micro.transform(assembled_test_set_micro)"
   ]
  },
  {
   "cell_type": "code",
   "execution_count": 24,
   "metadata": {},
   "outputs": [],
   "source": [
    "predict_test_rf_micro = split_proba_column(predictions_df = predict_test_rf_micro, proba_col = 'probability')\n",
    "cm_rf_micro = conpute_confusion_matrix(predict_test_rf_micro, 'prediction', 'label')\n",
    "results_rf_micro = predict_test_rf_micro.select('label', 'probability', 'stay_probability', 'churn_probability', 'prediction').toPandas()"
   ]
  },
  {
   "cell_type": "markdown",
   "metadata": {},
   "source": [
    "#### Evaluation"
   ]
  },
  {
   "cell_type": "code",
   "execution_count": 25,
   "metadata": {},
   "outputs": [
    {
     "data": {
      "image/png": "[encoded data removed]",
      "text/plain": [
       "<Figure size 432x288 with 1 Axes>"
      ]
     },
     "metadata": {
      "needs_background": "light"
     },
     "output_type": "display_data"
    },
    {
     "name": "stdout",
     "output_type": "stream",
     "text": [
      "\n"
     ]
    },
    {
     "data": {
      "image/png": "[encoded data removed]",
      "text/plain": [
       "<Figure size 432x288 with 1 Axes>"
      ]
     },
     "metadata": {
      "needs_background": "light"
     },
     "output_type": "display_data"
    }
   ],
   "source": [
    "# Best threshold calculation and areas under the curves \n",
    "roc_auc_rf_micro, pr_auc_rf_micro, best_thresh_roc_curve_rf_micro, best_thresh_pr_curve_rf_micro = find_best_threshold(\n",
    "    predictions_df = results_rf_micro,\n",
    "    label_col = 'label',\n",
    "    churn_proba_col = 'churn_probability',\n",
    "    model_name = 'Random Forest'\n",
    ")"
   ]
  },
  {
   "cell_type": "code",
   "execution_count": 26,
   "metadata": {},
   "outputs": [],
   "source": [
    "# Threshold optimization: with ROC Curve best threshold\n",
    "predict_test_rf_micro = get_optimal_threshold_results(\n",
    "    predictions_df = predict_test_rf_micro, \n",
    "    threshold = best_thresh_roc_curve_rf_micro,\n",
    "    proba_col = 'churn_probability',\n",
    "    new_prediction_col = 'prediction_roc_th'\n",
    ")\n",
    "# Threshold optimization: with PR Curve best threshold\n",
    "predict_test_rf_micro = get_optimal_threshold_results(\n",
    "    predictions_df = predict_test_rf_micro, \n",
    "    threshold = best_thresh_pr_curve_rf_micro,\n",
    "    proba_col = 'churn_probability',\n",
    "    new_prediction_col = 'prediction_pr_th'\n",
    ")"
   ]
  },
  {
   "cell_type": "code",
   "execution_count": 27,
   "metadata": {},
   "outputs": [],
   "source": [
    "# Computing the new confusion matrix: ROC Curve best threshold\n",
    "cm_roc_rf_micro = conpute_confusion_matrix(predict_test_rf_micro, 'prediction_roc_th', 'label')\n",
    "\n",
    "# Computing the new confusion matrix: PR Curve best threshold\n",
    "cm_pr_rf_micro = conpute_confusion_matrix(predict_test_rf_micro, 'prediction_pr_th', 'label')"
   ]
  },
  {
   "cell_type": "code",
   "execution_count": 28,
   "metadata": {},
   "outputs": [
    {
     "data": {
      "image/png": "[encoded data removed]",
      "text/plain": [
       "<Figure size 432x288 with 2 Axes>"
      ]
     },
     "metadata": {
      "needs_background": "light"
     },
     "output_type": "display_data"
    },
    {
     "data": {
      "image/png": "[encoded data removed]",
      "text/plain": [
       "<Figure size 432x288 with 2 Axes>"
      ]
     },
     "metadata": {
      "needs_background": "light"
     },
     "output_type": "display_data"
    },
    {
     "data": {
      "image/png": "[encoded data removed]",
      "text/plain": [
       "<Figure size 432x288 with 2 Axes>"
      ]
     },
     "metadata": {
      "needs_background": "light"
     },
     "output_type": "display_data"
    }
   ],
   "source": [
    "# Evaluation metrics calculation\n",
    "precision_rf_micro, recall_rf_micro, fscore_rf_micro = evaluate_model(\n",
    "    confusion_matrix = cm_rf_micro,  \n",
    "    model_name = 'Random Forest'\n",
    ")\n",
    "\n",
    "# Computing new evaluation metrics: ROC Curve best threshold\n",
    "precision_roc_rf_micro, recall_roc_rf_micro, fscore_roc_rf_micro = evaluate_model(\n",
    "    confusion_matrix = cm_roc_rf_micro,\n",
    "    model_name = 'Random Forest ROC best Threshold'\n",
    ")\n",
    "\n",
    "# Computing new evaluation metrics: PR Curve best threshold\n",
    "precision_pr_rf_micro, recall_pr_rf_micro, fscore_pr_rf_micro = evaluate_model(\n",
    "    confusion_matrix = cm_pr_rf_micro,\n",
    "    model_name = 'Random Forest PR best Threshold'\n",
    ")"
   ]
  },
  {
   "cell_type": "code",
   "execution_count": 29,
   "metadata": {},
   "outputs": [
    {
     "name": "stdout",
     "output_type": "stream",
     "text": [
      "Metrics before threshold optimization: \n"
     ]
    },
    {
     "data": {
      "text/html": [
       "<div>\n",
       "<style scoped>\n",
       "    .dataframe tbody tr th:only-of-type {\n",
       "        vertical-align: middle;\n",
       "    }\n",
       "\n",
       "    .dataframe tbody tr th {\n",
       "        vertical-align: top;\n",
       "    }\n",
       "\n",
       "    .dataframe thead th {\n",
       "        text-align: right;\n",
       "    }\n",
       "</style>\n",
       "<table border=\"1\" class=\"dataframe\">\n",
       "  <thead>\n",
       "    <tr style=\"text-align: right;\">\n",
       "      <th></th>\n",
       "      <th>Model</th>\n",
       "      <th>Default Threshold</th>\n",
       "      <th>Precision (%)</th>\n",
       "      <th>Recall (%)</th>\n",
       "      <th>F1 Score (%)</th>\n",
       "      <th>ROC AUC</th>\n",
       "      <th>PR AUC</th>\n",
       "    </tr>\n",
       "  </thead>\n",
       "  <tbody>\n",
       "    <tr>\n",
       "      <th>0</th>\n",
       "      <td>Random Forest Micro</td>\n",
       "      <td>0.5</td>\n",
       "      <td>5.2842</td>\n",
       "      <td>56.1575</td>\n",
       "      <td>9.65948</td>\n",
       "      <td>0.716906</td>\n",
       "      <td>0.0798355</td>\n",
       "    </tr>\n",
       "  </tbody>\n",
       "</table>\n",
       "</div>"
      ],
      "text/plain": [
       "                 Model Default Threshold Precision (%) Recall (%)  \\\n",
       "0  Random Forest Micro               0.5        5.2842    56.1575   \n",
       "\n",
       "  F1 Score (%)   ROC AUC     PR AUC  \n",
       "0      9.65948  0.716906  0.0798355  "
      ]
     },
     "metadata": {},
     "output_type": "display_data"
    },
    {
     "name": "stdout",
     "output_type": "stream",
     "text": [
      "Metrics After threshold optimization - ROC best threshold: \n"
     ]
    },
    {
     "data": {
      "text/html": [
       "<div>\n",
       "<style scoped>\n",
       "    .dataframe tbody tr th:only-of-type {\n",
       "        vertical-align: middle;\n",
       "    }\n",
       "\n",
       "    .dataframe tbody tr th {\n",
       "        vertical-align: top;\n",
       "    }\n",
       "\n",
       "    .dataframe thead th {\n",
       "        text-align: right;\n",
       "    }\n",
       "</style>\n",
       "<table border=\"1\" class=\"dataframe\">\n",
       "  <thead>\n",
       "    <tr style=\"text-align: right;\">\n",
       "      <th></th>\n",
       "      <th>Model</th>\n",
       "      <th>ROC Best Threshold</th>\n",
       "      <th>Precision (%)</th>\n",
       "      <th>Recall (%)</th>\n",
       "      <th>F1 Score (%)</th>\n",
       "      <th>ROC AUC</th>\n",
       "      <th>PR AUC</th>\n",
       "    </tr>\n",
       "  </thead>\n",
       "  <tbody>\n",
       "    <tr>\n",
       "      <th>0</th>\n",
       "      <td>Random Forest Micro</td>\n",
       "      <td>0.490283</td>\n",
       "      <td>4.93344</td>\n",
       "      <td>60.268</td>\n",
       "      <td>9.12031</td>\n",
       "      <td>0.716906</td>\n",
       "      <td>0.0798355</td>\n",
       "    </tr>\n",
       "  </tbody>\n",
       "</table>\n",
       "</div>"
      ],
      "text/plain": [
       "                 Model ROC Best Threshold Precision (%) Recall (%)  \\\n",
       "0  Random Forest Micro           0.490283       4.93344     60.268   \n",
       "\n",
       "  F1 Score (%)   ROC AUC     PR AUC  \n",
       "0      9.12031  0.716906  0.0798355  "
      ]
     },
     "metadata": {},
     "output_type": "display_data"
    },
    {
     "name": "stdout",
     "output_type": "stream",
     "text": [
      "Metrics After threshold optimization - PR best threshold: \n"
     ]
    },
    {
     "data": {
      "text/html": [
       "<div>\n",
       "<style scoped>\n",
       "    .dataframe tbody tr th:only-of-type {\n",
       "        vertical-align: middle;\n",
       "    }\n",
       "\n",
       "    .dataframe tbody tr th {\n",
       "        vertical-align: top;\n",
       "    }\n",
       "\n",
       "    .dataframe thead th {\n",
       "        text-align: right;\n",
       "    }\n",
       "</style>\n",
       "<table border=\"1\" class=\"dataframe\">\n",
       "  <thead>\n",
       "    <tr style=\"text-align: right;\">\n",
       "      <th></th>\n",
       "      <th>Model</th>\n",
       "      <th>PR Best Threshold</th>\n",
       "      <th>Precision (%)</th>\n",
       "      <th>Recall (%)</th>\n",
       "      <th>F1 Score (%)</th>\n",
       "      <th>ROC AUC</th>\n",
       "      <th>PR AUC</th>\n",
       "    </tr>\n",
       "  </thead>\n",
       "  <tbody>\n",
       "    <tr>\n",
       "      <th>0</th>\n",
       "      <td>Random Forest Micro</td>\n",
       "      <td>0.567601</td>\n",
       "      <td>12.5718</td>\n",
       "      <td>25.9416</td>\n",
       "      <td>16.9361</td>\n",
       "      <td>0.716906</td>\n",
       "      <td>0.0798355</td>\n",
       "    </tr>\n",
       "  </tbody>\n",
       "</table>\n",
       "</div>"
      ],
      "text/plain": [
       "                 Model PR Best Threshold Precision (%) Recall (%)  \\\n",
       "0  Random Forest Micro          0.567601       12.5718    25.9416   \n",
       "\n",
       "  F1 Score (%)   ROC AUC     PR AUC  \n",
       "0      16.9361  0.716906  0.0798355  "
      ]
     },
     "metadata": {},
     "output_type": "display_data"
    }
   ],
   "source": [
    "#Displaying Evaluation metrics as pandas dataframe\n",
    "metrics_rf_micro = metrics_to_pandas(\n",
    "    model = 'Random Forest Micro',\n",
    "    precision = precision_rf_micro, \n",
    "    recall = recall_rf_micro, \n",
    "    fscore = fscore_rf_micro, \n",
    "    roc_auc = roc_auc_rf_micro, \n",
    "    pr_auc = pr_auc_rf_micro\n",
    ")\n",
    "print(\"Metrics before threshold optimization: \")\n",
    "display(metrics_rf_micro)\n",
    "\n",
    "#Displaying new evaluation metrics: ROC Curve best threshold\n",
    "metrics_roc_rf_micro = metrics_to_pandas(\n",
    "    model = 'Random Forest Micro',\n",
    "    precision = precision_roc_rf_micro, \n",
    "    recall = recall_roc_rf_micro, \n",
    "    fscore = fscore_roc_rf_micro, \n",
    "    roc_auc = roc_auc_rf_micro, \n",
    "    pr_auc = pr_auc_rf_micro,\n",
    "    roc_best_threshold = best_thresh_roc_curve_rf_micro\n",
    ")\n",
    "\n",
    "#Displaying new evaluation metrics: PR Curve best threshold\n",
    "metrics_pr_rf_micro = metrics_to_pandas(\n",
    "    model = 'Random Forest Micro',\n",
    "    precision = precision_pr_rf_micro, \n",
    "    recall = recall_pr_rf_micro, \n",
    "    fscore = fscore_pr_rf_micro, \n",
    "    roc_auc = roc_auc_rf_micro, \n",
    "    pr_auc = pr_auc_rf_micro,\n",
    "    pr_best_threshold = best_thresh_pr_curve_rf_micro\n",
    ")\n",
    "\n",
    "print(\"Metrics After threshold optimization - ROC best threshold: \")\n",
    "display(metrics_roc_rf_micro)\n",
    "print(\"Metrics After threshold optimization - PR best threshold: \")\n",
    "display(metrics_pr_rf_micro)"
   ]
  },
  {
   "cell_type": "code",
   "execution_count": 30,
   "metadata": {},
   "outputs": [],
   "source": [
    "metrics_perc_dict_micro['Model'].append('Random Forest Micro')\n",
    "metrics_perc_dict_micro['Default Threshold'].append(0.5)\n",
    "metrics_perc_dict_micro['Precision (%)'].append(precision_rf_micro*100)\n",
    "metrics_perc_dict_micro['Recall (%)'].append(recall_rf_micro*100)\n",
    "metrics_perc_dict_micro['F1 Score (%)'].append(fscore_rf_micro*100)\n",
    "metrics_perc_dict_micro['ROC AUC'].append(roc_auc_rf_micro)\n",
    "metrics_perc_dict_micro['PR AUC'].append(pr_auc_rf_micro)\n",
    "\n",
    "metrics_perc_dict_roc_th_micro['Model'].append('Random Forest Micro')\n",
    "metrics_perc_dict_roc_th_micro['ROC Best Threshold'].append(best_thresh_roc_curve_rf_micro)\n",
    "metrics_perc_dict_roc_th_micro['Precision (%)'].append(precision_roc_rf_micro*100)\n",
    "metrics_perc_dict_roc_th_micro['Recall (%)'].append(recall_roc_rf_micro*100)\n",
    "metrics_perc_dict_roc_th_micro['F1 Score (%)'].append(fscore_roc_rf_micro*100)\n",
    "metrics_perc_dict_roc_th_micro['ROC AUC'].append(roc_auc_rf_micro)\n",
    "metrics_perc_dict_roc_th_micro['PR AUC'].append(pr_auc_rf_micro)\n",
    "\n",
    "metrics_perc_dict_pr_th_micro['Model'].append('Random Forest Micro')\n",
    "metrics_perc_dict_pr_th_micro['PR Best Threshold'].append(best_thresh_pr_curve_rf_micro)\n",
    "metrics_perc_dict_pr_th_micro['Precision (%)'].append(precision_pr_rf_micro*100)\n",
    "metrics_perc_dict_pr_th_micro['Recall (%)'].append(recall_pr_rf_micro*100)\n",
    "metrics_perc_dict_pr_th_micro['F1 Score (%)'].append(fscore_pr_rf_micro*100)\n",
    "metrics_perc_dict_pr_th_micro['ROC AUC'].append(roc_auc_rf_micro)\n",
    "metrics_perc_dict_pr_th_micro['PR AUC'].append(pr_auc_rf_micro)"
   ]
  },
  {
   "cell_type": "markdown",
   "metadata": {},
   "source": [
    "## Decision tree classifier"
   ]
  },
  {
   "cell_type": "markdown",
   "metadata": {},
   "source": [
    "#### Building"
   ]
  },
  {
   "cell_type": "code",
   "execution_count": 31,
   "metadata": {},
   "outputs": [],
   "source": [
    "from pyspark.ml.classification import DecisionTreeClassifier, DecisionTreeClassificationModel"
   ]
  },
  {
   "cell_type": "code",
   "execution_count": 32,
   "metadata": {},
   "outputs": [],
   "source": [
    "dt_micro = dt_micro = DecisionTreeClassifier(labelCol=\"label\", featuresCol=\"features\")\n",
    "dt_model_micro = dt_micro.fit(assembled_train_set_micro)\n",
    "predict_train_dt_micro = dt_model_micro.transform(assembled_train_set_micro)\n",
    "predict_test_dt_micro = dt_model_micro.transform(assembled_test_set_micro)"
   ]
  },
  {
   "cell_type": "code",
   "execution_count": 33,
   "metadata": {},
   "outputs": [],
   "source": [
    "predict_test_dt_micro = split_proba_column(predictions_df = predict_test_dt_micro, proba_col = 'probability')\n",
    "cm_dt_micro = conpute_confusion_matrix(predict_test_dt_micro, 'prediction', 'label')\n",
    "results_dt_micro = predict_test_dt_micro.select('label', 'probability', 'stay_probability', 'churn_probability', 'prediction').toPandas()"
   ]
  },
  {
   "cell_type": "markdown",
   "metadata": {},
   "source": [
    "#### Evaluation"
   ]
  },
  {
   "cell_type": "code",
   "execution_count": 34,
   "metadata": {},
   "outputs": [
    {
     "data": {
      "image/png": "[encoded data removed]",
      "text/plain": [
       "<Figure size 432x288 with 1 Axes>"
      ]
     },
     "metadata": {
      "needs_background": "light"
     },
     "output_type": "display_data"
    },
    {
     "name": "stdout",
     "output_type": "stream",
     "text": [
      "\n"
     ]
    },
    {
     "data": {
      "image/png": "[encoded data removed]",
      "text/plain": [
       "<Figure size 432x288 with 1 Axes>"
      ]
     },
     "metadata": {
      "needs_background": "light"
     },
     "output_type": "display_data"
    }
   ],
   "source": [
    "# Best threshold calculation and areas under the curves \n",
    "roc_auc_dt_micro, pr_auc_dt_micro, best_thresh_roc_curve_dt_micro, best_thresh_pr_curve_dt_micro = find_best_threshold(\n",
    "    predictions_df = results_dt_micro,\n",
    "    label_col = 'label',\n",
    "    churn_proba_col = 'churn_probability',\n",
    "    model_name = 'Decision Tree'\n",
    ")"
   ]
  },
  {
   "cell_type": "code",
   "execution_count": 35,
   "metadata": {},
   "outputs": [],
   "source": [
    "# Threshold optimization: with ROC Curve best threshold\n",
    "predict_test_dt_micro = get_optimal_threshold_results(\n",
    "    predictions_df = predict_test_dt_micro, \n",
    "    threshold = best_thresh_roc_curve_dt_micro,\n",
    "    proba_col = 'churn_probability',\n",
    "    new_prediction_col = 'prediction_roc_th'\n",
    ")\n",
    "# Threshold optimization: with PR Curve best threshold\n",
    "predict_test_dt_micro = get_optimal_threshold_results(\n",
    "    predictions_df = predict_test_dt_micro, \n",
    "    threshold = best_thresh_pr_curve_dt_micro,\n",
    "    proba_col = 'churn_probability',\n",
    "    new_prediction_col = 'prediction_pr_th'\n",
    ")"
   ]
  },
  {
   "cell_type": "code",
   "execution_count": 36,
   "metadata": {},
   "outputs": [],
   "source": [
    "# Computing the new confusion matrix: ROC Curve best threshold\n",
    "cm_roc_dt_micro = conpute_confusion_matrix(predict_test_dt_micro, 'prediction_roc_th', 'label')\n",
    "\n",
    "# Computing the new confusion matrix: PR Curve best threshold\n",
    "cm_pr_dt_micro = conpute_confusion_matrix(predict_test_dt_micro, 'prediction_pr_th', 'label')"
   ]
  },
  {
   "cell_type": "code",
   "execution_count": 37,
   "metadata": {},
   "outputs": [
    {
     "data": {
      "image/png": "[encoded data removed]",
      "text/plain": [
       "<Figure size 432x288 with 2 Axes>"
      ]
     },
     "metadata": {
      "needs_background": "light"
     },
     "output_type": "display_data"
    },
    {
     "data": {
      "image/png": "[encoded data removed]",
      "text/plain": [
       "<Figure size 432x288 with 2 Axes>"
      ]
     },
     "metadata": {
      "needs_background": "light"
     },
     "output_type": "display_data"
    },
    {
     "data": {
      "image/png": "[encoded data removed]",
      "text/plain": [
       "<Figure size 432x288 with 2 Axes>"
      ]
     },
     "metadata": {
      "needs_background": "light"
     },
     "output_type": "display_data"
    }
   ],
   "source": [
    "# Evaluation metrics calculation\n",
    "precision_dt_micro, recall_dt_micro, fscore_dt_micro = evaluate_model(\n",
    "    confusion_matrix = cm_dt_micro,  \n",
    "    model_name = 'Decision Tree'\n",
    ")\n",
    "\n",
    "# Computing new evaluation metrics: ROC Curve best threshold\n",
    "precision_roc_dt_micro, recall_roc_dt_micro, fscore_roc_dt_micro = evaluate_model(\n",
    "    confusion_matrix = cm_roc_dt_micro,\n",
    "    model_name = 'Decision Tree ROC best Threshold'\n",
    ")\n",
    "\n",
    "# Computing new evaluation metrics: PR Curve best threshold\n",
    "precision_pr_dt_micro, recall_pr_dt_micro, fscore_pr_dt_micro = evaluate_model(\n",
    "    confusion_matrix = cm_pr_dt_micro,\n",
    "    model_name = 'Decision Tree PR best Threshold'\n",
    ")"
   ]
  },
  {
   "cell_type": "code",
   "execution_count": 38,
   "metadata": {},
   "outputs": [
    {
     "name": "stdout",
     "output_type": "stream",
     "text": [
      "Metrics before threshold optimization: \n"
     ]
    },
    {
     "data": {
      "text/html": [
       "<div>\n",
       "<style scoped>\n",
       "    .dataframe tbody tr th:only-of-type {\n",
       "        vertical-align: middle;\n",
       "    }\n",
       "\n",
       "    .dataframe tbody tr th {\n",
       "        vertical-align: top;\n",
       "    }\n",
       "\n",
       "    .dataframe thead th {\n",
       "        text-align: right;\n",
       "    }\n",
       "</style>\n",
       "<table border=\"1\" class=\"dataframe\">\n",
       "  <thead>\n",
       "    <tr style=\"text-align: right;\">\n",
       "      <th></th>\n",
       "      <th>Model</th>\n",
       "      <th>Default Threshold</th>\n",
       "      <th>Precision (%)</th>\n",
       "      <th>Recall (%)</th>\n",
       "      <th>F1 Score (%)</th>\n",
       "      <th>ROC AUC</th>\n",
       "      <th>PR AUC</th>\n",
       "    </tr>\n",
       "  </thead>\n",
       "  <tbody>\n",
       "    <tr>\n",
       "      <th>0</th>\n",
       "      <td>Decision Tree Micro</td>\n",
       "      <td>0.5</td>\n",
       "      <td>7.65107</td>\n",
       "      <td>44.4062</td>\n",
       "      <td>13.0531</td>\n",
       "      <td>0.689376</td>\n",
       "      <td>0.0916564</td>\n",
       "    </tr>\n",
       "  </tbody>\n",
       "</table>\n",
       "</div>"
      ],
      "text/plain": [
       "                 Model Default Threshold Precision (%) Recall (%)  \\\n",
       "0  Decision Tree Micro               0.5       7.65107    44.4062   \n",
       "\n",
       "  F1 Score (%)   ROC AUC     PR AUC  \n",
       "0      13.0531  0.689376  0.0916564  "
      ]
     },
     "metadata": {},
     "output_type": "display_data"
    },
    {
     "name": "stdout",
     "output_type": "stream",
     "text": [
      "Metrics After threshold optimization - ROC best threshold: \n"
     ]
    },
    {
     "data": {
      "text/html": [
       "<div>\n",
       "<style scoped>\n",
       "    .dataframe tbody tr th:only-of-type {\n",
       "        vertical-align: middle;\n",
       "    }\n",
       "\n",
       "    .dataframe tbody tr th {\n",
       "        vertical-align: top;\n",
       "    }\n",
       "\n",
       "    .dataframe thead th {\n",
       "        text-align: right;\n",
       "    }\n",
       "</style>\n",
       "<table border=\"1\" class=\"dataframe\">\n",
       "  <thead>\n",
       "    <tr style=\"text-align: right;\">\n",
       "      <th></th>\n",
       "      <th>Model</th>\n",
       "      <th>ROC Best Threshold</th>\n",
       "      <th>Precision (%)</th>\n",
       "      <th>Recall (%)</th>\n",
       "      <th>F1 Score (%)</th>\n",
       "      <th>ROC AUC</th>\n",
       "      <th>PR AUC</th>\n",
       "    </tr>\n",
       "  </thead>\n",
       "  <tbody>\n",
       "    <tr>\n",
       "      <th>0</th>\n",
       "      <td>Decision Tree Micro</td>\n",
       "      <td>0.540309</td>\n",
       "      <td>7.65107</td>\n",
       "      <td>44.4062</td>\n",
       "      <td>13.0531</td>\n",
       "      <td>0.689376</td>\n",
       "      <td>0.0916564</td>\n",
       "    </tr>\n",
       "  </tbody>\n",
       "</table>\n",
       "</div>"
      ],
      "text/plain": [
       "                 Model ROC Best Threshold Precision (%) Recall (%)  \\\n",
       "0  Decision Tree Micro           0.540309       7.65107    44.4062   \n",
       "\n",
       "  F1 Score (%)   ROC AUC     PR AUC  \n",
       "0      13.0531  0.689376  0.0916564  "
      ]
     },
     "metadata": {},
     "output_type": "display_data"
    },
    {
     "name": "stdout",
     "output_type": "stream",
     "text": [
      "Metrics After threshold optimization - PR best threshold: \n"
     ]
    },
    {
     "data": {
      "text/html": [
       "<div>\n",
       "<style scoped>\n",
       "    .dataframe tbody tr th:only-of-type {\n",
       "        vertical-align: middle;\n",
       "    }\n",
       "\n",
       "    .dataframe tbody tr th {\n",
       "        vertical-align: top;\n",
       "    }\n",
       "\n",
       "    .dataframe thead th {\n",
       "        text-align: right;\n",
       "    }\n",
       "</style>\n",
       "<table border=\"1\" class=\"dataframe\">\n",
       "  <thead>\n",
       "    <tr style=\"text-align: right;\">\n",
       "      <th></th>\n",
       "      <th>Model</th>\n",
       "      <th>PR Best Threshold</th>\n",
       "      <th>Precision (%)</th>\n",
       "      <th>Recall (%)</th>\n",
       "      <th>F1 Score (%)</th>\n",
       "      <th>ROC AUC</th>\n",
       "      <th>PR AUC</th>\n",
       "    </tr>\n",
       "  </thead>\n",
       "  <tbody>\n",
       "    <tr>\n",
       "      <th>0</th>\n",
       "      <td>Decision Tree Micro</td>\n",
       "      <td>0.773542</td>\n",
       "      <td>11.6119</td>\n",
       "      <td>23.49</td>\n",
       "      <td>15.5413</td>\n",
       "      <td>0.689376</td>\n",
       "      <td>0.0916564</td>\n",
       "    </tr>\n",
       "  </tbody>\n",
       "</table>\n",
       "</div>"
      ],
      "text/plain": [
       "                 Model PR Best Threshold Precision (%) Recall (%)  \\\n",
       "0  Decision Tree Micro          0.773542       11.6119      23.49   \n",
       "\n",
       "  F1 Score (%)   ROC AUC     PR AUC  \n",
       "0      15.5413  0.689376  0.0916564  "
      ]
     },
     "metadata": {},
     "output_type": "display_data"
    }
   ],
   "source": [
    "#Displaying Evaluation metrics as pandas dataframe\n",
    "metrics_dt_micro = metrics_to_pandas(\n",
    "    model = 'Decision Tree Micro',\n",
    "    precision = precision_dt_micro, \n",
    "    recall = recall_dt_micro, \n",
    "    fscore = fscore_dt_micro, \n",
    "    roc_auc = roc_auc_dt_micro, \n",
    "    pr_auc = pr_auc_dt_micro\n",
    ")\n",
    "print(\"Metrics before threshold optimization: \")\n",
    "display(metrics_dt_micro)\n",
    "\n",
    "#Displaying new evaluation metrics: ROC Curve best threshold\n",
    "metrics_roc_dt_micro = metrics_to_pandas(\n",
    "    model = 'Decision Tree Micro',\n",
    "    precision = precision_roc_dt_micro, \n",
    "    recall = recall_roc_dt_micro, \n",
    "    fscore = fscore_roc_dt_micro, \n",
    "    roc_auc = roc_auc_dt_micro, \n",
    "    pr_auc = pr_auc_dt_micro,\n",
    "    roc_best_threshold = best_thresh_roc_curve_dt_micro\n",
    ")\n",
    "\n",
    "#Displaying new evaluation metrics: PR Curve best threshold\n",
    "metrics_pr_dt_micro = metrics_to_pandas(\n",
    "    model = 'Decision Tree Micro',\n",
    "    precision = precision_pr_dt_micro, \n",
    "    recall = recall_pr_dt_micro, \n",
    "    fscore = fscore_pr_dt_micro, \n",
    "    roc_auc = roc_auc_dt_micro, \n",
    "    pr_auc = pr_auc_dt_micro,\n",
    "    pr_best_threshold = best_thresh_pr_curve_dt_micro\n",
    ")\n",
    "\n",
    "print(\"Metrics After threshold optimization - ROC best threshold: \")\n",
    "display(metrics_roc_dt_micro)\n",
    "print(\"Metrics After threshold optimization - PR best threshold: \")\n",
    "display(metrics_pr_dt_micro)"
   ]
  },
  {
   "cell_type": "code",
   "execution_count": 39,
   "metadata": {},
   "outputs": [],
   "source": [
    "metrics_perc_dict_micro['Model'].append('Decision Tree Micro')\n",
    "metrics_perc_dict_micro['Default Threshold'].append(0.5)\n",
    "metrics_perc_dict_micro['Precision (%)'].append(precision_dt_micro*100)\n",
    "metrics_perc_dict_micro['Recall (%)'].append(recall_dt_micro*100)\n",
    "metrics_perc_dict_micro['F1 Score (%)'].append(fscore_dt_micro*100)\n",
    "metrics_perc_dict_micro['ROC AUC'].append(roc_auc_dt_micro)\n",
    "metrics_perc_dict_micro['PR AUC'].append(pr_auc_dt_micro)\n",
    "\n",
    "metrics_perc_dict_roc_th_micro['Model'].append('Decision Tree Micro')\n",
    "metrics_perc_dict_roc_th_micro['ROC Best Threshold'].append(best_thresh_roc_curve_dt_micro)\n",
    "metrics_perc_dict_roc_th_micro['Precision (%)'].append(precision_roc_dt_micro*100)\n",
    "metrics_perc_dict_roc_th_micro['Recall (%)'].append(recall_roc_dt_micro*100)\n",
    "metrics_perc_dict_roc_th_micro['F1 Score (%)'].append(fscore_roc_dt_micro*100)\n",
    "metrics_perc_dict_roc_th_micro['ROC AUC'].append(roc_auc_dt_micro)\n",
    "metrics_perc_dict_roc_th_micro['PR AUC'].append(pr_auc_dt_micro)\n",
    "\n",
    "metrics_perc_dict_pr_th_micro['Model'].append('Decision Tree Micro')\n",
    "metrics_perc_dict_pr_th_micro['PR Best Threshold'].append(best_thresh_pr_curve_dt_micro)\n",
    "metrics_perc_dict_pr_th_micro['Precision (%)'].append(precision_pr_dt_micro*100)\n",
    "metrics_perc_dict_pr_th_micro['Recall (%)'].append(recall_pr_dt_micro*100)\n",
    "metrics_perc_dict_pr_th_micro['F1 Score (%)'].append(fscore_pr_dt_micro*100)\n",
    "metrics_perc_dict_pr_th_micro['ROC AUC'].append(roc_auc_dt_micro)\n",
    "metrics_perc_dict_pr_th_micro['PR AUC'].append(pr_auc_dt_micro)"
   ]
  },
  {
   "cell_type": "code",
   "execution_count": null,
   "metadata": {},
   "outputs": [],
   "source": []
  },
  {
   "cell_type": "markdown",
   "metadata": {},
   "source": [
    "## Gradient-boosted tree classifier"
   ]
  },
  {
   "cell_type": "markdown",
   "metadata": {},
   "source": [
    "#### Building"
   ]
  },
  {
   "cell_type": "code",
   "execution_count": 40,
   "metadata": {},
   "outputs": [],
   "source": [
    "from pyspark.ml.classification import GBTClassifier, GBTClassificationModel"
   ]
  },
  {
   "cell_type": "code",
   "execution_count": 41,
   "metadata": {},
   "outputs": [],
   "source": [
    "gbt_micro = GBTClassifier(labelCol='label', featuresCol=\"features\", maxIter=50)\n",
    "gbt_model_micro = gbt_micro.fit(assembled_train_set_micro)\n",
    "predict_train_gbt_micro = gbt_model_micro.transform(assembled_train_set_micro)\n",
    "predict_test_gbt_micro = gbt_model_micro.transform(assembled_test_set_micro)"
   ]
  },
  {
   "cell_type": "code",
   "execution_count": 42,
   "metadata": {},
   "outputs": [],
   "source": [
    "predict_test_gbt_micro = split_proba_column(predictions_df = predict_test_gbt_micro, proba_col = 'probability')\n",
    "cm_gbt_micro = conpute_confusion_matrix(predict_test_gbt_micro, 'prediction', 'label')\n",
    "results_gbt_micro = predict_test_gbt_micro.select('label', 'probability', 'stay_probability', 'churn_probability', 'prediction').toPandas()"
   ]
  },
  {
   "cell_type": "markdown",
   "metadata": {},
   "source": [
    "#### Evaluation"
   ]
  },
  {
   "cell_type": "code",
   "execution_count": 43,
   "metadata": {},
   "outputs": [
    {
     "data": {
      "image/png": "[encoded data removed]",
      "text/plain": [
       "<Figure size 432x288 with 1 Axes>"
      ]
     },
     "metadata": {
      "needs_background": "light"
     },
     "output_type": "display_data"
    },
    {
     "name": "stdout",
     "output_type": "stream",
     "text": [
      "\n"
     ]
    },
    {
     "data": {
      "image/png": "[encoded data removed]",
      "text/plain": [
       "<Figure size 432x288 with 1 Axes>"
      ]
     },
     "metadata": {
      "needs_background": "light"
     },
     "output_type": "display_data"
    }
   ],
   "source": [
    "# Best threshold calculation and areas under the curves \n",
    "roc_auc_gbt_micro, pr_auc_gbt_micro, best_thresh_roc_curve_gbt_micro, best_thresh_pr_curve_gbt_micro = find_best_threshold(\n",
    "    predictions_df = results_gbt_micro,\n",
    "    label_col = 'label',\n",
    "    churn_proba_col = 'churn_probability',\n",
    "    model_name = 'Gradient-boosted Tree'\n",
    ")"
   ]
  },
  {
   "cell_type": "code",
   "execution_count": 44,
   "metadata": {},
   "outputs": [],
   "source": [
    "# Threshold optimization: with ROC Curve best threshold\n",
    "predict_test_gbt_micro = get_optimal_threshold_results(\n",
    "    predictions_df = predict_test_gbt_micro, \n",
    "    threshold = best_thresh_roc_curve_gbt_micro,\n",
    "    proba_col = 'churn_probability',\n",
    "    new_prediction_col = 'prediction_roc_th'\n",
    ")\n",
    "# Threshold optimization: with PR Curve best threshold\n",
    "predict_test_gbt_micro = get_optimal_threshold_results(\n",
    "    predictions_df = predict_test_gbt_micro, \n",
    "    threshold = best_thresh_pr_curve_gbt_micro,\n",
    "    proba_col = 'churn_probability',\n",
    "    new_prediction_col = 'prediction_pr_th'\n",
    ")"
   ]
  },
  {
   "cell_type": "code",
   "execution_count": 45,
   "metadata": {},
   "outputs": [],
   "source": [
    "# Computing the new confusion matrix: ROC Curve best threshold\n",
    "cm_roc_gbt_micro = conpute_confusion_matrix(predict_test_gbt_micro, 'prediction_roc_th', 'label')\n",
    "\n",
    "# Computing the new confusion matrix: PR Curve best threshold\n",
    "cm_pr_gbt_micro = conpute_confusion_matrix(predict_test_gbt_micro, 'prediction_pr_th', 'label')"
   ]
  },
  {
   "cell_type": "code",
   "execution_count": 46,
   "metadata": {},
   "outputs": [
    {
     "data": {
      "image/png": "[encoded data removed]",
      "text/plain": [
       "<Figure size 432x288 with 2 Axes>"
      ]
     },
     "metadata": {
      "needs_background": "light"
     },
     "output_type": "display_data"
    },
    {
     "data": {
      "image/png": "[encoded data removed]",
      "text/plain": [
       "<Figure size 432x288 with 2 Axes>"
      ]
     },
     "metadata": {
      "needs_background": "light"
     },
     "output_type": "display_data"
    },
    {
     "data": {
      "image/png": "[encoded data removed]",
      "text/plain": [
       "<Figure size 432x288 with 2 Axes>"
      ]
     },
     "metadata": {
      "needs_background": "light"
     },
     "output_type": "display_data"
    }
   ],
   "source": [
    "# Evaluation metrics calculation\n",
    "precision_gbt_micro, recall_gbt_micro, fscore_gbt_micro = evaluate_model(\n",
    "    confusion_matrix = cm_gbt_micro,  \n",
    "    model_name = 'Gradient-boosted Tree'\n",
    ")\n",
    "\n",
    "# Computing new evaluation metrics: ROC Curve best threshold\n",
    "precision_roc_gbt_micro, recall_roc_gbt_micro, fscore_roc_gbt_micro = evaluate_model(\n",
    "    confusion_matrix = cm_roc_gbt_micro,\n",
    "    model_name = 'Gradient-boosted Tree ROC best Threshold'\n",
    ")\n",
    "\n",
    "# Computing new evaluation metrics: PR Curve best threshold\n",
    "precision_pr_gbt_micro, recall_pr_gbt_micro, fscore_pr_gbt_micro = evaluate_model(\n",
    "    confusion_matrix = cm_pr_gbt_micro,\n",
    "    model_name = 'Gradient-boosted Tree PR best Threshold'\n",
    ")"
   ]
  },
  {
   "cell_type": "code",
   "execution_count": 47,
   "metadata": {},
   "outputs": [
    {
     "name": "stdout",
     "output_type": "stream",
     "text": [
      "Metrics before threshold optimization: \n"
     ]
    },
    {
     "data": {
      "text/html": [
       "<div>\n",
       "<style scoped>\n",
       "    .dataframe tbody tr th:only-of-type {\n",
       "        vertical-align: middle;\n",
       "    }\n",
       "\n",
       "    .dataframe tbody tr th {\n",
       "        vertical-align: top;\n",
       "    }\n",
       "\n",
       "    .dataframe thead th {\n",
       "        text-align: right;\n",
       "    }\n",
       "</style>\n",
       "<table border=\"1\" class=\"dataframe\">\n",
       "  <thead>\n",
       "    <tr style=\"text-align: right;\">\n",
       "      <th></th>\n",
       "      <th>Model</th>\n",
       "      <th>Default Threshold</th>\n",
       "      <th>Precision (%)</th>\n",
       "      <th>Recall (%)</th>\n",
       "      <th>F1 Score (%)</th>\n",
       "      <th>ROC AUC</th>\n",
       "      <th>PR AUC</th>\n",
       "    </tr>\n",
       "  </thead>\n",
       "  <tbody>\n",
       "    <tr>\n",
       "      <th>0</th>\n",
       "      <td>Gradient-boosted Tree Micro</td>\n",
       "      <td>0.5</td>\n",
       "      <td>6.21126</td>\n",
       "      <td>62.904</td>\n",
       "      <td>11.3061</td>\n",
       "      <td>0.772177</td>\n",
       "      <td>0.104269</td>\n",
       "    </tr>\n",
       "  </tbody>\n",
       "</table>\n",
       "</div>"
      ],
      "text/plain": [
       "                         Model Default Threshold Precision (%) Recall (%)  \\\n",
       "0  Gradient-boosted Tree Micro               0.5       6.21126     62.904   \n",
       "\n",
       "  F1 Score (%)   ROC AUC    PR AUC  \n",
       "0      11.3061  0.772177  0.104269  "
      ]
     },
     "metadata": {},
     "output_type": "display_data"
    },
    {
     "name": "stdout",
     "output_type": "stream",
     "text": [
      "Metrics After threshold optimization - ROC best threshold: \n"
     ]
    },
    {
     "data": {
      "text/html": [
       "<div>\n",
       "<style scoped>\n",
       "    .dataframe tbody tr th:only-of-type {\n",
       "        vertical-align: middle;\n",
       "    }\n",
       "\n",
       "    .dataframe tbody tr th {\n",
       "        vertical-align: top;\n",
       "    }\n",
       "\n",
       "    .dataframe thead th {\n",
       "        text-align: right;\n",
       "    }\n",
       "</style>\n",
       "<table border=\"1\" class=\"dataframe\">\n",
       "  <thead>\n",
       "    <tr style=\"text-align: right;\">\n",
       "      <th></th>\n",
       "      <th>Model</th>\n",
       "      <th>ROC Best Threshold</th>\n",
       "      <th>Precision (%)</th>\n",
       "      <th>Recall (%)</th>\n",
       "      <th>F1 Score (%)</th>\n",
       "      <th>ROC AUC</th>\n",
       "      <th>PR AUC</th>\n",
       "    </tr>\n",
       "  </thead>\n",
       "  <tbody>\n",
       "    <tr>\n",
       "      <th>0</th>\n",
       "      <td>Gradient-boosted Tree Micro</td>\n",
       "      <td>0.485099</td>\n",
       "      <td>5.86956</td>\n",
       "      <td>65.51</td>\n",
       "      <td>10.7738</td>\n",
       "      <td>0.772177</td>\n",
       "      <td>0.104269</td>\n",
       "    </tr>\n",
       "  </tbody>\n",
       "</table>\n",
       "</div>"
      ],
      "text/plain": [
       "                         Model ROC Best Threshold Precision (%) Recall (%)  \\\n",
       "0  Gradient-boosted Tree Micro           0.485099       5.86956      65.51   \n",
       "\n",
       "  F1 Score (%)   ROC AUC    PR AUC  \n",
       "0      10.7738  0.772177  0.104269  "
      ]
     },
     "metadata": {},
     "output_type": "display_data"
    },
    {
     "name": "stdout",
     "output_type": "stream",
     "text": [
      "Metrics After threshold optimization - PR best threshold: \n"
     ]
    },
    {
     "data": {
      "text/html": [
       "<div>\n",
       "<style scoped>\n",
       "    .dataframe tbody tr th:only-of-type {\n",
       "        vertical-align: middle;\n",
       "    }\n",
       "\n",
       "    .dataframe tbody tr th {\n",
       "        vertical-align: top;\n",
       "    }\n",
       "\n",
       "    .dataframe thead th {\n",
       "        text-align: right;\n",
       "    }\n",
       "</style>\n",
       "<table border=\"1\" class=\"dataframe\">\n",
       "  <thead>\n",
       "    <tr style=\"text-align: right;\">\n",
       "      <th></th>\n",
       "      <th>Model</th>\n",
       "      <th>PR Best Threshold</th>\n",
       "      <th>Precision (%)</th>\n",
       "      <th>Recall (%)</th>\n",
       "      <th>F1 Score (%)</th>\n",
       "      <th>ROC AUC</th>\n",
       "      <th>PR AUC</th>\n",
       "    </tr>\n",
       "  </thead>\n",
       "  <tbody>\n",
       "    <tr>\n",
       "      <th>0</th>\n",
       "      <td>Gradient-boosted Tree Micro</td>\n",
       "      <td>0.772807</td>\n",
       "      <td>14.8278</td>\n",
       "      <td>30.1329</td>\n",
       "      <td>19.8753</td>\n",
       "      <td>0.772177</td>\n",
       "      <td>0.104269</td>\n",
       "    </tr>\n",
       "  </tbody>\n",
       "</table>\n",
       "</div>"
      ],
      "text/plain": [
       "                         Model PR Best Threshold Precision (%) Recall (%)  \\\n",
       "0  Gradient-boosted Tree Micro          0.772807       14.8278    30.1329   \n",
       "\n",
       "  F1 Score (%)   ROC AUC    PR AUC  \n",
       "0      19.8753  0.772177  0.104269  "
      ]
     },
     "metadata": {},
     "output_type": "display_data"
    }
   ],
   "source": [
    "#Displaying Evaluation metrics as pandas dataframe\n",
    "metrics_gbt_micro = metrics_to_pandas(\n",
    "    model = 'Gradient-boosted Tree Micro',\n",
    "    precision = precision_gbt_micro, \n",
    "    recall = recall_gbt_micro, \n",
    "    fscore = fscore_gbt_micro, \n",
    "    roc_auc = roc_auc_gbt_micro, \n",
    "    pr_auc = pr_auc_gbt_micro\n",
    ")\n",
    "print(\"Metrics before threshold optimization: \")\n",
    "display(metrics_gbt_micro)\n",
    "\n",
    "#Displaying new evaluation metrics: ROC Curve best threshold\n",
    "metrics_roc_gbt_micro = metrics_to_pandas(\n",
    "    model = 'Gradient-boosted Tree Micro',\n",
    "    precision = precision_roc_gbt_micro, \n",
    "    recall = recall_roc_gbt_micro, \n",
    "    fscore = fscore_roc_gbt_micro, \n",
    "    roc_auc = roc_auc_gbt_micro, \n",
    "    pr_auc = pr_auc_gbt_micro,\n",
    "    roc_best_threshold = best_thresh_roc_curve_gbt_micro\n",
    ")\n",
    "\n",
    "#Displaying new evaluation metrics: PR Curve best threshold\n",
    "metrics_pr_gbt_micro = metrics_to_pandas(\n",
    "    model = 'Gradient-boosted Tree Micro',\n",
    "    precision = precision_pr_gbt_micro, \n",
    "    recall = recall_pr_gbt_micro, \n",
    "    fscore = fscore_pr_gbt_micro, \n",
    "    roc_auc = roc_auc_gbt_micro, \n",
    "    pr_auc = pr_auc_gbt_micro,\n",
    "    pr_best_threshold = best_thresh_pr_curve_gbt_micro\n",
    ")\n",
    "\n",
    "print(\"Metrics After threshold optimization - ROC best threshold: \")\n",
    "display(metrics_roc_gbt_micro)\n",
    "print(\"Metrics After threshold optimization - PR best threshold: \")\n",
    "display(metrics_pr_gbt_micro)"
   ]
  },
  {
   "cell_type": "code",
   "execution_count": 48,
   "metadata": {},
   "outputs": [],
   "source": [
    "metrics_perc_dict_micro['Model'].append('Gradient-boosted Tree Micro')\n",
    "metrics_perc_dict_micro['Default Threshold'].append(0.5)\n",
    "metrics_perc_dict_micro['Precision (%)'].append(precision_gbt_micro*100)\n",
    "metrics_perc_dict_micro['Recall (%)'].append(recall_gbt_micro*100)\n",
    "metrics_perc_dict_micro['F1 Score (%)'].append(fscore_gbt_micro*100)\n",
    "metrics_perc_dict_micro['ROC AUC'].append(roc_auc_gbt_micro)\n",
    "metrics_perc_dict_micro['PR AUC'].append(pr_auc_gbt_micro)\n",
    "\n",
    "metrics_perc_dict_roc_th_micro['Model'].append('Gradient-boosted Tree Micro')\n",
    "metrics_perc_dict_roc_th_micro['ROC Best Threshold'].append(best_thresh_roc_curve_gbt_micro)\n",
    "metrics_perc_dict_roc_th_micro['Precision (%)'].append(precision_roc_gbt_micro*100)\n",
    "metrics_perc_dict_roc_th_micro['Recall (%)'].append(recall_roc_gbt_micro*100)\n",
    "metrics_perc_dict_roc_th_micro['F1 Score (%)'].append(fscore_roc_gbt_micro*100)\n",
    "metrics_perc_dict_roc_th_micro['ROC AUC'].append(roc_auc_gbt_micro)\n",
    "metrics_perc_dict_roc_th_micro['PR AUC'].append(pr_auc_gbt_micro)\n",
    "\n",
    "metrics_perc_dict_pr_th_micro['Model'].append('Gradient-boosted Tree Micro')\n",
    "metrics_perc_dict_pr_th_micro['PR Best Threshold'].append(best_thresh_pr_curve_gbt_micro)\n",
    "metrics_perc_dict_pr_th_micro['Precision (%)'].append(precision_pr_gbt_micro*100)\n",
    "metrics_perc_dict_pr_th_micro['Recall (%)'].append(recall_pr_gbt_micro*100)\n",
    "metrics_perc_dict_pr_th_micro['F1 Score (%)'].append(fscore_pr_gbt_micro*100)\n",
    "metrics_perc_dict_pr_th_micro['ROC AUC'].append(roc_auc_gbt_micro)\n",
    "metrics_perc_dict_pr_th_micro['PR AUC'].append(pr_auc_gbt_micro)"
   ]
  },
  {
   "cell_type": "code",
   "execution_count": null,
   "metadata": {},
   "outputs": [],
   "source": []
  },
  {
   "cell_type": "markdown",
   "metadata": {},
   "source": [
    "### XGBoost"
   ]
  },
  {
   "cell_type": "code",
   "execution_count": 49,
   "metadata": {},
   "outputs": [],
   "source": [
    "from pysparkling.ml import H2OXGBoost\n",
    "from h2o.estimators.xgboost import H2OXGBoostEstimator\n",
    "from pysparkling import *\n",
    "import h2o"
   ]
  },
  {
   "cell_type": "code",
   "execution_count": 50,
   "metadata": {},
   "outputs": [],
   "source": [
    "hc = None"
   ]
  },
  {
   "cell_type": "code",
   "execution_count": 51,
   "metadata": {
    "scrolled": true
   },
   "outputs": [
    {
     "name": "stdout",
     "output_type": "stream",
     "text": [
      "Connecting to H2O server at http://10.151.52.14:54321 ... successful.\n"
     ]
    },
    {
     "data": {
      "text/html": [
       "<div style=\"overflow:auto\"><table style=\"width:50%\"><tr><td>H2O_cluster_uptime:</td>\n",
       "<td>12 secs</td></tr>\n",
       "<tr><td>H2O_cluster_timezone:</td>\n",
       "<td>Europe/Rome</td></tr>\n",
       "<tr><td>H2O_data_parsing_timezone:</td>\n",
       "<td>UTC</td></tr>\n",
       "<tr><td>H2O_cluster_version:</td>\n",
       "<td>3.30.0.4</td></tr>\n",
       "<tr><td>H2O_cluster_version_age:</td>\n",
       "<td>4 months and 6 days !!!</td></tr>\n",
       "<tr><td>H2O_cluster_name:</td>\n",
       "<td>sparkling-water-anxadvuser_application_1600061706586_174332</td></tr>\n",
       "<tr><td>H2O_cluster_total_nodes:</td>\n",
       "<td>4</td></tr>\n",
       "<tr><td>H2O_cluster_free_memory:</td>\n",
       "<td>56.89 Gb</td></tr>\n",
       "<tr><td>H2O_cluster_total_cores:</td>\n",
       "<td>128</td></tr>\n",
       "<tr><td>H2O_cluster_allowed_cores:</td>\n",
       "<td>12</td></tr>\n",
       "<tr><td>H2O_cluster_status:</td>\n",
       "<td>locked, healthy</td></tr>\n",
       "<tr><td>H2O_connection_url:</td>\n",
       "<td>http://10.151.52.14:54321</td></tr>\n",
       "<tr><td>H2O_connection_proxy:</td>\n",
       "<td>null</td></tr>\n",
       "<tr><td>H2O_internal_security:</td>\n",
       "<td>False</td></tr>\n",
       "<tr><td>H2O_API_Extensions:</td>\n",
       "<td>XGBoost, Algos, Amazon S3, Sparkling Water REST API Extensions, AutoML, Core V3, TargetEncoder, Core V4</td></tr>\n",
       "<tr><td>Python_version:</td>\n",
       "<td>3.7.7 final</td></tr></table></div>"
      ],
      "text/plain": [
       "--------------------------  -------------------------------------------------------------------------------------------------------\n",
       "H2O_cluster_uptime:         12 secs\n",
       "H2O_cluster_timezone:       Europe/Rome\n",
       "H2O_data_parsing_timezone:  UTC\n",
       "H2O_cluster_version:        3.30.0.4\n",
       "H2O_cluster_version_age:    4 months and 6 days !!!\n",
       "H2O_cluster_name:           sparkling-water-anxadvuser_application_1600061706586_174332\n",
       "H2O_cluster_total_nodes:    4\n",
       "H2O_cluster_free_memory:    56.89 Gb\n",
       "H2O_cluster_total_cores:    128\n",
       "H2O_cluster_allowed_cores:  12\n",
       "H2O_cluster_status:         locked, healthy\n",
       "H2O_connection_url:         http://10.151.52.14:54321\n",
       "H2O_connection_proxy:       null\n",
       "H2O_internal_security:      False\n",
       "H2O_API_Extensions:         XGBoost, Algos, Amazon S3, Sparkling Water REST API Extensions, AutoML, Core V3, TargetEncoder, Core V4\n",
       "Python_version:             3.7.7 final\n",
       "--------------------------  -------------------------------------------------------------------------------------------------------"
      ]
     },
     "metadata": {},
     "output_type": "display_data"
    },
    {
     "name": "stdout",
     "output_type": "stream",
     "text": [
      "\n",
      "Sparkling Water Context:\n",
      " * Sparkling Water Version: 3.30.0.4-1-2.4\n",
      " * H2O name: anxadvuser\n",
      " * cluster size: 4\n",
      " * list of used nodes:\n",
      "  (executorId, host, port)\n",
      "  ------------------------\n",
      "  (0,10.151.52.14,54321)\n",
      "  (1,10.151.52.14,54323)\n",
      "  (2,10.151.52.14,54325)\n",
      "  (3,10.151.52.14,54327)\n",
      "  ------------------------\n",
      "\n",
      "  Open H2O Flow in browser: http://claawme2ba29.enelint.global:54323 (CMD + click in Mac OSX)\n",
      "\n",
      "    \n",
      " * Yarn App ID of Spark application: application_1600061706586_174332\n",
      "    \n"
     ]
    }
   ],
   "source": [
    "if hc is None:\n",
    "    conf = H2OConf().set('spark.dynamicAllocation.enabled', False).setInternalClusterMode()\n",
    "    # Default value True causes this error:  IllegalArgumentException: 'Unsupported argument: (spark.dynamicAllocation.enabled,true)'\n",
    "    hc = H2OContext.getOrCreate(conf)"
   ]
  },
  {
   "cell_type": "markdown",
   "metadata": {},
   "source": [
    "#### Building"
   ]
  },
  {
   "cell_type": "code",
   "execution_count": 52,
   "metadata": {},
   "outputs": [],
   "source": [
    "xgb_micro = H2OXGBoost(\n",
    "    quietMode=True,\n",
    "    ntrees=50,\n",
    "    maxDepth=6,\n",
    "    minRows=1.0,\n",
    "    minChildWeight=1.0,\n",
    "    learnRate=0.02,\n",
    "    sampleRate=1.0,\n",
    "    subsample=1.0,\n",
    "    colSampleRate=1.0,\n",
    "    colSampleByLevel=1.0,\n",
    "    colSampleRatePerTree=0.7,\n",
    "    colSampleByTree=1.0,\n",
    "    maxAbsLeafnodePred=0.0,\n",
    "    maxDeltaStep=0.0,\n",
    "    scoreTreeInterval=0,\n",
    "    minSplitImprovement=0.0,\n",
    "    gamma=0.0,\n",
    "    nthread=-1,\n",
    "    maxBins=256,\n",
    "    maxLeaves=0,\n",
    "    treeMethod=\"hist\",\n",
    "    growPolicy=\"lossguide\",\n",
    "    booster=\"gbtree\",\n",
    "    dmatrixType=\"auto\",\n",
    "    regLambda=0.0,\n",
    "    regAlpha=0.0,\n",
    "    sampleType=\"uniform\",\n",
    "    normalizeType=\"tree\",\n",
    "    rateDrop=0.0,\n",
    "    oneDrop=False,\n",
    "    skipDrop=0.0,\n",
    "    gpuId=0,\n",
    "    backend=\"auto\",\n",
    "    modelId=None,\n",
    "    keepCrossValidationPredictions=False,\n",
    "    keepCrossValidationFoldAssignment=False,\n",
    "    parallelizeCrossValidation=True,\n",
    "    distribution=\"AUTO\",\n",
    "    labelCol=labelCol,              # TARGET FEATURE\n",
    "    featuresCols=train_set_assembled_col_names_micro, # TRAIN FEATURES\n",
    "    foldCol=None,\n",
    "    weightCol=None,\n",
    "    offsetCol=None,\n",
    "    splitRatio=1.0,\n",
    "    seed=-1,\n",
    "    nfolds=0,\n",
    "    columnsToCategorical=[],\n",
    "    predictionCol=\"prediction\",\n",
    "    detailedPredictionCol=\"detailed_prediction\",\n",
    "    withDetailedPredictionCol=True,\n",
    "    convertUnknownCategoricalLevelsToNa=False,\n",
    "    convertInvalidNumbersToNa=False,\n",
    "    namedMojoOutputColumns=True,\n",
    "    monotoneConstraints={},\n",
    "    stoppingRounds=0,\n",
    "    stoppingMetric=\"AUTO\",\n",
    "    stoppingTolerance=0.001,\n",
    "    withContributions=False\n",
    ")"
   ]
  },
  {
   "cell_type": "code",
   "execution_count": 53,
   "metadata": {},
   "outputs": [],
   "source": [
    "xgb_model_micro = xgb_micro.fit(train_set_features_selected_micro)"
   ]
  },
  {
   "cell_type": "code",
   "execution_count": 54,
   "metadata": {},
   "outputs": [],
   "source": [
    "predict_train_xgb_micro = xgb_model_micro.transform(train_set_features_selected_micro)\n",
    "predict_test_xgb_micro = xgb_model_micro.transform(test_set_features_selected_micro)"
   ]
  },
  {
   "cell_type": "code",
   "execution_count": 55,
   "metadata": {},
   "outputs": [],
   "source": [
    "predict_test_xgb_micro = get_optimal_threshold_results(\n",
    "    predictions_df = predict_test_xgb_micro, \n",
    "    threshold = 0.5,\n",
    "    proba_col = 'prediction',\n",
    "    new_prediction_col = 'predicted_label'\n",
    ")"
   ]
  },
  {
   "cell_type": "code",
   "execution_count": 56,
   "metadata": {},
   "outputs": [],
   "source": [
    "cm_xgb_micro = conpute_confusion_matrix(predict_test_xgb_micro, 'predicted_label', labelCol)\n",
    "results_xgb_micro = predict_test_xgb_micro.select(labelCol, 'prediction', 'predicted_label').toPandas()"
   ]
  },
  {
   "cell_type": "markdown",
   "metadata": {},
   "source": [
    "#### Evaluation"
   ]
  },
  {
   "cell_type": "code",
   "execution_count": 57,
   "metadata": {},
   "outputs": [
    {
     "data": {
      "image/png": "[encoded data removed]",
      "text/plain": [
       "<Figure size 432x288 with 1 Axes>"
      ]
     },
     "metadata": {
      "needs_background": "light"
     },
     "output_type": "display_data"
    },
    {
     "name": "stdout",
     "output_type": "stream",
     "text": [
      "\n"
     ]
    },
    {
     "data": {
      "image/png": "[encoded data removed]",
      "text/plain": [
       "<Figure size 432x288 with 1 Axes>"
      ]
     },
     "metadata": {
      "needs_background": "light"
     },
     "output_type": "display_data"
    }
   ],
   "source": [
    "# Best threshold calculation and areas under the curves \n",
    "roc_auc_xgb_micro, pr_auc_xgb_micro, best_thresh_roc_curve_xgb_micro, best_thresh_pr_curve_xgb_micro = find_best_threshold(\n",
    "    predictions_df = results_xgb_micro,\n",
    "    label_col = labelCol,\n",
    "    churn_proba_col = 'prediction',\n",
    "    model_name = 'XGBoost'\n",
    ")"
   ]
  },
  {
   "cell_type": "code",
   "execution_count": 58,
   "metadata": {},
   "outputs": [],
   "source": [
    "# Threshold optimization: with ROC Curve best threshold\n",
    "predict_test_xgb_micro = get_optimal_threshold_results(\n",
    "    predictions_df = predict_test_xgb_micro, \n",
    "    threshold = best_thresh_roc_curve_xgb_micro,\n",
    "    proba_col = 'prediction',\n",
    "    new_prediction_col = 'predicted_label_roc_th'\n",
    ")\n",
    "# Threshold optimization: with PR Curve best threshold\n",
    "predict_test_xgb_micro = get_optimal_threshold_results(\n",
    "    predictions_df = predict_test_xgb_micro, \n",
    "    threshold = best_thresh_pr_curve_xgb_micro,\n",
    "    proba_col = 'prediction',\n",
    "    new_prediction_col = 'predicted_label_pr_th'\n",
    ")"
   ]
  },
  {
   "cell_type": "code",
   "execution_count": 59,
   "metadata": {},
   "outputs": [],
   "source": [
    "# Computing the new confusion matrix: ROC Curve best threshold\n",
    "cm_roc_xgb_micro = conpute_confusion_matrix(predict_test_xgb_micro, 'predicted_label_roc_th', labelCol)\n",
    "\n",
    "# Computing the new confusion matrix: PR Curve best threshold\n",
    "cm_pr_xgb_micro = conpute_confusion_matrix(predict_test_xgb_micro, 'predicted_label_pr_th', labelCol)"
   ]
  },
  {
   "cell_type": "code",
   "execution_count": 60,
   "metadata": {},
   "outputs": [
    {
     "data": {
      "image/png": "[encoded data removed]",
      "text/plain": [
       "<Figure size 432x288 with 2 Axes>"
      ]
     },
     "metadata": {
      "needs_background": "light"
     },
     "output_type": "display_data"
    },
    {
     "data": {
      "image/png": "[encoded data removed]",
      "text/plain": [
       "<Figure size 432x288 with 2 Axes>"
      ]
     },
     "metadata": {
      "needs_background": "light"
     },
     "output_type": "display_data"
    },
    {
     "data": {
      "image/png": "[encoded data removed]",
      "text/plain": [
       "<Figure size 432x288 with 2 Axes>"
      ]
     },
     "metadata": {
      "needs_background": "light"
     },
     "output_type": "display_data"
    }
   ],
   "source": [
    "# Evaluation metrics calculation\n",
    "precision_xgb_micro, recall_xgb_micro, fscore_xgb_micro = evaluate_model(\n",
    "    confusion_matrix = cm_xgb_micro,  \n",
    "    model_name = 'XGBoost'\n",
    ")\n",
    "\n",
    "# Computing new evaluation metrics: ROC Curve best threshold\n",
    "precision_roc_xgb_micro, recall_roc_xgb_micro, fscore_roc_xgb_micro = evaluate_model(\n",
    "    confusion_matrix = cm_roc_xgb_micro,\n",
    "    model_name = 'XGBoost ROC best Threshold'\n",
    ")\n",
    "\n",
    "# Computing new evaluation metrics: PR Curve best threshold\n",
    "precision_pr_xgb_micro, recall_pr_xgb_micro, fscore_pr_xgb_micro = evaluate_model(\n",
    "    confusion_matrix = cm_pr_xgb_micro,\n",
    "    model_name = 'XGBoost PR best Threshold'\n",
    ")"
   ]
  },
  {
   "cell_type": "code",
   "execution_count": 61,
   "metadata": {},
   "outputs": [
    {
     "name": "stdout",
     "output_type": "stream",
     "text": [
      "Metrics before threshold optimization: \n"
     ]
    },
    {
     "data": {
      "text/html": [
       "<div>\n",
       "<style scoped>\n",
       "    .dataframe tbody tr th:only-of-type {\n",
       "        vertical-align: middle;\n",
       "    }\n",
       "\n",
       "    .dataframe tbody tr th {\n",
       "        vertical-align: top;\n",
       "    }\n",
       "\n",
       "    .dataframe thead th {\n",
       "        text-align: right;\n",
       "    }\n",
       "</style>\n",
       "<table border=\"1\" class=\"dataframe\">\n",
       "  <thead>\n",
       "    <tr style=\"text-align: right;\">\n",
       "      <th></th>\n",
       "      <th>Model</th>\n",
       "      <th>Default Threshold</th>\n",
       "      <th>Precision (%)</th>\n",
       "      <th>Recall (%)</th>\n",
       "      <th>F1 Score (%)</th>\n",
       "      <th>ROC AUC</th>\n",
       "      <th>PR AUC</th>\n",
       "    </tr>\n",
       "  </thead>\n",
       "  <tbody>\n",
       "    <tr>\n",
       "      <th>0</th>\n",
       "      <td>XGBoost Micro</td>\n",
       "      <td>0.5</td>\n",
       "      <td>7.15468</td>\n",
       "      <td>57.0475</td>\n",
       "      <td>12.7147</td>\n",
       "      <td>0.769127</td>\n",
       "      <td>0.103214</td>\n",
       "    </tr>\n",
       "  </tbody>\n",
       "</table>\n",
       "</div>"
      ],
      "text/plain": [
       "           Model Default Threshold Precision (%) Recall (%) F1 Score (%)  \\\n",
       "0  XGBoost Micro               0.5       7.15468    57.0475      12.7147   \n",
       "\n",
       "    ROC AUC    PR AUC  \n",
       "0  0.769127  0.103214  "
      ]
     },
     "metadata": {},
     "output_type": "display_data"
    },
    {
     "name": "stdout",
     "output_type": "stream",
     "text": [
      "Metrics After threshold optimization - ROC best threshold: \n"
     ]
    },
    {
     "data": {
      "text/html": [
       "<div>\n",
       "<style scoped>\n",
       "    .dataframe tbody tr th:only-of-type {\n",
       "        vertical-align: middle;\n",
       "    }\n",
       "\n",
       "    .dataframe tbody tr th {\n",
       "        vertical-align: top;\n",
       "    }\n",
       "\n",
       "    .dataframe thead th {\n",
       "        text-align: right;\n",
       "    }\n",
       "</style>\n",
       "<table border=\"1\" class=\"dataframe\">\n",
       "  <thead>\n",
       "    <tr style=\"text-align: right;\">\n",
       "      <th></th>\n",
       "      <th>Model</th>\n",
       "      <th>ROC Best Threshold</th>\n",
       "      <th>Precision (%)</th>\n",
       "      <th>Recall (%)</th>\n",
       "      <th>F1 Score (%)</th>\n",
       "      <th>ROC AUC</th>\n",
       "      <th>PR AUC</th>\n",
       "    </tr>\n",
       "  </thead>\n",
       "  <tbody>\n",
       "    <tr>\n",
       "      <th>0</th>\n",
       "      <td>XGBoost Micro</td>\n",
       "      <td>0.489229</td>\n",
       "      <td>6.25813</td>\n",
       "      <td>62.2149</td>\n",
       "      <td>11.3723</td>\n",
       "      <td>0.769127</td>\n",
       "      <td>0.103214</td>\n",
       "    </tr>\n",
       "  </tbody>\n",
       "</table>\n",
       "</div>"
      ],
      "text/plain": [
       "           Model ROC Best Threshold Precision (%) Recall (%) F1 Score (%)  \\\n",
       "0  XGBoost Micro           0.489229       6.25813    62.2149      11.3723   \n",
       "\n",
       "    ROC AUC    PR AUC  \n",
       "0  0.769127  0.103214  "
      ]
     },
     "metadata": {},
     "output_type": "display_data"
    },
    {
     "name": "stdout",
     "output_type": "stream",
     "text": [
      "Metrics After threshold optimization - PR best threshold: \n"
     ]
    },
    {
     "data": {
      "text/html": [
       "<div>\n",
       "<style scoped>\n",
       "    .dataframe tbody tr th:only-of-type {\n",
       "        vertical-align: middle;\n",
       "    }\n",
       "\n",
       "    .dataframe tbody tr th {\n",
       "        vertical-align: top;\n",
       "    }\n",
       "\n",
       "    .dataframe thead th {\n",
       "        text-align: right;\n",
       "    }\n",
       "</style>\n",
       "<table border=\"1\" class=\"dataframe\">\n",
       "  <thead>\n",
       "    <tr style=\"text-align: right;\">\n",
       "      <th></th>\n",
       "      <th>Model</th>\n",
       "      <th>PR Best Threshold</th>\n",
       "      <th>Precision (%)</th>\n",
       "      <th>Recall (%)</th>\n",
       "      <th>F1 Score (%)</th>\n",
       "      <th>ROC AUC</th>\n",
       "      <th>PR AUC</th>\n",
       "    </tr>\n",
       "  </thead>\n",
       "  <tbody>\n",
       "    <tr>\n",
       "      <th>0</th>\n",
       "      <td>XGBoost Micro</td>\n",
       "      <td>0.615333</td>\n",
       "      <td>15.1747</td>\n",
       "      <td>31.5142</td>\n",
       "      <td>20.4853</td>\n",
       "      <td>0.769127</td>\n",
       "      <td>0.103214</td>\n",
       "    </tr>\n",
       "  </tbody>\n",
       "</table>\n",
       "</div>"
      ],
      "text/plain": [
       "           Model PR Best Threshold Precision (%) Recall (%) F1 Score (%)  \\\n",
       "0  XGBoost Micro          0.615333       15.1747    31.5142      20.4853   \n",
       "\n",
       "    ROC AUC    PR AUC  \n",
       "0  0.769127  0.103214  "
      ]
     },
     "metadata": {},
     "output_type": "display_data"
    }
   ],
   "source": [
    "#Displaying Evaluation metrics as pandas dataframe\n",
    "metrics_xgb_micro = metrics_to_pandas(\n",
    "    model = 'XGBoost Micro',\n",
    "    precision = precision_xgb_micro, \n",
    "    recall = recall_xgb_micro, \n",
    "    fscore = fscore_xgb_micro, \n",
    "    roc_auc = roc_auc_xgb_micro, \n",
    "    pr_auc = pr_auc_xgb_micro\n",
    ")\n",
    "print(\"Metrics before threshold optimization: \")\n",
    "display(metrics_xgb_micro)\n",
    "\n",
    "#Displaying new evaluation metrics: ROC Curve best threshold\n",
    "metrics_roc_xgb_micro = metrics_to_pandas(\n",
    "    model = 'XGBoost Micro',\n",
    "    precision = precision_roc_xgb_micro, \n",
    "    recall = recall_roc_xgb_micro, \n",
    "    fscore = fscore_roc_xgb_micro, \n",
    "    roc_auc = roc_auc_xgb_micro, \n",
    "    pr_auc = pr_auc_xgb_micro,\n",
    "    roc_best_threshold = best_thresh_roc_curve_xgb_micro\n",
    ")\n",
    "\n",
    "#Displaying new evaluation metrics: PR Curve best threshold\n",
    "metrics_pr_xgb_micro = metrics_to_pandas(\n",
    "    model = 'XGBoost Micro',\n",
    "    precision = precision_pr_xgb_micro, \n",
    "    recall = recall_pr_xgb_micro, \n",
    "    fscore = fscore_pr_xgb_micro, \n",
    "    roc_auc = roc_auc_xgb_micro, \n",
    "    pr_auc = pr_auc_xgb_micro,\n",
    "    pr_best_threshold = best_thresh_pr_curve_xgb_micro\n",
    ")\n",
    "\n",
    "print(\"Metrics After threshold optimization - ROC best threshold: \")\n",
    "display(metrics_roc_xgb_micro)\n",
    "print(\"Metrics After threshold optimization - PR best threshold: \")\n",
    "display(metrics_pr_xgb_micro)"
   ]
  },
  {
   "cell_type": "code",
   "execution_count": 62,
   "metadata": {},
   "outputs": [],
   "source": [
    "metrics_perc_dict_micro['Model'].append('XGBoost Micro')\n",
    "metrics_perc_dict_micro['Default Threshold'].append(0.5)\n",
    "metrics_perc_dict_micro['Precision (%)'].append(precision_xgb_micro*100)\n",
    "metrics_perc_dict_micro['Recall (%)'].append(recall_xgb_micro*100)\n",
    "metrics_perc_dict_micro['F1 Score (%)'].append(fscore_xgb_micro*100)\n",
    "metrics_perc_dict_micro['ROC AUC'].append(roc_auc_xgb_micro)\n",
    "metrics_perc_dict_micro['PR AUC'].append(pr_auc_xgb_micro)\n",
    "\n",
    "metrics_perc_dict_roc_th_micro['Model'].append('XGBoost Micro')\n",
    "metrics_perc_dict_roc_th_micro['ROC Best Threshold'].append(best_thresh_roc_curve_xgb_micro)\n",
    "metrics_perc_dict_roc_th_micro['Precision (%)'].append(precision_roc_xgb_micro*100)\n",
    "metrics_perc_dict_roc_th_micro['Recall (%)'].append(recall_roc_xgb_micro*100)\n",
    "metrics_perc_dict_roc_th_micro['F1 Score (%)'].append(fscore_roc_xgb_micro*100)\n",
    "metrics_perc_dict_roc_th_micro['ROC AUC'].append(roc_auc_xgb_micro)\n",
    "metrics_perc_dict_roc_th_micro['PR AUC'].append(pr_auc_xgb_micro)\n",
    "\n",
    "metrics_perc_dict_pr_th_micro['Model'].append('XGBoost Micro')\n",
    "metrics_perc_dict_pr_th_micro['PR Best Threshold'].append(best_thresh_pr_curve_xgb_micro)\n",
    "metrics_perc_dict_pr_th_micro['Precision (%)'].append(precision_pr_xgb_micro*100)\n",
    "metrics_perc_dict_pr_th_micro['Recall (%)'].append(recall_pr_xgb_micro*100)\n",
    "metrics_perc_dict_pr_th_micro['F1 Score (%)'].append(fscore_pr_xgb_micro*100)\n",
    "metrics_perc_dict_pr_th_micro['ROC AUC'].append(roc_auc_xgb_micro)\n",
    "metrics_perc_dict_pr_th_micro['PR AUC'].append(pr_auc_xgb_micro)"
   ]
  },
  {
   "cell_type": "code",
   "execution_count": null,
   "metadata": {},
   "outputs": [],
   "source": []
  },
  {
   "cell_type": "markdown",
   "metadata": {},
   "source": [
    "# Summary"
   ]
  },
  {
   "cell_type": "code",
   "execution_count": 63,
   "metadata": {
    "scrolled": false
   },
   "outputs": [
    {
     "data": {
      "text/html": [
       "<div>\n",
       "<style scoped>\n",
       "    .dataframe tbody tr th:only-of-type {\n",
       "        vertical-align: middle;\n",
       "    }\n",
       "\n",
       "    .dataframe tbody tr th {\n",
       "        vertical-align: top;\n",
       "    }\n",
       "\n",
       "    .dataframe thead th {\n",
       "        text-align: right;\n",
       "    }\n",
       "</style>\n",
       "<table border=\"1\" class=\"dataframe\">\n",
       "  <thead>\n",
       "    <tr style=\"text-align: right;\">\n",
       "      <th></th>\n",
       "      <th>Model</th>\n",
       "      <th>Default Threshold</th>\n",
       "      <th>Precision (%)</th>\n",
       "      <th>Recall (%)</th>\n",
       "      <th>F1 Score (%)</th>\n",
       "      <th>ROC AUC</th>\n",
       "      <th>PR AUC</th>\n",
       "    </tr>\n",
       "  </thead>\n",
       "  <tbody>\n",
       "    <tr>\n",
       "      <th>0</th>\n",
       "      <td>Logistic Regression Micro</td>\n",
       "      <td>0.5</td>\n",
       "      <td>4.75846</td>\n",
       "      <td>59.0225</td>\n",
       "      <td>8.8069</td>\n",
       "      <td>0.704211</td>\n",
       "      <td>0.0756913</td>\n",
       "    </tr>\n",
       "    <tr>\n",
       "      <th>1</th>\n",
       "      <td>Random Forest Micro</td>\n",
       "      <td>0.5</td>\n",
       "      <td>5.2842</td>\n",
       "      <td>56.1575</td>\n",
       "      <td>9.65948</td>\n",
       "      <td>0.716906</td>\n",
       "      <td>0.0798355</td>\n",
       "    </tr>\n",
       "    <tr>\n",
       "      <th>2</th>\n",
       "      <td>Decision Tree Micro</td>\n",
       "      <td>0.5</td>\n",
       "      <td>7.65107</td>\n",
       "      <td>44.4062</td>\n",
       "      <td>13.0531</td>\n",
       "      <td>0.689376</td>\n",
       "      <td>0.0916564</td>\n",
       "    </tr>\n",
       "    <tr>\n",
       "      <th>3</th>\n",
       "      <td>Gradient-boosted Tree Micro</td>\n",
       "      <td>0.5</td>\n",
       "      <td>6.21126</td>\n",
       "      <td>62.904</td>\n",
       "      <td>11.3061</td>\n",
       "      <td>0.772177</td>\n",
       "      <td>0.104269</td>\n",
       "    </tr>\n",
       "    <tr>\n",
       "      <th>4</th>\n",
       "      <td>XGBoost Micro</td>\n",
       "      <td>0.5</td>\n",
       "      <td>7.15468</td>\n",
       "      <td>57.0475</td>\n",
       "      <td>12.7147</td>\n",
       "      <td>0.769127</td>\n",
       "      <td>0.103214</td>\n",
       "    </tr>\n",
       "  </tbody>\n",
       "</table>\n",
       "</div>"
      ],
      "text/plain": [
       "                         Model Default Threshold Precision (%) Recall (%)  \\\n",
       "0    Logistic Regression Micro               0.5       4.75846    59.0225   \n",
       "1          Random Forest Micro               0.5        5.2842    56.1575   \n",
       "2          Decision Tree Micro               0.5       7.65107    44.4062   \n",
       "3  Gradient-boosted Tree Micro               0.5       6.21126     62.904   \n",
       "4                XGBoost Micro               0.5       7.15468    57.0475   \n",
       "\n",
       "  F1 Score (%)   ROC AUC     PR AUC  \n",
       "0       8.8069  0.704211  0.0756913  \n",
       "1      9.65948  0.716906  0.0798355  \n",
       "2      13.0531  0.689376  0.0916564  \n",
       "3      11.3061  0.772177   0.104269  \n",
       "4      12.7147  0.769127   0.103214  "
      ]
     },
     "metadata": {},
     "output_type": "display_data"
    },
    {
     "data": {
      "text/html": [
       "<div>\n",
       "<style scoped>\n",
       "    .dataframe tbody tr th:only-of-type {\n",
       "        vertical-align: middle;\n",
       "    }\n",
       "\n",
       "    .dataframe tbody tr th {\n",
       "        vertical-align: top;\n",
       "    }\n",
       "\n",
       "    .dataframe thead th {\n",
       "        text-align: right;\n",
       "    }\n",
       "</style>\n",
       "<table border=\"1\" class=\"dataframe\">\n",
       "  <thead>\n",
       "    <tr style=\"text-align: right;\">\n",
       "      <th></th>\n",
       "      <th>Model</th>\n",
       "      <th>ROC Best Threshold</th>\n",
       "      <th>Precision (%)</th>\n",
       "      <th>Recall (%)</th>\n",
       "      <th>F1 Score (%)</th>\n",
       "      <th>ROC AUC</th>\n",
       "      <th>PR AUC</th>\n",
       "    </tr>\n",
       "  </thead>\n",
       "  <tbody>\n",
       "    <tr>\n",
       "      <th>0</th>\n",
       "      <td>Logistic Regression Micro</td>\n",
       "      <td>0.5076</td>\n",
       "      <td>4.92963</td>\n",
       "      <td>57.2796</td>\n",
       "      <td>9.07799</td>\n",
       "      <td>0.704211</td>\n",
       "      <td>0.0756913</td>\n",
       "    </tr>\n",
       "    <tr>\n",
       "      <th>1</th>\n",
       "      <td>Random Forest Micro</td>\n",
       "      <td>0.490283</td>\n",
       "      <td>4.93344</td>\n",
       "      <td>60.268</td>\n",
       "      <td>9.12031</td>\n",
       "      <td>0.716906</td>\n",
       "      <td>0.0798355</td>\n",
       "    </tr>\n",
       "    <tr>\n",
       "      <th>2</th>\n",
       "      <td>Decision Tree Micro</td>\n",
       "      <td>0.540309</td>\n",
       "      <td>7.65107</td>\n",
       "      <td>44.4062</td>\n",
       "      <td>13.0531</td>\n",
       "      <td>0.689376</td>\n",
       "      <td>0.0916564</td>\n",
       "    </tr>\n",
       "    <tr>\n",
       "      <th>3</th>\n",
       "      <td>Gradient-boosted Tree Micro</td>\n",
       "      <td>0.485099</td>\n",
       "      <td>5.86956</td>\n",
       "      <td>65.51</td>\n",
       "      <td>10.7738</td>\n",
       "      <td>0.772177</td>\n",
       "      <td>0.104269</td>\n",
       "    </tr>\n",
       "    <tr>\n",
       "      <th>4</th>\n",
       "      <td>XGBoost Micro</td>\n",
       "      <td>0.489229</td>\n",
       "      <td>6.25813</td>\n",
       "      <td>62.2149</td>\n",
       "      <td>11.3723</td>\n",
       "      <td>0.769127</td>\n",
       "      <td>0.103214</td>\n",
       "    </tr>\n",
       "  </tbody>\n",
       "</table>\n",
       "</div>"
      ],
      "text/plain": [
       "                         Model ROC Best Threshold Precision (%) Recall (%)  \\\n",
       "0    Logistic Regression Micro             0.5076       4.92963    57.2796   \n",
       "1          Random Forest Micro           0.490283       4.93344     60.268   \n",
       "2          Decision Tree Micro           0.540309       7.65107    44.4062   \n",
       "3  Gradient-boosted Tree Micro           0.485099       5.86956      65.51   \n",
       "4                XGBoost Micro           0.489229       6.25813    62.2149   \n",
       "\n",
       "  F1 Score (%)   ROC AUC     PR AUC  \n",
       "0      9.07799  0.704211  0.0756913  \n",
       "1      9.12031  0.716906  0.0798355  \n",
       "2      13.0531  0.689376  0.0916564  \n",
       "3      10.7738  0.772177   0.104269  \n",
       "4      11.3723  0.769127   0.103214  "
      ]
     },
     "metadata": {},
     "output_type": "display_data"
    },
    {
     "data": {
      "text/html": [
       "<div>\n",
       "<style scoped>\n",
       "    .dataframe tbody tr th:only-of-type {\n",
       "        vertical-align: middle;\n",
       "    }\n",
       "\n",
       "    .dataframe tbody tr th {\n",
       "        vertical-align: top;\n",
       "    }\n",
       "\n",
       "    .dataframe thead th {\n",
       "        text-align: right;\n",
       "    }\n",
       "</style>\n",
       "<table border=\"1\" class=\"dataframe\">\n",
       "  <thead>\n",
       "    <tr style=\"text-align: right;\">\n",
       "      <th></th>\n",
       "      <th>Model</th>\n",
       "      <th>PR Best Threshold</th>\n",
       "      <th>Precision (%)</th>\n",
       "      <th>Recall (%)</th>\n",
       "      <th>F1 Score (%)</th>\n",
       "      <th>ROC AUC</th>\n",
       "      <th>PR AUC</th>\n",
       "    </tr>\n",
       "  </thead>\n",
       "  <tbody>\n",
       "    <tr>\n",
       "      <th>0</th>\n",
       "      <td>Logistic Regression Micro</td>\n",
       "      <td>0.734524</td>\n",
       "      <td>12.454</td>\n",
       "      <td>22.9647</td>\n",
       "      <td>16.1498</td>\n",
       "      <td>0.704211</td>\n",
       "      <td>0.0756913</td>\n",
       "    </tr>\n",
       "    <tr>\n",
       "      <th>1</th>\n",
       "      <td>Random Forest Micro</td>\n",
       "      <td>0.567601</td>\n",
       "      <td>12.5718</td>\n",
       "      <td>25.9416</td>\n",
       "      <td>16.9361</td>\n",
       "      <td>0.716906</td>\n",
       "      <td>0.0798355</td>\n",
       "    </tr>\n",
       "    <tr>\n",
       "      <th>2</th>\n",
       "      <td>Decision Tree Micro</td>\n",
       "      <td>0.773542</td>\n",
       "      <td>11.6119</td>\n",
       "      <td>23.49</td>\n",
       "      <td>15.5413</td>\n",
       "      <td>0.689376</td>\n",
       "      <td>0.0916564</td>\n",
       "    </tr>\n",
       "    <tr>\n",
       "      <th>3</th>\n",
       "      <td>Gradient-boosted Tree Micro</td>\n",
       "      <td>0.772807</td>\n",
       "      <td>14.8278</td>\n",
       "      <td>30.1329</td>\n",
       "      <td>19.8753</td>\n",
       "      <td>0.772177</td>\n",
       "      <td>0.104269</td>\n",
       "    </tr>\n",
       "    <tr>\n",
       "      <th>4</th>\n",
       "      <td>XGBoost Micro</td>\n",
       "      <td>0.615333</td>\n",
       "      <td>15.1747</td>\n",
       "      <td>31.5142</td>\n",
       "      <td>20.4853</td>\n",
       "      <td>0.769127</td>\n",
       "      <td>0.103214</td>\n",
       "    </tr>\n",
       "  </tbody>\n",
       "</table>\n",
       "</div>"
      ],
      "text/plain": [
       "                         Model PR Best Threshold Precision (%) Recall (%)  \\\n",
       "0    Logistic Regression Micro          0.734524        12.454    22.9647   \n",
       "1          Random Forest Micro          0.567601       12.5718    25.9416   \n",
       "2          Decision Tree Micro          0.773542       11.6119      23.49   \n",
       "3  Gradient-boosted Tree Micro          0.772807       14.8278    30.1329   \n",
       "4                XGBoost Micro          0.615333       15.1747    31.5142   \n",
       "\n",
       "  F1 Score (%)   ROC AUC     PR AUC  \n",
       "0      16.1498  0.704211  0.0756913  \n",
       "1      16.9361  0.716906  0.0798355  \n",
       "2      15.5413  0.689376  0.0916564  \n",
       "3      19.8753  0.772177   0.104269  \n",
       "4      20.4853  0.769127   0.103214  "
      ]
     },
     "metadata": {},
     "output_type": "display_data"
    }
   ],
   "source": [
    "display(pd.DataFrame.from_dict(metrics_perc_dict_micro, orient='index').transpose())\n",
    "display(pd.DataFrame.from_dict(metrics_perc_dict_roc_th_micro, orient='index').transpose())\n",
    "display(pd.DataFrame.from_dict(metrics_perc_dict_pr_th_micro, orient='index').transpose())"
   ]
  },
  {
   "cell_type": "code",
   "execution_count": null,
   "metadata": {},
   "outputs": [],
   "source": []
  },
  {
   "cell_type": "markdown",
   "metadata": {},
   "source": [
    "# Best model optimization: Gradient-boosted Tree"
   ]
  },
  {
   "cell_type": "code",
   "execution_count": 64,
   "metadata": {},
   "outputs": [],
   "source": [
    "# Function that returns a random point of the exploration surface:\n",
    "import random\n",
    "import math\n",
    "\n",
    "# maxDepth: Maximum depth of the tree (>= 0)\n",
    "# maxBins: Maximum number of bins used for discretizing continuous features \n",
    "#          and for choosing how to split on features at each node. More bins give higher \n",
    "#          granularity. Must be >= 2 and >= number of categories in any categorical feature.\n",
    "# maxIter: Param for maximum number of iterations (>= 0).\n",
    "# stepSize: Param for Step size to be used for each iteration of optimization.\n",
    "# lossType: Loss function which GBT tries to minimize. For classification, must be \"logistic\". \n",
    "#           For regression, must be one of \"squared\" (L2) and \"absolute\" (L1), default is \"squared\".\n",
    "# seed: integer seed for random number generation.\n",
    "# subsamplingRate: Fraction of the training data used for learning each decision tree, in range (0, 1]\n",
    "# minInstancesPerNode: Minimum number of instances each child must have after split. If a split causes \n",
    "#                      the left or right child to have fewer than minInstancesPerNode, the split will \n",
    "#                      be discarded as invalid. Should be >= 1.\n",
    "# minInfoGain: Minimum information gain for a split to be considered at a tree node.\n",
    "# checkpointInterval: Param for set checkpoint interval (>= 1) or disable checkpoint (-1).\n",
    "\n",
    "def generate_random_configuration():\n",
    "    params = {'maxDepth': math.floor(random.uniform(1, 30)),\n",
    "              'maxBins': math.floor(random.uniform(2, 50)),\n",
    "              'minInstancesPerNode': math.floor(random.uniform(1, 10)),\n",
    "              'checkpointInterval': math.floor(random.uniform(1, 50)),\n",
    "              'maxIter': math.floor(random.uniform(10, 30)),\n",
    "              'stepSize': random.uniform(0.01, 1.0),\n",
    "              'subsamplingRate': random.uniform(0.01, 1)\n",
    "              }\n",
    "    return params"
   ]
  },
  {
   "cell_type": "markdown",
   "metadata": {},
   "source": [
    "#### Building"
   ]
  },
  {
   "cell_type": "code",
   "execution_count": 65,
   "metadata": {},
   "outputs": [],
   "source": [
    "from pyspark.ml.classification import GBTClassifier, GBTClassificationModel \n",
    "from pyspark.mllib.evaluation import BinaryClassificationMetrics"
   ]
  },
  {
   "cell_type": "code",
   "execution_count": 66,
   "metadata": {},
   "outputs": [],
   "source": [
    "used_params = []\n",
    "pr_auc_per_iter = []\n",
    "params_per_iter = []"
   ]
  },
  {
   "cell_type": "code",
   "execution_count": 67,
   "metadata": {},
   "outputs": [],
   "source": [
    "import time"
   ]
  },
  {
   "cell_type": "code",
   "execution_count": null,
   "metadata": {},
   "outputs": [
    {
     "name": "stdout",
     "output_type": "stream",
     "text": [
      "\n",
      "Iteration:  1\n",
      "{'maxDepth': 1, 'maxBins': 27, 'minInstancesPerNode': 3, 'checkpointInterval': 12, 'maxIter': 17, 'stepSize': 0.7399875533735216, 'subsamplingRate': 0.04385842817574173}\n",
      "PR AUC: 0.08413664766968339\n",
      "\n",
      "Iteration:  2\n",
      "{'maxDepth': 25, 'maxBins': 36, 'minInstancesPerNode': 5, 'checkpointInterval': 25, 'maxIter': 17, 'stepSize': 0.17400558460141324, 'subsamplingRate': 0.8637712030341208}\n"
     ]
    }
   ],
   "source": [
    "timeout_start = time.time()\n",
    "timeout = 25200   # [seconds]\n",
    "i = 1\n",
    "while (time.time() < timeout_start + timeout):\n",
    "    # Generate random parameters\n",
    "    params = generate_random_configuration()\n",
    "    print()\n",
    "    print('Iteration: ', i)\n",
    "    print(params)\n",
    "    # Check if the parameters have been used already\n",
    "    params_list = [\n",
    "        params['maxDepth'], params['maxBins'], params['minInstancesPerNode'], \n",
    "        params['checkpointInterval'], params['maxIter'],\n",
    "        params['stepSize'], params['subsamplingRate']\n",
    "        ]\n",
    "    if (params_list in used_params): pass\n",
    "    else:\n",
    "        # If the parameters have not been used, train a GBT model usin those parameters\n",
    "        gbt_micro_final = GBTClassifier(\n",
    "            labelCol='label', featuresCol=\"features\", maxDepth = params['maxDepth'], maxBins = params['maxBins'], \n",
    "            minInstancesPerNode = params['minInstancesPerNode'], checkpointInterval = params['checkpointInterval'], \n",
    "            maxIter = params['maxIter'], stepSize = params['stepSize'], subsamplingRate = params['subsamplingRate']\n",
    "        )\n",
    "        gbt_model_micro_final = gbt_micro_final.fit(assembled_train_set_micro)\n",
    "        predict_test_gbt_micro_final = gbt_model_micro_final.transform(assembled_test_set_micro)\n",
    "        predict_test_gbt_micro_final = split_proba_column(predictions_df = predict_test_gbt_micro_final, proba_col = 'probability')\n",
    "        # Evaluate the current model\n",
    "        predictionAndLabels = predict_test_gbt_micro_final.select('churn_probability', 'label').cache()\n",
    "        metrics = BinaryClassificationMetrics(predictionAndLabels.rdd)\n",
    "        \n",
    "        # Update list of auc and params\n",
    "        pr_auc = metrics.areaUnderPR\n",
    "        pr_auc_per_iter.append(pr_auc)\n",
    "        params_per_iter.append(params)\n",
    "        \n",
    "        # Save the current list on the filesystem not to lose them\n",
    "        with open(os.getcwd()+\"/random_search/pr_auc_per_iter_micro.pickle\", 'wb') as file:\n",
    "            pickle.dump(pr_auc_per_iter, file, protocol=pickle.HIGHEST_PROTOCOL)\n",
    "        \n",
    "        with open(os.getcwd()+\"/random_search/params_per_iter_micro.pickle\", 'wb') as file:\n",
    "            pickle.dump(params_per_iter, file, protocol=pickle.HIGHEST_PROTOCOL)\n",
    "        \n",
    "        \n",
    "        \n",
    "        used_params.append(params_list)\n",
    "        print(\"PR AUC: {}\".format(pr_auc))\n",
    "        \n",
    "    i = i + 1"
   ]
  },
  {
   "cell_type": "code",
   "execution_count": null,
   "metadata": {},
   "outputs": [],
   "source": [
    "#with open(os.getcwd()+\"/random_search/pr_auc_per_iter_micro.pickle\", 'rb') as file:\n",
    "#    pr_auc_per_iter = pickle.load(file)\n",
    "    \n",
    "#with open(os.getcwd()+\"/random_search/params_per_iter_micro.pickle\", 'rb') as file:\n",
    "#    params_per_iter = pickle.load(file)"
   ]
  },
  {
   "cell_type": "code",
   "execution_count": null,
   "metadata": {},
   "outputs": [],
   "source": [
    "max_index = nanargmax(pr_auc_per_iter)\n",
    "best_params = params_per_iter[max_index]\n",
    "print('Best PR AUC: {}'.format(pr_auc_per_iter[max_index]))\n",
    "print('Best Parameters: {}'.format(best_params))"
   ]
  },
  {
   "cell_type": "code",
   "execution_count": null,
   "metadata": {},
   "outputs": [],
   "source": [
    "gbt_micro_final = GBTClassifier(\n",
    "    labelCol='label', featuresCol=\"features\", maxDepth = best_params['maxDepth'], maxBins = best_params['maxBins'], \n",
    "    minInstancesPerNode = best_params['minInstancesPerNode'], checkpointInterval = best_params['checkpointInterval'], \n",
    "    maxIter = best_params['maxIter'], stepSize = best_params['stepSize'], subsamplingRate = best_params['subsamplingRate']\n",
    ")\n",
    "gbt_model_micro_final = gbt_micro_final.fit(assembled_train_set_micro)\n",
    "predict_test_gbt_micro_final = gbt_model_micro_final.transform(assembled_test_set_micro)"
   ]
  },
  {
   "cell_type": "code",
   "execution_count": null,
   "metadata": {},
   "outputs": [],
   "source": [
    "gbt_model_micro_final.save('/bda/anx_adv_achurn/durand/models/gbt_model_micro_final')\n",
    "#gbt_model_micro_final = GBTClassificationModel.load('/bda/anx_adv_achurn/durand/models/gbt_model_micro_final')"
   ]
  },
  {
   "cell_type": "code",
   "execution_count": null,
   "metadata": {},
   "outputs": [],
   "source": [
    "predict_test_gbt_micro_final = split_proba_column(predictions_df = predict_test_gbt_micro_final, proba_col = 'probability')\n",
    "cm_gbt_micro_final = conpute_confusion_matrix(predict_test_gbt_micro_final, 'prediction', 'label')\n",
    "results_gbt_micro_final = predict_test_gbt_micro_final.select('label', 'probability', 'stay_probability', 'churn_probability', 'prediction').toPandas()"
   ]
  },
  {
   "cell_type": "markdown",
   "metadata": {},
   "source": [
    "#### Evaluation"
   ]
  },
  {
   "cell_type": "code",
   "execution_count": 266,
   "metadata": {},
   "outputs": [
    {
     "data": {
      "image/png": "[encoded data removed]",
      "text/plain": [
       "<Figure size 432x288 with 1 Axes>"
      ]
     },
     "metadata": {
      "needs_background": "light"
     },
     "output_type": "display_data"
    },
    {
     "name": "stdout",
     "output_type": "stream",
     "text": [
      "\n"
     ]
    },
    {
     "data": {
      "image/png": "[encoded data removed]",
      "text/plain": [
       "<Figure size 432x288 with 1 Axes>"
      ]
     },
     "metadata": {
      "needs_background": "light"
     },
     "output_type": "display_data"
    }
   ],
   "source": [
    "# Best threshold calculation and areas under the curves \n",
    "roc_auc_gbt_micro_final, pr_auc_gbt_micro_final, best_thresh_roc_curve_gbt_micro_final, best_thresh_pr_curve_gbt_micro_final = find_best_threshold(\n",
    "    predictions_df = results_gbt_micro_final,\n",
    "    label_col = 'label',\n",
    "    churn_proba_col = 'churn_probability',\n",
    "    model_name = 'Gradient-boosted Tree'\n",
    ")"
   ]
  },
  {
   "cell_type": "code",
   "execution_count": 267,
   "metadata": {},
   "outputs": [],
   "source": [
    "# Threshold optimization: with ROC Curve best threshold\n",
    "predict_test_gbt_micro_final = get_optimal_threshold_results(\n",
    "    predictions_df = predict_test_gbt_micro_final, \n",
    "    threshold = best_thresh_roc_curve_gbt_micro_final,\n",
    "    proba_col = 'churn_probability',\n",
    "    new_prediction_col = 'prediction_roc_th'\n",
    ")\n",
    "# Threshold optimization: with PR Curve best threshold\n",
    "predict_test_gbt_micro_final = get_optimal_threshold_results(\n",
    "    predictions_df = predict_test_gbt_micro_final, \n",
    "    threshold = best_thresh_pr_curve_gbt_micro_final,\n",
    "    proba_col = 'churn_probability',\n",
    "    new_prediction_col = 'prediction_pr_th'\n",
    ")"
   ]
  },
  {
   "cell_type": "code",
   "execution_count": 268,
   "metadata": {},
   "outputs": [],
   "source": [
    "# Computing the new confusion matrix: ROC Curve best threshold\n",
    "cm_roc_gbt_micro_final = conpute_confusion_matrix(predict_test_gbt_micro_final, 'prediction_roc_th', 'label')\n",
    "\n",
    "# Computing the new confusion matrix: PR Curve best threshold\n",
    "cm_pr_gbt_micro_final = conpute_confusion_matrix(predict_test_gbt_micro_final, 'prediction_pr_th', 'label')"
   ]
  },
  {
   "cell_type": "code",
   "execution_count": 269,
   "metadata": {},
   "outputs": [
    {
     "data": {
      "image/png": "[encoded data removed]",
      "text/plain": [
       "<Figure size 432x288 with 2 Axes>"
      ]
     },
     "metadata": {
      "needs_background": "light"
     },
     "output_type": "display_data"
    },
    {
     "data": {
      "image/png": "[encoded data removed]",
      "text/plain": [
       "<Figure size 432x288 with 2 Axes>"
      ]
     },
     "metadata": {
      "needs_background": "light"
     },
     "output_type": "display_data"
    },
    {
     "data": {
      "image/png": "[encoded data removed]",
      "text/plain": [
       "<Figure size 432x288 with 2 Axes>"
      ]
     },
     "metadata": {
      "needs_background": "light"
     },
     "output_type": "display_data"
    }
   ],
   "source": [
    "# Evaluation metrics calculation\n",
    "precision_gbt_micro_final, recall_gbt_micro_final, fscore_gbt_micro_final = evaluate_model(\n",
    "    confusion_matrix = cm_gbt_micro_final,  \n",
    "    model_name = 'Gradient-boosted Tree'\n",
    ")\n",
    "\n",
    "# Computing new evaluation metrics: ROC Curve best threshold\n",
    "precision_roc_gbt_micro_final, recall_roc_gbt_micro_final, fscore_roc_gbt_micro_final = evaluate_model(\n",
    "    confusion_matrix = cm_roc_gbt_micro_final,\n",
    "    model_name = 'Gradient-boosted Tree ROC best Threshold'\n",
    ")\n",
    "\n",
    "# Computing new evaluation metrics: PR Curve best threshold\n",
    "precision_pr_gbt_micro_final, recall_pr_gbt_micro_final, fscore_pr_gbt_micro_final = evaluate_model(\n",
    "    confusion_matrix = cm_pr_gbt_micro_final,\n",
    "    model_name = 'Gradient-boosted Tree PR best Threshold'\n",
    ")"
   ]
  },
  {
   "cell_type": "code",
   "execution_count": 270,
   "metadata": {},
   "outputs": [
    {
     "name": "stdout",
     "output_type": "stream",
     "text": [
      "Metrics before threshold optimization: \n"
     ]
    },
    {
     "data": {
      "text/html": [
       "<div>\n",
       "<style scoped>\n",
       "    .dataframe tbody tr th:only-of-type {\n",
       "        vertical-align: middle;\n",
       "    }\n",
       "\n",
       "    .dataframe tbody tr th {\n",
       "        vertical-align: top;\n",
       "    }\n",
       "\n",
       "    .dataframe thead th {\n",
       "        text-align: right;\n",
       "    }\n",
       "</style>\n",
       "<table border=\"1\" class=\"dataframe\">\n",
       "  <thead>\n",
       "    <tr style=\"text-align: right;\">\n",
       "      <th></th>\n",
       "      <th>Model</th>\n",
       "      <th>Default Threshold</th>\n",
       "      <th>Precision (%)</th>\n",
       "      <th>Recall (%)</th>\n",
       "      <th>F1 Score (%)</th>\n",
       "      <th>ROC AUC</th>\n",
       "      <th>PR AUC</th>\n",
       "    </tr>\n",
       "  </thead>\n",
       "  <tbody>\n",
       "    <tr>\n",
       "      <th>0</th>\n",
       "      <td>Gradient-boosted Tree Small-Medium</td>\n",
       "      <td>0.5</td>\n",
       "      <td>7.32602</td>\n",
       "      <td>69.5662</td>\n",
       "      <td>13.256</td>\n",
       "      <td>0.794414</td>\n",
       "      <td>0.138775</td>\n",
       "    </tr>\n",
       "  </tbody>\n",
       "</table>\n",
       "</div>"
      ],
      "text/plain": [
       "                                Model Default Threshold Precision (%)  \\\n",
       "0  Gradient-boosted Tree Small-Medium               0.5       7.32602   \n",
       "\n",
       "  Recall (%) F1 Score (%)   ROC AUC    PR AUC  \n",
       "0    69.5662       13.256  0.794414  0.138775  "
      ]
     },
     "metadata": {},
     "output_type": "display_data"
    },
    {
     "name": "stdout",
     "output_type": "stream",
     "text": [
      "Metrics After threshold optimization - ROC best threshold: \n"
     ]
    },
    {
     "data": {
      "text/html": [
       "<div>\n",
       "<style scoped>\n",
       "    .dataframe tbody tr th:only-of-type {\n",
       "        vertical-align: middle;\n",
       "    }\n",
       "\n",
       "    .dataframe tbody tr th {\n",
       "        vertical-align: top;\n",
       "    }\n",
       "\n",
       "    .dataframe thead th {\n",
       "        text-align: right;\n",
       "    }\n",
       "</style>\n",
       "<table border=\"1\" class=\"dataframe\">\n",
       "  <thead>\n",
       "    <tr style=\"text-align: right;\">\n",
       "      <th></th>\n",
       "      <th>Model</th>\n",
       "      <th>ROC Best Threshold</th>\n",
       "      <th>Precision (%)</th>\n",
       "      <th>Recall (%)</th>\n",
       "      <th>F1 Score (%)</th>\n",
       "      <th>ROC AUC</th>\n",
       "      <th>PR AUC</th>\n",
       "    </tr>\n",
       "  </thead>\n",
       "  <tbody>\n",
       "    <tr>\n",
       "      <th>0</th>\n",
       "      <td>Gradient-boosted Tree Small-Medium</td>\n",
       "      <td>0.516924</td>\n",
       "      <td>7.78391</td>\n",
       "      <td>67.1924</td>\n",
       "      <td>13.9516</td>\n",
       "      <td>0.794414</td>\n",
       "      <td>0.138775</td>\n",
       "    </tr>\n",
       "  </tbody>\n",
       "</table>\n",
       "</div>"
      ],
      "text/plain": [
       "                                Model ROC Best Threshold Precision (%)  \\\n",
       "0  Gradient-boosted Tree Small-Medium           0.516924       7.78391   \n",
       "\n",
       "  Recall (%) F1 Score (%)   ROC AUC    PR AUC  \n",
       "0    67.1924      13.9516  0.794414  0.138775  "
      ]
     },
     "metadata": {},
     "output_type": "display_data"
    },
    {
     "name": "stdout",
     "output_type": "stream",
     "text": [
      "Metrics After threshold optimization - PR best threshold: \n"
     ]
    },
    {
     "data": {
      "text/html": [
       "<div>\n",
       "<style scoped>\n",
       "    .dataframe tbody tr th:only-of-type {\n",
       "        vertical-align: middle;\n",
       "    }\n",
       "\n",
       "    .dataframe tbody tr th {\n",
       "        vertical-align: top;\n",
       "    }\n",
       "\n",
       "    .dataframe thead th {\n",
       "        text-align: right;\n",
       "    }\n",
       "</style>\n",
       "<table border=\"1\" class=\"dataframe\">\n",
       "  <thead>\n",
       "    <tr style=\"text-align: right;\">\n",
       "      <th></th>\n",
       "      <th>Model</th>\n",
       "      <th>PR Best Threshold</th>\n",
       "      <th>Precision (%)</th>\n",
       "      <th>Recall (%)</th>\n",
       "      <th>F1 Score (%)</th>\n",
       "      <th>ROC AUC</th>\n",
       "      <th>PR AUC</th>\n",
       "    </tr>\n",
       "  </thead>\n",
       "  <tbody>\n",
       "    <tr>\n",
       "      <th>0</th>\n",
       "      <td>Gradient-boosted Tree Small-Medium</td>\n",
       "      <td>0.774121</td>\n",
       "      <td>18.1347</td>\n",
       "      <td>35.2823</td>\n",
       "      <td>23.9562</td>\n",
       "      <td>0.794414</td>\n",
       "      <td>0.138775</td>\n",
       "    </tr>\n",
       "  </tbody>\n",
       "</table>\n",
       "</div>"
      ],
      "text/plain": [
       "                                Model PR Best Threshold Precision (%)  \\\n",
       "0  Gradient-boosted Tree Small-Medium          0.774121       18.1347   \n",
       "\n",
       "  Recall (%) F1 Score (%)   ROC AUC    PR AUC  \n",
       "0    35.2823      23.9562  0.794414  0.138775  "
      ]
     },
     "metadata": {},
     "output_type": "display_data"
    }
   ],
   "source": [
    "#Displaying Evaluation metrics as pandas dataframe\n",
    "metrics_gbt_micro_final = metrics_to_pandas(\n",
    "    model = 'Gradient-boosted Tree Micro-Final',\n",
    "    precision = precision_gbt_micro_final, \n",
    "    recall = recall_gbt_micro_final, \n",
    "    fscore = fscore_gbt_micro_final, \n",
    "    roc_auc = roc_auc_gbt_micro_final, \n",
    "    pr_auc = pr_auc_gbt_micro_final\n",
    ")\n",
    "print(\"Metrics before threshold optimization: \")\n",
    "display(metrics_gbt_micro_final)\n",
    "\n",
    "#Displaying new evaluation metrics: ROC Curve best threshold\n",
    "metrics_roc_gbt_micro_final = metrics_to_pandas(\n",
    "    model = 'Gradient-boosted Tree Micro-Final',\n",
    "    precision = precision_roc_gbt_micro_final, \n",
    "    recall = recall_roc_gbt_micro_final, \n",
    "    fscore = fscore_roc_gbt_micro_final, \n",
    "    roc_auc = roc_auc_gbt_micro_final, \n",
    "    pr_auc = pr_auc_gbt_micro_final,\n",
    "    roc_best_threshold = best_thresh_roc_curve_gbt_micro_final\n",
    ")\n",
    "\n",
    "#Displaying new evaluation metrics: PR Curve best threshold\n",
    "metrics_pr_gbt_micro_final = metrics_to_pandas(\n",
    "    model = 'Gradient-boosted Tree Micro-Final',\n",
    "    precision = precision_pr_gbt_micro_final, \n",
    "    recall = recall_pr_gbt_micro_final, \n",
    "    fscore = fscore_pr_gbt_micro_final, \n",
    "    roc_auc = roc_auc_gbt_micro_final, \n",
    "    pr_auc = pr_auc_gbt_micro_final,\n",
    "    pr_best_threshold = best_thresh_pr_curve_gbt_micro_final\n",
    ")\n",
    "\n",
    "print(\"Metrics After threshold optimization - ROC best threshold: \")\n",
    "display(metrics_roc_gbt_micro_final)\n",
    "print(\"Metrics After threshold optimization - PR best threshold: \")\n",
    "display(metrics_pr_gbt_micro_final)"
   ]
  },
  {
   "cell_type": "code",
   "execution_count": null,
   "metadata": {},
   "outputs": [],
   "source": []
  },
  {
   "cell_type": "code",
   "execution_count": null,
   "metadata": {},
   "outputs": [],
   "source": []
  },
  {
   "cell_type": "code",
   "execution_count": null,
   "metadata": {},
   "outputs": [],
   "source": [
    "session.stop()"
   ]
  }
 ],
 "metadata": {
  "kernelspec": {
   "display_name": "Python 3",
   "language": "python",
   "name": "python3"
  },
  "language_info": {
   "codemirror_mode": {
    "name": "ipython",
    "version": 3
   },
   "file_extension": ".py",
   "mimetype": "text/x-python",
   "name": "python",
   "nbconvert_exporter": "python",
   "pygments_lexer": "ipython3",
   "version": "3.7.7"
  }
 },
 "nbformat": 4,
 "nbformat_minor": 4
}
